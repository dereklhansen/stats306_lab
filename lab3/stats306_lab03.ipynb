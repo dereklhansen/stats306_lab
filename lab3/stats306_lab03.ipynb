{
 "cells": [
  {
   "cell_type": "markdown",
   "metadata": {},
   "source": [
    "# Lab 3: Data Manipulation\n"
   ]
  },
  {
   "cell_type": "markdown",
   "metadata": {},
   "source": [
    "Derek Hansen (credit to Brian Manzo)\n",
    "\n",
    "Wednesday, September 22, 2020\n",
    "1:00PM-2:30PM"
   ]
  },
  {
   "cell_type": "markdown",
   "metadata": {},
   "source": [
    "# Preliminaries\n",
    "\n",
    "1. Piazza reminders\n",
    "    - When asking a homework question, gather all relevant information to your problem to make it *reproduceable*\n",
    "        - What operating system are you using (Windows/Mac)\n",
    "        - What version of R are you using?\n",
    "        - What versions of packages are you using? (run sessionInfo() after loading packages to see)\n",
    "        - What code did you run before running into your problem?\n",
    "        - What does the output say?\n",
    "        - Take a screenshot or picture for best results\n",
    "1. I've finished grading HW0 and HW1; grades should be up shortly.\n",
    "    - Rubric and answer sheet posted\n",
    "    - Not feasible to leave comments on Jupyter\n",
    "    - Come to office hours if you want to discuss your homework\n",
    "1. Google Colab demonstration"
   ]
  },
  {
   "cell_type": "markdown",
   "metadata": {},
   "source": [
    "# Google CoLab"
   ]
  },
  {
   "cell_type": "markdown",
   "metadata": {},
   "source": [
    "Here are some instructions for getting started with Colab. \n",
    "\n",
    "1.  Download the homework/lecture from canvas (.ipynb file). \n",
    "1.  Open Google colab and choose the \"upload\" option. Choose the file you've downloaded from Canvas. You can also just upload the notebook to your google drive, and then choose open with Google Colaboratory (as I show in the screenshot). If you want to make a new notebook from scratch, you can use this link.\n",
    "![screen1](screen1.png)\n",
    "    1.   To make sure the notebook is running R, and not Python, you can check Runtime --> choose runtime type --> make sure it says R (like the picture below). \n",
    "![screen2](screen2.png)\n",
    "1.  Use the notebook as you would in Jupyter. If you need to use an external dataset (i.e., newflight), you can upload it to the notebook by choosing the folder icon on the side of your screen and then clicking the \"upload\" icon on the left. The data won't stay there across sessions, so the only annoying thing here is you have to reupload the data each time you work on the assignment (hopefully this isn't too burdensome). \n",
    "![screen3](screen3.png)\n",
    "1. I encountered an error when making certain kinds of ggplots. If you also get an error, you can try adding this snippet of code after you load tidyverse. "
   ]
  },
  {
   "cell_type": "markdown",
   "metadata": {},
   "source": []
  },
  {
   "cell_type": "raw",
   "metadata": {},
   "source": [
    "require(devtools)\n",
    "install_version(\"farver\", version = \"2.0.2\", repos = \"http://cran.us.r-project.org\")\n",
    "library(farver)"
   ]
  },
  {
   "cell_type": "markdown",
   "metadata": {},
   "source": [
    "# 2013 Men's French Open (Tennis)"
   ]
  },
  {
   "cell_type": "code",
   "execution_count": 1,
   "metadata": {
    "scrolled": false
   },
   "outputs": [
    {
     "name": "stderr",
     "output_type": "stream",
     "text": [
      "── \u001b[1mAttaching packages\u001b[22m ─────────────────────────────────────── tidyverse 1.3.0 ──\n",
      "\n",
      "\u001b[32m✔\u001b[39m \u001b[34mggplot2\u001b[39m 3.3.2     \u001b[32m✔\u001b[39m \u001b[34mpurrr  \u001b[39m 0.3.4\n",
      "\u001b[32m✔\u001b[39m \u001b[34mtibble \u001b[39m 3.0.3     \u001b[32m✔\u001b[39m \u001b[34mdplyr  \u001b[39m 1.0.2\n",
      "\u001b[32m✔\u001b[39m \u001b[34mtidyr  \u001b[39m 1.1.2     \u001b[32m✔\u001b[39m \u001b[34mstringr\u001b[39m 1.4.0\n",
      "\u001b[32m✔\u001b[39m \u001b[34mreadr  \u001b[39m 1.3.1     \u001b[32m✔\u001b[39m \u001b[34mforcats\u001b[39m 0.4.0\n",
      "\n",
      "── \u001b[1mConflicts\u001b[22m ────────────────────────────────────────── tidyverse_conflicts() ──\n",
      "\u001b[31m✖\u001b[39m \u001b[34mdplyr\u001b[39m::\u001b[32mfilter()\u001b[39m masks \u001b[34mstats\u001b[39m::filter()\n",
      "\u001b[31m✖\u001b[39m \u001b[34mdplyr\u001b[39m::\u001b[32mlag()\u001b[39m    masks \u001b[34mstats\u001b[39m::lag()\n",
      "\n"
     ]
    }
   ],
   "source": [
    "library(tidyverse) # load tidyverse"
   ]
  },
  {
   "cell_type": "code",
   "execution_count": 2,
   "metadata": {},
   "outputs": [
    {
     "name": "stderr",
     "output_type": "stream",
     "text": [
      "Parsed with column specification:\n",
      "cols(\n",
      "  .default = col_double(),\n",
      "  Player1 = \u001b[31mcol_character()\u001b[39m,\n",
      "  Player2 = \u001b[31mcol_character()\u001b[39m\n",
      ")\n",
      "\n",
      "See spec(...) for full column specifications.\n",
      "\n"
     ]
    }
   ],
   "source": [
    "tennis_data = read_csv('FrenchOpen-men-2013.csv')"
   ]
  },
  {
   "cell_type": "markdown",
   "metadata": {},
   "source": [
    "You can download data directly from websites if you pass the URL. This is useful for downloading from Github, and especially useful for Google CoLab."
   ]
  },
  {
   "cell_type": "code",
   "execution_count": 3,
   "metadata": {},
   "outputs": [
    {
     "name": "stderr",
     "output_type": "stream",
     "text": [
      "Parsed with column specification:\n",
      "cols(\n",
      "  .default = col_double(),\n",
      "  Player1 = \u001b[31mcol_character()\u001b[39m,\n",
      "  Player2 = \u001b[31mcol_character()\u001b[39m\n",
      ")\n",
      "\n",
      "See spec(...) for full column specifications.\n",
      "\n"
     ]
    }
   ],
   "source": [
    "tennis_data = read_csv('https://raw.githubusercontent.com/bmanzo/stats306_labs/master/lab03/FrenchOpen-men-2013.csv')"
   ]
  },
  {
   "cell_type": "code",
   "execution_count": 4,
   "metadata": {},
   "outputs": [
    {
     "data": {
      "text/html": [
       "<table>\n",
       "<thead><tr><th scope=col>Player1</th><th scope=col>Player2</th><th scope=col>Round</th><th scope=col>Result</th><th scope=col>FNL.1</th><th scope=col>FNL.2</th><th scope=col>FSP.1</th><th scope=col>FSW.1</th><th scope=col>SSP.1</th><th scope=col>SSW.1</th><th scope=col>...</th><th scope=col>BPC.2</th><th scope=col>BPW.2</th><th scope=col>NPA.2</th><th scope=col>NPW.2</th><th scope=col>TPW.2</th><th scope=col>ST1.2</th><th scope=col>ST2.2</th><th scope=col>ST3.2</th><th scope=col>ST4.2</th><th scope=col>ST5.2</th></tr></thead>\n",
       "<tbody>\n",
       "\t<tr><td>Pablo Carreno-Busta    </td><td>Roger Federer          </td><td>1                      </td><td>0                      </td><td>0                      </td><td>3                      </td><td>62                     </td><td>27                     </td><td>38                     </td><td>11                     </td><td>...                    </td><td> 7                     </td><td> 7                     </td><td>14                     </td><td>18                     </td><td> 88                    </td><td>6                      </td><td>6                      </td><td>6                      </td><td>NA                     </td><td>NA                     </td></tr>\n",
       "\t<tr><td>Somdev Devvarman       </td><td>Daniel Munoz-De La Nava</td><td>1                      </td><td>1                      </td><td>3                      </td><td>0                      </td><td>62                     </td><td>54                     </td><td>38                     </td><td>22                     </td><td>...                    </td><td> 1                     </td><td>16                     </td><td>22                     </td><td>25                     </td><td>106                    </td><td>3                      </td><td>3                      </td><td>5                      </td><td>NA                     </td><td>NA                     </td></tr>\n",
       "\t<tr><td>Tobias Kamke           </td><td>Paolo Lorenzi          </td><td>1                      </td><td>1                      </td><td>3                      </td><td>2                      </td><td>62                     </td><td>53                     </td><td>38                     </td><td>15                     </td><td>...                    </td><td>10                     </td><td>18                     </td><td>19                     </td><td>27                     </td><td>139                    </td><td>3                      </td><td>3                      </td><td>6                      </td><td> 6                     </td><td> 3                     </td></tr>\n",
       "\t<tr><td>Julien Benneteau       </td><td>Ricardas Berankis      </td><td>1                      </td><td>1                      </td><td>3                      </td><td>1                      </td><td>72                     </td><td>87                     </td><td>28                     </td><td>19                     </td><td>...                    </td><td> 4                     </td><td>13                     </td><td>33                     </td><td>43                     </td><td>149                    </td><td>6                      </td><td>3                      </td><td>7                      </td><td> 6                     </td><td>NA                     </td></tr>\n",
       "\t<tr><td>Lukas Lacko            </td><td>Sam Querrey            </td><td>1                      </td><td>0                      </td><td>0                      </td><td>3                      </td><td>52                     </td><td>31                     </td><td>48                     </td><td>22                     </td><td>...                    </td><td> 4                     </td><td> 7                     </td><td>12                     </td><td>13                     </td><td> 93                    </td><td>6                      </td><td>6                      </td><td>6                      </td><td>NA                     </td><td>NA                     </td></tr>\n",
       "\t<tr><td>Jan Hajek              </td><td>Denis Kudla            </td><td>1                      </td><td>1                      </td><td>3                      </td><td>1                      </td><td>70                     </td><td>58                     </td><td>30                     </td><td>18                     </td><td>...                    </td><td> 1                     </td><td> 7                     </td><td> 6                     </td><td> 9                     </td><td> 93                    </td><td>2                      </td><td>7                      </td><td>0                      </td><td> 4                     </td><td>NA                     </td></tr>\n",
       "</tbody>\n",
       "</table>\n"
      ],
      "text/latex": [
       "\\begin{tabular}{r|llllllllllllllllllllllllllllllllllllllllll}\n",
       " Player1 & Player2 & Round & Result & FNL.1 & FNL.2 & FSP.1 & FSW.1 & SSP.1 & SSW.1 & ... & BPC.2 & BPW.2 & NPA.2 & NPW.2 & TPW.2 & ST1.2 & ST2.2 & ST3.2 & ST4.2 & ST5.2\\\\\n",
       "\\hline\n",
       "\t Pablo Carreno-Busta     & Roger Federer           & 1                       & 0                       & 0                       & 3                       & 62                      & 27                      & 38                      & 11                      & ...                     &  7                      &  7                      & 14                      & 18                      &  88                     & 6                       & 6                       & 6                       & NA                      & NA                     \\\\\n",
       "\t Somdev Devvarman        & Daniel Munoz-De La Nava & 1                       & 1                       & 3                       & 0                       & 62                      & 54                      & 38                      & 22                      & ...                     &  1                      & 16                      & 22                      & 25                      & 106                     & 3                       & 3                       & 5                       & NA                      & NA                     \\\\\n",
       "\t Tobias Kamke            & Paolo Lorenzi           & 1                       & 1                       & 3                       & 2                       & 62                      & 53                      & 38                      & 15                      & ...                     & 10                      & 18                      & 19                      & 27                      & 139                     & 3                       & 3                       & 6                       &  6                      &  3                     \\\\\n",
       "\t Julien Benneteau        & Ricardas Berankis       & 1                       & 1                       & 3                       & 1                       & 72                      & 87                      & 28                      & 19                      & ...                     &  4                      & 13                      & 33                      & 43                      & 149                     & 6                       & 3                       & 7                       &  6                      & NA                     \\\\\n",
       "\t Lukas Lacko             & Sam Querrey             & 1                       & 0                       & 0                       & 3                       & 52                      & 31                      & 48                      & 22                      & ...                     &  4                      &  7                      & 12                      & 13                      &  93                     & 6                       & 6                       & 6                       & NA                      & NA                     \\\\\n",
       "\t Jan Hajek               & Denis Kudla             & 1                       & 1                       & 3                       & 1                       & 70                      & 58                      & 30                      & 18                      & ...                     &  1                      &  7                      &  6                      &  9                      &  93                     & 2                       & 7                       & 0                       &  4                      & NA                     \\\\\n",
       "\\end{tabular}\n"
      ],
      "text/markdown": [
       "\n",
       "| Player1 | Player2 | Round | Result | FNL.1 | FNL.2 | FSP.1 | FSW.1 | SSP.1 | SSW.1 | ... | BPC.2 | BPW.2 | NPA.2 | NPW.2 | TPW.2 | ST1.2 | ST2.2 | ST3.2 | ST4.2 | ST5.2 |\n",
       "|---|---|---|---|---|---|---|---|---|---|---|---|---|---|---|---|---|---|---|---|---|\n",
       "| Pablo Carreno-Busta     | Roger Federer           | 1                       | 0                       | 0                       | 3                       | 62                      | 27                      | 38                      | 11                      | ...                     |  7                      |  7                      | 14                      | 18                      |  88                     | 6                       | 6                       | 6                       | NA                      | NA                      |\n",
       "| Somdev Devvarman        | Daniel Munoz-De La Nava | 1                       | 1                       | 3                       | 0                       | 62                      | 54                      | 38                      | 22                      | ...                     |  1                      | 16                      | 22                      | 25                      | 106                     | 3                       | 3                       | 5                       | NA                      | NA                      |\n",
       "| Tobias Kamke            | Paolo Lorenzi           | 1                       | 1                       | 3                       | 2                       | 62                      | 53                      | 38                      | 15                      | ...                     | 10                      | 18                      | 19                      | 27                      | 139                     | 3                       | 3                       | 6                       |  6                      |  3                      |\n",
       "| Julien Benneteau        | Ricardas Berankis       | 1                       | 1                       | 3                       | 1                       | 72                      | 87                      | 28                      | 19                      | ...                     |  4                      | 13                      | 33                      | 43                      | 149                     | 6                       | 3                       | 7                       |  6                      | NA                      |\n",
       "| Lukas Lacko             | Sam Querrey             | 1                       | 0                       | 0                       | 3                       | 52                      | 31                      | 48                      | 22                      | ...                     |  4                      |  7                      | 12                      | 13                      |  93                     | 6                       | 6                       | 6                       | NA                      | NA                      |\n",
       "| Jan Hajek               | Denis Kudla             | 1                       | 1                       | 3                       | 1                       | 70                      | 58                      | 30                      | 18                      | ...                     |  1                      |  7                      |  6                      |  9                      |  93                     | 2                       | 7                       | 0                       |  4                      | NA                      |\n",
       "\n"
      ],
      "text/plain": [
       "  Player1             Player2                 Round Result FNL.1 FNL.2 FSP.1\n",
       "1 Pablo Carreno-Busta Roger Federer           1     0      0     3     62   \n",
       "2 Somdev Devvarman    Daniel Munoz-De La Nava 1     1      3     0     62   \n",
       "3 Tobias Kamke        Paolo Lorenzi           1     1      3     2     62   \n",
       "4 Julien Benneteau    Ricardas Berankis       1     1      3     1     72   \n",
       "5 Lukas Lacko         Sam Querrey             1     0      0     3     52   \n",
       "6 Jan Hajek           Denis Kudla             1     1      3     1     70   \n",
       "  FSW.1 SSP.1 SSW.1 ... BPC.2 BPW.2 NPA.2 NPW.2 TPW.2 ST1.2 ST2.2 ST3.2 ST4.2\n",
       "1 27    38    11    ...  7     7    14    18     88   6     6     6     NA   \n",
       "2 54    38    22    ...  1    16    22    25    106   3     3     5     NA   \n",
       "3 53    38    15    ... 10    18    19    27    139   3     3     6      6   \n",
       "4 87    28    19    ...  4    13    33    43    149   6     3     7      6   \n",
       "5 31    48    22    ...  4     7    12    13     93   6     6     6     NA   \n",
       "6 58    30    18    ...  1     7     6     9     93   2     7     0      4   \n",
       "  ST5.2\n",
       "1 NA   \n",
       "2 NA   \n",
       "3  3   \n",
       "4 NA   \n",
       "5 NA   \n",
       "6 NA   "
      ]
     },
     "metadata": {},
     "output_type": "display_data"
    }
   ],
   "source": [
    "head(tennis_data)"
   ]
  },
  {
   "cell_type": "markdown",
   "metadata": {},
   "source": [
    "https://archive.ics.uci.edu/ml/datasets/Tennis+Major+Tournament+Match+Statistics#"
   ]
  },
  {
   "cell_type": "markdown",
   "metadata": {},
   "source": [
    "## `dplyr` functions"
   ]
  },
  {
   "cell_type": "markdown",
   "metadata": {},
   "source": [
    "The `filter` function is used to retrieve a subset of the full dataset"
   ]
  },
  {
   "cell_type": "markdown",
   "metadata": {},
   "source": [
    "Roger Federer is a very famous tennis player. Let's use `filter` to find all the matches in which he played in the 2013 French Open."
   ]
  },
  {
   "cell_type": "code",
   "execution_count": 5,
   "metadata": {},
   "outputs": [
    {
     "data": {
      "text/html": [
       "<table>\n",
       "<thead><tr><th scope=col>Player1</th><th scope=col>Player2</th><th scope=col>Round</th><th scope=col>Result</th><th scope=col>FNL.1</th><th scope=col>FNL.2</th><th scope=col>FSP.1</th><th scope=col>FSW.1</th><th scope=col>SSP.1</th><th scope=col>SSW.1</th><th scope=col>...</th><th scope=col>BPC.2</th><th scope=col>BPW.2</th><th scope=col>NPA.2</th><th scope=col>NPW.2</th><th scope=col>TPW.2</th><th scope=col>ST1.2</th><th scope=col>ST2.2</th><th scope=col>ST3.2</th><th scope=col>ST4.2</th><th scope=col>ST5.2</th></tr></thead>\n",
       "<tbody>\n",
       "\t<tr><td>Pablo Carreno-Busta</td><td>Roger Federer      </td><td>1                  </td><td>0                  </td><td>0                  </td><td>3                  </td><td>62                 </td><td>27                 </td><td>38                 </td><td>11                 </td><td>...                </td><td>7                  </td><td> 7                 </td><td>14                 </td><td>18                 </td><td> 88                </td><td>6                  </td><td>6                  </td><td>6                  </td><td>NA                 </td><td>NA                 </td></tr>\n",
       "\t<tr><td>Somdev Devvarman   </td><td>Roger Federer      </td><td>2                  </td><td>0                  </td><td>0                  </td><td>3                  </td><td>61                 </td><td>19                 </td><td>39                 </td><td>16                 </td><td>...                </td><td>7                  </td><td>14                 </td><td>19                 </td><td>30                 </td><td> 88                </td><td>6                  </td><td>6                  </td><td>6                  </td><td>NA                 </td><td>NA                 </td></tr>\n",
       "\t<tr><td>Julien Benneteau   </td><td>Roger Federer      </td><td>3                  </td><td>0                  </td><td>0                  </td><td>3                  </td><td>82                 </td><td>41                 </td><td>18                 </td><td> 8                 </td><td>...                </td><td>4                  </td><td> 4                 </td><td> 8                 </td><td>11                 </td><td> 98                </td><td>6                  </td><td>6                  </td><td>7                  </td><td>NA                 </td><td>NA                 </td></tr>\n",
       "\t<tr><td>Gilles Simon       </td><td>Roger Federer      </td><td>4                  </td><td>0                  </td><td>2                  </td><td>3                  </td><td>61                 </td><td>65                 </td><td>39                 </td><td>28                 </td><td>...                </td><td>6                  </td><td>14                 </td><td>25                 </td><td>35                 </td><td>147                </td><td>6                  </td><td>4                  </td><td>2                  </td><td> 6                 </td><td> 6                 </td></tr>\n",
       "\t<tr><td>Jo-Wilfried Tsonga </td><td>Roger Federer      </td><td>5                  </td><td>1                  </td><td>3                  </td><td>0                  </td><td>75                 </td><td>46                 </td><td>25                 </td><td>10                 </td><td>...                </td><td>2                  </td><td> 3                 </td><td>15                 </td><td>30                 </td><td> 73                </td><td>5                  </td><td>3                  </td><td>3                  </td><td>NA                 </td><td>NA                 </td></tr>\n",
       "</tbody>\n",
       "</table>\n"
      ],
      "text/latex": [
       "\\begin{tabular}{r|llllllllllllllllllllllllllllllllllllllllll}\n",
       " Player1 & Player2 & Round & Result & FNL.1 & FNL.2 & FSP.1 & FSW.1 & SSP.1 & SSW.1 & ... & BPC.2 & BPW.2 & NPA.2 & NPW.2 & TPW.2 & ST1.2 & ST2.2 & ST3.2 & ST4.2 & ST5.2\\\\\n",
       "\\hline\n",
       "\t Pablo Carreno-Busta & Roger Federer       & 1                   & 0                   & 0                   & 3                   & 62                  & 27                  & 38                  & 11                  & ...                 & 7                   &  7                  & 14                  & 18                  &  88                 & 6                   & 6                   & 6                   & NA                  & NA                 \\\\\n",
       "\t Somdev Devvarman    & Roger Federer       & 2                   & 0                   & 0                   & 3                   & 61                  & 19                  & 39                  & 16                  & ...                 & 7                   & 14                  & 19                  & 30                  &  88                 & 6                   & 6                   & 6                   & NA                  & NA                 \\\\\n",
       "\t Julien Benneteau    & Roger Federer       & 3                   & 0                   & 0                   & 3                   & 82                  & 41                  & 18                  &  8                  & ...                 & 4                   &  4                  &  8                  & 11                  &  98                 & 6                   & 6                   & 7                   & NA                  & NA                 \\\\\n",
       "\t Gilles Simon        & Roger Federer       & 4                   & 0                   & 2                   & 3                   & 61                  & 65                  & 39                  & 28                  & ...                 & 6                   & 14                  & 25                  & 35                  & 147                 & 6                   & 4                   & 2                   &  6                  &  6                 \\\\\n",
       "\t Jo-Wilfried Tsonga  & Roger Federer       & 5                   & 1                   & 3                   & 0                   & 75                  & 46                  & 25                  & 10                  & ...                 & 2                   &  3                  & 15                  & 30                  &  73                 & 5                   & 3                   & 3                   & NA                  & NA                 \\\\\n",
       "\\end{tabular}\n"
      ],
      "text/markdown": [
       "\n",
       "| Player1 | Player2 | Round | Result | FNL.1 | FNL.2 | FSP.1 | FSW.1 | SSP.1 | SSW.1 | ... | BPC.2 | BPW.2 | NPA.2 | NPW.2 | TPW.2 | ST1.2 | ST2.2 | ST3.2 | ST4.2 | ST5.2 |\n",
       "|---|---|---|---|---|---|---|---|---|---|---|---|---|---|---|---|---|---|---|---|---|\n",
       "| Pablo Carreno-Busta | Roger Federer       | 1                   | 0                   | 0                   | 3                   | 62                  | 27                  | 38                  | 11                  | ...                 | 7                   |  7                  | 14                  | 18                  |  88                 | 6                   | 6                   | 6                   | NA                  | NA                  |\n",
       "| Somdev Devvarman    | Roger Federer       | 2                   | 0                   | 0                   | 3                   | 61                  | 19                  | 39                  | 16                  | ...                 | 7                   | 14                  | 19                  | 30                  |  88                 | 6                   | 6                   | 6                   | NA                  | NA                  |\n",
       "| Julien Benneteau    | Roger Federer       | 3                   | 0                   | 0                   | 3                   | 82                  | 41                  | 18                  |  8                  | ...                 | 4                   |  4                  |  8                  | 11                  |  98                 | 6                   | 6                   | 7                   | NA                  | NA                  |\n",
       "| Gilles Simon        | Roger Federer       | 4                   | 0                   | 2                   | 3                   | 61                  | 65                  | 39                  | 28                  | ...                 | 6                   | 14                  | 25                  | 35                  | 147                 | 6                   | 4                   | 2                   |  6                  |  6                  |\n",
       "| Jo-Wilfried Tsonga  | Roger Federer       | 5                   | 1                   | 3                   | 0                   | 75                  | 46                  | 25                  | 10                  | ...                 | 2                   |  3                  | 15                  | 30                  |  73                 | 5                   | 3                   | 3                   | NA                  | NA                  |\n",
       "\n"
      ],
      "text/plain": [
       "  Player1             Player2       Round Result FNL.1 FNL.2 FSP.1 FSW.1 SSP.1\n",
       "1 Pablo Carreno-Busta Roger Federer 1     0      0     3     62    27    38   \n",
       "2 Somdev Devvarman    Roger Federer 2     0      0     3     61    19    39   \n",
       "3 Julien Benneteau    Roger Federer 3     0      0     3     82    41    18   \n",
       "4 Gilles Simon        Roger Federer 4     0      2     3     61    65    39   \n",
       "5 Jo-Wilfried Tsonga  Roger Federer 5     1      3     0     75    46    25   \n",
       "  SSW.1 ... BPC.2 BPW.2 NPA.2 NPW.2 TPW.2 ST1.2 ST2.2 ST3.2 ST4.2 ST5.2\n",
       "1 11    ... 7      7    14    18     88   6     6     6     NA    NA   \n",
       "2 16    ... 7     14    19    30     88   6     6     6     NA    NA   \n",
       "3  8    ... 4      4     8    11     98   6     6     7     NA    NA   \n",
       "4 28    ... 6     14    25    35    147   6     4     2      6     6   \n",
       "5 10    ... 2      3    15    30     73   5     3     3     NA    NA   "
      ]
     },
     "metadata": {},
     "output_type": "display_data"
    }
   ],
   "source": [
    "(federer <- tennis_data %>% \n",
    "            filter(Player1=='Roger Federer' | Player2=='Roger Federer')) "
   ]
  },
  {
   "cell_type": "markdown",
   "metadata": {},
   "source": [
    "If you want to assign as well as print the variable, enclose the command in parentheses."
   ]
  },
  {
   "cell_type": "markdown",
   "metadata": {},
   "source": [
    "The above table is useful, but we don't need all of the columns. We can use `select` to only show a subset of the columns. Create a new table, `fed_select`, which only shows the fields `Player1`, `Player2`, `Round`, and `Result`."
   ]
  },
  {
   "cell_type": "code",
   "execution_count": 6,
   "metadata": {},
   "outputs": [],
   "source": [
    "fed_select <- tennis_data %>% \n",
    "     filter(Player1=='Roger Federer' | Player2=='Roger Federer') %>% \n",
    "     select(Player1:Result)"
   ]
  },
  {
   "cell_type": "code",
   "execution_count": 7,
   "metadata": {},
   "outputs": [
    {
     "data": {
      "text/html": [
       "<table>\n",
       "<thead><tr><th scope=col>Player1</th><th scope=col>Player2</th><th scope=col>Round</th><th scope=col>Result</th></tr></thead>\n",
       "<tbody>\n",
       "\t<tr><td>Pablo Carreno-Busta</td><td>Roger Federer      </td><td>1                  </td><td>0                  </td></tr>\n",
       "\t<tr><td>Somdev Devvarman   </td><td>Roger Federer      </td><td>2                  </td><td>0                  </td></tr>\n",
       "\t<tr><td>Julien Benneteau   </td><td>Roger Federer      </td><td>3                  </td><td>0                  </td></tr>\n",
       "\t<tr><td>Gilles Simon       </td><td>Roger Federer      </td><td>4                  </td><td>0                  </td></tr>\n",
       "\t<tr><td>Jo-Wilfried Tsonga </td><td>Roger Federer      </td><td>5                  </td><td>1                  </td></tr>\n",
       "</tbody>\n",
       "</table>\n"
      ],
      "text/latex": [
       "\\begin{tabular}{r|llll}\n",
       " Player1 & Player2 & Round & Result\\\\\n",
       "\\hline\n",
       "\t Pablo Carreno-Busta & Roger Federer       & 1                   & 0                  \\\\\n",
       "\t Somdev Devvarman    & Roger Federer       & 2                   & 0                  \\\\\n",
       "\t Julien Benneteau    & Roger Federer       & 3                   & 0                  \\\\\n",
       "\t Gilles Simon        & Roger Federer       & 4                   & 0                  \\\\\n",
       "\t Jo-Wilfried Tsonga  & Roger Federer       & 5                   & 1                  \\\\\n",
       "\\end{tabular}\n"
      ],
      "text/markdown": [
       "\n",
       "| Player1 | Player2 | Round | Result |\n",
       "|---|---|---|---|\n",
       "| Pablo Carreno-Busta | Roger Federer       | 1                   | 0                   |\n",
       "| Somdev Devvarman    | Roger Federer       | 2                   | 0                   |\n",
       "| Julien Benneteau    | Roger Federer       | 3                   | 0                   |\n",
       "| Gilles Simon        | Roger Federer       | 4                   | 0                   |\n",
       "| Jo-Wilfried Tsonga  | Roger Federer       | 5                   | 1                   |\n",
       "\n"
      ],
      "text/plain": [
       "  Player1             Player2       Round Result\n",
       "1 Pablo Carreno-Busta Roger Federer 1     0     \n",
       "2 Somdev Devvarman    Roger Federer 2     0     \n",
       "3 Julien Benneteau    Roger Federer 3     0     \n",
       "4 Gilles Simon        Roger Federer 4     0     \n",
       "5 Jo-Wilfried Tsonga  Roger Federer 5     1     "
      ]
     },
     "metadata": {},
     "output_type": "display_data"
    }
   ],
   "source": [
    "fed_select"
   ]
  },
  {
   "cell_type": "code",
   "execution_count": 8,
   "metadata": {},
   "outputs": [
    {
     "name": "stdout",
     "output_type": "stream",
     "text": [
      "\u001b[38;5;246m# A tibble: 5 x 4\u001b[39m\n",
      "  Player1             Player2       Round Result\n",
      "  \u001b[3m\u001b[38;5;246m<chr>\u001b[39m\u001b[23m               \u001b[3m\u001b[38;5;246m<chr>\u001b[39m\u001b[23m         \u001b[3m\u001b[38;5;246m<dbl>\u001b[39m\u001b[23m  \u001b[3m\u001b[38;5;246m<dbl>\u001b[39m\u001b[23m\n",
      "\u001b[38;5;250m1\u001b[39m Pablo Carreno-Busta Roger Federer     1      0\n",
      "\u001b[38;5;250m2\u001b[39m Somdev Devvarman    Roger Federer     2      0\n",
      "\u001b[38;5;250m3\u001b[39m Julien Benneteau    Roger Federer     3      0\n",
      "\u001b[38;5;250m4\u001b[39m Gilles Simon        Roger Federer     4      0\n",
      "\u001b[38;5;250m5\u001b[39m Jo-Wilfried Tsonga  Roger Federer     5      1\n"
     ]
    }
   ],
   "source": [
    "print(fed_select)"
   ]
  },
  {
   "cell_type": "markdown",
   "metadata": {},
   "source": [
    "We can use functions such as `between` or the `%in%` operator. "
   ]
  },
  {
   "cell_type": "code",
   "execution_count": 9,
   "metadata": {},
   "outputs": [],
   "source": [
    "top_three = tennis_data %>% \n",
    "                filter(Player1 %in% c('Roger Federer', 'Novak Djokovic', 'Rafael Nadal') | Player2 %in% c('Roger Federer', 'Novak Djokovic', 'Rafael Nadal'))"
   ]
  },
  {
   "cell_type": "code",
   "execution_count": 10,
   "metadata": {},
   "outputs": [],
   "source": [
    "middle_round = tennis_data %>% \n",
    "                filter(between(Round, 3, 5))"
   ]
  },
  {
   "cell_type": "markdown",
   "metadata": {},
   "source": [
    "Suppose we are interested in the later rounds of the tournament. We can use the `arrange` function to order rows instead of filtering for a subset of them. "
   ]
  },
  {
   "cell_type": "code",
   "execution_count": 11,
   "metadata": {},
   "outputs": [
    {
     "data": {
      "text/html": [
       "<table>\n",
       "<thead><tr><th scope=col>Player1</th><th scope=col>Player2</th><th scope=col>Round</th><th scope=col>Result</th><th scope=col>FNL.1</th><th scope=col>FNL.2</th><th scope=col>FSP.1</th><th scope=col>FSW.1</th><th scope=col>SSP.1</th><th scope=col>SSW.1</th><th scope=col>...</th><th scope=col>BPC.2</th><th scope=col>BPW.2</th><th scope=col>NPA.2</th><th scope=col>NPW.2</th><th scope=col>TPW.2</th><th scope=col>ST1.2</th><th scope=col>ST2.2</th><th scope=col>ST3.2</th><th scope=col>ST4.2</th><th scope=col>ST5.2</th></tr></thead>\n",
       "<tbody>\n",
       "\t<tr><td>Rafael Nadal         </td><td>David Ferrer         </td><td>7                    </td><td>1                    </td><td>3                    </td><td>0                    </td><td>70                   </td><td>43                   </td><td>30                   </td><td>11                   </td><td>...                  </td><td>3                    </td><td>12                   </td><td>10                   </td><td>14                   </td><td> 72                  </td><td>3                    </td><td>2                    </td><td>3                    </td><td>NA                   </td><td>NA                   </td></tr>\n",
       "\t<tr><td>David Ferrer         </td><td>Jo-Wilfried Tsonga   </td><td>6                    </td><td>1                    </td><td>3                    </td><td>0                    </td><td>60                   </td><td>35                   </td><td>40                   </td><td>23                   </td><td>...                  </td><td>2                    </td><td> 5                   </td><td> 7                   </td><td>16                   </td><td> 84                  </td><td>1                    </td><td>6                    </td><td>2                    </td><td>NA                   </td><td>NA                   </td></tr>\n",
       "\t<tr><td>Novak Djokovic       </td><td>Rafael Nadal         </td><td>6                    </td><td>0                    </td><td>2                    </td><td>3                    </td><td>67                   </td><td>76                   </td><td>33                   </td><td>30                   </td><td>...                  </td><td>8                    </td><td>16                   </td><td>15                   </td><td>26                   </td><td>177                  </td><td>6                    </td><td>3                    </td><td>6                    </td><td> 6                   </td><td> 9                   </td></tr>\n",
       "\t<tr><td>Jo-Wilfried Tsonga   </td><td>Roger Federer        </td><td>5                    </td><td>1                    </td><td>3                    </td><td>0                    </td><td>75                   </td><td>46                   </td><td>25                   </td><td>10                   </td><td>...                  </td><td>2                    </td><td> 3                   </td><td>15                   </td><td>30                   </td><td> 73                  </td><td>5                    </td><td>3                    </td><td>3                    </td><td>NA                   </td><td>NA                   </td></tr>\n",
       "\t<tr><td>Tommy Robredo        </td><td>David Ferrer         </td><td>5                    </td><td>0                    </td><td>0                    </td><td>3                    </td><td>59                   </td><td>22                   </td><td>41                   </td><td> 9                   </td><td>...                  </td><td>7                    </td><td>12                   </td><td>13                   </td><td>15                   </td><td> 84                  </td><td>6                    </td><td>6                    </td><td>6                    </td><td>NA                   </td><td>NA                   </td></tr>\n",
       "\t<tr><td>Rafael Nadal         </td><td>Stanislas Wawrinka   </td><td>5                    </td><td>1                    </td><td>3                    </td><td>0                    </td><td>75                   </td><td>40                   </td><td>25                   </td><td>11                   </td><td>...                  </td><td>1                    </td><td> 5                   </td><td>16                   </td><td>30                   </td><td> 64                  </td><td>2                    </td><td>3                    </td><td>1                    </td><td>NA                   </td><td>NA                   </td></tr>\n",
       "\t<tr><td>Novak Djokovic       </td><td>Tommy Haas           </td><td>5                    </td><td>1                    </td><td>3                    </td><td>0                    </td><td>64                   </td><td>41                   </td><td>36                   </td><td>22                   </td><td>...                  </td><td>2                    </td><td> 2                   </td><td> 2                   </td><td>17                   </td><td> 84                  </td><td>3                    </td><td>6                    </td><td>5                    </td><td>NA                   </td><td>NA                   </td></tr>\n",
       "\t<tr><td>Gilles Simon         </td><td>Roger Federer        </td><td>4                    </td><td>0                    </td><td>2                    </td><td>3                    </td><td>61                   </td><td>65                   </td><td>39                   </td><td>28                   </td><td>...                  </td><td>6                    </td><td>14                   </td><td>25                   </td><td>35                   </td><td>147                  </td><td>6                    </td><td>4                    </td><td>2                    </td><td> 6                   </td><td> 6                   </td></tr>\n",
       "\t<tr><td>Jo-Wilfried Tsonga   </td><td>Viktor Troicki       </td><td>4                    </td><td>1                    </td><td>3                    </td><td>0                    </td><td>77                   </td><td>45                   </td><td>23                   </td><td>15                   </td><td>...                  </td><td>0                    </td><td> 3                   </td><td>19                   </td><td>28                   </td><td> 70                  </td><td>3                    </td><td>3                    </td><td>3                    </td><td>NA                   </td><td>NA                   </td></tr>\n",
       "\t<tr><td>Kevin Anderson       </td><td>David Ferrer         </td><td>4                    </td><td>0                    </td><td>0                    </td><td>3                    </td><td>71                   </td><td>34                   </td><td>29                   </td><td> 7                   </td><td>...                  </td><td>6                    </td><td>17                   </td><td> 9                   </td><td>12                   </td><td> 97                  </td><td>6                    </td><td>6                    </td><td>6                    </td><td>NA                   </td><td>NA                   </td></tr>\n",
       "\t<tr><td>Tommy Robredo        </td><td>Nicolas Almagro      </td><td>4                    </td><td>1                    </td><td>3                    </td><td>2                    </td><td>63                   </td><td>73                   </td><td>37                   </td><td>31                   </td><td>...                  </td><td>6                    </td><td>13                   </td><td>19                   </td><td>30                   </td><td>165                  </td><td>7                    </td><td>6                    </td><td>4                    </td><td> 4                   </td><td> 4                   </td></tr>\n",
       "\t<tr><td>Stanislas Wawrinka   </td><td>Richard Gasquet      </td><td>4                    </td><td>1                    </td><td>3                    </td><td>2                    </td><td>63                   </td><td>81                   </td><td>37                   </td><td>41                   </td><td>...                  </td><td>2                    </td><td>11                   </td><td>37                   </td><td>53                   </td><td>178                  </td><td>7                    </td><td>6                    </td><td>4                    </td><td> 5                   </td><td> 6                   </td></tr>\n",
       "\t<tr><td>Rafael Nadal         </td><td>Kei Nishikori        </td><td>4                    </td><td>1                    </td><td>3                    </td><td>0                    </td><td>69                   </td><td>39                   </td><td>31                   </td><td>16                   </td><td>...                  </td><td>0                    </td><td> 4                   </td><td> 8                   </td><td>16                   </td><td> 65                  </td><td>4                    </td><td>1                    </td><td>3                    </td><td>NA                   </td><td>NA                   </td></tr>\n",
       "\t<tr><td>Tommy Haas           </td><td>Mikhail Youzhny      </td><td>4                    </td><td>1                    </td><td>3                    </td><td>0                    </td><td>61                   </td><td>31                   </td><td>39                   </td><td>14                   </td><td>...                  </td><td>2                    </td><td> 6                   </td><td>13                   </td><td>21                   </td><td> 54                  </td><td>1                    </td><td>1                    </td><td>3                    </td><td>NA                   </td><td>NA                   </td></tr>\n",
       "\t<tr><td>Novak Djokovic       </td><td>Philipp Kohlschreiber</td><td>4                    </td><td>1                    </td><td>3                    </td><td>1                    </td><td>74                   </td><td>71                   </td><td>26                   </td><td>23                   </td><td>...                  </td><td>2                    </td><td>13                   </td><td>17                   </td><td>24                   </td><td>123                  </td><td>6                    </td><td>3                    </td><td>4                    </td><td> 4                   </td><td>NA                   </td></tr>\n",
       "\t<tr><td>Julien Benneteau     </td><td>Roger Federer        </td><td>3                    </td><td>0                    </td><td>0                    </td><td>3                    </td><td>82                   </td><td>41                   </td><td>18                   </td><td> 8                   </td><td>...                  </td><td>4                    </td><td> 4                   </td><td> 8                   </td><td>11                   </td><td> 98                  </td><td>6                    </td><td>6                    </td><td>7                    </td><td>NA                   </td><td>NA                   </td></tr>\n",
       "\t<tr><td>Gilles Simon         </td><td>Sam Querrey          </td><td>3                    </td><td>1                    </td><td>3                    </td><td>2                    </td><td>60                   </td><td>52                   </td><td>40                   </td><td>32                   </td><td>...                  </td><td>7                    </td><td>14                   </td><td>21                   </td><td>33                   </td><td>134                  </td><td>6                    </td><td>3                    </td><td>6                    </td><td> 6                   </td><td> 2                   </td></tr>\n",
       "\t<tr><td>Viktor Troicki       </td><td>Marin Cilic          </td><td>3                    </td><td>1                    </td><td>3                    </td><td>0                    </td><td>65                   </td><td>61                   </td><td>35                   </td><td>20                   </td><td>...                  </td><td>2                    </td><td> 9                   </td><td>20                   </td><td>29                   </td><td>115                  </td><td>6                    </td><td>4                    </td><td>5                    </td><td>NA                   </td><td>NA                   </td></tr>\n",
       "\t<tr><td>Jo-Wilfried Tsonga   </td><td>Jeremy Chardy        </td><td>3                    </td><td>1                    </td><td>3                    </td><td>0                    </td><td>67                   </td><td>40                   </td><td>33                   </td><td>17                   </td><td>...                  </td><td>0                    </td><td> 2                   </td><td>15                   </td><td>21                   </td><td> 60                  </td><td>1                    </td><td>2                    </td><td>5                    </td><td>NA                   </td><td>NA                   </td></tr>\n",
       "\t<tr><td>Feliciano Lopez      </td><td>David Ferrer         </td><td>3                    </td><td>0                    </td><td>0                    </td><td>3                    </td><td>63                   </td><td>37                   </td><td>37                   </td><td>14                   </td><td>...                  </td><td>7                    </td><td>19                   </td><td>14                   </td><td>20                   </td><td>111                  </td><td>6                    </td><td>7                    </td><td>6                    </td><td>NA                   </td><td>NA                   </td></tr>\n",
       "\t<tr><td>Milos Raonic         </td><td>Kevin Anderson       </td><td>3                    </td><td>0                    </td><td>0                    </td><td>3                    </td><td>57                   </td><td>49                   </td><td>43                   </td><td>29                   </td><td>...                  </td><td>3                    </td><td>12                   </td><td>10                   </td><td>12                   </td><td>126                  </td><td>7                    </td><td>7                    </td><td>6                    </td><td>NA                   </td><td>NA                   </td></tr>\n",
       "\t<tr><td>Andreas Seppi        </td><td>Nicolas Almagro      </td><td>3                    </td><td>0                    </td><td>0                    </td><td>3                    </td><td>51                   </td><td>34                   </td><td>49                   </td><td>18                   </td><td>...                  </td><td>5                    </td><td>13                   </td><td>12                   </td><td>14                   </td><td>107                  </td><td>7                    </td><td>6                    </td><td>6                    </td><td>NA                   </td><td>NA                   </td></tr>\n",
       "\t<tr><td>Gael Monfils         </td><td>Tommy Robredo        </td><td>3                    </td><td>0                    </td><td>2                    </td><td>3                    </td><td>68                   </td><td>73                   </td><td>32                   </td><td>27                   </td><td>...                  </td><td>6                    </td><td>17                   </td><td>28                   </td><td>40                   </td><td>170                  </td><td>2                    </td><td>6                    </td><td>6                    </td><td> 7                   </td><td> 6                   </td></tr>\n",
       "\t<tr><td>Nikolay Davydenko    </td><td>Richard Gasquet      </td><td>3                    </td><td>0                    </td><td>0                    </td><td>3                    </td><td>76                   </td><td>46                   </td><td>24                   </td><td> 9                   </td><td>...                  </td><td>5                    </td><td>10                   </td><td>17                   </td><td>31                   </td><td>101                  </td><td>6                    </td><td>6                    </td><td>6                    </td><td>NA                   </td><td>NA                   </td></tr>\n",
       "\t<tr><td>Stanislas Wawrinka   </td><td>Jerzy Janowicz       </td><td>3                    </td><td>1                    </td><td>3                    </td><td>1                    </td><td>58                   </td><td>54                   </td><td>42                   </td><td>31                   </td><td>...                  </td><td>1                    </td><td> 5                   </td><td>19                   </td><td>31                   </td><td>116                  </td><td>3                    </td><td>7                    </td><td>3                    </td><td> 3                   </td><td>NA                   </td></tr>\n",
       "\t<tr><td>Benoit Paire         </td><td>Kei Nishikori        </td><td>3                    </td><td>0                    </td><td>1                    </td><td>3                    </td><td>43                   </td><td>40                   </td><td>57                   </td><td>36                   </td><td>...                  </td><td>8                    </td><td>19                   </td><td>14                   </td><td>27                   </td><td>137                  </td><td>6                    </td><td>6                    </td><td>6                    </td><td> 6                   </td><td>NA                   </td></tr>\n",
       "\t<tr><td>Rafael Nadal         </td><td>Fabio Fognini        </td><td>3                    </td><td>1                    </td><td>3                    </td><td>0                    </td><td>78                   </td><td>52                   </td><td>22                   </td><td>14                   </td><td>...                  </td><td>3                    </td><td>11                   </td><td>17                   </td><td>31                   </td><td>111                  </td><td>6                    </td><td>4                    </td><td>4                    </td><td>NA                   </td><td>NA                   </td></tr>\n",
       "\t<tr><td>Mikhail Youzhny      </td><td>Janko Tipsarevic     </td><td>3                    </td><td>1                    </td><td>3                    </td><td>0                    </td><td>64                   </td><td>40                   </td><td>36                   </td><td>21                   </td><td>...                  </td><td>0                    </td><td> 3                   </td><td>10                   </td><td>20                   </td><td> 77                  </td><td>4                    </td><td>4                    </td><td>3                    </td><td>NA                   </td><td>NA                   </td></tr>\n",
       "\t<tr><td>Tommy Haas           </td><td>John Isner           </td><td>3                    </td><td>0                    </td><td>2                    </td><td>3                    </td><td>63                   </td><td>99                   </td><td>37                   </td><td>52                   </td><td>...                  </td><td>2                    </td><td>13                   </td><td>52                   </td><td>80                   </td><td>213                  </td><td>5                    </td><td>6                    </td><td>6                    </td><td> 7                   </td><td> 8                   </td></tr>\n",
       "\t<tr><td>Victor Hanescu       </td><td>Philipp Kohlschreiber</td><td>3                    </td><td>0                    </td><td>0                    </td><td>3                    </td><td>73                   </td><td>31                   </td><td>27                   </td><td> 8                   </td><td>...                  </td><td>6                    </td><td> 9                   </td><td>19                   </td><td>32                   </td><td>105                  </td><td>6                    </td><td>7                    </td><td>6                    </td><td>NA                   </td><td>NA                   </td></tr>\n",
       "\t<tr><td>...</td><td>...</td><td>...</td><td>...</td><td>...</td><td>...</td><td>...</td><td>...</td><td>...</td><td>...</td><td>   </td><td>...</td><td>...</td><td>...</td><td>...</td><td>...</td><td>...</td><td>...</td><td>...</td><td>...</td><td>...</td></tr>\n",
       "\t<tr><td>Michal Przysiezny     </td><td>Rhyne Williams        </td><td>1                     </td><td>1                     </td><td>3                     </td><td>1                     </td><td>67                    </td><td>75                    </td><td>33                    </td><td>27                    </td><td>...                   </td><td>1                     </td><td>10                    </td><td> 6                    </td><td>16                    </td><td>134                   </td><td>3                     </td><td>7                     </td><td> 5                    </td><td> 5                    </td><td>NA                    </td></tr>\n",
       "\t<tr><td>Florent Serra         </td><td>Nikolay Davydenko     </td><td>1                     </td><td>0                     </td><td>0                     </td><td>3                     </td><td>64                    </td><td>35                    </td><td>36                    </td><td>13                    </td><td>...                   </td><td>5                     </td><td> 7                    </td><td> 5                    </td><td> 5                    </td><td> 96                   </td><td>6                     </td><td>6                     </td><td> 7                    </td><td>NA                    </td><td>NA                    </td></tr>\n",
       "\t<tr><td>Florian Mayer         </td><td>Denis Istomin         </td><td>1                     </td><td>0                     </td><td>1                     </td><td>2                     </td><td>59                    </td><td>40                    </td><td>41                    </td><td>15                    </td><td>...                   </td><td>5                     </td><td>11                    </td><td>17                    </td><td>26                    </td><td>101                   </td><td>4                     </td><td>6                     </td><td> 7                    </td><td>NA                    </td><td>NA                    </td></tr>\n",
       "\t<tr><td>Albert Ramos          </td><td>Jerzy Janowicz        </td><td>1                     </td><td>0                     </td><td>0                     </td><td>3                     </td><td>61                    </td><td>41                    </td><td>39                    </td><td>25                    </td><td>...                   </td><td>3                     </td><td> 7                    </td><td>19                    </td><td>22                    </td><td>113                   </td><td>7                     </td><td>7                     </td><td> 6                    </td><td>NA                    </td><td>NA                    </td></tr>\n",
       "\t<tr><td>Kenny De Schepper     </td><td>Robin Haase           </td><td>1                     </td><td>0                     </td><td>1                     </td><td>3                     </td><td>64                    </td><td>61                    </td><td>36                    </td><td>21                    </td><td>...                   </td><td>3                     </td><td> 8                    </td><td>17                    </td><td>23                    </td><td>131                   </td><td>6                     </td><td>7                     </td><td> 2                    </td><td> 6                    </td><td>NA                    </td></tr>\n",
       "\t<tr><td>Vasek Pospisil        </td><td>Horacio Zeballos      </td><td>1                     </td><td>0                     </td><td>2                     </td><td>2                     </td><td>56                    </td><td>67                    </td><td>44                    </td><td>34                    </td><td>...                   </td><td>1                     </td><td>10                    </td><td>15                    </td><td>22                    </td><td>135                   </td><td>7                     </td><td>6                     </td><td> 6                    </td><td> 1                    </td><td>NA                    </td></tr>\n",
       "\t<tr><td>Stanislas Wawrinka    </td><td>Thiemo De Bakker      </td><td>1                     </td><td>1                     </td><td>3                     </td><td>1                     </td><td>69                    </td><td>74                    </td><td>31                    </td><td>24                    </td><td>...                   </td><td>1                     </td><td> 4                    </td><td>20                    </td><td>33                    </td><td>135                   </td><td>5                     </td><td>3                     </td><td> 7                    </td><td> 5                    </td><td>NA                    </td></tr>\n",
       "\t<tr><td>Jesse Levine          </td><td>Kei Nishikori         </td><td>1                     </td><td>0                     </td><td>0                     </td><td>3                     </td><td>52                    </td><td>16                    </td><td>48                    </td><td> 9                    </td><td>...                   </td><td>8                     </td><td>11                    </td><td> 7                    </td><td> 7                    </td><td> 86                   </td><td>6                     </td><td>6                     </td><td> 6                    </td><td>NA                    </td><td>NA                    </td></tr>\n",
       "\t<tr><td>Grega Zemlja          </td><td>Santiago Giraldo      </td><td>1                     </td><td>1                     </td><td>3                     </td><td>0                     </td><td>52                    </td><td>32                    </td><td>48                    </td><td>21                    </td><td>...                   </td><td>0                     </td><td> 3                    </td><td> 1                    </td><td> 2                    </td><td> 62                   </td><td>1                     </td><td>4                     </td><td> 1                    </td><td>NA                    </td><td>NA                    </td></tr>\n",
       "\t<tr><td>Lukasz Kubot          </td><td>Maxime Teixeira       </td><td>1                     </td><td>1                     </td><td>2                     </td><td>1                     </td><td>64                    </td><td>30                    </td><td>36                    </td><td>12                    </td><td>...                   </td><td>5                     </td><td> 8                    </td><td>11                    </td><td>18                    </td><td> 85                   </td><td>4                     </td><td>7                     </td><td> 1                    </td><td>NA                    </td><td>NA                    </td></tr>\n",
       "\t<tr><td>Benoit Paire          </td><td>Marcos Baghdatis      </td><td>1                     </td><td>1                     </td><td>2                     </td><td>1                     </td><td>46                    </td><td>40                    </td><td>54                    </td><td>29                    </td><td>...                   </td><td>2                     </td><td>14                    </td><td>13                    </td><td>25                    </td><td>104                   </td><td>6                     </td><td>6                     </td><td> 3                    </td><td>NA                    </td><td>NA                    </td></tr>\n",
       "\t<tr><td>Andreas Beck          </td><td>Fabio Fognini         </td><td>1                     </td><td>0                     </td><td>0                     </td><td>3                     </td><td>55                    </td><td>37                    </td><td>45                    </td><td>25                    </td><td>...                   </td><td>5                     </td><td>13                    </td><td> 9                    </td><td>11                    </td><td>125                   </td><td>6                     </td><td>7                     </td><td> 6                    </td><td>NA                    </td><td>NA                    </td></tr>\n",
       "\t<tr><td>Pere Riba             </td><td>Lukas Rosol           </td><td>1                     </td><td>0                     </td><td>0                     </td><td>3                     </td><td>60                    </td><td>38                    </td><td>40                    </td><td>14                    </td><td>...                   </td><td>4                     </td><td> 7                    </td><td> 9                    </td><td>12                    </td><td> 97                   </td><td>6                     </td><td>6                     </td><td> 6                    </td><td>NA                    </td><td>NA                    </td></tr>\n",
       "\t<tr><td>Martin Klizan         </td><td>Michael Russell       </td><td>1                     </td><td>1                     </td><td>2                     </td><td>1                     </td><td>49                    </td><td>29                    </td><td>51                    </td><td>22                    </td><td>...                   </td><td>3                     </td><td>12                    </td><td>10                    </td><td>19                    </td><td> 81                   </td><td>6                     </td><td>3                     </td><td> 1                    </td><td>NA                    </td><td>NA                    </td></tr>\n",
       "\t<tr><td>Rafael Nadal          </td><td>Daniel Brands         </td><td>1                     </td><td>1                     </td><td>3                     </td><td>1                     </td><td>84                    </td><td>74                    </td><td>16                    </td><td>12                    </td><td>...                   </td><td>1                     </td><td> 4                    </td><td>25                    </td><td>40                    </td><td>115                   </td><td>6                     </td><td>6                     </td><td> 4                    </td><td> 3                    </td><td>NA                    </td></tr>\n",
       "\t<tr><td>Fernando Verdasco     </td><td>Marc Gicquel          </td><td>1                     </td><td>1                     </td><td>3                     </td><td>0                     </td><td>64                    </td><td>37                    </td><td>36                    </td><td>11                    </td><td>...                   </td><td>1                     </td><td> 3                    </td><td> 5                    </td><td> 8                    </td><td> 58                   </td><td>2                     </td><td>3                     </td><td> 1                    </td><td>NA                    </td><td>NA                    </td></tr>\n",
       "\t<tr><td>Federico Delbonis     </td><td>Julian Reister        </td><td>1                     </td><td>1                     </td><td>3                     </td><td>1                     </td><td>55                    </td><td>52                    </td><td>45                    </td><td>27                    </td><td>...                   </td><td>1                     </td><td> 8                    </td><td> 9                    </td><td>15                    </td><td> 97                   </td><td>7                     </td><td>1                     </td><td> 0                    </td><td> 4                    </td><td>NA                    </td></tr>\n",
       "\t<tr><td>Mikhail Youzhny       </td><td>Pablo Andujar         </td><td>1                     </td><td>1                     </td><td>3                     </td><td>1                     </td><td>65                    </td><td>70                    </td><td>35                    </td><td>20                    </td><td>...                   </td><td>3                     </td><td>12                    </td><td>11                    </td><td>24                    </td><td>127                   </td><td>6                     </td><td>4                     </td><td> 2                    </td><td> 3                    </td><td>NA                    </td></tr>\n",
       "\t<tr><td>Carlos Berlocq        </td><td>John Isner            </td><td>1                     </td><td>0                     </td><td>0                     </td><td>3                     </td><td>73                    </td><td>45                    </td><td>27                    </td><td>10                    </td><td>...                   </td><td>4                     </td><td> 9                    </td><td>16                    </td><td>27                    </td><td> 97                   </td><td>6                     </td><td>6                     </td><td> 6                    </td><td>NA                    </td><td>NA                    </td></tr>\n",
       "\t<tr><td>Andrey Kuznetsov      </td><td>Ryan Harrison         </td><td>1                     </td><td>0                     </td><td>0                     </td><td>3                     </td><td>71                    </td><td>48                    </td><td>29                    </td><td>11                    </td><td>...                   </td><td>4                     </td><td> 8                    </td><td>12                    </td><td>18                    </td><td>111                   </td><td>6                     </td><td>6                     </td><td> 7                    </td><td>NA                    </td><td>NA                    </td></tr>\n",
       "\t<tr><td>Jack Sock             </td><td>Guillermo Garcia-Lopez</td><td>1                     </td><td>1                     </td><td>3                     </td><td>0                     </td><td>56                    </td><td>32                    </td><td>44                    </td><td>23                    </td><td>...                   </td><td>2                     </td><td> 7                    </td><td> 9                    </td><td>14                    </td><td> 66                   </td><td>2                     </td><td>2                     </td><td> 5                    </td><td>NA                    </td><td>NA                    </td></tr>\n",
       "\t<tr><td>Tommy Haas            </td><td>Guillaume Rufin       </td><td>1                     </td><td>1                     </td><td>3                     </td><td>0                     </td><td>65                    </td><td>48                    </td><td>35                    </td><td>13                    </td><td>...                   </td><td>1                     </td><td> 4                    </td><td>14                    </td><td>23                    </td><td> 78                   </td><td>6                     </td><td>1                     </td><td> 3                    </td><td>NA                    </td><td>NA                    </td></tr>\n",
       "\t<tr><td>Jiri Vesely           </td><td>Philipp Kohlschreiber </td><td>1                     </td><td>0                     </td><td>1                     </td><td>3                     </td><td>61                    </td><td>59                    </td><td>39                    </td><td>25                    </td><td>...                   </td><td>3                     </td><td>13                    </td><td>16                    </td><td>22                    </td><td>132                   </td><td>7                     </td><td>1                     </td><td> 7                    </td><td> 6                    </td><td>NA                    </td></tr>\n",
       "\t<tr><td>Simone Bolelli        </td><td>Yen-Hsun Lu           </td><td>1                     </td><td>0                     </td><td>0                     </td><td>3                     </td><td>63                    </td><td>33                    </td><td>37                    </td><td>12                    </td><td>...                   </td><td>4                     </td><td>11                    </td><td> 4                    </td><td> 6                    </td><td> 78                   </td><td>6                     </td><td>6                     </td><td> 2                    </td><td>NA                    </td><td>NA                    </td></tr>\n",
       "\t<tr><td>Bernard Tomic         </td><td>Victor Hanescu        </td><td>1                     </td><td>0                     </td><td>0                     </td><td>3                     </td><td>63                    </td><td>38                    </td><td>37                    </td><td>17                    </td><td>...                   </td><td>3                     </td><td> 5                    </td><td>14                    </td><td>25                    </td><td>103                   </td><td>7                     </td><td>7                     </td><td> 2                    </td><td>NA                    </td><td>NA                    </td></tr>\n",
       "\t<tr><td>Alexandr Dolgopolov   </td><td>Dmitry Tursunov       </td><td>1                     </td><td>0                     </td><td>0                     </td><td>3                     </td><td>55                    </td><td>51                    </td><td>45                    </td><td>22                    </td><td>...                   </td><td>4                     </td><td> 8                    </td><td> 7                    </td><td>13                    </td><td>119                   </td><td>7                     </td><td>6                     </td><td> 7                    </td><td>NA                    </td><td>NA                    </td></tr>\n",
       "\t<tr><td>Alejandro Falla       </td><td>Grigor Dimitrov       </td><td>1                     </td><td>0                     </td><td>0                     </td><td>2                     </td><td>54                    </td><td>10                    </td><td>46                    </td><td> 7                    </td><td>...                   </td><td>2                     </td><td> 2                    </td><td> 6                    </td><td> 7                    </td><td> 48                   </td><td>6                     </td><td>1                     </td><td>NA                    </td><td>NA                    </td><td>NA                    </td></tr>\n",
       "\t<tr><td>Alex Kuznetsov        </td><td>Lucas Pouille         </td><td>1                     </td><td>0                     </td><td>0                     </td><td>3                     </td><td>63                    </td><td>33                    </td><td>37                    </td><td>13                    </td><td>...                   </td><td>5                     </td><td>11                    </td><td>10                    </td><td>14                    </td><td>109                   </td><td>6                     </td><td>7                     </td><td> 6                    </td><td>NA                    </td><td>NA                    </td></tr>\n",
       "\t<tr><td>Ivan Dodig            </td><td>Guido Pella           </td><td>1                     </td><td>0                     </td><td>2                     </td><td>3                     </td><td>56                    </td><td>80                    </td><td>44                    </td><td>37                    </td><td>...                   </td><td>6                     </td><td>15                    </td><td>21                    </td><td>31                    </td><td>179                   </td><td>4                     </td><td>6                     </td><td> 6                    </td><td> 2                    </td><td> 1                    </td></tr>\n",
       "\t<tr><td>Novak Djokovic        </td><td>David Goffin          </td><td>1                     </td><td>1                     </td><td>3                     </td><td>0                     </td><td>69                    </td><td>53                    </td><td>31                    </td><td>20                    </td><td>...                   </td><td>1                     </td><td> 2                    </td><td>15                    </td><td>26                    </td><td> 99                   </td><td>6                     </td><td>4                     </td><td> 5                    </td><td>NA                    </td><td>NA                    </td></tr>\n",
       "</tbody>\n",
       "</table>\n"
      ],
      "text/latex": [
       "\\begin{tabular}{r|llllllllllllllllllllllllllllllllllllllllll}\n",
       " Player1 & Player2 & Round & Result & FNL.1 & FNL.2 & FSP.1 & FSW.1 & SSP.1 & SSW.1 & ... & BPC.2 & BPW.2 & NPA.2 & NPW.2 & TPW.2 & ST1.2 & ST2.2 & ST3.2 & ST4.2 & ST5.2\\\\\n",
       "\\hline\n",
       "\t Rafael Nadal          & David Ferrer          & 7                     & 1                     & 3                     & 0                     & 70                    & 43                    & 30                    & 11                    & ...                   & 3                     & 12                    & 10                    & 14                    &  72                   & 3                     & 2                     & 3                     & NA                    & NA                   \\\\\n",
       "\t David Ferrer          & Jo-Wilfried Tsonga    & 6                     & 1                     & 3                     & 0                     & 60                    & 35                    & 40                    & 23                    & ...                   & 2                     &  5                    &  7                    & 16                    &  84                   & 1                     & 6                     & 2                     & NA                    & NA                   \\\\\n",
       "\t Novak Djokovic        & Rafael Nadal          & 6                     & 0                     & 2                     & 3                     & 67                    & 76                    & 33                    & 30                    & ...                   & 8                     & 16                    & 15                    & 26                    & 177                   & 6                     & 3                     & 6                     &  6                    &  9                   \\\\\n",
       "\t Jo-Wilfried Tsonga    & Roger Federer         & 5                     & 1                     & 3                     & 0                     & 75                    & 46                    & 25                    & 10                    & ...                   & 2                     &  3                    & 15                    & 30                    &  73                   & 5                     & 3                     & 3                     & NA                    & NA                   \\\\\n",
       "\t Tommy Robredo         & David Ferrer          & 5                     & 0                     & 0                     & 3                     & 59                    & 22                    & 41                    &  9                    & ...                   & 7                     & 12                    & 13                    & 15                    &  84                   & 6                     & 6                     & 6                     & NA                    & NA                   \\\\\n",
       "\t Rafael Nadal          & Stanislas Wawrinka    & 5                     & 1                     & 3                     & 0                     & 75                    & 40                    & 25                    & 11                    & ...                   & 1                     &  5                    & 16                    & 30                    &  64                   & 2                     & 3                     & 1                     & NA                    & NA                   \\\\\n",
       "\t Novak Djokovic        & Tommy Haas            & 5                     & 1                     & 3                     & 0                     & 64                    & 41                    & 36                    & 22                    & ...                   & 2                     &  2                    &  2                    & 17                    &  84                   & 3                     & 6                     & 5                     & NA                    & NA                   \\\\\n",
       "\t Gilles Simon          & Roger Federer         & 4                     & 0                     & 2                     & 3                     & 61                    & 65                    & 39                    & 28                    & ...                   & 6                     & 14                    & 25                    & 35                    & 147                   & 6                     & 4                     & 2                     &  6                    &  6                   \\\\\n",
       "\t Jo-Wilfried Tsonga    & Viktor Troicki        & 4                     & 1                     & 3                     & 0                     & 77                    & 45                    & 23                    & 15                    & ...                   & 0                     &  3                    & 19                    & 28                    &  70                   & 3                     & 3                     & 3                     & NA                    & NA                   \\\\\n",
       "\t Kevin Anderson        & David Ferrer          & 4                     & 0                     & 0                     & 3                     & 71                    & 34                    & 29                    &  7                    & ...                   & 6                     & 17                    &  9                    & 12                    &  97                   & 6                     & 6                     & 6                     & NA                    & NA                   \\\\\n",
       "\t Tommy Robredo         & Nicolas Almagro       & 4                     & 1                     & 3                     & 2                     & 63                    & 73                    & 37                    & 31                    & ...                   & 6                     & 13                    & 19                    & 30                    & 165                   & 7                     & 6                     & 4                     &  4                    &  4                   \\\\\n",
       "\t Stanislas Wawrinka    & Richard Gasquet       & 4                     & 1                     & 3                     & 2                     & 63                    & 81                    & 37                    & 41                    & ...                   & 2                     & 11                    & 37                    & 53                    & 178                   & 7                     & 6                     & 4                     &  5                    &  6                   \\\\\n",
       "\t Rafael Nadal          & Kei Nishikori         & 4                     & 1                     & 3                     & 0                     & 69                    & 39                    & 31                    & 16                    & ...                   & 0                     &  4                    &  8                    & 16                    &  65                   & 4                     & 1                     & 3                     & NA                    & NA                   \\\\\n",
       "\t Tommy Haas            & Mikhail Youzhny       & 4                     & 1                     & 3                     & 0                     & 61                    & 31                    & 39                    & 14                    & ...                   & 2                     &  6                    & 13                    & 21                    &  54                   & 1                     & 1                     & 3                     & NA                    & NA                   \\\\\n",
       "\t Novak Djokovic        & Philipp Kohlschreiber & 4                     & 1                     & 3                     & 1                     & 74                    & 71                    & 26                    & 23                    & ...                   & 2                     & 13                    & 17                    & 24                    & 123                   & 6                     & 3                     & 4                     &  4                    & NA                   \\\\\n",
       "\t Julien Benneteau      & Roger Federer         & 3                     & 0                     & 0                     & 3                     & 82                    & 41                    & 18                    &  8                    & ...                   & 4                     &  4                    &  8                    & 11                    &  98                   & 6                     & 6                     & 7                     & NA                    & NA                   \\\\\n",
       "\t Gilles Simon          & Sam Querrey           & 3                     & 1                     & 3                     & 2                     & 60                    & 52                    & 40                    & 32                    & ...                   & 7                     & 14                    & 21                    & 33                    & 134                   & 6                     & 3                     & 6                     &  6                    &  2                   \\\\\n",
       "\t Viktor Troicki        & Marin Cilic           & 3                     & 1                     & 3                     & 0                     & 65                    & 61                    & 35                    & 20                    & ...                   & 2                     &  9                    & 20                    & 29                    & 115                   & 6                     & 4                     & 5                     & NA                    & NA                   \\\\\n",
       "\t Jo-Wilfried Tsonga    & Jeremy Chardy         & 3                     & 1                     & 3                     & 0                     & 67                    & 40                    & 33                    & 17                    & ...                   & 0                     &  2                    & 15                    & 21                    &  60                   & 1                     & 2                     & 5                     & NA                    & NA                   \\\\\n",
       "\t Feliciano Lopez       & David Ferrer          & 3                     & 0                     & 0                     & 3                     & 63                    & 37                    & 37                    & 14                    & ...                   & 7                     & 19                    & 14                    & 20                    & 111                   & 6                     & 7                     & 6                     & NA                    & NA                   \\\\\n",
       "\t Milos Raonic          & Kevin Anderson        & 3                     & 0                     & 0                     & 3                     & 57                    & 49                    & 43                    & 29                    & ...                   & 3                     & 12                    & 10                    & 12                    & 126                   & 7                     & 7                     & 6                     & NA                    & NA                   \\\\\n",
       "\t Andreas Seppi         & Nicolas Almagro       & 3                     & 0                     & 0                     & 3                     & 51                    & 34                    & 49                    & 18                    & ...                   & 5                     & 13                    & 12                    & 14                    & 107                   & 7                     & 6                     & 6                     & NA                    & NA                   \\\\\n",
       "\t Gael Monfils          & Tommy Robredo         & 3                     & 0                     & 2                     & 3                     & 68                    & 73                    & 32                    & 27                    & ...                   & 6                     & 17                    & 28                    & 40                    & 170                   & 2                     & 6                     & 6                     &  7                    &  6                   \\\\\n",
       "\t Nikolay Davydenko     & Richard Gasquet       & 3                     & 0                     & 0                     & 3                     & 76                    & 46                    & 24                    &  9                    & ...                   & 5                     & 10                    & 17                    & 31                    & 101                   & 6                     & 6                     & 6                     & NA                    & NA                   \\\\\n",
       "\t Stanislas Wawrinka    & Jerzy Janowicz        & 3                     & 1                     & 3                     & 1                     & 58                    & 54                    & 42                    & 31                    & ...                   & 1                     &  5                    & 19                    & 31                    & 116                   & 3                     & 7                     & 3                     &  3                    & NA                   \\\\\n",
       "\t Benoit Paire          & Kei Nishikori         & 3                     & 0                     & 1                     & 3                     & 43                    & 40                    & 57                    & 36                    & ...                   & 8                     & 19                    & 14                    & 27                    & 137                   & 6                     & 6                     & 6                     &  6                    & NA                   \\\\\n",
       "\t Rafael Nadal          & Fabio Fognini         & 3                     & 1                     & 3                     & 0                     & 78                    & 52                    & 22                    & 14                    & ...                   & 3                     & 11                    & 17                    & 31                    & 111                   & 6                     & 4                     & 4                     & NA                    & NA                   \\\\\n",
       "\t Mikhail Youzhny       & Janko Tipsarevic      & 3                     & 1                     & 3                     & 0                     & 64                    & 40                    & 36                    & 21                    & ...                   & 0                     &  3                    & 10                    & 20                    &  77                   & 4                     & 4                     & 3                     & NA                    & NA                   \\\\\n",
       "\t Tommy Haas            & John Isner            & 3                     & 0                     & 2                     & 3                     & 63                    & 99                    & 37                    & 52                    & ...                   & 2                     & 13                    & 52                    & 80                    & 213                   & 5                     & 6                     & 6                     &  7                    &  8                   \\\\\n",
       "\t Victor Hanescu        & Philipp Kohlschreiber & 3                     & 0                     & 0                     & 3                     & 73                    & 31                    & 27                    &  8                    & ...                   & 6                     &  9                    & 19                    & 32                    & 105                   & 6                     & 7                     & 6                     & NA                    & NA                   \\\\\n",
       "\t ... & ... & ... & ... & ... & ... & ... & ... & ... & ... &     & ... & ... & ... & ... & ... & ... & ... & ... & ... & ...\\\\\n",
       "\t Michal Przysiezny      & Rhyne Williams         & 1                      & 1                      & 3                      & 1                      & 67                     & 75                     & 33                     & 27                     & ...                    & 1                      & 10                     &  6                     & 16                     & 134                    & 3                      & 7                      &  5                     &  5                     & NA                    \\\\\n",
       "\t Florent Serra          & Nikolay Davydenko      & 1                      & 0                      & 0                      & 3                      & 64                     & 35                     & 36                     & 13                     & ...                    & 5                      &  7                     &  5                     &  5                     &  96                    & 6                      & 6                      &  7                     & NA                     & NA                    \\\\\n",
       "\t Florian Mayer          & Denis Istomin          & 1                      & 0                      & 1                      & 2                      & 59                     & 40                     & 41                     & 15                     & ...                    & 5                      & 11                     & 17                     & 26                     & 101                    & 4                      & 6                      &  7                     & NA                     & NA                    \\\\\n",
       "\t Albert Ramos           & Jerzy Janowicz         & 1                      & 0                      & 0                      & 3                      & 61                     & 41                     & 39                     & 25                     & ...                    & 3                      &  7                     & 19                     & 22                     & 113                    & 7                      & 7                      &  6                     & NA                     & NA                    \\\\\n",
       "\t Kenny De Schepper      & Robin Haase            & 1                      & 0                      & 1                      & 3                      & 64                     & 61                     & 36                     & 21                     & ...                    & 3                      &  8                     & 17                     & 23                     & 131                    & 6                      & 7                      &  2                     &  6                     & NA                    \\\\\n",
       "\t Vasek Pospisil         & Horacio Zeballos       & 1                      & 0                      & 2                      & 2                      & 56                     & 67                     & 44                     & 34                     & ...                    & 1                      & 10                     & 15                     & 22                     & 135                    & 7                      & 6                      &  6                     &  1                     & NA                    \\\\\n",
       "\t Stanislas Wawrinka     & Thiemo De Bakker       & 1                      & 1                      & 3                      & 1                      & 69                     & 74                     & 31                     & 24                     & ...                    & 1                      &  4                     & 20                     & 33                     & 135                    & 5                      & 3                      &  7                     &  5                     & NA                    \\\\\n",
       "\t Jesse Levine           & Kei Nishikori          & 1                      & 0                      & 0                      & 3                      & 52                     & 16                     & 48                     &  9                     & ...                    & 8                      & 11                     &  7                     &  7                     &  86                    & 6                      & 6                      &  6                     & NA                     & NA                    \\\\\n",
       "\t Grega Zemlja           & Santiago Giraldo       & 1                      & 1                      & 3                      & 0                      & 52                     & 32                     & 48                     & 21                     & ...                    & 0                      &  3                     &  1                     &  2                     &  62                    & 1                      & 4                      &  1                     & NA                     & NA                    \\\\\n",
       "\t Lukasz Kubot           & Maxime Teixeira        & 1                      & 1                      & 2                      & 1                      & 64                     & 30                     & 36                     & 12                     & ...                    & 5                      &  8                     & 11                     & 18                     &  85                    & 4                      & 7                      &  1                     & NA                     & NA                    \\\\\n",
       "\t Benoit Paire           & Marcos Baghdatis       & 1                      & 1                      & 2                      & 1                      & 46                     & 40                     & 54                     & 29                     & ...                    & 2                      & 14                     & 13                     & 25                     & 104                    & 6                      & 6                      &  3                     & NA                     & NA                    \\\\\n",
       "\t Andreas Beck           & Fabio Fognini          & 1                      & 0                      & 0                      & 3                      & 55                     & 37                     & 45                     & 25                     & ...                    & 5                      & 13                     &  9                     & 11                     & 125                    & 6                      & 7                      &  6                     & NA                     & NA                    \\\\\n",
       "\t Pere Riba              & Lukas Rosol            & 1                      & 0                      & 0                      & 3                      & 60                     & 38                     & 40                     & 14                     & ...                    & 4                      &  7                     &  9                     & 12                     &  97                    & 6                      & 6                      &  6                     & NA                     & NA                    \\\\\n",
       "\t Martin Klizan          & Michael Russell        & 1                      & 1                      & 2                      & 1                      & 49                     & 29                     & 51                     & 22                     & ...                    & 3                      & 12                     & 10                     & 19                     &  81                    & 6                      & 3                      &  1                     & NA                     & NA                    \\\\\n",
       "\t Rafael Nadal           & Daniel Brands          & 1                      & 1                      & 3                      & 1                      & 84                     & 74                     & 16                     & 12                     & ...                    & 1                      &  4                     & 25                     & 40                     & 115                    & 6                      & 6                      &  4                     &  3                     & NA                    \\\\\n",
       "\t Fernando Verdasco      & Marc Gicquel           & 1                      & 1                      & 3                      & 0                      & 64                     & 37                     & 36                     & 11                     & ...                    & 1                      &  3                     &  5                     &  8                     &  58                    & 2                      & 3                      &  1                     & NA                     & NA                    \\\\\n",
       "\t Federico Delbonis      & Julian Reister         & 1                      & 1                      & 3                      & 1                      & 55                     & 52                     & 45                     & 27                     & ...                    & 1                      &  8                     &  9                     & 15                     &  97                    & 7                      & 1                      &  0                     &  4                     & NA                    \\\\\n",
       "\t Mikhail Youzhny        & Pablo Andujar          & 1                      & 1                      & 3                      & 1                      & 65                     & 70                     & 35                     & 20                     & ...                    & 3                      & 12                     & 11                     & 24                     & 127                    & 6                      & 4                      &  2                     &  3                     & NA                    \\\\\n",
       "\t Carlos Berlocq         & John Isner             & 1                      & 0                      & 0                      & 3                      & 73                     & 45                     & 27                     & 10                     & ...                    & 4                      &  9                     & 16                     & 27                     &  97                    & 6                      & 6                      &  6                     & NA                     & NA                    \\\\\n",
       "\t Andrey Kuznetsov       & Ryan Harrison          & 1                      & 0                      & 0                      & 3                      & 71                     & 48                     & 29                     & 11                     & ...                    & 4                      &  8                     & 12                     & 18                     & 111                    & 6                      & 6                      &  7                     & NA                     & NA                    \\\\\n",
       "\t Jack Sock              & Guillermo Garcia-Lopez & 1                      & 1                      & 3                      & 0                      & 56                     & 32                     & 44                     & 23                     & ...                    & 2                      &  7                     &  9                     & 14                     &  66                    & 2                      & 2                      &  5                     & NA                     & NA                    \\\\\n",
       "\t Tommy Haas             & Guillaume Rufin        & 1                      & 1                      & 3                      & 0                      & 65                     & 48                     & 35                     & 13                     & ...                    & 1                      &  4                     & 14                     & 23                     &  78                    & 6                      & 1                      &  3                     & NA                     & NA                    \\\\\n",
       "\t Jiri Vesely            & Philipp Kohlschreiber  & 1                      & 0                      & 1                      & 3                      & 61                     & 59                     & 39                     & 25                     & ...                    & 3                      & 13                     & 16                     & 22                     & 132                    & 7                      & 1                      &  7                     &  6                     & NA                    \\\\\n",
       "\t Simone Bolelli         & Yen-Hsun Lu            & 1                      & 0                      & 0                      & 3                      & 63                     & 33                     & 37                     & 12                     & ...                    & 4                      & 11                     &  4                     &  6                     &  78                    & 6                      & 6                      &  2                     & NA                     & NA                    \\\\\n",
       "\t Bernard Tomic          & Victor Hanescu         & 1                      & 0                      & 0                      & 3                      & 63                     & 38                     & 37                     & 17                     & ...                    & 3                      &  5                     & 14                     & 25                     & 103                    & 7                      & 7                      &  2                     & NA                     & NA                    \\\\\n",
       "\t Alexandr Dolgopolov    & Dmitry Tursunov        & 1                      & 0                      & 0                      & 3                      & 55                     & 51                     & 45                     & 22                     & ...                    & 4                      &  8                     &  7                     & 13                     & 119                    & 7                      & 6                      &  7                     & NA                     & NA                    \\\\\n",
       "\t Alejandro Falla        & Grigor Dimitrov        & 1                      & 0                      & 0                      & 2                      & 54                     & 10                     & 46                     &  7                     & ...                    & 2                      &  2                     &  6                     &  7                     &  48                    & 6                      & 1                      & NA                     & NA                     & NA                    \\\\\n",
       "\t Alex Kuznetsov         & Lucas Pouille          & 1                      & 0                      & 0                      & 3                      & 63                     & 33                     & 37                     & 13                     & ...                    & 5                      & 11                     & 10                     & 14                     & 109                    & 6                      & 7                      &  6                     & NA                     & NA                    \\\\\n",
       "\t Ivan Dodig             & Guido Pella            & 1                      & 0                      & 2                      & 3                      & 56                     & 80                     & 44                     & 37                     & ...                    & 6                      & 15                     & 21                     & 31                     & 179                    & 4                      & 6                      &  6                     &  2                     &  1                    \\\\\n",
       "\t Novak Djokovic         & David Goffin           & 1                      & 1                      & 3                      & 0                      & 69                     & 53                     & 31                     & 20                     & ...                    & 1                      &  2                     & 15                     & 26                     &  99                    & 6                      & 4                      &  5                     & NA                     & NA                    \\\\\n",
       "\\end{tabular}\n"
      ],
      "text/markdown": [
       "\n",
       "| Player1 | Player2 | Round | Result | FNL.1 | FNL.2 | FSP.1 | FSW.1 | SSP.1 | SSW.1 | ... | BPC.2 | BPW.2 | NPA.2 | NPW.2 | TPW.2 | ST1.2 | ST2.2 | ST3.2 | ST4.2 | ST5.2 |\n",
       "|---|---|---|---|---|---|---|---|---|---|---|---|---|---|---|---|---|---|---|---|---|\n",
       "| Rafael Nadal          | David Ferrer          | 7                     | 1                     | 3                     | 0                     | 70                    | 43                    | 30                    | 11                    | ...                   | 3                     | 12                    | 10                    | 14                    |  72                   | 3                     | 2                     | 3                     | NA                    | NA                    |\n",
       "| David Ferrer          | Jo-Wilfried Tsonga    | 6                     | 1                     | 3                     | 0                     | 60                    | 35                    | 40                    | 23                    | ...                   | 2                     |  5                    |  7                    | 16                    |  84                   | 1                     | 6                     | 2                     | NA                    | NA                    |\n",
       "| Novak Djokovic        | Rafael Nadal          | 6                     | 0                     | 2                     | 3                     | 67                    | 76                    | 33                    | 30                    | ...                   | 8                     | 16                    | 15                    | 26                    | 177                   | 6                     | 3                     | 6                     |  6                    |  9                    |\n",
       "| Jo-Wilfried Tsonga    | Roger Federer         | 5                     | 1                     | 3                     | 0                     | 75                    | 46                    | 25                    | 10                    | ...                   | 2                     |  3                    | 15                    | 30                    |  73                   | 5                     | 3                     | 3                     | NA                    | NA                    |\n",
       "| Tommy Robredo         | David Ferrer          | 5                     | 0                     | 0                     | 3                     | 59                    | 22                    | 41                    |  9                    | ...                   | 7                     | 12                    | 13                    | 15                    |  84                   | 6                     | 6                     | 6                     | NA                    | NA                    |\n",
       "| Rafael Nadal          | Stanislas Wawrinka    | 5                     | 1                     | 3                     | 0                     | 75                    | 40                    | 25                    | 11                    | ...                   | 1                     |  5                    | 16                    | 30                    |  64                   | 2                     | 3                     | 1                     | NA                    | NA                    |\n",
       "| Novak Djokovic        | Tommy Haas            | 5                     | 1                     | 3                     | 0                     | 64                    | 41                    | 36                    | 22                    | ...                   | 2                     |  2                    |  2                    | 17                    |  84                   | 3                     | 6                     | 5                     | NA                    | NA                    |\n",
       "| Gilles Simon          | Roger Federer         | 4                     | 0                     | 2                     | 3                     | 61                    | 65                    | 39                    | 28                    | ...                   | 6                     | 14                    | 25                    | 35                    | 147                   | 6                     | 4                     | 2                     |  6                    |  6                    |\n",
       "| Jo-Wilfried Tsonga    | Viktor Troicki        | 4                     | 1                     | 3                     | 0                     | 77                    | 45                    | 23                    | 15                    | ...                   | 0                     |  3                    | 19                    | 28                    |  70                   | 3                     | 3                     | 3                     | NA                    | NA                    |\n",
       "| Kevin Anderson        | David Ferrer          | 4                     | 0                     | 0                     | 3                     | 71                    | 34                    | 29                    |  7                    | ...                   | 6                     | 17                    |  9                    | 12                    |  97                   | 6                     | 6                     | 6                     | NA                    | NA                    |\n",
       "| Tommy Robredo         | Nicolas Almagro       | 4                     | 1                     | 3                     | 2                     | 63                    | 73                    | 37                    | 31                    | ...                   | 6                     | 13                    | 19                    | 30                    | 165                   | 7                     | 6                     | 4                     |  4                    |  4                    |\n",
       "| Stanislas Wawrinka    | Richard Gasquet       | 4                     | 1                     | 3                     | 2                     | 63                    | 81                    | 37                    | 41                    | ...                   | 2                     | 11                    | 37                    | 53                    | 178                   | 7                     | 6                     | 4                     |  5                    |  6                    |\n",
       "| Rafael Nadal          | Kei Nishikori         | 4                     | 1                     | 3                     | 0                     | 69                    | 39                    | 31                    | 16                    | ...                   | 0                     |  4                    |  8                    | 16                    |  65                   | 4                     | 1                     | 3                     | NA                    | NA                    |\n",
       "| Tommy Haas            | Mikhail Youzhny       | 4                     | 1                     | 3                     | 0                     | 61                    | 31                    | 39                    | 14                    | ...                   | 2                     |  6                    | 13                    | 21                    |  54                   | 1                     | 1                     | 3                     | NA                    | NA                    |\n",
       "| Novak Djokovic        | Philipp Kohlschreiber | 4                     | 1                     | 3                     | 1                     | 74                    | 71                    | 26                    | 23                    | ...                   | 2                     | 13                    | 17                    | 24                    | 123                   | 6                     | 3                     | 4                     |  4                    | NA                    |\n",
       "| Julien Benneteau      | Roger Federer         | 3                     | 0                     | 0                     | 3                     | 82                    | 41                    | 18                    |  8                    | ...                   | 4                     |  4                    |  8                    | 11                    |  98                   | 6                     | 6                     | 7                     | NA                    | NA                    |\n",
       "| Gilles Simon          | Sam Querrey           | 3                     | 1                     | 3                     | 2                     | 60                    | 52                    | 40                    | 32                    | ...                   | 7                     | 14                    | 21                    | 33                    | 134                   | 6                     | 3                     | 6                     |  6                    |  2                    |\n",
       "| Viktor Troicki        | Marin Cilic           | 3                     | 1                     | 3                     | 0                     | 65                    | 61                    | 35                    | 20                    | ...                   | 2                     |  9                    | 20                    | 29                    | 115                   | 6                     | 4                     | 5                     | NA                    | NA                    |\n",
       "| Jo-Wilfried Tsonga    | Jeremy Chardy         | 3                     | 1                     | 3                     | 0                     | 67                    | 40                    | 33                    | 17                    | ...                   | 0                     |  2                    | 15                    | 21                    |  60                   | 1                     | 2                     | 5                     | NA                    | NA                    |\n",
       "| Feliciano Lopez       | David Ferrer          | 3                     | 0                     | 0                     | 3                     | 63                    | 37                    | 37                    | 14                    | ...                   | 7                     | 19                    | 14                    | 20                    | 111                   | 6                     | 7                     | 6                     | NA                    | NA                    |\n",
       "| Milos Raonic          | Kevin Anderson        | 3                     | 0                     | 0                     | 3                     | 57                    | 49                    | 43                    | 29                    | ...                   | 3                     | 12                    | 10                    | 12                    | 126                   | 7                     | 7                     | 6                     | NA                    | NA                    |\n",
       "| Andreas Seppi         | Nicolas Almagro       | 3                     | 0                     | 0                     | 3                     | 51                    | 34                    | 49                    | 18                    | ...                   | 5                     | 13                    | 12                    | 14                    | 107                   | 7                     | 6                     | 6                     | NA                    | NA                    |\n",
       "| Gael Monfils          | Tommy Robredo         | 3                     | 0                     | 2                     | 3                     | 68                    | 73                    | 32                    | 27                    | ...                   | 6                     | 17                    | 28                    | 40                    | 170                   | 2                     | 6                     | 6                     |  7                    |  6                    |\n",
       "| Nikolay Davydenko     | Richard Gasquet       | 3                     | 0                     | 0                     | 3                     | 76                    | 46                    | 24                    |  9                    | ...                   | 5                     | 10                    | 17                    | 31                    | 101                   | 6                     | 6                     | 6                     | NA                    | NA                    |\n",
       "| Stanislas Wawrinka    | Jerzy Janowicz        | 3                     | 1                     | 3                     | 1                     | 58                    | 54                    | 42                    | 31                    | ...                   | 1                     |  5                    | 19                    | 31                    | 116                   | 3                     | 7                     | 3                     |  3                    | NA                    |\n",
       "| Benoit Paire          | Kei Nishikori         | 3                     | 0                     | 1                     | 3                     | 43                    | 40                    | 57                    | 36                    | ...                   | 8                     | 19                    | 14                    | 27                    | 137                   | 6                     | 6                     | 6                     |  6                    | NA                    |\n",
       "| Rafael Nadal          | Fabio Fognini         | 3                     | 1                     | 3                     | 0                     | 78                    | 52                    | 22                    | 14                    | ...                   | 3                     | 11                    | 17                    | 31                    | 111                   | 6                     | 4                     | 4                     | NA                    | NA                    |\n",
       "| Mikhail Youzhny       | Janko Tipsarevic      | 3                     | 1                     | 3                     | 0                     | 64                    | 40                    | 36                    | 21                    | ...                   | 0                     |  3                    | 10                    | 20                    |  77                   | 4                     | 4                     | 3                     | NA                    | NA                    |\n",
       "| Tommy Haas            | John Isner            | 3                     | 0                     | 2                     | 3                     | 63                    | 99                    | 37                    | 52                    | ...                   | 2                     | 13                    | 52                    | 80                    | 213                   | 5                     | 6                     | 6                     |  7                    |  8                    |\n",
       "| Victor Hanescu        | Philipp Kohlschreiber | 3                     | 0                     | 0                     | 3                     | 73                    | 31                    | 27                    |  8                    | ...                   | 6                     |  9                    | 19                    | 32                    | 105                   | 6                     | 7                     | 6                     | NA                    | NA                    |\n",
       "| ... | ... | ... | ... | ... | ... | ... | ... | ... | ... |     | ... | ... | ... | ... | ... | ... | ... | ... | ... | ... |\n",
       "| Michal Przysiezny      | Rhyne Williams         | 1                      | 1                      | 3                      | 1                      | 67                     | 75                     | 33                     | 27                     | ...                    | 1                      | 10                     |  6                     | 16                     | 134                    | 3                      | 7                      |  5                     |  5                     | NA                     |\n",
       "| Florent Serra          | Nikolay Davydenko      | 1                      | 0                      | 0                      | 3                      | 64                     | 35                     | 36                     | 13                     | ...                    | 5                      |  7                     |  5                     |  5                     |  96                    | 6                      | 6                      |  7                     | NA                     | NA                     |\n",
       "| Florian Mayer          | Denis Istomin          | 1                      | 0                      | 1                      | 2                      | 59                     | 40                     | 41                     | 15                     | ...                    | 5                      | 11                     | 17                     | 26                     | 101                    | 4                      | 6                      |  7                     | NA                     | NA                     |\n",
       "| Albert Ramos           | Jerzy Janowicz         | 1                      | 0                      | 0                      | 3                      | 61                     | 41                     | 39                     | 25                     | ...                    | 3                      |  7                     | 19                     | 22                     | 113                    | 7                      | 7                      |  6                     | NA                     | NA                     |\n",
       "| Kenny De Schepper      | Robin Haase            | 1                      | 0                      | 1                      | 3                      | 64                     | 61                     | 36                     | 21                     | ...                    | 3                      |  8                     | 17                     | 23                     | 131                    | 6                      | 7                      |  2                     |  6                     | NA                     |\n",
       "| Vasek Pospisil         | Horacio Zeballos       | 1                      | 0                      | 2                      | 2                      | 56                     | 67                     | 44                     | 34                     | ...                    | 1                      | 10                     | 15                     | 22                     | 135                    | 7                      | 6                      |  6                     |  1                     | NA                     |\n",
       "| Stanislas Wawrinka     | Thiemo De Bakker       | 1                      | 1                      | 3                      | 1                      | 69                     | 74                     | 31                     | 24                     | ...                    | 1                      |  4                     | 20                     | 33                     | 135                    | 5                      | 3                      |  7                     |  5                     | NA                     |\n",
       "| Jesse Levine           | Kei Nishikori          | 1                      | 0                      | 0                      | 3                      | 52                     | 16                     | 48                     |  9                     | ...                    | 8                      | 11                     |  7                     |  7                     |  86                    | 6                      | 6                      |  6                     | NA                     | NA                     |\n",
       "| Grega Zemlja           | Santiago Giraldo       | 1                      | 1                      | 3                      | 0                      | 52                     | 32                     | 48                     | 21                     | ...                    | 0                      |  3                     |  1                     |  2                     |  62                    | 1                      | 4                      |  1                     | NA                     | NA                     |\n",
       "| Lukasz Kubot           | Maxime Teixeira        | 1                      | 1                      | 2                      | 1                      | 64                     | 30                     | 36                     | 12                     | ...                    | 5                      |  8                     | 11                     | 18                     |  85                    | 4                      | 7                      |  1                     | NA                     | NA                     |\n",
       "| Benoit Paire           | Marcos Baghdatis       | 1                      | 1                      | 2                      | 1                      | 46                     | 40                     | 54                     | 29                     | ...                    | 2                      | 14                     | 13                     | 25                     | 104                    | 6                      | 6                      |  3                     | NA                     | NA                     |\n",
       "| Andreas Beck           | Fabio Fognini          | 1                      | 0                      | 0                      | 3                      | 55                     | 37                     | 45                     | 25                     | ...                    | 5                      | 13                     |  9                     | 11                     | 125                    | 6                      | 7                      |  6                     | NA                     | NA                     |\n",
       "| Pere Riba              | Lukas Rosol            | 1                      | 0                      | 0                      | 3                      | 60                     | 38                     | 40                     | 14                     | ...                    | 4                      |  7                     |  9                     | 12                     |  97                    | 6                      | 6                      |  6                     | NA                     | NA                     |\n",
       "| Martin Klizan          | Michael Russell        | 1                      | 1                      | 2                      | 1                      | 49                     | 29                     | 51                     | 22                     | ...                    | 3                      | 12                     | 10                     | 19                     |  81                    | 6                      | 3                      |  1                     | NA                     | NA                     |\n",
       "| Rafael Nadal           | Daniel Brands          | 1                      | 1                      | 3                      | 1                      | 84                     | 74                     | 16                     | 12                     | ...                    | 1                      |  4                     | 25                     | 40                     | 115                    | 6                      | 6                      |  4                     |  3                     | NA                     |\n",
       "| Fernando Verdasco      | Marc Gicquel           | 1                      | 1                      | 3                      | 0                      | 64                     | 37                     | 36                     | 11                     | ...                    | 1                      |  3                     |  5                     |  8                     |  58                    | 2                      | 3                      |  1                     | NA                     | NA                     |\n",
       "| Federico Delbonis      | Julian Reister         | 1                      | 1                      | 3                      | 1                      | 55                     | 52                     | 45                     | 27                     | ...                    | 1                      |  8                     |  9                     | 15                     |  97                    | 7                      | 1                      |  0                     |  4                     | NA                     |\n",
       "| Mikhail Youzhny        | Pablo Andujar          | 1                      | 1                      | 3                      | 1                      | 65                     | 70                     | 35                     | 20                     | ...                    | 3                      | 12                     | 11                     | 24                     | 127                    | 6                      | 4                      |  2                     |  3                     | NA                     |\n",
       "| Carlos Berlocq         | John Isner             | 1                      | 0                      | 0                      | 3                      | 73                     | 45                     | 27                     | 10                     | ...                    | 4                      |  9                     | 16                     | 27                     |  97                    | 6                      | 6                      |  6                     | NA                     | NA                     |\n",
       "| Andrey Kuznetsov       | Ryan Harrison          | 1                      | 0                      | 0                      | 3                      | 71                     | 48                     | 29                     | 11                     | ...                    | 4                      |  8                     | 12                     | 18                     | 111                    | 6                      | 6                      |  7                     | NA                     | NA                     |\n",
       "| Jack Sock              | Guillermo Garcia-Lopez | 1                      | 1                      | 3                      | 0                      | 56                     | 32                     | 44                     | 23                     | ...                    | 2                      |  7                     |  9                     | 14                     |  66                    | 2                      | 2                      |  5                     | NA                     | NA                     |\n",
       "| Tommy Haas             | Guillaume Rufin        | 1                      | 1                      | 3                      | 0                      | 65                     | 48                     | 35                     | 13                     | ...                    | 1                      |  4                     | 14                     | 23                     |  78                    | 6                      | 1                      |  3                     | NA                     | NA                     |\n",
       "| Jiri Vesely            | Philipp Kohlschreiber  | 1                      | 0                      | 1                      | 3                      | 61                     | 59                     | 39                     | 25                     | ...                    | 3                      | 13                     | 16                     | 22                     | 132                    | 7                      | 1                      |  7                     |  6                     | NA                     |\n",
       "| Simone Bolelli         | Yen-Hsun Lu            | 1                      | 0                      | 0                      | 3                      | 63                     | 33                     | 37                     | 12                     | ...                    | 4                      | 11                     |  4                     |  6                     |  78                    | 6                      | 6                      |  2                     | NA                     | NA                     |\n",
       "| Bernard Tomic          | Victor Hanescu         | 1                      | 0                      | 0                      | 3                      | 63                     | 38                     | 37                     | 17                     | ...                    | 3                      |  5                     | 14                     | 25                     | 103                    | 7                      | 7                      |  2                     | NA                     | NA                     |\n",
       "| Alexandr Dolgopolov    | Dmitry Tursunov        | 1                      | 0                      | 0                      | 3                      | 55                     | 51                     | 45                     | 22                     | ...                    | 4                      |  8                     |  7                     | 13                     | 119                    | 7                      | 6                      |  7                     | NA                     | NA                     |\n",
       "| Alejandro Falla        | Grigor Dimitrov        | 1                      | 0                      | 0                      | 2                      | 54                     | 10                     | 46                     |  7                     | ...                    | 2                      |  2                     |  6                     |  7                     |  48                    | 6                      | 1                      | NA                     | NA                     | NA                     |\n",
       "| Alex Kuznetsov         | Lucas Pouille          | 1                      | 0                      | 0                      | 3                      | 63                     | 33                     | 37                     | 13                     | ...                    | 5                      | 11                     | 10                     | 14                     | 109                    | 6                      | 7                      |  6                     | NA                     | NA                     |\n",
       "| Ivan Dodig             | Guido Pella            | 1                      | 0                      | 2                      | 3                      | 56                     | 80                     | 44                     | 37                     | ...                    | 6                      | 15                     | 21                     | 31                     | 179                    | 4                      | 6                      |  6                     |  2                     |  1                     |\n",
       "| Novak Djokovic         | David Goffin           | 1                      | 1                      | 3                      | 0                      | 69                     | 53                     | 31                     | 20                     | ...                    | 1                      |  2                     | 15                     | 26                     |  99                    | 6                      | 4                      |  5                     | NA                     | NA                     |\n",
       "\n"
      ],
      "text/plain": [
       "    Player1             Player2                Round Result FNL.1 FNL.2 FSP.1\n",
       "1   Rafael Nadal        David Ferrer           7     1      3     0     70   \n",
       "2   David Ferrer        Jo-Wilfried Tsonga     6     1      3     0     60   \n",
       "3   Novak Djokovic      Rafael Nadal           6     0      2     3     67   \n",
       "4   Jo-Wilfried Tsonga  Roger Federer          5     1      3     0     75   \n",
       "5   Tommy Robredo       David Ferrer           5     0      0     3     59   \n",
       "6   Rafael Nadal        Stanislas Wawrinka     5     1      3     0     75   \n",
       "7   Novak Djokovic      Tommy Haas             5     1      3     0     64   \n",
       "8   Gilles Simon        Roger Federer          4     0      2     3     61   \n",
       "9   Jo-Wilfried Tsonga  Viktor Troicki         4     1      3     0     77   \n",
       "10  Kevin Anderson      David Ferrer           4     0      0     3     71   \n",
       "11  Tommy Robredo       Nicolas Almagro        4     1      3     2     63   \n",
       "12  Stanislas Wawrinka  Richard Gasquet        4     1      3     2     63   \n",
       "13  Rafael Nadal        Kei Nishikori          4     1      3     0     69   \n",
       "14  Tommy Haas          Mikhail Youzhny        4     1      3     0     61   \n",
       "15  Novak Djokovic      Philipp Kohlschreiber  4     1      3     1     74   \n",
       "16  Julien Benneteau    Roger Federer          3     0      0     3     82   \n",
       "17  Gilles Simon        Sam Querrey            3     1      3     2     60   \n",
       "18  Viktor Troicki      Marin Cilic            3     1      3     0     65   \n",
       "19  Jo-Wilfried Tsonga  Jeremy Chardy          3     1      3     0     67   \n",
       "20  Feliciano Lopez     David Ferrer           3     0      0     3     63   \n",
       "21  Milos Raonic        Kevin Anderson         3     0      0     3     57   \n",
       "22  Andreas Seppi       Nicolas Almagro        3     0      0     3     51   \n",
       "23  Gael Monfils        Tommy Robredo          3     0      2     3     68   \n",
       "24  Nikolay Davydenko   Richard Gasquet        3     0      0     3     76   \n",
       "25  Stanislas Wawrinka  Jerzy Janowicz         3     1      3     1     58   \n",
       "26  Benoit Paire        Kei Nishikori          3     0      1     3     43   \n",
       "27  Rafael Nadal        Fabio Fognini          3     1      3     0     78   \n",
       "28  Mikhail Youzhny     Janko Tipsarevic       3     1      3     0     64   \n",
       "29  Tommy Haas          John Isner             3     0      2     3     63   \n",
       "30  Victor Hanescu      Philipp Kohlschreiber  3     0      0     3     73   \n",
       "... ...                 ...                    ...   ...    ...   ...   ...  \n",
       "96  Michal Przysiezny   Rhyne Williams         1     1      3     1     67   \n",
       "97  Florent Serra       Nikolay Davydenko      1     0      0     3     64   \n",
       "98  Florian Mayer       Denis Istomin          1     0      1     2     59   \n",
       "99  Albert Ramos        Jerzy Janowicz         1     0      0     3     61   \n",
       "100 Kenny De Schepper   Robin Haase            1     0      1     3     64   \n",
       "101 Vasek Pospisil      Horacio Zeballos       1     0      2     2     56   \n",
       "102 Stanislas Wawrinka  Thiemo De Bakker       1     1      3     1     69   \n",
       "103 Jesse Levine        Kei Nishikori          1     0      0     3     52   \n",
       "104 Grega Zemlja        Santiago Giraldo       1     1      3     0     52   \n",
       "105 Lukasz Kubot        Maxime Teixeira        1     1      2     1     64   \n",
       "106 Benoit Paire        Marcos Baghdatis       1     1      2     1     46   \n",
       "107 Andreas Beck        Fabio Fognini          1     0      0     3     55   \n",
       "108 Pere Riba           Lukas Rosol            1     0      0     3     60   \n",
       "109 Martin Klizan       Michael Russell        1     1      2     1     49   \n",
       "110 Rafael Nadal        Daniel Brands          1     1      3     1     84   \n",
       "111 Fernando Verdasco   Marc Gicquel           1     1      3     0     64   \n",
       "112 Federico Delbonis   Julian Reister         1     1      3     1     55   \n",
       "113 Mikhail Youzhny     Pablo Andujar          1     1      3     1     65   \n",
       "114 Carlos Berlocq      John Isner             1     0      0     3     73   \n",
       "115 Andrey Kuznetsov    Ryan Harrison          1     0      0     3     71   \n",
       "116 Jack Sock           Guillermo Garcia-Lopez 1     1      3     0     56   \n",
       "117 Tommy Haas          Guillaume Rufin        1     1      3     0     65   \n",
       "118 Jiri Vesely         Philipp Kohlschreiber  1     0      1     3     61   \n",
       "119 Simone Bolelli      Yen-Hsun Lu            1     0      0     3     63   \n",
       "120 Bernard Tomic       Victor Hanescu         1     0      0     3     63   \n",
       "121 Alexandr Dolgopolov Dmitry Tursunov        1     0      0     3     55   \n",
       "122 Alejandro Falla     Grigor Dimitrov        1     0      0     2     54   \n",
       "123 Alex Kuznetsov      Lucas Pouille          1     0      0     3     63   \n",
       "124 Ivan Dodig          Guido Pella            1     0      2     3     56   \n",
       "125 Novak Djokovic      David Goffin           1     1      3     0     69   \n",
       "    FSW.1 SSP.1 SSW.1 ... BPC.2 BPW.2 NPA.2 NPW.2 TPW.2 ST1.2 ST2.2 ST3.2 ST4.2\n",
       "1   43    30    11    ... 3     12    10    14     72   3     2     3     NA   \n",
       "2   35    40    23    ... 2      5     7    16     84   1     6     2     NA   \n",
       "3   76    33    30    ... 8     16    15    26    177   6     3     6      6   \n",
       "4   46    25    10    ... 2      3    15    30     73   5     3     3     NA   \n",
       "5   22    41     9    ... 7     12    13    15     84   6     6     6     NA   \n",
       "6   40    25    11    ... 1      5    16    30     64   2     3     1     NA   \n",
       "7   41    36    22    ... 2      2     2    17     84   3     6     5     NA   \n",
       "8   65    39    28    ... 6     14    25    35    147   6     4     2      6   \n",
       "9   45    23    15    ... 0      3    19    28     70   3     3     3     NA   \n",
       "10  34    29     7    ... 6     17     9    12     97   6     6     6     NA   \n",
       "11  73    37    31    ... 6     13    19    30    165   7     6     4      4   \n",
       "12  81    37    41    ... 2     11    37    53    178   7     6     4      5   \n",
       "13  39    31    16    ... 0      4     8    16     65   4     1     3     NA   \n",
       "14  31    39    14    ... 2      6    13    21     54   1     1     3     NA   \n",
       "15  71    26    23    ... 2     13    17    24    123   6     3     4      4   \n",
       "16  41    18     8    ... 4      4     8    11     98   6     6     7     NA   \n",
       "17  52    40    32    ... 7     14    21    33    134   6     3     6      6   \n",
       "18  61    35    20    ... 2      9    20    29    115   6     4     5     NA   \n",
       "19  40    33    17    ... 0      2    15    21     60   1     2     5     NA   \n",
       "20  37    37    14    ... 7     19    14    20    111   6     7     6     NA   \n",
       "21  49    43    29    ... 3     12    10    12    126   7     7     6     NA   \n",
       "22  34    49    18    ... 5     13    12    14    107   7     6     6     NA   \n",
       "23  73    32    27    ... 6     17    28    40    170   2     6     6      7   \n",
       "24  46    24     9    ... 5     10    17    31    101   6     6     6     NA   \n",
       "25  54    42    31    ... 1      5    19    31    116   3     7     3      3   \n",
       "26  40    57    36    ... 8     19    14    27    137   6     6     6      6   \n",
       "27  52    22    14    ... 3     11    17    31    111   6     4     4     NA   \n",
       "28  40    36    21    ... 0      3    10    20     77   4     4     3     NA   \n",
       "29  99    37    52    ... 2     13    52    80    213   5     6     6      7   \n",
       "30  31    27     8    ... 6      9    19    32    105   6     7     6     NA   \n",
       "... ...   ...   ...       ...   ...   ...   ...   ...   ...   ...   ...   ...  \n",
       "96  75    33    27    ... 1     10     6    16    134   3     7      5     5   \n",
       "97  35    36    13    ... 5      7     5     5     96   6     6      7    NA   \n",
       "98  40    41    15    ... 5     11    17    26    101   4     6      7    NA   \n",
       "99  41    39    25    ... 3      7    19    22    113   7     7      6    NA   \n",
       "100 61    36    21    ... 3      8    17    23    131   6     7      2     6   \n",
       "101 67    44    34    ... 1     10    15    22    135   7     6      6     1   \n",
       "102 74    31    24    ... 1      4    20    33    135   5     3      7     5   \n",
       "103 16    48     9    ... 8     11     7     7     86   6     6      6    NA   \n",
       "104 32    48    21    ... 0      3     1     2     62   1     4      1    NA   \n",
       "105 30    36    12    ... 5      8    11    18     85   4     7      1    NA   \n",
       "106 40    54    29    ... 2     14    13    25    104   6     6      3    NA   \n",
       "107 37    45    25    ... 5     13     9    11    125   6     7      6    NA   \n",
       "108 38    40    14    ... 4      7     9    12     97   6     6      6    NA   \n",
       "109 29    51    22    ... 3     12    10    19     81   6     3      1    NA   \n",
       "110 74    16    12    ... 1      4    25    40    115   6     6      4     3   \n",
       "111 37    36    11    ... 1      3     5     8     58   2     3      1    NA   \n",
       "112 52    45    27    ... 1      8     9    15     97   7     1      0     4   \n",
       "113 70    35    20    ... 3     12    11    24    127   6     4      2     3   \n",
       "114 45    27    10    ... 4      9    16    27     97   6     6      6    NA   \n",
       "115 48    29    11    ... 4      8    12    18    111   6     6      7    NA   \n",
       "116 32    44    23    ... 2      7     9    14     66   2     2      5    NA   \n",
       "117 48    35    13    ... 1      4    14    23     78   6     1      3    NA   \n",
       "118 59    39    25    ... 3     13    16    22    132   7     1      7     6   \n",
       "119 33    37    12    ... 4     11     4     6     78   6     6      2    NA   \n",
       "120 38    37    17    ... 3      5    14    25    103   7     7      2    NA   \n",
       "121 51    45    22    ... 4      8     7    13    119   7     6      7    NA   \n",
       "122 10    46     7    ... 2      2     6     7     48   6     1     NA    NA   \n",
       "123 33    37    13    ... 5     11    10    14    109   6     7      6    NA   \n",
       "124 80    44    37    ... 6     15    21    31    179   4     6      6     2   \n",
       "125 53    31    20    ... 1      2    15    26     99   6     4      5    NA   \n",
       "    ST5.2\n",
       "1   NA   \n",
       "2   NA   \n",
       "3    9   \n",
       "4   NA   \n",
       "5   NA   \n",
       "6   NA   \n",
       "7   NA   \n",
       "8    6   \n",
       "9   NA   \n",
       "10  NA   \n",
       "11   4   \n",
       "12   6   \n",
       "13  NA   \n",
       "14  NA   \n",
       "15  NA   \n",
       "16  NA   \n",
       "17   2   \n",
       "18  NA   \n",
       "19  NA   \n",
       "20  NA   \n",
       "21  NA   \n",
       "22  NA   \n",
       "23   6   \n",
       "24  NA   \n",
       "25  NA   \n",
       "26  NA   \n",
       "27  NA   \n",
       "28  NA   \n",
       "29   8   \n",
       "30  NA   \n",
       "... ...  \n",
       "96  NA   \n",
       "97  NA   \n",
       "98  NA   \n",
       "99  NA   \n",
       "100 NA   \n",
       "101 NA   \n",
       "102 NA   \n",
       "103 NA   \n",
       "104 NA   \n",
       "105 NA   \n",
       "106 NA   \n",
       "107 NA   \n",
       "108 NA   \n",
       "109 NA   \n",
       "110 NA   \n",
       "111 NA   \n",
       "112 NA   \n",
       "113 NA   \n",
       "114 NA   \n",
       "115 NA   \n",
       "116 NA   \n",
       "117 NA   \n",
       "118 NA   \n",
       "119 NA   \n",
       "120 NA   \n",
       "121 NA   \n",
       "122 NA   \n",
       "123 NA   \n",
       "124  1   \n",
       "125 NA   "
      ]
     },
     "metadata": {},
     "output_type": "display_data"
    }
   ],
   "source": [
    "tennis_data %>% arrange(desc(Round))"
   ]
  },
  {
   "cell_type": "markdown",
   "metadata": {},
   "source": [
    "Notice how in the above code, we use `desc()` to sort from largest to smallest. "
   ]
  },
  {
   "cell_type": "markdown",
   "metadata": {},
   "source": [
    "Unforced errors are bad, so we might be interested in finding matches with the fewest unforced errors.  \n",
    "Again we'll use the `select` function because we are only interested in some of the columns. "
   ]
  },
  {
   "cell_type": "code",
   "execution_count": 12,
   "metadata": {},
   "outputs": [
    {
     "data": {
      "text/html": [
       "<table>\n",
       "<thead><tr><th scope=col>Player1</th><th scope=col>Player2</th><th scope=col>Round</th><th scope=col>Result</th><th scope=col>UFE.1</th><th scope=col>UFE.2</th></tr></thead>\n",
       "<tbody>\n",
       "\t<tr><td>Dmitry Tursunov</td><td>Victor Hanescu </td><td>2              </td><td>0              </td><td>15             </td><td>10             </td></tr>\n",
       "\t<tr><td>Alejandro Falla</td><td>Grigor Dimitrov</td><td>1              </td><td>0              </td><td>15             </td><td>16             </td></tr>\n",
       "\t<tr><td>Jurgen Zopp    </td><td>Tommy Robredo  </td><td>1              </td><td>0              </td><td>27             </td><td> 7             </td></tr>\n",
       "\t<tr><td>Blaz Kavcic    </td><td>James Duckworth</td><td>1              </td><td>1              </td><td> 8             </td><td>27             </td></tr>\n",
       "\t<tr><td>Igor Sijsling  </td><td>Jurgen Melzer  </td><td>1              </td><td>1              </td><td>16             </td><td>22             </td></tr>\n",
       "\t<tr><td>Nick Kyrgios   </td><td>Marin Cilic    </td><td>2              </td><td>0              </td><td>23             </td><td>15             </td></tr>\n",
       "</tbody>\n",
       "</table>\n"
      ],
      "text/latex": [
       "\\begin{tabular}{r|llllll}\n",
       " Player1 & Player2 & Round & Result & UFE.1 & UFE.2\\\\\n",
       "\\hline\n",
       "\t Dmitry Tursunov & Victor Hanescu  & 2               & 0               & 15              & 10             \\\\\n",
       "\t Alejandro Falla & Grigor Dimitrov & 1               & 0               & 15              & 16             \\\\\n",
       "\t Jurgen Zopp     & Tommy Robredo   & 1               & 0               & 27              &  7             \\\\\n",
       "\t Blaz Kavcic     & James Duckworth & 1               & 1               &  8              & 27             \\\\\n",
       "\t Igor Sijsling   & Jurgen Melzer   & 1               & 1               & 16              & 22             \\\\\n",
       "\t Nick Kyrgios    & Marin Cilic     & 2               & 0               & 23              & 15             \\\\\n",
       "\\end{tabular}\n"
      ],
      "text/markdown": [
       "\n",
       "| Player1 | Player2 | Round | Result | UFE.1 | UFE.2 |\n",
       "|---|---|---|---|---|---|\n",
       "| Dmitry Tursunov | Victor Hanescu  | 2               | 0               | 15              | 10              |\n",
       "| Alejandro Falla | Grigor Dimitrov | 1               | 0               | 15              | 16              |\n",
       "| Jurgen Zopp     | Tommy Robredo   | 1               | 0               | 27              |  7              |\n",
       "| Blaz Kavcic     | James Duckworth | 1               | 1               |  8              | 27              |\n",
       "| Igor Sijsling   | Jurgen Melzer   | 1               | 1               | 16              | 22              |\n",
       "| Nick Kyrgios    | Marin Cilic     | 2               | 0               | 23              | 15              |\n",
       "\n"
      ],
      "text/plain": [
       "  Player1         Player2         Round Result UFE.1 UFE.2\n",
       "1 Dmitry Tursunov Victor Hanescu  2     0      15    10   \n",
       "2 Alejandro Falla Grigor Dimitrov 1     0      15    16   \n",
       "3 Jurgen Zopp     Tommy Robredo   1     0      27     7   \n",
       "4 Blaz Kavcic     James Duckworth 1     1       8    27   \n",
       "5 Igor Sijsling   Jurgen Melzer   1     1      16    22   \n",
       "6 Nick Kyrgios    Marin Cilic     2     0      23    15   "
      ]
     },
     "metadata": {},
     "output_type": "display_data"
    }
   ],
   "source": [
    "tennis_data %>% \n",
    "    arrange(UFE.1+UFE.2) %>% \n",
    "    select(Player1:Result, UFE.1,UFE.2) %>% head() # use head so the whole table doesn't print out"
   ]
  },
  {
   "cell_type": "markdown",
   "metadata": {},
   "source": [
    "Remember that `select` has some helper functions. How could we rewrite the above code using `starts_with`?"
   ]
  },
  {
   "cell_type": "code",
   "execution_count": 13,
   "metadata": {
    "scrolled": true
   },
   "outputs": [
    {
     "data": {
      "text/html": [
       "<table>\n",
       "<thead><tr><th scope=col>Player1</th><th scope=col>Player2</th><th scope=col>Round</th><th scope=col>Result</th><th scope=col>UFE.1</th><th scope=col>UFE.2</th></tr></thead>\n",
       "<tbody>\n",
       "\t<tr><td>Dmitry Tursunov</td><td>Victor Hanescu </td><td>2              </td><td>0              </td><td>15             </td><td>10             </td></tr>\n",
       "\t<tr><td>Alejandro Falla</td><td>Grigor Dimitrov</td><td>1              </td><td>0              </td><td>15             </td><td>16             </td></tr>\n",
       "\t<tr><td>Jurgen Zopp    </td><td>Tommy Robredo  </td><td>1              </td><td>0              </td><td>27             </td><td> 7             </td></tr>\n",
       "\t<tr><td>Blaz Kavcic    </td><td>James Duckworth</td><td>1              </td><td>1              </td><td> 8             </td><td>27             </td></tr>\n",
       "\t<tr><td>Igor Sijsling  </td><td>Jurgen Melzer  </td><td>1              </td><td>1              </td><td>16             </td><td>22             </td></tr>\n",
       "\t<tr><td>Nick Kyrgios   </td><td>Marin Cilic    </td><td>2              </td><td>0              </td><td>23             </td><td>15             </td></tr>\n",
       "</tbody>\n",
       "</table>\n"
      ],
      "text/latex": [
       "\\begin{tabular}{r|llllll}\n",
       " Player1 & Player2 & Round & Result & UFE.1 & UFE.2\\\\\n",
       "\\hline\n",
       "\t Dmitry Tursunov & Victor Hanescu  & 2               & 0               & 15              & 10             \\\\\n",
       "\t Alejandro Falla & Grigor Dimitrov & 1               & 0               & 15              & 16             \\\\\n",
       "\t Jurgen Zopp     & Tommy Robredo   & 1               & 0               & 27              &  7             \\\\\n",
       "\t Blaz Kavcic     & James Duckworth & 1               & 1               &  8              & 27             \\\\\n",
       "\t Igor Sijsling   & Jurgen Melzer   & 1               & 1               & 16              & 22             \\\\\n",
       "\t Nick Kyrgios    & Marin Cilic     & 2               & 0               & 23              & 15             \\\\\n",
       "\\end{tabular}\n"
      ],
      "text/markdown": [
       "\n",
       "| Player1 | Player2 | Round | Result | UFE.1 | UFE.2 |\n",
       "|---|---|---|---|---|---|\n",
       "| Dmitry Tursunov | Victor Hanescu  | 2               | 0               | 15              | 10              |\n",
       "| Alejandro Falla | Grigor Dimitrov | 1               | 0               | 15              | 16              |\n",
       "| Jurgen Zopp     | Tommy Robredo   | 1               | 0               | 27              |  7              |\n",
       "| Blaz Kavcic     | James Duckworth | 1               | 1               |  8              | 27              |\n",
       "| Igor Sijsling   | Jurgen Melzer   | 1               | 1               | 16              | 22              |\n",
       "| Nick Kyrgios    | Marin Cilic     | 2               | 0               | 23              | 15              |\n",
       "\n"
      ],
      "text/plain": [
       "  Player1         Player2         Round Result UFE.1 UFE.2\n",
       "1 Dmitry Tursunov Victor Hanescu  2     0      15    10   \n",
       "2 Alejandro Falla Grigor Dimitrov 1     0      15    16   \n",
       "3 Jurgen Zopp     Tommy Robredo   1     0      27     7   \n",
       "4 Blaz Kavcic     James Duckworth 1     1       8    27   \n",
       "5 Igor Sijsling   Jurgen Melzer   1     1      16    22   \n",
       "6 Nick Kyrgios    Marin Cilic     2     0      23    15   "
      ]
     },
     "metadata": {},
     "output_type": "display_data"
    }
   ],
   "source": [
    "tennis_data %>% \n",
    "    arrange(UFE.1+UFE.2) %>% \n",
    "    select(Player1:Result, starts_with('UFE')) %>% \n",
    "    head()"
   ]
  },
  {
   "cell_type": "markdown",
   "metadata": {},
   "source": [
    "We can also use `contains()`"
   ]
  },
  {
   "cell_type": "code",
   "execution_count": 14,
   "metadata": {},
   "outputs": [
    {
     "data": {
      "text/html": [
       "<table>\n",
       "<thead><tr><th scope=col>Player1</th><th scope=col>Player2</th><th scope=col>Round</th><th scope=col>Result</th><th scope=col>UFE.1</th><th scope=col>UFE.2</th></tr></thead>\n",
       "<tbody>\n",
       "\t<tr><td>Dmitry Tursunov</td><td>Victor Hanescu </td><td>2              </td><td>0              </td><td>15             </td><td>10             </td></tr>\n",
       "\t<tr><td>Alejandro Falla</td><td>Grigor Dimitrov</td><td>1              </td><td>0              </td><td>15             </td><td>16             </td></tr>\n",
       "\t<tr><td>Jurgen Zopp    </td><td>Tommy Robredo  </td><td>1              </td><td>0              </td><td>27             </td><td> 7             </td></tr>\n",
       "\t<tr><td>Blaz Kavcic    </td><td>James Duckworth</td><td>1              </td><td>1              </td><td> 8             </td><td>27             </td></tr>\n",
       "\t<tr><td>Igor Sijsling  </td><td>Jurgen Melzer  </td><td>1              </td><td>1              </td><td>16             </td><td>22             </td></tr>\n",
       "\t<tr><td>Nick Kyrgios   </td><td>Marin Cilic    </td><td>2              </td><td>0              </td><td>23             </td><td>15             </td></tr>\n",
       "</tbody>\n",
       "</table>\n"
      ],
      "text/latex": [
       "\\begin{tabular}{r|llllll}\n",
       " Player1 & Player2 & Round & Result & UFE.1 & UFE.2\\\\\n",
       "\\hline\n",
       "\t Dmitry Tursunov & Victor Hanescu  & 2               & 0               & 15              & 10             \\\\\n",
       "\t Alejandro Falla & Grigor Dimitrov & 1               & 0               & 15              & 16             \\\\\n",
       "\t Jurgen Zopp     & Tommy Robredo   & 1               & 0               & 27              &  7             \\\\\n",
       "\t Blaz Kavcic     & James Duckworth & 1               & 1               &  8              & 27             \\\\\n",
       "\t Igor Sijsling   & Jurgen Melzer   & 1               & 1               & 16              & 22             \\\\\n",
       "\t Nick Kyrgios    & Marin Cilic     & 2               & 0               & 23              & 15             \\\\\n",
       "\\end{tabular}\n"
      ],
      "text/markdown": [
       "\n",
       "| Player1 | Player2 | Round | Result | UFE.1 | UFE.2 |\n",
       "|---|---|---|---|---|---|\n",
       "| Dmitry Tursunov | Victor Hanescu  | 2               | 0               | 15              | 10              |\n",
       "| Alejandro Falla | Grigor Dimitrov | 1               | 0               | 15              | 16              |\n",
       "| Jurgen Zopp     | Tommy Robredo   | 1               | 0               | 27              |  7              |\n",
       "| Blaz Kavcic     | James Duckworth | 1               | 1               |  8              | 27              |\n",
       "| Igor Sijsling   | Jurgen Melzer   | 1               | 1               | 16              | 22              |\n",
       "| Nick Kyrgios    | Marin Cilic     | 2               | 0               | 23              | 15              |\n",
       "\n"
      ],
      "text/plain": [
       "  Player1         Player2         Round Result UFE.1 UFE.2\n",
       "1 Dmitry Tursunov Victor Hanescu  2     0      15    10   \n",
       "2 Alejandro Falla Grigor Dimitrov 1     0      15    16   \n",
       "3 Jurgen Zopp     Tommy Robredo   1     0      27     7   \n",
       "4 Blaz Kavcic     James Duckworth 1     1       8    27   \n",
       "5 Igor Sijsling   Jurgen Melzer   1     1      16    22   \n",
       "6 Nick Kyrgios    Marin Cilic     2     0      23    15   "
      ]
     },
     "metadata": {},
     "output_type": "display_data"
    }
   ],
   "source": [
    "tennis_data %>% \n",
    "    arrange(UFE.1+UFE.2) %>% \n",
    "    select(Player1:Result, contains('UFE')) %>% \n",
    "    head()"
   ]
  },
  {
   "cell_type": "markdown",
   "metadata": {},
   "source": [
    "Notice that variables corresponding to `Player1` end in `1`. How would we select all the player 1 variables?"
   ]
  },
  {
   "cell_type": "code",
   "execution_count": 15,
   "metadata": {},
   "outputs": [
    {
     "data": {
      "text/html": [
       "<table>\n",
       "<thead><tr><th scope=col>Player1</th><th scope=col>FNL.1</th><th scope=col>FSP.1</th><th scope=col>FSW.1</th><th scope=col>SSP.1</th><th scope=col>SSW.1</th><th scope=col>ACE.1</th><th scope=col>DBF.1</th><th scope=col>WNR.1</th><th scope=col>UFE.1</th><th scope=col>BPC.1</th><th scope=col>BPW.1</th><th scope=col>NPA.1</th><th scope=col>NPW.1</th><th scope=col>TPW.1</th><th scope=col>ST1.1</th><th scope=col>ST2.1</th><th scope=col>ST3.1</th><th scope=col>ST4.1</th><th scope=col>ST5.1</th></tr></thead>\n",
       "<tbody>\n",
       "\t<tr><td>Pablo Carreno-Busta</td><td>0                  </td><td>62                 </td><td>27                 </td><td>38                 </td><td>11                 </td><td> 1                 </td><td>3                  </td><td>12                 </td><td>29                 </td><td> 1                 </td><td> 3                 </td><td> 9                 </td><td>20                 </td><td> 50                </td><td>2                  </td><td>2                  </td><td>3                  </td><td>NA                 </td><td>NA                 </td></tr>\n",
       "\t<tr><td>Somdev Devvarman   </td><td>3                  </td><td>62                 </td><td>54                 </td><td>38                 </td><td>22                 </td><td> 7                 </td><td>3                  </td><td>26                 </td><td>20                 </td><td> 5                 </td><td> 8                 </td><td>12                 </td><td>21                 </td><td>120                </td><td>6                  </td><td>6                  </td><td>7                  </td><td>NA                 </td><td>NA                 </td></tr>\n",
       "\t<tr><td>Tobias Kamke       </td><td>3                  </td><td>62                 </td><td>53                 </td><td>38                 </td><td>15                 </td><td> 4                 </td><td>6                  </td><td>42                 </td><td>55                 </td><td>10                 </td><td>22                 </td><td>14                 </td><td>32                 </td><td>140                </td><td>6                  </td><td>6                  </td><td>3                  </td><td> 0                 </td><td> 6                 </td></tr>\n",
       "\t<tr><td>Julien Benneteau   </td><td>3                  </td><td>72                 </td><td>87                 </td><td>28                 </td><td>19                 </td><td>14                 </td><td>2                  </td><td>48                 </td><td>27                 </td><td> 4                 </td><td>13                 </td><td>14                 </td><td>30                 </td><td>163                </td><td>7                  </td><td>6                  </td><td>5                  </td><td> 7                 </td><td>NA                 </td></tr>\n",
       "\t<tr><td>Lukas Lacko        </td><td>0                  </td><td>52                 </td><td>31                 </td><td>48                 </td><td>22                 </td><td> 4                 </td><td>4                  </td><td>21                 </td><td>24                 </td><td> 1                 </td><td> 1                 </td><td> 3                 </td><td> 5                 </td><td> 72                </td><td>3                  </td><td>4                  </td><td>4                  </td><td>NA                 </td><td>NA                 </td></tr>\n",
       "\t<tr><td>Jan Hajek          </td><td>3                  </td><td>70                 </td><td>58                 </td><td>30                 </td><td>18                 </td><td> 4                 </td><td>4                  </td><td>35                 </td><td>36                 </td><td> 6                 </td><td>12                 </td><td> 8                 </td><td>10                 </td><td>130                </td><td>6                  </td><td>5                  </td><td>6                  </td><td> 6                 </td><td>NA                 </td></tr>\n",
       "</tbody>\n",
       "</table>\n"
      ],
      "text/latex": [
       "\\begin{tabular}{r|llllllllllllllllllll}\n",
       " Player1 & FNL.1 & FSP.1 & FSW.1 & SSP.1 & SSW.1 & ACE.1 & DBF.1 & WNR.1 & UFE.1 & BPC.1 & BPW.1 & NPA.1 & NPW.1 & TPW.1 & ST1.1 & ST2.1 & ST3.1 & ST4.1 & ST5.1\\\\\n",
       "\\hline\n",
       "\t Pablo Carreno-Busta & 0                   & 62                  & 27                  & 38                  & 11                  &  1                  & 3                   & 12                  & 29                  &  1                  &  3                  &  9                  & 20                  &  50                 & 2                   & 2                   & 3                   & NA                  & NA                 \\\\\n",
       "\t Somdev Devvarman    & 3                   & 62                  & 54                  & 38                  & 22                  &  7                  & 3                   & 26                  & 20                  &  5                  &  8                  & 12                  & 21                  & 120                 & 6                   & 6                   & 7                   & NA                  & NA                 \\\\\n",
       "\t Tobias Kamke        & 3                   & 62                  & 53                  & 38                  & 15                  &  4                  & 6                   & 42                  & 55                  & 10                  & 22                  & 14                  & 32                  & 140                 & 6                   & 6                   & 3                   &  0                  &  6                 \\\\\n",
       "\t Julien Benneteau    & 3                   & 72                  & 87                  & 28                  & 19                  & 14                  & 2                   & 48                  & 27                  &  4                  & 13                  & 14                  & 30                  & 163                 & 7                   & 6                   & 5                   &  7                  & NA                 \\\\\n",
       "\t Lukas Lacko         & 0                   & 52                  & 31                  & 48                  & 22                  &  4                  & 4                   & 21                  & 24                  &  1                  &  1                  &  3                  &  5                  &  72                 & 3                   & 4                   & 4                   & NA                  & NA                 \\\\\n",
       "\t Jan Hajek           & 3                   & 70                  & 58                  & 30                  & 18                  &  4                  & 4                   & 35                  & 36                  &  6                  & 12                  &  8                  & 10                  & 130                 & 6                   & 5                   & 6                   &  6                  & NA                 \\\\\n",
       "\\end{tabular}\n"
      ],
      "text/markdown": [
       "\n",
       "| Player1 | FNL.1 | FSP.1 | FSW.1 | SSP.1 | SSW.1 | ACE.1 | DBF.1 | WNR.1 | UFE.1 | BPC.1 | BPW.1 | NPA.1 | NPW.1 | TPW.1 | ST1.1 | ST2.1 | ST3.1 | ST4.1 | ST5.1 |\n",
       "|---|---|---|---|---|---|---|---|---|---|---|---|---|---|---|---|---|---|---|---|\n",
       "| Pablo Carreno-Busta | 0                   | 62                  | 27                  | 38                  | 11                  |  1                  | 3                   | 12                  | 29                  |  1                  |  3                  |  9                  | 20                  |  50                 | 2                   | 2                   | 3                   | NA                  | NA                  |\n",
       "| Somdev Devvarman    | 3                   | 62                  | 54                  | 38                  | 22                  |  7                  | 3                   | 26                  | 20                  |  5                  |  8                  | 12                  | 21                  | 120                 | 6                   | 6                   | 7                   | NA                  | NA                  |\n",
       "| Tobias Kamke        | 3                   | 62                  | 53                  | 38                  | 15                  |  4                  | 6                   | 42                  | 55                  | 10                  | 22                  | 14                  | 32                  | 140                 | 6                   | 6                   | 3                   |  0                  |  6                  |\n",
       "| Julien Benneteau    | 3                   | 72                  | 87                  | 28                  | 19                  | 14                  | 2                   | 48                  | 27                  |  4                  | 13                  | 14                  | 30                  | 163                 | 7                   | 6                   | 5                   |  7                  | NA                  |\n",
       "| Lukas Lacko         | 0                   | 52                  | 31                  | 48                  | 22                  |  4                  | 4                   | 21                  | 24                  |  1                  |  1                  |  3                  |  5                  |  72                 | 3                   | 4                   | 4                   | NA                  | NA                  |\n",
       "| Jan Hajek           | 3                   | 70                  | 58                  | 30                  | 18                  |  4                  | 4                   | 35                  | 36                  |  6                  | 12                  |  8                  | 10                  | 130                 | 6                   | 5                   | 6                   |  6                  | NA                  |\n",
       "\n"
      ],
      "text/plain": [
       "  Player1             FNL.1 FSP.1 FSW.1 SSP.1 SSW.1 ACE.1 DBF.1 WNR.1 UFE.1\n",
       "1 Pablo Carreno-Busta 0     62    27    38    11     1    3     12    29   \n",
       "2 Somdev Devvarman    3     62    54    38    22     7    3     26    20   \n",
       "3 Tobias Kamke        3     62    53    38    15     4    6     42    55   \n",
       "4 Julien Benneteau    3     72    87    28    19    14    2     48    27   \n",
       "5 Lukas Lacko         0     52    31    48    22     4    4     21    24   \n",
       "6 Jan Hajek           3     70    58    30    18     4    4     35    36   \n",
       "  BPC.1 BPW.1 NPA.1 NPW.1 TPW.1 ST1.1 ST2.1 ST3.1 ST4.1 ST5.1\n",
       "1  1     3     9    20     50   2     2     3     NA    NA   \n",
       "2  5     8    12    21    120   6     6     7     NA    NA   \n",
       "3 10    22    14    32    140   6     6     3      0     6   \n",
       "4  4    13    14    30    163   7     6     5      7    NA   \n",
       "5  1     1     3     5     72   3     4     4     NA    NA   \n",
       "6  6    12     8    10    130   6     5     6      6    NA   "
      ]
     },
     "metadata": {},
     "output_type": "display_data"
    }
   ],
   "source": [
    "tennis_data %>% \n",
    "    select(ends_with('1')) %>% \n",
    "    head() "
   ]
  },
  {
   "cell_type": "markdown",
   "metadata": {},
   "source": [
    "### `mutate`"
   ]
  },
  {
   "cell_type": "markdown",
   "metadata": {},
   "source": [
    "We are likely interested in some aggregate statistics, i.e., combining the results of players 1 and 2 in a match. We'll use `mutate` to create new variables to analyze these statistics.  "
   ]
  },
  {
   "cell_type": "markdown",
   "metadata": {},
   "source": [
    "Suppose we're interested in looking at the length of matches (how many sets are played). One way to do this is to add `FNL1` (total number of sets won by player 1) to `FNL2` (total for player 2). "
   ]
  },
  {
   "cell_type": "code",
   "execution_count": 16,
   "metadata": {},
   "outputs": [],
   "source": [
    "tennis_data_2 = tennis_data %>% \n",
    "                    mutate(total_sets = FNL.1 + FNL.2)"
   ]
  },
  {
   "cell_type": "markdown",
   "metadata": {},
   "source": [
    "Now we can sort the matches from longest to shortest. "
   ]
  },
  {
   "cell_type": "code",
   "execution_count": 17,
   "metadata": {},
   "outputs": [
    {
     "data": {
      "text/html": [
       "<table>\n",
       "<thead><tr><th scope=col>Player1</th><th scope=col>Player2</th><th scope=col>Round</th><th scope=col>Result</th><th scope=col>FNL.1</th><th scope=col>FNL.2</th><th scope=col>FSP.1</th><th scope=col>FSW.1</th><th scope=col>SSP.1</th><th scope=col>SSW.1</th><th scope=col>...</th><th scope=col>BPW.2</th><th scope=col>NPA.2</th><th scope=col>NPW.2</th><th scope=col>TPW.2</th><th scope=col>ST1.2</th><th scope=col>ST2.2</th><th scope=col>ST3.2</th><th scope=col>ST4.2</th><th scope=col>ST5.2</th><th scope=col>total_sets</th></tr></thead>\n",
       "<tbody>\n",
       "\t<tr><td>Tobias Kamke        </td><td>Paolo Lorenzi       </td><td>1                   </td><td>1                   </td><td>3                   </td><td>2                   </td><td>62                  </td><td>53                  </td><td>38                  </td><td>15                  </td><td>...                 </td><td>18                  </td><td>19                  </td><td>27                  </td><td>139                 </td><td>3                   </td><td>3                   </td><td>6                   </td><td>6                   </td><td>3                   </td><td>5                   </td></tr>\n",
       "\t<tr><td>Adrian Mannarino    </td><td>Pablo Cuevas        </td><td>1                   </td><td>0                   </td><td>2                   </td><td>3                   </td><td>63                  </td><td>71                  </td><td>37                  </td><td>38                  </td><td>...                 </td><td>20                  </td><td>14                  </td><td>22                  </td><td>175                 </td><td>6                   </td><td>2                   </td><td>6                   </td><td>5                   </td><td>7                   </td><td>5                   </td></tr>\n",
       "\t<tr><td>Gilles Simon        </td><td>Lleyton Hewitt      </td><td>1                   </td><td>1                   </td><td>3                   </td><td>2                   </td><td>59                  </td><td>42                  </td><td>41                  </td><td>25                  </td><td>...                 </td><td>10                  </td><td>19                  </td><td>35                  </td><td>120                 </td><td>6                   </td><td>6                   </td><td>4                   </td><td>1                   </td><td>5                   </td><td>5                   </td></tr>\n",
       "\t<tr><td>Juan Monaco         </td><td>Daniel Gimeno-Traver</td><td>1                   </td><td>0                   </td><td>2                   </td><td>3                   </td><td>78                  </td><td>85                  </td><td>22                  </td><td>22                  </td><td>...                 </td><td>10                  </td><td>11                  </td><td>18                  </td><td>177                 </td><td>4                   </td><td>4                   </td><td>7                   </td><td>6                   </td><td>6                   </td><td>5                   </td></tr>\n",
       "\t<tr><td>Jarkko Nieminen     </td><td>Paul-Henri Mathieu  </td><td>1                   </td><td>1                   </td><td>3                   </td><td>2                   </td><td>69                  </td><td>84                  </td><td>31                  </td><td>29                  </td><td>...                 </td><td>15                  </td><td>24                  </td><td>33                  </td><td>163                 </td><td>4                   </td><td>6                   </td><td>6                   </td><td>6                   </td><td>2                   </td><td>5                   </td></tr>\n",
       "\t<tr><td>Steve Johnson       </td><td>Albert Montanes     </td><td>1                   </td><td>0                   </td><td>2                   </td><td>3                   </td><td>55                  </td><td>53                  </td><td>45                  </td><td>32                  </td><td>...                 </td><td>19                  </td><td>11                  </td><td>16                  </td><td>142                 </td><td>6                   </td><td>3                   </td><td>6                   </td><td>3                   </td><td>6                   </td><td>5                   </td></tr>\n",
       "</tbody>\n",
       "</table>\n"
      ],
      "text/latex": [
       "\\begin{tabular}{r|lllllllllllllllllllllllllllllllllllllllllll}\n",
       " Player1 & Player2 & Round & Result & FNL.1 & FNL.2 & FSP.1 & FSW.1 & SSP.1 & SSW.1 & ... & BPW.2 & NPA.2 & NPW.2 & TPW.2 & ST1.2 & ST2.2 & ST3.2 & ST4.2 & ST5.2 & total\\_sets\\\\\n",
       "\\hline\n",
       "\t Tobias Kamke         & Paolo Lorenzi        & 1                    & 1                    & 3                    & 2                    & 62                   & 53                   & 38                   & 15                   & ...                  & 18                   & 19                   & 27                   & 139                  & 3                    & 3                    & 6                    & 6                    & 3                    & 5                   \\\\\n",
       "\t Adrian Mannarino     & Pablo Cuevas         & 1                    & 0                    & 2                    & 3                    & 63                   & 71                   & 37                   & 38                   & ...                  & 20                   & 14                   & 22                   & 175                  & 6                    & 2                    & 6                    & 5                    & 7                    & 5                   \\\\\n",
       "\t Gilles Simon         & Lleyton Hewitt       & 1                    & 1                    & 3                    & 2                    & 59                   & 42                   & 41                   & 25                   & ...                  & 10                   & 19                   & 35                   & 120                  & 6                    & 6                    & 4                    & 1                    & 5                    & 5                   \\\\\n",
       "\t Juan Monaco          & Daniel Gimeno-Traver & 1                    & 0                    & 2                    & 3                    & 78                   & 85                   & 22                   & 22                   & ...                  & 10                   & 11                   & 18                   & 177                  & 4                    & 4                    & 7                    & 6                    & 6                    & 5                   \\\\\n",
       "\t Jarkko Nieminen      & Paul-Henri Mathieu   & 1                    & 1                    & 3                    & 2                    & 69                   & 84                   & 31                   & 29                   & ...                  & 15                   & 24                   & 33                   & 163                  & 4                    & 6                    & 6                    & 6                    & 2                    & 5                   \\\\\n",
       "\t Steve Johnson        & Albert Montanes      & 1                    & 0                    & 2                    & 3                    & 55                   & 53                   & 45                   & 32                   & ...                  & 19                   & 11                   & 16                   & 142                  & 6                    & 3                    & 6                    & 3                    & 6                    & 5                   \\\\\n",
       "\\end{tabular}\n"
      ],
      "text/markdown": [
       "\n",
       "| Player1 | Player2 | Round | Result | FNL.1 | FNL.2 | FSP.1 | FSW.1 | SSP.1 | SSW.1 | ... | BPW.2 | NPA.2 | NPW.2 | TPW.2 | ST1.2 | ST2.2 | ST3.2 | ST4.2 | ST5.2 | total_sets |\n",
       "|---|---|---|---|---|---|---|---|---|---|---|---|---|---|---|---|---|---|---|---|---|\n",
       "| Tobias Kamke         | Paolo Lorenzi        | 1                    | 1                    | 3                    | 2                    | 62                   | 53                   | 38                   | 15                   | ...                  | 18                   | 19                   | 27                   | 139                  | 3                    | 3                    | 6                    | 6                    | 3                    | 5                    |\n",
       "| Adrian Mannarino     | Pablo Cuevas         | 1                    | 0                    | 2                    | 3                    | 63                   | 71                   | 37                   | 38                   | ...                  | 20                   | 14                   | 22                   | 175                  | 6                    | 2                    | 6                    | 5                    | 7                    | 5                    |\n",
       "| Gilles Simon         | Lleyton Hewitt       | 1                    | 1                    | 3                    | 2                    | 59                   | 42                   | 41                   | 25                   | ...                  | 10                   | 19                   | 35                   | 120                  | 6                    | 6                    | 4                    | 1                    | 5                    | 5                    |\n",
       "| Juan Monaco          | Daniel Gimeno-Traver | 1                    | 0                    | 2                    | 3                    | 78                   | 85                   | 22                   | 22                   | ...                  | 10                   | 11                   | 18                   | 177                  | 4                    | 4                    | 7                    | 6                    | 6                    | 5                    |\n",
       "| Jarkko Nieminen      | Paul-Henri Mathieu   | 1                    | 1                    | 3                    | 2                    | 69                   | 84                   | 31                   | 29                   | ...                  | 15                   | 24                   | 33                   | 163                  | 4                    | 6                    | 6                    | 6                    | 2                    | 5                    |\n",
       "| Steve Johnson        | Albert Montanes      | 1                    | 0                    | 2                    | 3                    | 55                   | 53                   | 45                   | 32                   | ...                  | 19                   | 11                   | 16                   | 142                  | 6                    | 3                    | 6                    | 3                    | 6                    | 5                    |\n",
       "\n"
      ],
      "text/plain": [
       "  Player1          Player2              Round Result FNL.1 FNL.2 FSP.1 FSW.1\n",
       "1 Tobias Kamke     Paolo Lorenzi        1     1      3     2     62    53   \n",
       "2 Adrian Mannarino Pablo Cuevas         1     0      2     3     63    71   \n",
       "3 Gilles Simon     Lleyton Hewitt       1     1      3     2     59    42   \n",
       "4 Juan Monaco      Daniel Gimeno-Traver 1     0      2     3     78    85   \n",
       "5 Jarkko Nieminen  Paul-Henri Mathieu   1     1      3     2     69    84   \n",
       "6 Steve Johnson    Albert Montanes      1     0      2     3     55    53   \n",
       "  SSP.1 SSW.1 ... BPW.2 NPA.2 NPW.2 TPW.2 ST1.2 ST2.2 ST3.2 ST4.2 ST5.2\n",
       "1 38    15    ... 18    19    27    139   3     3     6     6     3    \n",
       "2 37    38    ... 20    14    22    175   6     2     6     5     7    \n",
       "3 41    25    ... 10    19    35    120   6     6     4     1     5    \n",
       "4 22    22    ... 10    11    18    177   4     4     7     6     6    \n",
       "5 31    29    ... 15    24    33    163   4     6     6     6     2    \n",
       "6 45    32    ... 19    11    16    142   6     3     6     3     6    \n",
       "  total_sets\n",
       "1 5         \n",
       "2 5         \n",
       "3 5         \n",
       "4 5         \n",
       "5 5         \n",
       "6 5         "
      ]
     },
     "metadata": {},
     "output_type": "display_data"
    }
   ],
   "source": [
    "tennis_data_2 %>% \n",
    "    arrange(desc(total_sets)) %>% \n",
    "    head()"
   ]
  },
  {
   "cell_type": "markdown",
   "metadata": {},
   "source": [
    "## Exercises"
   ]
  },
  {
   "cell_type": "markdown",
   "metadata": {},
   "source": [
    "1. A better measure of match length might be to measure the total number of points played. Compute `total_points` from the variables `TPW.1` and `TPW.2`. Add this to `tennis_data_2`.\n",
    "2. Create a variable `ace_rate` which is the total number of aces in a match divided by the total number of points played. Add this to `tennis_data_2`.\n",
    "3. Create a variable `cilic` that is `TRUE` for all matches in which Marin Cilic played and `FALSE` otherwise. \n",
    "4. Sort the data by `Round`, then by `ace_rate` \n",
    "5. Create a table containing all matches before the 6th round in which both players had a first serve percentage above 65% \n",
    "6. A player wins in straight sets if his opponent does not win a single set. How many matches were *not* won in straight sets. "
   ]
  },
  {
   "cell_type": "code",
   "execution_count": 18,
   "metadata": {},
   "outputs": [],
   "source": [
    "#1 \n",
    "tennis_data_2 = tennis_data_2 %>% mutate(total_points = TPW.1 + TPW.2) "
   ]
  },
  {
   "cell_type": "code",
   "execution_count": 19,
   "metadata": {},
   "outputs": [],
   "source": [
    "#2 \n",
    "tennis_data_2 = tennis_data_2 %>% mutate(ace_rate = (ACE.1+ACE.2)/total_points)"
   ]
  },
  {
   "cell_type": "code",
   "execution_count": 20,
   "metadata": {},
   "outputs": [
    {
     "data": {
      "text/html": [
       "<table>\n",
       "<thead><tr><th scope=col>Player1</th><th scope=col>Player2</th><th scope=col>Round</th><th scope=col>Result</th><th scope=col>FNL.1</th><th scope=col>FNL.2</th><th scope=col>FSP.1</th><th scope=col>FSW.1</th><th scope=col>SSP.1</th><th scope=col>SSW.1</th><th scope=col>...</th><th scope=col>TPW.2</th><th scope=col>ST1.2</th><th scope=col>ST2.2</th><th scope=col>ST3.2</th><th scope=col>ST4.2</th><th scope=col>ST5.2</th><th scope=col>total_sets</th><th scope=col>total_points</th><th scope=col>ace_rate</th><th scope=col>cilic</th></tr></thead>\n",
       "<tbody>\n",
       "\t<tr><td>Pablo Carreno-Busta    </td><td>Roger Federer          </td><td>1                      </td><td>0                      </td><td>0                      </td><td>3                      </td><td>62                     </td><td>27                     </td><td>38                     </td><td>11                     </td><td>...                    </td><td> 88                    </td><td>6                      </td><td>6                      </td><td>6                      </td><td>NA                     </td><td>NA                     </td><td>3                      </td><td>138                    </td><td>0.07971014             </td><td>FALSE                  </td></tr>\n",
       "\t<tr><td>Somdev Devvarman       </td><td>Daniel Munoz-De La Nava</td><td>1                      </td><td>1                      </td><td>3                      </td><td>0                      </td><td>62                     </td><td>54                     </td><td>38                     </td><td>22                     </td><td>...                    </td><td>106                    </td><td>3                      </td><td>3                      </td><td>5                      </td><td>NA                     </td><td>NA                     </td><td>3                      </td><td>226                    </td><td>0.03097345             </td><td>FALSE                  </td></tr>\n",
       "\t<tr><td>Tobias Kamke           </td><td>Paolo Lorenzi          </td><td>1                      </td><td>1                      </td><td>3                      </td><td>2                      </td><td>62                     </td><td>53                     </td><td>38                     </td><td>15                     </td><td>...                    </td><td>139                    </td><td>3                      </td><td>3                      </td><td>6                      </td><td> 6                     </td><td> 3                     </td><td>5                      </td><td>279                    </td><td>0.03584229             </td><td>FALSE                  </td></tr>\n",
       "\t<tr><td>Julien Benneteau       </td><td>Ricardas Berankis      </td><td>1                      </td><td>1                      </td><td>3                      </td><td>1                      </td><td>72                     </td><td>87                     </td><td>28                     </td><td>19                     </td><td>...                    </td><td>149                    </td><td>6                      </td><td>3                      </td><td>7                      </td><td> 6                     </td><td>NA                     </td><td>4                      </td><td>312                    </td><td>0.08653846             </td><td>FALSE                  </td></tr>\n",
       "\t<tr><td>Lukas Lacko            </td><td>Sam Querrey            </td><td>1                      </td><td>0                      </td><td>0                      </td><td>3                      </td><td>52                     </td><td>31                     </td><td>48                     </td><td>22                     </td><td>...                    </td><td> 93                    </td><td>6                      </td><td>6                      </td><td>6                      </td><td>NA                     </td><td>NA                     </td><td>3                      </td><td>165                    </td><td>0.08484848             </td><td>FALSE                  </td></tr>\n",
       "\t<tr><td>Jan Hajek              </td><td>Denis Kudla            </td><td>1                      </td><td>1                      </td><td>3                      </td><td>1                      </td><td>70                     </td><td>58                     </td><td>30                     </td><td>18                     </td><td>...                    </td><td> 93                    </td><td>2                      </td><td>7                      </td><td>0                      </td><td> 4                     </td><td>NA                     </td><td>4                      </td><td>223                    </td><td>0.04035874             </td><td>FALSE                  </td></tr>\n",
       "</tbody>\n",
       "</table>\n"
      ],
      "text/latex": [
       "\\begin{tabular}{r|llllllllllllllllllllllllllllllllllllllllllllll}\n",
       " Player1 & Player2 & Round & Result & FNL.1 & FNL.2 & FSP.1 & FSW.1 & SSP.1 & SSW.1 & ... & TPW.2 & ST1.2 & ST2.2 & ST3.2 & ST4.2 & ST5.2 & total\\_sets & total\\_points & ace\\_rate & cilic\\\\\n",
       "\\hline\n",
       "\t Pablo Carreno-Busta     & Roger Federer           & 1                       & 0                       & 0                       & 3                       & 62                      & 27                      & 38                      & 11                      & ...                     &  88                     & 6                       & 6                       & 6                       & NA                      & NA                      & 3                       & 138                     & 0.07971014              & FALSE                  \\\\\n",
       "\t Somdev Devvarman        & Daniel Munoz-De La Nava & 1                       & 1                       & 3                       & 0                       & 62                      & 54                      & 38                      & 22                      & ...                     & 106                     & 3                       & 3                       & 5                       & NA                      & NA                      & 3                       & 226                     & 0.03097345              & FALSE                  \\\\\n",
       "\t Tobias Kamke            & Paolo Lorenzi           & 1                       & 1                       & 3                       & 2                       & 62                      & 53                      & 38                      & 15                      & ...                     & 139                     & 3                       & 3                       & 6                       &  6                      &  3                      & 5                       & 279                     & 0.03584229              & FALSE                  \\\\\n",
       "\t Julien Benneteau        & Ricardas Berankis       & 1                       & 1                       & 3                       & 1                       & 72                      & 87                      & 28                      & 19                      & ...                     & 149                     & 6                       & 3                       & 7                       &  6                      & NA                      & 4                       & 312                     & 0.08653846              & FALSE                  \\\\\n",
       "\t Lukas Lacko             & Sam Querrey             & 1                       & 0                       & 0                       & 3                       & 52                      & 31                      & 48                      & 22                      & ...                     &  93                     & 6                       & 6                       & 6                       & NA                      & NA                      & 3                       & 165                     & 0.08484848              & FALSE                  \\\\\n",
       "\t Jan Hajek               & Denis Kudla             & 1                       & 1                       & 3                       & 1                       & 70                      & 58                      & 30                      & 18                      & ...                     &  93                     & 2                       & 7                       & 0                       &  4                      & NA                      & 4                       & 223                     & 0.04035874              & FALSE                  \\\\\n",
       "\\end{tabular}\n"
      ],
      "text/markdown": [
       "\n",
       "| Player1 | Player2 | Round | Result | FNL.1 | FNL.2 | FSP.1 | FSW.1 | SSP.1 | SSW.1 | ... | TPW.2 | ST1.2 | ST2.2 | ST3.2 | ST4.2 | ST5.2 | total_sets | total_points | ace_rate | cilic |\n",
       "|---|---|---|---|---|---|---|---|---|---|---|---|---|---|---|---|---|---|---|---|---|\n",
       "| Pablo Carreno-Busta     | Roger Federer           | 1                       | 0                       | 0                       | 3                       | 62                      | 27                      | 38                      | 11                      | ...                     |  88                     | 6                       | 6                       | 6                       | NA                      | NA                      | 3                       | 138                     | 0.07971014              | FALSE                   |\n",
       "| Somdev Devvarman        | Daniel Munoz-De La Nava | 1                       | 1                       | 3                       | 0                       | 62                      | 54                      | 38                      | 22                      | ...                     | 106                     | 3                       | 3                       | 5                       | NA                      | NA                      | 3                       | 226                     | 0.03097345              | FALSE                   |\n",
       "| Tobias Kamke            | Paolo Lorenzi           | 1                       | 1                       | 3                       | 2                       | 62                      | 53                      | 38                      | 15                      | ...                     | 139                     | 3                       | 3                       | 6                       |  6                      |  3                      | 5                       | 279                     | 0.03584229              | FALSE                   |\n",
       "| Julien Benneteau        | Ricardas Berankis       | 1                       | 1                       | 3                       | 1                       | 72                      | 87                      | 28                      | 19                      | ...                     | 149                     | 6                       | 3                       | 7                       |  6                      | NA                      | 4                       | 312                     | 0.08653846              | FALSE                   |\n",
       "| Lukas Lacko             | Sam Querrey             | 1                       | 0                       | 0                       | 3                       | 52                      | 31                      | 48                      | 22                      | ...                     |  93                     | 6                       | 6                       | 6                       | NA                      | NA                      | 3                       | 165                     | 0.08484848              | FALSE                   |\n",
       "| Jan Hajek               | Denis Kudla             | 1                       | 1                       | 3                       | 1                       | 70                      | 58                      | 30                      | 18                      | ...                     |  93                     | 2                       | 7                       | 0                       |  4                      | NA                      | 4                       | 223                     | 0.04035874              | FALSE                   |\n",
       "\n"
      ],
      "text/plain": [
       "  Player1             Player2                 Round Result FNL.1 FNL.2 FSP.1\n",
       "1 Pablo Carreno-Busta Roger Federer           1     0      0     3     62   \n",
       "2 Somdev Devvarman    Daniel Munoz-De La Nava 1     1      3     0     62   \n",
       "3 Tobias Kamke        Paolo Lorenzi           1     1      3     2     62   \n",
       "4 Julien Benneteau    Ricardas Berankis       1     1      3     1     72   \n",
       "5 Lukas Lacko         Sam Querrey             1     0      0     3     52   \n",
       "6 Jan Hajek           Denis Kudla             1     1      3     1     70   \n",
       "  FSW.1 SSP.1 SSW.1 ... TPW.2 ST1.2 ST2.2 ST3.2 ST4.2 ST5.2 total_sets\n",
       "1 27    38    11    ...  88   6     6     6     NA    NA    3         \n",
       "2 54    38    22    ... 106   3     3     5     NA    NA    3         \n",
       "3 53    38    15    ... 139   3     3     6      6     3    5         \n",
       "4 87    28    19    ... 149   6     3     7      6    NA    4         \n",
       "5 31    48    22    ...  93   6     6     6     NA    NA    3         \n",
       "6 58    30    18    ...  93   2     7     0      4    NA    4         \n",
       "  total_points ace_rate   cilic\n",
       "1 138          0.07971014 FALSE\n",
       "2 226          0.03097345 FALSE\n",
       "3 279          0.03584229 FALSE\n",
       "4 312          0.08653846 FALSE\n",
       "5 165          0.08484848 FALSE\n",
       "6 223          0.04035874 FALSE"
      ]
     },
     "metadata": {},
     "output_type": "display_data"
    }
   ],
   "source": [
    "#3\n",
    "mutate(tennis_data_2, cilic=(Player1=='Marin Cilic' | Player2=='Marin Cilic')) %>% head()"
   ]
  },
  {
   "cell_type": "code",
   "execution_count": 21,
   "metadata": {},
   "outputs": [
    {
     "data": {
      "text/html": [
       "<table>\n",
       "<thead><tr><th scope=col>Player1</th><th scope=col>Player2</th><th scope=col>Round</th><th scope=col>Result</th><th scope=col>FNL.1</th><th scope=col>FNL.2</th><th scope=col>FSP.1</th><th scope=col>FSW.1</th><th scope=col>SSP.1</th><th scope=col>SSW.1</th><th scope=col>...</th><th scope=col>NPW.2</th><th scope=col>TPW.2</th><th scope=col>ST1.2</th><th scope=col>ST2.2</th><th scope=col>ST3.2</th><th scope=col>ST4.2</th><th scope=col>ST5.2</th><th scope=col>total_sets</th><th scope=col>total_points</th><th scope=col>ace_rate</th></tr></thead>\n",
       "<tbody>\n",
       "\t<tr><td>Jesse Levine          </td><td>Kei Nishikori         </td><td>1                     </td><td>0                     </td><td>0                     </td><td>3                     </td><td>52                    </td><td>16                    </td><td>48                    </td><td> 9                    </td><td>...                   </td><td> 7                    </td><td>86                    </td><td>6                     </td><td>6                     </td><td>6                     </td><td>NA                    </td><td>NA                    </td><td>3                     </td><td>135                   </td><td>0.02222222            </td></tr>\n",
       "\t<tr><td>Marinko Matosevic     </td><td>David Ferrer          </td><td>1                     </td><td>0                     </td><td>0                     </td><td>3                     </td><td>59                    </td><td>29                    </td><td>41                    </td><td>10                    </td><td>...                   </td><td>11                    </td><td>98                    </td><td>6                     </td><td>6                     </td><td>6                     </td><td>NA                    </td><td>NA                    </td><td>3                     </td><td>174                   </td><td>0.02298851            </td></tr>\n",
       "\t<tr><td>Florent Serra         </td><td>Nikolay Davydenko     </td><td>1                     </td><td>0                     </td><td>0                     </td><td>3                     </td><td>64                    </td><td>35                    </td><td>36                    </td><td>13                    </td><td>...                   </td><td> 5                    </td><td>96                    </td><td>6                     </td><td>6                     </td><td>7                     </td><td>NA                    </td><td>NA                    </td><td>3                     </td><td>171                   </td><td>0.02339181            </td></tr>\n",
       "\t<tr><td>Jack Sock             </td><td>Guillermo Garcia-Lopez</td><td>1                     </td><td>1                     </td><td>3                     </td><td>0                     </td><td>56                    </td><td>32                    </td><td>44                    </td><td>23                    </td><td>...                   </td><td>14                    </td><td>66                    </td><td>2                     </td><td>2                     </td><td>5                     </td><td>NA                    </td><td>NA                    </td><td>3                     </td><td>163                   </td><td>0.02453988            </td></tr>\n",
       "\t<tr><td>Sergiy Stakhovsky     </td><td>Richard Gasquet       </td><td>1                     </td><td>0                     </td><td>0                     </td><td>3                     </td><td>55                    </td><td>22                    </td><td>45                    </td><td>17                    </td><td>...                   </td><td>27                    </td><td>88                    </td><td>6                     </td><td>6                     </td><td>6                     </td><td>NA                    </td><td>NA                    </td><td>3                     </td><td>145                   </td><td>0.02758621            </td></tr>\n",
       "\t<tr><td>Blaz Kavcic           </td><td>James Duckworth       </td><td>1                     </td><td>1                     </td><td>3                     </td><td>0                     </td><td>63                    </td><td>33                    </td><td>37                    </td><td>17                    </td><td>...                   </td><td>22                    </td><td>50                    </td><td>2                     </td><td>2                     </td><td>2                     </td><td>NA                    </td><td>NA                    </td><td>3                     </td><td>139                   </td><td>0.02877698            </td></tr>\n",
       "</tbody>\n",
       "</table>\n"
      ],
      "text/latex": [
       "\\begin{tabular}{r|lllllllllllllllllllllllllllllllllllllllllllll}\n",
       " Player1 & Player2 & Round & Result & FNL.1 & FNL.2 & FSP.1 & FSW.1 & SSP.1 & SSW.1 & ... & NPW.2 & TPW.2 & ST1.2 & ST2.2 & ST3.2 & ST4.2 & ST5.2 & total\\_sets & total\\_points & ace\\_rate\\\\\n",
       "\\hline\n",
       "\t Jesse Levine           & Kei Nishikori          & 1                      & 0                      & 0                      & 3                      & 52                     & 16                     & 48                     &  9                     & ...                    &  7                     & 86                     & 6                      & 6                      & 6                      & NA                     & NA                     & 3                      & 135                    & 0.02222222            \\\\\n",
       "\t Marinko Matosevic      & David Ferrer           & 1                      & 0                      & 0                      & 3                      & 59                     & 29                     & 41                     & 10                     & ...                    & 11                     & 98                     & 6                      & 6                      & 6                      & NA                     & NA                     & 3                      & 174                    & 0.02298851            \\\\\n",
       "\t Florent Serra          & Nikolay Davydenko      & 1                      & 0                      & 0                      & 3                      & 64                     & 35                     & 36                     & 13                     & ...                    &  5                     & 96                     & 6                      & 6                      & 7                      & NA                     & NA                     & 3                      & 171                    & 0.02339181            \\\\\n",
       "\t Jack Sock              & Guillermo Garcia-Lopez & 1                      & 1                      & 3                      & 0                      & 56                     & 32                     & 44                     & 23                     & ...                    & 14                     & 66                     & 2                      & 2                      & 5                      & NA                     & NA                     & 3                      & 163                    & 0.02453988            \\\\\n",
       "\t Sergiy Stakhovsky      & Richard Gasquet        & 1                      & 0                      & 0                      & 3                      & 55                     & 22                     & 45                     & 17                     & ...                    & 27                     & 88                     & 6                      & 6                      & 6                      & NA                     & NA                     & 3                      & 145                    & 0.02758621            \\\\\n",
       "\t Blaz Kavcic            & James Duckworth        & 1                      & 1                      & 3                      & 0                      & 63                     & 33                     & 37                     & 17                     & ...                    & 22                     & 50                     & 2                      & 2                      & 2                      & NA                     & NA                     & 3                      & 139                    & 0.02877698            \\\\\n",
       "\\end{tabular}\n"
      ],
      "text/markdown": [
       "\n",
       "| Player1 | Player2 | Round | Result | FNL.1 | FNL.2 | FSP.1 | FSW.1 | SSP.1 | SSW.1 | ... | NPW.2 | TPW.2 | ST1.2 | ST2.2 | ST3.2 | ST4.2 | ST5.2 | total_sets | total_points | ace_rate |\n",
       "|---|---|---|---|---|---|---|---|---|---|---|---|---|---|---|---|---|---|---|---|---|\n",
       "| Jesse Levine           | Kei Nishikori          | 1                      | 0                      | 0                      | 3                      | 52                     | 16                     | 48                     |  9                     | ...                    |  7                     | 86                     | 6                      | 6                      | 6                      | NA                     | NA                     | 3                      | 135                    | 0.02222222             |\n",
       "| Marinko Matosevic      | David Ferrer           | 1                      | 0                      | 0                      | 3                      | 59                     | 29                     | 41                     | 10                     | ...                    | 11                     | 98                     | 6                      | 6                      | 6                      | NA                     | NA                     | 3                      | 174                    | 0.02298851             |\n",
       "| Florent Serra          | Nikolay Davydenko      | 1                      | 0                      | 0                      | 3                      | 64                     | 35                     | 36                     | 13                     | ...                    |  5                     | 96                     | 6                      | 6                      | 7                      | NA                     | NA                     | 3                      | 171                    | 0.02339181             |\n",
       "| Jack Sock              | Guillermo Garcia-Lopez | 1                      | 1                      | 3                      | 0                      | 56                     | 32                     | 44                     | 23                     | ...                    | 14                     | 66                     | 2                      | 2                      | 5                      | NA                     | NA                     | 3                      | 163                    | 0.02453988             |\n",
       "| Sergiy Stakhovsky      | Richard Gasquet        | 1                      | 0                      | 0                      | 3                      | 55                     | 22                     | 45                     | 17                     | ...                    | 27                     | 88                     | 6                      | 6                      | 6                      | NA                     | NA                     | 3                      | 145                    | 0.02758621             |\n",
       "| Blaz Kavcic            | James Duckworth        | 1                      | 1                      | 3                      | 0                      | 63                     | 33                     | 37                     | 17                     | ...                    | 22                     | 50                     | 2                      | 2                      | 2                      | NA                     | NA                     | 3                      | 139                    | 0.02877698             |\n",
       "\n"
      ],
      "text/plain": [
       "  Player1           Player2                Round Result FNL.1 FNL.2 FSP.1 FSW.1\n",
       "1 Jesse Levine      Kei Nishikori          1     0      0     3     52    16   \n",
       "2 Marinko Matosevic David Ferrer           1     0      0     3     59    29   \n",
       "3 Florent Serra     Nikolay Davydenko      1     0      0     3     64    35   \n",
       "4 Jack Sock         Guillermo Garcia-Lopez 1     1      3     0     56    32   \n",
       "5 Sergiy Stakhovsky Richard Gasquet        1     0      0     3     55    22   \n",
       "6 Blaz Kavcic       James Duckworth        1     1      3     0     63    33   \n",
       "  SSP.1 SSW.1 ... NPW.2 TPW.2 ST1.2 ST2.2 ST3.2 ST4.2 ST5.2 total_sets\n",
       "1 48     9    ...  7    86    6     6     6     NA    NA    3         \n",
       "2 41    10    ... 11    98    6     6     6     NA    NA    3         \n",
       "3 36    13    ...  5    96    6     6     7     NA    NA    3         \n",
       "4 44    23    ... 14    66    2     2     5     NA    NA    3         \n",
       "5 45    17    ... 27    88    6     6     6     NA    NA    3         \n",
       "6 37    17    ... 22    50    2     2     2     NA    NA    3         \n",
       "  total_points ace_rate  \n",
       "1 135          0.02222222\n",
       "2 174          0.02298851\n",
       "3 171          0.02339181\n",
       "4 163          0.02453988\n",
       "5 145          0.02758621\n",
       "6 139          0.02877698"
      ]
     },
     "metadata": {},
     "output_type": "display_data"
    }
   ],
   "source": [
    "#4\n",
    "tennis_data_2 %>% \n",
    "    arrange(Round, ace_rate) %>% \n",
    "    head()"
   ]
  },
  {
   "cell_type": "code",
   "execution_count": 22,
   "metadata": {
    "scrolled": true
   },
   "outputs": [
    {
     "data": {
      "text/html": [
       "<table>\n",
       "<thead><tr><th scope=col>Player1</th><th scope=col>Player2</th><th scope=col>Round</th><th scope=col>Result</th><th scope=col>FNL.1</th><th scope=col>FNL.2</th><th scope=col>FSP.1</th><th scope=col>FSW.1</th><th scope=col>SSP.1</th><th scope=col>SSW.1</th><th scope=col>...</th><th scope=col>NPW.2</th><th scope=col>TPW.2</th><th scope=col>ST1.2</th><th scope=col>ST2.2</th><th scope=col>ST3.2</th><th scope=col>ST4.2</th><th scope=col>ST5.2</th><th scope=col>total_sets</th><th scope=col>total_points</th><th scope=col>ace_rate</th></tr></thead>\n",
       "<tbody>\n",
       "\t<tr><td>Jan Hajek         </td><td>Denis Kudla       </td><td>1                 </td><td>1                 </td><td>3                 </td><td>1                 </td><td>70                </td><td>58                </td><td>30                </td><td>18                </td><td>...               </td><td> 9                </td><td> 93               </td><td>2                 </td><td>7                 </td><td>0                 </td><td> 4                </td><td>NA                </td><td>4                 </td><td>223               </td><td>0.04035874        </td></tr>\n",
       "\t<tr><td>Benjamin Becker   </td><td>Jeremy Chardy     </td><td>1                 </td><td>0                 </td><td>0                 </td><td>3                 </td><td>66                </td><td>48                </td><td>34                </td><td>13                </td><td>...               </td><td>16                </td><td>108               </td><td>6                 </td><td>6                 </td><td>7                 </td><td>NA                </td><td>NA                </td><td>3                 </td><td>193               </td><td>0.08808290        </td></tr>\n",
       "\t<tr><td>Tomas Berdych     </td><td>Gael Monfils      </td><td>1                 </td><td>0                 </td><td>2                 </td><td>3                 </td><td>66                </td><td>91                </td><td>34                </td><td>33                </td><td>...               </td><td>21                </td><td>189               </td><td>7                 </td><td>6                 </td><td>6                 </td><td> 6                </td><td> 7                </td><td>5                 </td><td>363               </td><td>0.10192837        </td></tr>\n",
       "\t<tr><td>Michal Przysiezny </td><td>Rhyne Williams    </td><td>1                 </td><td>1                 </td><td>3                 </td><td>1                 </td><td>67                </td><td>75                </td><td>33                </td><td>27                </td><td>...               </td><td>16                </td><td>134               </td><td>3                 </td><td>7                 </td><td>5                 </td><td> 5                </td><td>NA                </td><td>4                 </td><td>285               </td><td>0.11228070        </td></tr>\n",
       "\t<tr><td>Stanislas Wawrinka</td><td>Thiemo De Bakker  </td><td>1                 </td><td>1                 </td><td>3                 </td><td>1                 </td><td>69                </td><td>74                </td><td>31                </td><td>24                </td><td>...               </td><td>33                </td><td>135               </td><td>5                 </td><td>3                 </td><td>7                 </td><td> 5                </td><td>NA                </td><td>4                 </td><td>281               </td><td>0.05693950        </td></tr>\n",
       "\t<tr><td>Rafael Nadal      </td><td>Daniel Brands     </td><td>1                 </td><td>1                 </td><td>3                 </td><td>1                 </td><td>84                </td><td>74                </td><td>16                </td><td>12                </td><td>...               </td><td>40                </td><td>115               </td><td>6                 </td><td>6                 </td><td>4                 </td><td> 3                </td><td>NA                </td><td>4                 </td><td>255               </td><td>0.04705882        </td></tr>\n",
       "\t<tr><td>Evgeny Donskoy    </td><td>Kevin Anderson    </td><td>2                 </td><td>0                 </td><td>1                 </td><td>3                 </td><td>67                </td><td>62                </td><td>33                </td><td>21                </td><td>...               </td><td>19                </td><td>148               </td><td>6                 </td><td>6                 </td><td>7                 </td><td> 6                </td><td>NA                </td><td>4                 </td><td>268               </td><td>0.06343284        </td></tr>\n",
       "\t<tr><td>Gael Monfils      </td><td>Tommy Robredo     </td><td>3                 </td><td>0                 </td><td>2                 </td><td>3                 </td><td>68                </td><td>73                </td><td>32                </td><td>27                </td><td>...               </td><td>40                </td><td>170               </td><td>2                 </td><td>6                 </td><td>6                 </td><td> 7                </td><td> 6                </td><td>5                 </td><td>324               </td><td>0.01851852        </td></tr>\n",
       "\t<tr><td>Nikolay Davydenko </td><td>Richard Gasquet   </td><td>3                 </td><td>0                 </td><td>0                 </td><td>3                 </td><td>76                </td><td>46                </td><td>24                </td><td> 9                </td><td>...               </td><td>31                </td><td>101               </td><td>6                 </td><td>6                 </td><td>6                 </td><td>NA                </td><td>NA                </td><td>3                 </td><td>184               </td><td>0.04347826        </td></tr>\n",
       "\t<tr><td>Rafael Nadal      </td><td>Fabio Fognini     </td><td>3                 </td><td>1                 </td><td>3                 </td><td>0                 </td><td>78                </td><td>52                </td><td>22                </td><td>14                </td><td>...               </td><td>31                </td><td>111               </td><td>6                 </td><td>4                 </td><td>4                 </td><td>NA                </td><td>NA                </td><td>3                 </td><td>233               </td><td>0.03433476        </td></tr>\n",
       "\t<tr><td>Novak Djokovic    </td><td>Grigor Dimitrov   </td><td>3                 </td><td>1                 </td><td>3                 </td><td>0                 </td><td>68                </td><td>39                </td><td>32                </td><td>13                </td><td>...               </td><td>12                </td><td> 61               </td><td>2                 </td><td>2                 </td><td>3                 </td><td>NA                </td><td>NA                </td><td>3                 </td><td>155               </td><td>0.01290323        </td></tr>\n",
       "\t<tr><td>Jo-Wilfried Tsonga</td><td>Roger Federer     </td><td>5                 </td><td>1                 </td><td>3                 </td><td>0                 </td><td>75                </td><td>46                </td><td>25                </td><td>10                </td><td>...               </td><td>30                </td><td> 73               </td><td>5                 </td><td>3                 </td><td>3                 </td><td>NA                </td><td>NA                </td><td>3                 </td><td>176               </td><td>0.01136364        </td></tr>\n",
       "</tbody>\n",
       "</table>\n"
      ],
      "text/latex": [
       "\\begin{tabular}{r|lllllllllllllllllllllllllllllllllllllllllllll}\n",
       " Player1 & Player2 & Round & Result & FNL.1 & FNL.2 & FSP.1 & FSW.1 & SSP.1 & SSW.1 & ... & NPW.2 & TPW.2 & ST1.2 & ST2.2 & ST3.2 & ST4.2 & ST5.2 & total\\_sets & total\\_points & ace\\_rate\\\\\n",
       "\\hline\n",
       "\t Jan Hajek          & Denis Kudla        & 1                  & 1                  & 3                  & 1                  & 70                 & 58                 & 30                 & 18                 & ...                &  9                 &  93                & 2                  & 7                  & 0                  &  4                 & NA                 & 4                  & 223                & 0.04035874        \\\\\n",
       "\t Benjamin Becker    & Jeremy Chardy      & 1                  & 0                  & 0                  & 3                  & 66                 & 48                 & 34                 & 13                 & ...                & 16                 & 108                & 6                  & 6                  & 7                  & NA                 & NA                 & 3                  & 193                & 0.08808290        \\\\\n",
       "\t Tomas Berdych      & Gael Monfils       & 1                  & 0                  & 2                  & 3                  & 66                 & 91                 & 34                 & 33                 & ...                & 21                 & 189                & 7                  & 6                  & 6                  &  6                 &  7                 & 5                  & 363                & 0.10192837        \\\\\n",
       "\t Michal Przysiezny  & Rhyne Williams     & 1                  & 1                  & 3                  & 1                  & 67                 & 75                 & 33                 & 27                 & ...                & 16                 & 134                & 3                  & 7                  & 5                  &  5                 & NA                 & 4                  & 285                & 0.11228070        \\\\\n",
       "\t Stanislas Wawrinka & Thiemo De Bakker   & 1                  & 1                  & 3                  & 1                  & 69                 & 74                 & 31                 & 24                 & ...                & 33                 & 135                & 5                  & 3                  & 7                  &  5                 & NA                 & 4                  & 281                & 0.05693950        \\\\\n",
       "\t Rafael Nadal       & Daniel Brands      & 1                  & 1                  & 3                  & 1                  & 84                 & 74                 & 16                 & 12                 & ...                & 40                 & 115                & 6                  & 6                  & 4                  &  3                 & NA                 & 4                  & 255                & 0.04705882        \\\\\n",
       "\t Evgeny Donskoy     & Kevin Anderson     & 2                  & 0                  & 1                  & 3                  & 67                 & 62                 & 33                 & 21                 & ...                & 19                 & 148                & 6                  & 6                  & 7                  &  6                 & NA                 & 4                  & 268                & 0.06343284        \\\\\n",
       "\t Gael Monfils       & Tommy Robredo      & 3                  & 0                  & 2                  & 3                  & 68                 & 73                 & 32                 & 27                 & ...                & 40                 & 170                & 2                  & 6                  & 6                  &  7                 &  6                 & 5                  & 324                & 0.01851852        \\\\\n",
       "\t Nikolay Davydenko  & Richard Gasquet    & 3                  & 0                  & 0                  & 3                  & 76                 & 46                 & 24                 &  9                 & ...                & 31                 & 101                & 6                  & 6                  & 6                  & NA                 & NA                 & 3                  & 184                & 0.04347826        \\\\\n",
       "\t Rafael Nadal       & Fabio Fognini      & 3                  & 1                  & 3                  & 0                  & 78                 & 52                 & 22                 & 14                 & ...                & 31                 & 111                & 6                  & 4                  & 4                  & NA                 & NA                 & 3                  & 233                & 0.03433476        \\\\\n",
       "\t Novak Djokovic     & Grigor Dimitrov    & 3                  & 1                  & 3                  & 0                  & 68                 & 39                 & 32                 & 13                 & ...                & 12                 &  61                & 2                  & 2                  & 3                  & NA                 & NA                 & 3                  & 155                & 0.01290323        \\\\\n",
       "\t Jo-Wilfried Tsonga & Roger Federer      & 5                  & 1                  & 3                  & 0                  & 75                 & 46                 & 25                 & 10                 & ...                & 30                 &  73                & 5                  & 3                  & 3                  & NA                 & NA                 & 3                  & 176                & 0.01136364        \\\\\n",
       "\\end{tabular}\n"
      ],
      "text/markdown": [
       "\n",
       "| Player1 | Player2 | Round | Result | FNL.1 | FNL.2 | FSP.1 | FSW.1 | SSP.1 | SSW.1 | ... | NPW.2 | TPW.2 | ST1.2 | ST2.2 | ST3.2 | ST4.2 | ST5.2 | total_sets | total_points | ace_rate |\n",
       "|---|---|---|---|---|---|---|---|---|---|---|---|---|---|---|---|---|---|---|---|---|\n",
       "| Jan Hajek          | Denis Kudla        | 1                  | 1                  | 3                  | 1                  | 70                 | 58                 | 30                 | 18                 | ...                |  9                 |  93                | 2                  | 7                  | 0                  |  4                 | NA                 | 4                  | 223                | 0.04035874         |\n",
       "| Benjamin Becker    | Jeremy Chardy      | 1                  | 0                  | 0                  | 3                  | 66                 | 48                 | 34                 | 13                 | ...                | 16                 | 108                | 6                  | 6                  | 7                  | NA                 | NA                 | 3                  | 193                | 0.08808290         |\n",
       "| Tomas Berdych      | Gael Monfils       | 1                  | 0                  | 2                  | 3                  | 66                 | 91                 | 34                 | 33                 | ...                | 21                 | 189                | 7                  | 6                  | 6                  |  6                 |  7                 | 5                  | 363                | 0.10192837         |\n",
       "| Michal Przysiezny  | Rhyne Williams     | 1                  | 1                  | 3                  | 1                  | 67                 | 75                 | 33                 | 27                 | ...                | 16                 | 134                | 3                  | 7                  | 5                  |  5                 | NA                 | 4                  | 285                | 0.11228070         |\n",
       "| Stanislas Wawrinka | Thiemo De Bakker   | 1                  | 1                  | 3                  | 1                  | 69                 | 74                 | 31                 | 24                 | ...                | 33                 | 135                | 5                  | 3                  | 7                  |  5                 | NA                 | 4                  | 281                | 0.05693950         |\n",
       "| Rafael Nadal       | Daniel Brands      | 1                  | 1                  | 3                  | 1                  | 84                 | 74                 | 16                 | 12                 | ...                | 40                 | 115                | 6                  | 6                  | 4                  |  3                 | NA                 | 4                  | 255                | 0.04705882         |\n",
       "| Evgeny Donskoy     | Kevin Anderson     | 2                  | 0                  | 1                  | 3                  | 67                 | 62                 | 33                 | 21                 | ...                | 19                 | 148                | 6                  | 6                  | 7                  |  6                 | NA                 | 4                  | 268                | 0.06343284         |\n",
       "| Gael Monfils       | Tommy Robredo      | 3                  | 0                  | 2                  | 3                  | 68                 | 73                 | 32                 | 27                 | ...                | 40                 | 170                | 2                  | 6                  | 6                  |  7                 |  6                 | 5                  | 324                | 0.01851852         |\n",
       "| Nikolay Davydenko  | Richard Gasquet    | 3                  | 0                  | 0                  | 3                  | 76                 | 46                 | 24                 |  9                 | ...                | 31                 | 101                | 6                  | 6                  | 6                  | NA                 | NA                 | 3                  | 184                | 0.04347826         |\n",
       "| Rafael Nadal       | Fabio Fognini      | 3                  | 1                  | 3                  | 0                  | 78                 | 52                 | 22                 | 14                 | ...                | 31                 | 111                | 6                  | 4                  | 4                  | NA                 | NA                 | 3                  | 233                | 0.03433476         |\n",
       "| Novak Djokovic     | Grigor Dimitrov    | 3                  | 1                  | 3                  | 0                  | 68                 | 39                 | 32                 | 13                 | ...                | 12                 |  61                | 2                  | 2                  | 3                  | NA                 | NA                 | 3                  | 155                | 0.01290323         |\n",
       "| Jo-Wilfried Tsonga | Roger Federer      | 5                  | 1                  | 3                  | 0                  | 75                 | 46                 | 25                 | 10                 | ...                | 30                 |  73                | 5                  | 3                  | 3                  | NA                 | NA                 | 3                  | 176                | 0.01136364         |\n",
       "\n"
      ],
      "text/plain": [
       "   Player1            Player2          Round Result FNL.1 FNL.2 FSP.1 FSW.1\n",
       "1  Jan Hajek          Denis Kudla      1     1      3     1     70    58   \n",
       "2  Benjamin Becker    Jeremy Chardy    1     0      0     3     66    48   \n",
       "3  Tomas Berdych      Gael Monfils     1     0      2     3     66    91   \n",
       "4  Michal Przysiezny  Rhyne Williams   1     1      3     1     67    75   \n",
       "5  Stanislas Wawrinka Thiemo De Bakker 1     1      3     1     69    74   \n",
       "6  Rafael Nadal       Daniel Brands    1     1      3     1     84    74   \n",
       "7  Evgeny Donskoy     Kevin Anderson   2     0      1     3     67    62   \n",
       "8  Gael Monfils       Tommy Robredo    3     0      2     3     68    73   \n",
       "9  Nikolay Davydenko  Richard Gasquet  3     0      0     3     76    46   \n",
       "10 Rafael Nadal       Fabio Fognini    3     1      3     0     78    52   \n",
       "11 Novak Djokovic     Grigor Dimitrov  3     1      3     0     68    39   \n",
       "12 Jo-Wilfried Tsonga Roger Federer    5     1      3     0     75    46   \n",
       "   SSP.1 SSW.1 ... NPW.2 TPW.2 ST1.2 ST2.2 ST3.2 ST4.2 ST5.2 total_sets\n",
       "1  30    18    ...  9     93   2     7     0      4    NA    4         \n",
       "2  34    13    ... 16    108   6     6     7     NA    NA    3         \n",
       "3  34    33    ... 21    189   7     6     6      6     7    5         \n",
       "4  33    27    ... 16    134   3     7     5      5    NA    4         \n",
       "5  31    24    ... 33    135   5     3     7      5    NA    4         \n",
       "6  16    12    ... 40    115   6     6     4      3    NA    4         \n",
       "7  33    21    ... 19    148   6     6     7      6    NA    4         \n",
       "8  32    27    ... 40    170   2     6     6      7     6    5         \n",
       "9  24     9    ... 31    101   6     6     6     NA    NA    3         \n",
       "10 22    14    ... 31    111   6     4     4     NA    NA    3         \n",
       "11 32    13    ... 12     61   2     2     3     NA    NA    3         \n",
       "12 25    10    ... 30     73   5     3     3     NA    NA    3         \n",
       "   total_points ace_rate  \n",
       "1  223          0.04035874\n",
       "2  193          0.08808290\n",
       "3  363          0.10192837\n",
       "4  285          0.11228070\n",
       "5  281          0.05693950\n",
       "6  255          0.04705882\n",
       "7  268          0.06343284\n",
       "8  324          0.01851852\n",
       "9  184          0.04347826\n",
       "10 233          0.03433476\n",
       "11 155          0.01290323\n",
       "12 176          0.01136364"
      ]
     },
     "metadata": {},
     "output_type": "display_data"
    }
   ],
   "source": [
    "#5 \n",
    "tennis_data_2 %>% filter(Round < 6, FSP.1>65, FSP.2>65)"
   ]
  },
  {
   "cell_type": "code",
   "execution_count": 23,
   "metadata": {},
   "outputs": [
    {
     "data": {
      "text/html": [
       "55"
      ],
      "text/latex": [
       "55"
      ],
      "text/markdown": [
       "55"
      ],
      "text/plain": [
       "[1] 55"
      ]
     },
     "metadata": {},
     "output_type": "display_data"
    }
   ],
   "source": [
    "#6\n",
    "tennis_data_2 %>% filter(FNL.1 > 0, FNL.2 > 0) %>% nrow()"
   ]
  },
  {
   "cell_type": "markdown",
   "metadata": {},
   "source": [
    "## `summarise`"
   ]
  },
  {
   "cell_type": "markdown",
   "metadata": {},
   "source": [
    "You'll learn more about data summaries in this week's lecture, but we'll introduce the concept here. "
   ]
  },
  {
   "cell_type": "code",
   "execution_count": 24,
   "metadata": {},
   "outputs": [
    {
     "data": {
      "text/html": [
       "<table>\n",
       "<thead><tr><th scope=col>total_matches</th><th scope=col>avg_points</th><th scope=col>avg_sets</th></tr></thead>\n",
       "<tbody>\n",
       "\t<tr><td>125   </td><td>219.44</td><td>3.568 </td></tr>\n",
       "</tbody>\n",
       "</table>\n"
      ],
      "text/latex": [
       "\\begin{tabular}{r|lll}\n",
       " total\\_matches & avg\\_points & avg\\_sets\\\\\n",
       "\\hline\n",
       "\t 125    & 219.44 & 3.568 \\\\\n",
       "\\end{tabular}\n"
      ],
      "text/markdown": [
       "\n",
       "| total_matches | avg_points | avg_sets |\n",
       "|---|---|---|\n",
       "| 125    | 219.44 | 3.568  |\n",
       "\n"
      ],
      "text/plain": [
       "  total_matches avg_points avg_sets\n",
       "1 125           219.44     3.568   "
      ]
     },
     "metadata": {},
     "output_type": "display_data"
    }
   ],
   "source": [
    "tennis_data_2 %>% \n",
    "    summarise(total_matches=n(), avg_points = mean(total_points), avg_sets = mean(total_sets))"
   ]
  },
  {
   "cell_type": "markdown",
   "metadata": {},
   "source": [
    "We can combine the summarise operation with other operations from `dplyr`"
   ]
  },
  {
   "cell_type": "code",
   "execution_count": 25,
   "metadata": {},
   "outputs": [
    {
     "name": "stderr",
     "output_type": "stream",
     "text": [
      "`summarise()` ungrouping output (override with `.groups` argument)\n",
      "\n"
     ]
    },
    {
     "data": {
      "text/html": [
       "<table>\n",
       "<thead><tr><th scope=col>Round</th><th scope=col>total_matches</th><th scope=col>avg_points</th></tr></thead>\n",
       "<tbody>\n",
       "\t<tr><td>1       </td><td>63      </td><td>214.5714</td></tr>\n",
       "\t<tr><td>2       </td><td>31      </td><td>228.5484</td></tr>\n",
       "\t<tr><td>3       </td><td>16      </td><td>225.5000</td></tr>\n",
       "\t<tr><td>4       </td><td> 8      </td><td>231.8750</td></tr>\n",
       "\t<tr><td>5       </td><td> 4      </td><td>166.5000</td></tr>\n",
       "\t<tr><td>6       </td><td> 2      </td><td>263.0000</td></tr>\n",
       "\t<tr><td>7       </td><td> 1      </td><td>172.0000</td></tr>\n",
       "</tbody>\n",
       "</table>\n"
      ],
      "text/latex": [
       "\\begin{tabular}{r|lll}\n",
       " Round & total\\_matches & avg\\_points\\\\\n",
       "\\hline\n",
       "\t 1        & 63       & 214.5714\\\\\n",
       "\t 2        & 31       & 228.5484\\\\\n",
       "\t 3        & 16       & 225.5000\\\\\n",
       "\t 4        &  8       & 231.8750\\\\\n",
       "\t 5        &  4       & 166.5000\\\\\n",
       "\t 6        &  2       & 263.0000\\\\\n",
       "\t 7        &  1       & 172.0000\\\\\n",
       "\\end{tabular}\n"
      ],
      "text/markdown": [
       "\n",
       "| Round | total_matches | avg_points |\n",
       "|---|---|---|\n",
       "| 1        | 63       | 214.5714 |\n",
       "| 2        | 31       | 228.5484 |\n",
       "| 3        | 16       | 225.5000 |\n",
       "| 4        |  8       | 231.8750 |\n",
       "| 5        |  4       | 166.5000 |\n",
       "| 6        |  2       | 263.0000 |\n",
       "| 7        |  1       | 172.0000 |\n",
       "\n"
      ],
      "text/plain": [
       "  Round total_matches avg_points\n",
       "1 1     63            214.5714  \n",
       "2 2     31            228.5484  \n",
       "3 3     16            225.5000  \n",
       "4 4      8            231.8750  \n",
       "5 5      4            166.5000  \n",
       "6 6      2            263.0000  \n",
       "7 7      1            172.0000  "
      ]
     },
     "metadata": {},
     "output_type": "display_data"
    }
   ],
   "source": [
    "tennis_data_2 %>% \n",
    "    group_by(Round) %>% \n",
    "    summarise(total_matches=n(), avg_points = mean(total_points))"
   ]
  },
  {
   "cell_type": "code",
   "execution_count": 26,
   "metadata": {},
   "outputs": [
    {
     "name": "stderr",
     "output_type": "stream",
     "text": [
      "`summarise()` ungrouping output (override with `.groups` argument)\n",
      "\n"
     ]
    },
    {
     "data": {
      "text/html": [
       "<table>\n",
       "<thead><tr><th scope=col>Player1 %in% usa_players | Player2 %in% usa_players</th><th scope=col>avg_ace</th></tr></thead>\n",
       "<tbody>\n",
       "\t<tr><td>FALSE     </td><td>0.05600242</td></tr>\n",
       "\t<tr><td> TRUE     </td><td>0.07445462</td></tr>\n",
       "</tbody>\n",
       "</table>\n"
      ],
      "text/latex": [
       "\\begin{tabular}{r|ll}\n",
       " Player1 \\%in\\% usa\\_players \\textbar{} Player2 \\%in\\% usa\\_players & avg\\_ace\\\\\n",
       "\\hline\n",
       "\t FALSE      & 0.05600242\\\\\n",
       "\t  TRUE      & 0.07445462\\\\\n",
       "\\end{tabular}\n"
      ],
      "text/markdown": [
       "\n",
       "| Player1 %in% usa_players | Player2 %in% usa_players | avg_ace |\n",
       "|---|---|\n",
       "| FALSE      | 0.05600242 |\n",
       "|  TRUE      | 0.07445462 |\n",
       "\n"
      ],
      "text/plain": [
       "  Player1 %in% usa_players | Player2 %in% usa_players avg_ace   \n",
       "1 FALSE                                               0.05600242\n",
       "2  TRUE                                               0.07445462"
      ]
     },
     "metadata": {},
     "output_type": "display_data"
    }
   ],
   "source": [
    "usa_players = c('Sam Querrey', 'John Isner')\n",
    "tennis_data_2 %>% \n",
    "    group_by(Player1 %in% usa_players | Player2 %in% usa_players) %>% \n",
    "    summarise(avg_ace = mean(ace_rate))"
   ]
  },
  {
   "cell_type": "markdown",
   "metadata": {},
   "source": [
    "We can even sort the summary table based on the results of the summary statistics"
   ]
  },
  {
   "cell_type": "code",
   "execution_count": 27,
   "metadata": {},
   "outputs": [
    {
     "name": "stderr",
     "output_type": "stream",
     "text": [
      "`summarise()` ungrouping output (override with `.groups` argument)\n",
      "\n"
     ]
    },
    {
     "data": {
      "text/html": [
       "<table>\n",
       "<thead><tr><th scope=col>Round</th><th scope=col>avg_FSP</th></tr></thead>\n",
       "<tbody>\n",
       "\t<tr><td>3       </td><td>64.71875</td></tr>\n",
       "\t<tr><td>4       </td><td>63.93750</td></tr>\n",
       "\t<tr><td>2       </td><td>62.59677</td></tr>\n",
       "\t<tr><td>1       </td><td>61.42857</td></tr>\n",
       "</tbody>\n",
       "</table>\n"
      ],
      "text/latex": [
       "\\begin{tabular}{r|ll}\n",
       " Round & avg\\_FSP\\\\\n",
       "\\hline\n",
       "\t 3        & 64.71875\\\\\n",
       "\t 4        & 63.93750\\\\\n",
       "\t 2        & 62.59677\\\\\n",
       "\t 1        & 61.42857\\\\\n",
       "\\end{tabular}\n"
      ],
      "text/markdown": [
       "\n",
       "| Round | avg_FSP |\n",
       "|---|---|\n",
       "| 3        | 64.71875 |\n",
       "| 4        | 63.93750 |\n",
       "| 2        | 62.59677 |\n",
       "| 1        | 61.42857 |\n",
       "\n"
      ],
      "text/plain": [
       "  Round avg_FSP \n",
       "1 3     64.71875\n",
       "2 4     63.93750\n",
       "3 2     62.59677\n",
       "4 1     61.42857"
      ]
     },
     "metadata": {},
     "output_type": "display_data"
    }
   ],
   "source": [
    "tennis_data_2 %>% \n",
    "    filter(Round < 5) %>% \n",
    "    group_by(Round) %>% \n",
    "    summarise(avg_FSP = mean((FSP.1 + FSP.2)/2)) %>% \n",
    "    arrange(desc(avg_FSP))"
   ]
  },
  {
   "cell_type": "markdown",
   "metadata": {},
   "source": [
    "We can assign summary tables to variables and then plot them."
   ]
  },
  {
   "cell_type": "code",
   "execution_count": 28,
   "metadata": {},
   "outputs": [
    {
     "name": "stderr",
     "output_type": "stream",
     "text": [
      "`summarise()` ungrouping output (override with `.groups` argument)\n",
      "\n"
     ]
    }
   ],
   "source": [
    "round = tennis_data_2 %>% \n",
    "        filter(total_sets > 2) %>%\n",
    "        group_by(Round) %>%\n",
    "        summarise(avg_ace = mean(ace_rate), avg_points = mean(total_points))"
   ]
  },
  {
   "cell_type": "code",
   "execution_count": 29,
   "metadata": {},
   "outputs": [
    {
     "data": {
      "image/png": "[encoded data removed]",
      "text/plain": [
       "plot without title"
      ]
     },
     "metadata": {
      "image/png": {
       "height": 420,
       "width": 420
      }
     },
     "output_type": "display_data"
    }
   ],
   "source": [
    "ggplot(round) + \n",
    "    geom_bar(aes(x=Round, y=avg_points),stat='identity', fill='green')"
   ]
  }
 ],
 "metadata": {
  "kernelspec": {
   "display_name": "R",
   "language": "R",
   "name": "ir"
  },
  "language_info": {
   "codemirror_mode": "r",
   "file_extension": ".r",
   "mimetype": "text/x-r-source",
   "name": "R",
   "pygments_lexer": "r",
   "version": "3.6.1"
  }
 },
 "nbformat": 4,
 "nbformat_minor": 2
}
