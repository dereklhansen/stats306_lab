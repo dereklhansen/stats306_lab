{
 "cells": [
  {
   "cell_type": "markdown",
   "metadata": {},
   "source": [
    "# Lab 06 \n",
    "\n",
    "Derek Hansen (credit Jing for the material)"
   ]
  },
  {
   "cell_type": "markdown",
   "metadata": {},
   "source": [
    "# Plan for today\n",
    "\n",
    "1.  Midterm overview: Questions 3 and 4\n",
    "1.  Left joins"
   ]
  },
  {
   "cell_type": "markdown",
   "metadata": {},
   "source": [
    "## Part 1: Midterm 1 Q3 Q4"
   ]
  },
  {
   "cell_type": "code",
   "execution_count": 4,
   "metadata": {},
   "outputs": [
    {
     "name": "stderr",
     "output_type": "stream",
     "text": [
      "── \u001b[1mAttaching packages\u001b[22m ─────────────────────────────────────── tidyverse 1.3.0 ──\n",
      "\n",
      "\u001b[32m✔\u001b[39m \u001b[34mggplot2\u001b[39m 3.3.2     \u001b[32m✔\u001b[39m \u001b[34mpurrr  \u001b[39m 0.3.4\n",
      "\u001b[32m✔\u001b[39m \u001b[34mtibble \u001b[39m 3.0.3     \u001b[32m✔\u001b[39m \u001b[34mdplyr  \u001b[39m 1.0.2\n",
      "\u001b[32m✔\u001b[39m \u001b[34mtidyr  \u001b[39m 1.1.2     \u001b[32m✔\u001b[39m \u001b[34mstringr\u001b[39m 1.4.0\n",
      "\u001b[32m✔\u001b[39m \u001b[34mreadr  \u001b[39m 1.4.0     \u001b[32m✔\u001b[39m \u001b[34mforcats\u001b[39m 0.5.0\n",
      "\n",
      "── \u001b[1mConflicts\u001b[22m ────────────────────────────────────────── tidyverse_conflicts() ──\n",
      "\u001b[31m✖\u001b[39m \u001b[34mdplyr\u001b[39m::\u001b[32mfilter()\u001b[39m masks \u001b[34mstats\u001b[39m::filter()\n",
      "\u001b[31m✖\u001b[39m \u001b[34mdplyr\u001b[39m::\u001b[32mlag()\u001b[39m    masks \u001b[34mstats\u001b[39m::lag()\n",
      "\n"
     ]
    }
   ],
   "source": [
    "library(tidyverse)\n",
    "library(nycflights13)"
   ]
  },
  {
   "cell_type": "markdown",
   "metadata": {},
   "source": [
    "## Problem 3, Oil Pipeline Dataset"
   ]
  },
  {
   "cell_type": "markdown",
   "metadata": {},
   "source": [
    "In this problem you will be working with data about oil pipeline accidents. The oil pipeline accident reports were collected and published by the Department of Transportation's Pipeline and Hazardous Materials Safety Administration.\n",
    "\n",
    "Run the following code to load the data set."
   ]
  },
  {
   "cell_type": "code",
   "execution_count": 5,
   "metadata": {},
   "outputs": [
    {
     "name": "stderr",
     "output_type": "stream",
     "text": [
      "\n",
      "\u001b[36m──\u001b[39m \u001b[1m\u001b[1mColumn specification\u001b[1m\u001b[22m \u001b[36m────────────────────────────────────────────────────────\u001b[39m\n",
      "cols(\n",
      "  .default = col_double(),\n",
      "  accident_date = \u001b[34mcol_datetime(format = \"\")\u001b[39m,\n",
      "  operator_name = \u001b[31mcol_character()\u001b[39m,\n",
      "  pipeline_location = \u001b[31mcol_character()\u001b[39m,\n",
      "  pipeline_type = \u001b[31mcol_character()\u001b[39m,\n",
      "  liquid_type = \u001b[31mcol_character()\u001b[39m,\n",
      "  accident_city = \u001b[31mcol_character()\u001b[39m,\n",
      "  accident_county = \u001b[31mcol_character()\u001b[39m,\n",
      "  accident_state = \u001b[31mcol_character()\u001b[39m,\n",
      "  cause_category = \u001b[31mcol_character()\u001b[39m,\n",
      "  liquid_ignition = \u001b[31mcol_character()\u001b[39m,\n",
      "  liquid_explosion = \u001b[31mcol_character()\u001b[39m,\n",
      "  pipeline_shutdown = \u001b[31mcol_character()\u001b[39m\n",
      ")\n",
      "\u001b[36mℹ\u001b[39m Use \u001b[38;5;235m\u001b[48;5;253m\u001b[38;5;235m\u001b[48;5;253m`spec()`\u001b[48;5;253m\u001b[38;5;235m\u001b[49m\u001b[39m for the full column specifications.\n",
      "\n",
      "\n"
     ]
    }
   ],
   "source": [
    "pipeline_data <- read_csv(\"https://raw.githubusercontent.com/bmanzo/misc/master/pipelines.csv\")"
   ]
  },
  {
   "cell_type": "code",
   "execution_count": 6,
   "metadata": {},
   "outputs": [
    {
     "name": "stdout",
     "output_type": "stream",
     "text": [
      "\u001b[38;5;246m# A tibble: 2,794 x 32\u001b[39m\n",
      "   report_number accident_year accident_date       operator_id operator_name\n",
      "           \u001b[3m\u001b[38;5;246m<dbl>\u001b[39m\u001b[23m         \u001b[3m\u001b[38;5;246m<dbl>\u001b[39m\u001b[23m \u001b[3m\u001b[38;5;246m<dttm>\u001b[39m\u001b[23m                    \u001b[3m\u001b[38;5;246m<dbl>\u001b[39m\u001b[23m \u001b[3m\u001b[38;5;246m<chr>\u001b[39m\u001b[23m        \n",
      "\u001b[38;5;250m 1\u001b[39m      20\u001b[4m1\u001b[24m\u001b[4m0\u001b[24m\u001b[4m0\u001b[24m016          \u001b[4m2\u001b[24m010 2010-01-01 \u001b[38;5;246m07:15:00\u001b[39m       \u001b[4m3\u001b[24m\u001b[4m2\u001b[24m109 ONEOK NGL PI…\n",
      "\u001b[38;5;250m 2\u001b[39m      20\u001b[4m1\u001b[24m\u001b[4m0\u001b[24m\u001b[4m0\u001b[24m254          \u001b[4m2\u001b[24m010 2010-01-04 \u001b[38;5;246m08:30:00\u001b[39m       \u001b[4m1\u001b[24m\u001b[4m5\u001b[24m786 PORTLAND PIP…\n",
      "\u001b[38;5;250m 3\u001b[39m      20\u001b[4m1\u001b[24m\u001b[4m0\u001b[24m\u001b[4m0\u001b[24m038          \u001b[4m2\u001b[24m010 2010-01-05 \u001b[38;5;246m10:30:00\u001b[39m       \u001b[4m2\u001b[24m\u001b[4m0\u001b[24m160 PETROLOGISTI…\n",
      "\u001b[38;5;250m 4\u001b[39m      20\u001b[4m1\u001b[24m\u001b[4m0\u001b[24m\u001b[4m0\u001b[24m260          \u001b[4m2\u001b[24m010 2010-01-06 \u001b[38;5;246m19:30:00\u001b[39m       \u001b[4m1\u001b[24m\u001b[4m1\u001b[24m169 ENBRIDGE ENE…\n",
      "\u001b[38;5;250m 5\u001b[39m      20\u001b[4m1\u001b[24m\u001b[4m0\u001b[24m\u001b[4m0\u001b[24m030          \u001b[4m2\u001b[24m010 2010-01-07 \u001b[38;5;246m13:00:00\u001b[39m         300 PLAINS PIPEL…\n",
      "\u001b[38;5;250m 6\u001b[39m      20\u001b[4m1\u001b[24m\u001b[4m0\u001b[24m\u001b[4m0\u001b[24m021          \u001b[4m2\u001b[24m010 2010-01-08 \u001b[38;5;246m23:38:00\u001b[39m       \u001b[4m1\u001b[24m\u001b[4m1\u001b[24m169 ENBRIDGE ENE…\n",
      "\u001b[38;5;250m 7\u001b[39m      20\u001b[4m1\u001b[24m\u001b[4m1\u001b[24m\u001b[4m0\u001b[24m036          \u001b[4m2\u001b[24m010 2010-01-09 \u001b[38;5;246m00:15:00\u001b[39m       \u001b[4m2\u001b[24m\u001b[4m6\u001b[24m041 KINDER MORGA…\n",
      "\u001b[38;5;250m 8\u001b[39m      20\u001b[4m1\u001b[24m\u001b[4m0\u001b[24m\u001b[4m0\u001b[24m255          \u001b[4m2\u001b[24m010 2010-01-09 \u001b[38;5;246m01:12:00\u001b[39m       \u001b[4m1\u001b[24m\u001b[4m2\u001b[24m624 MOBIL CORP   \n",
      "\u001b[38;5;250m 9\u001b[39m      20\u001b[4m1\u001b[24m\u001b[4m0\u001b[24m\u001b[4m0\u001b[24m261          \u001b[4m2\u001b[24m010 2010-01-10 \u001b[38;5;246m19:46:00\u001b[39m       \u001b[4m2\u001b[24m\u001b[4m6\u001b[24m041 KINDER MORGA…\n",
      "\u001b[38;5;250m10\u001b[39m      20\u001b[4m1\u001b[24m\u001b[4m0\u001b[24m\u001b[4m0\u001b[24m024          \u001b[4m2\u001b[24m010 2010-01-11 \u001b[38;5;246m14:30:00\u001b[39m       \u001b[4m3\u001b[24m\u001b[4m1\u001b[24m684 CONOCOPHILLI…\n",
      "\u001b[38;5;246m# … with 2,784 more rows, and 27 more variables: pipeline_location \u001b[3m\u001b[38;5;246m<chr>\u001b[38;5;246m\u001b[23m,\u001b[39m\n",
      "\u001b[38;5;246m#   pipeline_type \u001b[3m\u001b[38;5;246m<chr>\u001b[38;5;246m\u001b[23m, liquid_type \u001b[3m\u001b[38;5;246m<chr>\u001b[38;5;246m\u001b[23m, accident_city \u001b[3m\u001b[38;5;246m<chr>\u001b[38;5;246m\u001b[23m,\u001b[39m\n",
      "\u001b[38;5;246m#   accident_county \u001b[3m\u001b[38;5;246m<chr>\u001b[38;5;246m\u001b[23m, accident_state \u001b[3m\u001b[38;5;246m<chr>\u001b[38;5;246m\u001b[23m, accident_latitude \u001b[3m\u001b[38;5;246m<dbl>\u001b[38;5;246m\u001b[23m,\u001b[39m\n",
      "\u001b[38;5;246m#   accident_longitude \u001b[3m\u001b[38;5;246m<dbl>\u001b[38;5;246m\u001b[23m, cause_category \u001b[3m\u001b[38;5;246m<chr>\u001b[38;5;246m\u001b[23m,\u001b[39m\n",
      "\u001b[38;5;246m#   unintentional_release \u001b[3m\u001b[38;5;246m<dbl>\u001b[38;5;246m\u001b[23m, intentional_release \u001b[3m\u001b[38;5;246m<dbl>\u001b[38;5;246m\u001b[23m,\u001b[39m\n",
      "\u001b[38;5;246m#   liquid_recover \u001b[3m\u001b[38;5;246m<dbl>\u001b[38;5;246m\u001b[23m, net_loss \u001b[3m\u001b[38;5;246m<dbl>\u001b[38;5;246m\u001b[23m, liquid_ignition \u001b[3m\u001b[38;5;246m<chr>\u001b[38;5;246m\u001b[23m,\u001b[39m\n",
      "\u001b[38;5;246m#   liquid_explosion \u001b[3m\u001b[38;5;246m<chr>\u001b[38;5;246m\u001b[23m, pipeline_shutdown \u001b[3m\u001b[38;5;246m<chr>\u001b[38;5;246m\u001b[23m, public_evacuations \u001b[3m\u001b[38;5;246m<dbl>\u001b[38;5;246m\u001b[23m,\u001b[39m\n",
      "\u001b[38;5;246m#   all_injuries \u001b[3m\u001b[38;5;246m<dbl>\u001b[38;5;246m\u001b[23m, all_fatalities \u001b[3m\u001b[38;5;246m<dbl>\u001b[38;5;246m\u001b[23m, property_damage_costs \u001b[3m\u001b[38;5;246m<dbl>\u001b[38;5;246m\u001b[23m,\u001b[39m\n",
      "\u001b[38;5;246m#   lost_commodity_costs \u001b[3m\u001b[38;5;246m<dbl>\u001b[38;5;246m\u001b[23m, public_private_property_damage_costs \u001b[3m\u001b[38;5;246m<dbl>\u001b[38;5;246m\u001b[23m,\u001b[39m\n",
      "\u001b[38;5;246m#   emergency_response_costs \u001b[3m\u001b[38;5;246m<dbl>\u001b[38;5;246m\u001b[23m, environmental_remediation_costs \u001b[3m\u001b[38;5;246m<dbl>\u001b[38;5;246m\u001b[23m,\u001b[39m\n",
      "\u001b[38;5;246m#   other_costs \u001b[3m\u001b[38;5;246m<dbl>\u001b[38;5;246m\u001b[23m, all_costs \u001b[3m\u001b[38;5;246m<dbl>\u001b[38;5;246m\u001b[23m, close_time \u001b[3m\u001b[38;5;246m<dbl>\u001b[38;5;246m\u001b[23m\u001b[39m\n"
     ]
    }
   ],
   "source": [
    "print(pipeline_data)"
   ]
  },
  {
   "cell_type": "markdown",
   "metadata": {},
   "source": [
    "### Part (a) (3 points)\n",
    "\n",
    "Create a new table, `mi_pipes`, containing all accidents which took place in Michigan (\"MI\") `accident_state`, sorted by `accident_year`. Print the first 6 lines of `mi_pipes` using the `head()` function."
   ]
  },
  {
   "cell_type": "code",
   "execution_count": 7,
   "metadata": {},
   "outputs": [
    {
     "data": {
      "text/html": [
       "<table>\n",
       "<caption>A tibble: 6 × 32</caption>\n",
       "<thead>\n",
       "\t<tr><th scope=col>report_number</th><th scope=col>accident_year</th><th scope=col>accident_date</th><th scope=col>operator_id</th><th scope=col>operator_name</th><th scope=col>pipeline_location</th><th scope=col>pipeline_type</th><th scope=col>liquid_type</th><th scope=col>accident_city</th><th scope=col>accident_county</th><th scope=col>⋯</th><th scope=col>all_injuries</th><th scope=col>all_fatalities</th><th scope=col>property_damage_costs</th><th scope=col>lost_commodity_costs</th><th scope=col>public_private_property_damage_costs</th><th scope=col>emergency_response_costs</th><th scope=col>environmental_remediation_costs</th><th scope=col>other_costs</th><th scope=col>all_costs</th><th scope=col>close_time</th></tr>\n",
       "\t<tr><th scope=col>&lt;dbl&gt;</th><th scope=col>&lt;dbl&gt;</th><th scope=col>&lt;dttm&gt;</th><th scope=col>&lt;dbl&gt;</th><th scope=col>&lt;chr&gt;</th><th scope=col>&lt;chr&gt;</th><th scope=col>&lt;chr&gt;</th><th scope=col>&lt;chr&gt;</th><th scope=col>&lt;chr&gt;</th><th scope=col>&lt;chr&gt;</th><th scope=col>⋯</th><th scope=col>&lt;dbl&gt;</th><th scope=col>&lt;dbl&gt;</th><th scope=col>&lt;dbl&gt;</th><th scope=col>&lt;dbl&gt;</th><th scope=col>&lt;dbl&gt;</th><th scope=col>&lt;dbl&gt;</th><th scope=col>&lt;dbl&gt;</th><th scope=col>&lt;dbl&gt;</th><th scope=col>&lt;dbl&gt;</th><th scope=col>&lt;dbl&gt;</th></tr>\n",
       "</thead>\n",
       "<tbody>\n",
       "\t<tr><td>20100078</td><td>2010</td><td>2010-04-25 09:00:00</td><td>32147</td><td>MARATHON PIPE LINE LLC              </td><td>ONSHORE</td><td>ABOVEGROUND</td><td>CRUDE OIL                                         </td><td>SAMARIA     </td><td>MONROE    </td><td>⋯</td><td>0</td><td>0</td><td>     0</td><td>  7018</td><td>    0</td><td>171265</td><td> 925684</td><td>   0</td><td>1103967</td><td> 723</td></tr>\n",
       "\t<tr><td>20100130</td><td>2010</td><td>2010-05-29 12:34:00</td><td>  395</td><td>AMOCO OIL CO                        </td><td>ONSHORE</td><td>UNDERGROUND</td><td>REFINED AND/OR PETROLEUM PRODUCT (NON-HVL), LIQUID</td><td>CONSTANTINE </td><td>ST. JOSEPH</td><td>⋯</td><td>0</td><td>0</td><td>275000</td><td>267246</td><td>45000</td><td>278000</td><td>1100000</td><td>   0</td><td>1965246</td><td>5858</td></tr>\n",
       "\t<tr><td>20100223</td><td>2010</td><td>2010-09-11 08:55:00</td><td>11169</td><td>ENBRIDGE ENERGY, LIMITED PARTNERSHIP</td><td>ONSHORE</td><td>UNDERGROUND</td><td>CRUDE OIL                                         </td><td>FOWLERVILLE </td><td>LIVINGSTON</td><td>⋯</td><td>0</td><td>0</td><td> 20000</td><td>     0</td><td>    0</td><td>  2500</td><td>   2500</td><td>   0</td><td>  25000</td><td>   0</td></tr>\n",
       "\t<tr><td>20100239</td><td>2010</td><td>2010-10-06 13:20:00</td><td>18718</td><td>SUNOCO PIPELINE L.P.                </td><td>ONSHORE</td><td>UNDERGROUND</td><td>CRUDE OIL                                         </td><td>ST. CLAIR   </td><td>ST. CLAIR </td><td>⋯</td><td>0</td><td>0</td><td>     0</td><td>     0</td><td>    0</td><td> 70000</td><td>   5000</td><td>   0</td><td>  75000</td><td>   0</td></tr>\n",
       "\t<tr><td>20100307</td><td>2010</td><td>2010-12-01 09:00:00</td><td>11169</td><td>ENBRIDGE ENERGY, LIMITED PARTNERSHIP</td><td>ONSHORE</td><td>ABOVEGROUND</td><td>CRUDE OIL                                         </td><td>NORTH BRANCH</td><td>LAPEER    </td><td>⋯</td><td>0</td><td>0</td><td>    50</td><td>     0</td><td>    0</td><td>     0</td><td>  10000</td><td>   0</td><td>  10050</td><td>   0</td></tr>\n",
       "\t<tr><td>20110011</td><td>2010</td><td>2010-12-11 15:30:00</td><td> 1845</td><td>BUCKEYE PARTNERS, LP                </td><td>ONSHORE</td><td>ABOVEGROUND</td><td>REFINED AND/OR PETROLEUM PRODUCT (NON-HVL), LIQUID</td><td>TAYLOR      </td><td>WAYNE     </td><td>⋯</td><td>0</td><td>0</td><td>     0</td><td>     0</td><td>    0</td><td>  1096</td><td>   6255</td><td>2163</td><td>   9514</td><td>   0</td></tr>\n",
       "</tbody>\n",
       "</table>\n"
      ],
      "text/latex": [
       "A tibble: 6 × 32\n",
       "\\begin{tabular}{lllllllllllllllllllll}\n",
       " report\\_number & accident\\_year & accident\\_date & operator\\_id & operator\\_name & pipeline\\_location & pipeline\\_type & liquid\\_type & accident\\_city & accident\\_county & ⋯ & all\\_injuries & all\\_fatalities & property\\_damage\\_costs & lost\\_commodity\\_costs & public\\_private\\_property\\_damage\\_costs & emergency\\_response\\_costs & environmental\\_remediation\\_costs & other\\_costs & all\\_costs & close\\_time\\\\\n",
       " <dbl> & <dbl> & <dttm> & <dbl> & <chr> & <chr> & <chr> & <chr> & <chr> & <chr> & ⋯ & <dbl> & <dbl> & <dbl> & <dbl> & <dbl> & <dbl> & <dbl> & <dbl> & <dbl> & <dbl>\\\\\n",
       "\\hline\n",
       "\t 20100078 & 2010 & 2010-04-25 09:00:00 & 32147 & MARATHON PIPE LINE LLC               & ONSHORE & ABOVEGROUND & CRUDE OIL                                          & SAMARIA      & MONROE     & ⋯ & 0 & 0 &      0 &   7018 &     0 & 171265 &  925684 &    0 & 1103967 &  723\\\\\n",
       "\t 20100130 & 2010 & 2010-05-29 12:34:00 &   395 & AMOCO OIL CO                         & ONSHORE & UNDERGROUND & REFINED AND/OR PETROLEUM PRODUCT (NON-HVL), LIQUID & CONSTANTINE  & ST. JOSEPH & ⋯ & 0 & 0 & 275000 & 267246 & 45000 & 278000 & 1100000 &    0 & 1965246 & 5858\\\\\n",
       "\t 20100223 & 2010 & 2010-09-11 08:55:00 & 11169 & ENBRIDGE ENERGY, LIMITED PARTNERSHIP & ONSHORE & UNDERGROUND & CRUDE OIL                                          & FOWLERVILLE  & LIVINGSTON & ⋯ & 0 & 0 &  20000 &      0 &     0 &   2500 &    2500 &    0 &   25000 &    0\\\\\n",
       "\t 20100239 & 2010 & 2010-10-06 13:20:00 & 18718 & SUNOCO PIPELINE L.P.                 & ONSHORE & UNDERGROUND & CRUDE OIL                                          & ST. CLAIR    & ST. CLAIR  & ⋯ & 0 & 0 &      0 &      0 &     0 &  70000 &    5000 &    0 &   75000 &    0\\\\\n",
       "\t 20100307 & 2010 & 2010-12-01 09:00:00 & 11169 & ENBRIDGE ENERGY, LIMITED PARTNERSHIP & ONSHORE & ABOVEGROUND & CRUDE OIL                                          & NORTH BRANCH & LAPEER     & ⋯ & 0 & 0 &     50 &      0 &     0 &      0 &   10000 &    0 &   10050 &    0\\\\\n",
       "\t 20110011 & 2010 & 2010-12-11 15:30:00 &  1845 & BUCKEYE PARTNERS, LP                 & ONSHORE & ABOVEGROUND & REFINED AND/OR PETROLEUM PRODUCT (NON-HVL), LIQUID & TAYLOR       & WAYNE      & ⋯ & 0 & 0 &      0 &      0 &     0 &   1096 &    6255 & 2163 &    9514 &    0\\\\\n",
       "\\end{tabular}\n"
      ],
      "text/markdown": [
       "\n",
       "A tibble: 6 × 32\n",
       "\n",
       "| report_number &lt;dbl&gt; | accident_year &lt;dbl&gt; | accident_date &lt;dttm&gt; | operator_id &lt;dbl&gt; | operator_name &lt;chr&gt; | pipeline_location &lt;chr&gt; | pipeline_type &lt;chr&gt; | liquid_type &lt;chr&gt; | accident_city &lt;chr&gt; | accident_county &lt;chr&gt; | ⋯ ⋯ | all_injuries &lt;dbl&gt; | all_fatalities &lt;dbl&gt; | property_damage_costs &lt;dbl&gt; | lost_commodity_costs &lt;dbl&gt; | public_private_property_damage_costs &lt;dbl&gt; | emergency_response_costs &lt;dbl&gt; | environmental_remediation_costs &lt;dbl&gt; | other_costs &lt;dbl&gt; | all_costs &lt;dbl&gt; | close_time &lt;dbl&gt; |\n",
       "|---|---|---|---|---|---|---|---|---|---|---|---|---|---|---|---|---|---|---|---|---|\n",
       "| 20100078 | 2010 | 2010-04-25 09:00:00 | 32147 | MARATHON PIPE LINE LLC               | ONSHORE | ABOVEGROUND | CRUDE OIL                                          | SAMARIA      | MONROE     | ⋯ | 0 | 0 |      0 |   7018 |     0 | 171265 |  925684 |    0 | 1103967 |  723 |\n",
       "| 20100130 | 2010 | 2010-05-29 12:34:00 |   395 | AMOCO OIL CO                         | ONSHORE | UNDERGROUND | REFINED AND/OR PETROLEUM PRODUCT (NON-HVL), LIQUID | CONSTANTINE  | ST. JOSEPH | ⋯ | 0 | 0 | 275000 | 267246 | 45000 | 278000 | 1100000 |    0 | 1965246 | 5858 |\n",
       "| 20100223 | 2010 | 2010-09-11 08:55:00 | 11169 | ENBRIDGE ENERGY, LIMITED PARTNERSHIP | ONSHORE | UNDERGROUND | CRUDE OIL                                          | FOWLERVILLE  | LIVINGSTON | ⋯ | 0 | 0 |  20000 |      0 |     0 |   2500 |    2500 |    0 |   25000 |    0 |\n",
       "| 20100239 | 2010 | 2010-10-06 13:20:00 | 18718 | SUNOCO PIPELINE L.P.                 | ONSHORE | UNDERGROUND | CRUDE OIL                                          | ST. CLAIR    | ST. CLAIR  | ⋯ | 0 | 0 |      0 |      0 |     0 |  70000 |    5000 |    0 |   75000 |    0 |\n",
       "| 20100307 | 2010 | 2010-12-01 09:00:00 | 11169 | ENBRIDGE ENERGY, LIMITED PARTNERSHIP | ONSHORE | ABOVEGROUND | CRUDE OIL                                          | NORTH BRANCH | LAPEER     | ⋯ | 0 | 0 |     50 |      0 |     0 |      0 |   10000 |    0 |   10050 |    0 |\n",
       "| 20110011 | 2010 | 2010-12-11 15:30:00 |  1845 | BUCKEYE PARTNERS, LP                 | ONSHORE | ABOVEGROUND | REFINED AND/OR PETROLEUM PRODUCT (NON-HVL), LIQUID | TAYLOR       | WAYNE      | ⋯ | 0 | 0 |      0 |      0 |     0 |   1096 |    6255 | 2163 |    9514 |    0 |\n",
       "\n"
      ],
      "text/plain": [
       "  report_number accident_year accident_date       operator_id\n",
       "1 20100078      2010          2010-04-25 09:00:00 32147      \n",
       "2 20100130      2010          2010-05-29 12:34:00   395      \n",
       "3 20100223      2010          2010-09-11 08:55:00 11169      \n",
       "4 20100239      2010          2010-10-06 13:20:00 18718      \n",
       "5 20100307      2010          2010-12-01 09:00:00 11169      \n",
       "6 20110011      2010          2010-12-11 15:30:00  1845      \n",
       "  operator_name                        pipeline_location pipeline_type\n",
       "1 MARATHON PIPE LINE LLC               ONSHORE           ABOVEGROUND  \n",
       "2 AMOCO OIL CO                         ONSHORE           UNDERGROUND  \n",
       "3 ENBRIDGE ENERGY, LIMITED PARTNERSHIP ONSHORE           UNDERGROUND  \n",
       "4 SUNOCO PIPELINE L.P.                 ONSHORE           UNDERGROUND  \n",
       "5 ENBRIDGE ENERGY, LIMITED PARTNERSHIP ONSHORE           ABOVEGROUND  \n",
       "6 BUCKEYE PARTNERS, LP                 ONSHORE           ABOVEGROUND  \n",
       "  liquid_type                                        accident_city\n",
       "1 CRUDE OIL                                          SAMARIA      \n",
       "2 REFINED AND/OR PETROLEUM PRODUCT (NON-HVL), LIQUID CONSTANTINE  \n",
       "3 CRUDE OIL                                          FOWLERVILLE  \n",
       "4 CRUDE OIL                                          ST. CLAIR    \n",
       "5 CRUDE OIL                                          NORTH BRANCH \n",
       "6 REFINED AND/OR PETROLEUM PRODUCT (NON-HVL), LIQUID TAYLOR       \n",
       "  accident_county ⋯ all_injuries all_fatalities property_damage_costs\n",
       "1 MONROE          ⋯ 0            0                   0               \n",
       "2 ST. JOSEPH      ⋯ 0            0              275000               \n",
       "3 LIVINGSTON      ⋯ 0            0               20000               \n",
       "4 ST. CLAIR       ⋯ 0            0                   0               \n",
       "5 LAPEER          ⋯ 0            0                  50               \n",
       "6 WAYNE           ⋯ 0            0                   0               \n",
       "  lost_commodity_costs public_private_property_damage_costs\n",
       "1   7018                   0                               \n",
       "2 267246               45000                               \n",
       "3      0                   0                               \n",
       "4      0                   0                               \n",
       "5      0                   0                               \n",
       "6      0                   0                               \n",
       "  emergency_response_costs environmental_remediation_costs other_costs\n",
       "1 171265                    925684                            0       \n",
       "2 278000                   1100000                            0       \n",
       "3   2500                      2500                            0       \n",
       "4  70000                      5000                            0       \n",
       "5      0                     10000                            0       \n",
       "6   1096                      6255                         2163       \n",
       "  all_costs close_time\n",
       "1 1103967    723      \n",
       "2 1965246   5858      \n",
       "3   25000      0      \n",
       "4   75000      0      \n",
       "5   10050      0      \n",
       "6    9514      0      "
      ]
     },
     "metadata": {},
     "output_type": "display_data"
    }
   ],
   "source": [
    "mi_pipes = pipeline_data %>% \n",
    "    filter(accident_state=='MI') %>% \n",
    "    arrange(accident_year)\n",
    "\n",
    "mi_pipes %>% head(6)"
   ]
  },
  {
   "cell_type": "markdown",
   "metadata": {},
   "source": [
    "### Part (b) (3 points)"
   ]
  },
  {
   "cell_type": "markdown",
   "metadata": {},
   "source": [
    "Create a boxplot of the logarithm of the `all_costs` variable, grouped by `pipeline_type`. That is, your plot should have five boxplots for each of the pipeline_type respectively. "
   ]
  },
  {
   "cell_type": "code",
   "execution_count": 8,
   "metadata": {},
   "outputs": [
    {
     "name": "stderr",
     "output_type": "stream",
     "text": [
      "Warning message:\n",
      "“Removed 34 rows containing non-finite values (stat_boxplot).”\n"
     ]
    },
    {
     "data": {
      "image/png": "[encoded data removed]",
      "text/plain": [
       "plot without title"
      ]
     },
     "metadata": {
      "image/png": {
       "height": 420,
       "width": 420
      }
     },
     "output_type": "display_data"
    }
   ],
   "source": [
    "ggplot(pipeline_data) + geom_boxplot(aes(x=pipeline_type, y=log(all_costs)))"
   ]
  },
  {
   "cell_type": "markdown",
   "metadata": {},
   "source": [
    "### Part (c) (2 points)\n",
    "\n",
    "What benefit does using the log transform have (you can try plotting the non-log transformed data if you are unsure)? Which pipeline type has the highest median cost of an accident?"
   ]
  },
  {
   "cell_type": "markdown",
   "metadata": {},
   "source": [
    "**Answer**: The log transform reduces the effect of large values, allowing us to determine a pattern in the cost relative to pipeline type. Underground pipelines have the highest accident cost (NA would be an accetable answer as well)."
   ]
  },
  {
   "cell_type": "markdown",
   "metadata": {},
   "source": [
    "### Part (d) (3 points)\n",
    "\n",
    "Construct a new table called `costs` containing only the columns from `pipeline_data` which contain information about the accident cost (these all end with \"costs\"). Filter out any rows in which there is at least one missing value. \n",
    "\n",
    "Hint: The `complete.cases()` function may be useful here. You may also find the function `ends_with` useful."
   ]
  },
  {
   "cell_type": "code",
   "execution_count": 9,
   "metadata": {
    "scrolled": false
   },
   "outputs": [
    {
     "name": "stdout",
     "output_type": "stream",
     "text": [
      "\u001b[38;5;246m# A tibble: 2,777 x 7\u001b[39m\n",
      "   property_damage… lost_commodity_… public_private_… emergency_respo…\n",
      "              \u001b[3m\u001b[38;5;246m<dbl>\u001b[39m\u001b[23m            \u001b[3m\u001b[38;5;246m<dbl>\u001b[39m\u001b[23m            \u001b[3m\u001b[38;5;246m<dbl>\u001b[39m\u001b[23m            \u001b[3m\u001b[38;5;246m<dbl>\u001b[39m\u001b[23m\n",
      "\u001b[38;5;250m 1\u001b[39m              110             \u001b[4m1\u001b[24m517                0                0\n",
      "\u001b[38;5;250m 2\u001b[39m             \u001b[4m4\u001b[24m000                8                0                0\n",
      "\u001b[38;5;250m 3\u001b[39m                0              200                0                0\n",
      "\u001b[38;5;250m 4\u001b[39m              200               40                0            \u001b[4m1\u001b[24m\u001b[4m1\u001b[24m300\n",
      "\u001b[38;5;250m 5\u001b[39m            \u001b[4m2\u001b[24m\u001b[4m0\u001b[24m000              150                0             \u001b[4m7\u001b[24m500\n",
      "\u001b[38;5;250m 6\u001b[39m            \u001b[4m7\u001b[24m\u001b[4m6\u001b[24m940           \u001b[4m1\u001b[24m\u001b[4m6\u001b[24m\u001b[4m7\u001b[24m775           \u001b[4m1\u001b[24m\u001b[4m5\u001b[24m\u001b[4m0\u001b[24m000          1\u001b[4m8\u001b[24m\u001b[4m0\u001b[24m\u001b[4m0\u001b[24m000\n",
      "\u001b[38;5;250m 7\u001b[39m                0              400                0                0\n",
      "\u001b[38;5;250m 8\u001b[39m              400               13                0                0\n",
      "\u001b[38;5;250m 9\u001b[39m                0              336                0                0\n",
      "\u001b[38;5;250m10\u001b[39m                0               50                0            \u001b[4m1\u001b[24m\u001b[4m0\u001b[24m000\n",
      "\u001b[38;5;246m# … with 2,767 more rows, and 3 more variables:\u001b[39m\n",
      "\u001b[38;5;246m#   environmental_remediation_costs \u001b[3m\u001b[38;5;246m<dbl>\u001b[38;5;246m\u001b[23m, other_costs \u001b[3m\u001b[38;5;246m<dbl>\u001b[38;5;246m\u001b[23m, all_costs \u001b[3m\u001b[38;5;246m<dbl>\u001b[38;5;246m\u001b[23m\u001b[39m\n"
     ]
    }
   ],
   "source": [
    "costs = pipeline_data %>% \n",
    "    select(ends_with(\"costs\")) \n",
    "costs = costs %>% \n",
    "    filter(complete.cases(costs))\n",
    "print(costs)"
   ]
  },
  {
   "cell_type": "code",
   "execution_count": 10,
   "metadata": {},
   "outputs": [
    {
     "name": "stdout",
     "output_type": "stream",
     "text": [
      "\u001b[38;5;246m# A tibble: 2,777 x 7\u001b[39m\n",
      "   property_damage… lost_commodity_… public_private_… emergency_respo…\n",
      "              \u001b[3m\u001b[38;5;246m<dbl>\u001b[39m\u001b[23m            \u001b[3m\u001b[38;5;246m<dbl>\u001b[39m\u001b[23m            \u001b[3m\u001b[38;5;246m<dbl>\u001b[39m\u001b[23m            \u001b[3m\u001b[38;5;246m<dbl>\u001b[39m\u001b[23m\n",
      "\u001b[38;5;250m 1\u001b[39m              110             \u001b[4m1\u001b[24m517                0                0\n",
      "\u001b[38;5;250m 2\u001b[39m             \u001b[4m4\u001b[24m000                8                0                0\n",
      "\u001b[38;5;250m 3\u001b[39m                0              200                0                0\n",
      "\u001b[38;5;250m 4\u001b[39m              200               40                0            \u001b[4m1\u001b[24m\u001b[4m1\u001b[24m300\n",
      "\u001b[38;5;250m 5\u001b[39m            \u001b[4m2\u001b[24m\u001b[4m0\u001b[24m000              150                0             \u001b[4m7\u001b[24m500\n",
      "\u001b[38;5;250m 6\u001b[39m            \u001b[4m7\u001b[24m\u001b[4m6\u001b[24m940           \u001b[4m1\u001b[24m\u001b[4m6\u001b[24m\u001b[4m7\u001b[24m775           \u001b[4m1\u001b[24m\u001b[4m5\u001b[24m\u001b[4m0\u001b[24m000          1\u001b[4m8\u001b[24m\u001b[4m0\u001b[24m\u001b[4m0\u001b[24m000\n",
      "\u001b[38;5;250m 7\u001b[39m                0              400                0                0\n",
      "\u001b[38;5;250m 8\u001b[39m              400               13                0                0\n",
      "\u001b[38;5;250m 9\u001b[39m                0              336                0                0\n",
      "\u001b[38;5;250m10\u001b[39m                0               50                0            \u001b[4m1\u001b[24m\u001b[4m0\u001b[24m000\n",
      "\u001b[38;5;246m# … with 2,767 more rows, and 3 more variables:\u001b[39m\n",
      "\u001b[38;5;246m#   environmental_remediation_costs \u001b[3m\u001b[38;5;246m<dbl>\u001b[38;5;246m\u001b[23m, other_costs \u001b[3m\u001b[38;5;246m<dbl>\u001b[38;5;246m\u001b[23m, all_costs \u001b[3m\u001b[38;5;246m<dbl>\u001b[38;5;246m\u001b[23m\u001b[39m\n"
     ]
    }
   ],
   "source": [
    "# With the pipe \"%>%\", we can use the dot to place the input in more than one spot\n",
    "# That way we can do everything in one pipeline\n",
    "# Example:\n",
    "# x %>% f(g(.)) == f(x, g(x))\n",
    "costs = pipeline_data %>% \n",
    "    select(ends_with(\"costs\")) %>% \n",
    "    filter(complete.cases(.))\n",
    "print(costs)"
   ]
  },
  {
   "cell_type": "code",
   "execution_count": null,
   "metadata": {},
   "outputs": [],
   "source": []
  },
  {
   "cell_type": "markdown",
   "metadata": {},
   "source": [
    "### Part (e) (3 points)\n",
    "Create a new data set named some_costs.  Your new data set should select all variables except for `all_costs`. Then, calculate the mean of each variable, you should obtain a table with 1 row and 6 columns. \n",
    "\n",
    "Using this newly created table, construct a pie chart of the mean cost from each category.  \n",
    "\n",
    "Hint: to summarize all variables, you can use the function `summarise_all`.  To create a pie chart, you need to use the `gather` function to change the table that you have created to a table with 6 rows and 2 columns. "
   ]
  },
  {
   "cell_type": "code",
   "execution_count": 15,
   "metadata": {},
   "outputs": [
    {
     "name": "stdout",
     "output_type": "stream",
     "text": [
      "\u001b[38;5;246m# A tibble: 1 x 6\u001b[39m\n",
      "  property_damage… lost_commodity_… public_private_… emergency_respo…\n",
      "             \u001b[3m\u001b[38;5;246m<dbl>\u001b[39m\u001b[23m            \u001b[3m\u001b[38;5;246m<dbl>\u001b[39m\u001b[23m            \u001b[3m\u001b[38;5;246m<dbl>\u001b[39m\u001b[23m            \u001b[3m\u001b[38;5;246m<dbl>\u001b[39m\u001b[23m\n",
      "\u001b[38;5;250m1\u001b[39m          \u001b[4m1\u001b[24m\u001b[4m1\u001b[24m\u001b[4m1\u001b[24m491.            \u001b[4m9\u001b[24m732.           \u001b[4m1\u001b[24m\u001b[4m6\u001b[24m908.          \u001b[4m2\u001b[24m\u001b[4m2\u001b[24m\u001b[4m9\u001b[24m393.\n",
      "\u001b[38;5;246m# … with 2 more variables: environmental_remediation_costs \u001b[3m\u001b[38;5;246m<dbl>\u001b[38;5;246m\u001b[23m,\u001b[39m\n",
      "\u001b[38;5;246m#   other_costs \u001b[3m\u001b[38;5;246m<dbl>\u001b[38;5;246m\u001b[23m\u001b[39m\n"
     ]
    }
   ],
   "source": [
    "some_costs = costs %>% \n",
    "    select(-all_costs) %>% \n",
    "    summarise_all(mean)\n",
    "print(some_costs)"
   ]
  },
  {
   "cell_type": "code",
   "execution_count": 19,
   "metadata": {},
   "outputs": [
    {
     "name": "stdout",
     "output_type": "stream",
     "text": [
      "\u001b[38;5;246m# A tibble: 6 x 2\u001b[39m\n",
      "  key                                    value\n",
      "  \u001b[3m\u001b[38;5;246m<chr>\u001b[39m\u001b[23m                                  \u001b[3m\u001b[38;5;246m<dbl>\u001b[39m\u001b[23m\n",
      "\u001b[38;5;250m1\u001b[39m property_damage_costs                \u001b[4m1\u001b[24m\u001b[4m1\u001b[24m\u001b[4m1\u001b[24m491.\n",
      "\u001b[38;5;250m2\u001b[39m lost_commodity_costs                   \u001b[4m9\u001b[24m732.\n",
      "\u001b[38;5;250m3\u001b[39m public_private_property_damage_costs  \u001b[4m1\u001b[24m\u001b[4m6\u001b[24m908.\n",
      "\u001b[38;5;250m4\u001b[39m emergency_response_costs             \u001b[4m2\u001b[24m\u001b[4m2\u001b[24m\u001b[4m9\u001b[24m393.\n",
      "\u001b[38;5;250m5\u001b[39m environmental_remediation_costs      \u001b[4m1\u001b[24m\u001b[4m3\u001b[24m\u001b[4m5\u001b[24m411.\n",
      "\u001b[38;5;250m6\u001b[39m other_costs                           \u001b[4m3\u001b[24m\u001b[4m3\u001b[24m517.\n"
     ]
    }
   ],
   "source": [
    "some_costs_tall = some_costs %>%\n",
    "    gather() # Equivalent to gather(everything(), key=\"key\", value=\"value\")\n",
    "print(some_costs_tall)"
   ]
  },
  {
   "cell_type": "code",
   "execution_count": 20,
   "metadata": {},
   "outputs": [
    {
     "data": {
      "image/png": "[encoded data removed]",
      "text/plain": [
       "plot without title"
      ]
     },
     "metadata": {
      "image/png": {
       "height": 420,
       "width": 420
      }
     },
     "output_type": "display_data"
    }
   ],
   "source": [
    "ggplot(data = some_costs_tall) +\n",
    "  geom_col(mapping = aes(x = 1, fill=key, y=value), width = 1) +\n",
    "  labs(x = NULL) +\n",
    "  coord_polar(theta=\"y\")"
   ]
  },
  {
   "cell_type": "markdown",
   "metadata": {},
   "source": [
    "### Part (f) (2 points)\n",
    "Returning to the `pipeline_data` table, add a new variable, `env_prop`, which is defined as the `environmental_remediation_costs` divide by `all_costs`. Store the new table in a new object called `pipeline_env`. "
   ]
  },
  {
   "cell_type": "code",
   "execution_count": 21,
   "metadata": {},
   "outputs": [
    {
     "name": "stdout",
     "output_type": "stream",
     "text": [
      "\u001b[38;5;246m# A tibble: 2,794 x 33\u001b[39m\n",
      "   report_number accident_year accident_date       operator_id operator_name\n",
      "           \u001b[3m\u001b[38;5;246m<dbl>\u001b[39m\u001b[23m         \u001b[3m\u001b[38;5;246m<dbl>\u001b[39m\u001b[23m \u001b[3m\u001b[38;5;246m<dttm>\u001b[39m\u001b[23m                    \u001b[3m\u001b[38;5;246m<dbl>\u001b[39m\u001b[23m \u001b[3m\u001b[38;5;246m<chr>\u001b[39m\u001b[23m        \n",
      "\u001b[38;5;250m 1\u001b[39m      20\u001b[4m1\u001b[24m\u001b[4m0\u001b[24m\u001b[4m0\u001b[24m016          \u001b[4m2\u001b[24m010 2010-01-01 \u001b[38;5;246m07:15:00\u001b[39m       \u001b[4m3\u001b[24m\u001b[4m2\u001b[24m109 ONEOK NGL PI…\n",
      "\u001b[38;5;250m 2\u001b[39m      20\u001b[4m1\u001b[24m\u001b[4m0\u001b[24m\u001b[4m0\u001b[24m254          \u001b[4m2\u001b[24m010 2010-01-04 \u001b[38;5;246m08:30:00\u001b[39m       \u001b[4m1\u001b[24m\u001b[4m5\u001b[24m786 PORTLAND PIP…\n",
      "\u001b[38;5;250m 3\u001b[39m      20\u001b[4m1\u001b[24m\u001b[4m0\u001b[24m\u001b[4m0\u001b[24m038          \u001b[4m2\u001b[24m010 2010-01-05 \u001b[38;5;246m10:30:00\u001b[39m       \u001b[4m2\u001b[24m\u001b[4m0\u001b[24m160 PETROLOGISTI…\n",
      "\u001b[38;5;250m 4\u001b[39m      20\u001b[4m1\u001b[24m\u001b[4m0\u001b[24m\u001b[4m0\u001b[24m260          \u001b[4m2\u001b[24m010 2010-01-06 \u001b[38;5;246m19:30:00\u001b[39m       \u001b[4m1\u001b[24m\u001b[4m1\u001b[24m169 ENBRIDGE ENE…\n",
      "\u001b[38;5;250m 5\u001b[39m      20\u001b[4m1\u001b[24m\u001b[4m0\u001b[24m\u001b[4m0\u001b[24m030          \u001b[4m2\u001b[24m010 2010-01-07 \u001b[38;5;246m13:00:00\u001b[39m         300 PLAINS PIPEL…\n",
      "\u001b[38;5;250m 6\u001b[39m      20\u001b[4m1\u001b[24m\u001b[4m0\u001b[24m\u001b[4m0\u001b[24m021          \u001b[4m2\u001b[24m010 2010-01-08 \u001b[38;5;246m23:38:00\u001b[39m       \u001b[4m1\u001b[24m\u001b[4m1\u001b[24m169 ENBRIDGE ENE…\n",
      "\u001b[38;5;250m 7\u001b[39m      20\u001b[4m1\u001b[24m\u001b[4m1\u001b[24m\u001b[4m0\u001b[24m036          \u001b[4m2\u001b[24m010 2010-01-09 \u001b[38;5;246m00:15:00\u001b[39m       \u001b[4m2\u001b[24m\u001b[4m6\u001b[24m041 KINDER MORGA…\n",
      "\u001b[38;5;250m 8\u001b[39m      20\u001b[4m1\u001b[24m\u001b[4m0\u001b[24m\u001b[4m0\u001b[24m255          \u001b[4m2\u001b[24m010 2010-01-09 \u001b[38;5;246m01:12:00\u001b[39m       \u001b[4m1\u001b[24m\u001b[4m2\u001b[24m624 MOBIL CORP   \n",
      "\u001b[38;5;250m 9\u001b[39m      20\u001b[4m1\u001b[24m\u001b[4m0\u001b[24m\u001b[4m0\u001b[24m261          \u001b[4m2\u001b[24m010 2010-01-10 \u001b[38;5;246m19:46:00\u001b[39m       \u001b[4m2\u001b[24m\u001b[4m6\u001b[24m041 KINDER MORGA…\n",
      "\u001b[38;5;250m10\u001b[39m      20\u001b[4m1\u001b[24m\u001b[4m0\u001b[24m\u001b[4m0\u001b[24m024          \u001b[4m2\u001b[24m010 2010-01-11 \u001b[38;5;246m14:30:00\u001b[39m       \u001b[4m3\u001b[24m\u001b[4m1\u001b[24m684 CONOCOPHILLI…\n",
      "\u001b[38;5;246m# … with 2,784 more rows, and 28 more variables: pipeline_location \u001b[3m\u001b[38;5;246m<chr>\u001b[38;5;246m\u001b[23m,\u001b[39m\n",
      "\u001b[38;5;246m#   pipeline_type \u001b[3m\u001b[38;5;246m<chr>\u001b[38;5;246m\u001b[23m, liquid_type \u001b[3m\u001b[38;5;246m<chr>\u001b[38;5;246m\u001b[23m, accident_city \u001b[3m\u001b[38;5;246m<chr>\u001b[38;5;246m\u001b[23m,\u001b[39m\n",
      "\u001b[38;5;246m#   accident_county \u001b[3m\u001b[38;5;246m<chr>\u001b[38;5;246m\u001b[23m, accident_state \u001b[3m\u001b[38;5;246m<chr>\u001b[38;5;246m\u001b[23m, accident_latitude \u001b[3m\u001b[38;5;246m<dbl>\u001b[38;5;246m\u001b[23m,\u001b[39m\n",
      "\u001b[38;5;246m#   accident_longitude \u001b[3m\u001b[38;5;246m<dbl>\u001b[38;5;246m\u001b[23m, cause_category \u001b[3m\u001b[38;5;246m<chr>\u001b[38;5;246m\u001b[23m,\u001b[39m\n",
      "\u001b[38;5;246m#   unintentional_release \u001b[3m\u001b[38;5;246m<dbl>\u001b[38;5;246m\u001b[23m, intentional_release \u001b[3m\u001b[38;5;246m<dbl>\u001b[38;5;246m\u001b[23m,\u001b[39m\n",
      "\u001b[38;5;246m#   liquid_recover \u001b[3m\u001b[38;5;246m<dbl>\u001b[38;5;246m\u001b[23m, net_loss \u001b[3m\u001b[38;5;246m<dbl>\u001b[38;5;246m\u001b[23m, liquid_ignition \u001b[3m\u001b[38;5;246m<chr>\u001b[38;5;246m\u001b[23m,\u001b[39m\n",
      "\u001b[38;5;246m#   liquid_explosion \u001b[3m\u001b[38;5;246m<chr>\u001b[38;5;246m\u001b[23m, pipeline_shutdown \u001b[3m\u001b[38;5;246m<chr>\u001b[38;5;246m\u001b[23m, public_evacuations \u001b[3m\u001b[38;5;246m<dbl>\u001b[38;5;246m\u001b[23m,\u001b[39m\n",
      "\u001b[38;5;246m#   all_injuries \u001b[3m\u001b[38;5;246m<dbl>\u001b[38;5;246m\u001b[23m, all_fatalities \u001b[3m\u001b[38;5;246m<dbl>\u001b[38;5;246m\u001b[23m, property_damage_costs \u001b[3m\u001b[38;5;246m<dbl>\u001b[38;5;246m\u001b[23m,\u001b[39m\n",
      "\u001b[38;5;246m#   lost_commodity_costs \u001b[3m\u001b[38;5;246m<dbl>\u001b[38;5;246m\u001b[23m, public_private_property_damage_costs \u001b[3m\u001b[38;5;246m<dbl>\u001b[38;5;246m\u001b[23m,\u001b[39m\n",
      "\u001b[38;5;246m#   emergency_response_costs \u001b[3m\u001b[38;5;246m<dbl>\u001b[38;5;246m\u001b[23m, environmental_remediation_costs \u001b[3m\u001b[38;5;246m<dbl>\u001b[38;5;246m\u001b[23m,\u001b[39m\n",
      "\u001b[38;5;246m#   other_costs \u001b[3m\u001b[38;5;246m<dbl>\u001b[38;5;246m\u001b[23m, all_costs \u001b[3m\u001b[38;5;246m<dbl>\u001b[38;5;246m\u001b[23m, close_time \u001b[3m\u001b[38;5;246m<dbl>\u001b[38;5;246m\u001b[23m, env_prop \u001b[3m\u001b[38;5;246m<dbl>\u001b[38;5;246m\u001b[23m\u001b[39m\n"
     ]
    }
   ],
   "source": [
    "pipeline_env <- pipeline_data %>% \n",
    "    mutate(env_prop = environmental_remediation_costs / all_costs) \n",
    "print(pipeline_env)"
   ]
  },
  {
   "cell_type": "markdown",
   "metadata": {},
   "source": [
    "### Part (g) (4 points)\n",
    "Using `pipeline_env` that you have just created, construct a summary table that contains the average environmental remediation cost for each liquid type `liquid_type`, as well as the total number of accidents per liquid type. Sort this table by mean environmental remediation cost proportion `env_prop`. Store it in a variable called `env_summary` and print the table."
   ]
  },
  {
   "cell_type": "code",
   "execution_count": 22,
   "metadata": {},
   "outputs": [
    {
     "name": "stderr",
     "output_type": "stream",
     "text": [
      "`summarise()` ungrouping output (override with `.groups` argument)\n",
      "\n"
     ]
    },
    {
     "name": "stdout",
     "output_type": "stream",
     "text": [
      "\u001b[38;5;246m# A tibble: 5 x 3\u001b[39m\n",
      "  liquid_type                                          mean_env `n()`\n",
      "  \u001b[3m\u001b[38;5;246m<chr>\u001b[39m\u001b[23m                                                   \u001b[3m\u001b[38;5;246m<dbl>\u001b[39m\u001b[23m \u001b[3m\u001b[38;5;246m<int>\u001b[39m\u001b[23m\n",
      "\u001b[38;5;250m1\u001b[39m CO2 (CARBON DIOXIDE)                                  0.001\u001b[4m0\u001b[24m\u001b[4m6\u001b[24m    38\n",
      "\u001b[38;5;250m2\u001b[39m HVL OR OTHER FLAMMABLE OR TOXIC FLUID, GAS            0.062\u001b[4m2\u001b[24m    418\n",
      "\u001b[38;5;250m3\u001b[39m CRUDE OIL                                             0.281    \u001b[4m1\u001b[24m397\n",
      "\u001b[38;5;250m4\u001b[39m REFINED AND/OR PETROLEUM PRODUCT (NON-HVL), LIQUID    0.299     939\n",
      "\u001b[38;5;250m5\u001b[39m BIOFUEL / ALTERNATIVE FUEL(INCLUDING ETHANOL BLENDS)  0.3         2\n"
     ]
    }
   ],
   "source": [
    "env_summary = pipeline_env %>% \n",
    "    group_by(liquid_type) %>% \n",
    "    summarise(mean_env = mean(env_prop, na.rm=T), n()) %>%\n",
    "    arrange(mean_env)\n",
    "    print(env_summary)"
   ]
  },
  {
   "cell_type": "markdown",
   "metadata": {},
   "source": [
    "### Part (h) (5 points)\n",
    "Create a table which contains the pipeline operator (`operator_name`) with the most accidents for each `pipeline_type`, as well as the total number of injured persons (found in `all_injuries`) associated with all accidents from that operator. Store your answer in a table called `most_dangerous`. Your table should have 4 columns: `pipeline_type`, `operator_name`, `counts` (number of accidents), and `hurt` (number of injuries). Print the table using `print()`.  "
   ]
  },
  {
   "cell_type": "code",
   "execution_count": 27,
   "metadata": {},
   "outputs": [
    {
     "name": "stderr",
     "output_type": "stream",
     "text": [
      "`summarise()` regrouping output by 'pipeline_type' (override with `.groups` argument)\n",
      "\n"
     ]
    },
    {
     "name": "stdout",
     "output_type": "stream",
     "text": [
      "\u001b[38;5;246m# A tibble: 409 x 4\u001b[39m\n",
      "\u001b[38;5;246m# Groups:   pipeline_type [4]\u001b[39m\n",
      "   pipeline_type operator_name                    counts  hurt\n",
      "   \u001b[3m\u001b[38;5;246m<chr>\u001b[39m\u001b[23m         \u001b[3m\u001b[38;5;246m<chr>\u001b[39m\u001b[23m                             \u001b[3m\u001b[38;5;246m<int>\u001b[39m\u001b[23m \u001b[3m\u001b[38;5;246m<dbl>\u001b[39m\u001b[23m\n",
      "\u001b[38;5;250m 1\u001b[39m ABOVEGROUND   ALYESKA PIPELINE SERVICE CO           4     0\n",
      "\u001b[38;5;250m 2\u001b[39m ABOVEGROUND   AMOCO OIL CO                          1     0\n",
      "\u001b[38;5;250m 3\u001b[39m ABOVEGROUND   BELLE FOURCHE PIPELINE CO             4     0\n",
      "\u001b[38;5;250m 4\u001b[39m ABOVEGROUND   BKEP CRUDE, LLC                       1     0\n",
      "\u001b[38;5;250m 5\u001b[39m ABOVEGROUND   BKEP PIPELINE, LLC                    2     0\n",
      "\u001b[38;5;250m 6\u001b[39m ABOVEGROUND   BP PIPELINE (NORTH AMERICA) INC.      5     0\n",
      "\u001b[38;5;250m 7\u001b[39m ABOVEGROUND   BP PIPELINES (ALASKA), INC            2     0\n",
      "\u001b[38;5;250m 8\u001b[39m ABOVEGROUND   BP USFO/LOGISTICS                     3     0\n",
      "\u001b[38;5;250m 9\u001b[39m ABOVEGROUND   BP WEST COAST PRODUCTS L.L.C.         4     0\n",
      "\u001b[38;5;250m10\u001b[39m ABOVEGROUND   BRIDGER PIPELINE LLC                  1     0\n",
      "\u001b[38;5;246m# … with 399 more rows\u001b[39m\n"
     ]
    }
   ],
   "source": [
    "pipeline_counts_and_hurts <- pipeline_data %>%\n",
    "    filter(!is.na(pipeline_type)) %>%\n",
    "    group_by(pipeline_type, operator_name) %>%\n",
    "    summarise(counts= n(), hurt = sum(all_injuries)) \n",
    "print(pipeline_counts_and_hurts)"
   ]
  },
  {
   "cell_type": "code",
   "execution_count": 29,
   "metadata": {},
   "outputs": [
    {
     "data": {
      "text/html": [
       "<table>\n",
       "<caption>A grouped_df: 4 × 4</caption>\n",
       "<thead>\n",
       "\t<tr><th scope=col>pipeline_type</th><th scope=col>operator_name</th><th scope=col>counts</th><th scope=col>hurt</th></tr>\n",
       "\t<tr><th scope=col>&lt;chr&gt;</th><th scope=col>&lt;chr&gt;</th><th scope=col>&lt;int&gt;</th><th scope=col>&lt;dbl&gt;</th></tr>\n",
       "</thead>\n",
       "<tbody>\n",
       "\t<tr><td>ABOVEGROUND    </td><td>ENTERPRISE CRUDE PIPELINE LLC      </td><td>111</td><td>2</td></tr>\n",
       "\t<tr><td>TANK           </td><td>KINDER MORGAN LIQUID TERMINALS, LLC</td><td> 32</td><td>0</td></tr>\n",
       "\t<tr><td>TRANSITION AREA</td><td>COLONIAL PIPELINE CO               </td><td>  6</td><td>0</td></tr>\n",
       "\t<tr><td>UNDERGROUND    </td><td>SUNOCO PIPELINE L.P.               </td><td> 84</td><td>0</td></tr>\n",
       "</tbody>\n",
       "</table>\n"
      ],
      "text/latex": [
       "A grouped\\_df: 4 × 4\n",
       "\\begin{tabular}{llll}\n",
       " pipeline\\_type & operator\\_name & counts & hurt\\\\\n",
       " <chr> & <chr> & <int> & <dbl>\\\\\n",
       "\\hline\n",
       "\t ABOVEGROUND     & ENTERPRISE CRUDE PIPELINE LLC       & 111 & 2\\\\\n",
       "\t TANK            & KINDER MORGAN LIQUID TERMINALS, LLC &  32 & 0\\\\\n",
       "\t TRANSITION AREA & COLONIAL PIPELINE CO                &   6 & 0\\\\\n",
       "\t UNDERGROUND     & SUNOCO PIPELINE L.P.                &  84 & 0\\\\\n",
       "\\end{tabular}\n"
      ],
      "text/markdown": [
       "\n",
       "A grouped_df: 4 × 4\n",
       "\n",
       "| pipeline_type &lt;chr&gt; | operator_name &lt;chr&gt; | counts &lt;int&gt; | hurt &lt;dbl&gt; |\n",
       "|---|---|---|---|\n",
       "| ABOVEGROUND     | ENTERPRISE CRUDE PIPELINE LLC       | 111 | 2 |\n",
       "| TANK            | KINDER MORGAN LIQUID TERMINALS, LLC |  32 | 0 |\n",
       "| TRANSITION AREA | COLONIAL PIPELINE CO                |   6 | 0 |\n",
       "| UNDERGROUND     | SUNOCO PIPELINE L.P.                |  84 | 0 |\n",
       "\n"
      ],
      "text/plain": [
       "  pipeline_type   operator_name                       counts hurt\n",
       "1 ABOVEGROUND     ENTERPRISE CRUDE PIPELINE LLC       111    2   \n",
       "2 TANK            KINDER MORGAN LIQUID TERMINALS, LLC  32    0   \n",
       "3 TRANSITION AREA COLONIAL PIPELINE CO                  6    0   \n",
       "4 UNDERGROUND     SUNOCO PIPELINE L.P.                 84    0   "
      ]
     },
     "metadata": {},
     "output_type": "display_data"
    }
   ],
   "source": [
    "pipeline_counts_and_hurts %>%\n",
    "    slice_max(order_by=counts) "
   ]
  },
  {
   "cell_type": "markdown",
   "metadata": {},
   "source": [
    "## Problem 4, Movie Dataset"
   ]
  },
  {
   "cell_type": "markdown",
   "metadata": {},
   "source": [
    "\n",
    "For this question, you are given a dataset of the movies and TV shows that received the most number of votes on IMDB.com. Each row is a different title whose type is given by \"titleType\".\n",
    "\n",
    "To load the data set, implement the following code:"
   ]
  },
  {
   "cell_type": "code",
   "execution_count": 31,
   "metadata": {},
   "outputs": [
    {
     "name": "stderr",
     "output_type": "stream",
     "text": [
      "\n",
      "\u001b[36m──\u001b[39m \u001b[1m\u001b[1mColumn specification\u001b[1m\u001b[22m \u001b[36m────────────────────────────────────────────────────────\u001b[39m\n",
      "cols(\n",
      "  primaryTitle = \u001b[31mcol_character()\u001b[39m,\n",
      "  titleType = \u001b[31mcol_character()\u001b[39m,\n",
      "  startYear = \u001b[32mcol_double()\u001b[39m,\n",
      "  endYear = \u001b[32mcol_double()\u001b[39m,\n",
      "  runtimeMinutes = \u001b[32mcol_double()\u001b[39m,\n",
      "  genres = \u001b[31mcol_character()\u001b[39m,\n",
      "  averageRating = \u001b[32mcol_double()\u001b[39m,\n",
      "  numVotes = \u001b[32mcol_double()\u001b[39m\n",
      ")\n",
      "\n",
      "\n"
     ]
    }
   ],
   "source": [
    "imdb_titles <- read_csv(\"https://raw.githubusercontent.com/dereklhansen/stats306_lab/master/lab4/imdb_titles.csv.gz\")"
   ]
  },
  {
   "cell_type": "code",
   "execution_count": 32,
   "metadata": {},
   "outputs": [
    {
     "name": "stdout",
     "output_type": "stream",
     "text": [
      "\u001b[38;5;246m# A tibble: 8,007 x 8\u001b[39m\n",
      "   primaryTitle titleType startYear endYear runtimeMinutes genres averageRating\n",
      "   \u001b[3m\u001b[38;5;246m<chr>\u001b[39m\u001b[23m        \u001b[3m\u001b[38;5;246m<chr>\u001b[39m\u001b[23m         \u001b[3m\u001b[38;5;246m<dbl>\u001b[39m\u001b[23m   \u001b[3m\u001b[38;5;246m<dbl>\u001b[39m\u001b[23m          \u001b[3m\u001b[38;5;246m<dbl>\u001b[39m\u001b[23m \u001b[3m\u001b[38;5;246m<chr>\u001b[39m\u001b[23m          \u001b[3m\u001b[38;5;246m<dbl>\u001b[39m\u001b[23m\n",
      "\u001b[38;5;250m 1\u001b[39m The Shawsha… movie          \u001b[4m1\u001b[24m994      \u001b[31mNA\u001b[39m            142 Drama            9.3\n",
      "\u001b[38;5;250m 2\u001b[39m The Dark Kn… movie          \u001b[4m2\u001b[24m008      \u001b[31mNA\u001b[39m            152 Actio…           9  \n",
      "\u001b[38;5;250m 3\u001b[39m Inception    movie          \u001b[4m2\u001b[24m010      \u001b[31mNA\u001b[39m            148 Actio…           8.8\n",
      "\u001b[38;5;250m 4\u001b[39m Fight Club   movie          \u001b[4m1\u001b[24m999      \u001b[31mNA\u001b[39m            139 Drama            8.8\n",
      "\u001b[38;5;250m 5\u001b[39m Pulp Fiction movie          \u001b[4m1\u001b[24m994      \u001b[31mNA\u001b[39m            154 Crime…           8.9\n",
      "\u001b[38;5;250m 6\u001b[39m Forrest Gump movie          \u001b[4m1\u001b[24m994      \u001b[31mNA\u001b[39m            142 Drama…           8.8\n",
      "\u001b[38;5;250m 7\u001b[39m Game of Thr… tvSeries       \u001b[4m2\u001b[24m011    \u001b[4m2\u001b[24m019             57 Actio…           9.3\n",
      "\u001b[38;5;250m 8\u001b[39m The Matrix   movie          \u001b[4m1\u001b[24m999      \u001b[31mNA\u001b[39m            136 Actio…           8.7\n",
      "\u001b[38;5;250m 9\u001b[39m The Lord of… movie          \u001b[4m2\u001b[24m001      \u001b[31mNA\u001b[39m            178 Actio…           8.8\n",
      "\u001b[38;5;250m10\u001b[39m The Lord of… movie          \u001b[4m2\u001b[24m003      \u001b[31mNA\u001b[39m            201 Actio…           8.9\n",
      "\u001b[38;5;246m# … with 7,997 more rows, and 1 more variable: numVotes \u001b[3m\u001b[38;5;246m<dbl>\u001b[38;5;246m\u001b[23m\u001b[39m\n"
     ]
    }
   ],
   "source": [
    "print(imdb_titles)"
   ]
  },
  {
   "cell_type": "markdown",
   "metadata": {},
   "source": [
    "### Part (a) (5 points)"
   ]
  },
  {
   "cell_type": "markdown",
   "metadata": {},
   "source": [
    "Construct a data frame where each row corresponds to a titleType (there are 3 different title types), with the following columns:\n",
    "-  ```titleType```: the name of the titleType\n",
    "-  ```ntitles``` containing the number of titles with that \"titleType\"\n",
    "-   ```averageRating``` containing the mean averageRating of that \"titleType\"\n",
    "-   ```numVotes``` containing the mean numVotes of that \"titleType\". \n",
    "\n",
    "Arrange this data frame by ```numVotes``` in descending order. There should be three rows. Store this in the object ```titletypes``` and print the result.\n",
    "\n"
   ]
  },
  {
   "cell_type": "code",
   "execution_count": 33,
   "metadata": {},
   "outputs": [
    {
     "name": "stderr",
     "output_type": "stream",
     "text": [
      "`summarise()` ungrouping output (override with `.groups` argument)\n",
      "\n"
     ]
    },
    {
     "name": "stdout",
     "output_type": "stream",
     "text": [
      "\u001b[38;5;246m# A tibble: 3 x 4\u001b[39m\n",
      "  titleType ntitles averageRating numVotes\n",
      "  \u001b[3m\u001b[38;5;246m<chr>\u001b[39m\u001b[23m       \u001b[3m\u001b[38;5;246m<int>\u001b[39m\u001b[23m         \u001b[3m\u001b[38;5;246m<dbl>\u001b[39m\u001b[23m    \u001b[3m\u001b[38;5;246m<dbl>\u001b[39m\u001b[23m\n",
      "\u001b[38;5;250m1\u001b[39m movie        \u001b[4m6\u001b[24m889          6.61   \u001b[4m9\u001b[24m\u001b[4m3\u001b[24m447.\n",
      "\u001b[38;5;250m2\u001b[39m tvSeries      880          7.76   \u001b[4m6\u001b[24m\u001b[4m0\u001b[24m577.\n",
      "\u001b[38;5;250m3\u001b[39m tvEpisode     238          8.84   \u001b[4m2\u001b[24m\u001b[4m3\u001b[24m646.\n"
     ]
    }
   ],
   "source": [
    "titletypes <- imdb_titles %>%\n",
    "    group_by(titleType) %>%\n",
    "    summarize(ntitles=n(), averageRating=mean(averageRating), numVotes=mean(numVotes)) %>%\n",
    "    arrange(desc(numVotes))\n",
    "\n",
    "print(titletypes)"
   ]
  },
  {
   "cell_type": "markdown",
   "metadata": {},
   "source": [
    "### Part (b) (3 points) \n",
    "We want to investigate the relationship between the number of votes a title receives and its average rating. Using \"imdb_titles\", plot a scatterplot and a smoothed function with `numVotes` in the x-axis and `averageRating` in the y-axis."
   ]
  },
  {
   "cell_type": "code",
   "execution_count": 34,
   "metadata": {},
   "outputs": [
    {
     "name": "stderr",
     "output_type": "stream",
     "text": [
      "`geom_smooth()` using method = 'gam' and formula 'y ~ s(x, bs = \"cs\")'\n",
      "\n"
     ]
    },
    {
     "data": {
      "image/png": "[encoded data removed]",
      "text/plain": [
       "plot without title"
      ]
     },
     "metadata": {
      "image/png": {
       "height": 420,
       "width": 420
      }
     },
     "output_type": "display_data"
    }
   ],
   "source": [
    "ggplot(imdb_titles, aes(x=numVotes, y=averageRating)) + \n",
    "    geom_point() + \n",
    "    geom_smooth()"
   ]
  },
  {
   "cell_type": "markdown",
   "metadata": {},
   "source": [
    "### Part (c) (5 points)\n",
    "\n",
    "Now our attention turns to TV series. Construct a dataset called containing only TV Series with a variable called \"years_on_air\" equal to the number of years that show was being actively shown on TV. Filter out series which are still running (i.e. that have a missing value in the year that they ended `endYear`).\n",
    "\n",
    "You will be working with the variables `titleType`, `endYear`, `startYear`.  \n",
    "\n",
    "Show a histogram of \"runtime\" (sic), setting the bin width equal to 1."
   ]
  },
  {
   "cell_type": "code",
   "execution_count": 35,
   "metadata": {},
   "outputs": [
    {
     "data": {
      "image/png": "[encoded data removed]",
      "text/plain": [
       "plot without title"
      ]
     },
     "metadata": {
      "image/png": {
       "height": 420,
       "width": 420
      }
     },
     "output_type": "display_data"
    }
   ],
   "source": [
    "## Actually meant years_on_air\n",
    "tv_series  <- filter(imdb_titles, titleType==\"tvSeries\", !is.na(endYear)) %>%\n",
    "    mutate(years_on_air=endYear-startYear)\n",
    "\n",
    "\n",
    "## Distribution of runs of TV shows\n",
    "ggplot(tv_series) + geom_histogram(aes(x=years_on_air), binwidth = 1)"
   ]
  },
  {
   "cell_type": "markdown",
   "metadata": {},
   "source": [
    "### Part (d) (3 points)\n",
    "\n",
    "We want to know which genres do the best, but they are collected in the `genres` variable as one character vector. \n",
    "We want to explore the ratings of titles in three categories: Drama, Action, and Comedy.\n",
    "\n",
    "Mutate ```imdb_titles``` so that it has three new columns, ```is_drama```, ```is_action```, and ```is_comedy``` which are TRUE when the movie is in the respective genre, and FALSE otherwise. \n",
    "\n",
    "Store the result in the variable ```topgenres``` and print the result. \n",
    "\n",
    "Hint: The ```stri_detect_fixed``` function from the ```stringi``` package will be useful here. For instance, to create the variable is_drama, you can use the following code.  \n",
    "\n",
    "is_drama  = stri_detect_fixed(genres, \"Drama\").\n"
   ]
  },
  {
   "cell_type": "code",
   "execution_count": 37,
   "metadata": {},
   "outputs": [
    {
     "name": "stdout",
     "output_type": "stream",
     "text": [
      "\u001b[38;5;246m# A tibble: 8,007 x 11\u001b[39m\n",
      "   primaryTitle titleType startYear endYear runtimeMinutes genres averageRating\n",
      "   \u001b[3m\u001b[38;5;246m<chr>\u001b[39m\u001b[23m        \u001b[3m\u001b[38;5;246m<chr>\u001b[39m\u001b[23m         \u001b[3m\u001b[38;5;246m<dbl>\u001b[39m\u001b[23m   \u001b[3m\u001b[38;5;246m<dbl>\u001b[39m\u001b[23m          \u001b[3m\u001b[38;5;246m<dbl>\u001b[39m\u001b[23m \u001b[3m\u001b[38;5;246m<chr>\u001b[39m\u001b[23m          \u001b[3m\u001b[38;5;246m<dbl>\u001b[39m\u001b[23m\n",
      "\u001b[38;5;250m 1\u001b[39m The Shawsha… movie          \u001b[4m1\u001b[24m994      \u001b[31mNA\u001b[39m            142 Drama            9.3\n",
      "\u001b[38;5;250m 2\u001b[39m The Dark Kn… movie          \u001b[4m2\u001b[24m008      \u001b[31mNA\u001b[39m            152 Actio…           9  \n",
      "\u001b[38;5;250m 3\u001b[39m Inception    movie          \u001b[4m2\u001b[24m010      \u001b[31mNA\u001b[39m            148 Actio…           8.8\n",
      "\u001b[38;5;250m 4\u001b[39m Fight Club   movie          \u001b[4m1\u001b[24m999      \u001b[31mNA\u001b[39m            139 Drama            8.8\n",
      "\u001b[38;5;250m 5\u001b[39m Pulp Fiction movie          \u001b[4m1\u001b[24m994      \u001b[31mNA\u001b[39m            154 Crime…           8.9\n",
      "\u001b[38;5;250m 6\u001b[39m Forrest Gump movie          \u001b[4m1\u001b[24m994      \u001b[31mNA\u001b[39m            142 Drama…           8.8\n",
      "\u001b[38;5;250m 7\u001b[39m Game of Thr… tvSeries       \u001b[4m2\u001b[24m011    \u001b[4m2\u001b[24m019             57 Actio…           9.3\n",
      "\u001b[38;5;250m 8\u001b[39m The Matrix   movie          \u001b[4m1\u001b[24m999      \u001b[31mNA\u001b[39m            136 Actio…           8.7\n",
      "\u001b[38;5;250m 9\u001b[39m The Lord of… movie          \u001b[4m2\u001b[24m001      \u001b[31mNA\u001b[39m            178 Actio…           8.8\n",
      "\u001b[38;5;250m10\u001b[39m The Lord of… movie          \u001b[4m2\u001b[24m003      \u001b[31mNA\u001b[39m            201 Actio…           8.9\n",
      "\u001b[38;5;246m# … with 7,997 more rows, and 4 more variables: numVotes \u001b[3m\u001b[38;5;246m<dbl>\u001b[38;5;246m\u001b[23m, is_drama \u001b[3m\u001b[38;5;246m<lgl>\u001b[38;5;246m\u001b[23m,\u001b[39m\n",
      "\u001b[38;5;246m#   is_action \u001b[3m\u001b[38;5;246m<lgl>\u001b[38;5;246m\u001b[23m, is_comedy \u001b[3m\u001b[38;5;246m<lgl>\u001b[38;5;246m\u001b[23m\u001b[39m\n"
     ]
    }
   ],
   "source": [
    "library(stringi)\n",
    "topgenres <- mutate(imdb_titles, \n",
    "                    is_drama  = stri_detect_fixed(genres, \"Drama\"),\n",
    "                    is_action = stri_detect_fixed(genres, \"Action\"),\n",
    "                    is_comedy = stri_detect_fixed(genres, \"Comedy\")) \n",
    "print(topgenres)"
   ]
  },
  {
   "cell_type": "code",
   "execution_count": 38,
   "metadata": {},
   "outputs": [
    {
     "name": "stdout",
     "output_type": "stream",
     "text": [
      "\u001b[38;5;246m# A tibble: 8,007 x 11\u001b[39m\n",
      "   primaryTitle titleType startYear endYear runtimeMinutes genres averageRating\n",
      "   \u001b[3m\u001b[38;5;246m<chr>\u001b[39m\u001b[23m        \u001b[3m\u001b[38;5;246m<chr>\u001b[39m\u001b[23m         \u001b[3m\u001b[38;5;246m<dbl>\u001b[39m\u001b[23m   \u001b[3m\u001b[38;5;246m<dbl>\u001b[39m\u001b[23m          \u001b[3m\u001b[38;5;246m<dbl>\u001b[39m\u001b[23m \u001b[3m\u001b[38;5;246m<chr>\u001b[39m\u001b[23m          \u001b[3m\u001b[38;5;246m<dbl>\u001b[39m\u001b[23m\n",
      "\u001b[38;5;250m 1\u001b[39m The Shawsha… movie          \u001b[4m1\u001b[24m994      \u001b[31mNA\u001b[39m            142 Drama            9.3\n",
      "\u001b[38;5;250m 2\u001b[39m The Dark Kn… movie          \u001b[4m2\u001b[24m008      \u001b[31mNA\u001b[39m            152 Actio…           9  \n",
      "\u001b[38;5;250m 3\u001b[39m Inception    movie          \u001b[4m2\u001b[24m010      \u001b[31mNA\u001b[39m            148 Actio…           8.8\n",
      "\u001b[38;5;250m 4\u001b[39m Fight Club   movie          \u001b[4m1\u001b[24m999      \u001b[31mNA\u001b[39m            139 Drama            8.8\n",
      "\u001b[38;5;250m 5\u001b[39m Pulp Fiction movie          \u001b[4m1\u001b[24m994      \u001b[31mNA\u001b[39m            154 Crime…           8.9\n",
      "\u001b[38;5;250m 6\u001b[39m Forrest Gump movie          \u001b[4m1\u001b[24m994      \u001b[31mNA\u001b[39m            142 Drama…           8.8\n",
      "\u001b[38;5;250m 7\u001b[39m Game of Thr… tvSeries       \u001b[4m2\u001b[24m011    \u001b[4m2\u001b[24m019             57 Actio…           9.3\n",
      "\u001b[38;5;250m 8\u001b[39m The Matrix   movie          \u001b[4m1\u001b[24m999      \u001b[31mNA\u001b[39m            136 Actio…           8.7\n",
      "\u001b[38;5;250m 9\u001b[39m The Lord of… movie          \u001b[4m2\u001b[24m001      \u001b[31mNA\u001b[39m            178 Actio…           8.8\n",
      "\u001b[38;5;250m10\u001b[39m The Lord of… movie          \u001b[4m2\u001b[24m003      \u001b[31mNA\u001b[39m            201 Actio…           8.9\n",
      "\u001b[38;5;246m# … with 7,997 more rows, and 4 more variables: numVotes \u001b[3m\u001b[38;5;246m<dbl>\u001b[38;5;246m\u001b[23m, is_drama \u001b[3m\u001b[38;5;246m<lgl>\u001b[38;5;246m\u001b[23m,\u001b[39m\n",
      "\u001b[38;5;246m#   is_action \u001b[3m\u001b[38;5;246m<lgl>\u001b[38;5;246m\u001b[23m, is_comedy \u001b[3m\u001b[38;5;246m<lgl>\u001b[38;5;246m\u001b[23m\u001b[39m\n"
     ]
    }
   ],
   "source": [
    "## Can also use the \"stringr\" package which is included in tidyverse\n",
    "## stringr is a wrapper around string\n",
    "topgenres <- mutate(imdb_titles, \n",
    "                    is_drama  = str_detect(genres, \"Drama\"),\n",
    "                    is_action = str_detect(genres, \"Action\"),\n",
    "                    is_comedy = str_detect(genres, \"Comedy\")) \n",
    "print(topgenres)"
   ]
  },
  {
   "cell_type": "markdown",
   "metadata": {},
   "source": [
    "### Part (e) (5 points)\n",
    "Using the ```topgenres``` dataset from part (d), make a plot of two histograms side-by-side: one with movies which are not comedies (```is_comedy==FALSE```), and one of movies which are comedies(```is_comedy==TRUE```). Adjust the fill to vary with ```is_comedy```. Use a bin width of 0.1. Adjust the scale so that it is easier to see the proportions of each group. (Hint: check out the ```scales``` argument to ```facet_wrap```)."
   ]
  },
  {
   "cell_type": "code",
   "execution_count": 17,
   "metadata": {},
   "outputs": [
    {
     "data": {
      "image/png": "[encoded data removed]",
      "text/plain": [
       "plot without title"
      ]
     },
     "metadata": {
      "image/png": {
       "height": 420,
       "width": 420
      }
     },
     "output_type": "display_data"
    }
   ],
   "source": [
    "ggplot(topgenres) + \n",
    "    geom_histogram(aes(x=averageRating, fill=is_comedy), binwidth=.1) + \n",
    "    facet_wrap(~is_comedy, scales=\"free_y\")"
   ]
  },
  {
   "cell_type": "markdown",
   "metadata": {},
   "source": [
    "### Part (f) (challenge) (4 points)\n",
    "The ```genres``` column comes as a list of multiple genres separated by columns. First, create a dataset with the ```genres``` column split into three different variables, ```genre1```, ```genre2```, and ```genre3```. Save this as ```tidygenres``` and print the result.\n",
    "\n",
    "#### Hint:\n",
    "Use ```tidyr::separate```.\n",
    "\n",
    "Next, using the ```tidygenres``` dataset, we want to create a dataset that counts the number of times a genre appears (stored in the variable ```count```), and the average ```averageRating``` value of titles with that genre (stored in the variable ```averageRating```) for each ```titleType```-```genre``` pair. Note that titles can have multple genres. Sort by titleType in ascending order and by ```averageRating``` in descending order. Store this in ```genre_ratings``` and print the result.\n",
    "\n",
    "#### Hint: \n",
    "-  Try to ```gather()``` the variables ```genre1```, ```genre2``` and ```genre3```. \n",
    "-  The ```genre_ratings``` dataset printed will look like this:\n",
    "\n",
    "```\n",
    "# A tibble: 63 x 4\n",
    "   titleType genre       count averageRating\n",
    "   <chr>     <chr>       <int>         <dbl>\n",
    " 1 movie     Film-Noir       5          7.84\n",
    " 2 movie     Documentary   138          7.49\n",
    " 3 movie     News            3          7.47\n",
    " 4 movie     History       228          7.20\n",
    " 5 movie     Biography     477          7.19\n",
    " 6 movie     War           125          7.15\n",
    " 7 movie     Animation     324          6.92\n",
    " 8 movie     Drama        3689          6.90\n",
    " 9 movie     Western        38          6.86\n",
    "10 movie     Musical        71          6.85\n",
    "# … with 53 more rows\n",
    "```\n",
    "\n",
    "-  ```tail(genre_ratings)``` looks like this:\n",
    "```\n",
    "# A tibble: 6 x 4\n",
    "  titleType genre      count averageRating\n",
    "  <chr>     <chr>      <int>         <dbl>\n",
    "1 tvSeries  Romance       73          7.49\n",
    "2 tvSeries  Music         20          7.49\n",
    "3 tvSeries  Horror        36          7.45\n",
    "4 tvSeries  Family        58          7.32\n",
    "5 tvSeries  Game-Show      8          7.14\n",
    "6 tvSeries  Reality-TV    12          6.56\n",
    " ```"
   ]
  },
  {
   "cell_type": "code",
   "execution_count": 39,
   "metadata": {},
   "outputs": [
    {
     "name": "stderr",
     "output_type": "stream",
     "text": [
      "Warning message:\n",
      "“Expected 3 pieces. Missing pieces filled with `NA` in 2667 rows [1, 4, 5, 6, 8, 11, 16, 20, 28, 30, 31, 34, 35, 42, 53, 56, 58, 63, 67, 71, ...].”\n"
     ]
    },
    {
     "name": "stdout",
     "output_type": "stream",
     "text": [
      "\u001b[38;5;246m# A tibble: 8,007 x 10\u001b[39m\n",
      "   primaryTitle titleType startYear endYear runtimeMinutes genre1 genre2 genre3\n",
      "   \u001b[3m\u001b[38;5;246m<chr>\u001b[39m\u001b[23m        \u001b[3m\u001b[38;5;246m<chr>\u001b[39m\u001b[23m         \u001b[3m\u001b[38;5;246m<dbl>\u001b[39m\u001b[23m   \u001b[3m\u001b[38;5;246m<dbl>\u001b[39m\u001b[23m          \u001b[3m\u001b[38;5;246m<dbl>\u001b[39m\u001b[23m \u001b[3m\u001b[38;5;246m<chr>\u001b[39m\u001b[23m  \u001b[3m\u001b[38;5;246m<chr>\u001b[39m\u001b[23m  \u001b[3m\u001b[38;5;246m<chr>\u001b[39m\u001b[23m \n",
      "\u001b[38;5;250m 1\u001b[39m The Shawsha… movie          \u001b[4m1\u001b[24m994      \u001b[31mNA\u001b[39m            142 Drama  \u001b[31mNA\u001b[39m     \u001b[31mNA\u001b[39m    \n",
      "\u001b[38;5;250m 2\u001b[39m The Dark Kn… movie          \u001b[4m2\u001b[24m008      \u001b[31mNA\u001b[39m            152 Action Crime  Drama \n",
      "\u001b[38;5;250m 3\u001b[39m Inception    movie          \u001b[4m2\u001b[24m010      \u001b[31mNA\u001b[39m            148 Action Adven… Sci-Fi\n",
      "\u001b[38;5;250m 4\u001b[39m Fight Club   movie          \u001b[4m1\u001b[24m999      \u001b[31mNA\u001b[39m            139 Drama  \u001b[31mNA\u001b[39m     \u001b[31mNA\u001b[39m    \n",
      "\u001b[38;5;250m 5\u001b[39m Pulp Fiction movie          \u001b[4m1\u001b[24m994      \u001b[31mNA\u001b[39m            154 Crime  Drama  \u001b[31mNA\u001b[39m    \n",
      "\u001b[38;5;250m 6\u001b[39m Forrest Gump movie          \u001b[4m1\u001b[24m994      \u001b[31mNA\u001b[39m            142 Drama  Roman… \u001b[31mNA\u001b[39m    \n",
      "\u001b[38;5;250m 7\u001b[39m Game of Thr… tvSeries       \u001b[4m2\u001b[24m011    \u001b[4m2\u001b[24m019             57 Action Adven… Drama \n",
      "\u001b[38;5;250m 8\u001b[39m The Matrix   movie          \u001b[4m1\u001b[24m999      \u001b[31mNA\u001b[39m            136 Action Sci-Fi \u001b[31mNA\u001b[39m    \n",
      "\u001b[38;5;250m 9\u001b[39m The Lord of… movie          \u001b[4m2\u001b[24m001      \u001b[31mNA\u001b[39m            178 Action Adven… Drama \n",
      "\u001b[38;5;250m10\u001b[39m The Lord of… movie          \u001b[4m2\u001b[24m003      \u001b[31mNA\u001b[39m            201 Action Adven… Drama \n",
      "\u001b[38;5;246m# … with 7,997 more rows, and 2 more variables: averageRating \u001b[3m\u001b[38;5;246m<dbl>\u001b[38;5;246m\u001b[23m,\u001b[39m\n",
      "\u001b[38;5;246m#   numVotes \u001b[3m\u001b[38;5;246m<dbl>\u001b[38;5;246m\u001b[23m\u001b[39m\n"
     ]
    }
   ],
   "source": [
    "tidygenre <- imdb_titles %>%\n",
    "    separate(genres, c(\"genre1\", \"genre2\", \"genre3\"), sep=\",\")\n",
    "print(tidygenre)"
   ]
  },
  {
   "cell_type": "code",
   "execution_count": 40,
   "metadata": {},
   "outputs": [
    {
     "name": "stderr",
     "output_type": "stream",
     "text": [
      "`summarise()` regrouping output by 'titleType' (override with `.groups` argument)\n",
      "\n"
     ]
    },
    {
     "name": "stdout",
     "output_type": "stream",
     "text": [
      "\u001b[38;5;246m# A tibble: 63 x 4\u001b[39m\n",
      "   titleType genre       count averageRating\n",
      "   \u001b[3m\u001b[38;5;246m<chr>\u001b[39m\u001b[23m     \u001b[3m\u001b[38;5;246m<chr>\u001b[39m\u001b[23m       \u001b[3m\u001b[38;5;246m<int>\u001b[39m\u001b[23m         \u001b[3m\u001b[38;5;246m<dbl>\u001b[39m\u001b[23m\n",
      "\u001b[38;5;250m 1\u001b[39m movie     Film-Noir       5          7.84\n",
      "\u001b[38;5;250m 2\u001b[39m movie     Documentary   138          7.49\n",
      "\u001b[38;5;250m 3\u001b[39m movie     News            3          7.47\n",
      "\u001b[38;5;250m 4\u001b[39m movie     History       228          7.20\n",
      "\u001b[38;5;250m 5\u001b[39m movie     Biography     477          7.19\n",
      "\u001b[38;5;250m 6\u001b[39m movie     War           125          7.15\n",
      "\u001b[38;5;250m 7\u001b[39m movie     Animation     324          6.92\n",
      "\u001b[38;5;250m 8\u001b[39m movie     Drama        \u001b[4m3\u001b[24m689          6.90\n",
      "\u001b[38;5;250m 9\u001b[39m movie     Western        38          6.86\n",
      "\u001b[38;5;250m10\u001b[39m movie     Musical        71          6.85\n",
      "\u001b[38;5;246m# … with 53 more rows\u001b[39m\n"
     ]
    }
   ],
   "source": [
    "genre_ratings <- \n",
    "    gather(tidygenre, starts_with(\"genre\"), key=\"genre_order\", value=\"genre\") %>%\n",
    "    filter(!is.na(genre)) %>%\n",
    "    group_by(titleType, genre) %>%\n",
    "    summarize(count=n(), averageRating=mean(averageRating)) %>%\n",
    "    arrange(titleType, desc(averageRating)) %>%\n",
    "    ungroup()\n",
    "\n",
    "print(genre_ratings)"
   ]
  },
  {
   "cell_type": "code",
   "execution_count": 51,
   "metadata": {},
   "outputs": [
    {
     "name": "stdout",
     "output_type": "stream",
     "text": [
      "\u001b[38;5;246m# A tibble: 24,021 x 9\u001b[39m\n",
      "   primaryTitle genre genre_order titleType startYear endYear runtimeMinutes\n",
      "   \u001b[3m\u001b[38;5;246m<chr>\u001b[39m\u001b[23m        \u001b[3m\u001b[38;5;246m<chr>\u001b[39m\u001b[23m \u001b[3m\u001b[38;5;246m<chr>\u001b[39m\u001b[23m       \u001b[3m\u001b[38;5;246m<chr>\u001b[39m\u001b[23m         \u001b[3m\u001b[38;5;246m<dbl>\u001b[39m\u001b[23m   \u001b[3m\u001b[38;5;246m<dbl>\u001b[39m\u001b[23m          \u001b[3m\u001b[38;5;246m<dbl>\u001b[39m\u001b[23m\n",
      "\u001b[38;5;250m 1\u001b[39m The Shawsha… Drama genre1      movie          \u001b[4m1\u001b[24m994      \u001b[31mNA\u001b[39m            142\n",
      "\u001b[38;5;250m 2\u001b[39m The Dark Kn… Acti… genre1      movie          \u001b[4m2\u001b[24m008      \u001b[31mNA\u001b[39m            152\n",
      "\u001b[38;5;250m 3\u001b[39m Inception    Acti… genre1      movie          \u001b[4m2\u001b[24m010      \u001b[31mNA\u001b[39m            148\n",
      "\u001b[38;5;250m 4\u001b[39m Fight Club   Drama genre1      movie          \u001b[4m1\u001b[24m999      \u001b[31mNA\u001b[39m            139\n",
      "\u001b[38;5;250m 5\u001b[39m Pulp Fiction Crime genre1      movie          \u001b[4m1\u001b[24m994      \u001b[31mNA\u001b[39m            154\n",
      "\u001b[38;5;250m 6\u001b[39m Forrest Gump Drama genre1      movie          \u001b[4m1\u001b[24m994      \u001b[31mNA\u001b[39m            142\n",
      "\u001b[38;5;250m 7\u001b[39m Game of Thr… Acti… genre1      tvSeries       \u001b[4m2\u001b[24m011    \u001b[4m2\u001b[24m019             57\n",
      "\u001b[38;5;250m 8\u001b[39m The Matrix   Acti… genre1      movie          \u001b[4m1\u001b[24m999      \u001b[31mNA\u001b[39m            136\n",
      "\u001b[38;5;250m 9\u001b[39m The Lord of… Acti… genre1      movie          \u001b[4m2\u001b[24m001      \u001b[31mNA\u001b[39m            178\n",
      "\u001b[38;5;250m10\u001b[39m The Lord of… Acti… genre1      movie          \u001b[4m2\u001b[24m003      \u001b[31mNA\u001b[39m            201\n",
      "\u001b[38;5;246m# … with 24,011 more rows, and 2 more variables: averageRating \u001b[3m\u001b[38;5;246m<dbl>\u001b[38;5;246m\u001b[23m,\u001b[39m\n",
      "\u001b[38;5;246m#   numVotes \u001b[3m\u001b[38;5;246m<dbl>\u001b[38;5;246m\u001b[23m\u001b[39m\n"
     ]
    }
   ],
   "source": [
    "genre_ratings1 <- gather(tidygenre, starts_with(\"genre\"), key=\"genre_order\", value=\"genre\")\n",
    "print(select(genre_ratings1, primaryTitle, genre, genre_order, everything()))"
   ]
  },
  {
   "cell_type": "code",
   "execution_count": 46,
   "metadata": {},
   "outputs": [
    {
     "name": "stdout",
     "output_type": "stream",
     "text": [
      "\u001b[38;5;246m# A tibble: 20,672 x 9\u001b[39m\n",
      "   primaryTitle titleType startYear endYear runtimeMinutes averageRating\n",
      "   \u001b[3m\u001b[38;5;246m<chr>\u001b[39m\u001b[23m        \u001b[3m\u001b[38;5;246m<chr>\u001b[39m\u001b[23m         \u001b[3m\u001b[38;5;246m<dbl>\u001b[39m\u001b[23m   \u001b[3m\u001b[38;5;246m<dbl>\u001b[39m\u001b[23m          \u001b[3m\u001b[38;5;246m<dbl>\u001b[39m\u001b[23m         \u001b[3m\u001b[38;5;246m<dbl>\u001b[39m\u001b[23m\n",
      "\u001b[38;5;250m 1\u001b[39m The Shawsha… movie          \u001b[4m1\u001b[24m994      \u001b[31mNA\u001b[39m            142           9.3\n",
      "\u001b[38;5;250m 2\u001b[39m The Dark Kn… movie          \u001b[4m2\u001b[24m008      \u001b[31mNA\u001b[39m            152           9  \n",
      "\u001b[38;5;250m 3\u001b[39m Inception    movie          \u001b[4m2\u001b[24m010      \u001b[31mNA\u001b[39m            148           8.8\n",
      "\u001b[38;5;250m 4\u001b[39m Fight Club   movie          \u001b[4m1\u001b[24m999      \u001b[31mNA\u001b[39m            139           8.8\n",
      "\u001b[38;5;250m 5\u001b[39m Pulp Fiction movie          \u001b[4m1\u001b[24m994      \u001b[31mNA\u001b[39m            154           8.9\n",
      "\u001b[38;5;250m 6\u001b[39m Forrest Gump movie          \u001b[4m1\u001b[24m994      \u001b[31mNA\u001b[39m            142           8.8\n",
      "\u001b[38;5;250m 7\u001b[39m Game of Thr… tvSeries       \u001b[4m2\u001b[24m011    \u001b[4m2\u001b[24m019             57           9.3\n",
      "\u001b[38;5;250m 8\u001b[39m The Matrix   movie          \u001b[4m1\u001b[24m999      \u001b[31mNA\u001b[39m            136           8.7\n",
      "\u001b[38;5;250m 9\u001b[39m The Lord of… movie          \u001b[4m2\u001b[24m001      \u001b[31mNA\u001b[39m            178           8.8\n",
      "\u001b[38;5;250m10\u001b[39m The Lord of… movie          \u001b[4m2\u001b[24m003      \u001b[31mNA\u001b[39m            201           8.9\n",
      "\u001b[38;5;246m# … with 20,662 more rows, and 3 more variables: numVotes \u001b[3m\u001b[38;5;246m<dbl>\u001b[38;5;246m\u001b[23m,\u001b[39m\n",
      "\u001b[38;5;246m#   genre_order \u001b[3m\u001b[38;5;246m<chr>\u001b[38;5;246m\u001b[23m, genre \u001b[3m\u001b[38;5;246m<chr>\u001b[38;5;246m\u001b[23m\u001b[39m\n"
     ]
    }
   ],
   "source": [
    "genre_ratings2 <- filter(genre_ratings1, !is.na(genre))\n",
    "print(genre_ratings2)"
   ]
  },
  {
   "cell_type": "code",
   "execution_count": 47,
   "metadata": {},
   "outputs": [
    {
     "name": "stdout",
     "output_type": "stream",
     "text": [
      "\u001b[38;5;246m# A tibble: 20,672 x 9\u001b[39m\n",
      "\u001b[38;5;246m# Groups:   titleType, genre [63]\u001b[39m\n",
      "   primaryTitle titleType startYear endYear runtimeMinutes averageRating\n",
      "   \u001b[3m\u001b[38;5;246m<chr>\u001b[39m\u001b[23m        \u001b[3m\u001b[38;5;246m<chr>\u001b[39m\u001b[23m         \u001b[3m\u001b[38;5;246m<dbl>\u001b[39m\u001b[23m   \u001b[3m\u001b[38;5;246m<dbl>\u001b[39m\u001b[23m          \u001b[3m\u001b[38;5;246m<dbl>\u001b[39m\u001b[23m         \u001b[3m\u001b[38;5;246m<dbl>\u001b[39m\u001b[23m\n",
      "\u001b[38;5;250m 1\u001b[39m The Shawsha… movie          \u001b[4m1\u001b[24m994      \u001b[31mNA\u001b[39m            142           9.3\n",
      "\u001b[38;5;250m 2\u001b[39m The Dark Kn… movie          \u001b[4m2\u001b[24m008      \u001b[31mNA\u001b[39m            152           9  \n",
      "\u001b[38;5;250m 3\u001b[39m Inception    movie          \u001b[4m2\u001b[24m010      \u001b[31mNA\u001b[39m            148           8.8\n",
      "\u001b[38;5;250m 4\u001b[39m Fight Club   movie          \u001b[4m1\u001b[24m999      \u001b[31mNA\u001b[39m            139           8.8\n",
      "\u001b[38;5;250m 5\u001b[39m Pulp Fiction movie          \u001b[4m1\u001b[24m994      \u001b[31mNA\u001b[39m            154           8.9\n",
      "\u001b[38;5;250m 6\u001b[39m Forrest Gump movie          \u001b[4m1\u001b[24m994      \u001b[31mNA\u001b[39m            142           8.8\n",
      "\u001b[38;5;250m 7\u001b[39m Game of Thr… tvSeries       \u001b[4m2\u001b[24m011    \u001b[4m2\u001b[24m019             57           9.3\n",
      "\u001b[38;5;250m 8\u001b[39m The Matrix   movie          \u001b[4m1\u001b[24m999      \u001b[31mNA\u001b[39m            136           8.7\n",
      "\u001b[38;5;250m 9\u001b[39m The Lord of… movie          \u001b[4m2\u001b[24m001      \u001b[31mNA\u001b[39m            178           8.8\n",
      "\u001b[38;5;250m10\u001b[39m The Lord of… movie          \u001b[4m2\u001b[24m003      \u001b[31mNA\u001b[39m            201           8.9\n",
      "\u001b[38;5;246m# … with 20,662 more rows, and 3 more variables: numVotes \u001b[3m\u001b[38;5;246m<dbl>\u001b[38;5;246m\u001b[23m,\u001b[39m\n",
      "\u001b[38;5;246m#   genre_order \u001b[3m\u001b[38;5;246m<chr>\u001b[38;5;246m\u001b[23m, genre \u001b[3m\u001b[38;5;246m<chr>\u001b[38;5;246m\u001b[23m\u001b[39m\n"
     ]
    }
   ],
   "source": [
    "genre_ratings3 <- group_by(genre_ratings2, titleType, genre)\n",
    "print(genre_ratings3)"
   ]
  },
  {
   "cell_type": "code",
   "execution_count": 48,
   "metadata": {},
   "outputs": [
    {
     "name": "stderr",
     "output_type": "stream",
     "text": [
      "`summarise()` regrouping output by 'titleType' (override with `.groups` argument)\n",
      "\n"
     ]
    },
    {
     "name": "stdout",
     "output_type": "stream",
     "text": [
      "\u001b[38;5;246m# A tibble: 63 x 4\u001b[39m\n",
      "\u001b[38;5;246m# Groups:   titleType [3]\u001b[39m\n",
      "   titleType genre       count averageRating\n",
      "   \u001b[3m\u001b[38;5;246m<chr>\u001b[39m\u001b[23m     \u001b[3m\u001b[38;5;246m<chr>\u001b[39m\u001b[23m       \u001b[3m\u001b[38;5;246m<int>\u001b[39m\u001b[23m         \u001b[3m\u001b[38;5;246m<dbl>\u001b[39m\u001b[23m\n",
      "\u001b[38;5;250m 1\u001b[39m movie     Action       \u001b[4m1\u001b[24m762          6.42\n",
      "\u001b[38;5;250m 2\u001b[39m movie     Adventure    \u001b[4m1\u001b[24m180          6.50\n",
      "\u001b[38;5;250m 3\u001b[39m movie     Animation     324          6.92\n",
      "\u001b[38;5;250m 4\u001b[39m movie     Biography     477          7.19\n",
      "\u001b[38;5;250m 5\u001b[39m movie     Comedy       \u001b[4m2\u001b[24m630          6.43\n",
      "\u001b[38;5;250m 6\u001b[39m movie     Crime        \u001b[4m1\u001b[24m392          6.68\n",
      "\u001b[38;5;250m 7\u001b[39m movie     Documentary   138          7.49\n",
      "\u001b[38;5;250m 8\u001b[39m movie     Drama        \u001b[4m3\u001b[24m689          6.90\n",
      "\u001b[38;5;250m 9\u001b[39m movie     Family        378          6.26\n",
      "\u001b[38;5;250m10\u001b[39m movie     Fantasy       571          6.34\n",
      "\u001b[38;5;246m# … with 53 more rows\u001b[39m\n"
     ]
    }
   ],
   "source": [
    "genre_ratings4 <- summarize(genre_ratings3, count=n(), averageRating=mean(averageRating))\n",
    "print(genre_ratings4)"
   ]
  },
  {
   "cell_type": "code",
   "execution_count": 49,
   "metadata": {},
   "outputs": [
    {
     "name": "stdout",
     "output_type": "stream",
     "text": [
      "\u001b[38;5;246m# A tibble: 63 x 4\u001b[39m\n",
      "\u001b[38;5;246m# Groups:   titleType [3]\u001b[39m\n",
      "   titleType genre       count averageRating\n",
      "   \u001b[3m\u001b[38;5;246m<chr>\u001b[39m\u001b[23m     \u001b[3m\u001b[38;5;246m<chr>\u001b[39m\u001b[23m       \u001b[3m\u001b[38;5;246m<int>\u001b[39m\u001b[23m         \u001b[3m\u001b[38;5;246m<dbl>\u001b[39m\u001b[23m\n",
      "\u001b[38;5;250m 1\u001b[39m movie     Film-Noir       5          7.84\n",
      "\u001b[38;5;250m 2\u001b[39m movie     Documentary   138          7.49\n",
      "\u001b[38;5;250m 3\u001b[39m movie     News            3          7.47\n",
      "\u001b[38;5;250m 4\u001b[39m movie     History       228          7.20\n",
      "\u001b[38;5;250m 5\u001b[39m movie     Biography     477          7.19\n",
      "\u001b[38;5;250m 6\u001b[39m movie     War           125          7.15\n",
      "\u001b[38;5;250m 7\u001b[39m movie     Animation     324          6.92\n",
      "\u001b[38;5;250m 8\u001b[39m movie     Drama        \u001b[4m3\u001b[24m689          6.90\n",
      "\u001b[38;5;250m 9\u001b[39m movie     Western        38          6.86\n",
      "\u001b[38;5;250m10\u001b[39m movie     Musical        71          6.85\n",
      "\u001b[38;5;246m# … with 53 more rows\u001b[39m\n"
     ]
    }
   ],
   "source": [
    "genre_ratings5 <- arrange(genre_ratings4, titleType, desc(averageRating))\n",
    "print(genre_ratings5)"
   ]
  },
  {
   "cell_type": "code",
   "execution_count": 50,
   "metadata": {},
   "outputs": [
    {
     "name": "stdout",
     "output_type": "stream",
     "text": [
      "\u001b[38;5;246m# A tibble: 63 x 4\u001b[39m\n",
      "   titleType genre       count averageRating\n",
      "   \u001b[3m\u001b[38;5;246m<chr>\u001b[39m\u001b[23m     \u001b[3m\u001b[38;5;246m<chr>\u001b[39m\u001b[23m       \u001b[3m\u001b[38;5;246m<int>\u001b[39m\u001b[23m         \u001b[3m\u001b[38;5;246m<dbl>\u001b[39m\u001b[23m\n",
      "\u001b[38;5;250m 1\u001b[39m movie     Film-Noir       5          7.84\n",
      "\u001b[38;5;250m 2\u001b[39m movie     Documentary   138          7.49\n",
      "\u001b[38;5;250m 3\u001b[39m movie     News            3          7.47\n",
      "\u001b[38;5;250m 4\u001b[39m movie     History       228          7.20\n",
      "\u001b[38;5;250m 5\u001b[39m movie     Biography     477          7.19\n",
      "\u001b[38;5;250m 6\u001b[39m movie     War           125          7.15\n",
      "\u001b[38;5;250m 7\u001b[39m movie     Animation     324          6.92\n",
      "\u001b[38;5;250m 8\u001b[39m movie     Drama        \u001b[4m3\u001b[24m689          6.90\n",
      "\u001b[38;5;250m 9\u001b[39m movie     Western        38          6.86\n",
      "\u001b[38;5;250m10\u001b[39m movie     Musical        71          6.85\n",
      "\u001b[38;5;246m# … with 53 more rows\u001b[39m\n"
     ]
    }
   ],
   "source": [
    "genre_ratings  <- ungroup(genre_ratings5)\n",
    "print(genre_ratings)"
   ]
  },
  {
   "cell_type": "markdown",
   "metadata": {},
   "source": [
    "## Part 2: Review left_join() and relational data"
   ]
  },
  {
   "cell_type": "markdown",
   "metadata": {},
   "source": [
    "A left join of two tables X and Y will match all combinations of rows of X and Y that have the same value in \"key\". How many rows will be in the final dataset will depend on how many combinations in X and Y have the same key. "
   ]
  },
  {
   "cell_type": "markdown",
   "metadata": {},
   "source": [
    "### Duplicate keys:\n",
    "1. One table has duplicate keys. This is useful when you want to add in additional information as there is typically a one-to-many relationship. ![duplicate keys](http://r4ds.had.co.nz/diagrams/join-one-to-many.png)"
   ]
  },
  {
   "cell_type": "code",
   "execution_count": 20,
   "metadata": {},
   "outputs": [],
   "source": [
    "x <- tribble(\n",
    "  ~key, ~val_x,\n",
    "     1, \"x1\",\n",
    "     2, \"x2\",\n",
    "     2, \"x3\",\n",
    "     1, \"x4\"\n",
    ")\n",
    "y <- tribble(\n",
    "  ~key, ~val_y,\n",
    "     1, \"y1\",\n",
    "     2, \"y2\"\n",
    ")"
   ]
  },
  {
   "cell_type": "code",
   "execution_count": 21,
   "metadata": {},
   "outputs": [
    {
     "data": {
      "text/html": [
       "<table>\n",
       "<caption>A tibble: 4 × 3</caption>\n",
       "<thead>\n",
       "\t<tr><th scope=col>key</th><th scope=col>val_x</th><th scope=col>val_y</th></tr>\n",
       "\t<tr><th scope=col>&lt;dbl&gt;</th><th scope=col>&lt;chr&gt;</th><th scope=col>&lt;chr&gt;</th></tr>\n",
       "</thead>\n",
       "<tbody>\n",
       "\t<tr><td>1</td><td>x1</td><td>y1</td></tr>\n",
       "\t<tr><td>2</td><td>x2</td><td>y2</td></tr>\n",
       "\t<tr><td>2</td><td>x3</td><td>y2</td></tr>\n",
       "\t<tr><td>1</td><td>x4</td><td>y1</td></tr>\n",
       "</tbody>\n",
       "</table>\n"
      ],
      "text/latex": [
       "A tibble: 4 × 3\n",
       "\\begin{tabular}{lll}\n",
       " key & val\\_x & val\\_y\\\\\n",
       " <dbl> & <chr> & <chr>\\\\\n",
       "\\hline\n",
       "\t 1 & x1 & y1\\\\\n",
       "\t 2 & x2 & y2\\\\\n",
       "\t 2 & x3 & y2\\\\\n",
       "\t 1 & x4 & y1\\\\\n",
       "\\end{tabular}\n"
      ],
      "text/markdown": [
       "\n",
       "A tibble: 4 × 3\n",
       "\n",
       "| key &lt;dbl&gt; | val_x &lt;chr&gt; | val_y &lt;chr&gt; |\n",
       "|---|---|---|\n",
       "| 1 | x1 | y1 |\n",
       "| 2 | x2 | y2 |\n",
       "| 2 | x3 | y2 |\n",
       "| 1 | x4 | y1 |\n",
       "\n"
      ],
      "text/plain": [
       "  key val_x val_y\n",
       "1 1   x1    y1   \n",
       "2 2   x2    y2   \n",
       "3 2   x3    y2   \n",
       "4 1   x4    y1   "
      ]
     },
     "metadata": {},
     "output_type": "display_data"
    }
   ],
   "source": [
    "left_join(x, y, by = \"key\")"
   ]
  },
  {
   "cell_type": "markdown",
   "metadata": {},
   "source": [
    "2. Both tables have duplicate keys\n",
    "This represents a many-to-many join and is usually an error since they key does not uniquely identify observations in either table. Joining duplicated keys results in the Cartesian product of all the possible matches:\n",
    "![cartesian](http://r4ds.had.co.nz/diagrams/join-many-to-many.png)"
   ]
  },
  {
   "cell_type": "code",
   "execution_count": 52,
   "metadata": {},
   "outputs": [],
   "source": [
    "x <- tribble(\n",
    "  ~key, ~val_x,\n",
    "     1, \"x1\",\n",
    "     2, \"x2\",\n",
    "     2, \"x3\",\n",
    "     3, \"x4\"\n",
    ")\n",
    "y <- tribble(\n",
    "  ~key, ~val_y,\n",
    "     1, \"y1\",\n",
    "     2, \"y2\",\n",
    "     2, \"y3\",\n",
    "     3, \"y4\"\n",
    ")\n"
   ]
  },
  {
   "cell_type": "code",
   "execution_count": 53,
   "metadata": {
    "scrolled": true
   },
   "outputs": [
    {
     "data": {
      "text/html": [
       "<table>\n",
       "<caption>A tibble: 6 × 3</caption>\n",
       "<thead>\n",
       "\t<tr><th scope=col>key</th><th scope=col>val_x</th><th scope=col>val_y</th></tr>\n",
       "\t<tr><th scope=col>&lt;dbl&gt;</th><th scope=col>&lt;chr&gt;</th><th scope=col>&lt;chr&gt;</th></tr>\n",
       "</thead>\n",
       "<tbody>\n",
       "\t<tr><td>1</td><td>x1</td><td>y1</td></tr>\n",
       "\t<tr><td>2</td><td>x2</td><td>y2</td></tr>\n",
       "\t<tr><td>2</td><td>x2</td><td>y3</td></tr>\n",
       "\t<tr><td>2</td><td>x3</td><td>y2</td></tr>\n",
       "\t<tr><td>2</td><td>x3</td><td>y3</td></tr>\n",
       "\t<tr><td>3</td><td>x4</td><td>y4</td></tr>\n",
       "</tbody>\n",
       "</table>\n"
      ],
      "text/latex": [
       "A tibble: 6 × 3\n",
       "\\begin{tabular}{lll}\n",
       " key & val\\_x & val\\_y\\\\\n",
       " <dbl> & <chr> & <chr>\\\\\n",
       "\\hline\n",
       "\t 1 & x1 & y1\\\\\n",
       "\t 2 & x2 & y2\\\\\n",
       "\t 2 & x2 & y3\\\\\n",
       "\t 2 & x3 & y2\\\\\n",
       "\t 2 & x3 & y3\\\\\n",
       "\t 3 & x4 & y4\\\\\n",
       "\\end{tabular}\n"
      ],
      "text/markdown": [
       "\n",
       "A tibble: 6 × 3\n",
       "\n",
       "| key &lt;dbl&gt; | val_x &lt;chr&gt; | val_y &lt;chr&gt; |\n",
       "|---|---|---|\n",
       "| 1 | x1 | y1 |\n",
       "| 2 | x2 | y2 |\n",
       "| 2 | x2 | y3 |\n",
       "| 2 | x3 | y2 |\n",
       "| 2 | x3 | y3 |\n",
       "| 3 | x4 | y4 |\n",
       "\n"
      ],
      "text/plain": [
       "  key val_x val_y\n",
       "1 1   x1    y1   \n",
       "2 2   x2    y2   \n",
       "3 2   x2    y3   \n",
       "4 2   x3    y2   \n",
       "5 2   x3    y3   \n",
       "6 3   x4    y4   "
      ]
     },
     "metadata": {},
     "output_type": "display_data"
    }
   ],
   "source": [
    "left_join(x, y, by = \"key\")"
   ]
  },
  {
   "cell_type": "markdown",
   "metadata": {},
   "source": [
    "Generally speaking, you should try to avoid the second case and have only unique keys in the right tibble."
   ]
  },
  {
   "cell_type": "markdown",
   "metadata": {},
   "source": [
    "## Difference from inner_join\n",
    "An inner join and left join differ in how they treat keys which are present in X but not in Y.\n",
    "An inner join keeps only rows where the key exists in both datasets, while a left join keeps all keys in X, but fills the columns from Y in unmatched rows with ```NA``` values."
   ]
  },
  {
   "cell_type": "code",
   "execution_count": 55,
   "metadata": {},
   "outputs": [],
   "source": [
    "x <- tribble(\n",
    "  ~key, ~val_x,\n",
    "     1, \"x1\",\n",
    "     2, \"x2\",\n",
    "     2, \"x3\",\n",
    "     1, \"x4\",\n",
    "     6, \"x5\"\n",
    ")\n",
    "y <- tribble(\n",
    "  ~key, ~val_y,\n",
    "     1, \"y1\",\n",
    "     2, \"y2\"\n",
    ")"
   ]
  },
  {
   "cell_type": "code",
   "execution_count": 57,
   "metadata": {},
   "outputs": [
    {
     "name": "stderr",
     "output_type": "stream",
     "text": [
      "Joining, by = \"key\"\n",
      "\n"
     ]
    },
    {
     "data": {
      "text/html": [
       "<table>\n",
       "<caption>A tibble: 5 × 3</caption>\n",
       "<thead>\n",
       "\t<tr><th scope=col>key</th><th scope=col>val_x</th><th scope=col>val_y</th></tr>\n",
       "\t<tr><th scope=col>&lt;dbl&gt;</th><th scope=col>&lt;chr&gt;</th><th scope=col>&lt;chr&gt;</th></tr>\n",
       "</thead>\n",
       "<tbody>\n",
       "\t<tr><td>1</td><td>x1</td><td>y1</td></tr>\n",
       "\t<tr><td>2</td><td>x2</td><td>y2</td></tr>\n",
       "\t<tr><td>2</td><td>x3</td><td>y2</td></tr>\n",
       "\t<tr><td>1</td><td>x4</td><td>y1</td></tr>\n",
       "\t<tr><td>6</td><td>x5</td><td>NA</td></tr>\n",
       "</tbody>\n",
       "</table>\n"
      ],
      "text/latex": [
       "A tibble: 5 × 3\n",
       "\\begin{tabular}{lll}\n",
       " key & val\\_x & val\\_y\\\\\n",
       " <dbl> & <chr> & <chr>\\\\\n",
       "\\hline\n",
       "\t 1 & x1 & y1\\\\\n",
       "\t 2 & x2 & y2\\\\\n",
       "\t 2 & x3 & y2\\\\\n",
       "\t 1 & x4 & y1\\\\\n",
       "\t 6 & x5 & NA\\\\\n",
       "\\end{tabular}\n"
      ],
      "text/markdown": [
       "\n",
       "A tibble: 5 × 3\n",
       "\n",
       "| key &lt;dbl&gt; | val_x &lt;chr&gt; | val_y &lt;chr&gt; |\n",
       "|---|---|---|\n",
       "| 1 | x1 | y1 |\n",
       "| 2 | x2 | y2 |\n",
       "| 2 | x3 | y2 |\n",
       "| 1 | x4 | y1 |\n",
       "| 6 | x5 | NA |\n",
       "\n"
      ],
      "text/plain": [
       "  key val_x val_y\n",
       "1 1   x1    y1   \n",
       "2 2   x2    y2   \n",
       "3 2   x3    y2   \n",
       "4 1   x4    y1   \n",
       "5 6   x5    NA   "
      ]
     },
     "metadata": {},
     "output_type": "display_data"
    }
   ],
   "source": [
    "left_join(x, y)"
   ]
  },
  {
   "cell_type": "code",
   "execution_count": 56,
   "metadata": {},
   "outputs": [
    {
     "name": "stderr",
     "output_type": "stream",
     "text": [
      "Joining, by = \"key\"\n",
      "\n"
     ]
    },
    {
     "data": {
      "text/html": [
       "<table>\n",
       "<caption>A tibble: 4 × 3</caption>\n",
       "<thead>\n",
       "\t<tr><th scope=col>key</th><th scope=col>val_x</th><th scope=col>val_y</th></tr>\n",
       "\t<tr><th scope=col>&lt;dbl&gt;</th><th scope=col>&lt;chr&gt;</th><th scope=col>&lt;chr&gt;</th></tr>\n",
       "</thead>\n",
       "<tbody>\n",
       "\t<tr><td>1</td><td>x1</td><td>y1</td></tr>\n",
       "\t<tr><td>2</td><td>x2</td><td>y2</td></tr>\n",
       "\t<tr><td>2</td><td>x3</td><td>y2</td></tr>\n",
       "\t<tr><td>1</td><td>x4</td><td>y1</td></tr>\n",
       "</tbody>\n",
       "</table>\n"
      ],
      "text/latex": [
       "A tibble: 4 × 3\n",
       "\\begin{tabular}{lll}\n",
       " key & val\\_x & val\\_y\\\\\n",
       " <dbl> & <chr> & <chr>\\\\\n",
       "\\hline\n",
       "\t 1 & x1 & y1\\\\\n",
       "\t 2 & x2 & y2\\\\\n",
       "\t 2 & x3 & y2\\\\\n",
       "\t 1 & x4 & y1\\\\\n",
       "\\end{tabular}\n"
      ],
      "text/markdown": [
       "\n",
       "A tibble: 4 × 3\n",
       "\n",
       "| key &lt;dbl&gt; | val_x &lt;chr&gt; | val_y &lt;chr&gt; |\n",
       "|---|---|---|\n",
       "| 1 | x1 | y1 |\n",
       "| 2 | x2 | y2 |\n",
       "| 2 | x3 | y2 |\n",
       "| 1 | x4 | y1 |\n",
       "\n"
      ],
      "text/plain": [
       "  key val_x val_y\n",
       "1 1   x1    y1   \n",
       "2 2   x2    y2   \n",
       "3 2   x3    y2   \n",
       "4 1   x4    y1   "
      ]
     },
     "metadata": {},
     "output_type": "display_data"
    }
   ],
   "source": [
    "inner_join(x,y)"
   ]
  },
  {
   "cell_type": "markdown",
   "metadata": {},
   "source": [
    "### Defining the key columns\n",
    "When we do a join using `left_join()`, R take as the key whatever column names the two tables have in common:"
   ]
  },
  {
   "cell_type": "code",
   "execution_count": 26,
   "metadata": {},
   "outputs": [],
   "source": [
    "flights2 <- flights %>% \n",
    "  select(year:day, hour, origin, dest, tailnum, carrier)"
   ]
  },
  {
   "cell_type": "markdown",
   "metadata": {},
   "source": [
    "1. The default, by = NULL, uses all variables that appear in both tables, the so called natural join. For example, the flights and weather tables match on their common variables: year, month, day, hour and origin."
   ]
  },
  {
   "cell_type": "code",
   "execution_count": 27,
   "metadata": {},
   "outputs": [
    {
     "name": "stderr",
     "output_type": "stream",
     "text": [
      "Joining, by = c(\"year\", \"month\", \"day\", \"hour\", \"origin\")\n",
      "\n"
     ]
    },
    {
     "data": {
      "text/html": [
       "<table>\n",
       "<caption>A tibble: 336776 × 18</caption>\n",
       "<thead>\n",
       "\t<tr><th scope=col>year</th><th scope=col>month</th><th scope=col>day</th><th scope=col>hour</th><th scope=col>origin</th><th scope=col>dest</th><th scope=col>tailnum</th><th scope=col>carrier</th><th scope=col>temp</th><th scope=col>dewp</th><th scope=col>humid</th><th scope=col>wind_dir</th><th scope=col>wind_speed</th><th scope=col>wind_gust</th><th scope=col>precip</th><th scope=col>pressure</th><th scope=col>visib</th><th scope=col>time_hour</th></tr>\n",
       "\t<tr><th scope=col>&lt;int&gt;</th><th scope=col>&lt;int&gt;</th><th scope=col>&lt;int&gt;</th><th scope=col>&lt;dbl&gt;</th><th scope=col>&lt;chr&gt;</th><th scope=col>&lt;chr&gt;</th><th scope=col>&lt;chr&gt;</th><th scope=col>&lt;chr&gt;</th><th scope=col>&lt;dbl&gt;</th><th scope=col>&lt;dbl&gt;</th><th scope=col>&lt;dbl&gt;</th><th scope=col>&lt;dbl&gt;</th><th scope=col>&lt;dbl&gt;</th><th scope=col>&lt;dbl&gt;</th><th scope=col>&lt;dbl&gt;</th><th scope=col>&lt;dbl&gt;</th><th scope=col>&lt;dbl&gt;</th><th scope=col>&lt;dttm&gt;</th></tr>\n",
       "</thead>\n",
       "<tbody>\n",
       "\t<tr><td>2013</td><td>1</td><td>1</td><td>5</td><td>EWR</td><td>IAH</td><td>N14228</td><td>UA</td><td>39.02</td><td>28.04</td><td>64.43</td><td>260</td><td>12.65858</td><td>      NA</td><td>0</td><td>1011.9</td><td>10</td><td>2013-01-01 05:00:00</td></tr>\n",
       "\t<tr><td>2013</td><td>1</td><td>1</td><td>5</td><td>LGA</td><td>IAH</td><td>N24211</td><td>UA</td><td>39.92</td><td>24.98</td><td>54.81</td><td>250</td><td>14.96014</td><td>21.86482</td><td>0</td><td>1011.4</td><td>10</td><td>2013-01-01 05:00:00</td></tr>\n",
       "\t<tr><td>2013</td><td>1</td><td>1</td><td>5</td><td>JFK</td><td>MIA</td><td>N619AA</td><td>AA</td><td>39.02</td><td>26.96</td><td>61.63</td><td>260</td><td>14.96014</td><td>      NA</td><td>0</td><td>1012.1</td><td>10</td><td>2013-01-01 05:00:00</td></tr>\n",
       "\t<tr><td>2013</td><td>1</td><td>1</td><td>5</td><td>JFK</td><td>BQN</td><td>N804JB</td><td>B6</td><td>39.02</td><td>26.96</td><td>61.63</td><td>260</td><td>14.96014</td><td>      NA</td><td>0</td><td>1012.1</td><td>10</td><td>2013-01-01 05:00:00</td></tr>\n",
       "\t<tr><td>2013</td><td>1</td><td>1</td><td>6</td><td>LGA</td><td>ATL</td><td>N668DN</td><td>DL</td><td>39.92</td><td>24.98</td><td>54.81</td><td>260</td><td>16.11092</td><td>23.01560</td><td>0</td><td>1011.7</td><td>10</td><td>2013-01-01 06:00:00</td></tr>\n",
       "\t<tr><td>2013</td><td>1</td><td>1</td><td>5</td><td>EWR</td><td>ORD</td><td>N39463</td><td>UA</td><td>39.02</td><td>28.04</td><td>64.43</td><td>260</td><td>12.65858</td><td>      NA</td><td>0</td><td>1011.9</td><td>10</td><td>2013-01-01 05:00:00</td></tr>\n",
       "\t<tr><td>2013</td><td>1</td><td>1</td><td>6</td><td>EWR</td><td>FLL</td><td>N516JB</td><td>B6</td><td>37.94</td><td>28.04</td><td>67.21</td><td>240</td><td>11.50780</td><td>      NA</td><td>0</td><td>1012.4</td><td>10</td><td>2013-01-01 06:00:00</td></tr>\n",
       "\t<tr><td>2013</td><td>1</td><td>1</td><td>6</td><td>LGA</td><td>IAD</td><td>N829AS</td><td>EV</td><td>39.92</td><td>24.98</td><td>54.81</td><td>260</td><td>16.11092</td><td>23.01560</td><td>0</td><td>1011.7</td><td>10</td><td>2013-01-01 06:00:00</td></tr>\n",
       "\t<tr><td>2013</td><td>1</td><td>1</td><td>6</td><td>JFK</td><td>MCO</td><td>N593JB</td><td>B6</td><td>37.94</td><td>26.96</td><td>64.29</td><td>260</td><td>13.80936</td><td>      NA</td><td>0</td><td>1012.6</td><td>10</td><td>2013-01-01 06:00:00</td></tr>\n",
       "\t<tr><td>2013</td><td>1</td><td>1</td><td>6</td><td>LGA</td><td>ORD</td><td>N3ALAA</td><td>AA</td><td>39.92</td><td>24.98</td><td>54.81</td><td>260</td><td>16.11092</td><td>23.01560</td><td>0</td><td>1011.7</td><td>10</td><td>2013-01-01 06:00:00</td></tr>\n",
       "\t<tr><td>2013</td><td>1</td><td>1</td><td>6</td><td>JFK</td><td>PBI</td><td>N793JB</td><td>B6</td><td>37.94</td><td>26.96</td><td>64.29</td><td>260</td><td>13.80936</td><td>      NA</td><td>0</td><td>1012.6</td><td>10</td><td>2013-01-01 06:00:00</td></tr>\n",
       "\t<tr><td>2013</td><td>1</td><td>1</td><td>6</td><td>JFK</td><td>TPA</td><td>N657JB</td><td>B6</td><td>37.94</td><td>26.96</td><td>64.29</td><td>260</td><td>13.80936</td><td>      NA</td><td>0</td><td>1012.6</td><td>10</td><td>2013-01-01 06:00:00</td></tr>\n",
       "\t<tr><td>2013</td><td>1</td><td>1</td><td>6</td><td>JFK</td><td>LAX</td><td>N29129</td><td>UA</td><td>37.94</td><td>26.96</td><td>64.29</td><td>260</td><td>13.80936</td><td>      NA</td><td>0</td><td>1012.6</td><td>10</td><td>2013-01-01 06:00:00</td></tr>\n",
       "\t<tr><td>2013</td><td>1</td><td>1</td><td>6</td><td>EWR</td><td>SFO</td><td>N53441</td><td>UA</td><td>37.94</td><td>28.04</td><td>67.21</td><td>240</td><td>11.50780</td><td>      NA</td><td>0</td><td>1012.4</td><td>10</td><td>2013-01-01 06:00:00</td></tr>\n",
       "\t<tr><td>2013</td><td>1</td><td>1</td><td>6</td><td>LGA</td><td>DFW</td><td>N3DUAA</td><td>AA</td><td>39.92</td><td>24.98</td><td>54.81</td><td>260</td><td>16.11092</td><td>23.01560</td><td>0</td><td>1011.7</td><td>10</td><td>2013-01-01 06:00:00</td></tr>\n",
       "\t<tr><td>2013</td><td>1</td><td>1</td><td>5</td><td>JFK</td><td>BOS</td><td>N708JB</td><td>B6</td><td>39.02</td><td>26.96</td><td>61.63</td><td>260</td><td>14.96014</td><td>      NA</td><td>0</td><td>1012.1</td><td>10</td><td>2013-01-01 05:00:00</td></tr>\n",
       "\t<tr><td>2013</td><td>1</td><td>1</td><td>6</td><td>EWR</td><td>LAS</td><td>N76515</td><td>UA</td><td>37.94</td><td>28.04</td><td>67.21</td><td>240</td><td>11.50780</td><td>      NA</td><td>0</td><td>1012.4</td><td>10</td><td>2013-01-01 06:00:00</td></tr>\n",
       "\t<tr><td>2013</td><td>1</td><td>1</td><td>6</td><td>LGA</td><td>FLL</td><td>N595JB</td><td>B6</td><td>39.92</td><td>24.98</td><td>54.81</td><td>260</td><td>16.11092</td><td>23.01560</td><td>0</td><td>1011.7</td><td>10</td><td>2013-01-01 06:00:00</td></tr>\n",
       "\t<tr><td>2013</td><td>1</td><td>1</td><td>6</td><td>LGA</td><td>ATL</td><td>N542MQ</td><td>MQ</td><td>39.92</td><td>24.98</td><td>54.81</td><td>260</td><td>16.11092</td><td>23.01560</td><td>0</td><td>1011.7</td><td>10</td><td>2013-01-01 06:00:00</td></tr>\n",
       "\t<tr><td>2013</td><td>1</td><td>1</td><td>6</td><td>EWR</td><td>PBI</td><td>N644JB</td><td>B6</td><td>37.94</td><td>28.04</td><td>67.21</td><td>240</td><td>11.50780</td><td>      NA</td><td>0</td><td>1012.4</td><td>10</td><td>2013-01-01 06:00:00</td></tr>\n",
       "\t<tr><td>2013</td><td>1</td><td>1</td><td>6</td><td>LGA</td><td>MSP</td><td>N971DL</td><td>DL</td><td>39.92</td><td>24.98</td><td>54.81</td><td>260</td><td>16.11092</td><td>23.01560</td><td>0</td><td>1011.7</td><td>10</td><td>2013-01-01 06:00:00</td></tr>\n",
       "\t<tr><td>2013</td><td>1</td><td>1</td><td>6</td><td>LGA</td><td>DTW</td><td>N730MQ</td><td>MQ</td><td>39.92</td><td>24.98</td><td>54.81</td><td>260</td><td>16.11092</td><td>23.01560</td><td>0</td><td>1011.7</td><td>10</td><td>2013-01-01 06:00:00</td></tr>\n",
       "\t<tr><td>2013</td><td>1</td><td>1</td><td>6</td><td>EWR</td><td>MIA</td><td>N633AA</td><td>AA</td><td>37.94</td><td>28.04</td><td>67.21</td><td>240</td><td>11.50780</td><td>      NA</td><td>0</td><td>1012.4</td><td>10</td><td>2013-01-01 06:00:00</td></tr>\n",
       "\t<tr><td>2013</td><td>1</td><td>1</td><td>6</td><td>JFK</td><td>ATL</td><td>N3739P</td><td>DL</td><td>37.94</td><td>26.96</td><td>64.29</td><td>260</td><td>13.80936</td><td>      NA</td><td>0</td><td>1012.6</td><td>10</td><td>2013-01-01 06:00:00</td></tr>\n",
       "\t<tr><td>2013</td><td>1</td><td>1</td><td>6</td><td>EWR</td><td>MIA</td><td>N53442</td><td>UA</td><td>37.94</td><td>28.04</td><td>67.21</td><td>240</td><td>11.50780</td><td>      NA</td><td>0</td><td>1012.4</td><td>10</td><td>2013-01-01 06:00:00</td></tr>\n",
       "\t<tr><td>2013</td><td>1</td><td>1</td><td>6</td><td>EWR</td><td>ORD</td><td>N9EAMQ</td><td>MQ</td><td>37.94</td><td>28.04</td><td>67.21</td><td>240</td><td>11.50780</td><td>      NA</td><td>0</td><td>1012.4</td><td>10</td><td>2013-01-01 06:00:00</td></tr>\n",
       "\t<tr><td>2013</td><td>1</td><td>1</td><td>6</td><td>JFK</td><td>SFO</td><td>N532UA</td><td>UA</td><td>37.94</td><td>26.96</td><td>64.29</td><td>260</td><td>13.80936</td><td>      NA</td><td>0</td><td>1012.6</td><td>10</td><td>2013-01-01 06:00:00</td></tr>\n",
       "\t<tr><td>2013</td><td>1</td><td>1</td><td>6</td><td>JFK</td><td>RSW</td><td>N635JB</td><td>B6</td><td>37.94</td><td>26.96</td><td>64.29</td><td>260</td><td>13.80936</td><td>      NA</td><td>0</td><td>1012.6</td><td>10</td><td>2013-01-01 06:00:00</td></tr>\n",
       "\t<tr><td>2013</td><td>1</td><td>1</td><td>6</td><td>JFK</td><td>SJU</td><td>N794JB</td><td>B6</td><td>37.94</td><td>26.96</td><td>64.29</td><td>260</td><td>13.80936</td><td>      NA</td><td>0</td><td>1012.6</td><td>10</td><td>2013-01-01 06:00:00</td></tr>\n",
       "\t<tr><td>2013</td><td>1</td><td>1</td><td>6</td><td>EWR</td><td>ATL</td><td>N326NB</td><td>DL</td><td>37.94</td><td>28.04</td><td>67.21</td><td>240</td><td>11.50780</td><td>      NA</td><td>0</td><td>1012.4</td><td>10</td><td>2013-01-01 06:00:00</td></tr>\n",
       "\t<tr><td>⋮</td><td>⋮</td><td>⋮</td><td>⋮</td><td>⋮</td><td>⋮</td><td>⋮</td><td>⋮</td><td>⋮</td><td>⋮</td><td>⋮</td><td>⋮</td><td>⋮</td><td>⋮</td><td>⋮</td><td>⋮</td><td>⋮</td><td>⋮</td></tr>\n",
       "\t<tr><td>2013</td><td>9</td><td>30</td><td>21</td><td>LGA</td><td>CHO</td><td>N712EV</td><td>EV</td><td>64.94</td><td>53.06</td><td>65.37</td><td>210</td><td> 8.05546</td><td>NA</td><td>0</td><td>1015.8</td><td>10</td><td>2013-09-30 21:00:00</td></tr>\n",
       "\t<tr><td>2013</td><td>9</td><td>30</td><td>21</td><td>EWR</td><td>CLT</td><td>N16546</td><td>EV</td><td>62.96</td><td>55.04</td><td>75.33</td><td>190</td><td> 3.45234</td><td>NA</td><td>0</td><td>1016.1</td><td>10</td><td>2013-09-30 21:00:00</td></tr>\n",
       "\t<tr><td>2013</td><td>9</td><td>30</td><td>21</td><td>JFK</td><td>DEN</td><td>N807JB</td><td>B6</td><td>62.06</td><td>57.02</td><td>83.54</td><td>230</td><td> 9.20624</td><td>NA</td><td>0</td><td>1016.4</td><td>10</td><td>2013-09-30 21:00:00</td></tr>\n",
       "\t<tr><td>2013</td><td>9</td><td>30</td><td>20</td><td>LGA</td><td>RIC</td><td>N751EV</td><td>EV</td><td>64.94</td><td>53.96</td><td>67.57</td><td>190</td><td> 6.90468</td><td>NA</td><td>0</td><td>1015.7</td><td>10</td><td>2013-09-30 20:00:00</td></tr>\n",
       "\t<tr><td>2013</td><td>9</td><td>30</td><td>21</td><td>JFK</td><td>DCA</td><td>N807MQ</td><td>MQ</td><td>62.06</td><td>57.02</td><td>83.54</td><td>230</td><td> 9.20624</td><td>NA</td><td>0</td><td>1016.4</td><td>10</td><td>2013-09-30 21:00:00</td></tr>\n",
       "\t<tr><td>2013</td><td>9</td><td>30</td><td>21</td><td>JFK</td><td>LAX</td><td>N335AA</td><td>AA</td><td>62.06</td><td>57.02</td><td>83.54</td><td>230</td><td> 9.20624</td><td>NA</td><td>0</td><td>1016.4</td><td>10</td><td>2013-09-30 21:00:00</td></tr>\n",
       "\t<tr><td>2013</td><td>9</td><td>30</td><td>21</td><td>EWR</td><td>PWM</td><td>N12957</td><td>EV</td><td>62.96</td><td>55.04</td><td>75.33</td><td>190</td><td> 3.45234</td><td>NA</td><td>0</td><td>1016.1</td><td>10</td><td>2013-09-30 21:00:00</td></tr>\n",
       "\t<tr><td>2013</td><td>9</td><td>30</td><td>21</td><td>JFK</td><td>SJU</td><td>N633JB</td><td>B6</td><td>62.06</td><td>57.02</td><td>83.54</td><td>230</td><td> 9.20624</td><td>NA</td><td>0</td><td>1016.4</td><td>10</td><td>2013-09-30 21:00:00</td></tr>\n",
       "\t<tr><td>2013</td><td>9</td><td>30</td><td>21</td><td>LGA</td><td>FLL</td><td>N627JB</td><td>B6</td><td>64.94</td><td>53.06</td><td>65.37</td><td>210</td><td> 8.05546</td><td>NA</td><td>0</td><td>1015.8</td><td>10</td><td>2013-09-30 21:00:00</td></tr>\n",
       "\t<tr><td>2013</td><td>9</td><td>30</td><td>21</td><td>EWR</td><td>BOS</td><td>N813UA</td><td>UA</td><td>62.96</td><td>55.04</td><td>75.33</td><td>190</td><td> 3.45234</td><td>NA</td><td>0</td><td>1016.1</td><td>10</td><td>2013-09-30 21:00:00</td></tr>\n",
       "\t<tr><td>2013</td><td>9</td><td>30</td><td>21</td><td>EWR</td><td>MHT</td><td>N10575</td><td>EV</td><td>62.96</td><td>55.04</td><td>75.33</td><td>190</td><td> 3.45234</td><td>NA</td><td>0</td><td>1016.1</td><td>10</td><td>2013-09-30 21:00:00</td></tr>\n",
       "\t<tr><td>2013</td><td>9</td><td>30</td><td>18</td><td>JFK</td><td>BUF</td><td>N906XJ</td><td>9E</td><td>64.04</td><td>55.94</td><td>74.94</td><td>180</td><td> 6.90468</td><td>NA</td><td>0</td><td>1016.0</td><td>10</td><td>2013-09-30 18:00:00</td></tr>\n",
       "\t<tr><td>2013</td><td>9</td><td>30</td><td>22</td><td>LGA</td><td>BGR</td><td>N722EV</td><td>EV</td><td>64.94</td><td>53.06</td><td>65.37</td><td>200</td><td> 6.90468</td><td>NA</td><td>0</td><td>1015.8</td><td>10</td><td>2013-09-30 22:00:00</td></tr>\n",
       "\t<tr><td>2013</td><td>9</td><td>30</td><td>21</td><td>LGA</td><td>BNA</td><td>N532MQ</td><td>MQ</td><td>64.94</td><td>53.06</td><td>65.37</td><td>210</td><td> 8.05546</td><td>NA</td><td>0</td><td>1015.8</td><td>10</td><td>2013-09-30 21:00:00</td></tr>\n",
       "\t<tr><td>2013</td><td>9</td><td>30</td><td>20</td><td>EWR</td><td>STL</td><td>N12145</td><td>EV</td><td>64.94</td><td>55.04</td><td>70.28</td><td>170</td><td> 3.45234</td><td>NA</td><td>0</td><td>1016.0</td><td>10</td><td>2013-09-30 20:00:00</td></tr>\n",
       "\t<tr><td>2013</td><td>9</td><td>30</td><td>22</td><td>JFK</td><td>PWM</td><td>N193JB</td><td>B6</td><td>60.98</td><td>55.94</td><td>83.47</td><td>230</td><td> 9.20624</td><td>NA</td><td>0</td><td>1016.5</td><td>10</td><td>2013-09-30 22:00:00</td></tr>\n",
       "\t<tr><td>2013</td><td>9</td><td>30</td><td>21</td><td>EWR</td><td>SFO</td><td>N578UA</td><td>UA</td><td>62.96</td><td>55.04</td><td>75.33</td><td>190</td><td> 3.45234</td><td>NA</td><td>0</td><td>1016.1</td><td>10</td><td>2013-09-30 21:00:00</td></tr>\n",
       "\t<tr><td>2013</td><td>9</td><td>30</td><td>20</td><td>JFK</td><td>MCO</td><td>N804JB</td><td>B6</td><td>62.06</td><td>57.02</td><td>83.54</td><td>210</td><td> 8.05546</td><td>NA</td><td>0</td><td>1016.4</td><td>10</td><td>2013-09-30 20:00:00</td></tr>\n",
       "\t<tr><td>2013</td><td>9</td><td>30</td><td>22</td><td>JFK</td><td>BTV</td><td>N318JB</td><td>B6</td><td>60.98</td><td>55.94</td><td>83.47</td><td>230</td><td> 9.20624</td><td>NA</td><td>0</td><td>1016.5</td><td>10</td><td>2013-09-30 22:00:00</td></tr>\n",
       "\t<tr><td>2013</td><td>9</td><td>30</td><td>22</td><td>JFK</td><td>SYR</td><td>N354JB</td><td>B6</td><td>60.98</td><td>55.94</td><td>83.47</td><td>230</td><td> 9.20624</td><td>NA</td><td>0</td><td>1016.5</td><td>10</td><td>2013-09-30 22:00:00</td></tr>\n",
       "\t<tr><td>2013</td><td>9</td><td>30</td><td>22</td><td>JFK</td><td>BUF</td><td>N281JB</td><td>B6</td><td>60.98</td><td>55.94</td><td>83.47</td><td>230</td><td> 9.20624</td><td>NA</td><td>0</td><td>1016.5</td><td>10</td><td>2013-09-30 22:00:00</td></tr>\n",
       "\t<tr><td>2013</td><td>9</td><td>30</td><td>22</td><td>JFK</td><td>ROC</td><td>N346JB</td><td>B6</td><td>60.98</td><td>55.94</td><td>83.47</td><td>230</td><td> 9.20624</td><td>NA</td><td>0</td><td>1016.5</td><td>10</td><td>2013-09-30 22:00:00</td></tr>\n",
       "\t<tr><td>2013</td><td>9</td><td>30</td><td>22</td><td>JFK</td><td>BOS</td><td>N565JB</td><td>B6</td><td>60.98</td><td>55.94</td><td>83.47</td><td>230</td><td> 9.20624</td><td>NA</td><td>0</td><td>1016.5</td><td>10</td><td>2013-09-30 22:00:00</td></tr>\n",
       "\t<tr><td>2013</td><td>9</td><td>30</td><td>23</td><td>JFK</td><td>PSE</td><td>N516JB</td><td>B6</td><td>60.08</td><td>55.04</td><td>83.41</td><td>240</td><td> 9.20624</td><td>NA</td><td>0</td><td>1016.3</td><td>10</td><td>2013-09-30 23:00:00</td></tr>\n",
       "\t<tr><td>2013</td><td>9</td><td>30</td><td>18</td><td>LGA</td><td>BNA</td><td>N740EV</td><td>EV</td><td>66.92</td><td>51.98</td><td>58.65</td><td>160</td><td> 9.20624</td><td>NA</td><td>0</td><td>1015.4</td><td>10</td><td>2013-09-30 18:00:00</td></tr>\n",
       "\t<tr><td>2013</td><td>9</td><td>30</td><td>14</td><td>JFK</td><td>DCA</td><td>NA    </td><td>9E</td><td>68.00</td><td>55.04</td><td>63.21</td><td>190</td><td>11.50780</td><td>NA</td><td>0</td><td>1016.6</td><td>10</td><td>2013-09-30 14:00:00</td></tr>\n",
       "\t<tr><td>2013</td><td>9</td><td>30</td><td>22</td><td>LGA</td><td>SYR</td><td>NA    </td><td>9E</td><td>64.94</td><td>53.06</td><td>65.37</td><td>200</td><td> 6.90468</td><td>NA</td><td>0</td><td>1015.8</td><td>10</td><td>2013-09-30 22:00:00</td></tr>\n",
       "\t<tr><td>2013</td><td>9</td><td>30</td><td>12</td><td>LGA</td><td>BNA</td><td>N535MQ</td><td>MQ</td><td>69.08</td><td>48.02</td><td>46.99</td><td> 70</td><td> 5.75390</td><td>NA</td><td>0</td><td>1016.7</td><td>10</td><td>2013-09-30 12:00:00</td></tr>\n",
       "\t<tr><td>2013</td><td>9</td><td>30</td><td>11</td><td>LGA</td><td>CLE</td><td>N511MQ</td><td>MQ</td><td>66.92</td><td>48.92</td><td>52.35</td><td> 70</td><td> 8.05546</td><td>NA</td><td>0</td><td>1017.5</td><td>10</td><td>2013-09-30 11:00:00</td></tr>\n",
       "\t<tr><td>2013</td><td>9</td><td>30</td><td> 8</td><td>LGA</td><td>RDU</td><td>N839MQ</td><td>MQ</td><td>60.98</td><td>51.08</td><td>69.86</td><td> NA</td><td> 5.75390</td><td>NA</td><td>0</td><td>1018.6</td><td>10</td><td>2013-09-30 08:00:00</td></tr>\n",
       "</tbody>\n",
       "</table>\n"
      ],
      "text/latex": [
       "A tibble: 336776 × 18\n",
       "\\begin{tabular}{llllllllllllllllll}\n",
       " year & month & day & hour & origin & dest & tailnum & carrier & temp & dewp & humid & wind\\_dir & wind\\_speed & wind\\_gust & precip & pressure & visib & time\\_hour\\\\\n",
       " <int> & <int> & <int> & <dbl> & <chr> & <chr> & <chr> & <chr> & <dbl> & <dbl> & <dbl> & <dbl> & <dbl> & <dbl> & <dbl> & <dbl> & <dbl> & <dttm>\\\\\n",
       "\\hline\n",
       "\t 2013 & 1 & 1 & 5 & EWR & IAH & N14228 & UA & 39.02 & 28.04 & 64.43 & 260 & 12.65858 &       NA & 0 & 1011.9 & 10 & 2013-01-01 05:00:00\\\\\n",
       "\t 2013 & 1 & 1 & 5 & LGA & IAH & N24211 & UA & 39.92 & 24.98 & 54.81 & 250 & 14.96014 & 21.86482 & 0 & 1011.4 & 10 & 2013-01-01 05:00:00\\\\\n",
       "\t 2013 & 1 & 1 & 5 & JFK & MIA & N619AA & AA & 39.02 & 26.96 & 61.63 & 260 & 14.96014 &       NA & 0 & 1012.1 & 10 & 2013-01-01 05:00:00\\\\\n",
       "\t 2013 & 1 & 1 & 5 & JFK & BQN & N804JB & B6 & 39.02 & 26.96 & 61.63 & 260 & 14.96014 &       NA & 0 & 1012.1 & 10 & 2013-01-01 05:00:00\\\\\n",
       "\t 2013 & 1 & 1 & 6 & LGA & ATL & N668DN & DL & 39.92 & 24.98 & 54.81 & 260 & 16.11092 & 23.01560 & 0 & 1011.7 & 10 & 2013-01-01 06:00:00\\\\\n",
       "\t 2013 & 1 & 1 & 5 & EWR & ORD & N39463 & UA & 39.02 & 28.04 & 64.43 & 260 & 12.65858 &       NA & 0 & 1011.9 & 10 & 2013-01-01 05:00:00\\\\\n",
       "\t 2013 & 1 & 1 & 6 & EWR & FLL & N516JB & B6 & 37.94 & 28.04 & 67.21 & 240 & 11.50780 &       NA & 0 & 1012.4 & 10 & 2013-01-01 06:00:00\\\\\n",
       "\t 2013 & 1 & 1 & 6 & LGA & IAD & N829AS & EV & 39.92 & 24.98 & 54.81 & 260 & 16.11092 & 23.01560 & 0 & 1011.7 & 10 & 2013-01-01 06:00:00\\\\\n",
       "\t 2013 & 1 & 1 & 6 & JFK & MCO & N593JB & B6 & 37.94 & 26.96 & 64.29 & 260 & 13.80936 &       NA & 0 & 1012.6 & 10 & 2013-01-01 06:00:00\\\\\n",
       "\t 2013 & 1 & 1 & 6 & LGA & ORD & N3ALAA & AA & 39.92 & 24.98 & 54.81 & 260 & 16.11092 & 23.01560 & 0 & 1011.7 & 10 & 2013-01-01 06:00:00\\\\\n",
       "\t 2013 & 1 & 1 & 6 & JFK & PBI & N793JB & B6 & 37.94 & 26.96 & 64.29 & 260 & 13.80936 &       NA & 0 & 1012.6 & 10 & 2013-01-01 06:00:00\\\\\n",
       "\t 2013 & 1 & 1 & 6 & JFK & TPA & N657JB & B6 & 37.94 & 26.96 & 64.29 & 260 & 13.80936 &       NA & 0 & 1012.6 & 10 & 2013-01-01 06:00:00\\\\\n",
       "\t 2013 & 1 & 1 & 6 & JFK & LAX & N29129 & UA & 37.94 & 26.96 & 64.29 & 260 & 13.80936 &       NA & 0 & 1012.6 & 10 & 2013-01-01 06:00:00\\\\\n",
       "\t 2013 & 1 & 1 & 6 & EWR & SFO & N53441 & UA & 37.94 & 28.04 & 67.21 & 240 & 11.50780 &       NA & 0 & 1012.4 & 10 & 2013-01-01 06:00:00\\\\\n",
       "\t 2013 & 1 & 1 & 6 & LGA & DFW & N3DUAA & AA & 39.92 & 24.98 & 54.81 & 260 & 16.11092 & 23.01560 & 0 & 1011.7 & 10 & 2013-01-01 06:00:00\\\\\n",
       "\t 2013 & 1 & 1 & 5 & JFK & BOS & N708JB & B6 & 39.02 & 26.96 & 61.63 & 260 & 14.96014 &       NA & 0 & 1012.1 & 10 & 2013-01-01 05:00:00\\\\\n",
       "\t 2013 & 1 & 1 & 6 & EWR & LAS & N76515 & UA & 37.94 & 28.04 & 67.21 & 240 & 11.50780 &       NA & 0 & 1012.4 & 10 & 2013-01-01 06:00:00\\\\\n",
       "\t 2013 & 1 & 1 & 6 & LGA & FLL & N595JB & B6 & 39.92 & 24.98 & 54.81 & 260 & 16.11092 & 23.01560 & 0 & 1011.7 & 10 & 2013-01-01 06:00:00\\\\\n",
       "\t 2013 & 1 & 1 & 6 & LGA & ATL & N542MQ & MQ & 39.92 & 24.98 & 54.81 & 260 & 16.11092 & 23.01560 & 0 & 1011.7 & 10 & 2013-01-01 06:00:00\\\\\n",
       "\t 2013 & 1 & 1 & 6 & EWR & PBI & N644JB & B6 & 37.94 & 28.04 & 67.21 & 240 & 11.50780 &       NA & 0 & 1012.4 & 10 & 2013-01-01 06:00:00\\\\\n",
       "\t 2013 & 1 & 1 & 6 & LGA & MSP & N971DL & DL & 39.92 & 24.98 & 54.81 & 260 & 16.11092 & 23.01560 & 0 & 1011.7 & 10 & 2013-01-01 06:00:00\\\\\n",
       "\t 2013 & 1 & 1 & 6 & LGA & DTW & N730MQ & MQ & 39.92 & 24.98 & 54.81 & 260 & 16.11092 & 23.01560 & 0 & 1011.7 & 10 & 2013-01-01 06:00:00\\\\\n",
       "\t 2013 & 1 & 1 & 6 & EWR & MIA & N633AA & AA & 37.94 & 28.04 & 67.21 & 240 & 11.50780 &       NA & 0 & 1012.4 & 10 & 2013-01-01 06:00:00\\\\\n",
       "\t 2013 & 1 & 1 & 6 & JFK & ATL & N3739P & DL & 37.94 & 26.96 & 64.29 & 260 & 13.80936 &       NA & 0 & 1012.6 & 10 & 2013-01-01 06:00:00\\\\\n",
       "\t 2013 & 1 & 1 & 6 & EWR & MIA & N53442 & UA & 37.94 & 28.04 & 67.21 & 240 & 11.50780 &       NA & 0 & 1012.4 & 10 & 2013-01-01 06:00:00\\\\\n",
       "\t 2013 & 1 & 1 & 6 & EWR & ORD & N9EAMQ & MQ & 37.94 & 28.04 & 67.21 & 240 & 11.50780 &       NA & 0 & 1012.4 & 10 & 2013-01-01 06:00:00\\\\\n",
       "\t 2013 & 1 & 1 & 6 & JFK & SFO & N532UA & UA & 37.94 & 26.96 & 64.29 & 260 & 13.80936 &       NA & 0 & 1012.6 & 10 & 2013-01-01 06:00:00\\\\\n",
       "\t 2013 & 1 & 1 & 6 & JFK & RSW & N635JB & B6 & 37.94 & 26.96 & 64.29 & 260 & 13.80936 &       NA & 0 & 1012.6 & 10 & 2013-01-01 06:00:00\\\\\n",
       "\t 2013 & 1 & 1 & 6 & JFK & SJU & N794JB & B6 & 37.94 & 26.96 & 64.29 & 260 & 13.80936 &       NA & 0 & 1012.6 & 10 & 2013-01-01 06:00:00\\\\\n",
       "\t 2013 & 1 & 1 & 6 & EWR & ATL & N326NB & DL & 37.94 & 28.04 & 67.21 & 240 & 11.50780 &       NA & 0 & 1012.4 & 10 & 2013-01-01 06:00:00\\\\\n",
       "\t ⋮ & ⋮ & ⋮ & ⋮ & ⋮ & ⋮ & ⋮ & ⋮ & ⋮ & ⋮ & ⋮ & ⋮ & ⋮ & ⋮ & ⋮ & ⋮ & ⋮ & ⋮\\\\\n",
       "\t 2013 & 9 & 30 & 21 & LGA & CHO & N712EV & EV & 64.94 & 53.06 & 65.37 & 210 &  8.05546 & NA & 0 & 1015.8 & 10 & 2013-09-30 21:00:00\\\\\n",
       "\t 2013 & 9 & 30 & 21 & EWR & CLT & N16546 & EV & 62.96 & 55.04 & 75.33 & 190 &  3.45234 & NA & 0 & 1016.1 & 10 & 2013-09-30 21:00:00\\\\\n",
       "\t 2013 & 9 & 30 & 21 & JFK & DEN & N807JB & B6 & 62.06 & 57.02 & 83.54 & 230 &  9.20624 & NA & 0 & 1016.4 & 10 & 2013-09-30 21:00:00\\\\\n",
       "\t 2013 & 9 & 30 & 20 & LGA & RIC & N751EV & EV & 64.94 & 53.96 & 67.57 & 190 &  6.90468 & NA & 0 & 1015.7 & 10 & 2013-09-30 20:00:00\\\\\n",
       "\t 2013 & 9 & 30 & 21 & JFK & DCA & N807MQ & MQ & 62.06 & 57.02 & 83.54 & 230 &  9.20624 & NA & 0 & 1016.4 & 10 & 2013-09-30 21:00:00\\\\\n",
       "\t 2013 & 9 & 30 & 21 & JFK & LAX & N335AA & AA & 62.06 & 57.02 & 83.54 & 230 &  9.20624 & NA & 0 & 1016.4 & 10 & 2013-09-30 21:00:00\\\\\n",
       "\t 2013 & 9 & 30 & 21 & EWR & PWM & N12957 & EV & 62.96 & 55.04 & 75.33 & 190 &  3.45234 & NA & 0 & 1016.1 & 10 & 2013-09-30 21:00:00\\\\\n",
       "\t 2013 & 9 & 30 & 21 & JFK & SJU & N633JB & B6 & 62.06 & 57.02 & 83.54 & 230 &  9.20624 & NA & 0 & 1016.4 & 10 & 2013-09-30 21:00:00\\\\\n",
       "\t 2013 & 9 & 30 & 21 & LGA & FLL & N627JB & B6 & 64.94 & 53.06 & 65.37 & 210 &  8.05546 & NA & 0 & 1015.8 & 10 & 2013-09-30 21:00:00\\\\\n",
       "\t 2013 & 9 & 30 & 21 & EWR & BOS & N813UA & UA & 62.96 & 55.04 & 75.33 & 190 &  3.45234 & NA & 0 & 1016.1 & 10 & 2013-09-30 21:00:00\\\\\n",
       "\t 2013 & 9 & 30 & 21 & EWR & MHT & N10575 & EV & 62.96 & 55.04 & 75.33 & 190 &  3.45234 & NA & 0 & 1016.1 & 10 & 2013-09-30 21:00:00\\\\\n",
       "\t 2013 & 9 & 30 & 18 & JFK & BUF & N906XJ & 9E & 64.04 & 55.94 & 74.94 & 180 &  6.90468 & NA & 0 & 1016.0 & 10 & 2013-09-30 18:00:00\\\\\n",
       "\t 2013 & 9 & 30 & 22 & LGA & BGR & N722EV & EV & 64.94 & 53.06 & 65.37 & 200 &  6.90468 & NA & 0 & 1015.8 & 10 & 2013-09-30 22:00:00\\\\\n",
       "\t 2013 & 9 & 30 & 21 & LGA & BNA & N532MQ & MQ & 64.94 & 53.06 & 65.37 & 210 &  8.05546 & NA & 0 & 1015.8 & 10 & 2013-09-30 21:00:00\\\\\n",
       "\t 2013 & 9 & 30 & 20 & EWR & STL & N12145 & EV & 64.94 & 55.04 & 70.28 & 170 &  3.45234 & NA & 0 & 1016.0 & 10 & 2013-09-30 20:00:00\\\\\n",
       "\t 2013 & 9 & 30 & 22 & JFK & PWM & N193JB & B6 & 60.98 & 55.94 & 83.47 & 230 &  9.20624 & NA & 0 & 1016.5 & 10 & 2013-09-30 22:00:00\\\\\n",
       "\t 2013 & 9 & 30 & 21 & EWR & SFO & N578UA & UA & 62.96 & 55.04 & 75.33 & 190 &  3.45234 & NA & 0 & 1016.1 & 10 & 2013-09-30 21:00:00\\\\\n",
       "\t 2013 & 9 & 30 & 20 & JFK & MCO & N804JB & B6 & 62.06 & 57.02 & 83.54 & 210 &  8.05546 & NA & 0 & 1016.4 & 10 & 2013-09-30 20:00:00\\\\\n",
       "\t 2013 & 9 & 30 & 22 & JFK & BTV & N318JB & B6 & 60.98 & 55.94 & 83.47 & 230 &  9.20624 & NA & 0 & 1016.5 & 10 & 2013-09-30 22:00:00\\\\\n",
       "\t 2013 & 9 & 30 & 22 & JFK & SYR & N354JB & B6 & 60.98 & 55.94 & 83.47 & 230 &  9.20624 & NA & 0 & 1016.5 & 10 & 2013-09-30 22:00:00\\\\\n",
       "\t 2013 & 9 & 30 & 22 & JFK & BUF & N281JB & B6 & 60.98 & 55.94 & 83.47 & 230 &  9.20624 & NA & 0 & 1016.5 & 10 & 2013-09-30 22:00:00\\\\\n",
       "\t 2013 & 9 & 30 & 22 & JFK & ROC & N346JB & B6 & 60.98 & 55.94 & 83.47 & 230 &  9.20624 & NA & 0 & 1016.5 & 10 & 2013-09-30 22:00:00\\\\\n",
       "\t 2013 & 9 & 30 & 22 & JFK & BOS & N565JB & B6 & 60.98 & 55.94 & 83.47 & 230 &  9.20624 & NA & 0 & 1016.5 & 10 & 2013-09-30 22:00:00\\\\\n",
       "\t 2013 & 9 & 30 & 23 & JFK & PSE & N516JB & B6 & 60.08 & 55.04 & 83.41 & 240 &  9.20624 & NA & 0 & 1016.3 & 10 & 2013-09-30 23:00:00\\\\\n",
       "\t 2013 & 9 & 30 & 18 & LGA & BNA & N740EV & EV & 66.92 & 51.98 & 58.65 & 160 &  9.20624 & NA & 0 & 1015.4 & 10 & 2013-09-30 18:00:00\\\\\n",
       "\t 2013 & 9 & 30 & 14 & JFK & DCA & NA     & 9E & 68.00 & 55.04 & 63.21 & 190 & 11.50780 & NA & 0 & 1016.6 & 10 & 2013-09-30 14:00:00\\\\\n",
       "\t 2013 & 9 & 30 & 22 & LGA & SYR & NA     & 9E & 64.94 & 53.06 & 65.37 & 200 &  6.90468 & NA & 0 & 1015.8 & 10 & 2013-09-30 22:00:00\\\\\n",
       "\t 2013 & 9 & 30 & 12 & LGA & BNA & N535MQ & MQ & 69.08 & 48.02 & 46.99 &  70 &  5.75390 & NA & 0 & 1016.7 & 10 & 2013-09-30 12:00:00\\\\\n",
       "\t 2013 & 9 & 30 & 11 & LGA & CLE & N511MQ & MQ & 66.92 & 48.92 & 52.35 &  70 &  8.05546 & NA & 0 & 1017.5 & 10 & 2013-09-30 11:00:00\\\\\n",
       "\t 2013 & 9 & 30 &  8 & LGA & RDU & N839MQ & MQ & 60.98 & 51.08 & 69.86 &  NA &  5.75390 & NA & 0 & 1018.6 & 10 & 2013-09-30 08:00:00\\\\\n",
       "\\end{tabular}\n"
      ],
      "text/markdown": [
       "\n",
       "A tibble: 336776 × 18\n",
       "\n",
       "| year &lt;int&gt; | month &lt;int&gt; | day &lt;int&gt; | hour &lt;dbl&gt; | origin &lt;chr&gt; | dest &lt;chr&gt; | tailnum &lt;chr&gt; | carrier &lt;chr&gt; | temp &lt;dbl&gt; | dewp &lt;dbl&gt; | humid &lt;dbl&gt; | wind_dir &lt;dbl&gt; | wind_speed &lt;dbl&gt; | wind_gust &lt;dbl&gt; | precip &lt;dbl&gt; | pressure &lt;dbl&gt; | visib &lt;dbl&gt; | time_hour &lt;dttm&gt; |\n",
       "|---|---|---|---|---|---|---|---|---|---|---|---|---|---|---|---|---|---|\n",
       "| 2013 | 1 | 1 | 5 | EWR | IAH | N14228 | UA | 39.02 | 28.04 | 64.43 | 260 | 12.65858 |       NA | 0 | 1011.9 | 10 | 2013-01-01 05:00:00 |\n",
       "| 2013 | 1 | 1 | 5 | LGA | IAH | N24211 | UA | 39.92 | 24.98 | 54.81 | 250 | 14.96014 | 21.86482 | 0 | 1011.4 | 10 | 2013-01-01 05:00:00 |\n",
       "| 2013 | 1 | 1 | 5 | JFK | MIA | N619AA | AA | 39.02 | 26.96 | 61.63 | 260 | 14.96014 |       NA | 0 | 1012.1 | 10 | 2013-01-01 05:00:00 |\n",
       "| 2013 | 1 | 1 | 5 | JFK | BQN | N804JB | B6 | 39.02 | 26.96 | 61.63 | 260 | 14.96014 |       NA | 0 | 1012.1 | 10 | 2013-01-01 05:00:00 |\n",
       "| 2013 | 1 | 1 | 6 | LGA | ATL | N668DN | DL | 39.92 | 24.98 | 54.81 | 260 | 16.11092 | 23.01560 | 0 | 1011.7 | 10 | 2013-01-01 06:00:00 |\n",
       "| 2013 | 1 | 1 | 5 | EWR | ORD | N39463 | UA | 39.02 | 28.04 | 64.43 | 260 | 12.65858 |       NA | 0 | 1011.9 | 10 | 2013-01-01 05:00:00 |\n",
       "| 2013 | 1 | 1 | 6 | EWR | FLL | N516JB | B6 | 37.94 | 28.04 | 67.21 | 240 | 11.50780 |       NA | 0 | 1012.4 | 10 | 2013-01-01 06:00:00 |\n",
       "| 2013 | 1 | 1 | 6 | LGA | IAD | N829AS | EV | 39.92 | 24.98 | 54.81 | 260 | 16.11092 | 23.01560 | 0 | 1011.7 | 10 | 2013-01-01 06:00:00 |\n",
       "| 2013 | 1 | 1 | 6 | JFK | MCO | N593JB | B6 | 37.94 | 26.96 | 64.29 | 260 | 13.80936 |       NA | 0 | 1012.6 | 10 | 2013-01-01 06:00:00 |\n",
       "| 2013 | 1 | 1 | 6 | LGA | ORD | N3ALAA | AA | 39.92 | 24.98 | 54.81 | 260 | 16.11092 | 23.01560 | 0 | 1011.7 | 10 | 2013-01-01 06:00:00 |\n",
       "| 2013 | 1 | 1 | 6 | JFK | PBI | N793JB | B6 | 37.94 | 26.96 | 64.29 | 260 | 13.80936 |       NA | 0 | 1012.6 | 10 | 2013-01-01 06:00:00 |\n",
       "| 2013 | 1 | 1 | 6 | JFK | TPA | N657JB | B6 | 37.94 | 26.96 | 64.29 | 260 | 13.80936 |       NA | 0 | 1012.6 | 10 | 2013-01-01 06:00:00 |\n",
       "| 2013 | 1 | 1 | 6 | JFK | LAX | N29129 | UA | 37.94 | 26.96 | 64.29 | 260 | 13.80936 |       NA | 0 | 1012.6 | 10 | 2013-01-01 06:00:00 |\n",
       "| 2013 | 1 | 1 | 6 | EWR | SFO | N53441 | UA | 37.94 | 28.04 | 67.21 | 240 | 11.50780 |       NA | 0 | 1012.4 | 10 | 2013-01-01 06:00:00 |\n",
       "| 2013 | 1 | 1 | 6 | LGA | DFW | N3DUAA | AA | 39.92 | 24.98 | 54.81 | 260 | 16.11092 | 23.01560 | 0 | 1011.7 | 10 | 2013-01-01 06:00:00 |\n",
       "| 2013 | 1 | 1 | 5 | JFK | BOS | N708JB | B6 | 39.02 | 26.96 | 61.63 | 260 | 14.96014 |       NA | 0 | 1012.1 | 10 | 2013-01-01 05:00:00 |\n",
       "| 2013 | 1 | 1 | 6 | EWR | LAS | N76515 | UA | 37.94 | 28.04 | 67.21 | 240 | 11.50780 |       NA | 0 | 1012.4 | 10 | 2013-01-01 06:00:00 |\n",
       "| 2013 | 1 | 1 | 6 | LGA | FLL | N595JB | B6 | 39.92 | 24.98 | 54.81 | 260 | 16.11092 | 23.01560 | 0 | 1011.7 | 10 | 2013-01-01 06:00:00 |\n",
       "| 2013 | 1 | 1 | 6 | LGA | ATL | N542MQ | MQ | 39.92 | 24.98 | 54.81 | 260 | 16.11092 | 23.01560 | 0 | 1011.7 | 10 | 2013-01-01 06:00:00 |\n",
       "| 2013 | 1 | 1 | 6 | EWR | PBI | N644JB | B6 | 37.94 | 28.04 | 67.21 | 240 | 11.50780 |       NA | 0 | 1012.4 | 10 | 2013-01-01 06:00:00 |\n",
       "| 2013 | 1 | 1 | 6 | LGA | MSP | N971DL | DL | 39.92 | 24.98 | 54.81 | 260 | 16.11092 | 23.01560 | 0 | 1011.7 | 10 | 2013-01-01 06:00:00 |\n",
       "| 2013 | 1 | 1 | 6 | LGA | DTW | N730MQ | MQ | 39.92 | 24.98 | 54.81 | 260 | 16.11092 | 23.01560 | 0 | 1011.7 | 10 | 2013-01-01 06:00:00 |\n",
       "| 2013 | 1 | 1 | 6 | EWR | MIA | N633AA | AA | 37.94 | 28.04 | 67.21 | 240 | 11.50780 |       NA | 0 | 1012.4 | 10 | 2013-01-01 06:00:00 |\n",
       "| 2013 | 1 | 1 | 6 | JFK | ATL | N3739P | DL | 37.94 | 26.96 | 64.29 | 260 | 13.80936 |       NA | 0 | 1012.6 | 10 | 2013-01-01 06:00:00 |\n",
       "| 2013 | 1 | 1 | 6 | EWR | MIA | N53442 | UA | 37.94 | 28.04 | 67.21 | 240 | 11.50780 |       NA | 0 | 1012.4 | 10 | 2013-01-01 06:00:00 |\n",
       "| 2013 | 1 | 1 | 6 | EWR | ORD | N9EAMQ | MQ | 37.94 | 28.04 | 67.21 | 240 | 11.50780 |       NA | 0 | 1012.4 | 10 | 2013-01-01 06:00:00 |\n",
       "| 2013 | 1 | 1 | 6 | JFK | SFO | N532UA | UA | 37.94 | 26.96 | 64.29 | 260 | 13.80936 |       NA | 0 | 1012.6 | 10 | 2013-01-01 06:00:00 |\n",
       "| 2013 | 1 | 1 | 6 | JFK | RSW | N635JB | B6 | 37.94 | 26.96 | 64.29 | 260 | 13.80936 |       NA | 0 | 1012.6 | 10 | 2013-01-01 06:00:00 |\n",
       "| 2013 | 1 | 1 | 6 | JFK | SJU | N794JB | B6 | 37.94 | 26.96 | 64.29 | 260 | 13.80936 |       NA | 0 | 1012.6 | 10 | 2013-01-01 06:00:00 |\n",
       "| 2013 | 1 | 1 | 6 | EWR | ATL | N326NB | DL | 37.94 | 28.04 | 67.21 | 240 | 11.50780 |       NA | 0 | 1012.4 | 10 | 2013-01-01 06:00:00 |\n",
       "| ⋮ | ⋮ | ⋮ | ⋮ | ⋮ | ⋮ | ⋮ | ⋮ | ⋮ | ⋮ | ⋮ | ⋮ | ⋮ | ⋮ | ⋮ | ⋮ | ⋮ | ⋮ |\n",
       "| 2013 | 9 | 30 | 21 | LGA | CHO | N712EV | EV | 64.94 | 53.06 | 65.37 | 210 |  8.05546 | NA | 0 | 1015.8 | 10 | 2013-09-30 21:00:00 |\n",
       "| 2013 | 9 | 30 | 21 | EWR | CLT | N16546 | EV | 62.96 | 55.04 | 75.33 | 190 |  3.45234 | NA | 0 | 1016.1 | 10 | 2013-09-30 21:00:00 |\n",
       "| 2013 | 9 | 30 | 21 | JFK | DEN | N807JB | B6 | 62.06 | 57.02 | 83.54 | 230 |  9.20624 | NA | 0 | 1016.4 | 10 | 2013-09-30 21:00:00 |\n",
       "| 2013 | 9 | 30 | 20 | LGA | RIC | N751EV | EV | 64.94 | 53.96 | 67.57 | 190 |  6.90468 | NA | 0 | 1015.7 | 10 | 2013-09-30 20:00:00 |\n",
       "| 2013 | 9 | 30 | 21 | JFK | DCA | N807MQ | MQ | 62.06 | 57.02 | 83.54 | 230 |  9.20624 | NA | 0 | 1016.4 | 10 | 2013-09-30 21:00:00 |\n",
       "| 2013 | 9 | 30 | 21 | JFK | LAX | N335AA | AA | 62.06 | 57.02 | 83.54 | 230 |  9.20624 | NA | 0 | 1016.4 | 10 | 2013-09-30 21:00:00 |\n",
       "| 2013 | 9 | 30 | 21 | EWR | PWM | N12957 | EV | 62.96 | 55.04 | 75.33 | 190 |  3.45234 | NA | 0 | 1016.1 | 10 | 2013-09-30 21:00:00 |\n",
       "| 2013 | 9 | 30 | 21 | JFK | SJU | N633JB | B6 | 62.06 | 57.02 | 83.54 | 230 |  9.20624 | NA | 0 | 1016.4 | 10 | 2013-09-30 21:00:00 |\n",
       "| 2013 | 9 | 30 | 21 | LGA | FLL | N627JB | B6 | 64.94 | 53.06 | 65.37 | 210 |  8.05546 | NA | 0 | 1015.8 | 10 | 2013-09-30 21:00:00 |\n",
       "| 2013 | 9 | 30 | 21 | EWR | BOS | N813UA | UA | 62.96 | 55.04 | 75.33 | 190 |  3.45234 | NA | 0 | 1016.1 | 10 | 2013-09-30 21:00:00 |\n",
       "| 2013 | 9 | 30 | 21 | EWR | MHT | N10575 | EV | 62.96 | 55.04 | 75.33 | 190 |  3.45234 | NA | 0 | 1016.1 | 10 | 2013-09-30 21:00:00 |\n",
       "| 2013 | 9 | 30 | 18 | JFK | BUF | N906XJ | 9E | 64.04 | 55.94 | 74.94 | 180 |  6.90468 | NA | 0 | 1016.0 | 10 | 2013-09-30 18:00:00 |\n",
       "| 2013 | 9 | 30 | 22 | LGA | BGR | N722EV | EV | 64.94 | 53.06 | 65.37 | 200 |  6.90468 | NA | 0 | 1015.8 | 10 | 2013-09-30 22:00:00 |\n",
       "| 2013 | 9 | 30 | 21 | LGA | BNA | N532MQ | MQ | 64.94 | 53.06 | 65.37 | 210 |  8.05546 | NA | 0 | 1015.8 | 10 | 2013-09-30 21:00:00 |\n",
       "| 2013 | 9 | 30 | 20 | EWR | STL | N12145 | EV | 64.94 | 55.04 | 70.28 | 170 |  3.45234 | NA | 0 | 1016.0 | 10 | 2013-09-30 20:00:00 |\n",
       "| 2013 | 9 | 30 | 22 | JFK | PWM | N193JB | B6 | 60.98 | 55.94 | 83.47 | 230 |  9.20624 | NA | 0 | 1016.5 | 10 | 2013-09-30 22:00:00 |\n",
       "| 2013 | 9 | 30 | 21 | EWR | SFO | N578UA | UA | 62.96 | 55.04 | 75.33 | 190 |  3.45234 | NA | 0 | 1016.1 | 10 | 2013-09-30 21:00:00 |\n",
       "| 2013 | 9 | 30 | 20 | JFK | MCO | N804JB | B6 | 62.06 | 57.02 | 83.54 | 210 |  8.05546 | NA | 0 | 1016.4 | 10 | 2013-09-30 20:00:00 |\n",
       "| 2013 | 9 | 30 | 22 | JFK | BTV | N318JB | B6 | 60.98 | 55.94 | 83.47 | 230 |  9.20624 | NA | 0 | 1016.5 | 10 | 2013-09-30 22:00:00 |\n",
       "| 2013 | 9 | 30 | 22 | JFK | SYR | N354JB | B6 | 60.98 | 55.94 | 83.47 | 230 |  9.20624 | NA | 0 | 1016.5 | 10 | 2013-09-30 22:00:00 |\n",
       "| 2013 | 9 | 30 | 22 | JFK | BUF | N281JB | B6 | 60.98 | 55.94 | 83.47 | 230 |  9.20624 | NA | 0 | 1016.5 | 10 | 2013-09-30 22:00:00 |\n",
       "| 2013 | 9 | 30 | 22 | JFK | ROC | N346JB | B6 | 60.98 | 55.94 | 83.47 | 230 |  9.20624 | NA | 0 | 1016.5 | 10 | 2013-09-30 22:00:00 |\n",
       "| 2013 | 9 | 30 | 22 | JFK | BOS | N565JB | B6 | 60.98 | 55.94 | 83.47 | 230 |  9.20624 | NA | 0 | 1016.5 | 10 | 2013-09-30 22:00:00 |\n",
       "| 2013 | 9 | 30 | 23 | JFK | PSE | N516JB | B6 | 60.08 | 55.04 | 83.41 | 240 |  9.20624 | NA | 0 | 1016.3 | 10 | 2013-09-30 23:00:00 |\n",
       "| 2013 | 9 | 30 | 18 | LGA | BNA | N740EV | EV | 66.92 | 51.98 | 58.65 | 160 |  9.20624 | NA | 0 | 1015.4 | 10 | 2013-09-30 18:00:00 |\n",
       "| 2013 | 9 | 30 | 14 | JFK | DCA | NA     | 9E | 68.00 | 55.04 | 63.21 | 190 | 11.50780 | NA | 0 | 1016.6 | 10 | 2013-09-30 14:00:00 |\n",
       "| 2013 | 9 | 30 | 22 | LGA | SYR | NA     | 9E | 64.94 | 53.06 | 65.37 | 200 |  6.90468 | NA | 0 | 1015.8 | 10 | 2013-09-30 22:00:00 |\n",
       "| 2013 | 9 | 30 | 12 | LGA | BNA | N535MQ | MQ | 69.08 | 48.02 | 46.99 |  70 |  5.75390 | NA | 0 | 1016.7 | 10 | 2013-09-30 12:00:00 |\n",
       "| 2013 | 9 | 30 | 11 | LGA | CLE | N511MQ | MQ | 66.92 | 48.92 | 52.35 |  70 |  8.05546 | NA | 0 | 1017.5 | 10 | 2013-09-30 11:00:00 |\n",
       "| 2013 | 9 | 30 |  8 | LGA | RDU | N839MQ | MQ | 60.98 | 51.08 | 69.86 |  NA |  5.75390 | NA | 0 | 1018.6 | 10 | 2013-09-30 08:00:00 |\n",
       "\n"
      ],
      "text/plain": [
       "       year month day hour origin dest tailnum carrier temp  dewp  humid\n",
       "1      2013 1     1   5    EWR    IAH  N14228  UA      39.02 28.04 64.43\n",
       "2      2013 1     1   5    LGA    IAH  N24211  UA      39.92 24.98 54.81\n",
       "3      2013 1     1   5    JFK    MIA  N619AA  AA      39.02 26.96 61.63\n",
       "4      2013 1     1   5    JFK    BQN  N804JB  B6      39.02 26.96 61.63\n",
       "5      2013 1     1   6    LGA    ATL  N668DN  DL      39.92 24.98 54.81\n",
       "6      2013 1     1   5    EWR    ORD  N39463  UA      39.02 28.04 64.43\n",
       "7      2013 1     1   6    EWR    FLL  N516JB  B6      37.94 28.04 67.21\n",
       "8      2013 1     1   6    LGA    IAD  N829AS  EV      39.92 24.98 54.81\n",
       "9      2013 1     1   6    JFK    MCO  N593JB  B6      37.94 26.96 64.29\n",
       "10     2013 1     1   6    LGA    ORD  N3ALAA  AA      39.92 24.98 54.81\n",
       "11     2013 1     1   6    JFK    PBI  N793JB  B6      37.94 26.96 64.29\n",
       "12     2013 1     1   6    JFK    TPA  N657JB  B6      37.94 26.96 64.29\n",
       "13     2013 1     1   6    JFK    LAX  N29129  UA      37.94 26.96 64.29\n",
       "14     2013 1     1   6    EWR    SFO  N53441  UA      37.94 28.04 67.21\n",
       "15     2013 1     1   6    LGA    DFW  N3DUAA  AA      39.92 24.98 54.81\n",
       "16     2013 1     1   5    JFK    BOS  N708JB  B6      39.02 26.96 61.63\n",
       "17     2013 1     1   6    EWR    LAS  N76515  UA      37.94 28.04 67.21\n",
       "18     2013 1     1   6    LGA    FLL  N595JB  B6      39.92 24.98 54.81\n",
       "19     2013 1     1   6    LGA    ATL  N542MQ  MQ      39.92 24.98 54.81\n",
       "20     2013 1     1   6    EWR    PBI  N644JB  B6      37.94 28.04 67.21\n",
       "21     2013 1     1   6    LGA    MSP  N971DL  DL      39.92 24.98 54.81\n",
       "22     2013 1     1   6    LGA    DTW  N730MQ  MQ      39.92 24.98 54.81\n",
       "23     2013 1     1   6    EWR    MIA  N633AA  AA      37.94 28.04 67.21\n",
       "24     2013 1     1   6    JFK    ATL  N3739P  DL      37.94 26.96 64.29\n",
       "25     2013 1     1   6    EWR    MIA  N53442  UA      37.94 28.04 67.21\n",
       "26     2013 1     1   6    EWR    ORD  N9EAMQ  MQ      37.94 28.04 67.21\n",
       "27     2013 1     1   6    JFK    SFO  N532UA  UA      37.94 26.96 64.29\n",
       "28     2013 1     1   6    JFK    RSW  N635JB  B6      37.94 26.96 64.29\n",
       "29     2013 1     1   6    JFK    SJU  N794JB  B6      37.94 26.96 64.29\n",
       "30     2013 1     1   6    EWR    ATL  N326NB  DL      37.94 28.04 67.21\n",
       "⋮      ⋮    ⋮     ⋮   ⋮    ⋮      ⋮    ⋮       ⋮       ⋮     ⋮     ⋮    \n",
       "336747 2013 9     30  21   LGA    CHO  N712EV  EV      64.94 53.06 65.37\n",
       "336748 2013 9     30  21   EWR    CLT  N16546  EV      62.96 55.04 75.33\n",
       "336749 2013 9     30  21   JFK    DEN  N807JB  B6      62.06 57.02 83.54\n",
       "336750 2013 9     30  20   LGA    RIC  N751EV  EV      64.94 53.96 67.57\n",
       "336751 2013 9     30  21   JFK    DCA  N807MQ  MQ      62.06 57.02 83.54\n",
       "336752 2013 9     30  21   JFK    LAX  N335AA  AA      62.06 57.02 83.54\n",
       "336753 2013 9     30  21   EWR    PWM  N12957  EV      62.96 55.04 75.33\n",
       "336754 2013 9     30  21   JFK    SJU  N633JB  B6      62.06 57.02 83.54\n",
       "336755 2013 9     30  21   LGA    FLL  N627JB  B6      64.94 53.06 65.37\n",
       "336756 2013 9     30  21   EWR    BOS  N813UA  UA      62.96 55.04 75.33\n",
       "336757 2013 9     30  21   EWR    MHT  N10575  EV      62.96 55.04 75.33\n",
       "336758 2013 9     30  18   JFK    BUF  N906XJ  9E      64.04 55.94 74.94\n",
       "336759 2013 9     30  22   LGA    BGR  N722EV  EV      64.94 53.06 65.37\n",
       "336760 2013 9     30  21   LGA    BNA  N532MQ  MQ      64.94 53.06 65.37\n",
       "336761 2013 9     30  20   EWR    STL  N12145  EV      64.94 55.04 70.28\n",
       "336762 2013 9     30  22   JFK    PWM  N193JB  B6      60.98 55.94 83.47\n",
       "336763 2013 9     30  21   EWR    SFO  N578UA  UA      62.96 55.04 75.33\n",
       "336764 2013 9     30  20   JFK    MCO  N804JB  B6      62.06 57.02 83.54\n",
       "336765 2013 9     30  22   JFK    BTV  N318JB  B6      60.98 55.94 83.47\n",
       "336766 2013 9     30  22   JFK    SYR  N354JB  B6      60.98 55.94 83.47\n",
       "336767 2013 9     30  22   JFK    BUF  N281JB  B6      60.98 55.94 83.47\n",
       "336768 2013 9     30  22   JFK    ROC  N346JB  B6      60.98 55.94 83.47\n",
       "336769 2013 9     30  22   JFK    BOS  N565JB  B6      60.98 55.94 83.47\n",
       "336770 2013 9     30  23   JFK    PSE  N516JB  B6      60.08 55.04 83.41\n",
       "336771 2013 9     30  18   LGA    BNA  N740EV  EV      66.92 51.98 58.65\n",
       "336772 2013 9     30  14   JFK    DCA  NA      9E      68.00 55.04 63.21\n",
       "336773 2013 9     30  22   LGA    SYR  NA      9E      64.94 53.06 65.37\n",
       "336774 2013 9     30  12   LGA    BNA  N535MQ  MQ      69.08 48.02 46.99\n",
       "336775 2013 9     30  11   LGA    CLE  N511MQ  MQ      66.92 48.92 52.35\n",
       "336776 2013 9     30   8   LGA    RDU  N839MQ  MQ      60.98 51.08 69.86\n",
       "       wind_dir wind_speed wind_gust precip pressure visib time_hour          \n",
       "1      260      12.65858         NA  0      1011.9   10    2013-01-01 05:00:00\n",
       "2      250      14.96014   21.86482  0      1011.4   10    2013-01-01 05:00:00\n",
       "3      260      14.96014         NA  0      1012.1   10    2013-01-01 05:00:00\n",
       "4      260      14.96014         NA  0      1012.1   10    2013-01-01 05:00:00\n",
       "5      260      16.11092   23.01560  0      1011.7   10    2013-01-01 06:00:00\n",
       "6      260      12.65858         NA  0      1011.9   10    2013-01-01 05:00:00\n",
       "7      240      11.50780         NA  0      1012.4   10    2013-01-01 06:00:00\n",
       "8      260      16.11092   23.01560  0      1011.7   10    2013-01-01 06:00:00\n",
       "9      260      13.80936         NA  0      1012.6   10    2013-01-01 06:00:00\n",
       "10     260      16.11092   23.01560  0      1011.7   10    2013-01-01 06:00:00\n",
       "11     260      13.80936         NA  0      1012.6   10    2013-01-01 06:00:00\n",
       "12     260      13.80936         NA  0      1012.6   10    2013-01-01 06:00:00\n",
       "13     260      13.80936         NA  0      1012.6   10    2013-01-01 06:00:00\n",
       "14     240      11.50780         NA  0      1012.4   10    2013-01-01 06:00:00\n",
       "15     260      16.11092   23.01560  0      1011.7   10    2013-01-01 06:00:00\n",
       "16     260      14.96014         NA  0      1012.1   10    2013-01-01 05:00:00\n",
       "17     240      11.50780         NA  0      1012.4   10    2013-01-01 06:00:00\n",
       "18     260      16.11092   23.01560  0      1011.7   10    2013-01-01 06:00:00\n",
       "19     260      16.11092   23.01560  0      1011.7   10    2013-01-01 06:00:00\n",
       "20     240      11.50780         NA  0      1012.4   10    2013-01-01 06:00:00\n",
       "21     260      16.11092   23.01560  0      1011.7   10    2013-01-01 06:00:00\n",
       "22     260      16.11092   23.01560  0      1011.7   10    2013-01-01 06:00:00\n",
       "23     240      11.50780         NA  0      1012.4   10    2013-01-01 06:00:00\n",
       "24     260      13.80936         NA  0      1012.6   10    2013-01-01 06:00:00\n",
       "25     240      11.50780         NA  0      1012.4   10    2013-01-01 06:00:00\n",
       "26     240      11.50780         NA  0      1012.4   10    2013-01-01 06:00:00\n",
       "27     260      13.80936         NA  0      1012.6   10    2013-01-01 06:00:00\n",
       "28     260      13.80936         NA  0      1012.6   10    2013-01-01 06:00:00\n",
       "29     260      13.80936         NA  0      1012.6   10    2013-01-01 06:00:00\n",
       "30     240      11.50780         NA  0      1012.4   10    2013-01-01 06:00:00\n",
       "⋮      ⋮        ⋮          ⋮         ⋮      ⋮        ⋮     ⋮                  \n",
       "336747 210       8.05546   NA        0      1015.8   10    2013-09-30 21:00:00\n",
       "336748 190       3.45234   NA        0      1016.1   10    2013-09-30 21:00:00\n",
       "336749 230       9.20624   NA        0      1016.4   10    2013-09-30 21:00:00\n",
       "336750 190       6.90468   NA        0      1015.7   10    2013-09-30 20:00:00\n",
       "336751 230       9.20624   NA        0      1016.4   10    2013-09-30 21:00:00\n",
       "336752 230       9.20624   NA        0      1016.4   10    2013-09-30 21:00:00\n",
       "336753 190       3.45234   NA        0      1016.1   10    2013-09-30 21:00:00\n",
       "336754 230       9.20624   NA        0      1016.4   10    2013-09-30 21:00:00\n",
       "336755 210       8.05546   NA        0      1015.8   10    2013-09-30 21:00:00\n",
       "336756 190       3.45234   NA        0      1016.1   10    2013-09-30 21:00:00\n",
       "336757 190       3.45234   NA        0      1016.1   10    2013-09-30 21:00:00\n",
       "336758 180       6.90468   NA        0      1016.0   10    2013-09-30 18:00:00\n",
       "336759 200       6.90468   NA        0      1015.8   10    2013-09-30 22:00:00\n",
       "336760 210       8.05546   NA        0      1015.8   10    2013-09-30 21:00:00\n",
       "336761 170       3.45234   NA        0      1016.0   10    2013-09-30 20:00:00\n",
       "336762 230       9.20624   NA        0      1016.5   10    2013-09-30 22:00:00\n",
       "336763 190       3.45234   NA        0      1016.1   10    2013-09-30 21:00:00\n",
       "336764 210       8.05546   NA        0      1016.4   10    2013-09-30 20:00:00\n",
       "336765 230       9.20624   NA        0      1016.5   10    2013-09-30 22:00:00\n",
       "336766 230       9.20624   NA        0      1016.5   10    2013-09-30 22:00:00\n",
       "336767 230       9.20624   NA        0      1016.5   10    2013-09-30 22:00:00\n",
       "336768 230       9.20624   NA        0      1016.5   10    2013-09-30 22:00:00\n",
       "336769 230       9.20624   NA        0      1016.5   10    2013-09-30 22:00:00\n",
       "336770 240       9.20624   NA        0      1016.3   10    2013-09-30 23:00:00\n",
       "336771 160       9.20624   NA        0      1015.4   10    2013-09-30 18:00:00\n",
       "336772 190      11.50780   NA        0      1016.6   10    2013-09-30 14:00:00\n",
       "336773 200       6.90468   NA        0      1015.8   10    2013-09-30 22:00:00\n",
       "336774  70       5.75390   NA        0      1016.7   10    2013-09-30 12:00:00\n",
       "336775  70       8.05546   NA        0      1017.5   10    2013-09-30 11:00:00\n",
       "336776  NA       5.75390   NA        0      1018.6   10    2013-09-30 08:00:00"
      ]
     },
     "metadata": {},
     "output_type": "display_data"
    }
   ],
   "source": [
    "flights2 %>% \n",
    "  left_join(weather)"
   ]
  },
  {
   "cell_type": "markdown",
   "metadata": {},
   "source": [
    "2. A character vector, by = \"x\". This is like a natural join, but uses only some of the common variables. For example, flights and planes have year variables, but they mean different things so we only want to join by tailnum."
   ]
  },
  {
   "cell_type": "code",
   "execution_count": 28,
   "metadata": {},
   "outputs": [
    {
     "data": {
      "text/html": [
       "<table>\n",
       "<caption>A tibble: 336776 × 16</caption>\n",
       "<thead>\n",
       "\t<tr><th scope=col>year.x</th><th scope=col>month</th><th scope=col>day</th><th scope=col>hour</th><th scope=col>origin</th><th scope=col>dest</th><th scope=col>tailnum</th><th scope=col>carrier</th><th scope=col>year.y</th><th scope=col>type</th><th scope=col>manufacturer</th><th scope=col>model</th><th scope=col>engines</th><th scope=col>seats</th><th scope=col>speed</th><th scope=col>engine</th></tr>\n",
       "\t<tr><th scope=col>&lt;int&gt;</th><th scope=col>&lt;int&gt;</th><th scope=col>&lt;int&gt;</th><th scope=col>&lt;dbl&gt;</th><th scope=col>&lt;chr&gt;</th><th scope=col>&lt;chr&gt;</th><th scope=col>&lt;chr&gt;</th><th scope=col>&lt;chr&gt;</th><th scope=col>&lt;int&gt;</th><th scope=col>&lt;chr&gt;</th><th scope=col>&lt;chr&gt;</th><th scope=col>&lt;chr&gt;</th><th scope=col>&lt;int&gt;</th><th scope=col>&lt;int&gt;</th><th scope=col>&lt;int&gt;</th><th scope=col>&lt;chr&gt;</th></tr>\n",
       "</thead>\n",
       "<tbody>\n",
       "\t<tr><td>2013</td><td>1</td><td>1</td><td>5</td><td>EWR</td><td>IAH</td><td>N14228</td><td>UA</td><td>1999</td><td>Fixed wing multi engine</td><td>BOEING                       </td><td>737-824    </td><td> 2</td><td>149</td><td>NA</td><td>Turbo-fan</td></tr>\n",
       "\t<tr><td>2013</td><td>1</td><td>1</td><td>5</td><td>LGA</td><td>IAH</td><td>N24211</td><td>UA</td><td>1998</td><td>Fixed wing multi engine</td><td>BOEING                       </td><td>737-824    </td><td> 2</td><td>149</td><td>NA</td><td>Turbo-fan</td></tr>\n",
       "\t<tr><td>2013</td><td>1</td><td>1</td><td>5</td><td>JFK</td><td>MIA</td><td>N619AA</td><td>AA</td><td>1990</td><td>Fixed wing multi engine</td><td>BOEING                       </td><td>757-223    </td><td> 2</td><td>178</td><td>NA</td><td>Turbo-fan</td></tr>\n",
       "\t<tr><td>2013</td><td>1</td><td>1</td><td>5</td><td>JFK</td><td>BQN</td><td>N804JB</td><td>B6</td><td>2012</td><td>Fixed wing multi engine</td><td>AIRBUS                       </td><td>A320-232   </td><td> 2</td><td>200</td><td>NA</td><td>Turbo-fan</td></tr>\n",
       "\t<tr><td>2013</td><td>1</td><td>1</td><td>6</td><td>LGA</td><td>ATL</td><td>N668DN</td><td>DL</td><td>1991</td><td>Fixed wing multi engine</td><td>BOEING                       </td><td>757-232    </td><td> 2</td><td>178</td><td>NA</td><td>Turbo-fan</td></tr>\n",
       "\t<tr><td>2013</td><td>1</td><td>1</td><td>5</td><td>EWR</td><td>ORD</td><td>N39463</td><td>UA</td><td>2012</td><td>Fixed wing multi engine</td><td>BOEING                       </td><td>737-924ER  </td><td> 2</td><td>191</td><td>NA</td><td>Turbo-fan</td></tr>\n",
       "\t<tr><td>2013</td><td>1</td><td>1</td><td>6</td><td>EWR</td><td>FLL</td><td>N516JB</td><td>B6</td><td>2000</td><td>Fixed wing multi engine</td><td>AIRBUS INDUSTRIE             </td><td>A320-232   </td><td> 2</td><td>200</td><td>NA</td><td>Turbo-fan</td></tr>\n",
       "\t<tr><td>2013</td><td>1</td><td>1</td><td>6</td><td>LGA</td><td>IAD</td><td>N829AS</td><td>EV</td><td>1998</td><td>Fixed wing multi engine</td><td>CANADAIR                     </td><td>CL-600-2B19</td><td> 2</td><td> 55</td><td>NA</td><td>Turbo-fan</td></tr>\n",
       "\t<tr><td>2013</td><td>1</td><td>1</td><td>6</td><td>JFK</td><td>MCO</td><td>N593JB</td><td>B6</td><td>2004</td><td>Fixed wing multi engine</td><td>AIRBUS                       </td><td>A320-232   </td><td> 2</td><td>200</td><td>NA</td><td>Turbo-fan</td></tr>\n",
       "\t<tr><td>2013</td><td>1</td><td>1</td><td>6</td><td>LGA</td><td>ORD</td><td>N3ALAA</td><td>AA</td><td>  NA</td><td>NA                     </td><td>NA                           </td><td>NA         </td><td>NA</td><td> NA</td><td>NA</td><td>NA       </td></tr>\n",
       "\t<tr><td>2013</td><td>1</td><td>1</td><td>6</td><td>JFK</td><td>PBI</td><td>N793JB</td><td>B6</td><td>2011</td><td>Fixed wing multi engine</td><td>AIRBUS                       </td><td>A320-232   </td><td> 2</td><td>200</td><td>NA</td><td>Turbo-fan</td></tr>\n",
       "\t<tr><td>2013</td><td>1</td><td>1</td><td>6</td><td>JFK</td><td>TPA</td><td>N657JB</td><td>B6</td><td>2007</td><td>Fixed wing multi engine</td><td>AIRBUS                       </td><td>A320-232   </td><td> 2</td><td>200</td><td>NA</td><td>Turbo-fan</td></tr>\n",
       "\t<tr><td>2013</td><td>1</td><td>1</td><td>6</td><td>JFK</td><td>LAX</td><td>N29129</td><td>UA</td><td>1998</td><td>Fixed wing multi engine</td><td>BOEING                       </td><td>757-224    </td><td> 2</td><td>178</td><td>NA</td><td>Turbo-jet</td></tr>\n",
       "\t<tr><td>2013</td><td>1</td><td>1</td><td>6</td><td>EWR</td><td>SFO</td><td>N53441</td><td>UA</td><td>  NA</td><td>Fixed wing multi engine</td><td>BOEING                       </td><td>737-924ER  </td><td> 2</td><td>191</td><td>NA</td><td>Turbo-fan</td></tr>\n",
       "\t<tr><td>2013</td><td>1</td><td>1</td><td>6</td><td>LGA</td><td>DFW</td><td>N3DUAA</td><td>AA</td><td>  NA</td><td>NA                     </td><td>NA                           </td><td>NA         </td><td>NA</td><td> NA</td><td>NA</td><td>NA       </td></tr>\n",
       "\t<tr><td>2013</td><td>1</td><td>1</td><td>5</td><td>JFK</td><td>BOS</td><td>N708JB</td><td>B6</td><td>2008</td><td>Fixed wing multi engine</td><td>AIRBUS                       </td><td>A320-232   </td><td> 2</td><td>200</td><td>NA</td><td>Turbo-fan</td></tr>\n",
       "\t<tr><td>2013</td><td>1</td><td>1</td><td>6</td><td>EWR</td><td>LAS</td><td>N76515</td><td>UA</td><td>2008</td><td>Fixed wing multi engine</td><td>BOEING                       </td><td>737-824    </td><td> 2</td><td>149</td><td>NA</td><td>Turbo-fan</td></tr>\n",
       "\t<tr><td>2013</td><td>1</td><td>1</td><td>6</td><td>LGA</td><td>FLL</td><td>N595JB</td><td>B6</td><td>2004</td><td>Fixed wing multi engine</td><td>AIRBUS                       </td><td>A320-232   </td><td> 2</td><td>200</td><td>NA</td><td>Turbo-fan</td></tr>\n",
       "\t<tr><td>2013</td><td>1</td><td>1</td><td>6</td><td>LGA</td><td>ATL</td><td>N542MQ</td><td>MQ</td><td>  NA</td><td>NA                     </td><td>NA                           </td><td>NA         </td><td>NA</td><td> NA</td><td>NA</td><td>NA       </td></tr>\n",
       "\t<tr><td>2013</td><td>1</td><td>1</td><td>6</td><td>EWR</td><td>PBI</td><td>N644JB</td><td>B6</td><td>2006</td><td>Fixed wing multi engine</td><td>AIRBUS                       </td><td>A320-232   </td><td> 2</td><td>200</td><td>NA</td><td>Turbo-fan</td></tr>\n",
       "\t<tr><td>2013</td><td>1</td><td>1</td><td>6</td><td>LGA</td><td>MSP</td><td>N971DL</td><td>DL</td><td>1991</td><td>Fixed wing multi engine</td><td>MCDONNELL DOUGLAS AIRCRAFT CO</td><td>MD-88      </td><td> 2</td><td>142</td><td>NA</td><td>Turbo-fan</td></tr>\n",
       "\t<tr><td>2013</td><td>1</td><td>1</td><td>6</td><td>LGA</td><td>DTW</td><td>N730MQ</td><td>MQ</td><td>  NA</td><td>NA                     </td><td>NA                           </td><td>NA         </td><td>NA</td><td> NA</td><td>NA</td><td>NA       </td></tr>\n",
       "\t<tr><td>2013</td><td>1</td><td>1</td><td>6</td><td>EWR</td><td>MIA</td><td>N633AA</td><td>AA</td><td>1990</td><td>Fixed wing multi engine</td><td>BOEING                       </td><td>757-223    </td><td> 2</td><td>178</td><td>NA</td><td>Turbo-fan</td></tr>\n",
       "\t<tr><td>2013</td><td>1</td><td>1</td><td>6</td><td>JFK</td><td>ATL</td><td>N3739P</td><td>DL</td><td>2000</td><td>Fixed wing multi engine</td><td>BOEING                       </td><td>737-832    </td><td> 2</td><td>189</td><td>NA</td><td>Turbo-jet</td></tr>\n",
       "\t<tr><td>2013</td><td>1</td><td>1</td><td>6</td><td>EWR</td><td>MIA</td><td>N53442</td><td>UA</td><td>2009</td><td>Fixed wing multi engine</td><td>BOEING                       </td><td>737-924ER  </td><td> 2</td><td>191</td><td>NA</td><td>Turbo-fan</td></tr>\n",
       "\t<tr><td>2013</td><td>1</td><td>1</td><td>6</td><td>EWR</td><td>ORD</td><td>N9EAMQ</td><td>MQ</td><td>  NA</td><td>NA                     </td><td>NA                           </td><td>NA         </td><td>NA</td><td> NA</td><td>NA</td><td>NA       </td></tr>\n",
       "\t<tr><td>2013</td><td>1</td><td>1</td><td>6</td><td>JFK</td><td>SFO</td><td>N532UA</td><td>UA</td><td>  NA</td><td>NA                     </td><td>NA                           </td><td>NA         </td><td>NA</td><td> NA</td><td>NA</td><td>NA       </td></tr>\n",
       "\t<tr><td>2013</td><td>1</td><td>1</td><td>6</td><td>JFK</td><td>RSW</td><td>N635JB</td><td>B6</td><td>2006</td><td>Fixed wing multi engine</td><td>AIRBUS                       </td><td>A320-232   </td><td> 2</td><td>200</td><td>NA</td><td>Turbo-fan</td></tr>\n",
       "\t<tr><td>2013</td><td>1</td><td>1</td><td>6</td><td>JFK</td><td>SJU</td><td>N794JB</td><td>B6</td><td>2011</td><td>Fixed wing multi engine</td><td>AIRBUS                       </td><td>A320-232   </td><td> 2</td><td>200</td><td>NA</td><td>Turbo-fan</td></tr>\n",
       "\t<tr><td>2013</td><td>1</td><td>1</td><td>6</td><td>EWR</td><td>ATL</td><td>N326NB</td><td>DL</td><td>2001</td><td>Fixed wing multi engine</td><td>AIRBUS INDUSTRIE             </td><td>A319-114   </td><td> 2</td><td>145</td><td>NA</td><td>Turbo-fan</td></tr>\n",
       "\t<tr><td>⋮</td><td>⋮</td><td>⋮</td><td>⋮</td><td>⋮</td><td>⋮</td><td>⋮</td><td>⋮</td><td>⋮</td><td>⋮</td><td>⋮</td><td>⋮</td><td>⋮</td><td>⋮</td><td>⋮</td><td>⋮</td></tr>\n",
       "\t<tr><td>2013</td><td>9</td><td>30</td><td>21</td><td>LGA</td><td>CHO</td><td>N712EV</td><td>EV</td><td>2002</td><td>Fixed wing multi engine</td><td>BOMBARDIER INC  </td><td>CL-600-2C10    </td><td> 2</td><td> 80</td><td>NA</td><td>Turbo-fan</td></tr>\n",
       "\t<tr><td>2013</td><td>9</td><td>30</td><td>21</td><td>EWR</td><td>CLT</td><td>N16546</td><td>EV</td><td>2002</td><td>Fixed wing multi engine</td><td>EMBRAER         </td><td>EMB-145LR      </td><td> 2</td><td> 55</td><td>NA</td><td>Turbo-fan</td></tr>\n",
       "\t<tr><td>2013</td><td>9</td><td>30</td><td>21</td><td>JFK</td><td>DEN</td><td>N807JB</td><td>B6</td><td>2012</td><td>Fixed wing multi engine</td><td>AIRBUS          </td><td>A320-232       </td><td> 2</td><td>200</td><td>NA</td><td>Turbo-fan</td></tr>\n",
       "\t<tr><td>2013</td><td>9</td><td>30</td><td>20</td><td>LGA</td><td>RIC</td><td>N751EV</td><td>EV</td><td>2004</td><td>Fixed wing multi engine</td><td>BOMBARDIER INC  </td><td>CL-600-2C10    </td><td> 2</td><td> 80</td><td>NA</td><td>Turbo-fan</td></tr>\n",
       "\t<tr><td>2013</td><td>9</td><td>30</td><td>21</td><td>JFK</td><td>DCA</td><td>N807MQ</td><td>MQ</td><td>  NA</td><td>NA                     </td><td>NA              </td><td>NA             </td><td>NA</td><td> NA</td><td>NA</td><td>NA       </td></tr>\n",
       "\t<tr><td>2013</td><td>9</td><td>30</td><td>21</td><td>JFK</td><td>LAX</td><td>N335AA</td><td>AA</td><td>1987</td><td>Fixed wing multi engine</td><td>BOEING          </td><td>767-223        </td><td> 2</td><td>255</td><td>NA</td><td>Turbo-fan</td></tr>\n",
       "\t<tr><td>2013</td><td>9</td><td>30</td><td>21</td><td>EWR</td><td>PWM</td><td>N12957</td><td>EV</td><td>1998</td><td>Fixed wing multi engine</td><td>EMBRAER         </td><td>EMB-145LR      </td><td> 2</td><td> 55</td><td>NA</td><td>Turbo-fan</td></tr>\n",
       "\t<tr><td>2013</td><td>9</td><td>30</td><td>21</td><td>JFK</td><td>SJU</td><td>N633JB</td><td>B6</td><td>2006</td><td>Fixed wing multi engine</td><td>AIRBUS          </td><td>A320-232       </td><td> 2</td><td>200</td><td>NA</td><td>Turbo-fan</td></tr>\n",
       "\t<tr><td>2013</td><td>9</td><td>30</td><td>21</td><td>LGA</td><td>FLL</td><td>N627JB</td><td>B6</td><td>2005</td><td>Fixed wing multi engine</td><td>AIRBUS          </td><td>A320-232       </td><td> 2</td><td>200</td><td>NA</td><td>Turbo-fan</td></tr>\n",
       "\t<tr><td>2013</td><td>9</td><td>30</td><td>21</td><td>EWR</td><td>BOS</td><td>N813UA</td><td>UA</td><td>1998</td><td>Fixed wing multi engine</td><td>AIRBUS INDUSTRIE</td><td>A319-131       </td><td> 2</td><td>179</td><td>NA</td><td>Turbo-jet</td></tr>\n",
       "\t<tr><td>2013</td><td>9</td><td>30</td><td>21</td><td>EWR</td><td>MHT</td><td>N10575</td><td>EV</td><td>2002</td><td>Fixed wing multi engine</td><td>EMBRAER         </td><td>EMB-145LR      </td><td> 2</td><td> 55</td><td>NA</td><td>Turbo-fan</td></tr>\n",
       "\t<tr><td>2013</td><td>9</td><td>30</td><td>18</td><td>JFK</td><td>BUF</td><td>N906XJ</td><td>9E</td><td>2007</td><td>Fixed wing multi engine</td><td>BOMBARDIER INC  </td><td>CL-600-2D24    </td><td> 2</td><td> 95</td><td>NA</td><td>Turbo-fan</td></tr>\n",
       "\t<tr><td>2013</td><td>9</td><td>30</td><td>22</td><td>LGA</td><td>BGR</td><td>N722EV</td><td>EV</td><td>2003</td><td>Fixed wing multi engine</td><td>BOMBARDIER INC  </td><td>CL-600-2C10    </td><td> 2</td><td> 80</td><td>NA</td><td>Turbo-fan</td></tr>\n",
       "\t<tr><td>2013</td><td>9</td><td>30</td><td>21</td><td>LGA</td><td>BNA</td><td>N532MQ</td><td>MQ</td><td>  NA</td><td>NA                     </td><td>NA              </td><td>NA             </td><td>NA</td><td> NA</td><td>NA</td><td>NA       </td></tr>\n",
       "\t<tr><td>2013</td><td>9</td><td>30</td><td>20</td><td>EWR</td><td>STL</td><td>N12145</td><td>EV</td><td>2003</td><td>Fixed wing multi engine</td><td>EMBRAER         </td><td>EMB-145XR      </td><td> 2</td><td> 55</td><td>NA</td><td>Turbo-fan</td></tr>\n",
       "\t<tr><td>2013</td><td>9</td><td>30</td><td>22</td><td>JFK</td><td>PWM</td><td>N193JB</td><td>B6</td><td>2005</td><td>Fixed wing multi engine</td><td>EMBRAER         </td><td>ERJ 190-100 IGW</td><td> 2</td><td> 20</td><td>NA</td><td>Turbo-fan</td></tr>\n",
       "\t<tr><td>2013</td><td>9</td><td>30</td><td>21</td><td>EWR</td><td>SFO</td><td>N578UA</td><td>UA</td><td>1993</td><td>Fixed wing multi engine</td><td>BOEING          </td><td>757-222        </td><td> 2</td><td>178</td><td>NA</td><td>Turbo-jet</td></tr>\n",
       "\t<tr><td>2013</td><td>9</td><td>30</td><td>20</td><td>JFK</td><td>MCO</td><td>N804JB</td><td>B6</td><td>2012</td><td>Fixed wing multi engine</td><td>AIRBUS          </td><td>A320-232       </td><td> 2</td><td>200</td><td>NA</td><td>Turbo-fan</td></tr>\n",
       "\t<tr><td>2013</td><td>9</td><td>30</td><td>22</td><td>JFK</td><td>BTV</td><td>N318JB</td><td>B6</td><td>2010</td><td>Fixed wing multi engine</td><td>EMBRAER         </td><td>ERJ 190-100 IGW</td><td> 2</td><td> 20</td><td>NA</td><td>Turbo-fan</td></tr>\n",
       "\t<tr><td>2013</td><td>9</td><td>30</td><td>22</td><td>JFK</td><td>SYR</td><td>N354JB</td><td>B6</td><td>2013</td><td>Fixed wing multi engine</td><td>EMBRAER         </td><td>ERJ 190-100 IGW</td><td> 2</td><td> 20</td><td>NA</td><td>Turbo-fan</td></tr>\n",
       "\t<tr><td>2013</td><td>9</td><td>30</td><td>22</td><td>JFK</td><td>BUF</td><td>N281JB</td><td>B6</td><td>2007</td><td>Fixed wing multi engine</td><td>EMBRAER         </td><td>ERJ 190-100 IGW</td><td> 2</td><td> 20</td><td>NA</td><td>Turbo-fan</td></tr>\n",
       "\t<tr><td>2013</td><td>9</td><td>30</td><td>22</td><td>JFK</td><td>ROC</td><td>N346JB</td><td>B6</td><td>2011</td><td>Fixed wing multi engine</td><td>EMBRAER         </td><td>ERJ 190-100 IGW</td><td> 2</td><td> 20</td><td>NA</td><td>Turbo-fan</td></tr>\n",
       "\t<tr><td>2013</td><td>9</td><td>30</td><td>22</td><td>JFK</td><td>BOS</td><td>N565JB</td><td>B6</td><td>2003</td><td>Fixed wing multi engine</td><td>AIRBUS          </td><td>A320-232       </td><td> 2</td><td>200</td><td>NA</td><td>Turbo-fan</td></tr>\n",
       "\t<tr><td>2013</td><td>9</td><td>30</td><td>23</td><td>JFK</td><td>PSE</td><td>N516JB</td><td>B6</td><td>2000</td><td>Fixed wing multi engine</td><td>AIRBUS INDUSTRIE</td><td>A320-232       </td><td> 2</td><td>200</td><td>NA</td><td>Turbo-fan</td></tr>\n",
       "\t<tr><td>2013</td><td>9</td><td>30</td><td>18</td><td>LGA</td><td>BNA</td><td>N740EV</td><td>EV</td><td>2004</td><td>Fixed wing multi engine</td><td>BOMBARDIER INC  </td><td>CL-600-2C10    </td><td> 2</td><td> 80</td><td>NA</td><td>Turbo-fan</td></tr>\n",
       "\t<tr><td>2013</td><td>9</td><td>30</td><td>14</td><td>JFK</td><td>DCA</td><td>NA    </td><td>9E</td><td>  NA</td><td>NA                     </td><td>NA              </td><td>NA             </td><td>NA</td><td> NA</td><td>NA</td><td>NA       </td></tr>\n",
       "\t<tr><td>2013</td><td>9</td><td>30</td><td>22</td><td>LGA</td><td>SYR</td><td>NA    </td><td>9E</td><td>  NA</td><td>NA                     </td><td>NA              </td><td>NA             </td><td>NA</td><td> NA</td><td>NA</td><td>NA       </td></tr>\n",
       "\t<tr><td>2013</td><td>9</td><td>30</td><td>12</td><td>LGA</td><td>BNA</td><td>N535MQ</td><td>MQ</td><td>  NA</td><td>NA                     </td><td>NA              </td><td>NA             </td><td>NA</td><td> NA</td><td>NA</td><td>NA       </td></tr>\n",
       "\t<tr><td>2013</td><td>9</td><td>30</td><td>11</td><td>LGA</td><td>CLE</td><td>N511MQ</td><td>MQ</td><td>  NA</td><td>NA                     </td><td>NA              </td><td>NA             </td><td>NA</td><td> NA</td><td>NA</td><td>NA       </td></tr>\n",
       "\t<tr><td>2013</td><td>9</td><td>30</td><td> 8</td><td>LGA</td><td>RDU</td><td>N839MQ</td><td>MQ</td><td>  NA</td><td>NA                     </td><td>NA              </td><td>NA             </td><td>NA</td><td> NA</td><td>NA</td><td>NA       </td></tr>\n",
       "</tbody>\n",
       "</table>\n"
      ],
      "text/latex": [
       "A tibble: 336776 × 16\n",
       "\\begin{tabular}{llllllllllllllll}\n",
       " year.x & month & day & hour & origin & dest & tailnum & carrier & year.y & type & manufacturer & model & engines & seats & speed & engine\\\\\n",
       " <int> & <int> & <int> & <dbl> & <chr> & <chr> & <chr> & <chr> & <int> & <chr> & <chr> & <chr> & <int> & <int> & <int> & <chr>\\\\\n",
       "\\hline\n",
       "\t 2013 & 1 & 1 & 5 & EWR & IAH & N14228 & UA & 1999 & Fixed wing multi engine & BOEING                        & 737-824     &  2 & 149 & NA & Turbo-fan\\\\\n",
       "\t 2013 & 1 & 1 & 5 & LGA & IAH & N24211 & UA & 1998 & Fixed wing multi engine & BOEING                        & 737-824     &  2 & 149 & NA & Turbo-fan\\\\\n",
       "\t 2013 & 1 & 1 & 5 & JFK & MIA & N619AA & AA & 1990 & Fixed wing multi engine & BOEING                        & 757-223     &  2 & 178 & NA & Turbo-fan\\\\\n",
       "\t 2013 & 1 & 1 & 5 & JFK & BQN & N804JB & B6 & 2012 & Fixed wing multi engine & AIRBUS                        & A320-232    &  2 & 200 & NA & Turbo-fan\\\\\n",
       "\t 2013 & 1 & 1 & 6 & LGA & ATL & N668DN & DL & 1991 & Fixed wing multi engine & BOEING                        & 757-232     &  2 & 178 & NA & Turbo-fan\\\\\n",
       "\t 2013 & 1 & 1 & 5 & EWR & ORD & N39463 & UA & 2012 & Fixed wing multi engine & BOEING                        & 737-924ER   &  2 & 191 & NA & Turbo-fan\\\\\n",
       "\t 2013 & 1 & 1 & 6 & EWR & FLL & N516JB & B6 & 2000 & Fixed wing multi engine & AIRBUS INDUSTRIE              & A320-232    &  2 & 200 & NA & Turbo-fan\\\\\n",
       "\t 2013 & 1 & 1 & 6 & LGA & IAD & N829AS & EV & 1998 & Fixed wing multi engine & CANADAIR                      & CL-600-2B19 &  2 &  55 & NA & Turbo-fan\\\\\n",
       "\t 2013 & 1 & 1 & 6 & JFK & MCO & N593JB & B6 & 2004 & Fixed wing multi engine & AIRBUS                        & A320-232    &  2 & 200 & NA & Turbo-fan\\\\\n",
       "\t 2013 & 1 & 1 & 6 & LGA & ORD & N3ALAA & AA &   NA & NA                      & NA                            & NA          & NA &  NA & NA & NA       \\\\\n",
       "\t 2013 & 1 & 1 & 6 & JFK & PBI & N793JB & B6 & 2011 & Fixed wing multi engine & AIRBUS                        & A320-232    &  2 & 200 & NA & Turbo-fan\\\\\n",
       "\t 2013 & 1 & 1 & 6 & JFK & TPA & N657JB & B6 & 2007 & Fixed wing multi engine & AIRBUS                        & A320-232    &  2 & 200 & NA & Turbo-fan\\\\\n",
       "\t 2013 & 1 & 1 & 6 & JFK & LAX & N29129 & UA & 1998 & Fixed wing multi engine & BOEING                        & 757-224     &  2 & 178 & NA & Turbo-jet\\\\\n",
       "\t 2013 & 1 & 1 & 6 & EWR & SFO & N53441 & UA &   NA & Fixed wing multi engine & BOEING                        & 737-924ER   &  2 & 191 & NA & Turbo-fan\\\\\n",
       "\t 2013 & 1 & 1 & 6 & LGA & DFW & N3DUAA & AA &   NA & NA                      & NA                            & NA          & NA &  NA & NA & NA       \\\\\n",
       "\t 2013 & 1 & 1 & 5 & JFK & BOS & N708JB & B6 & 2008 & Fixed wing multi engine & AIRBUS                        & A320-232    &  2 & 200 & NA & Turbo-fan\\\\\n",
       "\t 2013 & 1 & 1 & 6 & EWR & LAS & N76515 & UA & 2008 & Fixed wing multi engine & BOEING                        & 737-824     &  2 & 149 & NA & Turbo-fan\\\\\n",
       "\t 2013 & 1 & 1 & 6 & LGA & FLL & N595JB & B6 & 2004 & Fixed wing multi engine & AIRBUS                        & A320-232    &  2 & 200 & NA & Turbo-fan\\\\\n",
       "\t 2013 & 1 & 1 & 6 & LGA & ATL & N542MQ & MQ &   NA & NA                      & NA                            & NA          & NA &  NA & NA & NA       \\\\\n",
       "\t 2013 & 1 & 1 & 6 & EWR & PBI & N644JB & B6 & 2006 & Fixed wing multi engine & AIRBUS                        & A320-232    &  2 & 200 & NA & Turbo-fan\\\\\n",
       "\t 2013 & 1 & 1 & 6 & LGA & MSP & N971DL & DL & 1991 & Fixed wing multi engine & MCDONNELL DOUGLAS AIRCRAFT CO & MD-88       &  2 & 142 & NA & Turbo-fan\\\\\n",
       "\t 2013 & 1 & 1 & 6 & LGA & DTW & N730MQ & MQ &   NA & NA                      & NA                            & NA          & NA &  NA & NA & NA       \\\\\n",
       "\t 2013 & 1 & 1 & 6 & EWR & MIA & N633AA & AA & 1990 & Fixed wing multi engine & BOEING                        & 757-223     &  2 & 178 & NA & Turbo-fan\\\\\n",
       "\t 2013 & 1 & 1 & 6 & JFK & ATL & N3739P & DL & 2000 & Fixed wing multi engine & BOEING                        & 737-832     &  2 & 189 & NA & Turbo-jet\\\\\n",
       "\t 2013 & 1 & 1 & 6 & EWR & MIA & N53442 & UA & 2009 & Fixed wing multi engine & BOEING                        & 737-924ER   &  2 & 191 & NA & Turbo-fan\\\\\n",
       "\t 2013 & 1 & 1 & 6 & EWR & ORD & N9EAMQ & MQ &   NA & NA                      & NA                            & NA          & NA &  NA & NA & NA       \\\\\n",
       "\t 2013 & 1 & 1 & 6 & JFK & SFO & N532UA & UA &   NA & NA                      & NA                            & NA          & NA &  NA & NA & NA       \\\\\n",
       "\t 2013 & 1 & 1 & 6 & JFK & RSW & N635JB & B6 & 2006 & Fixed wing multi engine & AIRBUS                        & A320-232    &  2 & 200 & NA & Turbo-fan\\\\\n",
       "\t 2013 & 1 & 1 & 6 & JFK & SJU & N794JB & B6 & 2011 & Fixed wing multi engine & AIRBUS                        & A320-232    &  2 & 200 & NA & Turbo-fan\\\\\n",
       "\t 2013 & 1 & 1 & 6 & EWR & ATL & N326NB & DL & 2001 & Fixed wing multi engine & AIRBUS INDUSTRIE              & A319-114    &  2 & 145 & NA & Turbo-fan\\\\\n",
       "\t ⋮ & ⋮ & ⋮ & ⋮ & ⋮ & ⋮ & ⋮ & ⋮ & ⋮ & ⋮ & ⋮ & ⋮ & ⋮ & ⋮ & ⋮ & ⋮\\\\\n",
       "\t 2013 & 9 & 30 & 21 & LGA & CHO & N712EV & EV & 2002 & Fixed wing multi engine & BOMBARDIER INC   & CL-600-2C10     &  2 &  80 & NA & Turbo-fan\\\\\n",
       "\t 2013 & 9 & 30 & 21 & EWR & CLT & N16546 & EV & 2002 & Fixed wing multi engine & EMBRAER          & EMB-145LR       &  2 &  55 & NA & Turbo-fan\\\\\n",
       "\t 2013 & 9 & 30 & 21 & JFK & DEN & N807JB & B6 & 2012 & Fixed wing multi engine & AIRBUS           & A320-232        &  2 & 200 & NA & Turbo-fan\\\\\n",
       "\t 2013 & 9 & 30 & 20 & LGA & RIC & N751EV & EV & 2004 & Fixed wing multi engine & BOMBARDIER INC   & CL-600-2C10     &  2 &  80 & NA & Turbo-fan\\\\\n",
       "\t 2013 & 9 & 30 & 21 & JFK & DCA & N807MQ & MQ &   NA & NA                      & NA               & NA              & NA &  NA & NA & NA       \\\\\n",
       "\t 2013 & 9 & 30 & 21 & JFK & LAX & N335AA & AA & 1987 & Fixed wing multi engine & BOEING           & 767-223         &  2 & 255 & NA & Turbo-fan\\\\\n",
       "\t 2013 & 9 & 30 & 21 & EWR & PWM & N12957 & EV & 1998 & Fixed wing multi engine & EMBRAER          & EMB-145LR       &  2 &  55 & NA & Turbo-fan\\\\\n",
       "\t 2013 & 9 & 30 & 21 & JFK & SJU & N633JB & B6 & 2006 & Fixed wing multi engine & AIRBUS           & A320-232        &  2 & 200 & NA & Turbo-fan\\\\\n",
       "\t 2013 & 9 & 30 & 21 & LGA & FLL & N627JB & B6 & 2005 & Fixed wing multi engine & AIRBUS           & A320-232        &  2 & 200 & NA & Turbo-fan\\\\\n",
       "\t 2013 & 9 & 30 & 21 & EWR & BOS & N813UA & UA & 1998 & Fixed wing multi engine & AIRBUS INDUSTRIE & A319-131        &  2 & 179 & NA & Turbo-jet\\\\\n",
       "\t 2013 & 9 & 30 & 21 & EWR & MHT & N10575 & EV & 2002 & Fixed wing multi engine & EMBRAER          & EMB-145LR       &  2 &  55 & NA & Turbo-fan\\\\\n",
       "\t 2013 & 9 & 30 & 18 & JFK & BUF & N906XJ & 9E & 2007 & Fixed wing multi engine & BOMBARDIER INC   & CL-600-2D24     &  2 &  95 & NA & Turbo-fan\\\\\n",
       "\t 2013 & 9 & 30 & 22 & LGA & BGR & N722EV & EV & 2003 & Fixed wing multi engine & BOMBARDIER INC   & CL-600-2C10     &  2 &  80 & NA & Turbo-fan\\\\\n",
       "\t 2013 & 9 & 30 & 21 & LGA & BNA & N532MQ & MQ &   NA & NA                      & NA               & NA              & NA &  NA & NA & NA       \\\\\n",
       "\t 2013 & 9 & 30 & 20 & EWR & STL & N12145 & EV & 2003 & Fixed wing multi engine & EMBRAER          & EMB-145XR       &  2 &  55 & NA & Turbo-fan\\\\\n",
       "\t 2013 & 9 & 30 & 22 & JFK & PWM & N193JB & B6 & 2005 & Fixed wing multi engine & EMBRAER          & ERJ 190-100 IGW &  2 &  20 & NA & Turbo-fan\\\\\n",
       "\t 2013 & 9 & 30 & 21 & EWR & SFO & N578UA & UA & 1993 & Fixed wing multi engine & BOEING           & 757-222         &  2 & 178 & NA & Turbo-jet\\\\\n",
       "\t 2013 & 9 & 30 & 20 & JFK & MCO & N804JB & B6 & 2012 & Fixed wing multi engine & AIRBUS           & A320-232        &  2 & 200 & NA & Turbo-fan\\\\\n",
       "\t 2013 & 9 & 30 & 22 & JFK & BTV & N318JB & B6 & 2010 & Fixed wing multi engine & EMBRAER          & ERJ 190-100 IGW &  2 &  20 & NA & Turbo-fan\\\\\n",
       "\t 2013 & 9 & 30 & 22 & JFK & SYR & N354JB & B6 & 2013 & Fixed wing multi engine & EMBRAER          & ERJ 190-100 IGW &  2 &  20 & NA & Turbo-fan\\\\\n",
       "\t 2013 & 9 & 30 & 22 & JFK & BUF & N281JB & B6 & 2007 & Fixed wing multi engine & EMBRAER          & ERJ 190-100 IGW &  2 &  20 & NA & Turbo-fan\\\\\n",
       "\t 2013 & 9 & 30 & 22 & JFK & ROC & N346JB & B6 & 2011 & Fixed wing multi engine & EMBRAER          & ERJ 190-100 IGW &  2 &  20 & NA & Turbo-fan\\\\\n",
       "\t 2013 & 9 & 30 & 22 & JFK & BOS & N565JB & B6 & 2003 & Fixed wing multi engine & AIRBUS           & A320-232        &  2 & 200 & NA & Turbo-fan\\\\\n",
       "\t 2013 & 9 & 30 & 23 & JFK & PSE & N516JB & B6 & 2000 & Fixed wing multi engine & AIRBUS INDUSTRIE & A320-232        &  2 & 200 & NA & Turbo-fan\\\\\n",
       "\t 2013 & 9 & 30 & 18 & LGA & BNA & N740EV & EV & 2004 & Fixed wing multi engine & BOMBARDIER INC   & CL-600-2C10     &  2 &  80 & NA & Turbo-fan\\\\\n",
       "\t 2013 & 9 & 30 & 14 & JFK & DCA & NA     & 9E &   NA & NA                      & NA               & NA              & NA &  NA & NA & NA       \\\\\n",
       "\t 2013 & 9 & 30 & 22 & LGA & SYR & NA     & 9E &   NA & NA                      & NA               & NA              & NA &  NA & NA & NA       \\\\\n",
       "\t 2013 & 9 & 30 & 12 & LGA & BNA & N535MQ & MQ &   NA & NA                      & NA               & NA              & NA &  NA & NA & NA       \\\\\n",
       "\t 2013 & 9 & 30 & 11 & LGA & CLE & N511MQ & MQ &   NA & NA                      & NA               & NA              & NA &  NA & NA & NA       \\\\\n",
       "\t 2013 & 9 & 30 &  8 & LGA & RDU & N839MQ & MQ &   NA & NA                      & NA               & NA              & NA &  NA & NA & NA       \\\\\n",
       "\\end{tabular}\n"
      ],
      "text/markdown": [
       "\n",
       "A tibble: 336776 × 16\n",
       "\n",
       "| year.x &lt;int&gt; | month &lt;int&gt; | day &lt;int&gt; | hour &lt;dbl&gt; | origin &lt;chr&gt; | dest &lt;chr&gt; | tailnum &lt;chr&gt; | carrier &lt;chr&gt; | year.y &lt;int&gt; | type &lt;chr&gt; | manufacturer &lt;chr&gt; | model &lt;chr&gt; | engines &lt;int&gt; | seats &lt;int&gt; | speed &lt;int&gt; | engine &lt;chr&gt; |\n",
       "|---|---|---|---|---|---|---|---|---|---|---|---|---|---|---|---|\n",
       "| 2013 | 1 | 1 | 5 | EWR | IAH | N14228 | UA | 1999 | Fixed wing multi engine | BOEING                        | 737-824     |  2 | 149 | NA | Turbo-fan |\n",
       "| 2013 | 1 | 1 | 5 | LGA | IAH | N24211 | UA | 1998 | Fixed wing multi engine | BOEING                        | 737-824     |  2 | 149 | NA | Turbo-fan |\n",
       "| 2013 | 1 | 1 | 5 | JFK | MIA | N619AA | AA | 1990 | Fixed wing multi engine | BOEING                        | 757-223     |  2 | 178 | NA | Turbo-fan |\n",
       "| 2013 | 1 | 1 | 5 | JFK | BQN | N804JB | B6 | 2012 | Fixed wing multi engine | AIRBUS                        | A320-232    |  2 | 200 | NA | Turbo-fan |\n",
       "| 2013 | 1 | 1 | 6 | LGA | ATL | N668DN | DL | 1991 | Fixed wing multi engine | BOEING                        | 757-232     |  2 | 178 | NA | Turbo-fan |\n",
       "| 2013 | 1 | 1 | 5 | EWR | ORD | N39463 | UA | 2012 | Fixed wing multi engine | BOEING                        | 737-924ER   |  2 | 191 | NA | Turbo-fan |\n",
       "| 2013 | 1 | 1 | 6 | EWR | FLL | N516JB | B6 | 2000 | Fixed wing multi engine | AIRBUS INDUSTRIE              | A320-232    |  2 | 200 | NA | Turbo-fan |\n",
       "| 2013 | 1 | 1 | 6 | LGA | IAD | N829AS | EV | 1998 | Fixed wing multi engine | CANADAIR                      | CL-600-2B19 |  2 |  55 | NA | Turbo-fan |\n",
       "| 2013 | 1 | 1 | 6 | JFK | MCO | N593JB | B6 | 2004 | Fixed wing multi engine | AIRBUS                        | A320-232    |  2 | 200 | NA | Turbo-fan |\n",
       "| 2013 | 1 | 1 | 6 | LGA | ORD | N3ALAA | AA |   NA | NA                      | NA                            | NA          | NA |  NA | NA | NA        |\n",
       "| 2013 | 1 | 1 | 6 | JFK | PBI | N793JB | B6 | 2011 | Fixed wing multi engine | AIRBUS                        | A320-232    |  2 | 200 | NA | Turbo-fan |\n",
       "| 2013 | 1 | 1 | 6 | JFK | TPA | N657JB | B6 | 2007 | Fixed wing multi engine | AIRBUS                        | A320-232    |  2 | 200 | NA | Turbo-fan |\n",
       "| 2013 | 1 | 1 | 6 | JFK | LAX | N29129 | UA | 1998 | Fixed wing multi engine | BOEING                        | 757-224     |  2 | 178 | NA | Turbo-jet |\n",
       "| 2013 | 1 | 1 | 6 | EWR | SFO | N53441 | UA |   NA | Fixed wing multi engine | BOEING                        | 737-924ER   |  2 | 191 | NA | Turbo-fan |\n",
       "| 2013 | 1 | 1 | 6 | LGA | DFW | N3DUAA | AA |   NA | NA                      | NA                            | NA          | NA |  NA | NA | NA        |\n",
       "| 2013 | 1 | 1 | 5 | JFK | BOS | N708JB | B6 | 2008 | Fixed wing multi engine | AIRBUS                        | A320-232    |  2 | 200 | NA | Turbo-fan |\n",
       "| 2013 | 1 | 1 | 6 | EWR | LAS | N76515 | UA | 2008 | Fixed wing multi engine | BOEING                        | 737-824     |  2 | 149 | NA | Turbo-fan |\n",
       "| 2013 | 1 | 1 | 6 | LGA | FLL | N595JB | B6 | 2004 | Fixed wing multi engine | AIRBUS                        | A320-232    |  2 | 200 | NA | Turbo-fan |\n",
       "| 2013 | 1 | 1 | 6 | LGA | ATL | N542MQ | MQ |   NA | NA                      | NA                            | NA          | NA |  NA | NA | NA        |\n",
       "| 2013 | 1 | 1 | 6 | EWR | PBI | N644JB | B6 | 2006 | Fixed wing multi engine | AIRBUS                        | A320-232    |  2 | 200 | NA | Turbo-fan |\n",
       "| 2013 | 1 | 1 | 6 | LGA | MSP | N971DL | DL | 1991 | Fixed wing multi engine | MCDONNELL DOUGLAS AIRCRAFT CO | MD-88       |  2 | 142 | NA | Turbo-fan |\n",
       "| 2013 | 1 | 1 | 6 | LGA | DTW | N730MQ | MQ |   NA | NA                      | NA                            | NA          | NA |  NA | NA | NA        |\n",
       "| 2013 | 1 | 1 | 6 | EWR | MIA | N633AA | AA | 1990 | Fixed wing multi engine | BOEING                        | 757-223     |  2 | 178 | NA | Turbo-fan |\n",
       "| 2013 | 1 | 1 | 6 | JFK | ATL | N3739P | DL | 2000 | Fixed wing multi engine | BOEING                        | 737-832     |  2 | 189 | NA | Turbo-jet |\n",
       "| 2013 | 1 | 1 | 6 | EWR | MIA | N53442 | UA | 2009 | Fixed wing multi engine | BOEING                        | 737-924ER   |  2 | 191 | NA | Turbo-fan |\n",
       "| 2013 | 1 | 1 | 6 | EWR | ORD | N9EAMQ | MQ |   NA | NA                      | NA                            | NA          | NA |  NA | NA | NA        |\n",
       "| 2013 | 1 | 1 | 6 | JFK | SFO | N532UA | UA |   NA | NA                      | NA                            | NA          | NA |  NA | NA | NA        |\n",
       "| 2013 | 1 | 1 | 6 | JFK | RSW | N635JB | B6 | 2006 | Fixed wing multi engine | AIRBUS                        | A320-232    |  2 | 200 | NA | Turbo-fan |\n",
       "| 2013 | 1 | 1 | 6 | JFK | SJU | N794JB | B6 | 2011 | Fixed wing multi engine | AIRBUS                        | A320-232    |  2 | 200 | NA | Turbo-fan |\n",
       "| 2013 | 1 | 1 | 6 | EWR | ATL | N326NB | DL | 2001 | Fixed wing multi engine | AIRBUS INDUSTRIE              | A319-114    |  2 | 145 | NA | Turbo-fan |\n",
       "| ⋮ | ⋮ | ⋮ | ⋮ | ⋮ | ⋮ | ⋮ | ⋮ | ⋮ | ⋮ | ⋮ | ⋮ | ⋮ | ⋮ | ⋮ | ⋮ |\n",
       "| 2013 | 9 | 30 | 21 | LGA | CHO | N712EV | EV | 2002 | Fixed wing multi engine | BOMBARDIER INC   | CL-600-2C10     |  2 |  80 | NA | Turbo-fan |\n",
       "| 2013 | 9 | 30 | 21 | EWR | CLT | N16546 | EV | 2002 | Fixed wing multi engine | EMBRAER          | EMB-145LR       |  2 |  55 | NA | Turbo-fan |\n",
       "| 2013 | 9 | 30 | 21 | JFK | DEN | N807JB | B6 | 2012 | Fixed wing multi engine | AIRBUS           | A320-232        |  2 | 200 | NA | Turbo-fan |\n",
       "| 2013 | 9 | 30 | 20 | LGA | RIC | N751EV | EV | 2004 | Fixed wing multi engine | BOMBARDIER INC   | CL-600-2C10     |  2 |  80 | NA | Turbo-fan |\n",
       "| 2013 | 9 | 30 | 21 | JFK | DCA | N807MQ | MQ |   NA | NA                      | NA               | NA              | NA |  NA | NA | NA        |\n",
       "| 2013 | 9 | 30 | 21 | JFK | LAX | N335AA | AA | 1987 | Fixed wing multi engine | BOEING           | 767-223         |  2 | 255 | NA | Turbo-fan |\n",
       "| 2013 | 9 | 30 | 21 | EWR | PWM | N12957 | EV | 1998 | Fixed wing multi engine | EMBRAER          | EMB-145LR       |  2 |  55 | NA | Turbo-fan |\n",
       "| 2013 | 9 | 30 | 21 | JFK | SJU | N633JB | B6 | 2006 | Fixed wing multi engine | AIRBUS           | A320-232        |  2 | 200 | NA | Turbo-fan |\n",
       "| 2013 | 9 | 30 | 21 | LGA | FLL | N627JB | B6 | 2005 | Fixed wing multi engine | AIRBUS           | A320-232        |  2 | 200 | NA | Turbo-fan |\n",
       "| 2013 | 9 | 30 | 21 | EWR | BOS | N813UA | UA | 1998 | Fixed wing multi engine | AIRBUS INDUSTRIE | A319-131        |  2 | 179 | NA | Turbo-jet |\n",
       "| 2013 | 9 | 30 | 21 | EWR | MHT | N10575 | EV | 2002 | Fixed wing multi engine | EMBRAER          | EMB-145LR       |  2 |  55 | NA | Turbo-fan |\n",
       "| 2013 | 9 | 30 | 18 | JFK | BUF | N906XJ | 9E | 2007 | Fixed wing multi engine | BOMBARDIER INC   | CL-600-2D24     |  2 |  95 | NA | Turbo-fan |\n",
       "| 2013 | 9 | 30 | 22 | LGA | BGR | N722EV | EV | 2003 | Fixed wing multi engine | BOMBARDIER INC   | CL-600-2C10     |  2 |  80 | NA | Turbo-fan |\n",
       "| 2013 | 9 | 30 | 21 | LGA | BNA | N532MQ | MQ |   NA | NA                      | NA               | NA              | NA |  NA | NA | NA        |\n",
       "| 2013 | 9 | 30 | 20 | EWR | STL | N12145 | EV | 2003 | Fixed wing multi engine | EMBRAER          | EMB-145XR       |  2 |  55 | NA | Turbo-fan |\n",
       "| 2013 | 9 | 30 | 22 | JFK | PWM | N193JB | B6 | 2005 | Fixed wing multi engine | EMBRAER          | ERJ 190-100 IGW |  2 |  20 | NA | Turbo-fan |\n",
       "| 2013 | 9 | 30 | 21 | EWR | SFO | N578UA | UA | 1993 | Fixed wing multi engine | BOEING           | 757-222         |  2 | 178 | NA | Turbo-jet |\n",
       "| 2013 | 9 | 30 | 20 | JFK | MCO | N804JB | B6 | 2012 | Fixed wing multi engine | AIRBUS           | A320-232        |  2 | 200 | NA | Turbo-fan |\n",
       "| 2013 | 9 | 30 | 22 | JFK | BTV | N318JB | B6 | 2010 | Fixed wing multi engine | EMBRAER          | ERJ 190-100 IGW |  2 |  20 | NA | Turbo-fan |\n",
       "| 2013 | 9 | 30 | 22 | JFK | SYR | N354JB | B6 | 2013 | Fixed wing multi engine | EMBRAER          | ERJ 190-100 IGW |  2 |  20 | NA | Turbo-fan |\n",
       "| 2013 | 9 | 30 | 22 | JFK | BUF | N281JB | B6 | 2007 | Fixed wing multi engine | EMBRAER          | ERJ 190-100 IGW |  2 |  20 | NA | Turbo-fan |\n",
       "| 2013 | 9 | 30 | 22 | JFK | ROC | N346JB | B6 | 2011 | Fixed wing multi engine | EMBRAER          | ERJ 190-100 IGW |  2 |  20 | NA | Turbo-fan |\n",
       "| 2013 | 9 | 30 | 22 | JFK | BOS | N565JB | B6 | 2003 | Fixed wing multi engine | AIRBUS           | A320-232        |  2 | 200 | NA | Turbo-fan |\n",
       "| 2013 | 9 | 30 | 23 | JFK | PSE | N516JB | B6 | 2000 | Fixed wing multi engine | AIRBUS INDUSTRIE | A320-232        |  2 | 200 | NA | Turbo-fan |\n",
       "| 2013 | 9 | 30 | 18 | LGA | BNA | N740EV | EV | 2004 | Fixed wing multi engine | BOMBARDIER INC   | CL-600-2C10     |  2 |  80 | NA | Turbo-fan |\n",
       "| 2013 | 9 | 30 | 14 | JFK | DCA | NA     | 9E |   NA | NA                      | NA               | NA              | NA |  NA | NA | NA        |\n",
       "| 2013 | 9 | 30 | 22 | LGA | SYR | NA     | 9E |   NA | NA                      | NA               | NA              | NA |  NA | NA | NA        |\n",
       "| 2013 | 9 | 30 | 12 | LGA | BNA | N535MQ | MQ |   NA | NA                      | NA               | NA              | NA |  NA | NA | NA        |\n",
       "| 2013 | 9 | 30 | 11 | LGA | CLE | N511MQ | MQ |   NA | NA                      | NA               | NA              | NA |  NA | NA | NA        |\n",
       "| 2013 | 9 | 30 |  8 | LGA | RDU | N839MQ | MQ |   NA | NA                      | NA               | NA              | NA |  NA | NA | NA        |\n",
       "\n"
      ],
      "text/plain": [
       "       year.x month day hour origin dest tailnum carrier year.y\n",
       "1      2013   1     1   5    EWR    IAH  N14228  UA      1999  \n",
       "2      2013   1     1   5    LGA    IAH  N24211  UA      1998  \n",
       "3      2013   1     1   5    JFK    MIA  N619AA  AA      1990  \n",
       "4      2013   1     1   5    JFK    BQN  N804JB  B6      2012  \n",
       "5      2013   1     1   6    LGA    ATL  N668DN  DL      1991  \n",
       "6      2013   1     1   5    EWR    ORD  N39463  UA      2012  \n",
       "7      2013   1     1   6    EWR    FLL  N516JB  B6      2000  \n",
       "8      2013   1     1   6    LGA    IAD  N829AS  EV      1998  \n",
       "9      2013   1     1   6    JFK    MCO  N593JB  B6      2004  \n",
       "10     2013   1     1   6    LGA    ORD  N3ALAA  AA        NA  \n",
       "11     2013   1     1   6    JFK    PBI  N793JB  B6      2011  \n",
       "12     2013   1     1   6    JFK    TPA  N657JB  B6      2007  \n",
       "13     2013   1     1   6    JFK    LAX  N29129  UA      1998  \n",
       "14     2013   1     1   6    EWR    SFO  N53441  UA        NA  \n",
       "15     2013   1     1   6    LGA    DFW  N3DUAA  AA        NA  \n",
       "16     2013   1     1   5    JFK    BOS  N708JB  B6      2008  \n",
       "17     2013   1     1   6    EWR    LAS  N76515  UA      2008  \n",
       "18     2013   1     1   6    LGA    FLL  N595JB  B6      2004  \n",
       "19     2013   1     1   6    LGA    ATL  N542MQ  MQ        NA  \n",
       "20     2013   1     1   6    EWR    PBI  N644JB  B6      2006  \n",
       "21     2013   1     1   6    LGA    MSP  N971DL  DL      1991  \n",
       "22     2013   1     1   6    LGA    DTW  N730MQ  MQ        NA  \n",
       "23     2013   1     1   6    EWR    MIA  N633AA  AA      1990  \n",
       "24     2013   1     1   6    JFK    ATL  N3739P  DL      2000  \n",
       "25     2013   1     1   6    EWR    MIA  N53442  UA      2009  \n",
       "26     2013   1     1   6    EWR    ORD  N9EAMQ  MQ        NA  \n",
       "27     2013   1     1   6    JFK    SFO  N532UA  UA        NA  \n",
       "28     2013   1     1   6    JFK    RSW  N635JB  B6      2006  \n",
       "29     2013   1     1   6    JFK    SJU  N794JB  B6      2011  \n",
       "30     2013   1     1   6    EWR    ATL  N326NB  DL      2001  \n",
       "⋮      ⋮      ⋮     ⋮   ⋮    ⋮      ⋮    ⋮       ⋮       ⋮     \n",
       "336747 2013   9     30  21   LGA    CHO  N712EV  EV      2002  \n",
       "336748 2013   9     30  21   EWR    CLT  N16546  EV      2002  \n",
       "336749 2013   9     30  21   JFK    DEN  N807JB  B6      2012  \n",
       "336750 2013   9     30  20   LGA    RIC  N751EV  EV      2004  \n",
       "336751 2013   9     30  21   JFK    DCA  N807MQ  MQ        NA  \n",
       "336752 2013   9     30  21   JFK    LAX  N335AA  AA      1987  \n",
       "336753 2013   9     30  21   EWR    PWM  N12957  EV      1998  \n",
       "336754 2013   9     30  21   JFK    SJU  N633JB  B6      2006  \n",
       "336755 2013   9     30  21   LGA    FLL  N627JB  B6      2005  \n",
       "336756 2013   9     30  21   EWR    BOS  N813UA  UA      1998  \n",
       "336757 2013   9     30  21   EWR    MHT  N10575  EV      2002  \n",
       "336758 2013   9     30  18   JFK    BUF  N906XJ  9E      2007  \n",
       "336759 2013   9     30  22   LGA    BGR  N722EV  EV      2003  \n",
       "336760 2013   9     30  21   LGA    BNA  N532MQ  MQ        NA  \n",
       "336761 2013   9     30  20   EWR    STL  N12145  EV      2003  \n",
       "336762 2013   9     30  22   JFK    PWM  N193JB  B6      2005  \n",
       "336763 2013   9     30  21   EWR    SFO  N578UA  UA      1993  \n",
       "336764 2013   9     30  20   JFK    MCO  N804JB  B6      2012  \n",
       "336765 2013   9     30  22   JFK    BTV  N318JB  B6      2010  \n",
       "336766 2013   9     30  22   JFK    SYR  N354JB  B6      2013  \n",
       "336767 2013   9     30  22   JFK    BUF  N281JB  B6      2007  \n",
       "336768 2013   9     30  22   JFK    ROC  N346JB  B6      2011  \n",
       "336769 2013   9     30  22   JFK    BOS  N565JB  B6      2003  \n",
       "336770 2013   9     30  23   JFK    PSE  N516JB  B6      2000  \n",
       "336771 2013   9     30  18   LGA    BNA  N740EV  EV      2004  \n",
       "336772 2013   9     30  14   JFK    DCA  NA      9E        NA  \n",
       "336773 2013   9     30  22   LGA    SYR  NA      9E        NA  \n",
       "336774 2013   9     30  12   LGA    BNA  N535MQ  MQ        NA  \n",
       "336775 2013   9     30  11   LGA    CLE  N511MQ  MQ        NA  \n",
       "336776 2013   9     30   8   LGA    RDU  N839MQ  MQ        NA  \n",
       "       type                    manufacturer                  model          \n",
       "1      Fixed wing multi engine BOEING                        737-824        \n",
       "2      Fixed wing multi engine BOEING                        737-824        \n",
       "3      Fixed wing multi engine BOEING                        757-223        \n",
       "4      Fixed wing multi engine AIRBUS                        A320-232       \n",
       "5      Fixed wing multi engine BOEING                        757-232        \n",
       "6      Fixed wing multi engine BOEING                        737-924ER      \n",
       "7      Fixed wing multi engine AIRBUS INDUSTRIE              A320-232       \n",
       "8      Fixed wing multi engine CANADAIR                      CL-600-2B19    \n",
       "9      Fixed wing multi engine AIRBUS                        A320-232       \n",
       "10     NA                      NA                            NA             \n",
       "11     Fixed wing multi engine AIRBUS                        A320-232       \n",
       "12     Fixed wing multi engine AIRBUS                        A320-232       \n",
       "13     Fixed wing multi engine BOEING                        757-224        \n",
       "14     Fixed wing multi engine BOEING                        737-924ER      \n",
       "15     NA                      NA                            NA             \n",
       "16     Fixed wing multi engine AIRBUS                        A320-232       \n",
       "17     Fixed wing multi engine BOEING                        737-824        \n",
       "18     Fixed wing multi engine AIRBUS                        A320-232       \n",
       "19     NA                      NA                            NA             \n",
       "20     Fixed wing multi engine AIRBUS                        A320-232       \n",
       "21     Fixed wing multi engine MCDONNELL DOUGLAS AIRCRAFT CO MD-88          \n",
       "22     NA                      NA                            NA             \n",
       "23     Fixed wing multi engine BOEING                        757-223        \n",
       "24     Fixed wing multi engine BOEING                        737-832        \n",
       "25     Fixed wing multi engine BOEING                        737-924ER      \n",
       "26     NA                      NA                            NA             \n",
       "27     NA                      NA                            NA             \n",
       "28     Fixed wing multi engine AIRBUS                        A320-232       \n",
       "29     Fixed wing multi engine AIRBUS                        A320-232       \n",
       "30     Fixed wing multi engine AIRBUS INDUSTRIE              A319-114       \n",
       "⋮      ⋮                       ⋮                             ⋮              \n",
       "336747 Fixed wing multi engine BOMBARDIER INC                CL-600-2C10    \n",
       "336748 Fixed wing multi engine EMBRAER                       EMB-145LR      \n",
       "336749 Fixed wing multi engine AIRBUS                        A320-232       \n",
       "336750 Fixed wing multi engine BOMBARDIER INC                CL-600-2C10    \n",
       "336751 NA                      NA                            NA             \n",
       "336752 Fixed wing multi engine BOEING                        767-223        \n",
       "336753 Fixed wing multi engine EMBRAER                       EMB-145LR      \n",
       "336754 Fixed wing multi engine AIRBUS                        A320-232       \n",
       "336755 Fixed wing multi engine AIRBUS                        A320-232       \n",
       "336756 Fixed wing multi engine AIRBUS INDUSTRIE              A319-131       \n",
       "336757 Fixed wing multi engine EMBRAER                       EMB-145LR      \n",
       "336758 Fixed wing multi engine BOMBARDIER INC                CL-600-2D24    \n",
       "336759 Fixed wing multi engine BOMBARDIER INC                CL-600-2C10    \n",
       "336760 NA                      NA                            NA             \n",
       "336761 Fixed wing multi engine EMBRAER                       EMB-145XR      \n",
       "336762 Fixed wing multi engine EMBRAER                       ERJ 190-100 IGW\n",
       "336763 Fixed wing multi engine BOEING                        757-222        \n",
       "336764 Fixed wing multi engine AIRBUS                        A320-232       \n",
       "336765 Fixed wing multi engine EMBRAER                       ERJ 190-100 IGW\n",
       "336766 Fixed wing multi engine EMBRAER                       ERJ 190-100 IGW\n",
       "336767 Fixed wing multi engine EMBRAER                       ERJ 190-100 IGW\n",
       "336768 Fixed wing multi engine EMBRAER                       ERJ 190-100 IGW\n",
       "336769 Fixed wing multi engine AIRBUS                        A320-232       \n",
       "336770 Fixed wing multi engine AIRBUS INDUSTRIE              A320-232       \n",
       "336771 Fixed wing multi engine BOMBARDIER INC                CL-600-2C10    \n",
       "336772 NA                      NA                            NA             \n",
       "336773 NA                      NA                            NA             \n",
       "336774 NA                      NA                            NA             \n",
       "336775 NA                      NA                            NA             \n",
       "336776 NA                      NA                            NA             \n",
       "       engines seats speed engine   \n",
       "1       2      149   NA    Turbo-fan\n",
       "2       2      149   NA    Turbo-fan\n",
       "3       2      178   NA    Turbo-fan\n",
       "4       2      200   NA    Turbo-fan\n",
       "5       2      178   NA    Turbo-fan\n",
       "6       2      191   NA    Turbo-fan\n",
       "7       2      200   NA    Turbo-fan\n",
       "8       2       55   NA    Turbo-fan\n",
       "9       2      200   NA    Turbo-fan\n",
       "10     NA       NA   NA    NA       \n",
       "11      2      200   NA    Turbo-fan\n",
       "12      2      200   NA    Turbo-fan\n",
       "13      2      178   NA    Turbo-jet\n",
       "14      2      191   NA    Turbo-fan\n",
       "15     NA       NA   NA    NA       \n",
       "16      2      200   NA    Turbo-fan\n",
       "17      2      149   NA    Turbo-fan\n",
       "18      2      200   NA    Turbo-fan\n",
       "19     NA       NA   NA    NA       \n",
       "20      2      200   NA    Turbo-fan\n",
       "21      2      142   NA    Turbo-fan\n",
       "22     NA       NA   NA    NA       \n",
       "23      2      178   NA    Turbo-fan\n",
       "24      2      189   NA    Turbo-jet\n",
       "25      2      191   NA    Turbo-fan\n",
       "26     NA       NA   NA    NA       \n",
       "27     NA       NA   NA    NA       \n",
       "28      2      200   NA    Turbo-fan\n",
       "29      2      200   NA    Turbo-fan\n",
       "30      2      145   NA    Turbo-fan\n",
       "⋮      ⋮       ⋮     ⋮     ⋮        \n",
       "336747  2       80   NA    Turbo-fan\n",
       "336748  2       55   NA    Turbo-fan\n",
       "336749  2      200   NA    Turbo-fan\n",
       "336750  2       80   NA    Turbo-fan\n",
       "336751 NA       NA   NA    NA       \n",
       "336752  2      255   NA    Turbo-fan\n",
       "336753  2       55   NA    Turbo-fan\n",
       "336754  2      200   NA    Turbo-fan\n",
       "336755  2      200   NA    Turbo-fan\n",
       "336756  2      179   NA    Turbo-jet\n",
       "336757  2       55   NA    Turbo-fan\n",
       "336758  2       95   NA    Turbo-fan\n",
       "336759  2       80   NA    Turbo-fan\n",
       "336760 NA       NA   NA    NA       \n",
       "336761  2       55   NA    Turbo-fan\n",
       "336762  2       20   NA    Turbo-fan\n",
       "336763  2      178   NA    Turbo-jet\n",
       "336764  2      200   NA    Turbo-fan\n",
       "336765  2       20   NA    Turbo-fan\n",
       "336766  2       20   NA    Turbo-fan\n",
       "336767  2       20   NA    Turbo-fan\n",
       "336768  2       20   NA    Turbo-fan\n",
       "336769  2      200   NA    Turbo-fan\n",
       "336770  2      200   NA    Turbo-fan\n",
       "336771  2       80   NA    Turbo-fan\n",
       "336772 NA       NA   NA    NA       \n",
       "336773 NA       NA   NA    NA       \n",
       "336774 NA       NA   NA    NA       \n",
       "336775 NA       NA   NA    NA       \n",
       "336776 NA       NA   NA    NA       "
      ]
     },
     "metadata": {},
     "output_type": "display_data"
    }
   ],
   "source": [
    "flights2 %>% \n",
    "  left_join(planes, by = \"tailnum\")"
   ]
  },
  {
   "cell_type": "markdown",
   "metadata": {},
   "source": [
    "Note that the year variables (which appear in both input data frames, but are not constrained to be equal) are disambiguated in the output with a suffix."
   ]
  },
  {
   "cell_type": "markdown",
   "metadata": {},
   "source": [
    "3. A named character vector: by = c(\"a\" = \"b\"). This will match variable a in table x to variable b in table y. The variables from x will be used in the output. For example, if we want to draw a map we need to combine the flights data with the airports data which contains the location (lat and lon) of each airport. Each flight has an origin and destination airport, so we need to specify which one we want to join to:"
   ]
  },
  {
   "cell_type": "code",
   "execution_count": 29,
   "metadata": {},
   "outputs": [
    {
     "data": {
      "text/html": [
       "<table>\n",
       "<caption>A tibble: 336776 × 15</caption>\n",
       "<thead>\n",
       "\t<tr><th scope=col>year</th><th scope=col>month</th><th scope=col>day</th><th scope=col>hour</th><th scope=col>origin</th><th scope=col>dest</th><th scope=col>tailnum</th><th scope=col>carrier</th><th scope=col>name</th><th scope=col>lat</th><th scope=col>lon</th><th scope=col>alt</th><th scope=col>tz</th><th scope=col>dst</th><th scope=col>tzone</th></tr>\n",
       "\t<tr><th scope=col>&lt;int&gt;</th><th scope=col>&lt;int&gt;</th><th scope=col>&lt;int&gt;</th><th scope=col>&lt;dbl&gt;</th><th scope=col>&lt;chr&gt;</th><th scope=col>&lt;chr&gt;</th><th scope=col>&lt;chr&gt;</th><th scope=col>&lt;chr&gt;</th><th scope=col>&lt;chr&gt;</th><th scope=col>&lt;dbl&gt;</th><th scope=col>&lt;dbl&gt;</th><th scope=col>&lt;dbl&gt;</th><th scope=col>&lt;dbl&gt;</th><th scope=col>&lt;chr&gt;</th><th scope=col>&lt;chr&gt;</th></tr>\n",
       "</thead>\n",
       "<tbody>\n",
       "\t<tr><td>2013</td><td>1</td><td>1</td><td>5</td><td>EWR</td><td>IAH</td><td>N14228</td><td>UA</td><td>George Bush Intercontinental      </td><td>29.98443</td><td> -95.34144</td><td>  97</td><td>-6</td><td>A </td><td>America/Chicago    </td></tr>\n",
       "\t<tr><td>2013</td><td>1</td><td>1</td><td>5</td><td>LGA</td><td>IAH</td><td>N24211</td><td>UA</td><td>George Bush Intercontinental      </td><td>29.98443</td><td> -95.34144</td><td>  97</td><td>-6</td><td>A </td><td>America/Chicago    </td></tr>\n",
       "\t<tr><td>2013</td><td>1</td><td>1</td><td>5</td><td>JFK</td><td>MIA</td><td>N619AA</td><td>AA</td><td>Miami Intl                        </td><td>25.79325</td><td> -80.29056</td><td>   8</td><td>-5</td><td>A </td><td>America/New_York   </td></tr>\n",
       "\t<tr><td>2013</td><td>1</td><td>1</td><td>5</td><td>JFK</td><td>BQN</td><td>N804JB</td><td>B6</td><td>NA                                </td><td>      NA</td><td>        NA</td><td>  NA</td><td>NA</td><td>NA</td><td>NA                 </td></tr>\n",
       "\t<tr><td>2013</td><td>1</td><td>1</td><td>6</td><td>LGA</td><td>ATL</td><td>N668DN</td><td>DL</td><td>Hartsfield Jackson Atlanta Intl   </td><td>33.63672</td><td> -84.42807</td><td>1026</td><td>-5</td><td>A </td><td>America/New_York   </td></tr>\n",
       "\t<tr><td>2013</td><td>1</td><td>1</td><td>5</td><td>EWR</td><td>ORD</td><td>N39463</td><td>UA</td><td>Chicago Ohare Intl                </td><td>41.97860</td><td> -87.90484</td><td> 668</td><td>-6</td><td>A </td><td>America/Chicago    </td></tr>\n",
       "\t<tr><td>2013</td><td>1</td><td>1</td><td>6</td><td>EWR</td><td>FLL</td><td>N516JB</td><td>B6</td><td>Fort Lauderdale Hollywood Intl    </td><td>26.07258</td><td> -80.15275</td><td>   9</td><td>-5</td><td>A </td><td>America/New_York   </td></tr>\n",
       "\t<tr><td>2013</td><td>1</td><td>1</td><td>6</td><td>LGA</td><td>IAD</td><td>N829AS</td><td>EV</td><td>Washington Dulles Intl            </td><td>38.94453</td><td> -77.45581</td><td> 313</td><td>-5</td><td>A </td><td>America/New_York   </td></tr>\n",
       "\t<tr><td>2013</td><td>1</td><td>1</td><td>6</td><td>JFK</td><td>MCO</td><td>N593JB</td><td>B6</td><td>Orlando Intl                      </td><td>28.42939</td><td> -81.30899</td><td>  96</td><td>-5</td><td>A </td><td>America/New_York   </td></tr>\n",
       "\t<tr><td>2013</td><td>1</td><td>1</td><td>6</td><td>LGA</td><td>ORD</td><td>N3ALAA</td><td>AA</td><td>Chicago Ohare Intl                </td><td>41.97860</td><td> -87.90484</td><td> 668</td><td>-6</td><td>A </td><td>America/Chicago    </td></tr>\n",
       "\t<tr><td>2013</td><td>1</td><td>1</td><td>6</td><td>JFK</td><td>PBI</td><td>N793JB</td><td>B6</td><td>Palm Beach Intl                   </td><td>26.68316</td><td> -80.09559</td><td>  19</td><td>-5</td><td>A </td><td>America/New_York   </td></tr>\n",
       "\t<tr><td>2013</td><td>1</td><td>1</td><td>6</td><td>JFK</td><td>TPA</td><td>N657JB</td><td>B6</td><td>Tampa Intl                        </td><td>27.97547</td><td> -82.53325</td><td>  26</td><td>-5</td><td>A </td><td>America/New_York   </td></tr>\n",
       "\t<tr><td>2013</td><td>1</td><td>1</td><td>6</td><td>JFK</td><td>LAX</td><td>N29129</td><td>UA</td><td>Los Angeles Intl                  </td><td>33.94254</td><td>-118.40807</td><td> 126</td><td>-8</td><td>A </td><td>America/Los_Angeles</td></tr>\n",
       "\t<tr><td>2013</td><td>1</td><td>1</td><td>6</td><td>EWR</td><td>SFO</td><td>N53441</td><td>UA</td><td>San Francisco Intl                </td><td>37.61897</td><td>-122.37489</td><td>  13</td><td>-8</td><td>A </td><td>America/Los_Angeles</td></tr>\n",
       "\t<tr><td>2013</td><td>1</td><td>1</td><td>6</td><td>LGA</td><td>DFW</td><td>N3DUAA</td><td>AA</td><td>Dallas Fort Worth Intl            </td><td>32.89683</td><td> -97.03800</td><td> 607</td><td>-6</td><td>A </td><td>America/Chicago    </td></tr>\n",
       "\t<tr><td>2013</td><td>1</td><td>1</td><td>5</td><td>JFK</td><td>BOS</td><td>N708JB</td><td>B6</td><td>General Edward Lawrence Logan Intl</td><td>42.36435</td><td> -71.00518</td><td>  19</td><td>-5</td><td>A </td><td>America/New_York   </td></tr>\n",
       "\t<tr><td>2013</td><td>1</td><td>1</td><td>6</td><td>EWR</td><td>LAS</td><td>N76515</td><td>UA</td><td>Mc Carran Intl                    </td><td>36.08006</td><td>-115.15225</td><td>2141</td><td>-8</td><td>A </td><td>America/Los_Angeles</td></tr>\n",
       "\t<tr><td>2013</td><td>1</td><td>1</td><td>6</td><td>LGA</td><td>FLL</td><td>N595JB</td><td>B6</td><td>Fort Lauderdale Hollywood Intl    </td><td>26.07258</td><td> -80.15275</td><td>   9</td><td>-5</td><td>A </td><td>America/New_York   </td></tr>\n",
       "\t<tr><td>2013</td><td>1</td><td>1</td><td>6</td><td>LGA</td><td>ATL</td><td>N542MQ</td><td>MQ</td><td>Hartsfield Jackson Atlanta Intl   </td><td>33.63672</td><td> -84.42807</td><td>1026</td><td>-5</td><td>A </td><td>America/New_York   </td></tr>\n",
       "\t<tr><td>2013</td><td>1</td><td>1</td><td>6</td><td>EWR</td><td>PBI</td><td>N644JB</td><td>B6</td><td>Palm Beach Intl                   </td><td>26.68316</td><td> -80.09559</td><td>  19</td><td>-5</td><td>A </td><td>America/New_York   </td></tr>\n",
       "\t<tr><td>2013</td><td>1</td><td>1</td><td>6</td><td>LGA</td><td>MSP</td><td>N971DL</td><td>DL</td><td>Minneapolis St Paul Intl          </td><td>44.88196</td><td> -93.22177</td><td> 841</td><td>-6</td><td>A </td><td>America/Chicago    </td></tr>\n",
       "\t<tr><td>2013</td><td>1</td><td>1</td><td>6</td><td>LGA</td><td>DTW</td><td>N730MQ</td><td>MQ</td><td>Detroit Metro Wayne Co            </td><td>42.21244</td><td> -83.35339</td><td> 645</td><td>-5</td><td>A </td><td>America/New_York   </td></tr>\n",
       "\t<tr><td>2013</td><td>1</td><td>1</td><td>6</td><td>EWR</td><td>MIA</td><td>N633AA</td><td>AA</td><td>Miami Intl                        </td><td>25.79325</td><td> -80.29056</td><td>   8</td><td>-5</td><td>A </td><td>America/New_York   </td></tr>\n",
       "\t<tr><td>2013</td><td>1</td><td>1</td><td>6</td><td>JFK</td><td>ATL</td><td>N3739P</td><td>DL</td><td>Hartsfield Jackson Atlanta Intl   </td><td>33.63672</td><td> -84.42807</td><td>1026</td><td>-5</td><td>A </td><td>America/New_York   </td></tr>\n",
       "\t<tr><td>2013</td><td>1</td><td>1</td><td>6</td><td>EWR</td><td>MIA</td><td>N53442</td><td>UA</td><td>Miami Intl                        </td><td>25.79325</td><td> -80.29056</td><td>   8</td><td>-5</td><td>A </td><td>America/New_York   </td></tr>\n",
       "\t<tr><td>2013</td><td>1</td><td>1</td><td>6</td><td>EWR</td><td>ORD</td><td>N9EAMQ</td><td>MQ</td><td>Chicago Ohare Intl                </td><td>41.97860</td><td> -87.90484</td><td> 668</td><td>-6</td><td>A </td><td>America/Chicago    </td></tr>\n",
       "\t<tr><td>2013</td><td>1</td><td>1</td><td>6</td><td>JFK</td><td>SFO</td><td>N532UA</td><td>UA</td><td>San Francisco Intl                </td><td>37.61897</td><td>-122.37489</td><td>  13</td><td>-8</td><td>A </td><td>America/Los_Angeles</td></tr>\n",
       "\t<tr><td>2013</td><td>1</td><td>1</td><td>6</td><td>JFK</td><td>RSW</td><td>N635JB</td><td>B6</td><td>Southwest Florida Intl            </td><td>26.53617</td><td> -81.75517</td><td>  30</td><td>-5</td><td>A </td><td>America/New_York   </td></tr>\n",
       "\t<tr><td>2013</td><td>1</td><td>1</td><td>6</td><td>JFK</td><td>SJU</td><td>N794JB</td><td>B6</td><td>NA                                </td><td>      NA</td><td>        NA</td><td>  NA</td><td>NA</td><td>NA</td><td>NA                 </td></tr>\n",
       "\t<tr><td>2013</td><td>1</td><td>1</td><td>6</td><td>EWR</td><td>ATL</td><td>N326NB</td><td>DL</td><td>Hartsfield Jackson Atlanta Intl   </td><td>33.63672</td><td> -84.42807</td><td>1026</td><td>-5</td><td>A </td><td>America/New_York   </td></tr>\n",
       "\t<tr><td>⋮</td><td>⋮</td><td>⋮</td><td>⋮</td><td>⋮</td><td>⋮</td><td>⋮</td><td>⋮</td><td>⋮</td><td>⋮</td><td>⋮</td><td>⋮</td><td>⋮</td><td>⋮</td><td>⋮</td></tr>\n",
       "\t<tr><td>2013</td><td>9</td><td>30</td><td>21</td><td>LGA</td><td>CHO</td><td>N712EV</td><td>EV</td><td>Charlottesville-Albemarle         </td><td>38.13864</td><td> -78.45286</td><td> 639</td><td>-5</td><td>A </td><td>America/New_York   </td></tr>\n",
       "\t<tr><td>2013</td><td>9</td><td>30</td><td>21</td><td>EWR</td><td>CLT</td><td>N16546</td><td>EV</td><td>Charlotte Douglas Intl            </td><td>35.21400</td><td> -80.94314</td><td> 748</td><td>-5</td><td>A </td><td>America/New_York   </td></tr>\n",
       "\t<tr><td>2013</td><td>9</td><td>30</td><td>21</td><td>JFK</td><td>DEN</td><td>N807JB</td><td>B6</td><td>Denver Intl                       </td><td>39.86166</td><td>-104.67318</td><td>5431</td><td>-7</td><td>A </td><td>America/Denver     </td></tr>\n",
       "\t<tr><td>2013</td><td>9</td><td>30</td><td>20</td><td>LGA</td><td>RIC</td><td>N751EV</td><td>EV</td><td>Richmond Intl                     </td><td>37.50517</td><td> -77.31967</td><td> 167</td><td>-5</td><td>A </td><td>America/New_York   </td></tr>\n",
       "\t<tr><td>2013</td><td>9</td><td>30</td><td>21</td><td>JFK</td><td>DCA</td><td>N807MQ</td><td>MQ</td><td>Ronald Reagan Washington Natl     </td><td>38.85208</td><td> -77.03772</td><td>  15</td><td>-5</td><td>A </td><td>America/New_York   </td></tr>\n",
       "\t<tr><td>2013</td><td>9</td><td>30</td><td>21</td><td>JFK</td><td>LAX</td><td>N335AA</td><td>AA</td><td>Los Angeles Intl                  </td><td>33.94254</td><td>-118.40807</td><td> 126</td><td>-8</td><td>A </td><td>America/Los_Angeles</td></tr>\n",
       "\t<tr><td>2013</td><td>9</td><td>30</td><td>21</td><td>EWR</td><td>PWM</td><td>N12957</td><td>EV</td><td>Portland Intl Jetport             </td><td>43.64616</td><td> -70.30928</td><td>  77</td><td>-5</td><td>A </td><td>America/New_York   </td></tr>\n",
       "\t<tr><td>2013</td><td>9</td><td>30</td><td>21</td><td>JFK</td><td>SJU</td><td>N633JB</td><td>B6</td><td>NA                                </td><td>      NA</td><td>        NA</td><td>  NA</td><td>NA</td><td>NA</td><td>NA                 </td></tr>\n",
       "\t<tr><td>2013</td><td>9</td><td>30</td><td>21</td><td>LGA</td><td>FLL</td><td>N627JB</td><td>B6</td><td>Fort Lauderdale Hollywood Intl    </td><td>26.07258</td><td> -80.15275</td><td>   9</td><td>-5</td><td>A </td><td>America/New_York   </td></tr>\n",
       "\t<tr><td>2013</td><td>9</td><td>30</td><td>21</td><td>EWR</td><td>BOS</td><td>N813UA</td><td>UA</td><td>General Edward Lawrence Logan Intl</td><td>42.36435</td><td> -71.00518</td><td>  19</td><td>-5</td><td>A </td><td>America/New_York   </td></tr>\n",
       "\t<tr><td>2013</td><td>9</td><td>30</td><td>21</td><td>EWR</td><td>MHT</td><td>N10575</td><td>EV</td><td>Manchester Regional Airport       </td><td>42.93256</td><td> -71.43567</td><td> 266</td><td>-5</td><td>A </td><td>America/New_York   </td></tr>\n",
       "\t<tr><td>2013</td><td>9</td><td>30</td><td>18</td><td>JFK</td><td>BUF</td><td>N906XJ</td><td>9E</td><td>Buffalo Niagara Intl              </td><td>42.94053</td><td> -78.73217</td><td> 724</td><td>-5</td><td>A </td><td>America/New_York   </td></tr>\n",
       "\t<tr><td>2013</td><td>9</td><td>30</td><td>22</td><td>LGA</td><td>BGR</td><td>N722EV</td><td>EV</td><td>Bangor Intl                       </td><td>44.80744</td><td> -68.82814</td><td> 192</td><td>-5</td><td>A </td><td>America/New_York   </td></tr>\n",
       "\t<tr><td>2013</td><td>9</td><td>30</td><td>21</td><td>LGA</td><td>BNA</td><td>N532MQ</td><td>MQ</td><td>Nashville Intl                    </td><td>36.12447</td><td> -86.67819</td><td> 599</td><td>-6</td><td>A </td><td>America/Chicago    </td></tr>\n",
       "\t<tr><td>2013</td><td>9</td><td>30</td><td>20</td><td>EWR</td><td>STL</td><td>N12145</td><td>EV</td><td>Lambert St Louis Intl             </td><td>38.74870</td><td> -90.37003</td><td> 618</td><td>-6</td><td>A </td><td>America/Chicago    </td></tr>\n",
       "\t<tr><td>2013</td><td>9</td><td>30</td><td>22</td><td>JFK</td><td>PWM</td><td>N193JB</td><td>B6</td><td>Portland Intl Jetport             </td><td>43.64616</td><td> -70.30928</td><td>  77</td><td>-5</td><td>A </td><td>America/New_York   </td></tr>\n",
       "\t<tr><td>2013</td><td>9</td><td>30</td><td>21</td><td>EWR</td><td>SFO</td><td>N578UA</td><td>UA</td><td>San Francisco Intl                </td><td>37.61897</td><td>-122.37489</td><td>  13</td><td>-8</td><td>A </td><td>America/Los_Angeles</td></tr>\n",
       "\t<tr><td>2013</td><td>9</td><td>30</td><td>20</td><td>JFK</td><td>MCO</td><td>N804JB</td><td>B6</td><td>Orlando Intl                      </td><td>28.42939</td><td> -81.30899</td><td>  96</td><td>-5</td><td>A </td><td>America/New_York   </td></tr>\n",
       "\t<tr><td>2013</td><td>9</td><td>30</td><td>22</td><td>JFK</td><td>BTV</td><td>N318JB</td><td>B6</td><td>Burlington Intl                   </td><td>44.47186</td><td> -73.15328</td><td> 335</td><td>-5</td><td>A </td><td>America/New_York   </td></tr>\n",
       "\t<tr><td>2013</td><td>9</td><td>30</td><td>22</td><td>JFK</td><td>SYR</td><td>N354JB</td><td>B6</td><td>Syracuse Hancock Intl             </td><td>43.11119</td><td> -76.10631</td><td> 421</td><td>-5</td><td>A </td><td>America/New_York   </td></tr>\n",
       "\t<tr><td>2013</td><td>9</td><td>30</td><td>22</td><td>JFK</td><td>BUF</td><td>N281JB</td><td>B6</td><td>Buffalo Niagara Intl              </td><td>42.94053</td><td> -78.73217</td><td> 724</td><td>-5</td><td>A </td><td>America/New_York   </td></tr>\n",
       "\t<tr><td>2013</td><td>9</td><td>30</td><td>22</td><td>JFK</td><td>ROC</td><td>N346JB</td><td>B6</td><td>Greater Rochester Intl            </td><td>43.11887</td><td> -77.67239</td><td> 559</td><td>-5</td><td>A </td><td>America/New_York   </td></tr>\n",
       "\t<tr><td>2013</td><td>9</td><td>30</td><td>22</td><td>JFK</td><td>BOS</td><td>N565JB</td><td>B6</td><td>General Edward Lawrence Logan Intl</td><td>42.36435</td><td> -71.00518</td><td>  19</td><td>-5</td><td>A </td><td>America/New_York   </td></tr>\n",
       "\t<tr><td>2013</td><td>9</td><td>30</td><td>23</td><td>JFK</td><td>PSE</td><td>N516JB</td><td>B6</td><td>NA                                </td><td>      NA</td><td>        NA</td><td>  NA</td><td>NA</td><td>NA</td><td>NA                 </td></tr>\n",
       "\t<tr><td>2013</td><td>9</td><td>30</td><td>18</td><td>LGA</td><td>BNA</td><td>N740EV</td><td>EV</td><td>Nashville Intl                    </td><td>36.12447</td><td> -86.67819</td><td> 599</td><td>-6</td><td>A </td><td>America/Chicago    </td></tr>\n",
       "\t<tr><td>2013</td><td>9</td><td>30</td><td>14</td><td>JFK</td><td>DCA</td><td>NA    </td><td>9E</td><td>Ronald Reagan Washington Natl     </td><td>38.85208</td><td> -77.03772</td><td>  15</td><td>-5</td><td>A </td><td>America/New_York   </td></tr>\n",
       "\t<tr><td>2013</td><td>9</td><td>30</td><td>22</td><td>LGA</td><td>SYR</td><td>NA    </td><td>9E</td><td>Syracuse Hancock Intl             </td><td>43.11119</td><td> -76.10631</td><td> 421</td><td>-5</td><td>A </td><td>America/New_York   </td></tr>\n",
       "\t<tr><td>2013</td><td>9</td><td>30</td><td>12</td><td>LGA</td><td>BNA</td><td>N535MQ</td><td>MQ</td><td>Nashville Intl                    </td><td>36.12447</td><td> -86.67819</td><td> 599</td><td>-6</td><td>A </td><td>America/Chicago    </td></tr>\n",
       "\t<tr><td>2013</td><td>9</td><td>30</td><td>11</td><td>LGA</td><td>CLE</td><td>N511MQ</td><td>MQ</td><td>Cleveland Hopkins Intl            </td><td>41.41169</td><td> -81.84979</td><td> 791</td><td>-5</td><td>A </td><td>America/New_York   </td></tr>\n",
       "\t<tr><td>2013</td><td>9</td><td>30</td><td> 8</td><td>LGA</td><td>RDU</td><td>N839MQ</td><td>MQ</td><td>Raleigh Durham Intl               </td><td>35.87764</td><td> -78.78747</td><td> 435</td><td>-5</td><td>A </td><td>America/New_York   </td></tr>\n",
       "</tbody>\n",
       "</table>\n"
      ],
      "text/latex": [
       "A tibble: 336776 × 15\n",
       "\\begin{tabular}{lllllllllllllll}\n",
       " year & month & day & hour & origin & dest & tailnum & carrier & name & lat & lon & alt & tz & dst & tzone\\\\\n",
       " <int> & <int> & <int> & <dbl> & <chr> & <chr> & <chr> & <chr> & <chr> & <dbl> & <dbl> & <dbl> & <dbl> & <chr> & <chr>\\\\\n",
       "\\hline\n",
       "\t 2013 & 1 & 1 & 5 & EWR & IAH & N14228 & UA & George Bush Intercontinental       & 29.98443 &  -95.34144 &   97 & -6 & A  & America/Chicago    \\\\\n",
       "\t 2013 & 1 & 1 & 5 & LGA & IAH & N24211 & UA & George Bush Intercontinental       & 29.98443 &  -95.34144 &   97 & -6 & A  & America/Chicago    \\\\\n",
       "\t 2013 & 1 & 1 & 5 & JFK & MIA & N619AA & AA & Miami Intl                         & 25.79325 &  -80.29056 &    8 & -5 & A  & America/New\\_York   \\\\\n",
       "\t 2013 & 1 & 1 & 5 & JFK & BQN & N804JB & B6 & NA                                 &       NA &         NA &   NA & NA & NA & NA                 \\\\\n",
       "\t 2013 & 1 & 1 & 6 & LGA & ATL & N668DN & DL & Hartsfield Jackson Atlanta Intl    & 33.63672 &  -84.42807 & 1026 & -5 & A  & America/New\\_York   \\\\\n",
       "\t 2013 & 1 & 1 & 5 & EWR & ORD & N39463 & UA & Chicago Ohare Intl                 & 41.97860 &  -87.90484 &  668 & -6 & A  & America/Chicago    \\\\\n",
       "\t 2013 & 1 & 1 & 6 & EWR & FLL & N516JB & B6 & Fort Lauderdale Hollywood Intl     & 26.07258 &  -80.15275 &    9 & -5 & A  & America/New\\_York   \\\\\n",
       "\t 2013 & 1 & 1 & 6 & LGA & IAD & N829AS & EV & Washington Dulles Intl             & 38.94453 &  -77.45581 &  313 & -5 & A  & America/New\\_York   \\\\\n",
       "\t 2013 & 1 & 1 & 6 & JFK & MCO & N593JB & B6 & Orlando Intl                       & 28.42939 &  -81.30899 &   96 & -5 & A  & America/New\\_York   \\\\\n",
       "\t 2013 & 1 & 1 & 6 & LGA & ORD & N3ALAA & AA & Chicago Ohare Intl                 & 41.97860 &  -87.90484 &  668 & -6 & A  & America/Chicago    \\\\\n",
       "\t 2013 & 1 & 1 & 6 & JFK & PBI & N793JB & B6 & Palm Beach Intl                    & 26.68316 &  -80.09559 &   19 & -5 & A  & America/New\\_York   \\\\\n",
       "\t 2013 & 1 & 1 & 6 & JFK & TPA & N657JB & B6 & Tampa Intl                         & 27.97547 &  -82.53325 &   26 & -5 & A  & America/New\\_York   \\\\\n",
       "\t 2013 & 1 & 1 & 6 & JFK & LAX & N29129 & UA & Los Angeles Intl                   & 33.94254 & -118.40807 &  126 & -8 & A  & America/Los\\_Angeles\\\\\n",
       "\t 2013 & 1 & 1 & 6 & EWR & SFO & N53441 & UA & San Francisco Intl                 & 37.61897 & -122.37489 &   13 & -8 & A  & America/Los\\_Angeles\\\\\n",
       "\t 2013 & 1 & 1 & 6 & LGA & DFW & N3DUAA & AA & Dallas Fort Worth Intl             & 32.89683 &  -97.03800 &  607 & -6 & A  & America/Chicago    \\\\\n",
       "\t 2013 & 1 & 1 & 5 & JFK & BOS & N708JB & B6 & General Edward Lawrence Logan Intl & 42.36435 &  -71.00518 &   19 & -5 & A  & America/New\\_York   \\\\\n",
       "\t 2013 & 1 & 1 & 6 & EWR & LAS & N76515 & UA & Mc Carran Intl                     & 36.08006 & -115.15225 & 2141 & -8 & A  & America/Los\\_Angeles\\\\\n",
       "\t 2013 & 1 & 1 & 6 & LGA & FLL & N595JB & B6 & Fort Lauderdale Hollywood Intl     & 26.07258 &  -80.15275 &    9 & -5 & A  & America/New\\_York   \\\\\n",
       "\t 2013 & 1 & 1 & 6 & LGA & ATL & N542MQ & MQ & Hartsfield Jackson Atlanta Intl    & 33.63672 &  -84.42807 & 1026 & -5 & A  & America/New\\_York   \\\\\n",
       "\t 2013 & 1 & 1 & 6 & EWR & PBI & N644JB & B6 & Palm Beach Intl                    & 26.68316 &  -80.09559 &   19 & -5 & A  & America/New\\_York   \\\\\n",
       "\t 2013 & 1 & 1 & 6 & LGA & MSP & N971DL & DL & Minneapolis St Paul Intl           & 44.88196 &  -93.22177 &  841 & -6 & A  & America/Chicago    \\\\\n",
       "\t 2013 & 1 & 1 & 6 & LGA & DTW & N730MQ & MQ & Detroit Metro Wayne Co             & 42.21244 &  -83.35339 &  645 & -5 & A  & America/New\\_York   \\\\\n",
       "\t 2013 & 1 & 1 & 6 & EWR & MIA & N633AA & AA & Miami Intl                         & 25.79325 &  -80.29056 &    8 & -5 & A  & America/New\\_York   \\\\\n",
       "\t 2013 & 1 & 1 & 6 & JFK & ATL & N3739P & DL & Hartsfield Jackson Atlanta Intl    & 33.63672 &  -84.42807 & 1026 & -5 & A  & America/New\\_York   \\\\\n",
       "\t 2013 & 1 & 1 & 6 & EWR & MIA & N53442 & UA & Miami Intl                         & 25.79325 &  -80.29056 &    8 & -5 & A  & America/New\\_York   \\\\\n",
       "\t 2013 & 1 & 1 & 6 & EWR & ORD & N9EAMQ & MQ & Chicago Ohare Intl                 & 41.97860 &  -87.90484 &  668 & -6 & A  & America/Chicago    \\\\\n",
       "\t 2013 & 1 & 1 & 6 & JFK & SFO & N532UA & UA & San Francisco Intl                 & 37.61897 & -122.37489 &   13 & -8 & A  & America/Los\\_Angeles\\\\\n",
       "\t 2013 & 1 & 1 & 6 & JFK & RSW & N635JB & B6 & Southwest Florida Intl             & 26.53617 &  -81.75517 &   30 & -5 & A  & America/New\\_York   \\\\\n",
       "\t 2013 & 1 & 1 & 6 & JFK & SJU & N794JB & B6 & NA                                 &       NA &         NA &   NA & NA & NA & NA                 \\\\\n",
       "\t 2013 & 1 & 1 & 6 & EWR & ATL & N326NB & DL & Hartsfield Jackson Atlanta Intl    & 33.63672 &  -84.42807 & 1026 & -5 & A  & America/New\\_York   \\\\\n",
       "\t ⋮ & ⋮ & ⋮ & ⋮ & ⋮ & ⋮ & ⋮ & ⋮ & ⋮ & ⋮ & ⋮ & ⋮ & ⋮ & ⋮ & ⋮\\\\\n",
       "\t 2013 & 9 & 30 & 21 & LGA & CHO & N712EV & EV & Charlottesville-Albemarle          & 38.13864 &  -78.45286 &  639 & -5 & A  & America/New\\_York   \\\\\n",
       "\t 2013 & 9 & 30 & 21 & EWR & CLT & N16546 & EV & Charlotte Douglas Intl             & 35.21400 &  -80.94314 &  748 & -5 & A  & America/New\\_York   \\\\\n",
       "\t 2013 & 9 & 30 & 21 & JFK & DEN & N807JB & B6 & Denver Intl                        & 39.86166 & -104.67318 & 5431 & -7 & A  & America/Denver     \\\\\n",
       "\t 2013 & 9 & 30 & 20 & LGA & RIC & N751EV & EV & Richmond Intl                      & 37.50517 &  -77.31967 &  167 & -5 & A  & America/New\\_York   \\\\\n",
       "\t 2013 & 9 & 30 & 21 & JFK & DCA & N807MQ & MQ & Ronald Reagan Washington Natl      & 38.85208 &  -77.03772 &   15 & -5 & A  & America/New\\_York   \\\\\n",
       "\t 2013 & 9 & 30 & 21 & JFK & LAX & N335AA & AA & Los Angeles Intl                   & 33.94254 & -118.40807 &  126 & -8 & A  & America/Los\\_Angeles\\\\\n",
       "\t 2013 & 9 & 30 & 21 & EWR & PWM & N12957 & EV & Portland Intl Jetport              & 43.64616 &  -70.30928 &   77 & -5 & A  & America/New\\_York   \\\\\n",
       "\t 2013 & 9 & 30 & 21 & JFK & SJU & N633JB & B6 & NA                                 &       NA &         NA &   NA & NA & NA & NA                 \\\\\n",
       "\t 2013 & 9 & 30 & 21 & LGA & FLL & N627JB & B6 & Fort Lauderdale Hollywood Intl     & 26.07258 &  -80.15275 &    9 & -5 & A  & America/New\\_York   \\\\\n",
       "\t 2013 & 9 & 30 & 21 & EWR & BOS & N813UA & UA & General Edward Lawrence Logan Intl & 42.36435 &  -71.00518 &   19 & -5 & A  & America/New\\_York   \\\\\n",
       "\t 2013 & 9 & 30 & 21 & EWR & MHT & N10575 & EV & Manchester Regional Airport        & 42.93256 &  -71.43567 &  266 & -5 & A  & America/New\\_York   \\\\\n",
       "\t 2013 & 9 & 30 & 18 & JFK & BUF & N906XJ & 9E & Buffalo Niagara Intl               & 42.94053 &  -78.73217 &  724 & -5 & A  & America/New\\_York   \\\\\n",
       "\t 2013 & 9 & 30 & 22 & LGA & BGR & N722EV & EV & Bangor Intl                        & 44.80744 &  -68.82814 &  192 & -5 & A  & America/New\\_York   \\\\\n",
       "\t 2013 & 9 & 30 & 21 & LGA & BNA & N532MQ & MQ & Nashville Intl                     & 36.12447 &  -86.67819 &  599 & -6 & A  & America/Chicago    \\\\\n",
       "\t 2013 & 9 & 30 & 20 & EWR & STL & N12145 & EV & Lambert St Louis Intl              & 38.74870 &  -90.37003 &  618 & -6 & A  & America/Chicago    \\\\\n",
       "\t 2013 & 9 & 30 & 22 & JFK & PWM & N193JB & B6 & Portland Intl Jetport              & 43.64616 &  -70.30928 &   77 & -5 & A  & America/New\\_York   \\\\\n",
       "\t 2013 & 9 & 30 & 21 & EWR & SFO & N578UA & UA & San Francisco Intl                 & 37.61897 & -122.37489 &   13 & -8 & A  & America/Los\\_Angeles\\\\\n",
       "\t 2013 & 9 & 30 & 20 & JFK & MCO & N804JB & B6 & Orlando Intl                       & 28.42939 &  -81.30899 &   96 & -5 & A  & America/New\\_York   \\\\\n",
       "\t 2013 & 9 & 30 & 22 & JFK & BTV & N318JB & B6 & Burlington Intl                    & 44.47186 &  -73.15328 &  335 & -5 & A  & America/New\\_York   \\\\\n",
       "\t 2013 & 9 & 30 & 22 & JFK & SYR & N354JB & B6 & Syracuse Hancock Intl              & 43.11119 &  -76.10631 &  421 & -5 & A  & America/New\\_York   \\\\\n",
       "\t 2013 & 9 & 30 & 22 & JFK & BUF & N281JB & B6 & Buffalo Niagara Intl               & 42.94053 &  -78.73217 &  724 & -5 & A  & America/New\\_York   \\\\\n",
       "\t 2013 & 9 & 30 & 22 & JFK & ROC & N346JB & B6 & Greater Rochester Intl             & 43.11887 &  -77.67239 &  559 & -5 & A  & America/New\\_York   \\\\\n",
       "\t 2013 & 9 & 30 & 22 & JFK & BOS & N565JB & B6 & General Edward Lawrence Logan Intl & 42.36435 &  -71.00518 &   19 & -5 & A  & America/New\\_York   \\\\\n",
       "\t 2013 & 9 & 30 & 23 & JFK & PSE & N516JB & B6 & NA                                 &       NA &         NA &   NA & NA & NA & NA                 \\\\\n",
       "\t 2013 & 9 & 30 & 18 & LGA & BNA & N740EV & EV & Nashville Intl                     & 36.12447 &  -86.67819 &  599 & -6 & A  & America/Chicago    \\\\\n",
       "\t 2013 & 9 & 30 & 14 & JFK & DCA & NA     & 9E & Ronald Reagan Washington Natl      & 38.85208 &  -77.03772 &   15 & -5 & A  & America/New\\_York   \\\\\n",
       "\t 2013 & 9 & 30 & 22 & LGA & SYR & NA     & 9E & Syracuse Hancock Intl              & 43.11119 &  -76.10631 &  421 & -5 & A  & America/New\\_York   \\\\\n",
       "\t 2013 & 9 & 30 & 12 & LGA & BNA & N535MQ & MQ & Nashville Intl                     & 36.12447 &  -86.67819 &  599 & -6 & A  & America/Chicago    \\\\\n",
       "\t 2013 & 9 & 30 & 11 & LGA & CLE & N511MQ & MQ & Cleveland Hopkins Intl             & 41.41169 &  -81.84979 &  791 & -5 & A  & America/New\\_York   \\\\\n",
       "\t 2013 & 9 & 30 &  8 & LGA & RDU & N839MQ & MQ & Raleigh Durham Intl                & 35.87764 &  -78.78747 &  435 & -5 & A  & America/New\\_York   \\\\\n",
       "\\end{tabular}\n"
      ],
      "text/markdown": [
       "\n",
       "A tibble: 336776 × 15\n",
       "\n",
       "| year &lt;int&gt; | month &lt;int&gt; | day &lt;int&gt; | hour &lt;dbl&gt; | origin &lt;chr&gt; | dest &lt;chr&gt; | tailnum &lt;chr&gt; | carrier &lt;chr&gt; | name &lt;chr&gt; | lat &lt;dbl&gt; | lon &lt;dbl&gt; | alt &lt;dbl&gt; | tz &lt;dbl&gt; | dst &lt;chr&gt; | tzone &lt;chr&gt; |\n",
       "|---|---|---|---|---|---|---|---|---|---|---|---|---|---|---|\n",
       "| 2013 | 1 | 1 | 5 | EWR | IAH | N14228 | UA | George Bush Intercontinental       | 29.98443 |  -95.34144 |   97 | -6 | A  | America/Chicago     |\n",
       "| 2013 | 1 | 1 | 5 | LGA | IAH | N24211 | UA | George Bush Intercontinental       | 29.98443 |  -95.34144 |   97 | -6 | A  | America/Chicago     |\n",
       "| 2013 | 1 | 1 | 5 | JFK | MIA | N619AA | AA | Miami Intl                         | 25.79325 |  -80.29056 |    8 | -5 | A  | America/New_York    |\n",
       "| 2013 | 1 | 1 | 5 | JFK | BQN | N804JB | B6 | NA                                 |       NA |         NA |   NA | NA | NA | NA                  |\n",
       "| 2013 | 1 | 1 | 6 | LGA | ATL | N668DN | DL | Hartsfield Jackson Atlanta Intl    | 33.63672 |  -84.42807 | 1026 | -5 | A  | America/New_York    |\n",
       "| 2013 | 1 | 1 | 5 | EWR | ORD | N39463 | UA | Chicago Ohare Intl                 | 41.97860 |  -87.90484 |  668 | -6 | A  | America/Chicago     |\n",
       "| 2013 | 1 | 1 | 6 | EWR | FLL | N516JB | B6 | Fort Lauderdale Hollywood Intl     | 26.07258 |  -80.15275 |    9 | -5 | A  | America/New_York    |\n",
       "| 2013 | 1 | 1 | 6 | LGA | IAD | N829AS | EV | Washington Dulles Intl             | 38.94453 |  -77.45581 |  313 | -5 | A  | America/New_York    |\n",
       "| 2013 | 1 | 1 | 6 | JFK | MCO | N593JB | B6 | Orlando Intl                       | 28.42939 |  -81.30899 |   96 | -5 | A  | America/New_York    |\n",
       "| 2013 | 1 | 1 | 6 | LGA | ORD | N3ALAA | AA | Chicago Ohare Intl                 | 41.97860 |  -87.90484 |  668 | -6 | A  | America/Chicago     |\n",
       "| 2013 | 1 | 1 | 6 | JFK | PBI | N793JB | B6 | Palm Beach Intl                    | 26.68316 |  -80.09559 |   19 | -5 | A  | America/New_York    |\n",
       "| 2013 | 1 | 1 | 6 | JFK | TPA | N657JB | B6 | Tampa Intl                         | 27.97547 |  -82.53325 |   26 | -5 | A  | America/New_York    |\n",
       "| 2013 | 1 | 1 | 6 | JFK | LAX | N29129 | UA | Los Angeles Intl                   | 33.94254 | -118.40807 |  126 | -8 | A  | America/Los_Angeles |\n",
       "| 2013 | 1 | 1 | 6 | EWR | SFO | N53441 | UA | San Francisco Intl                 | 37.61897 | -122.37489 |   13 | -8 | A  | America/Los_Angeles |\n",
       "| 2013 | 1 | 1 | 6 | LGA | DFW | N3DUAA | AA | Dallas Fort Worth Intl             | 32.89683 |  -97.03800 |  607 | -6 | A  | America/Chicago     |\n",
       "| 2013 | 1 | 1 | 5 | JFK | BOS | N708JB | B6 | General Edward Lawrence Logan Intl | 42.36435 |  -71.00518 |   19 | -5 | A  | America/New_York    |\n",
       "| 2013 | 1 | 1 | 6 | EWR | LAS | N76515 | UA | Mc Carran Intl                     | 36.08006 | -115.15225 | 2141 | -8 | A  | America/Los_Angeles |\n",
       "| 2013 | 1 | 1 | 6 | LGA | FLL | N595JB | B6 | Fort Lauderdale Hollywood Intl     | 26.07258 |  -80.15275 |    9 | -5 | A  | America/New_York    |\n",
       "| 2013 | 1 | 1 | 6 | LGA | ATL | N542MQ | MQ | Hartsfield Jackson Atlanta Intl    | 33.63672 |  -84.42807 | 1026 | -5 | A  | America/New_York    |\n",
       "| 2013 | 1 | 1 | 6 | EWR | PBI | N644JB | B6 | Palm Beach Intl                    | 26.68316 |  -80.09559 |   19 | -5 | A  | America/New_York    |\n",
       "| 2013 | 1 | 1 | 6 | LGA | MSP | N971DL | DL | Minneapolis St Paul Intl           | 44.88196 |  -93.22177 |  841 | -6 | A  | America/Chicago     |\n",
       "| 2013 | 1 | 1 | 6 | LGA | DTW | N730MQ | MQ | Detroit Metro Wayne Co             | 42.21244 |  -83.35339 |  645 | -5 | A  | America/New_York    |\n",
       "| 2013 | 1 | 1 | 6 | EWR | MIA | N633AA | AA | Miami Intl                         | 25.79325 |  -80.29056 |    8 | -5 | A  | America/New_York    |\n",
       "| 2013 | 1 | 1 | 6 | JFK | ATL | N3739P | DL | Hartsfield Jackson Atlanta Intl    | 33.63672 |  -84.42807 | 1026 | -5 | A  | America/New_York    |\n",
       "| 2013 | 1 | 1 | 6 | EWR | MIA | N53442 | UA | Miami Intl                         | 25.79325 |  -80.29056 |    8 | -5 | A  | America/New_York    |\n",
       "| 2013 | 1 | 1 | 6 | EWR | ORD | N9EAMQ | MQ | Chicago Ohare Intl                 | 41.97860 |  -87.90484 |  668 | -6 | A  | America/Chicago     |\n",
       "| 2013 | 1 | 1 | 6 | JFK | SFO | N532UA | UA | San Francisco Intl                 | 37.61897 | -122.37489 |   13 | -8 | A  | America/Los_Angeles |\n",
       "| 2013 | 1 | 1 | 6 | JFK | RSW | N635JB | B6 | Southwest Florida Intl             | 26.53617 |  -81.75517 |   30 | -5 | A  | America/New_York    |\n",
       "| 2013 | 1 | 1 | 6 | JFK | SJU | N794JB | B6 | NA                                 |       NA |         NA |   NA | NA | NA | NA                  |\n",
       "| 2013 | 1 | 1 | 6 | EWR | ATL | N326NB | DL | Hartsfield Jackson Atlanta Intl    | 33.63672 |  -84.42807 | 1026 | -5 | A  | America/New_York    |\n",
       "| ⋮ | ⋮ | ⋮ | ⋮ | ⋮ | ⋮ | ⋮ | ⋮ | ⋮ | ⋮ | ⋮ | ⋮ | ⋮ | ⋮ | ⋮ |\n",
       "| 2013 | 9 | 30 | 21 | LGA | CHO | N712EV | EV | Charlottesville-Albemarle          | 38.13864 |  -78.45286 |  639 | -5 | A  | America/New_York    |\n",
       "| 2013 | 9 | 30 | 21 | EWR | CLT | N16546 | EV | Charlotte Douglas Intl             | 35.21400 |  -80.94314 |  748 | -5 | A  | America/New_York    |\n",
       "| 2013 | 9 | 30 | 21 | JFK | DEN | N807JB | B6 | Denver Intl                        | 39.86166 | -104.67318 | 5431 | -7 | A  | America/Denver      |\n",
       "| 2013 | 9 | 30 | 20 | LGA | RIC | N751EV | EV | Richmond Intl                      | 37.50517 |  -77.31967 |  167 | -5 | A  | America/New_York    |\n",
       "| 2013 | 9 | 30 | 21 | JFK | DCA | N807MQ | MQ | Ronald Reagan Washington Natl      | 38.85208 |  -77.03772 |   15 | -5 | A  | America/New_York    |\n",
       "| 2013 | 9 | 30 | 21 | JFK | LAX | N335AA | AA | Los Angeles Intl                   | 33.94254 | -118.40807 |  126 | -8 | A  | America/Los_Angeles |\n",
       "| 2013 | 9 | 30 | 21 | EWR | PWM | N12957 | EV | Portland Intl Jetport              | 43.64616 |  -70.30928 |   77 | -5 | A  | America/New_York    |\n",
       "| 2013 | 9 | 30 | 21 | JFK | SJU | N633JB | B6 | NA                                 |       NA |         NA |   NA | NA | NA | NA                  |\n",
       "| 2013 | 9 | 30 | 21 | LGA | FLL | N627JB | B6 | Fort Lauderdale Hollywood Intl     | 26.07258 |  -80.15275 |    9 | -5 | A  | America/New_York    |\n",
       "| 2013 | 9 | 30 | 21 | EWR | BOS | N813UA | UA | General Edward Lawrence Logan Intl | 42.36435 |  -71.00518 |   19 | -5 | A  | America/New_York    |\n",
       "| 2013 | 9 | 30 | 21 | EWR | MHT | N10575 | EV | Manchester Regional Airport        | 42.93256 |  -71.43567 |  266 | -5 | A  | America/New_York    |\n",
       "| 2013 | 9 | 30 | 18 | JFK | BUF | N906XJ | 9E | Buffalo Niagara Intl               | 42.94053 |  -78.73217 |  724 | -5 | A  | America/New_York    |\n",
       "| 2013 | 9 | 30 | 22 | LGA | BGR | N722EV | EV | Bangor Intl                        | 44.80744 |  -68.82814 |  192 | -5 | A  | America/New_York    |\n",
       "| 2013 | 9 | 30 | 21 | LGA | BNA | N532MQ | MQ | Nashville Intl                     | 36.12447 |  -86.67819 |  599 | -6 | A  | America/Chicago     |\n",
       "| 2013 | 9 | 30 | 20 | EWR | STL | N12145 | EV | Lambert St Louis Intl              | 38.74870 |  -90.37003 |  618 | -6 | A  | America/Chicago     |\n",
       "| 2013 | 9 | 30 | 22 | JFK | PWM | N193JB | B6 | Portland Intl Jetport              | 43.64616 |  -70.30928 |   77 | -5 | A  | America/New_York    |\n",
       "| 2013 | 9 | 30 | 21 | EWR | SFO | N578UA | UA | San Francisco Intl                 | 37.61897 | -122.37489 |   13 | -8 | A  | America/Los_Angeles |\n",
       "| 2013 | 9 | 30 | 20 | JFK | MCO | N804JB | B6 | Orlando Intl                       | 28.42939 |  -81.30899 |   96 | -5 | A  | America/New_York    |\n",
       "| 2013 | 9 | 30 | 22 | JFK | BTV | N318JB | B6 | Burlington Intl                    | 44.47186 |  -73.15328 |  335 | -5 | A  | America/New_York    |\n",
       "| 2013 | 9 | 30 | 22 | JFK | SYR | N354JB | B6 | Syracuse Hancock Intl              | 43.11119 |  -76.10631 |  421 | -5 | A  | America/New_York    |\n",
       "| 2013 | 9 | 30 | 22 | JFK | BUF | N281JB | B6 | Buffalo Niagara Intl               | 42.94053 |  -78.73217 |  724 | -5 | A  | America/New_York    |\n",
       "| 2013 | 9 | 30 | 22 | JFK | ROC | N346JB | B6 | Greater Rochester Intl             | 43.11887 |  -77.67239 |  559 | -5 | A  | America/New_York    |\n",
       "| 2013 | 9 | 30 | 22 | JFK | BOS | N565JB | B6 | General Edward Lawrence Logan Intl | 42.36435 |  -71.00518 |   19 | -5 | A  | America/New_York    |\n",
       "| 2013 | 9 | 30 | 23 | JFK | PSE | N516JB | B6 | NA                                 |       NA |         NA |   NA | NA | NA | NA                  |\n",
       "| 2013 | 9 | 30 | 18 | LGA | BNA | N740EV | EV | Nashville Intl                     | 36.12447 |  -86.67819 |  599 | -6 | A  | America/Chicago     |\n",
       "| 2013 | 9 | 30 | 14 | JFK | DCA | NA     | 9E | Ronald Reagan Washington Natl      | 38.85208 |  -77.03772 |   15 | -5 | A  | America/New_York    |\n",
       "| 2013 | 9 | 30 | 22 | LGA | SYR | NA     | 9E | Syracuse Hancock Intl              | 43.11119 |  -76.10631 |  421 | -5 | A  | America/New_York    |\n",
       "| 2013 | 9 | 30 | 12 | LGA | BNA | N535MQ | MQ | Nashville Intl                     | 36.12447 |  -86.67819 |  599 | -6 | A  | America/Chicago     |\n",
       "| 2013 | 9 | 30 | 11 | LGA | CLE | N511MQ | MQ | Cleveland Hopkins Intl             | 41.41169 |  -81.84979 |  791 | -5 | A  | America/New_York    |\n",
       "| 2013 | 9 | 30 |  8 | LGA | RDU | N839MQ | MQ | Raleigh Durham Intl                | 35.87764 |  -78.78747 |  435 | -5 | A  | America/New_York    |\n",
       "\n"
      ],
      "text/plain": [
       "       year month day hour origin dest tailnum carrier\n",
       "1      2013 1     1   5    EWR    IAH  N14228  UA     \n",
       "2      2013 1     1   5    LGA    IAH  N24211  UA     \n",
       "3      2013 1     1   5    JFK    MIA  N619AA  AA     \n",
       "4      2013 1     1   5    JFK    BQN  N804JB  B6     \n",
       "5      2013 1     1   6    LGA    ATL  N668DN  DL     \n",
       "6      2013 1     1   5    EWR    ORD  N39463  UA     \n",
       "7      2013 1     1   6    EWR    FLL  N516JB  B6     \n",
       "8      2013 1     1   6    LGA    IAD  N829AS  EV     \n",
       "9      2013 1     1   6    JFK    MCO  N593JB  B6     \n",
       "10     2013 1     1   6    LGA    ORD  N3ALAA  AA     \n",
       "11     2013 1     1   6    JFK    PBI  N793JB  B6     \n",
       "12     2013 1     1   6    JFK    TPA  N657JB  B6     \n",
       "13     2013 1     1   6    JFK    LAX  N29129  UA     \n",
       "14     2013 1     1   6    EWR    SFO  N53441  UA     \n",
       "15     2013 1     1   6    LGA    DFW  N3DUAA  AA     \n",
       "16     2013 1     1   5    JFK    BOS  N708JB  B6     \n",
       "17     2013 1     1   6    EWR    LAS  N76515  UA     \n",
       "18     2013 1     1   6    LGA    FLL  N595JB  B6     \n",
       "19     2013 1     1   6    LGA    ATL  N542MQ  MQ     \n",
       "20     2013 1     1   6    EWR    PBI  N644JB  B6     \n",
       "21     2013 1     1   6    LGA    MSP  N971DL  DL     \n",
       "22     2013 1     1   6    LGA    DTW  N730MQ  MQ     \n",
       "23     2013 1     1   6    EWR    MIA  N633AA  AA     \n",
       "24     2013 1     1   6    JFK    ATL  N3739P  DL     \n",
       "25     2013 1     1   6    EWR    MIA  N53442  UA     \n",
       "26     2013 1     1   6    EWR    ORD  N9EAMQ  MQ     \n",
       "27     2013 1     1   6    JFK    SFO  N532UA  UA     \n",
       "28     2013 1     1   6    JFK    RSW  N635JB  B6     \n",
       "29     2013 1     1   6    JFK    SJU  N794JB  B6     \n",
       "30     2013 1     1   6    EWR    ATL  N326NB  DL     \n",
       "⋮      ⋮    ⋮     ⋮   ⋮    ⋮      ⋮    ⋮       ⋮      \n",
       "336747 2013 9     30  21   LGA    CHO  N712EV  EV     \n",
       "336748 2013 9     30  21   EWR    CLT  N16546  EV     \n",
       "336749 2013 9     30  21   JFK    DEN  N807JB  B6     \n",
       "336750 2013 9     30  20   LGA    RIC  N751EV  EV     \n",
       "336751 2013 9     30  21   JFK    DCA  N807MQ  MQ     \n",
       "336752 2013 9     30  21   JFK    LAX  N335AA  AA     \n",
       "336753 2013 9     30  21   EWR    PWM  N12957  EV     \n",
       "336754 2013 9     30  21   JFK    SJU  N633JB  B6     \n",
       "336755 2013 9     30  21   LGA    FLL  N627JB  B6     \n",
       "336756 2013 9     30  21   EWR    BOS  N813UA  UA     \n",
       "336757 2013 9     30  21   EWR    MHT  N10575  EV     \n",
       "336758 2013 9     30  18   JFK    BUF  N906XJ  9E     \n",
       "336759 2013 9     30  22   LGA    BGR  N722EV  EV     \n",
       "336760 2013 9     30  21   LGA    BNA  N532MQ  MQ     \n",
       "336761 2013 9     30  20   EWR    STL  N12145  EV     \n",
       "336762 2013 9     30  22   JFK    PWM  N193JB  B6     \n",
       "336763 2013 9     30  21   EWR    SFO  N578UA  UA     \n",
       "336764 2013 9     30  20   JFK    MCO  N804JB  B6     \n",
       "336765 2013 9     30  22   JFK    BTV  N318JB  B6     \n",
       "336766 2013 9     30  22   JFK    SYR  N354JB  B6     \n",
       "336767 2013 9     30  22   JFK    BUF  N281JB  B6     \n",
       "336768 2013 9     30  22   JFK    ROC  N346JB  B6     \n",
       "336769 2013 9     30  22   JFK    BOS  N565JB  B6     \n",
       "336770 2013 9     30  23   JFK    PSE  N516JB  B6     \n",
       "336771 2013 9     30  18   LGA    BNA  N740EV  EV     \n",
       "336772 2013 9     30  14   JFK    DCA  NA      9E     \n",
       "336773 2013 9     30  22   LGA    SYR  NA      9E     \n",
       "336774 2013 9     30  12   LGA    BNA  N535MQ  MQ     \n",
       "336775 2013 9     30  11   LGA    CLE  N511MQ  MQ     \n",
       "336776 2013 9     30   8   LGA    RDU  N839MQ  MQ     \n",
       "       name                               lat      lon        alt  tz dst\n",
       "1      George Bush Intercontinental       29.98443  -95.34144   97 -6 A  \n",
       "2      George Bush Intercontinental       29.98443  -95.34144   97 -6 A  \n",
       "3      Miami Intl                         25.79325  -80.29056    8 -5 A  \n",
       "4      NA                                       NA         NA   NA NA NA \n",
       "5      Hartsfield Jackson Atlanta Intl    33.63672  -84.42807 1026 -5 A  \n",
       "6      Chicago Ohare Intl                 41.97860  -87.90484  668 -6 A  \n",
       "7      Fort Lauderdale Hollywood Intl     26.07258  -80.15275    9 -5 A  \n",
       "8      Washington Dulles Intl             38.94453  -77.45581  313 -5 A  \n",
       "9      Orlando Intl                       28.42939  -81.30899   96 -5 A  \n",
       "10     Chicago Ohare Intl                 41.97860  -87.90484  668 -6 A  \n",
       "11     Palm Beach Intl                    26.68316  -80.09559   19 -5 A  \n",
       "12     Tampa Intl                         27.97547  -82.53325   26 -5 A  \n",
       "13     Los Angeles Intl                   33.94254 -118.40807  126 -8 A  \n",
       "14     San Francisco Intl                 37.61897 -122.37489   13 -8 A  \n",
       "15     Dallas Fort Worth Intl             32.89683  -97.03800  607 -6 A  \n",
       "16     General Edward Lawrence Logan Intl 42.36435  -71.00518   19 -5 A  \n",
       "17     Mc Carran Intl                     36.08006 -115.15225 2141 -8 A  \n",
       "18     Fort Lauderdale Hollywood Intl     26.07258  -80.15275    9 -5 A  \n",
       "19     Hartsfield Jackson Atlanta Intl    33.63672  -84.42807 1026 -5 A  \n",
       "20     Palm Beach Intl                    26.68316  -80.09559   19 -5 A  \n",
       "21     Minneapolis St Paul Intl           44.88196  -93.22177  841 -6 A  \n",
       "22     Detroit Metro Wayne Co             42.21244  -83.35339  645 -5 A  \n",
       "23     Miami Intl                         25.79325  -80.29056    8 -5 A  \n",
       "24     Hartsfield Jackson Atlanta Intl    33.63672  -84.42807 1026 -5 A  \n",
       "25     Miami Intl                         25.79325  -80.29056    8 -5 A  \n",
       "26     Chicago Ohare Intl                 41.97860  -87.90484  668 -6 A  \n",
       "27     San Francisco Intl                 37.61897 -122.37489   13 -8 A  \n",
       "28     Southwest Florida Intl             26.53617  -81.75517   30 -5 A  \n",
       "29     NA                                       NA         NA   NA NA NA \n",
       "30     Hartsfield Jackson Atlanta Intl    33.63672  -84.42807 1026 -5 A  \n",
       "⋮      ⋮                                  ⋮        ⋮          ⋮    ⋮  ⋮  \n",
       "336747 Charlottesville-Albemarle          38.13864  -78.45286  639 -5 A  \n",
       "336748 Charlotte Douglas Intl             35.21400  -80.94314  748 -5 A  \n",
       "336749 Denver Intl                        39.86166 -104.67318 5431 -7 A  \n",
       "336750 Richmond Intl                      37.50517  -77.31967  167 -5 A  \n",
       "336751 Ronald Reagan Washington Natl      38.85208  -77.03772   15 -5 A  \n",
       "336752 Los Angeles Intl                   33.94254 -118.40807  126 -8 A  \n",
       "336753 Portland Intl Jetport              43.64616  -70.30928   77 -5 A  \n",
       "336754 NA                                       NA         NA   NA NA NA \n",
       "336755 Fort Lauderdale Hollywood Intl     26.07258  -80.15275    9 -5 A  \n",
       "336756 General Edward Lawrence Logan Intl 42.36435  -71.00518   19 -5 A  \n",
       "336757 Manchester Regional Airport        42.93256  -71.43567  266 -5 A  \n",
       "336758 Buffalo Niagara Intl               42.94053  -78.73217  724 -5 A  \n",
       "336759 Bangor Intl                        44.80744  -68.82814  192 -5 A  \n",
       "336760 Nashville Intl                     36.12447  -86.67819  599 -6 A  \n",
       "336761 Lambert St Louis Intl              38.74870  -90.37003  618 -6 A  \n",
       "336762 Portland Intl Jetport              43.64616  -70.30928   77 -5 A  \n",
       "336763 San Francisco Intl                 37.61897 -122.37489   13 -8 A  \n",
       "336764 Orlando Intl                       28.42939  -81.30899   96 -5 A  \n",
       "336765 Burlington Intl                    44.47186  -73.15328  335 -5 A  \n",
       "336766 Syracuse Hancock Intl              43.11119  -76.10631  421 -5 A  \n",
       "336767 Buffalo Niagara Intl               42.94053  -78.73217  724 -5 A  \n",
       "336768 Greater Rochester Intl             43.11887  -77.67239  559 -5 A  \n",
       "336769 General Edward Lawrence Logan Intl 42.36435  -71.00518   19 -5 A  \n",
       "336770 NA                                       NA         NA   NA NA NA \n",
       "336771 Nashville Intl                     36.12447  -86.67819  599 -6 A  \n",
       "336772 Ronald Reagan Washington Natl      38.85208  -77.03772   15 -5 A  \n",
       "336773 Syracuse Hancock Intl              43.11119  -76.10631  421 -5 A  \n",
       "336774 Nashville Intl                     36.12447  -86.67819  599 -6 A  \n",
       "336775 Cleveland Hopkins Intl             41.41169  -81.84979  791 -5 A  \n",
       "336776 Raleigh Durham Intl                35.87764  -78.78747  435 -5 A  \n",
       "       tzone              \n",
       "1      America/Chicago    \n",
       "2      America/Chicago    \n",
       "3      America/New_York   \n",
       "4      NA                 \n",
       "5      America/New_York   \n",
       "6      America/Chicago    \n",
       "7      America/New_York   \n",
       "8      America/New_York   \n",
       "9      America/New_York   \n",
       "10     America/Chicago    \n",
       "11     America/New_York   \n",
       "12     America/New_York   \n",
       "13     America/Los_Angeles\n",
       "14     America/Los_Angeles\n",
       "15     America/Chicago    \n",
       "16     America/New_York   \n",
       "17     America/Los_Angeles\n",
       "18     America/New_York   \n",
       "19     America/New_York   \n",
       "20     America/New_York   \n",
       "21     America/Chicago    \n",
       "22     America/New_York   \n",
       "23     America/New_York   \n",
       "24     America/New_York   \n",
       "25     America/New_York   \n",
       "26     America/Chicago    \n",
       "27     America/Los_Angeles\n",
       "28     America/New_York   \n",
       "29     NA                 \n",
       "30     America/New_York   \n",
       "⋮      ⋮                  \n",
       "336747 America/New_York   \n",
       "336748 America/New_York   \n",
       "336749 America/Denver     \n",
       "336750 America/New_York   \n",
       "336751 America/New_York   \n",
       "336752 America/Los_Angeles\n",
       "336753 America/New_York   \n",
       "336754 NA                 \n",
       "336755 America/New_York   \n",
       "336756 America/New_York   \n",
       "336757 America/New_York   \n",
       "336758 America/New_York   \n",
       "336759 America/New_York   \n",
       "336760 America/Chicago    \n",
       "336761 America/Chicago    \n",
       "336762 America/New_York   \n",
       "336763 America/Los_Angeles\n",
       "336764 America/New_York   \n",
       "336765 America/New_York   \n",
       "336766 America/New_York   \n",
       "336767 America/New_York   \n",
       "336768 America/New_York   \n",
       "336769 America/New_York   \n",
       "336770 NA                 \n",
       "336771 America/Chicago    \n",
       "336772 America/New_York   \n",
       "336773 America/New_York   \n",
       "336774 America/Chicago    \n",
       "336775 America/New_York   \n",
       "336776 America/New_York   "
      ]
     },
     "metadata": {},
     "output_type": "display_data"
    }
   ],
   "source": [
    "flights2 %>% \n",
    "  left_join(airports, c(\"dest\" = \"faa\"))"
   ]
  },
  {
   "cell_type": "code",
   "execution_count": 30,
   "metadata": {},
   "outputs": [
    {
     "data": {
      "text/html": [
       "<table>\n",
       "<caption>A tibble: 336776 × 15</caption>\n",
       "<thead>\n",
       "\t<tr><th scope=col>year</th><th scope=col>month</th><th scope=col>day</th><th scope=col>hour</th><th scope=col>origin</th><th scope=col>dest</th><th scope=col>tailnum</th><th scope=col>carrier</th><th scope=col>name</th><th scope=col>lat</th><th scope=col>lon</th><th scope=col>alt</th><th scope=col>tz</th><th scope=col>dst</th><th scope=col>tzone</th></tr>\n",
       "\t<tr><th scope=col>&lt;int&gt;</th><th scope=col>&lt;int&gt;</th><th scope=col>&lt;int&gt;</th><th scope=col>&lt;dbl&gt;</th><th scope=col>&lt;chr&gt;</th><th scope=col>&lt;chr&gt;</th><th scope=col>&lt;chr&gt;</th><th scope=col>&lt;chr&gt;</th><th scope=col>&lt;chr&gt;</th><th scope=col>&lt;dbl&gt;</th><th scope=col>&lt;dbl&gt;</th><th scope=col>&lt;dbl&gt;</th><th scope=col>&lt;dbl&gt;</th><th scope=col>&lt;chr&gt;</th><th scope=col>&lt;chr&gt;</th></tr>\n",
       "</thead>\n",
       "<tbody>\n",
       "\t<tr><td>2013</td><td>1</td><td>1</td><td>5</td><td>EWR</td><td>IAH</td><td>N14228</td><td>UA</td><td>Newark Liberty Intl</td><td>40.69250</td><td>-74.16867</td><td>18</td><td>-5</td><td>A</td><td>America/New_York</td></tr>\n",
       "\t<tr><td>2013</td><td>1</td><td>1</td><td>5</td><td>LGA</td><td>IAH</td><td>N24211</td><td>UA</td><td>La Guardia         </td><td>40.77725</td><td>-73.87261</td><td>22</td><td>-5</td><td>A</td><td>America/New_York</td></tr>\n",
       "\t<tr><td>2013</td><td>1</td><td>1</td><td>5</td><td>JFK</td><td>MIA</td><td>N619AA</td><td>AA</td><td>John F Kennedy Intl</td><td>40.63975</td><td>-73.77893</td><td>13</td><td>-5</td><td>A</td><td>America/New_York</td></tr>\n",
       "\t<tr><td>2013</td><td>1</td><td>1</td><td>5</td><td>JFK</td><td>BQN</td><td>N804JB</td><td>B6</td><td>John F Kennedy Intl</td><td>40.63975</td><td>-73.77893</td><td>13</td><td>-5</td><td>A</td><td>America/New_York</td></tr>\n",
       "\t<tr><td>2013</td><td>1</td><td>1</td><td>6</td><td>LGA</td><td>ATL</td><td>N668DN</td><td>DL</td><td>La Guardia         </td><td>40.77725</td><td>-73.87261</td><td>22</td><td>-5</td><td>A</td><td>America/New_York</td></tr>\n",
       "\t<tr><td>2013</td><td>1</td><td>1</td><td>5</td><td>EWR</td><td>ORD</td><td>N39463</td><td>UA</td><td>Newark Liberty Intl</td><td>40.69250</td><td>-74.16867</td><td>18</td><td>-5</td><td>A</td><td>America/New_York</td></tr>\n",
       "\t<tr><td>2013</td><td>1</td><td>1</td><td>6</td><td>EWR</td><td>FLL</td><td>N516JB</td><td>B6</td><td>Newark Liberty Intl</td><td>40.69250</td><td>-74.16867</td><td>18</td><td>-5</td><td>A</td><td>America/New_York</td></tr>\n",
       "\t<tr><td>2013</td><td>1</td><td>1</td><td>6</td><td>LGA</td><td>IAD</td><td>N829AS</td><td>EV</td><td>La Guardia         </td><td>40.77725</td><td>-73.87261</td><td>22</td><td>-5</td><td>A</td><td>America/New_York</td></tr>\n",
       "\t<tr><td>2013</td><td>1</td><td>1</td><td>6</td><td>JFK</td><td>MCO</td><td>N593JB</td><td>B6</td><td>John F Kennedy Intl</td><td>40.63975</td><td>-73.77893</td><td>13</td><td>-5</td><td>A</td><td>America/New_York</td></tr>\n",
       "\t<tr><td>2013</td><td>1</td><td>1</td><td>6</td><td>LGA</td><td>ORD</td><td>N3ALAA</td><td>AA</td><td>La Guardia         </td><td>40.77725</td><td>-73.87261</td><td>22</td><td>-5</td><td>A</td><td>America/New_York</td></tr>\n",
       "\t<tr><td>2013</td><td>1</td><td>1</td><td>6</td><td>JFK</td><td>PBI</td><td>N793JB</td><td>B6</td><td>John F Kennedy Intl</td><td>40.63975</td><td>-73.77893</td><td>13</td><td>-5</td><td>A</td><td>America/New_York</td></tr>\n",
       "\t<tr><td>2013</td><td>1</td><td>1</td><td>6</td><td>JFK</td><td>TPA</td><td>N657JB</td><td>B6</td><td>John F Kennedy Intl</td><td>40.63975</td><td>-73.77893</td><td>13</td><td>-5</td><td>A</td><td>America/New_York</td></tr>\n",
       "\t<tr><td>2013</td><td>1</td><td>1</td><td>6</td><td>JFK</td><td>LAX</td><td>N29129</td><td>UA</td><td>John F Kennedy Intl</td><td>40.63975</td><td>-73.77893</td><td>13</td><td>-5</td><td>A</td><td>America/New_York</td></tr>\n",
       "\t<tr><td>2013</td><td>1</td><td>1</td><td>6</td><td>EWR</td><td>SFO</td><td>N53441</td><td>UA</td><td>Newark Liberty Intl</td><td>40.69250</td><td>-74.16867</td><td>18</td><td>-5</td><td>A</td><td>America/New_York</td></tr>\n",
       "\t<tr><td>2013</td><td>1</td><td>1</td><td>6</td><td>LGA</td><td>DFW</td><td>N3DUAA</td><td>AA</td><td>La Guardia         </td><td>40.77725</td><td>-73.87261</td><td>22</td><td>-5</td><td>A</td><td>America/New_York</td></tr>\n",
       "\t<tr><td>2013</td><td>1</td><td>1</td><td>5</td><td>JFK</td><td>BOS</td><td>N708JB</td><td>B6</td><td>John F Kennedy Intl</td><td>40.63975</td><td>-73.77893</td><td>13</td><td>-5</td><td>A</td><td>America/New_York</td></tr>\n",
       "\t<tr><td>2013</td><td>1</td><td>1</td><td>6</td><td>EWR</td><td>LAS</td><td>N76515</td><td>UA</td><td>Newark Liberty Intl</td><td>40.69250</td><td>-74.16867</td><td>18</td><td>-5</td><td>A</td><td>America/New_York</td></tr>\n",
       "\t<tr><td>2013</td><td>1</td><td>1</td><td>6</td><td>LGA</td><td>FLL</td><td>N595JB</td><td>B6</td><td>La Guardia         </td><td>40.77725</td><td>-73.87261</td><td>22</td><td>-5</td><td>A</td><td>America/New_York</td></tr>\n",
       "\t<tr><td>2013</td><td>1</td><td>1</td><td>6</td><td>LGA</td><td>ATL</td><td>N542MQ</td><td>MQ</td><td>La Guardia         </td><td>40.77725</td><td>-73.87261</td><td>22</td><td>-5</td><td>A</td><td>America/New_York</td></tr>\n",
       "\t<tr><td>2013</td><td>1</td><td>1</td><td>6</td><td>EWR</td><td>PBI</td><td>N644JB</td><td>B6</td><td>Newark Liberty Intl</td><td>40.69250</td><td>-74.16867</td><td>18</td><td>-5</td><td>A</td><td>America/New_York</td></tr>\n",
       "\t<tr><td>2013</td><td>1</td><td>1</td><td>6</td><td>LGA</td><td>MSP</td><td>N971DL</td><td>DL</td><td>La Guardia         </td><td>40.77725</td><td>-73.87261</td><td>22</td><td>-5</td><td>A</td><td>America/New_York</td></tr>\n",
       "\t<tr><td>2013</td><td>1</td><td>1</td><td>6</td><td>LGA</td><td>DTW</td><td>N730MQ</td><td>MQ</td><td>La Guardia         </td><td>40.77725</td><td>-73.87261</td><td>22</td><td>-5</td><td>A</td><td>America/New_York</td></tr>\n",
       "\t<tr><td>2013</td><td>1</td><td>1</td><td>6</td><td>EWR</td><td>MIA</td><td>N633AA</td><td>AA</td><td>Newark Liberty Intl</td><td>40.69250</td><td>-74.16867</td><td>18</td><td>-5</td><td>A</td><td>America/New_York</td></tr>\n",
       "\t<tr><td>2013</td><td>1</td><td>1</td><td>6</td><td>JFK</td><td>ATL</td><td>N3739P</td><td>DL</td><td>John F Kennedy Intl</td><td>40.63975</td><td>-73.77893</td><td>13</td><td>-5</td><td>A</td><td>America/New_York</td></tr>\n",
       "\t<tr><td>2013</td><td>1</td><td>1</td><td>6</td><td>EWR</td><td>MIA</td><td>N53442</td><td>UA</td><td>Newark Liberty Intl</td><td>40.69250</td><td>-74.16867</td><td>18</td><td>-5</td><td>A</td><td>America/New_York</td></tr>\n",
       "\t<tr><td>2013</td><td>1</td><td>1</td><td>6</td><td>EWR</td><td>ORD</td><td>N9EAMQ</td><td>MQ</td><td>Newark Liberty Intl</td><td>40.69250</td><td>-74.16867</td><td>18</td><td>-5</td><td>A</td><td>America/New_York</td></tr>\n",
       "\t<tr><td>2013</td><td>1</td><td>1</td><td>6</td><td>JFK</td><td>SFO</td><td>N532UA</td><td>UA</td><td>John F Kennedy Intl</td><td>40.63975</td><td>-73.77893</td><td>13</td><td>-5</td><td>A</td><td>America/New_York</td></tr>\n",
       "\t<tr><td>2013</td><td>1</td><td>1</td><td>6</td><td>JFK</td><td>RSW</td><td>N635JB</td><td>B6</td><td>John F Kennedy Intl</td><td>40.63975</td><td>-73.77893</td><td>13</td><td>-5</td><td>A</td><td>America/New_York</td></tr>\n",
       "\t<tr><td>2013</td><td>1</td><td>1</td><td>6</td><td>JFK</td><td>SJU</td><td>N794JB</td><td>B6</td><td>John F Kennedy Intl</td><td>40.63975</td><td>-73.77893</td><td>13</td><td>-5</td><td>A</td><td>America/New_York</td></tr>\n",
       "\t<tr><td>2013</td><td>1</td><td>1</td><td>6</td><td>EWR</td><td>ATL</td><td>N326NB</td><td>DL</td><td>Newark Liberty Intl</td><td>40.69250</td><td>-74.16867</td><td>18</td><td>-5</td><td>A</td><td>America/New_York</td></tr>\n",
       "\t<tr><td>⋮</td><td>⋮</td><td>⋮</td><td>⋮</td><td>⋮</td><td>⋮</td><td>⋮</td><td>⋮</td><td>⋮</td><td>⋮</td><td>⋮</td><td>⋮</td><td>⋮</td><td>⋮</td><td>⋮</td></tr>\n",
       "\t<tr><td>2013</td><td>9</td><td>30</td><td>21</td><td>LGA</td><td>CHO</td><td>N712EV</td><td>EV</td><td>La Guardia         </td><td>40.77725</td><td>-73.87261</td><td>22</td><td>-5</td><td>A</td><td>America/New_York</td></tr>\n",
       "\t<tr><td>2013</td><td>9</td><td>30</td><td>21</td><td>EWR</td><td>CLT</td><td>N16546</td><td>EV</td><td>Newark Liberty Intl</td><td>40.69250</td><td>-74.16867</td><td>18</td><td>-5</td><td>A</td><td>America/New_York</td></tr>\n",
       "\t<tr><td>2013</td><td>9</td><td>30</td><td>21</td><td>JFK</td><td>DEN</td><td>N807JB</td><td>B6</td><td>John F Kennedy Intl</td><td>40.63975</td><td>-73.77893</td><td>13</td><td>-5</td><td>A</td><td>America/New_York</td></tr>\n",
       "\t<tr><td>2013</td><td>9</td><td>30</td><td>20</td><td>LGA</td><td>RIC</td><td>N751EV</td><td>EV</td><td>La Guardia         </td><td>40.77725</td><td>-73.87261</td><td>22</td><td>-5</td><td>A</td><td>America/New_York</td></tr>\n",
       "\t<tr><td>2013</td><td>9</td><td>30</td><td>21</td><td>JFK</td><td>DCA</td><td>N807MQ</td><td>MQ</td><td>John F Kennedy Intl</td><td>40.63975</td><td>-73.77893</td><td>13</td><td>-5</td><td>A</td><td>America/New_York</td></tr>\n",
       "\t<tr><td>2013</td><td>9</td><td>30</td><td>21</td><td>JFK</td><td>LAX</td><td>N335AA</td><td>AA</td><td>John F Kennedy Intl</td><td>40.63975</td><td>-73.77893</td><td>13</td><td>-5</td><td>A</td><td>America/New_York</td></tr>\n",
       "\t<tr><td>2013</td><td>9</td><td>30</td><td>21</td><td>EWR</td><td>PWM</td><td>N12957</td><td>EV</td><td>Newark Liberty Intl</td><td>40.69250</td><td>-74.16867</td><td>18</td><td>-5</td><td>A</td><td>America/New_York</td></tr>\n",
       "\t<tr><td>2013</td><td>9</td><td>30</td><td>21</td><td>JFK</td><td>SJU</td><td>N633JB</td><td>B6</td><td>John F Kennedy Intl</td><td>40.63975</td><td>-73.77893</td><td>13</td><td>-5</td><td>A</td><td>America/New_York</td></tr>\n",
       "\t<tr><td>2013</td><td>9</td><td>30</td><td>21</td><td>LGA</td><td>FLL</td><td>N627JB</td><td>B6</td><td>La Guardia         </td><td>40.77725</td><td>-73.87261</td><td>22</td><td>-5</td><td>A</td><td>America/New_York</td></tr>\n",
       "\t<tr><td>2013</td><td>9</td><td>30</td><td>21</td><td>EWR</td><td>BOS</td><td>N813UA</td><td>UA</td><td>Newark Liberty Intl</td><td>40.69250</td><td>-74.16867</td><td>18</td><td>-5</td><td>A</td><td>America/New_York</td></tr>\n",
       "\t<tr><td>2013</td><td>9</td><td>30</td><td>21</td><td>EWR</td><td>MHT</td><td>N10575</td><td>EV</td><td>Newark Liberty Intl</td><td>40.69250</td><td>-74.16867</td><td>18</td><td>-5</td><td>A</td><td>America/New_York</td></tr>\n",
       "\t<tr><td>2013</td><td>9</td><td>30</td><td>18</td><td>JFK</td><td>BUF</td><td>N906XJ</td><td>9E</td><td>John F Kennedy Intl</td><td>40.63975</td><td>-73.77893</td><td>13</td><td>-5</td><td>A</td><td>America/New_York</td></tr>\n",
       "\t<tr><td>2013</td><td>9</td><td>30</td><td>22</td><td>LGA</td><td>BGR</td><td>N722EV</td><td>EV</td><td>La Guardia         </td><td>40.77725</td><td>-73.87261</td><td>22</td><td>-5</td><td>A</td><td>America/New_York</td></tr>\n",
       "\t<tr><td>2013</td><td>9</td><td>30</td><td>21</td><td>LGA</td><td>BNA</td><td>N532MQ</td><td>MQ</td><td>La Guardia         </td><td>40.77725</td><td>-73.87261</td><td>22</td><td>-5</td><td>A</td><td>America/New_York</td></tr>\n",
       "\t<tr><td>2013</td><td>9</td><td>30</td><td>20</td><td>EWR</td><td>STL</td><td>N12145</td><td>EV</td><td>Newark Liberty Intl</td><td>40.69250</td><td>-74.16867</td><td>18</td><td>-5</td><td>A</td><td>America/New_York</td></tr>\n",
       "\t<tr><td>2013</td><td>9</td><td>30</td><td>22</td><td>JFK</td><td>PWM</td><td>N193JB</td><td>B6</td><td>John F Kennedy Intl</td><td>40.63975</td><td>-73.77893</td><td>13</td><td>-5</td><td>A</td><td>America/New_York</td></tr>\n",
       "\t<tr><td>2013</td><td>9</td><td>30</td><td>21</td><td>EWR</td><td>SFO</td><td>N578UA</td><td>UA</td><td>Newark Liberty Intl</td><td>40.69250</td><td>-74.16867</td><td>18</td><td>-5</td><td>A</td><td>America/New_York</td></tr>\n",
       "\t<tr><td>2013</td><td>9</td><td>30</td><td>20</td><td>JFK</td><td>MCO</td><td>N804JB</td><td>B6</td><td>John F Kennedy Intl</td><td>40.63975</td><td>-73.77893</td><td>13</td><td>-5</td><td>A</td><td>America/New_York</td></tr>\n",
       "\t<tr><td>2013</td><td>9</td><td>30</td><td>22</td><td>JFK</td><td>BTV</td><td>N318JB</td><td>B6</td><td>John F Kennedy Intl</td><td>40.63975</td><td>-73.77893</td><td>13</td><td>-5</td><td>A</td><td>America/New_York</td></tr>\n",
       "\t<tr><td>2013</td><td>9</td><td>30</td><td>22</td><td>JFK</td><td>SYR</td><td>N354JB</td><td>B6</td><td>John F Kennedy Intl</td><td>40.63975</td><td>-73.77893</td><td>13</td><td>-5</td><td>A</td><td>America/New_York</td></tr>\n",
       "\t<tr><td>2013</td><td>9</td><td>30</td><td>22</td><td>JFK</td><td>BUF</td><td>N281JB</td><td>B6</td><td>John F Kennedy Intl</td><td>40.63975</td><td>-73.77893</td><td>13</td><td>-5</td><td>A</td><td>America/New_York</td></tr>\n",
       "\t<tr><td>2013</td><td>9</td><td>30</td><td>22</td><td>JFK</td><td>ROC</td><td>N346JB</td><td>B6</td><td>John F Kennedy Intl</td><td>40.63975</td><td>-73.77893</td><td>13</td><td>-5</td><td>A</td><td>America/New_York</td></tr>\n",
       "\t<tr><td>2013</td><td>9</td><td>30</td><td>22</td><td>JFK</td><td>BOS</td><td>N565JB</td><td>B6</td><td>John F Kennedy Intl</td><td>40.63975</td><td>-73.77893</td><td>13</td><td>-5</td><td>A</td><td>America/New_York</td></tr>\n",
       "\t<tr><td>2013</td><td>9</td><td>30</td><td>23</td><td>JFK</td><td>PSE</td><td>N516JB</td><td>B6</td><td>John F Kennedy Intl</td><td>40.63975</td><td>-73.77893</td><td>13</td><td>-5</td><td>A</td><td>America/New_York</td></tr>\n",
       "\t<tr><td>2013</td><td>9</td><td>30</td><td>18</td><td>LGA</td><td>BNA</td><td>N740EV</td><td>EV</td><td>La Guardia         </td><td>40.77725</td><td>-73.87261</td><td>22</td><td>-5</td><td>A</td><td>America/New_York</td></tr>\n",
       "\t<tr><td>2013</td><td>9</td><td>30</td><td>14</td><td>JFK</td><td>DCA</td><td>NA    </td><td>9E</td><td>John F Kennedy Intl</td><td>40.63975</td><td>-73.77893</td><td>13</td><td>-5</td><td>A</td><td>America/New_York</td></tr>\n",
       "\t<tr><td>2013</td><td>9</td><td>30</td><td>22</td><td>LGA</td><td>SYR</td><td>NA    </td><td>9E</td><td>La Guardia         </td><td>40.77725</td><td>-73.87261</td><td>22</td><td>-5</td><td>A</td><td>America/New_York</td></tr>\n",
       "\t<tr><td>2013</td><td>9</td><td>30</td><td>12</td><td>LGA</td><td>BNA</td><td>N535MQ</td><td>MQ</td><td>La Guardia         </td><td>40.77725</td><td>-73.87261</td><td>22</td><td>-5</td><td>A</td><td>America/New_York</td></tr>\n",
       "\t<tr><td>2013</td><td>9</td><td>30</td><td>11</td><td>LGA</td><td>CLE</td><td>N511MQ</td><td>MQ</td><td>La Guardia         </td><td>40.77725</td><td>-73.87261</td><td>22</td><td>-5</td><td>A</td><td>America/New_York</td></tr>\n",
       "\t<tr><td>2013</td><td>9</td><td>30</td><td> 8</td><td>LGA</td><td>RDU</td><td>N839MQ</td><td>MQ</td><td>La Guardia         </td><td>40.77725</td><td>-73.87261</td><td>22</td><td>-5</td><td>A</td><td>America/New_York</td></tr>\n",
       "</tbody>\n",
       "</table>\n"
      ],
      "text/latex": [
       "A tibble: 336776 × 15\n",
       "\\begin{tabular}{lllllllllllllll}\n",
       " year & month & day & hour & origin & dest & tailnum & carrier & name & lat & lon & alt & tz & dst & tzone\\\\\n",
       " <int> & <int> & <int> & <dbl> & <chr> & <chr> & <chr> & <chr> & <chr> & <dbl> & <dbl> & <dbl> & <dbl> & <chr> & <chr>\\\\\n",
       "\\hline\n",
       "\t 2013 & 1 & 1 & 5 & EWR & IAH & N14228 & UA & Newark Liberty Intl & 40.69250 & -74.16867 & 18 & -5 & A & America/New\\_York\\\\\n",
       "\t 2013 & 1 & 1 & 5 & LGA & IAH & N24211 & UA & La Guardia          & 40.77725 & -73.87261 & 22 & -5 & A & America/New\\_York\\\\\n",
       "\t 2013 & 1 & 1 & 5 & JFK & MIA & N619AA & AA & John F Kennedy Intl & 40.63975 & -73.77893 & 13 & -5 & A & America/New\\_York\\\\\n",
       "\t 2013 & 1 & 1 & 5 & JFK & BQN & N804JB & B6 & John F Kennedy Intl & 40.63975 & -73.77893 & 13 & -5 & A & America/New\\_York\\\\\n",
       "\t 2013 & 1 & 1 & 6 & LGA & ATL & N668DN & DL & La Guardia          & 40.77725 & -73.87261 & 22 & -5 & A & America/New\\_York\\\\\n",
       "\t 2013 & 1 & 1 & 5 & EWR & ORD & N39463 & UA & Newark Liberty Intl & 40.69250 & -74.16867 & 18 & -5 & A & America/New\\_York\\\\\n",
       "\t 2013 & 1 & 1 & 6 & EWR & FLL & N516JB & B6 & Newark Liberty Intl & 40.69250 & -74.16867 & 18 & -5 & A & America/New\\_York\\\\\n",
       "\t 2013 & 1 & 1 & 6 & LGA & IAD & N829AS & EV & La Guardia          & 40.77725 & -73.87261 & 22 & -5 & A & America/New\\_York\\\\\n",
       "\t 2013 & 1 & 1 & 6 & JFK & MCO & N593JB & B6 & John F Kennedy Intl & 40.63975 & -73.77893 & 13 & -5 & A & America/New\\_York\\\\\n",
       "\t 2013 & 1 & 1 & 6 & LGA & ORD & N3ALAA & AA & La Guardia          & 40.77725 & -73.87261 & 22 & -5 & A & America/New\\_York\\\\\n",
       "\t 2013 & 1 & 1 & 6 & JFK & PBI & N793JB & B6 & John F Kennedy Intl & 40.63975 & -73.77893 & 13 & -5 & A & America/New\\_York\\\\\n",
       "\t 2013 & 1 & 1 & 6 & JFK & TPA & N657JB & B6 & John F Kennedy Intl & 40.63975 & -73.77893 & 13 & -5 & A & America/New\\_York\\\\\n",
       "\t 2013 & 1 & 1 & 6 & JFK & LAX & N29129 & UA & John F Kennedy Intl & 40.63975 & -73.77893 & 13 & -5 & A & America/New\\_York\\\\\n",
       "\t 2013 & 1 & 1 & 6 & EWR & SFO & N53441 & UA & Newark Liberty Intl & 40.69250 & -74.16867 & 18 & -5 & A & America/New\\_York\\\\\n",
       "\t 2013 & 1 & 1 & 6 & LGA & DFW & N3DUAA & AA & La Guardia          & 40.77725 & -73.87261 & 22 & -5 & A & America/New\\_York\\\\\n",
       "\t 2013 & 1 & 1 & 5 & JFK & BOS & N708JB & B6 & John F Kennedy Intl & 40.63975 & -73.77893 & 13 & -5 & A & America/New\\_York\\\\\n",
       "\t 2013 & 1 & 1 & 6 & EWR & LAS & N76515 & UA & Newark Liberty Intl & 40.69250 & -74.16867 & 18 & -5 & A & America/New\\_York\\\\\n",
       "\t 2013 & 1 & 1 & 6 & LGA & FLL & N595JB & B6 & La Guardia          & 40.77725 & -73.87261 & 22 & -5 & A & America/New\\_York\\\\\n",
       "\t 2013 & 1 & 1 & 6 & LGA & ATL & N542MQ & MQ & La Guardia          & 40.77725 & -73.87261 & 22 & -5 & A & America/New\\_York\\\\\n",
       "\t 2013 & 1 & 1 & 6 & EWR & PBI & N644JB & B6 & Newark Liberty Intl & 40.69250 & -74.16867 & 18 & -5 & A & America/New\\_York\\\\\n",
       "\t 2013 & 1 & 1 & 6 & LGA & MSP & N971DL & DL & La Guardia          & 40.77725 & -73.87261 & 22 & -5 & A & America/New\\_York\\\\\n",
       "\t 2013 & 1 & 1 & 6 & LGA & DTW & N730MQ & MQ & La Guardia          & 40.77725 & -73.87261 & 22 & -5 & A & America/New\\_York\\\\\n",
       "\t 2013 & 1 & 1 & 6 & EWR & MIA & N633AA & AA & Newark Liberty Intl & 40.69250 & -74.16867 & 18 & -5 & A & America/New\\_York\\\\\n",
       "\t 2013 & 1 & 1 & 6 & JFK & ATL & N3739P & DL & John F Kennedy Intl & 40.63975 & -73.77893 & 13 & -5 & A & America/New\\_York\\\\\n",
       "\t 2013 & 1 & 1 & 6 & EWR & MIA & N53442 & UA & Newark Liberty Intl & 40.69250 & -74.16867 & 18 & -5 & A & America/New\\_York\\\\\n",
       "\t 2013 & 1 & 1 & 6 & EWR & ORD & N9EAMQ & MQ & Newark Liberty Intl & 40.69250 & -74.16867 & 18 & -5 & A & America/New\\_York\\\\\n",
       "\t 2013 & 1 & 1 & 6 & JFK & SFO & N532UA & UA & John F Kennedy Intl & 40.63975 & -73.77893 & 13 & -5 & A & America/New\\_York\\\\\n",
       "\t 2013 & 1 & 1 & 6 & JFK & RSW & N635JB & B6 & John F Kennedy Intl & 40.63975 & -73.77893 & 13 & -5 & A & America/New\\_York\\\\\n",
       "\t 2013 & 1 & 1 & 6 & JFK & SJU & N794JB & B6 & John F Kennedy Intl & 40.63975 & -73.77893 & 13 & -5 & A & America/New\\_York\\\\\n",
       "\t 2013 & 1 & 1 & 6 & EWR & ATL & N326NB & DL & Newark Liberty Intl & 40.69250 & -74.16867 & 18 & -5 & A & America/New\\_York\\\\\n",
       "\t ⋮ & ⋮ & ⋮ & ⋮ & ⋮ & ⋮ & ⋮ & ⋮ & ⋮ & ⋮ & ⋮ & ⋮ & ⋮ & ⋮ & ⋮\\\\\n",
       "\t 2013 & 9 & 30 & 21 & LGA & CHO & N712EV & EV & La Guardia          & 40.77725 & -73.87261 & 22 & -5 & A & America/New\\_York\\\\\n",
       "\t 2013 & 9 & 30 & 21 & EWR & CLT & N16546 & EV & Newark Liberty Intl & 40.69250 & -74.16867 & 18 & -5 & A & America/New\\_York\\\\\n",
       "\t 2013 & 9 & 30 & 21 & JFK & DEN & N807JB & B6 & John F Kennedy Intl & 40.63975 & -73.77893 & 13 & -5 & A & America/New\\_York\\\\\n",
       "\t 2013 & 9 & 30 & 20 & LGA & RIC & N751EV & EV & La Guardia          & 40.77725 & -73.87261 & 22 & -5 & A & America/New\\_York\\\\\n",
       "\t 2013 & 9 & 30 & 21 & JFK & DCA & N807MQ & MQ & John F Kennedy Intl & 40.63975 & -73.77893 & 13 & -5 & A & America/New\\_York\\\\\n",
       "\t 2013 & 9 & 30 & 21 & JFK & LAX & N335AA & AA & John F Kennedy Intl & 40.63975 & -73.77893 & 13 & -5 & A & America/New\\_York\\\\\n",
       "\t 2013 & 9 & 30 & 21 & EWR & PWM & N12957 & EV & Newark Liberty Intl & 40.69250 & -74.16867 & 18 & -5 & A & America/New\\_York\\\\\n",
       "\t 2013 & 9 & 30 & 21 & JFK & SJU & N633JB & B6 & John F Kennedy Intl & 40.63975 & -73.77893 & 13 & -5 & A & America/New\\_York\\\\\n",
       "\t 2013 & 9 & 30 & 21 & LGA & FLL & N627JB & B6 & La Guardia          & 40.77725 & -73.87261 & 22 & -5 & A & America/New\\_York\\\\\n",
       "\t 2013 & 9 & 30 & 21 & EWR & BOS & N813UA & UA & Newark Liberty Intl & 40.69250 & -74.16867 & 18 & -5 & A & America/New\\_York\\\\\n",
       "\t 2013 & 9 & 30 & 21 & EWR & MHT & N10575 & EV & Newark Liberty Intl & 40.69250 & -74.16867 & 18 & -5 & A & America/New\\_York\\\\\n",
       "\t 2013 & 9 & 30 & 18 & JFK & BUF & N906XJ & 9E & John F Kennedy Intl & 40.63975 & -73.77893 & 13 & -5 & A & America/New\\_York\\\\\n",
       "\t 2013 & 9 & 30 & 22 & LGA & BGR & N722EV & EV & La Guardia          & 40.77725 & -73.87261 & 22 & -5 & A & America/New\\_York\\\\\n",
       "\t 2013 & 9 & 30 & 21 & LGA & BNA & N532MQ & MQ & La Guardia          & 40.77725 & -73.87261 & 22 & -5 & A & America/New\\_York\\\\\n",
       "\t 2013 & 9 & 30 & 20 & EWR & STL & N12145 & EV & Newark Liberty Intl & 40.69250 & -74.16867 & 18 & -5 & A & America/New\\_York\\\\\n",
       "\t 2013 & 9 & 30 & 22 & JFK & PWM & N193JB & B6 & John F Kennedy Intl & 40.63975 & -73.77893 & 13 & -5 & A & America/New\\_York\\\\\n",
       "\t 2013 & 9 & 30 & 21 & EWR & SFO & N578UA & UA & Newark Liberty Intl & 40.69250 & -74.16867 & 18 & -5 & A & America/New\\_York\\\\\n",
       "\t 2013 & 9 & 30 & 20 & JFK & MCO & N804JB & B6 & John F Kennedy Intl & 40.63975 & -73.77893 & 13 & -5 & A & America/New\\_York\\\\\n",
       "\t 2013 & 9 & 30 & 22 & JFK & BTV & N318JB & B6 & John F Kennedy Intl & 40.63975 & -73.77893 & 13 & -5 & A & America/New\\_York\\\\\n",
       "\t 2013 & 9 & 30 & 22 & JFK & SYR & N354JB & B6 & John F Kennedy Intl & 40.63975 & -73.77893 & 13 & -5 & A & America/New\\_York\\\\\n",
       "\t 2013 & 9 & 30 & 22 & JFK & BUF & N281JB & B6 & John F Kennedy Intl & 40.63975 & -73.77893 & 13 & -5 & A & America/New\\_York\\\\\n",
       "\t 2013 & 9 & 30 & 22 & JFK & ROC & N346JB & B6 & John F Kennedy Intl & 40.63975 & -73.77893 & 13 & -5 & A & America/New\\_York\\\\\n",
       "\t 2013 & 9 & 30 & 22 & JFK & BOS & N565JB & B6 & John F Kennedy Intl & 40.63975 & -73.77893 & 13 & -5 & A & America/New\\_York\\\\\n",
       "\t 2013 & 9 & 30 & 23 & JFK & PSE & N516JB & B6 & John F Kennedy Intl & 40.63975 & -73.77893 & 13 & -5 & A & America/New\\_York\\\\\n",
       "\t 2013 & 9 & 30 & 18 & LGA & BNA & N740EV & EV & La Guardia          & 40.77725 & -73.87261 & 22 & -5 & A & America/New\\_York\\\\\n",
       "\t 2013 & 9 & 30 & 14 & JFK & DCA & NA     & 9E & John F Kennedy Intl & 40.63975 & -73.77893 & 13 & -5 & A & America/New\\_York\\\\\n",
       "\t 2013 & 9 & 30 & 22 & LGA & SYR & NA     & 9E & La Guardia          & 40.77725 & -73.87261 & 22 & -5 & A & America/New\\_York\\\\\n",
       "\t 2013 & 9 & 30 & 12 & LGA & BNA & N535MQ & MQ & La Guardia          & 40.77725 & -73.87261 & 22 & -5 & A & America/New\\_York\\\\\n",
       "\t 2013 & 9 & 30 & 11 & LGA & CLE & N511MQ & MQ & La Guardia          & 40.77725 & -73.87261 & 22 & -5 & A & America/New\\_York\\\\\n",
       "\t 2013 & 9 & 30 &  8 & LGA & RDU & N839MQ & MQ & La Guardia          & 40.77725 & -73.87261 & 22 & -5 & A & America/New\\_York\\\\\n",
       "\\end{tabular}\n"
      ],
      "text/markdown": [
       "\n",
       "A tibble: 336776 × 15\n",
       "\n",
       "| year &lt;int&gt; | month &lt;int&gt; | day &lt;int&gt; | hour &lt;dbl&gt; | origin &lt;chr&gt; | dest &lt;chr&gt; | tailnum &lt;chr&gt; | carrier &lt;chr&gt; | name &lt;chr&gt; | lat &lt;dbl&gt; | lon &lt;dbl&gt; | alt &lt;dbl&gt; | tz &lt;dbl&gt; | dst &lt;chr&gt; | tzone &lt;chr&gt; |\n",
       "|---|---|---|---|---|---|---|---|---|---|---|---|---|---|---|\n",
       "| 2013 | 1 | 1 | 5 | EWR | IAH | N14228 | UA | Newark Liberty Intl | 40.69250 | -74.16867 | 18 | -5 | A | America/New_York |\n",
       "| 2013 | 1 | 1 | 5 | LGA | IAH | N24211 | UA | La Guardia          | 40.77725 | -73.87261 | 22 | -5 | A | America/New_York |\n",
       "| 2013 | 1 | 1 | 5 | JFK | MIA | N619AA | AA | John F Kennedy Intl | 40.63975 | -73.77893 | 13 | -5 | A | America/New_York |\n",
       "| 2013 | 1 | 1 | 5 | JFK | BQN | N804JB | B6 | John F Kennedy Intl | 40.63975 | -73.77893 | 13 | -5 | A | America/New_York |\n",
       "| 2013 | 1 | 1 | 6 | LGA | ATL | N668DN | DL | La Guardia          | 40.77725 | -73.87261 | 22 | -5 | A | America/New_York |\n",
       "| 2013 | 1 | 1 | 5 | EWR | ORD | N39463 | UA | Newark Liberty Intl | 40.69250 | -74.16867 | 18 | -5 | A | America/New_York |\n",
       "| 2013 | 1 | 1 | 6 | EWR | FLL | N516JB | B6 | Newark Liberty Intl | 40.69250 | -74.16867 | 18 | -5 | A | America/New_York |\n",
       "| 2013 | 1 | 1 | 6 | LGA | IAD | N829AS | EV | La Guardia          | 40.77725 | -73.87261 | 22 | -5 | A | America/New_York |\n",
       "| 2013 | 1 | 1 | 6 | JFK | MCO | N593JB | B6 | John F Kennedy Intl | 40.63975 | -73.77893 | 13 | -5 | A | America/New_York |\n",
       "| 2013 | 1 | 1 | 6 | LGA | ORD | N3ALAA | AA | La Guardia          | 40.77725 | -73.87261 | 22 | -5 | A | America/New_York |\n",
       "| 2013 | 1 | 1 | 6 | JFK | PBI | N793JB | B6 | John F Kennedy Intl | 40.63975 | -73.77893 | 13 | -5 | A | America/New_York |\n",
       "| 2013 | 1 | 1 | 6 | JFK | TPA | N657JB | B6 | John F Kennedy Intl | 40.63975 | -73.77893 | 13 | -5 | A | America/New_York |\n",
       "| 2013 | 1 | 1 | 6 | JFK | LAX | N29129 | UA | John F Kennedy Intl | 40.63975 | -73.77893 | 13 | -5 | A | America/New_York |\n",
       "| 2013 | 1 | 1 | 6 | EWR | SFO | N53441 | UA | Newark Liberty Intl | 40.69250 | -74.16867 | 18 | -5 | A | America/New_York |\n",
       "| 2013 | 1 | 1 | 6 | LGA | DFW | N3DUAA | AA | La Guardia          | 40.77725 | -73.87261 | 22 | -5 | A | America/New_York |\n",
       "| 2013 | 1 | 1 | 5 | JFK | BOS | N708JB | B6 | John F Kennedy Intl | 40.63975 | -73.77893 | 13 | -5 | A | America/New_York |\n",
       "| 2013 | 1 | 1 | 6 | EWR | LAS | N76515 | UA | Newark Liberty Intl | 40.69250 | -74.16867 | 18 | -5 | A | America/New_York |\n",
       "| 2013 | 1 | 1 | 6 | LGA | FLL | N595JB | B6 | La Guardia          | 40.77725 | -73.87261 | 22 | -5 | A | America/New_York |\n",
       "| 2013 | 1 | 1 | 6 | LGA | ATL | N542MQ | MQ | La Guardia          | 40.77725 | -73.87261 | 22 | -5 | A | America/New_York |\n",
       "| 2013 | 1 | 1 | 6 | EWR | PBI | N644JB | B6 | Newark Liberty Intl | 40.69250 | -74.16867 | 18 | -5 | A | America/New_York |\n",
       "| 2013 | 1 | 1 | 6 | LGA | MSP | N971DL | DL | La Guardia          | 40.77725 | -73.87261 | 22 | -5 | A | America/New_York |\n",
       "| 2013 | 1 | 1 | 6 | LGA | DTW | N730MQ | MQ | La Guardia          | 40.77725 | -73.87261 | 22 | -5 | A | America/New_York |\n",
       "| 2013 | 1 | 1 | 6 | EWR | MIA | N633AA | AA | Newark Liberty Intl | 40.69250 | -74.16867 | 18 | -5 | A | America/New_York |\n",
       "| 2013 | 1 | 1 | 6 | JFK | ATL | N3739P | DL | John F Kennedy Intl | 40.63975 | -73.77893 | 13 | -5 | A | America/New_York |\n",
       "| 2013 | 1 | 1 | 6 | EWR | MIA | N53442 | UA | Newark Liberty Intl | 40.69250 | -74.16867 | 18 | -5 | A | America/New_York |\n",
       "| 2013 | 1 | 1 | 6 | EWR | ORD | N9EAMQ | MQ | Newark Liberty Intl | 40.69250 | -74.16867 | 18 | -5 | A | America/New_York |\n",
       "| 2013 | 1 | 1 | 6 | JFK | SFO | N532UA | UA | John F Kennedy Intl | 40.63975 | -73.77893 | 13 | -5 | A | America/New_York |\n",
       "| 2013 | 1 | 1 | 6 | JFK | RSW | N635JB | B6 | John F Kennedy Intl | 40.63975 | -73.77893 | 13 | -5 | A | America/New_York |\n",
       "| 2013 | 1 | 1 | 6 | JFK | SJU | N794JB | B6 | John F Kennedy Intl | 40.63975 | -73.77893 | 13 | -5 | A | America/New_York |\n",
       "| 2013 | 1 | 1 | 6 | EWR | ATL | N326NB | DL | Newark Liberty Intl | 40.69250 | -74.16867 | 18 | -5 | A | America/New_York |\n",
       "| ⋮ | ⋮ | ⋮ | ⋮ | ⋮ | ⋮ | ⋮ | ⋮ | ⋮ | ⋮ | ⋮ | ⋮ | ⋮ | ⋮ | ⋮ |\n",
       "| 2013 | 9 | 30 | 21 | LGA | CHO | N712EV | EV | La Guardia          | 40.77725 | -73.87261 | 22 | -5 | A | America/New_York |\n",
       "| 2013 | 9 | 30 | 21 | EWR | CLT | N16546 | EV | Newark Liberty Intl | 40.69250 | -74.16867 | 18 | -5 | A | America/New_York |\n",
       "| 2013 | 9 | 30 | 21 | JFK | DEN | N807JB | B6 | John F Kennedy Intl | 40.63975 | -73.77893 | 13 | -5 | A | America/New_York |\n",
       "| 2013 | 9 | 30 | 20 | LGA | RIC | N751EV | EV | La Guardia          | 40.77725 | -73.87261 | 22 | -5 | A | America/New_York |\n",
       "| 2013 | 9 | 30 | 21 | JFK | DCA | N807MQ | MQ | John F Kennedy Intl | 40.63975 | -73.77893 | 13 | -5 | A | America/New_York |\n",
       "| 2013 | 9 | 30 | 21 | JFK | LAX | N335AA | AA | John F Kennedy Intl | 40.63975 | -73.77893 | 13 | -5 | A | America/New_York |\n",
       "| 2013 | 9 | 30 | 21 | EWR | PWM | N12957 | EV | Newark Liberty Intl | 40.69250 | -74.16867 | 18 | -5 | A | America/New_York |\n",
       "| 2013 | 9 | 30 | 21 | JFK | SJU | N633JB | B6 | John F Kennedy Intl | 40.63975 | -73.77893 | 13 | -5 | A | America/New_York |\n",
       "| 2013 | 9 | 30 | 21 | LGA | FLL | N627JB | B6 | La Guardia          | 40.77725 | -73.87261 | 22 | -5 | A | America/New_York |\n",
       "| 2013 | 9 | 30 | 21 | EWR | BOS | N813UA | UA | Newark Liberty Intl | 40.69250 | -74.16867 | 18 | -5 | A | America/New_York |\n",
       "| 2013 | 9 | 30 | 21 | EWR | MHT | N10575 | EV | Newark Liberty Intl | 40.69250 | -74.16867 | 18 | -5 | A | America/New_York |\n",
       "| 2013 | 9 | 30 | 18 | JFK | BUF | N906XJ | 9E | John F Kennedy Intl | 40.63975 | -73.77893 | 13 | -5 | A | America/New_York |\n",
       "| 2013 | 9 | 30 | 22 | LGA | BGR | N722EV | EV | La Guardia          | 40.77725 | -73.87261 | 22 | -5 | A | America/New_York |\n",
       "| 2013 | 9 | 30 | 21 | LGA | BNA | N532MQ | MQ | La Guardia          | 40.77725 | -73.87261 | 22 | -5 | A | America/New_York |\n",
       "| 2013 | 9 | 30 | 20 | EWR | STL | N12145 | EV | Newark Liberty Intl | 40.69250 | -74.16867 | 18 | -5 | A | America/New_York |\n",
       "| 2013 | 9 | 30 | 22 | JFK | PWM | N193JB | B6 | John F Kennedy Intl | 40.63975 | -73.77893 | 13 | -5 | A | America/New_York |\n",
       "| 2013 | 9 | 30 | 21 | EWR | SFO | N578UA | UA | Newark Liberty Intl | 40.69250 | -74.16867 | 18 | -5 | A | America/New_York |\n",
       "| 2013 | 9 | 30 | 20 | JFK | MCO | N804JB | B6 | John F Kennedy Intl | 40.63975 | -73.77893 | 13 | -5 | A | America/New_York |\n",
       "| 2013 | 9 | 30 | 22 | JFK | BTV | N318JB | B6 | John F Kennedy Intl | 40.63975 | -73.77893 | 13 | -5 | A | America/New_York |\n",
       "| 2013 | 9 | 30 | 22 | JFK | SYR | N354JB | B6 | John F Kennedy Intl | 40.63975 | -73.77893 | 13 | -5 | A | America/New_York |\n",
       "| 2013 | 9 | 30 | 22 | JFK | BUF | N281JB | B6 | John F Kennedy Intl | 40.63975 | -73.77893 | 13 | -5 | A | America/New_York |\n",
       "| 2013 | 9 | 30 | 22 | JFK | ROC | N346JB | B6 | John F Kennedy Intl | 40.63975 | -73.77893 | 13 | -5 | A | America/New_York |\n",
       "| 2013 | 9 | 30 | 22 | JFK | BOS | N565JB | B6 | John F Kennedy Intl | 40.63975 | -73.77893 | 13 | -5 | A | America/New_York |\n",
       "| 2013 | 9 | 30 | 23 | JFK | PSE | N516JB | B6 | John F Kennedy Intl | 40.63975 | -73.77893 | 13 | -5 | A | America/New_York |\n",
       "| 2013 | 9 | 30 | 18 | LGA | BNA | N740EV | EV | La Guardia          | 40.77725 | -73.87261 | 22 | -5 | A | America/New_York |\n",
       "| 2013 | 9 | 30 | 14 | JFK | DCA | NA     | 9E | John F Kennedy Intl | 40.63975 | -73.77893 | 13 | -5 | A | America/New_York |\n",
       "| 2013 | 9 | 30 | 22 | LGA | SYR | NA     | 9E | La Guardia          | 40.77725 | -73.87261 | 22 | -5 | A | America/New_York |\n",
       "| 2013 | 9 | 30 | 12 | LGA | BNA | N535MQ | MQ | La Guardia          | 40.77725 | -73.87261 | 22 | -5 | A | America/New_York |\n",
       "| 2013 | 9 | 30 | 11 | LGA | CLE | N511MQ | MQ | La Guardia          | 40.77725 | -73.87261 | 22 | -5 | A | America/New_York |\n",
       "| 2013 | 9 | 30 |  8 | LGA | RDU | N839MQ | MQ | La Guardia          | 40.77725 | -73.87261 | 22 | -5 | A | America/New_York |\n",
       "\n"
      ],
      "text/plain": [
       "       year month day hour origin dest tailnum carrier name               \n",
       "1      2013 1     1   5    EWR    IAH  N14228  UA      Newark Liberty Intl\n",
       "2      2013 1     1   5    LGA    IAH  N24211  UA      La Guardia         \n",
       "3      2013 1     1   5    JFK    MIA  N619AA  AA      John F Kennedy Intl\n",
       "4      2013 1     1   5    JFK    BQN  N804JB  B6      John F Kennedy Intl\n",
       "5      2013 1     1   6    LGA    ATL  N668DN  DL      La Guardia         \n",
       "6      2013 1     1   5    EWR    ORD  N39463  UA      Newark Liberty Intl\n",
       "7      2013 1     1   6    EWR    FLL  N516JB  B6      Newark Liberty Intl\n",
       "8      2013 1     1   6    LGA    IAD  N829AS  EV      La Guardia         \n",
       "9      2013 1     1   6    JFK    MCO  N593JB  B6      John F Kennedy Intl\n",
       "10     2013 1     1   6    LGA    ORD  N3ALAA  AA      La Guardia         \n",
       "11     2013 1     1   6    JFK    PBI  N793JB  B6      John F Kennedy Intl\n",
       "12     2013 1     1   6    JFK    TPA  N657JB  B6      John F Kennedy Intl\n",
       "13     2013 1     1   6    JFK    LAX  N29129  UA      John F Kennedy Intl\n",
       "14     2013 1     1   6    EWR    SFO  N53441  UA      Newark Liberty Intl\n",
       "15     2013 1     1   6    LGA    DFW  N3DUAA  AA      La Guardia         \n",
       "16     2013 1     1   5    JFK    BOS  N708JB  B6      John F Kennedy Intl\n",
       "17     2013 1     1   6    EWR    LAS  N76515  UA      Newark Liberty Intl\n",
       "18     2013 1     1   6    LGA    FLL  N595JB  B6      La Guardia         \n",
       "19     2013 1     1   6    LGA    ATL  N542MQ  MQ      La Guardia         \n",
       "20     2013 1     1   6    EWR    PBI  N644JB  B6      Newark Liberty Intl\n",
       "21     2013 1     1   6    LGA    MSP  N971DL  DL      La Guardia         \n",
       "22     2013 1     1   6    LGA    DTW  N730MQ  MQ      La Guardia         \n",
       "23     2013 1     1   6    EWR    MIA  N633AA  AA      Newark Liberty Intl\n",
       "24     2013 1     1   6    JFK    ATL  N3739P  DL      John F Kennedy Intl\n",
       "25     2013 1     1   6    EWR    MIA  N53442  UA      Newark Liberty Intl\n",
       "26     2013 1     1   6    EWR    ORD  N9EAMQ  MQ      Newark Liberty Intl\n",
       "27     2013 1     1   6    JFK    SFO  N532UA  UA      John F Kennedy Intl\n",
       "28     2013 1     1   6    JFK    RSW  N635JB  B6      John F Kennedy Intl\n",
       "29     2013 1     1   6    JFK    SJU  N794JB  B6      John F Kennedy Intl\n",
       "30     2013 1     1   6    EWR    ATL  N326NB  DL      Newark Liberty Intl\n",
       "⋮      ⋮    ⋮     ⋮   ⋮    ⋮      ⋮    ⋮       ⋮       ⋮                  \n",
       "336747 2013 9     30  21   LGA    CHO  N712EV  EV      La Guardia         \n",
       "336748 2013 9     30  21   EWR    CLT  N16546  EV      Newark Liberty Intl\n",
       "336749 2013 9     30  21   JFK    DEN  N807JB  B6      John F Kennedy Intl\n",
       "336750 2013 9     30  20   LGA    RIC  N751EV  EV      La Guardia         \n",
       "336751 2013 9     30  21   JFK    DCA  N807MQ  MQ      John F Kennedy Intl\n",
       "336752 2013 9     30  21   JFK    LAX  N335AA  AA      John F Kennedy Intl\n",
       "336753 2013 9     30  21   EWR    PWM  N12957  EV      Newark Liberty Intl\n",
       "336754 2013 9     30  21   JFK    SJU  N633JB  B6      John F Kennedy Intl\n",
       "336755 2013 9     30  21   LGA    FLL  N627JB  B6      La Guardia         \n",
       "336756 2013 9     30  21   EWR    BOS  N813UA  UA      Newark Liberty Intl\n",
       "336757 2013 9     30  21   EWR    MHT  N10575  EV      Newark Liberty Intl\n",
       "336758 2013 9     30  18   JFK    BUF  N906XJ  9E      John F Kennedy Intl\n",
       "336759 2013 9     30  22   LGA    BGR  N722EV  EV      La Guardia         \n",
       "336760 2013 9     30  21   LGA    BNA  N532MQ  MQ      La Guardia         \n",
       "336761 2013 9     30  20   EWR    STL  N12145  EV      Newark Liberty Intl\n",
       "336762 2013 9     30  22   JFK    PWM  N193JB  B6      John F Kennedy Intl\n",
       "336763 2013 9     30  21   EWR    SFO  N578UA  UA      Newark Liberty Intl\n",
       "336764 2013 9     30  20   JFK    MCO  N804JB  B6      John F Kennedy Intl\n",
       "336765 2013 9     30  22   JFK    BTV  N318JB  B6      John F Kennedy Intl\n",
       "336766 2013 9     30  22   JFK    SYR  N354JB  B6      John F Kennedy Intl\n",
       "336767 2013 9     30  22   JFK    BUF  N281JB  B6      John F Kennedy Intl\n",
       "336768 2013 9     30  22   JFK    ROC  N346JB  B6      John F Kennedy Intl\n",
       "336769 2013 9     30  22   JFK    BOS  N565JB  B6      John F Kennedy Intl\n",
       "336770 2013 9     30  23   JFK    PSE  N516JB  B6      John F Kennedy Intl\n",
       "336771 2013 9     30  18   LGA    BNA  N740EV  EV      La Guardia         \n",
       "336772 2013 9     30  14   JFK    DCA  NA      9E      John F Kennedy Intl\n",
       "336773 2013 9     30  22   LGA    SYR  NA      9E      La Guardia         \n",
       "336774 2013 9     30  12   LGA    BNA  N535MQ  MQ      La Guardia         \n",
       "336775 2013 9     30  11   LGA    CLE  N511MQ  MQ      La Guardia         \n",
       "336776 2013 9     30   8   LGA    RDU  N839MQ  MQ      La Guardia         \n",
       "       lat      lon       alt tz dst tzone           \n",
       "1      40.69250 -74.16867 18  -5 A   America/New_York\n",
       "2      40.77725 -73.87261 22  -5 A   America/New_York\n",
       "3      40.63975 -73.77893 13  -5 A   America/New_York\n",
       "4      40.63975 -73.77893 13  -5 A   America/New_York\n",
       "5      40.77725 -73.87261 22  -5 A   America/New_York\n",
       "6      40.69250 -74.16867 18  -5 A   America/New_York\n",
       "7      40.69250 -74.16867 18  -5 A   America/New_York\n",
       "8      40.77725 -73.87261 22  -5 A   America/New_York\n",
       "9      40.63975 -73.77893 13  -5 A   America/New_York\n",
       "10     40.77725 -73.87261 22  -5 A   America/New_York\n",
       "11     40.63975 -73.77893 13  -5 A   America/New_York\n",
       "12     40.63975 -73.77893 13  -5 A   America/New_York\n",
       "13     40.63975 -73.77893 13  -5 A   America/New_York\n",
       "14     40.69250 -74.16867 18  -5 A   America/New_York\n",
       "15     40.77725 -73.87261 22  -5 A   America/New_York\n",
       "16     40.63975 -73.77893 13  -5 A   America/New_York\n",
       "17     40.69250 -74.16867 18  -5 A   America/New_York\n",
       "18     40.77725 -73.87261 22  -5 A   America/New_York\n",
       "19     40.77725 -73.87261 22  -5 A   America/New_York\n",
       "20     40.69250 -74.16867 18  -5 A   America/New_York\n",
       "21     40.77725 -73.87261 22  -5 A   America/New_York\n",
       "22     40.77725 -73.87261 22  -5 A   America/New_York\n",
       "23     40.69250 -74.16867 18  -5 A   America/New_York\n",
       "24     40.63975 -73.77893 13  -5 A   America/New_York\n",
       "25     40.69250 -74.16867 18  -5 A   America/New_York\n",
       "26     40.69250 -74.16867 18  -5 A   America/New_York\n",
       "27     40.63975 -73.77893 13  -5 A   America/New_York\n",
       "28     40.63975 -73.77893 13  -5 A   America/New_York\n",
       "29     40.63975 -73.77893 13  -5 A   America/New_York\n",
       "30     40.69250 -74.16867 18  -5 A   America/New_York\n",
       "⋮      ⋮        ⋮         ⋮   ⋮  ⋮   ⋮               \n",
       "336747 40.77725 -73.87261 22  -5 A   America/New_York\n",
       "336748 40.69250 -74.16867 18  -5 A   America/New_York\n",
       "336749 40.63975 -73.77893 13  -5 A   America/New_York\n",
       "336750 40.77725 -73.87261 22  -5 A   America/New_York\n",
       "336751 40.63975 -73.77893 13  -5 A   America/New_York\n",
       "336752 40.63975 -73.77893 13  -5 A   America/New_York\n",
       "336753 40.69250 -74.16867 18  -5 A   America/New_York\n",
       "336754 40.63975 -73.77893 13  -5 A   America/New_York\n",
       "336755 40.77725 -73.87261 22  -5 A   America/New_York\n",
       "336756 40.69250 -74.16867 18  -5 A   America/New_York\n",
       "336757 40.69250 -74.16867 18  -5 A   America/New_York\n",
       "336758 40.63975 -73.77893 13  -5 A   America/New_York\n",
       "336759 40.77725 -73.87261 22  -5 A   America/New_York\n",
       "336760 40.77725 -73.87261 22  -5 A   America/New_York\n",
       "336761 40.69250 -74.16867 18  -5 A   America/New_York\n",
       "336762 40.63975 -73.77893 13  -5 A   America/New_York\n",
       "336763 40.69250 -74.16867 18  -5 A   America/New_York\n",
       "336764 40.63975 -73.77893 13  -5 A   America/New_York\n",
       "336765 40.63975 -73.77893 13  -5 A   America/New_York\n",
       "336766 40.63975 -73.77893 13  -5 A   America/New_York\n",
       "336767 40.63975 -73.77893 13  -5 A   America/New_York\n",
       "336768 40.63975 -73.77893 13  -5 A   America/New_York\n",
       "336769 40.63975 -73.77893 13  -5 A   America/New_York\n",
       "336770 40.63975 -73.77893 13  -5 A   America/New_York\n",
       "336771 40.77725 -73.87261 22  -5 A   America/New_York\n",
       "336772 40.63975 -73.77893 13  -5 A   America/New_York\n",
       "336773 40.77725 -73.87261 22  -5 A   America/New_York\n",
       "336774 40.77725 -73.87261 22  -5 A   America/New_York\n",
       "336775 40.77725 -73.87261 22  -5 A   America/New_York\n",
       "336776 40.77725 -73.87261 22  -5 A   America/New_York"
      ]
     },
     "metadata": {},
     "output_type": "display_data"
    }
   ],
   "source": [
    "flights2 %>% \n",
    "  left_join(airports, c(\"origin\" = \"faa\"))"
   ]
  },
  {
   "cell_type": "code",
   "execution_count": null,
   "metadata": {},
   "outputs": [],
   "source": []
  }
 ],
 "metadata": {
  "kernelspec": {
   "display_name": "R",
   "language": "R",
   "name": "ir"
  },
  "language_info": {
   "codemirror_mode": "r",
   "file_extension": ".r",
   "mimetype": "text/x-r-source",
   "name": "R",
   "pygments_lexer": "r",
   "version": "4.0.3"
  }
 },
 "nbformat": 4,
 "nbformat_minor": 2
}
