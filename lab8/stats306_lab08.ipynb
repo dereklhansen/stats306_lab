{
 "cells": [
  {
   "cell_type": "markdown",
   "metadata": {},
   "source": [
    "# Lab 4: Regular Expressions and Factors\n"
   ]
  },
  {
   "cell_type": "markdown",
   "metadata": {},
   "source": [
    "Derek Hansen\n",
    "\n",
    "Wednesday, November 4, 2020\n",
    "1:00PM-2:30PM"
   ]
  },
  {
   "cell_type": "markdown",
   "metadata": {},
   "source": [
    "# Preliminaries\n",
    "\n"
   ]
  },
  {
   "cell_type": "markdown",
   "metadata": {},
   "source": [
    "# Regular Expressions\n"
   ]
  },
  {
   "cell_type": "code",
   "execution_count": 1,
   "metadata": {},
   "outputs": [
    {
     "name": "stderr",
     "output_type": "stream",
     "text": [
      "── \u001b[1mAttaching packages\u001b[22m ─────────────────────────────────────── tidyverse 1.3.0 ──\n",
      "\n",
      "\u001b[32m✔\u001b[39m \u001b[34mggplot2\u001b[39m 3.3.2     \u001b[32m✔\u001b[39m \u001b[34mpurrr  \u001b[39m 0.3.4\n",
      "\u001b[32m✔\u001b[39m \u001b[34mtibble \u001b[39m 3.0.3     \u001b[32m✔\u001b[39m \u001b[34mdplyr  \u001b[39m 1.0.2\n",
      "\u001b[32m✔\u001b[39m \u001b[34mtidyr  \u001b[39m 1.1.2     \u001b[32m✔\u001b[39m \u001b[34mstringr\u001b[39m 1.4.0\n",
      "\u001b[32m✔\u001b[39m \u001b[34mreadr  \u001b[39m 1.4.0     \u001b[32m✔\u001b[39m \u001b[34mforcats\u001b[39m 0.5.0\n",
      "\n",
      "── \u001b[1mConflicts\u001b[22m ────────────────────────────────────────── tidyverse_conflicts() ──\n",
      "\u001b[31m✖\u001b[39m \u001b[34mdplyr\u001b[39m::\u001b[32mfilter()\u001b[39m masks \u001b[34mstats\u001b[39m::filter()\n",
      "\u001b[31m✖\u001b[39m \u001b[34mdplyr\u001b[39m::\u001b[32mlag()\u001b[39m    masks \u001b[34mstats\u001b[39m::lag()\n",
      "\n"
     ]
    }
   ],
   "source": [
    "library(tidyverse)"
   ]
  },
  {
   "cell_type": "markdown",
   "metadata": {},
   "source": [
    "## Regular Expressions are Hard"
   ]
  },
  {
   "cell_type": "markdown",
   "metadata": {},
   "source": [
    "-  Even seasoned programmers often struggle with regular expressions; they require a lot of practice to master.\n",
    "-  Many people have written entire books with different animals on the cover just on the topic, and this is just from one publisher.\n"
   ]
  },
  {
   "attachments": {},
   "cell_type": "markdown",
   "metadata": {},
   "source": [
    "![owl](owl.jpg)\n",
    "![weasel](weasel.jpg)\n",
    "![bat](bat.jpg)\n"
   ]
  },
  {
   "cell_type": "markdown",
   "metadata": {},
   "source": [
    "-  This website will let you test out regular expressions on the fly: https://www.regexpal.com/\n",
    "-  Be sure to check the \"multiline\" box under \"flags\""
   ]
  },
  {
   "cell_type": "markdown",
   "metadata": {},
   "source": [
    "![](regex_pal2.png)"
   ]
  },
  {
   "cell_type": "markdown",
   "metadata": {},
   "source": [
    "## RegExr\n",
    "-  RegExr is a more powerful website that color-codes expressions as you build them: https://regexr.com/"
   ]
  },
  {
   "cell_type": "markdown",
   "metadata": {},
   "source": [
    "![](regexr.png)"
   ]
  },
  {
   "cell_type": "markdown",
   "metadata": {},
   "source": [
    "## Using Regular Expressions in dplyr\n",
    "- Regular expressions aren't just useful for text data. It is also useful when data comes in a wide format with many columns that are hard to reconcile.\n",
    "- Here we a table of crime data by age, sex, and race from the ICSPR at the University of Michigan (original source here: https://www.icpsr.umich.edu/web/NACJD/studies/36115)\n",
    "- As you'll see below, each row corresponds to a particular agency, month, and offense. The subsequent columns denotes counts of gender-age crimes (e.g. \"F20\" is how many reports for females age 20), or of different racial groups which are broken up by juvenile-status and race (\"AW\" is Adult White).\n",
    "- While high-quality, this data is not very tidy; it is good example of how data actually comes in the real world.\n"
   ]
  },
  {
   "cell_type": "code",
   "execution_count": 4,
   "metadata": {
    "scrolled": true
   },
   "outputs": [
    {
     "name": "stderr",
     "output_type": "stream",
     "text": [
      "\n",
      "\u001b[36m──\u001b[39m \u001b[1m\u001b[1mColumn specification\u001b[1m\u001b[22m \u001b[36m────────────────────────────────────────────────────────\u001b[39m\n",
      "cols(\n",
      "  .default = col_double(),\n",
      "  ORI = \u001b[31mcol_character()\u001b[39m,\n",
      "  GROUP = \u001b[31mcol_character()\u001b[39m,\n",
      "  CORE = \u001b[31mcol_character()\u001b[39m,\n",
      "  AGENCY = \u001b[31mcol_character()\u001b[39m,\n",
      "  STNAME = \u001b[31mcol_character()\u001b[39m,\n",
      "  OFFENSE = \u001b[31mcol_character()\u001b[39m\n",
      ")\n",
      "\u001b[36mℹ\u001b[39m Use \u001b[38;5;235m\u001b[48;5;253m\u001b[38;5;235m\u001b[48;5;253m`spec()`\u001b[48;5;253m\u001b[38;5;235m\u001b[49m\u001b[39m for the full column specifications.\n",
      "\n",
      "\n"
     ]
    }
   ],
   "source": [
    "icpsr_raw <- read_csv(\"icpsr_raw.csv\")"
   ]
  },
  {
   "cell_type": "code",
   "execution_count": 7,
   "metadata": {
    "scrolled": false
   },
   "outputs": [
    {
     "name": "stdout",
     "output_type": "stream",
     "text": [
      "Rows: 58,277\n",
      "Columns: 89\n",
      "$ ASR_ID   \u001b[3m\u001b[38;5;246m<dbl>\u001b[39m\u001b[23m 3, 3, 3, 3, 3, 3, 3, 3, 3, 3, 3, 3, 3, 3, 3, 3, 3, 3, 3, 3, …\n",
      "$ CONTENTS \u001b[3m\u001b[38;5;246m<dbl>\u001b[39m\u001b[23m 3, 3, 3, 3, 3, 3, 3, 3, 3, 3, 3, 3, 3, 3, 3, 3, 3, 3, 3, 3, …\n",
      "$ STATE    \u001b[3m\u001b[38;5;246m<dbl>\u001b[39m\u001b[23m 21, 21, 21, 21, 21, 21, 21, 21, 21, 21, 21, 21, 21, 21, 21, …\n",
      "$ ORI      \u001b[3m\u001b[38;5;246m<chr>\u001b[39m\u001b[23m \"MI01001\", \"MI01001\", \"MI01001\", \"MI01001\", \"MI01001\", \"MI01…\n",
      "$ GROUP    \u001b[3m\u001b[38;5;246m<chr>\u001b[39m\u001b[23m \"8D\", \"8D\", \"8D\", \"8D\", \"8D\", \"8D\", \"8D\", \"8D\", \"8D\", \"8D\", …\n",
      "$ DIV      \u001b[3m\u001b[38;5;246m<dbl>\u001b[39m\u001b[23m 3, 3, 3, 3, 3, 3, 3, 3, 3, 3, 3, 3, 3, 3, 3, 3, 3, 3, 3, 3, …\n",
      "$ AGHEADER \u001b[3m\u001b[38;5;246m<dbl>\u001b[39m\u001b[23m 0, 0, 0, 0, 0, 0, 0, 0, 0, 0, 0, 0, 0, 0, 0, 0, 0, 0, 0, 0, …\n",
      "$ YEAR     \u001b[3m\u001b[38;5;246m<dbl>\u001b[39m\u001b[23m 2013, 2013, 2013, 2013, 2013, 2013, 2013, 2013, 2013, 2013, …\n",
      "$ MSA      \u001b[3m\u001b[38;5;246m<dbl>\u001b[39m\u001b[23m 998, 998, 998, 998, 998, 998, 998, 998, 998, 998, 998, 998, …\n",
      "$ COUNTY   \u001b[3m\u001b[38;5;246m<dbl>\u001b[39m\u001b[23m 1, 1, 1, 1, 1, 1, 1, 1, 1, 1, 1, 1, 1, 1, 1, 1, 1, 1, 1, 1, …\n",
      "$ SEQNO    \u001b[3m\u001b[38;5;246m<dbl>\u001b[39m\u001b[23m 70480, 70480, 70480, 70480, 70480, 70480, 70480, 70480, 7048…\n",
      "$ SUB      \u001b[3m\u001b[38;5;246m<dbl>\u001b[39m\u001b[23m 0, 0, 0, 0, 0, 0, 0, 0, 0, 0, 0, 0, 0, 0, 0, 0, 0, 0, 0, 0, …\n",
      "$ CORE     \u001b[3m\u001b[38;5;246m<chr>\u001b[39m\u001b[23m \"N\", \"N\", \"N\", \"N\", \"N\", \"N\", \"N\", \"N\", \"N\", \"N\", \"N\", \"N\", …\n",
      "$ COVBY    \u001b[3m\u001b[38;5;246m<dbl>\u001b[39m\u001b[23m 0, 0, 0, 0, 0, 0, 0, 0, 0, 0, 0, 0, 0, 0, 0, 0, 0, 0, 0, 0, …\n",
      "$ POP      \u001b[3m\u001b[38;5;246m<dbl>\u001b[39m\u001b[23m 0, 0, 0, 0, 0, 0, 0, 0, 0, 0, 0, 0, 0, 0, 0, 0, 0, 0, 0, 0, …\n",
      "$ AGENCY   \u001b[3m\u001b[38;5;246m<chr>\u001b[39m\u001b[23m \"SP: ALCONA COUNTY\", \"SP: ALCONA COUNTY\", \"SP: ALCONA COUNTY…\n",
      "$ STNAME   \u001b[3m\u001b[38;5;246m<chr>\u001b[39m\u001b[23m \"MICH\", \"MICH\", \"MICH\", \"MICH\", \"MICH\", \"MICH\", \"MICH\", \"MIC…\n",
      "$ MONTH    \u001b[3m\u001b[38;5;246m<dbl>\u001b[39m\u001b[23m 1, 2, 3, 3, 3, 4, 4, 4, 5, 5, 5, 6, 6, 6, 6, 6, 6, 6, 7, 8, …\n",
      "$ MOHEADER \u001b[3m\u001b[38;5;246m<dbl>\u001b[39m\u001b[23m 0, 0, 0, 0, 0, 0, 0, 0, 0, 0, 0, 0, 0, 0, 0, 0, 0, 0, 0, 0, …\n",
      "$ BREAK    \u001b[3m\u001b[38;5;246m<dbl>\u001b[39m\u001b[23m 0, 0, 3, 3, 3, 3, 3, 3, 3, 3, 3, 3, 3, 3, 3, 3, 3, 3, 0, 3, …\n",
      "$ AREO     \u001b[3m\u001b[38;5;246m<dbl>\u001b[39m\u001b[23m 3, 3, 3, 3, 3, 3, 3, 3, 3, 3, 3, 3, 3, 3, 3, 3, 3, 3, 3, 3, …\n",
      "$ ZERO     \u001b[3m\u001b[38;5;246m<dbl>\u001b[39m\u001b[23m 0, 0, 0, 0, 0, 0, 0, 0, 0, 0, 0, 0, 0, 0, 0, 0, 0, 0, 0, 0, …\n",
      "$ DTLASTUP \u001b[3m\u001b[38;5;246m<dbl>\u001b[39m\u001b[23m 11415, 11415, 11415, 11415, 11415, 11415, 11415, 11415, 1141…\n",
      "$ DTPRUP1  \u001b[3m\u001b[38;5;246m<dbl>\u001b[39m\u001b[23m 0, 0, 0, 0, 0, 0, 0, 0, 0, 0, 0, 0, 0, 0, 0, 0, 0, 0, 0, 0, …\n",
      "$ DTPRUP2  \u001b[3m\u001b[38;5;246m<dbl>\u001b[39m\u001b[23m 0, 0, 0, 0, 0, 0, 0, 0, 0, 0, 0, 0, 0, 0, 0, 0, 0, 0, 0, 0, …\n",
      "$ JUVDISP  \u001b[3m\u001b[38;5;246m<dbl>\u001b[39m\u001b[23m 1, 1, 1, 1, 1, 1, 1, 1, 1, 1, 1, 1, 1, 1, 1, 1, 1, 1, 1, 1, …\n",
      "$ JDHANDDP \u001b[3m\u001b[38;5;246m<dbl>\u001b[39m\u001b[23m 0, 0, 0, 0, 0, 0, 0, 0, 0, 0, 0, 0, 0, 0, 0, 0, 0, 0, 0, 0, …\n",
      "$ JDREFJC  \u001b[3m\u001b[38;5;246m<dbl>\u001b[39m\u001b[23m 0, 0, 0, 0, 0, 0, 0, 0, 0, 0, 0, 0, 0, 0, 0, 0, 0, 0, 0, 0, …\n",
      "$ JDREFWA  \u001b[3m\u001b[38;5;246m<dbl>\u001b[39m\u001b[23m 0, 0, 0, 0, 0, 0, 0, 0, 0, 0, 0, 0, 0, 0, 0, 0, 0, 0, 0, 0, …\n",
      "$ JDREFOPA \u001b[3m\u001b[38;5;246m<dbl>\u001b[39m\u001b[23m 0, 0, 0, 0, 0, 0, 0, 0, 0, 0, 0, 0, 0, 0, 0, 0, 0, 0, 0, 0, …\n",
      "$ JDREFCC  \u001b[3m\u001b[38;5;246m<dbl>\u001b[39m\u001b[23m 0, 0, 0, 0, 0, 0, 0, 0, 0, 0, 0, 0, 0, 0, 0, 0, 0, 0, 0, 0, …\n",
      "$ OFFENSE  \u001b[3m\u001b[38;5;246m<chr>\u001b[39m\u001b[23m \"26\", \"26\", \"18\", \"185\", \"18F\", \"18\", \"180\", \"18D\", \"18\", \"1…\n",
      "$ OCCUR    \u001b[3m\u001b[38;5;246m<dbl>\u001b[39m\u001b[23m 2, 2, 4, 4, 4, 3, 2, 2, 3, 3, 3, 2, 2, 4, 4, 3, 3, 2, 2, 2, …\n",
      "$ M0_9     \u001b[3m\u001b[38;5;246m<dbl>\u001b[39m\u001b[23m 99999, 99999, 99999, 99999, 99999, 99999, 99999, 99999, 9999…\n",
      "$ M10_12   \u001b[3m\u001b[38;5;246m<dbl>\u001b[39m\u001b[23m 99999, 99999, 99999, 99999, 99999, 99999, 99999, 99999, 9999…\n",
      "$ M13_14   \u001b[3m\u001b[38;5;246m<dbl>\u001b[39m\u001b[23m 99999, 99999, 99999, 99999, 99999, 99999, 99999, 99999, 9999…\n",
      "$ M15      \u001b[3m\u001b[38;5;246m<dbl>\u001b[39m\u001b[23m 99999, 99999, 99999, 99999, 99999, 99999, 99999, 99999, 9999…\n",
      "$ M16      \u001b[3m\u001b[38;5;246m<dbl>\u001b[39m\u001b[23m 99999, 99999, 99999, 99999, 99999, 99999, 99999, 99999, 9999…\n",
      "$ M17      \u001b[3m\u001b[38;5;246m<dbl>\u001b[39m\u001b[23m 99999, 99999, 99999, 99999, 99999, 99999, 99999, 99999, 9999…\n",
      "$ M18      \u001b[3m\u001b[38;5;246m<dbl>\u001b[39m\u001b[23m 99999, 99999, 99999, 99999, 99999, 99999, 99999, 99999, 9999…\n",
      "$ M19      \u001b[3m\u001b[38;5;246m<dbl>\u001b[39m\u001b[23m 99999, 99999, 99999, 99999, 99999, 99999, 99999, 99999, 9999…\n",
      "$ M20      \u001b[3m\u001b[38;5;246m<dbl>\u001b[39m\u001b[23m 99999, 99999, 99999, 99999, 99999, 99999, 99999, 99999, 9999…\n",
      "$ M21      \u001b[3m\u001b[38;5;246m<dbl>\u001b[39m\u001b[23m 99999, 99999, 99999, 99999, 99999, 99999, 99999, 99999, 9999…\n",
      "$ M22      \u001b[3m\u001b[38;5;246m<dbl>\u001b[39m\u001b[23m 99999, 99999, 99999, 99999, 99999, 99999, 99999, 99999, 9999…\n",
      "$ M23      \u001b[3m\u001b[38;5;246m<dbl>\u001b[39m\u001b[23m 99999, 99999, 1, 1, 1, 99999, 99999, 99999, 99999, 99999, 99…\n",
      "$ M24      \u001b[3m\u001b[38;5;246m<dbl>\u001b[39m\u001b[23m 99999, 99999, 1, 1, 1, 99999, 99999, 99999, 99999, 99999, 99…\n",
      "$ M25_29   \u001b[3m\u001b[38;5;246m<dbl>\u001b[39m\u001b[23m 99999, 99999, 2, 2, 2, 99999, 99999, 99999, 2, 2, 2, 99999, …\n",
      "$ M30_34   \u001b[3m\u001b[38;5;246m<dbl>\u001b[39m\u001b[23m 99999, 99999, 99999, 99999, 99999, 1, 99999, 99999, 1, 1, 1,…\n",
      "$ M35_39   \u001b[3m\u001b[38;5;246m<dbl>\u001b[39m\u001b[23m 99999, 1, 99999, 99999, 99999, 99999, 99999, 99999, 99999, 9…\n",
      "$ M40_44   \u001b[3m\u001b[38;5;246m<dbl>\u001b[39m\u001b[23m 99999, 99999, 99999, 99999, 99999, 99999, 99999, 99999, 9999…\n",
      "$ M45_49   \u001b[3m\u001b[38;5;246m<dbl>\u001b[39m\u001b[23m 99999, 99999, 99999, 99999, 99999, 99999, 99999, 99999, 9999…\n",
      "$ M50_54   \u001b[3m\u001b[38;5;246m<dbl>\u001b[39m\u001b[23m 99999, 99999, 99999, 99999, 99999, 99999, 99999, 99999, 9999…\n",
      "$ M55_59   \u001b[3m\u001b[38;5;246m<dbl>\u001b[39m\u001b[23m 99999, 99999, 99999, 99999, 99999, 1, 1, 1, 99999, 99999, 99…\n",
      "$ M60_64   \u001b[3m\u001b[38;5;246m<dbl>\u001b[39m\u001b[23m 99999, 99999, 99999, 99999, 99999, 99999, 99999, 99999, 9999…\n",
      "$ M65      \u001b[3m\u001b[38;5;246m<dbl>\u001b[39m\u001b[23m 99999, 99999, 99999, 99999, 99999, 99999, 99999, 99999, 9999…\n",
      "$ F0_9     \u001b[3m\u001b[38;5;246m<dbl>\u001b[39m\u001b[23m 99999, 99999, 99999, 99999, 99999, 99999, 99999, 99999, 9999…\n",
      "$ F10_12   \u001b[3m\u001b[38;5;246m<dbl>\u001b[39m\u001b[23m 99999, 99999, 99999, 99999, 99999, 99999, 99999, 99999, 9999…\n",
      "$ F13_14   \u001b[3m\u001b[38;5;246m<dbl>\u001b[39m\u001b[23m 99999, 99999, 99999, 99999, 99999, 99999, 99999, 99999, 9999…\n",
      "$ F15      \u001b[3m\u001b[38;5;246m<dbl>\u001b[39m\u001b[23m 99999, 99999, 99999, 99999, 99999, 99999, 99999, 99999, 9999…\n",
      "$ F16      \u001b[3m\u001b[38;5;246m<dbl>\u001b[39m\u001b[23m 99999, 99999, 99999, 99999, 99999, 99999, 99999, 99999, 9999…\n",
      "$ F17      \u001b[3m\u001b[38;5;246m<dbl>\u001b[39m\u001b[23m 99999, 99999, 99999, 99999, 99999, 99999, 99999, 99999, 9999…\n",
      "$ F18      \u001b[3m\u001b[38;5;246m<dbl>\u001b[39m\u001b[23m 99999, 99999, 99999, 99999, 99999, 99999, 99999, 99999, 9999…\n",
      "$ F19      \u001b[3m\u001b[38;5;246m<dbl>\u001b[39m\u001b[23m 99999, 99999, 99999, 99999, 99999, 99999, 99999, 99999, 9999…\n",
      "$ F20      \u001b[3m\u001b[38;5;246m<dbl>\u001b[39m\u001b[23m 99999, 99999, 99999, 99999, 99999, 99999, 99999, 99999, 9999…\n",
      "$ F21      \u001b[3m\u001b[38;5;246m<dbl>\u001b[39m\u001b[23m 99999, 99999, 99999, 99999, 99999, 99999, 99999, 99999, 9999…\n",
      "$ F22      \u001b[3m\u001b[38;5;246m<dbl>\u001b[39m\u001b[23m 99999, 99999, 99999, 99999, 99999, 99999, 99999, 99999, 9999…\n",
      "$ F23      \u001b[3m\u001b[38;5;246m<dbl>\u001b[39m\u001b[23m 99999, 99999, 99999, 99999, 99999, 99999, 99999, 99999, 9999…\n",
      "$ F24      \u001b[3m\u001b[38;5;246m<dbl>\u001b[39m\u001b[23m 99999, 99999, 99999, 99999, 99999, 99999, 99999, 99999, 9999…\n",
      "$ F25_29   \u001b[3m\u001b[38;5;246m<dbl>\u001b[39m\u001b[23m 99999, 99999, 99999, 99999, 99999, 99999, 99999, 99999, 9999…\n",
      "$ F30_34   \u001b[3m\u001b[38;5;246m<dbl>\u001b[39m\u001b[23m 99999, 99999, 99999, 99999, 99999, 99999, 99999, 99999, 9999…\n",
      "$ F35_39   \u001b[3m\u001b[38;5;246m<dbl>\u001b[39m\u001b[23m 99999, 99999, 99999, 99999, 99999, 99999, 99999, 99999, 9999…\n",
      "$ F40_44   \u001b[3m\u001b[38;5;246m<dbl>\u001b[39m\u001b[23m 1, 99999, 99999, 99999, 99999, 99999, 99999, 99999, 99999, 9…\n",
      "$ F45_49   \u001b[3m\u001b[38;5;246m<dbl>\u001b[39m\u001b[23m 99999, 99999, 99999, 99999, 99999, 99999, 99999, 99999, 9999…\n",
      "$ F50_54   \u001b[3m\u001b[38;5;246m<dbl>\u001b[39m\u001b[23m 99999, 99999, 99999, 99999, 99999, 99999, 99999, 99999, 9999…\n",
      "$ F55_59   \u001b[3m\u001b[38;5;246m<dbl>\u001b[39m\u001b[23m 99999, 99999, 99999, 99999, 99999, 99999, 99999, 99999, 9999…\n",
      "$ F60_64   \u001b[3m\u001b[38;5;246m<dbl>\u001b[39m\u001b[23m 99999, 99999, 99999, 99999, 99999, 99999, 99999, 99999, 9999…\n",
      "$ F65      \u001b[3m\u001b[38;5;246m<dbl>\u001b[39m\u001b[23m 99999, 99999, 99999, 99999, 99999, 99999, 99999, 99999, 9999…\n",
      "$ AW       \u001b[3m\u001b[38;5;246m<dbl>\u001b[39m\u001b[23m 1, 1, 4, 4, 4, 2, 1, 1, 3, 3, 3, 1, 1, 4, 4, 2, 2, 1, 1, 1, …\n",
      "$ AB       \u001b[3m\u001b[38;5;246m<dbl>\u001b[39m\u001b[23m 99999, 99999, 99999, 99999, 99999, 99999, 99999, 99999, 9999…\n",
      "$ AI       \u001b[3m\u001b[38;5;246m<dbl>\u001b[39m\u001b[23m 99999, 99999, 99999, 99999, 99999, 99999, 99999, 99999, 9999…\n",
      "$ AA       \u001b[3m\u001b[38;5;246m<dbl>\u001b[39m\u001b[23m 99999, 99999, 99999, 99999, 99999, 99999, 99999, 99999, 9999…\n",
      "$ JW       \u001b[3m\u001b[38;5;246m<dbl>\u001b[39m\u001b[23m 99999, 99999, 99999, 99999, 99999, 99999, 99999, 99999, 9999…\n",
      "$ JB       \u001b[3m\u001b[38;5;246m<dbl>\u001b[39m\u001b[23m 99999, 99999, 99999, 99999, 99999, 99999, 99999, 99999, 9999…\n",
      "$ JI       \u001b[3m\u001b[38;5;246m<dbl>\u001b[39m\u001b[23m 99999, 99999, 99999, 99999, 99999, 99999, 99999, 99999, 9999…\n",
      "$ JA       \u001b[3m\u001b[38;5;246m<dbl>\u001b[39m\u001b[23m 99999, 99999, 99999, 99999, 99999, 99999, 99999, 99999, 9999…\n",
      "$ AH       \u001b[3m\u001b[38;5;246m<dbl>\u001b[39m\u001b[23m 99999, 99999, 99999, 99999, 99999, 99999, 99999, 99999, 9999…\n",
      "$ AN       \u001b[3m\u001b[38;5;246m<dbl>\u001b[39m\u001b[23m 99999, 99999, 99999, 99999, 99999, 99999, 99999, 99999, 9999…\n",
      "$ JH       \u001b[3m\u001b[38;5;246m<dbl>\u001b[39m\u001b[23m 99999, 99999, 99999, 99999, 99999, 99999, 99999, 99999, 9999…\n",
      "$ JN       \u001b[3m\u001b[38;5;246m<dbl>\u001b[39m\u001b[23m 99999, 99999, 99999, 99999, 99999, 99999, 99999, 99999, 9999…\n"
     ]
    }
   ],
   "source": [
    "glimpse(icpsr_raw)"
   ]
  },
  {
   "cell_type": "markdown",
   "metadata": {},
   "source": [
    "- We want to form a table of the crime data of gender and age groups. We use regular expressions to select the columns that match the age-gender format we saw\n",
    "- We can print out our columns, then copy-pasted them into RegExr"
   ]
  },
  {
   "cell_type": "code",
   "execution_count": 17,
   "metadata": {},
   "outputs": [
    {
     "name": "stderr",
     "output_type": "stream",
     "text": [
      "ASR_ID\n",
      "CONTENTS\n",
      "STATE\n",
      "ORI\n",
      "GROUP\n",
      "DIV\n",
      "AGHEADER\n",
      "YEAR\n",
      "MSA\n",
      "COUNTY\n",
      "SEQNO\n",
      "SUB\n",
      "CORE\n",
      "COVBY\n",
      "POP\n",
      "AGENCY\n",
      "STNAME\n",
      "MONTH\n",
      "MOHEADER\n",
      "BREAK\n",
      "AREO\n",
      "ZERO\n",
      "DTLASTUP\n",
      "DTPRUP1\n",
      "DTPRUP2\n",
      "JUVDISP\n",
      "JDHANDDP\n",
      "JDREFJC\n",
      "JDREFWA\n",
      "JDREFOPA\n",
      "JDREFCC\n",
      "OFFENSE\n",
      "OCCUR\n",
      "M0_9\n",
      "M10_12\n",
      "M13_14\n",
      "M15\n",
      "M16\n",
      "M17\n",
      "M18\n",
      "M19\n",
      "M20\n",
      "M21\n",
      "M22\n",
      "M23\n",
      "M24\n",
      "M25_29\n",
      "M30_34\n",
      "M35_39\n",
      "M40_44\n",
      "M45_49\n",
      "M50_54\n",
      "M55_59\n",
      "M60_64\n",
      "M65\n",
      "F0_9\n",
      "F10_12\n",
      "F13_14\n",
      "F15\n",
      "F16\n",
      "F17\n",
      "F18\n",
      "F19\n",
      "F20\n",
      "F21\n",
      "F22\n",
      "F23\n",
      "F24\n",
      "F25_29\n",
      "F30_34\n",
      "F35_39\n",
      "F40_44\n",
      "F45_49\n",
      "F50_54\n",
      "F55_59\n",
      "F60_64\n",
      "F65\n",
      "AW\n",
      "AB\n",
      "AI\n",
      "AA\n",
      "JW\n",
      "JB\n",
      "JI\n",
      "JA\n",
      "AH\n",
      "AN\n",
      "JH\n",
      "JN\n",
      "\n"
     ]
    }
   ],
   "source": [
    "message(paste0(names(icpsr_raw), collapse=\"\\n\"))"
   ]
  },
  {
   "cell_type": "markdown",
   "metadata": {},
   "source": [
    "![](gender_age2.png)"
   ]
  },
  {
   "cell_type": "markdown",
   "metadata": {},
   "source": [
    "-  We then use the ```matches``` function within ```select```. ```matches``` will keep all columns that match our regular expression.\n",
    "-  Matches works with tidyr functions as well"
   ]
  },
  {
   "cell_type": "code",
   "execution_count": 8,
   "metadata": {},
   "outputs": [],
   "source": [
    "icpsr_gender_age <- icpsr_raw %>%\n",
    "  filter(CONTENTS == 3) %>%\n",
    "  select(originating_agency = ORI,\n",
    "         month = MONTH,\n",
    "         offense = OFFENSE,\n",
    "         matches(\"^(M|F)[0-9]+\")) %>%\n",
    "  gather(matches(\"^(M|F)[0-9]+\"), \n",
    "         key = \"gender_age\",\n",
    "         value = \"count\") %>%\n",
    "  mutate(count = ifelse(count == 99999, 0, count)) %>%\n",
    "  mutate(count = ifelse(count == 99998, NA_real_, count)) %>%\n",
    "  separate(gender_age, into = c(\"gender\", \"age\"), sep=1)"
   ]
  },
  {
   "cell_type": "code",
   "execution_count": 10,
   "metadata": {
    "scrolled": false
   },
   "outputs": [
    {
     "name": "stdout",
     "output_type": "stream",
     "text": [
      "\u001b[38;5;246m# A tibble: 2,521,640 x 6\u001b[39m\n",
      "   originating_agency month offense gender age   count\n",
      "   \u001b[3m\u001b[38;5;246m<chr>\u001b[39m\u001b[23m              \u001b[3m\u001b[38;5;246m<dbl>\u001b[39m\u001b[23m \u001b[3m\u001b[38;5;246m<chr>\u001b[39m\u001b[23m   \u001b[3m\u001b[38;5;246m<chr>\u001b[39m\u001b[23m  \u001b[3m\u001b[38;5;246m<chr>\u001b[39m\u001b[23m \u001b[3m\u001b[38;5;246m<dbl>\u001b[39m\u001b[23m\n",
      "\u001b[38;5;250m 1\u001b[39m MI01001                1 26      M      0_9       0\n",
      "\u001b[38;5;250m 2\u001b[39m MI01001                2 26      M      0_9       0\n",
      "\u001b[38;5;250m 3\u001b[39m MI01001                3 18      M      0_9       0\n",
      "\u001b[38;5;250m 4\u001b[39m MI01001                3 185     M      0_9       0\n",
      "\u001b[38;5;250m 5\u001b[39m MI01001                3 18F     M      0_9       0\n",
      "\u001b[38;5;250m 6\u001b[39m MI01001                4 18      M      0_9       0\n",
      "\u001b[38;5;250m 7\u001b[39m MI01001                4 180     M      0_9       0\n",
      "\u001b[38;5;250m 8\u001b[39m MI01001                4 18D     M      0_9       0\n",
      "\u001b[38;5;250m 9\u001b[39m MI01001                5 18      M      0_9       0\n",
      "\u001b[38;5;250m10\u001b[39m MI01001                5 185     M      0_9       0\n",
      "\u001b[38;5;246m# … with 2,521,630 more rows\u001b[39m\n"
     ]
    }
   ],
   "source": [
    "print(icpsr_gender_age)"
   ]
  },
  {
   "cell_type": "markdown",
   "metadata": {},
   "source": [
    "- In this simple case, we could just use the tidyr ```separate``` function with an index (1) \n",
    "- The ```extract``` function from ```tidyr``` is more powerful, as we can have it search for particular patterns"
   ]
  },
  {
   "cell_type": "code",
   "execution_count": 25,
   "metadata": {},
   "outputs": [
    {
     "name": "stdout",
     "output_type": "stream",
     "text": [
      "\u001b[38;5;246m# A tibble: 2,521,640 x 6\u001b[39m\n",
      "   originating_agency month offense gender age   count\n",
      "   \u001b[3m\u001b[38;5;246m<chr>\u001b[39m\u001b[23m              \u001b[3m\u001b[38;5;246m<dbl>\u001b[39m\u001b[23m \u001b[3m\u001b[38;5;246m<chr>\u001b[39m\u001b[23m   \u001b[3m\u001b[38;5;246m<chr>\u001b[39m\u001b[23m  \u001b[3m\u001b[38;5;246m<chr>\u001b[39m\u001b[23m \u001b[3m\u001b[38;5;246m<dbl>\u001b[39m\u001b[23m\n",
      "\u001b[38;5;250m 1\u001b[39m MI01001                1 26      M      0         0\n",
      "\u001b[38;5;250m 2\u001b[39m MI01001                2 26      M      0         0\n",
      "\u001b[38;5;250m 3\u001b[39m MI01001                3 18      M      0         0\n",
      "\u001b[38;5;250m 4\u001b[39m MI01001                3 185     M      0         0\n",
      "\u001b[38;5;250m 5\u001b[39m MI01001                3 18F     M      0         0\n",
      "\u001b[38;5;250m 6\u001b[39m MI01001                4 18      M      0         0\n",
      "\u001b[38;5;250m 7\u001b[39m MI01001                4 180     M      0         0\n",
      "\u001b[38;5;250m 8\u001b[39m MI01001                4 18D     M      0         0\n",
      "\u001b[38;5;250m 9\u001b[39m MI01001                5 18      M      0         0\n",
      "\u001b[38;5;250m10\u001b[39m MI01001                5 185     M      0         0\n",
      "\u001b[38;5;246m# … with 2,521,630 more rows\u001b[39m\n"
     ]
    }
   ],
   "source": [
    "icpsr_gender_age <- icpsr_raw %>%\n",
    "  filter(CONTENTS == 3) %>%\n",
    "  select(originating_agency = ORI,\n",
    "         month = MONTH,\n",
    "         offense = OFFENSE,\n",
    "         matches(\"^(M|F)[0-9]+\")) %>%\n",
    "  gather(matches(\"^(M|F)[0-9]+\"), \n",
    "         key = \"gender_age\",\n",
    "         value = \"count\") %>%\n",
    "  mutate(count = ifelse(count == 99999, 0, count)) %>%\n",
    "  mutate(count = ifelse(count == 99998, NA_real_, count)) %>%\n",
    "  extract(gender_age, into = c(\"gender\", \"age\"), regex=(\"(M|F)([0-9]+)\"))\n",
    "print(icpsr_gender_age )"
   ]
  },
  {
   "cell_type": "markdown",
   "metadata": {},
   "source": [
    "-  What happened? Try looking back at our website code\n",
    "-  Our regular expression was good enough to find the right columns, but \"[0-9]+\" doesn't match to any of the names with underscores (such as \"M0_9\")\n",
    "-  This is why regular expressions are tricky to master!"
   ]
  },
  {
   "cell_type": "code",
   "execution_count": 29,
   "metadata": {},
   "outputs": [
    {
     "name": "stdout",
     "output_type": "stream",
     "text": [
      "\u001b[38;5;246m# A tibble: 2,521,640 x 6\u001b[39m\n",
      "   originating_agency month offense gender age   count\n",
      "   \u001b[3m\u001b[38;5;246m<chr>\u001b[39m\u001b[23m              \u001b[3m\u001b[38;5;246m<dbl>\u001b[39m\u001b[23m \u001b[3m\u001b[38;5;246m<chr>\u001b[39m\u001b[23m   \u001b[3m\u001b[38;5;246m<chr>\u001b[39m\u001b[23m  \u001b[3m\u001b[38;5;246m<chr>\u001b[39m\u001b[23m \u001b[3m\u001b[38;5;246m<dbl>\u001b[39m\u001b[23m\n",
      "\u001b[38;5;250m 1\u001b[39m MI01001                1 26      M      0_9       0\n",
      "\u001b[38;5;250m 2\u001b[39m MI01001                2 26      M      0_9       0\n",
      "\u001b[38;5;250m 3\u001b[39m MI01001                3 18      M      0_9       0\n",
      "\u001b[38;5;250m 4\u001b[39m MI01001                3 185     M      0_9       0\n",
      "\u001b[38;5;250m 5\u001b[39m MI01001                3 18F     M      0_9       0\n",
      "\u001b[38;5;250m 6\u001b[39m MI01001                4 18      M      0_9       0\n",
      "\u001b[38;5;250m 7\u001b[39m MI01001                4 180     M      0_9       0\n",
      "\u001b[38;5;250m 8\u001b[39m MI01001                4 18D     M      0_9       0\n",
      "\u001b[38;5;250m 9\u001b[39m MI01001                5 18      M      0_9       0\n",
      "\u001b[38;5;250m10\u001b[39m MI01001                5 185     M      0_9       0\n",
      "\u001b[38;5;246m# … with 2,521,630 more rows\u001b[39m\n"
     ]
    }
   ],
   "source": [
    "icpsr_gender_age <- icpsr_raw %>%\n",
    "  filter(CONTENTS == 3) %>%\n",
    "  select(originating_agency = ORI,\n",
    "         month = MONTH,\n",
    "         offense = OFFENSE,\n",
    "         matches(\"^(M|F)[0-9]+\")) %>%\n",
    "  gather(matches(\"^(M|F)[0-9]+\"), \n",
    "         key = \"gender_age\",\n",
    "         value = \"count\") %>%\n",
    "  mutate(count = ifelse(count == 99999, 0, count)) %>%\n",
    "  mutate(count = ifelse(count == 99998, NA_real_, count)) %>%\n",
    "  extract(gender_age, into = c(\"gender\", \"age\"), regex=(\"(M|F)([0-9]+$|[0-9]+_[0-9]+)\"))\n",
    "print(icpsr_gender_age )"
   ]
  },
  {
   "cell_type": "markdown",
   "metadata": {},
   "source": [
    "**Exercise:**\n",
    "\n",
    "Instead of age being a character, split the range into age_min and age_max. If there is just one age, set age_min=age_max"
   ]
  },
  {
   "cell_type": "markdown",
   "metadata": {},
   "source": [
    "**Solution:**\n",
    "\n",
    "You could just do ```separate``` on the \"age\" column. Or you can do it directly, all with regular expressions!\n",
    "\n",
    "We need to make sure that we handle all cases properly. We define three groups to define gender_age:\n",
    "-  ```\"(M|F)\"``` matches either male or female\n",
    "-  ```\"([0-9]+)\"``` matches \"9\", \"20\", etc.\n",
    "-  ```\"((_[0-9]+|)\"``` matches ```\"_10\"```, ```\"_100\"```, **or nothing**. If we don't specify this, the rows where the string does not match this pattern will return \"NA\" for all values."
   ]
  },
  {
   "cell_type": "code",
   "execution_count": 77,
   "metadata": {},
   "outputs": [
    {
     "name": "stdout",
     "output_type": "stream",
     "text": [
      "\u001b[38;5;246m# A tibble: 2,521,640 x 9\u001b[39m\n",
      "   originating_age… month offense gender age_min_str age_max_str count age_min\n",
      "   \u001b[3m\u001b[38;5;246m<chr>\u001b[39m\u001b[23m            \u001b[3m\u001b[38;5;246m<dbl>\u001b[39m\u001b[23m \u001b[3m\u001b[38;5;246m<chr>\u001b[39m\u001b[23m   \u001b[3m\u001b[38;5;246m<chr>\u001b[39m\u001b[23m  \u001b[3m\u001b[38;5;246m<chr>\u001b[39m\u001b[23m       \u001b[3m\u001b[38;5;246m<chr>\u001b[39m\u001b[23m       \u001b[3m\u001b[38;5;246m<dbl>\u001b[39m\u001b[23m   \u001b[3m\u001b[38;5;246m<int>\u001b[39m\u001b[23m\n",
      "\u001b[38;5;250m 1\u001b[39m MI01001              1 26      M      0           _9              0       0\n",
      "\u001b[38;5;250m 2\u001b[39m MI01001              2 26      M      0           _9              0       0\n",
      "\u001b[38;5;250m 3\u001b[39m MI01001              3 18      M      0           _9              0       0\n",
      "\u001b[38;5;250m 4\u001b[39m MI01001              3 185     M      0           _9              0       0\n",
      "\u001b[38;5;250m 5\u001b[39m MI01001              3 18F     M      0           _9              0       0\n",
      "\u001b[38;5;250m 6\u001b[39m MI01001              4 18      M      0           _9              0       0\n",
      "\u001b[38;5;250m 7\u001b[39m MI01001              4 180     M      0           _9              0       0\n",
      "\u001b[38;5;250m 8\u001b[39m MI01001              4 18D     M      0           _9              0       0\n",
      "\u001b[38;5;250m 9\u001b[39m MI01001              5 18      M      0           _9              0       0\n",
      "\u001b[38;5;250m10\u001b[39m MI01001              5 185     M      0           _9              0       0\n",
      "\u001b[38;5;246m# … with 2,521,630 more rows, and 1 more variable: age_max \u001b[3m\u001b[38;5;246m<int>\u001b[38;5;246m\u001b[23m\u001b[39m\n"
     ]
    }
   ],
   "source": [
    "icpsr_gender_age <- icpsr_raw %>%\n",
    "  filter(CONTENTS == 3) %>%\n",
    "  select(originating_agency = ORI,\n",
    "         month = MONTH,\n",
    "         offense = OFFENSE,\n",
    "         matches(\"^(M|F)[0-9]+\")) %>%\n",
    "  gather(matches(\"^(M|F)[0-9]+\"), \n",
    "         key = \"gender_age\",\n",
    "         value = \"count\") %>%\n",
    "  mutate(count = ifelse(count == 99999, 0, count)) %>%\n",
    "  mutate(count = ifelse(count == 99998, NA_real_, count)) %>%\n",
    "  extract(gender_age, into = c(\"gender\", \"age_min_str\", \"age_max_str\"), regex=(\"(M|F)([0-9]+)(_[0-9]+|)\")) %>%\n",
    "  mutate(age_min = as.integer(age_min_str), age_max=as.integer(str_sub(age_max_str, 2))) %>%\n",
    "  mutate(age_max = ifelse(is.na(age_max), age_min, age_max))\n",
    "print(icpsr_gender_age)\n"
   ]
  },
  {
   "cell_type": "code",
   "execution_count": 78,
   "metadata": {},
   "outputs": [
    {
     "name": "stdout",
     "output_type": "stream",
     "text": [
      "\u001b[38;5;246m# A tibble: 114,620 x 9\u001b[39m\n",
      "   originating_age… month offense gender age_min_str age_max_str count age_min\n",
      "   \u001b[3m\u001b[38;5;246m<chr>\u001b[39m\u001b[23m            \u001b[3m\u001b[38;5;246m<dbl>\u001b[39m\u001b[23m \u001b[3m\u001b[38;5;246m<chr>\u001b[39m\u001b[23m   \u001b[3m\u001b[38;5;246m<chr>\u001b[39m\u001b[23m  \u001b[3m\u001b[38;5;246m<chr>\u001b[39m\u001b[23m       \u001b[3m\u001b[38;5;246m<chr>\u001b[39m\u001b[23m       \u001b[3m\u001b[38;5;246m<dbl>\u001b[39m\u001b[23m   \u001b[3m\u001b[38;5;246m<int>\u001b[39m\u001b[23m\n",
      "\u001b[38;5;250m 1\u001b[39m MI01001              1 26      M      20          \u001b[38;5;246m\"\u001b[39m\u001b[38;5;246m\"\u001b[39m              0      20\n",
      "\u001b[38;5;250m 2\u001b[39m MI01001              2 26      M      20          \u001b[38;5;246m\"\u001b[39m\u001b[38;5;246m\"\u001b[39m              0      20\n",
      "\u001b[38;5;250m 3\u001b[39m MI01001              3 18      M      20          \u001b[38;5;246m\"\u001b[39m\u001b[38;5;246m\"\u001b[39m              0      20\n",
      "\u001b[38;5;250m 4\u001b[39m MI01001              3 185     M      20          \u001b[38;5;246m\"\u001b[39m\u001b[38;5;246m\"\u001b[39m              0      20\n",
      "\u001b[38;5;250m 5\u001b[39m MI01001              3 18F     M      20          \u001b[38;5;246m\"\u001b[39m\u001b[38;5;246m\"\u001b[39m              0      20\n",
      "\u001b[38;5;250m 6\u001b[39m MI01001              4 18      M      20          \u001b[38;5;246m\"\u001b[39m\u001b[38;5;246m\"\u001b[39m              0      20\n",
      "\u001b[38;5;250m 7\u001b[39m MI01001              4 180     M      20          \u001b[38;5;246m\"\u001b[39m\u001b[38;5;246m\"\u001b[39m              0      20\n",
      "\u001b[38;5;250m 8\u001b[39m MI01001              4 18D     M      20          \u001b[38;5;246m\"\u001b[39m\u001b[38;5;246m\"\u001b[39m              0      20\n",
      "\u001b[38;5;250m 9\u001b[39m MI01001              5 18      M      20          \u001b[38;5;246m\"\u001b[39m\u001b[38;5;246m\"\u001b[39m              0      20\n",
      "\u001b[38;5;250m10\u001b[39m MI01001              5 185     M      20          \u001b[38;5;246m\"\u001b[39m\u001b[38;5;246m\"\u001b[39m              0      20\n",
      "\u001b[38;5;246m# … with 114,610 more rows, and 1 more variable: age_max \u001b[3m\u001b[38;5;246m<int>\u001b[38;5;246m\u001b[23m\u001b[39m\n"
     ]
    }
   ],
   "source": [
    "print(filter(icpsr_gender_age, age_min==20))"
   ]
  }
 ],
 "metadata": {
  "kernelspec": {
   "display_name": "R",
   "language": "R",
   "name": "ir"
  },
  "language_info": {
   "codemirror_mode": "r",
   "file_extension": ".r",
   "mimetype": "text/x-r-source",
   "name": "R",
   "pygments_lexer": "r",
   "version": "4.0.3"
  }
 },
 "nbformat": 4,
 "nbformat_minor": 2
}
