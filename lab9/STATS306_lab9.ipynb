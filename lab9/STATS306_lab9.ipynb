{
 "cells": [
  {
   "cell_type": "markdown",
   "metadata": {},
   "source": [
    "# **Lab 9: Functions, vectors and lists**"
   ]
  },
  {
   "cell_type": "markdown",
   "metadata": {},
   "source": [
    "Derek Hansen\n",
    "\n",
    "See https://r4ds.had.co.nz/functions.html for a good reference."
   ]
  },
  {
   "cell_type": "code",
   "execution_count": 1,
   "metadata": {
    "scrolled": true
   },
   "outputs": [
    {
     "name": "stderr",
     "output_type": "stream",
     "text": [
      "── \u001b[1mAttaching packages\u001b[22m ─────────────────────────────────────── tidyverse 1.3.0 ──\n",
      "\n",
      "\u001b[32m✔\u001b[39m \u001b[34mggplot2\u001b[39m 3.3.2     \u001b[32m✔\u001b[39m \u001b[34mpurrr  \u001b[39m 0.3.4\n",
      "\u001b[32m✔\u001b[39m \u001b[34mtibble \u001b[39m 3.0.3     \u001b[32m✔\u001b[39m \u001b[34mdplyr  \u001b[39m 1.0.2\n",
      "\u001b[32m✔\u001b[39m \u001b[34mtidyr  \u001b[39m 1.1.2     \u001b[32m✔\u001b[39m \u001b[34mstringr\u001b[39m 1.4.0\n",
      "\u001b[32m✔\u001b[39m \u001b[34mreadr  \u001b[39m 1.4.0     \u001b[32m✔\u001b[39m \u001b[34mforcats\u001b[39m 0.5.0\n",
      "\n",
      "── \u001b[1mConflicts\u001b[22m ────────────────────────────────────────── tidyverse_conflicts() ──\n",
      "\u001b[31m✖\u001b[39m \u001b[34mdplyr\u001b[39m::\u001b[32mfilter()\u001b[39m masks \u001b[34mstats\u001b[39m::filter()\n",
      "\u001b[31m✖\u001b[39m \u001b[34mdplyr\u001b[39m::\u001b[32mlag()\u001b[39m    masks \u001b[34mstats\u001b[39m::lag()\n",
      "\n"
     ]
    }
   ],
   "source": [
    "library(tidyverse)"
   ]
  },
  {
   "cell_type": "markdown",
   "metadata": {},
   "source": [
    "# Why functions?"
   ]
  },
  {
   "cell_type": "markdown",
   "metadata": {},
   "source": [
    "Consider the following synthetic data frame. Each column is randomly generated from a different probability distribution"
   ]
  },
  {
   "cell_type": "code",
   "execution_count": 10,
   "metadata": {},
   "outputs": [
    {
     "name": "stdout",
     "output_type": "stream",
     "text": [
      "\u001b[38;5;246m# A tibble: 1,000 x 3\u001b[39m\n",
      "         x     y     z\n",
      "     \u001b[3m\u001b[38;5;246m<dbl>\u001b[39m\u001b[23m \u001b[3m\u001b[38;5;246m<dbl>\u001b[39m\u001b[23m \u001b[3m\u001b[38;5;246m<int>\u001b[39m\u001b[23m\n",
      "\u001b[38;5;250m 1\u001b[39m -\u001b[31m0\u001b[39m\u001b[31m.\u001b[39m\u001b[31m0\u001b[39m\u001b[31m86\u001b[4m6\u001b[24m\u001b[39m 0.171     5\n",
      "\u001b[38;5;250m 2\u001b[39m  1.32   1.12      2\n",
      "\u001b[38;5;250m 3\u001b[39m  0.640  0.836     1\n",
      "\u001b[38;5;250m 4\u001b[39m  1.17   0.374     1\n",
      "\u001b[38;5;250m 5\u001b[39m  0.116  0.499     3\n",
      "\u001b[38;5;250m 6\u001b[39m -\u001b[31m2\u001b[39m\u001b[31m.\u001b[39m\u001b[31m93\u001b[39m   1.94      4\n",
      "\u001b[38;5;250m 7\u001b[39m  0.678  0.346    11\n",
      "\u001b[38;5;250m 8\u001b[39m  1.12   0.392     6\n",
      "\u001b[38;5;250m 9\u001b[39m  1.38   0.542     6\n",
      "\u001b[38;5;250m10\u001b[39m  1.28   2.72      6\n",
      "\u001b[38;5;246m# … with 990 more rows\u001b[39m\n"
     ]
    }
   ],
   "source": [
    "set.seed(1111)\n",
    "df <- tibble(x = rnorm(1000),y = rgamma(1000, shape = 1), z = rpois(1000, lambda = 5))\n",
    "print(df)"
   ]
  },
  {
   "cell_type": "markdown",
   "metadata": {},
   "source": [
    "Suppose we want to normalize each column so that its maximum value is 1 and its minimum value is zero. We could do this manually..."
   ]
  },
  {
   "cell_type": "code",
   "execution_count": 15,
   "metadata": {},
   "outputs": [
    {
     "name": "stdout",
     "output_type": "stream",
     "text": [
      "\u001b[38;5;246m# A tibble: 1,000 x 3\u001b[39m\n",
      "         x      y      z\n",
      "     \u001b[3m\u001b[38;5;246m<dbl>\u001b[39m\u001b[23m  \u001b[3m\u001b[38;5;246m<dbl>\u001b[39m\u001b[23m  \u001b[3m\u001b[38;5;246m<dbl>\u001b[39m\u001b[23m\n",
      "\u001b[38;5;250m 1\u001b[39m 0.483   0.021\u001b[4m2\u001b[24m 0.385 \n",
      "\u001b[38;5;250m 2\u001b[39m 0.721   0.139  0.154 \n",
      "\u001b[38;5;250m 3\u001b[39m 0.606   0.103  0.076\u001b[4m9\u001b[24m\n",
      "\u001b[38;5;250m 4\u001b[39m 0.696   0.046\u001b[4m3\u001b[24m 0.076\u001b[4m9\u001b[24m\n",
      "\u001b[38;5;250m 5\u001b[39m 0.517   0.061\u001b[4m7\u001b[24m 0.231 \n",
      "\u001b[38;5;250m 6\u001b[39m 0.002\u001b[4m7\u001b[24m\u001b[4m7\u001b[24m 0.241  0.308 \n",
      "\u001b[38;5;250m 7\u001b[39m 0.612   0.042\u001b[4m8\u001b[24m 0.846 \n",
      "\u001b[38;5;250m 8\u001b[39m 0.687   0.048\u001b[4m5\u001b[24m 0.462 \n",
      "\u001b[38;5;250m 9\u001b[39m 0.732   0.067\u001b[4m0\u001b[24m 0.462 \n",
      "\u001b[38;5;250m10\u001b[39m 0.715   0.336  0.462 \n",
      "\u001b[38;5;246m# … with 990 more rows\u001b[39m\n"
     ]
    }
   ],
   "source": [
    "df_norm1 <- mutate(df,x = (x - min(x)) /  (max(x) - min(x)), \n",
    "                   y = (y - min(y)) /  (max(y) - min(y)), \n",
    "                   z = (z - min(z)) /  (max(z) - min(z)))\n",
    "print(df_norm1)"
   ]
  },
  {
   "cell_type": "markdown",
   "metadata": {},
   "source": [
    "What are the problems with this approach?\n",
    "-  Doesn't scale well if I have hundreds of columns.\n",
    "-  I copy-pasted the same code for each column, which could lead to errors.\n",
    "-  If I decided later to normalize in a different way, I need to make changes in 3 places"
   ]
  },
  {
   "cell_type": "markdown",
   "metadata": {},
   "source": [
    "## Anatomy of a function"
   ]
  },
  {
   "cell_type": "markdown",
   "metadata": {},
   "source": [
    "From R for Data Science: \n",
    "\n",
    ">Writing a function has three big advantages over using copy-and-paste:\n",
    ">1.  You can give a function an evocative name that makes your code easier to understand.\n",
    ">1.  As requirements change, you only need to update code in one place, instead of many.\n",
    ">1.  You eliminate the chance of making incidental mistakes when you copy and paste (i.e. updating a variable name in one place, but not in another).\n"
   ]
  },
  {
   "cell_type": "markdown",
   "metadata": {},
   "source": [
    "You've been using functions this whole time, but have not needed to write your own. \n",
    "You can think of a function as having three main ingredients:\n",
    "1.  Input: The variables passed to the function\n",
    "2.  Body: The code block that runs\n",
    "3.  Output: What the function returns"
   ]
  },
  {
   "cell_type": "markdown",
   "metadata": {},
   "source": [
    "For example:"
   ]
  },
  {
   "cell_type": "code",
   "execution_count": null,
   "metadata": {},
   "outputs": [],
   "source": [
    "calc_power3 <- function(x, p) {\n",
    "    y <- x^3\n",
    "    return(y)\n",
    "}"
   ]
  },
  {
   "cell_type": "markdown",
   "metadata": {},
   "source": [
    "Here, ```x``` and ```p``` are the input, \n",
    "```y <- x^3``` is the body, and ```return(y)``` specifies ```y``` as the output."
   ]
  },
  {
   "cell_type": "code",
   "execution_count": 19,
   "metadata": {},
   "outputs": [
    {
     "name": "stdout",
     "output_type": "stream",
     "text": [
      "[1] 8\n"
     ]
    }
   ],
   "source": [
    "print(calc_power3(2))"
   ]
  },
  {
   "cell_type": "markdown",
   "metadata": {},
   "source": [
    "We can re-write our earlier expression as a function:"
   ]
  },
  {
   "cell_type": "code",
   "execution_count": null,
   "metadata": {},
   "outputs": [],
   "source": [
    "rescale01 <- function(x) {\n",
    "    (x - min(x)) / (max(x) - min(x))\n",
    "}"
   ]
  },
  {
   "cell_type": "code",
   "execution_count": 25,
   "metadata": {
    "scrolled": false
   },
   "outputs": [
    {
     "data": {
      "text/html": [
       "<style>\n",
       ".list-inline {list-style: none; margin:0; padding: 0}\n",
       ".list-inline>li {display: inline-block}\n",
       ".list-inline>li:not(:last-child)::after {content: \"\\00b7\"; padding: 0 .5ex}\n",
       "</style>\n",
       "<ol class=list-inline><li>0</li><li>0.111111111111111</li><li>0.222222222222222</li><li>0.333333333333333</li><li>0.444444444444444</li><li>0.555555555555556</li><li>0.666666666666667</li><li>0.777777777777778</li><li>0.888888888888889</li><li>1</li></ol>\n"
      ],
      "text/latex": [
       "\\begin{enumerate*}\n",
       "\\item 0\n",
       "\\item 0.111111111111111\n",
       "\\item 0.222222222222222\n",
       "\\item 0.333333333333333\n",
       "\\item 0.444444444444444\n",
       "\\item 0.555555555555556\n",
       "\\item 0.666666666666667\n",
       "\\item 0.777777777777778\n",
       "\\item 0.888888888888889\n",
       "\\item 1\n",
       "\\end{enumerate*}\n"
      ],
      "text/markdown": [
       "1. 0\n",
       "2. 0.111111111111111\n",
       "3. 0.222222222222222\n",
       "4. 0.333333333333333\n",
       "5. 0.444444444444444\n",
       "6. 0.555555555555556\n",
       "7. 0.666666666666667\n",
       "8. 0.777777777777778\n",
       "9. 0.888888888888889\n",
       "10. 1\n",
       "\n",
       "\n"
      ],
      "text/plain": [
       " [1] 0.0000000 0.1111111 0.2222222 0.3333333 0.4444444 0.5555556 0.6666667\n",
       " [8] 0.7777778 0.8888889 1.0000000"
      ]
     },
     "metadata": {},
     "output_type": "display_data"
    }
   ],
   "source": [
    "rescale01(1:10)"
   ]
  },
  {
   "cell_type": "markdown",
   "metadata": {},
   "source": [
    "This leads to simpler code in our dplyr example:"
   ]
  },
  {
   "cell_type": "code",
   "execution_count": 28,
   "metadata": {},
   "outputs": [
    {
     "name": "stdout",
     "output_type": "stream",
     "text": [
      "\u001b[38;5;246m# A tibble: 1,000 x 3\u001b[39m\n",
      "         x      y      z\n",
      "     \u001b[3m\u001b[38;5;246m<dbl>\u001b[39m\u001b[23m  \u001b[3m\u001b[38;5;246m<dbl>\u001b[39m\u001b[23m  \u001b[3m\u001b[38;5;246m<dbl>\u001b[39m\u001b[23m\n",
      "\u001b[38;5;250m 1\u001b[39m 0.483   0.021\u001b[4m2\u001b[24m 0.385 \n",
      "\u001b[38;5;250m 2\u001b[39m 0.721   0.139  0.154 \n",
      "\u001b[38;5;250m 3\u001b[39m 0.606   0.103  0.076\u001b[4m9\u001b[24m\n",
      "\u001b[38;5;250m 4\u001b[39m 0.696   0.046\u001b[4m3\u001b[24m 0.076\u001b[4m9\u001b[24m\n",
      "\u001b[38;5;250m 5\u001b[39m 0.517   0.061\u001b[4m7\u001b[24m 0.231 \n",
      "\u001b[38;5;250m 6\u001b[39m 0.002\u001b[4m7\u001b[24m\u001b[4m7\u001b[24m 0.241  0.308 \n",
      "\u001b[38;5;250m 7\u001b[39m 0.612   0.042\u001b[4m8\u001b[24m 0.846 \n",
      "\u001b[38;5;250m 8\u001b[39m 0.687   0.048\u001b[4m5\u001b[24m 0.462 \n",
      "\u001b[38;5;250m 9\u001b[39m 0.732   0.067\u001b[4m0\u001b[24m 0.462 \n",
      "\u001b[38;5;250m10\u001b[39m 0.715   0.336  0.462 \n",
      "\u001b[38;5;246m# … with 990 more rows\u001b[39m\n"
     ]
    }
   ],
   "source": [
    "df_norm2 <- mutate(df,x = rescale01(x), \n",
    "                   y = rescale01(y), \n",
    "                   z = rescale01(z))\n",
    "print(df_norm2)"
   ]
  },
  {
   "cell_type": "markdown",
   "metadata": {},
   "source": [
    "However, we can still do better.  ```across``` from ```dplyr``` allows us to apply the same function to multiple columns at once."
   ]
  },
  {
   "cell_type": "code",
   "execution_count": 39,
   "metadata": {
    "scrolled": true
   },
   "outputs": [
    {
     "name": "stdout",
     "output_type": "stream",
     "text": [
      "\u001b[38;5;246m# A tibble: 1,000 x 6\u001b[39m\n",
      "         x     y     z x_rescaled y_rescaled z_rescaled\n",
      "     \u001b[3m\u001b[38;5;246m<dbl>\u001b[39m\u001b[23m \u001b[3m\u001b[38;5;246m<dbl>\u001b[39m\u001b[23m \u001b[3m\u001b[38;5;246m<int>\u001b[39m\u001b[23m      \u001b[3m\u001b[38;5;246m<dbl>\u001b[39m\u001b[23m      \u001b[3m\u001b[38;5;246m<dbl>\u001b[39m\u001b[23m      \u001b[3m\u001b[38;5;246m<dbl>\u001b[39m\u001b[23m\n",
      "\u001b[38;5;250m 1\u001b[39m -\u001b[31m0\u001b[39m\u001b[31m.\u001b[39m\u001b[31m0\u001b[39m\u001b[31m86\u001b[4m6\u001b[24m\u001b[39m 0.171     5    0.483       0.021\u001b[4m2\u001b[24m     0.385 \n",
      "\u001b[38;5;250m 2\u001b[39m  1.32   1.12      2    0.721       0.139      0.154 \n",
      "\u001b[38;5;250m 3\u001b[39m  0.640  0.836     1    0.606       0.103      0.076\u001b[4m9\u001b[24m\n",
      "\u001b[38;5;250m 4\u001b[39m  1.17   0.374     1    0.696       0.046\u001b[4m3\u001b[24m     0.076\u001b[4m9\u001b[24m\n",
      "\u001b[38;5;250m 5\u001b[39m  0.116  0.499     3    0.517       0.061\u001b[4m7\u001b[24m     0.231 \n",
      "\u001b[38;5;250m 6\u001b[39m -\u001b[31m2\u001b[39m\u001b[31m.\u001b[39m\u001b[31m93\u001b[39m   1.94      4    0.002\u001b[4m7\u001b[24m\u001b[4m7\u001b[24m     0.241      0.308 \n",
      "\u001b[38;5;250m 7\u001b[39m  0.678  0.346    11    0.612       0.042\u001b[4m8\u001b[24m     0.846 \n",
      "\u001b[38;5;250m 8\u001b[39m  1.12   0.392     6    0.687       0.048\u001b[4m5\u001b[24m     0.462 \n",
      "\u001b[38;5;250m 9\u001b[39m  1.38   0.542     6    0.732       0.067\u001b[4m0\u001b[24m     0.462 \n",
      "\u001b[38;5;250m10\u001b[39m  1.28   2.72      6    0.715       0.336      0.462 \n",
      "\u001b[38;5;246m# … with 990 more rows\u001b[39m\n"
     ]
    }
   ],
   "source": [
    "df_norm3 <- mutate(df, across(everything(), .fns = rescale01, .names = \"{.col}_rescaled\"))\n",
    "print(df_norm3)"
   ]
  },
  {
   "cell_type": "markdown",
   "metadata": {},
   "source": [
    "This is powerful when you want to apply multiple functions to multiple columns at once. Suppose we want to \"standardize\" our variables by subtracting the mean and dividing by standard deviation."
   ]
  },
  {
   "cell_type": "code",
   "execution_count": 40,
   "metadata": {},
   "outputs": [],
   "source": [
    "standardize <- function(x) {\n",
    "    y <- (x - mean(x))/sd(x)\n",
    "    return(y)\n",
    "}"
   ]
  },
  {
   "cell_type": "code",
   "execution_count": 45,
   "metadata": {},
   "outputs": [
    {
     "name": "stdout",
     "output_type": "stream",
     "text": [
      "\u001b[38;5;246m# A tibble: 1,000 x 9\u001b[39m\n",
      "         x     y     z x_rescaled x_standardized y_rescaled y_standardized\n",
      "     \u001b[3m\u001b[38;5;246m<dbl>\u001b[39m\u001b[23m \u001b[3m\u001b[38;5;246m<dbl>\u001b[39m\u001b[23m \u001b[3m\u001b[38;5;246m<int>\u001b[39m\u001b[23m      \u001b[3m\u001b[38;5;246m<dbl>\u001b[39m\u001b[23m          \u001b[3m\u001b[38;5;246m<dbl>\u001b[39m\u001b[23m      \u001b[3m\u001b[38;5;246m<dbl>\u001b[39m\u001b[23m          \u001b[3m\u001b[38;5;246m<dbl>\u001b[39m\u001b[23m\n",
      "\u001b[38;5;250m 1\u001b[39m -\u001b[31m0\u001b[39m\u001b[31m.\u001b[39m\u001b[31m0\u001b[39m\u001b[31m86\u001b[4m6\u001b[24m\u001b[39m 0.171     5    0.483          -\u001b[31m0\u001b[39m\u001b[31m.\u001b[39m\u001b[31m0\u001b[39m\u001b[31m60\u001b[4m8\u001b[24m\u001b[39m     0.021\u001b[4m2\u001b[24m        -\u001b[31m0\u001b[39m\u001b[31m.\u001b[39m\u001b[31m867\u001b[39m \n",
      "\u001b[38;5;250m 2\u001b[39m  1.32   1.12      2    0.721           1.36       0.139          0.099\u001b[4m1\u001b[24m\n",
      "\u001b[38;5;250m 3\u001b[39m  0.640  0.836     1    0.606           0.671      0.103         -\u001b[31m0\u001b[39m\u001b[31m.\u001b[39m\u001b[31m191\u001b[39m \n",
      "\u001b[38;5;250m 4\u001b[39m  1.17   0.374     1    0.696           1.21       0.046\u001b[4m3\u001b[24m        -\u001b[31m0\u001b[39m\u001b[31m.\u001b[39m\u001b[31m661\u001b[39m \n",
      "\u001b[38;5;250m 5\u001b[39m  0.116  0.499     3    0.517           0.144      0.061\u001b[4m7\u001b[24m        -\u001b[31m0\u001b[39m\u001b[31m.\u001b[39m\u001b[31m534\u001b[39m \n",
      "\u001b[38;5;250m 6\u001b[39m -\u001b[31m2\u001b[39m\u001b[31m.\u001b[39m\u001b[31m93\u001b[39m   1.94      4    0.002\u001b[4m7\u001b[24m\u001b[4m7\u001b[24m        -\u001b[31m2\u001b[39m\u001b[31m.\u001b[39m\u001b[31m93\u001b[39m       0.241          0.939 \n",
      "\u001b[38;5;250m 7\u001b[39m  0.678  0.346    11    0.612           0.709      0.042\u001b[4m8\u001b[24m        -\u001b[31m0\u001b[39m\u001b[31m.\u001b[39m\u001b[31m689\u001b[39m \n",
      "\u001b[38;5;250m 8\u001b[39m  1.12   0.392     6    0.687           1.15       0.048\u001b[4m5\u001b[24m        -\u001b[31m0\u001b[39m\u001b[31m.\u001b[39m\u001b[31m643\u001b[39m \n",
      "\u001b[38;5;250m 9\u001b[39m  1.38   0.542     6    0.732           1.42       0.067\u001b[4m0\u001b[24m        -\u001b[31m0\u001b[39m\u001b[31m.\u001b[39m\u001b[31m490\u001b[39m \n",
      "\u001b[38;5;250m10\u001b[39m  1.28   2.72      6    0.715           1.32       0.336          1.72  \n",
      "\u001b[38;5;246m# … with 990 more rows, and 2 more variables: z_rescaled \u001b[3m\u001b[38;5;246m<dbl>\u001b[38;5;246m\u001b[23m,\u001b[39m\n",
      "\u001b[38;5;246m#   z_standardized \u001b[3m\u001b[38;5;246m<dbl>\u001b[38;5;246m\u001b[23m\u001b[39m\n",
      "\u001b[38;5;246m# A tibble: 1,000 x 6\u001b[39m\n",
      "   x_rescaled x_standardized y_rescaled y_standardized z_rescaled z_standardized\n",
      "        \u001b[3m\u001b[38;5;246m<dbl>\u001b[39m\u001b[23m          \u001b[3m\u001b[38;5;246m<dbl>\u001b[39m\u001b[23m      \u001b[3m\u001b[38;5;246m<dbl>\u001b[39m\u001b[23m          \u001b[3m\u001b[38;5;246m<dbl>\u001b[39m\u001b[23m      \u001b[3m\u001b[38;5;246m<dbl>\u001b[39m\u001b[23m          \u001b[3m\u001b[38;5;246m<dbl>\u001b[39m\u001b[23m\n",
      "\u001b[38;5;250m 1\u001b[39m    0.483          -\u001b[31m0\u001b[39m\u001b[31m.\u001b[39m\u001b[31m0\u001b[39m\u001b[31m60\u001b[4m8\u001b[24m\u001b[39m     0.021\u001b[4m2\u001b[24m        -\u001b[31m0\u001b[39m\u001b[31m.\u001b[39m\u001b[31m867\u001b[39m      0.385         -\u001b[31m0\u001b[39m\u001b[31m.\u001b[39m\u001b[31m0\u001b[39m\u001b[31m25\u001b[4m8\u001b[24m\u001b[39m\n",
      "\u001b[38;5;250m 2\u001b[39m    0.721           1.36       0.139          0.099\u001b[4m1\u001b[24m     0.154         -\u001b[31m1\u001b[39m\u001b[31m.\u001b[39m\u001b[31m36\u001b[39m  \n",
      "\u001b[38;5;250m 3\u001b[39m    0.606           0.671      0.103         -\u001b[31m0\u001b[39m\u001b[31m.\u001b[39m\u001b[31m191\u001b[39m      0.076\u001b[4m9\u001b[24m        -\u001b[31m1\u001b[39m\u001b[31m.\u001b[39m\u001b[31m81\u001b[39m  \n",
      "\u001b[38;5;250m 4\u001b[39m    0.696           1.21       0.046\u001b[4m3\u001b[24m        -\u001b[31m0\u001b[39m\u001b[31m.\u001b[39m\u001b[31m661\u001b[39m      0.076\u001b[4m9\u001b[24m        -\u001b[31m1\u001b[39m\u001b[31m.\u001b[39m\u001b[31m81\u001b[39m  \n",
      "\u001b[38;5;250m 5\u001b[39m    0.517           0.144      0.061\u001b[4m7\u001b[24m        -\u001b[31m0\u001b[39m\u001b[31m.\u001b[39m\u001b[31m534\u001b[39m      0.231         -\u001b[31m0\u001b[39m\u001b[31m.\u001b[39m\u001b[31m916\u001b[39m \n",
      "\u001b[38;5;250m 6\u001b[39m    0.002\u001b[4m7\u001b[24m\u001b[4m7\u001b[24m        -\u001b[31m2\u001b[39m\u001b[31m.\u001b[39m\u001b[31m93\u001b[39m       0.241          0.939      0.308         -\u001b[31m0\u001b[39m\u001b[31m.\u001b[39m\u001b[31m471\u001b[39m \n",
      "\u001b[38;5;250m 7\u001b[39m    0.612           0.709      0.042\u001b[4m8\u001b[24m        -\u001b[31m0\u001b[39m\u001b[31m.\u001b[39m\u001b[31m689\u001b[39m      0.846          2.65  \n",
      "\u001b[38;5;250m 8\u001b[39m    0.687           1.15       0.048\u001b[4m5\u001b[24m        -\u001b[31m0\u001b[39m\u001b[31m.\u001b[39m\u001b[31m643\u001b[39m      0.462          0.419 \n",
      "\u001b[38;5;250m 9\u001b[39m    0.732           1.42       0.067\u001b[4m0\u001b[24m        -\u001b[31m0\u001b[39m\u001b[31m.\u001b[39m\u001b[31m490\u001b[39m      0.462          0.419 \n",
      "\u001b[38;5;250m10\u001b[39m    0.715           1.32       0.336          1.72       0.462          0.419 \n",
      "\u001b[38;5;246m# … with 990 more rows\u001b[39m\n"
     ]
    }
   ],
   "source": [
    "df_norm4 <- mutate(df, \n",
    "                   across(everything(), \n",
    "                          .fns = list(rescaled=rescale01, standardized=standardize), \n",
    "                          .names = \"{.col}_{.fn}\"))\n",
    "print(df_norm4)\n",
    "print(select(df_norm4, -x,-y,-z))"
   ]
  },
  {
   "cell_type": "markdown",
   "metadata": {},
   "source": [
    "## Conditions"
   ]
  },
  {
   "cell_type": "markdown",
   "metadata": {},
   "source": [
    "### Common Pitfalls"
   ]
  },
  {
   "cell_type": "markdown",
   "metadata": {},
   "source": [
    "The condition part of the if statement must evaluate to either a single TRUE or FALSE. If it does not, you will get a warning:"
   ]
  },
  {
   "cell_type": "code",
   "execution_count": 46,
   "metadata": {},
   "outputs": [
    {
     "name": "stderr",
     "output_type": "stream",
     "text": [
      "Warning message in if (c(T, F)) {:\n",
      "“the condition has length > 1 and only the first element will be used”\n"
     ]
    },
    {
     "data": {
      "text/html": [
       "1"
      ],
      "text/latex": [
       "1"
      ],
      "text/markdown": [
       "1"
      ],
      "text/plain": [
       "[1] 1"
      ]
     },
     "metadata": {},
     "output_type": "display_data"
    }
   ],
   "source": [
    "if (c(T, F)) { \n",
    "    1 \n",
    "}"
   ]
  },
  {
   "cell_type": "markdown",
   "metadata": {},
   "source": [
    "Similarly, a condition of NA will generate an error:"
   ]
  },
  {
   "cell_type": "code",
   "execution_count": 5,
   "metadata": {},
   "outputs": [
    {
     "ename": "ERROR",
     "evalue": "Error in if (NA) {: missing value where TRUE/FALSE needed\n",
     "output_type": "error",
     "traceback": [
      "Error in if (NA) {: missing value where TRUE/FALSE needed\nTraceback:\n"
     ]
    }
   ],
   "source": [
    "if (NA) {\n",
    "    1 \n",
    "}"
   ]
  },
  {
   "cell_type": "markdown",
   "metadata": {},
   "source": [
    "### Logical operators and \"short-circuting\""
   ]
  },
  {
   "cell_type": "markdown",
   "metadata": {},
   "source": [
    "Often you will need to combine multiple logical conditions in an if statement. To do this we have the `&&` and `||` operators, which take the logical and and or, respectively, of several logical conditions:"
   ]
  },
  {
   "cell_type": "code",
   "execution_count": 6,
   "metadata": {},
   "outputs": [
    {
     "data": {
      "text/html": [
       "FALSE"
      ],
      "text/latex": [
       "FALSE"
      ],
      "text/markdown": [
       "FALSE"
      ],
      "text/plain": [
       "[1] FALSE"
      ]
     },
     "metadata": {},
     "output_type": "display_data"
    }
   ],
   "source": [
    "TRUE && FALSE && TRUE"
   ]
  },
  {
   "cell_type": "code",
   "execution_count": 7,
   "metadata": {},
   "outputs": [
    {
     "data": {
      "text/html": [
       "TRUE"
      ],
      "text/latex": [
       "TRUE"
      ],
      "text/markdown": [
       "TRUE"
      ],
      "text/plain": [
       "[1] TRUE"
      ]
     },
     "metadata": {},
     "output_type": "display_data"
    }
   ],
   "source": [
    "FALSE || TRUE || FALSE"
   ]
  },
  {
   "cell_type": "markdown",
   "metadata": {},
   "source": [
    "There is a subtle but important difference betwen the single and double versions of these operators. The single `&` performs entrywise AND over logical vectors:"
   ]
  },
  {
   "cell_type": "code",
   "execution_count": 8,
   "metadata": {},
   "outputs": [
    {
     "data": {
      "text/html": [
       "<ol class=list-inline>\n",
       "\t<li>FALSE</li>\n",
       "\t<li>TRUE</li>\n",
       "\t<li>FALSE</li>\n",
       "</ol>\n"
      ],
      "text/latex": [
       "\\begin{enumerate*}\n",
       "\\item FALSE\n",
       "\\item TRUE\n",
       "\\item FALSE\n",
       "\\end{enumerate*}\n"
      ],
      "text/markdown": [
       "1. FALSE\n",
       "2. TRUE\n",
       "3. FALSE\n",
       "\n",
       "\n"
      ],
      "text/plain": [
       "[1] FALSE  TRUE FALSE"
      ]
     },
     "metadata": {},
     "output_type": "display_data"
    }
   ],
   "source": [
    "c(T, T, F) & c(F, T, F)"
   ]
  },
  {
   "cell_type": "markdown",
   "metadata": {},
   "source": [
    "In contrast, the double ampersand `&&` returns `F` as soon as it encounters a value of `F`:"
   ]
  },
  {
   "cell_type": "code",
   "execution_count": 9,
   "metadata": {},
   "outputs": [
    {
     "data": {
      "text/html": [
       "FALSE"
      ],
      "text/latex": [
       "FALSE"
      ],
      "text/markdown": [
       "FALSE"
      ],
      "text/plain": [
       "[1] FALSE"
      ]
     },
     "metadata": {},
     "output_type": "display_data"
    }
   ],
   "source": [
    "c(T, T, T) && c(F, T, F)"
   ]
  },
  {
   "cell_type": "markdown",
   "metadata": {},
   "source": [
    "It only returns `T` if it gets to the end of a vector without finding any `F` values:"
   ]
  },
  {
   "cell_type": "code",
   "execution_count": 10,
   "metadata": {},
   "outputs": [
    {
     "data": {
      "text/html": [
       "TRUE"
      ],
      "text/latex": [
       "TRUE"
      ],
      "text/markdown": [
       "TRUE"
      ],
      "text/plain": [
       "[1] TRUE"
      ]
     },
     "metadata": {},
     "output_type": "display_data"
    }
   ],
   "source": [
    "c(T, T, T) && c(T, T, T)"
   ]
  },
  {
   "cell_type": "markdown",
   "metadata": {},
   "source": [
    "This is known as \"short-circuiting\": R can stop evaluating as soon as it hits one false value, since this will cause the & to return false:"
   ]
  },
  {
   "cell_type": "code",
   "execution_count": 11,
   "metadata": {},
   "outputs": [
    {
     "name": "stdout",
     "output_type": "stream",
     "text": [
      "[1] \"f called\"\n"
     ]
    },
    {
     "data": {
      "text/html": [
       "FALSE"
      ],
      "text/latex": [
       "FALSE"
      ],
      "text/markdown": [
       "FALSE"
      ],
      "text/plain": [
       "[1] FALSE"
      ]
     },
     "metadata": {},
     "output_type": "display_data"
    },
    {
     "name": "stdout",
     "output_type": "stream",
     "text": [
      "[1] \"g called\"\n",
      "[1] \"f called\"\n"
     ]
    },
    {
     "data": {
      "text/html": [
       "FALSE"
      ],
      "text/latex": [
       "FALSE"
      ],
      "text/markdown": [
       "FALSE"
      ],
      "text/plain": [
       "[1] FALSE"
      ]
     },
     "metadata": {},
     "output_type": "display_data"
    }
   ],
   "source": [
    "f = function() { print(\"f called\"); F }\n",
    "g = function() { print(\"g called\"); T }\n",
    "f() && g()\n",
    "\n",
    "g() && f()"
   ]
  },
  {
   "cell_type": "markdown",
   "metadata": {},
   "source": [
    "The or operator works similarly:"
   ]
  },
  {
   "cell_type": "code",
   "execution_count": 12,
   "metadata": {
    "scrolled": true
   },
   "outputs": [
    {
     "name": "stdout",
     "output_type": "stream",
     "text": [
      "[1] \"g called\"\n"
     ]
    },
    {
     "data": {
      "text/html": [
       "TRUE"
      ],
      "text/latex": [
       "TRUE"
      ],
      "text/markdown": [
       "TRUE"
      ],
      "text/plain": [
       "[1] TRUE"
      ]
     },
     "metadata": {},
     "output_type": "display_data"
    },
    {
     "name": "stdout",
     "output_type": "stream",
     "text": [
      "[1] \"f called\"\n",
      "[1] \"g called\"\n"
     ]
    },
    {
     "data": {
      "text/html": [
       "TRUE"
      ],
      "text/latex": [
       "TRUE"
      ],
      "text/markdown": [
       "TRUE"
      ],
      "text/plain": [
       "[1] TRUE"
      ]
     },
     "metadata": {},
     "output_type": "display_data"
    }
   ],
   "source": [
    "g() || f()\n",
    "\n",
    "f() || g()"
   ]
  },
  {
   "cell_type": "markdown",
   "metadata": {},
   "source": [
    "### Testing for equality\n",
    "\n",
    "Be careful when testing for equality in conditionals. The == operator will return a vector of logicals. If you want to make sure that any/all entries of a vector are TRUE, use the any() or all() functions:"
   ]
  },
  {
   "cell_type": "code",
   "execution_count": 13,
   "metadata": {},
   "outputs": [
    {
     "name": "stderr",
     "output_type": "stream",
     "text": [
      "Warning message in if (v1 == v2) {:\n",
      "“the condition has length > 1 and only the first element will be used”"
     ]
    },
    {
     "name": "stdout",
     "output_type": "stream",
     "text": [
      "[1] \"Wrong!\"\n",
      "[1] \"Any!\"\n"
     ]
    }
   ],
   "source": [
    "v1 = c(1, 2, 3)\n",
    "v2 = c(1, 1, 2)\n",
    "if (v1 == v2) { print(\"Wrong!\") }\n",
    "if (all(v1 == v2)) { print(\"All!\") }\n",
    "if (any(v1 == v2)) { print(\"Any!\") }"
   ]
  },
  {
   "cell_type": "markdown",
   "metadata": {},
   "source": [
    "Also be wary of testing floating point numbers for equality:"
   ]
  },
  {
   "cell_type": "code",
   "execution_count": 14,
   "metadata": {},
   "outputs": [
    {
     "data": {
      "text/html": [
       "FALSE"
      ],
      "text/latex": [
       "FALSE"
      ],
      "text/markdown": [
       "FALSE"
      ],
      "text/plain": [
       "[1] FALSE"
      ]
     },
     "metadata": {},
     "output_type": "display_data"
    }
   ],
   "source": [
    "2 == sqrt(2) ^ 2"
   ]
  },
  {
   "cell_type": "code",
   "execution_count": 15,
   "metadata": {},
   "outputs": [
    {
     "data": {
      "text/html": [
       "2"
      ],
      "text/latex": [
       "2"
      ],
      "text/markdown": [
       "2"
      ],
      "text/plain": [
       "[1] 2"
      ]
     },
     "metadata": {},
     "output_type": "display_data"
    }
   ],
   "source": [
    "sqrt(2) ^ 2"
   ]
  },
  {
   "cell_type": "markdown",
   "metadata": {},
   "source": [
    "If you need to do this, use the `near()` function instead:"
   ]
  },
  {
   "cell_type": "code",
   "execution_count": 16,
   "metadata": {},
   "outputs": [
    {
     "data": {
      "text/html": [
       "TRUE"
      ],
      "text/latex": [
       "TRUE"
      ],
      "text/markdown": [
       "TRUE"
      ],
      "text/plain": [
       "[1] TRUE"
      ]
     },
     "metadata": {},
     "output_type": "display_data"
    }
   ],
   "source": [
    "near(2, sqrt(2) ^ 2)"
   ]
  },
  {
   "cell_type": "markdown",
   "metadata": {},
   "source": [
    "### Multiple conditions"
   ]
  },
  {
   "cell_type": "markdown",
   "metadata": {},
   "source": [
    "Sometimes you will want to check multiple conditions using an if statement. For example, let's define the function:\n",
    "$$\n",
    "sign(x)=\\begin{cases}\n",
    "-1, x<0\\\\\n",
    "0, x=0\\\\\n",
    "1, x>1\n",
    "\\end{cases}$$"
   ]
  },
  {
   "cell_type": "markdown",
   "metadata": {},
   "source": [
    "The general form is\n",
    "\n",
    "```\n",
    "if (this) {\n",
    "   do that\n",
    "} else if (that) {\n",
    "   do something else\n",
    "} else {\n",
    "   \n",
    "}\n",
    "```"
   ]
  },
  {
   "cell_type": "markdown",
   "metadata": {},
   "source": [
    "## Function arguments"
   ]
  },
  {
   "cell_type": "markdown",
   "metadata": {},
   "source": [
    "Functions can take multiple arguments. Generally they fall into one of two categories:\n",
    "\n",
    "*   Data to be processed by the function, and\n",
    "*   Options, which affect how the data gets processed.\n"
   ]
  },
  {
   "cell_type": "markdown",
   "metadata": {},
   "source": [
    "### Rules for function arguments"
   ]
  },
  {
   "cell_type": "markdown",
   "metadata": {},
   "source": [
    "Generally:\n",
    "\n",
    "*   The data parameters should come first; and\n",
    "*   The options should come second, and have sensible defaults."
   ]
  },
  {
   "cell_type": "markdown",
   "metadata": {},
   "source": [
    "Default parameter values are specified by the option=default notation:"
   ]
  },
  {
   "cell_type": "code",
   "execution_count": null,
   "metadata": {},
   "outputs": [],
   "source": [
    "mean_ci <- function(x, conf = 0.95) {\n",
    "  se <- sd(x) / sqrt(length(x))\n",
    "  alpha <- 1 - conf\n",
    "  mean(x) + se * qnorm(c(alpha / 2, 1 - alpha / 2))\n",
    "}"
   ]
  },
  {
   "cell_type": "markdown",
   "metadata": {},
   "source": [
    "\n",
    "When you call a function, you can omit the values of the default arguments. If overriding the default, you should specify the parameter you are overriding and then input the overridden value with an = in between:\n",
    "\n"
   ]
  },
  {
   "cell_type": "markdown",
   "metadata": {},
   "source": [
    "```\n",
    "mean_ci(c(1, 2, 3, 4), conf=.99) #yes\n",
    "mean_ci(c(1, 2, 3, 4), .99)  # no\n",
    "\n",
    "```"
   ]
  },
  {
   "cell_type": "markdown",
   "metadata": {},
   "source": [
    "## Validation"
   ]
  },
  {
   "cell_type": "markdown",
   "metadata": {},
   "source": [
    "When writing functions it's a good idea to validate the input -- that is, make sure it matches your assumptions about what is being passed to the function. Consider the following function which returns the weighted average of a vector:"
   ]
  },
  {
   "cell_type": "code",
   "execution_count": 17,
   "metadata": {},
   "outputs": [],
   "source": [
    "w_mean = function(x, w) {\n",
    "    (x * w) / sum(w)\n",
    "}"
   ]
  },
  {
   "cell_type": "markdown",
   "metadata": {},
   "source": [
    "This function relies implicitly on the fact that the weight vector `w` is the same length as the input vector `x`. If it's not, you'll get a warning and unexpected behavior."
   ]
  },
  {
   "cell_type": "code",
   "execution_count": 18,
   "metadata": {},
   "outputs": [
    {
     "name": "stderr",
     "output_type": "stream",
     "text": [
      "Warning message in x * w:\n",
      "“longer object length is not a multiple of shorter object length”"
     ]
    },
    {
     "data": {
      "text/html": [
       "<ol class=list-inline>\n",
       "\t<li>0.333333333333333</li>\n",
       "\t<li>1.33333333333333</li>\n",
       "\t<li>1</li>\n",
       "</ol>\n"
      ],
      "text/latex": [
       "\\begin{enumerate*}\n",
       "\\item 0.333333333333333\n",
       "\\item 1.33333333333333\n",
       "\\item 1\n",
       "\\end{enumerate*}\n"
      ],
      "text/markdown": [
       "1. 0.333333333333333\n",
       "2. 1.33333333333333\n",
       "3. 1\n",
       "\n",
       "\n"
      ],
      "text/plain": [
       "[1] 0.3333333 1.3333333 1.0000000"
      ]
     },
     "metadata": {},
     "output_type": "display_data"
    }
   ],
   "source": [
    "w_mean(c(1,2,3), w=c(1, 2))"
   ]
  },
  {
   "cell_type": "markdown",
   "metadata": {},
   "source": [
    "\n",
    "It's best to make the assumption of equal length explicit by checking it:"
   ]
  },
  {
   "cell_type": "code",
   "execution_count": 19,
   "metadata": {},
   "outputs": [],
   "source": [
    "w_mean = function(x, w) {\n",
    "    stopifnot(length(w) == length(x))\n",
    "    (x * w) / sum(w)\n",
    "}"
   ]
  },
  {
   "cell_type": "code",
   "execution_count": 20,
   "metadata": {},
   "outputs": [
    {
     "ename": "ERROR",
     "evalue": "Error in w_mean(c(1, 2, 3), w = c(1, 2)): length(w) == length(x) is not TRUE\n",
     "output_type": "error",
     "traceback": [
      "Error in w_mean(c(1, 2, 3), w = c(1, 2)): length(w) == length(x) is not TRUE\nTraceback:\n",
      "1. w_mean(c(1, 2, 3), w = c(1, 2))",
      "2. stopifnot(length(w) == length(x))   # at line 2 of file <text>"
     ]
    }
   ],
   "source": [
    "w_mean(c(1,2,3), w=c(1, 2))"
   ]
  },
  {
   "cell_type": "markdown",
   "metadata": {},
   "source": [
    "## ..."
   ]
  },
  {
   "cell_type": "markdown",
   "metadata": {},
   "source": [
    "Some functions are designed to take a variable number of inputs. We saw this for example with the str_c function:"
   ]
  },
  {
   "cell_type": "code",
   "execution_count": 21,
   "metadata": {},
   "outputs": [
    {
     "data": {
      "text/html": [
       "'ab'"
      ],
      "text/latex": [
       "'ab'"
      ],
      "text/markdown": [
       "'ab'"
      ],
      "text/plain": [
       "[1] \"ab\""
      ]
     },
     "metadata": {},
     "output_type": "display_data"
    },
    {
     "data": {
      "text/html": [
       "'abcd'"
      ],
      "text/latex": [
       "'abcd'"
      ],
      "text/markdown": [
       "'abcd'"
      ],
      "text/plain": [
       "[1] \"abcd\""
      ]
     },
     "metadata": {},
     "output_type": "display_data"
    }
   ],
   "source": [
    "stringr::str_c(\"a\", \"b\")\n",
    "stringr::str_c(\"a\", \"b\", \"c\", \"d\")"
   ]
  },
  {
   "cell_type": "markdown",
   "metadata": {},
   "source": [
    "To construct a function that takes a variable number of arguments we use the `...` notation:\n",
    "\n",
    "```\n",
    "f = function(...) {\n",
    "    <do something with variable arguments>\n",
    "}\n",
    "\n",
    "```\n",
    "One thing you can do with the ... is pass it to another function:"
   ]
  },
  {
   "cell_type": "code",
   "execution_count": 22,
   "metadata": {},
   "outputs": [
    {
     "data": {
      "text/html": [
       "'a, b, c, d, e, f, g, h, i, j'"
      ],
      "text/latex": [
       "'a, b, c, d, e, f, g, h, i, j'"
      ],
      "text/markdown": [
       "'a, b, c, d, e, f, g, h, i, j'"
      ],
      "text/plain": [
       "[1] \"a, b, c, d, e, f, g, h, i, j\""
      ]
     },
     "metadata": {},
     "output_type": "display_data"
    }
   ],
   "source": [
    "commas <- function(...) stringr::str_c(..., collapse = \", \")\n",
    "commas(letters[1:10])"
   ]
  }
 ],
 "metadata": {
  "kernelspec": {
   "display_name": "R",
   "language": "R",
   "name": "ir"
  },
  "language_info": {
   "codemirror_mode": "r",
   "file_extension": ".r",
   "mimetype": "text/x-r-source",
   "name": "R",
   "pygments_lexer": "r",
   "version": "4.0.3"
  }
 },
 "nbformat": 4,
 "nbformat_minor": 2
}
