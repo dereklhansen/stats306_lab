{
 "cells": [
  {
   "cell_type": "markdown",
   "metadata": {
    "slideshow": {
     "slide_type": "slide"
    }
   },
   "source": [
    "# Lab 07 - Relational Data and Strings\n",
    "\n",
    "Derek Hansen (credit Brian)\n",
    "\n",
    "Wednesday 1:00-2:30PM"
   ]
  },
  {
   "cell_type": "markdown",
   "metadata": {},
   "source": [
    "# Preliminaries\n",
    "\n",
    "-  Final Project signups\n",
    "    -  You'll be tasked with doing an analysis on one of four datasets.\n",
    "    -  Groups of 3-4 will be formed based on interest in each dataset. \n",
    "    -  Sign up here: https://docs.google.com/spreadsheets/d/1yEeZw8hitvV2j8g8UGidObkvJ5W0oZWOB5eMg7VOJgU/edit?usp=sharing.\n",
    "    -  More details about the project will come in the next couple of weeks\n",
    "    -  You can look at the websites for each dataset to get some background information, but do not download the data directly. We will provide more clean versions of each dataset for you to use"
   ]
  },
  {
   "cell_type": "code",
   "execution_count": 2,
   "metadata": {
    "slideshow": {
     "slide_type": "slide"
    }
   },
   "outputs": [],
   "source": [
    "# run these if using Colab\n",
    "#install.packages(\"sqldf\") \n",
    "#install.packages(\"nycflights13\")"
   ]
  },
  {
   "cell_type": "code",
   "execution_count": 2,
   "metadata": {
    "scrolled": true,
    "slideshow": {
     "slide_type": "slide"
    }
   },
   "outputs": [
    {
     "name": "stderr",
     "output_type": "stream",
     "text": [
      "── \u001b[1mAttaching packages\u001b[22m ─────────────────────────────────────── tidyverse 1.3.0 ──\n",
      "\n",
      "\u001b[32m✔\u001b[39m \u001b[34mggplot2\u001b[39m 3.3.2     \u001b[32m✔\u001b[39m \u001b[34mpurrr  \u001b[39m 0.3.4\n",
      "\u001b[32m✔\u001b[39m \u001b[34mtibble \u001b[39m 3.0.3     \u001b[32m✔\u001b[39m \u001b[34mdplyr  \u001b[39m 1.0.2\n",
      "\u001b[32m✔\u001b[39m \u001b[34mtidyr  \u001b[39m 1.1.2     \u001b[32m✔\u001b[39m \u001b[34mstringr\u001b[39m 1.4.0\n",
      "\u001b[32m✔\u001b[39m \u001b[34mreadr  \u001b[39m 1.4.0     \u001b[32m✔\u001b[39m \u001b[34mforcats\u001b[39m 0.5.0\n",
      "\n",
      "── \u001b[1mConflicts\u001b[22m ────────────────────────────────────────── tidyverse_conflicts() ──\n",
      "\u001b[31m✖\u001b[39m \u001b[34mdplyr\u001b[39m::\u001b[32mfilter()\u001b[39m masks \u001b[34mstats\u001b[39m::filter()\n",
      "\u001b[31m✖\u001b[39m \u001b[34mdplyr\u001b[39m::\u001b[32mlag()\u001b[39m    masks \u001b[34mstats\u001b[39m::lag()\n",
      "\n",
      "Loading required package: gsubfn\n",
      "\n",
      "Loading required package: proto\n",
      "\n",
      "Loading required package: RSQLite\n",
      "\n"
     ]
    }
   ],
   "source": [
    "library(tidyverse)\n",
    "library(nycflights13)\n",
    "library(sqldf)"
   ]
  },
  {
   "cell_type": "code",
   "execution_count": 9,
   "metadata": {
    "slideshow": {
     "slide_type": "slide"
    }
   },
   "outputs": [
    {
     "name": "stderr",
     "output_type": "stream",
     "text": [
      "\n",
      "\u001b[36m──\u001b[39m \u001b[1m\u001b[1mColumn specification\u001b[1m\u001b[22m \u001b[36m────────────────────────────────────────────────────────\u001b[39m\n",
      "cols(\n",
      "  Store = \u001b[32mcol_double()\u001b[39m,\n",
      "  Date = \u001b[31mcol_character()\u001b[39m,\n",
      "  Temperature = \u001b[32mcol_double()\u001b[39m,\n",
      "  Fuel_Price = \u001b[32mcol_double()\u001b[39m,\n",
      "  MarkDown1 = \u001b[32mcol_double()\u001b[39m,\n",
      "  MarkDown2 = \u001b[32mcol_double()\u001b[39m,\n",
      "  MarkDown3 = \u001b[32mcol_double()\u001b[39m,\n",
      "  MarkDown4 = \u001b[32mcol_double()\u001b[39m,\n",
      "  MarkDown5 = \u001b[32mcol_double()\u001b[39m,\n",
      "  CPI = \u001b[32mcol_double()\u001b[39m,\n",
      "  Unemployment = \u001b[32mcol_double()\u001b[39m,\n",
      "  IsHoliday = \u001b[33mcol_logical()\u001b[39m\n",
      ")\n",
      "\n",
      "\n",
      "\n",
      "\u001b[36m──\u001b[39m \u001b[1m\u001b[1mColumn specification\u001b[1m\u001b[22m \u001b[36m────────────────────────────────────────────────────────\u001b[39m\n",
      "cols(\n",
      "  Store = \u001b[32mcol_double()\u001b[39m,\n",
      "  Dept = \u001b[32mcol_double()\u001b[39m,\n",
      "  Date = \u001b[31mcol_character()\u001b[39m,\n",
      "  Weekly_Sales = \u001b[32mcol_double()\u001b[39m,\n",
      "  IsHoliday = \u001b[33mcol_logical()\u001b[39m\n",
      ")\n",
      "\n",
      "\n",
      "\n",
      "\u001b[36m──\u001b[39m \u001b[1m\u001b[1mColumn specification\u001b[1m\u001b[22m \u001b[36m────────────────────────────────────────────────────────\u001b[39m\n",
      "cols(\n",
      "  Store = \u001b[32mcol_double()\u001b[39m,\n",
      "  Type = \u001b[31mcol_character()\u001b[39m,\n",
      "  Size = \u001b[32mcol_double()\u001b[39m\n",
      ")\n",
      "\n",
      "\n"
     ]
    }
   ],
   "source": [
    "# load the data\n",
    "# source: https://www.kaggle.com/manjeetsingh/retaildataset\n",
    "features <- read_csv(\"https://raw.githubusercontent.com/bmanzo/stats306_labs/master/lab07/features.csv\")\n",
    "sales <- read_csv(\"https://raw.githubusercontent.com/bmanzo/stats306_labs/master/lab07/sales.csv\")\n",
    "stores <- read_csv(\"https://raw.githubusercontent.com/bmanzo/stats306_labs/master/lab07/stores.csv\")"
   ]
  },
  {
   "cell_type": "markdown",
   "metadata": {
    "slideshow": {
     "slide_type": "slide"
    }
   },
   "source": [
    "### More joins"
   ]
  },
  {
   "cell_type": "markdown",
   "metadata": {
    "slideshow": {
     "slide_type": "-"
    }
   },
   "source": [
    "Last week's lab gave examples of `left_join`. Another common join is the `inner_join`, which only includes observations associated to keys that are in both tables. "
   ]
  },
  {
   "cell_type": "code",
   "execution_count": 5,
   "metadata": {
    "slideshow": {
     "slide_type": "-"
    }
   },
   "outputs": [
    {
     "name": "stderr",
     "output_type": "stream",
     "text": [
      "Joining, by = \"key\"\n",
      "\n"
     ]
    },
    {
     "data": {
      "text/html": [
       "<table>\n",
       "<caption>A tibble: 2 × 3</caption>\n",
       "<thead>\n",
       "\t<tr><th scope=col>key</th><th scope=col>val_x</th><th scope=col>val_y</th></tr>\n",
       "\t<tr><th scope=col>&lt;dbl&gt;</th><th scope=col>&lt;chr&gt;</th><th scope=col>&lt;chr&gt;</th></tr>\n",
       "</thead>\n",
       "<tbody>\n",
       "\t<tr><td>1</td><td>x1</td><td>y1</td></tr>\n",
       "\t<tr><td>2</td><td>x2</td><td>y2</td></tr>\n",
       "</tbody>\n",
       "</table>\n"
      ],
      "text/latex": [
       "A tibble: 2 × 3\n",
       "\\begin{tabular}{lll}\n",
       " key & val\\_x & val\\_y\\\\\n",
       " <dbl> & <chr> & <chr>\\\\\n",
       "\\hline\n",
       "\t 1 & x1 & y1\\\\\n",
       "\t 2 & x2 & y2\\\\\n",
       "\\end{tabular}\n"
      ],
      "text/markdown": [
       "\n",
       "A tibble: 2 × 3\n",
       "\n",
       "| key &lt;dbl&gt; | val_x &lt;chr&gt; | val_y &lt;chr&gt; |\n",
       "|---|---|---|\n",
       "| 1 | x1 | y1 |\n",
       "| 2 | x2 | y2 |\n",
       "\n"
      ],
      "text/plain": [
       "  key val_x val_y\n",
       "1 1   x1    y1   \n",
       "2 2   x2    y2   "
      ]
     },
     "metadata": {},
     "output_type": "display_data"
    }
   ],
   "source": [
    "x <- tribble(\n",
    "  ~key, ~val_x,\n",
    "     1, \"x1\",\n",
    "     2, \"x2\",\n",
    "     3, \"x3\"\n",
    ")\n",
    "y <- tribble(\n",
    "  ~key, ~val_y,\n",
    "     1, \"y1\",\n",
    "     2, \"y2\",\n",
    "     4, \"y3\"\n",
    ")\n",
    "inner_join(x, y)"
   ]
  },
  {
   "cell_type": "markdown",
   "metadata": {
    "slideshow": {
     "slide_type": "-"
    }
   },
   "source": [
    "This data includes historical sales for a number of large stores, and first we'll need to join the store level data to the individual sales level data. We'll use an inner join to add the `stores` data to the `sales` data, then we'll use a left join to add the `features` data, which includes more specific details about the store and the date of the sale. "
   ]
  },
  {
   "cell_type": "code",
   "execution_count": 4,
   "metadata": {
    "slideshow": {
     "slide_type": "slide"
    }
   },
   "outputs": [
    {
     "data": {
      "text/html": [
       "<table>\n",
       "<caption>A tibble: 6 × 7</caption>\n",
       "<thead>\n",
       "\t<tr><th scope=col>Store</th><th scope=col>Dept</th><th scope=col>Date</th><th scope=col>Weekly_Sales</th><th scope=col>IsHoliday</th><th scope=col>Type</th><th scope=col>Size</th></tr>\n",
       "\t<tr><th scope=col>&lt;dbl&gt;</th><th scope=col>&lt;dbl&gt;</th><th scope=col>&lt;chr&gt;</th><th scope=col>&lt;dbl&gt;</th><th scope=col>&lt;lgl&gt;</th><th scope=col>&lt;chr&gt;</th><th scope=col>&lt;dbl&gt;</th></tr>\n",
       "</thead>\n",
       "<tbody>\n",
       "\t<tr><td>1</td><td>1</td><td>05/02/2010</td><td>24924.50</td><td>FALSE</td><td>A</td><td>151315</td></tr>\n",
       "\t<tr><td>1</td><td>1</td><td>12/02/2010</td><td>46039.49</td><td> TRUE</td><td>A</td><td>151315</td></tr>\n",
       "\t<tr><td>1</td><td>1</td><td>19/02/2010</td><td>41595.55</td><td>FALSE</td><td>A</td><td>151315</td></tr>\n",
       "\t<tr><td>1</td><td>1</td><td>26/02/2010</td><td>19403.54</td><td>FALSE</td><td>A</td><td>151315</td></tr>\n",
       "\t<tr><td>1</td><td>1</td><td>05/03/2010</td><td>21827.90</td><td>FALSE</td><td>A</td><td>151315</td></tr>\n",
       "\t<tr><td>1</td><td>1</td><td>12/03/2010</td><td>21043.39</td><td>FALSE</td><td>A</td><td>151315</td></tr>\n",
       "</tbody>\n",
       "</table>\n"
      ],
      "text/latex": [
       "A tibble: 6 × 7\n",
       "\\begin{tabular}{lllllll}\n",
       " Store & Dept & Date & Weekly\\_Sales & IsHoliday & Type & Size\\\\\n",
       " <dbl> & <dbl> & <chr> & <dbl> & <lgl> & <chr> & <dbl>\\\\\n",
       "\\hline\n",
       "\t 1 & 1 & 05/02/2010 & 24924.50 & FALSE & A & 151315\\\\\n",
       "\t 1 & 1 & 12/02/2010 & 46039.49 &  TRUE & A & 151315\\\\\n",
       "\t 1 & 1 & 19/02/2010 & 41595.55 & FALSE & A & 151315\\\\\n",
       "\t 1 & 1 & 26/02/2010 & 19403.54 & FALSE & A & 151315\\\\\n",
       "\t 1 & 1 & 05/03/2010 & 21827.90 & FALSE & A & 151315\\\\\n",
       "\t 1 & 1 & 12/03/2010 & 21043.39 & FALSE & A & 151315\\\\\n",
       "\\end{tabular}\n"
      ],
      "text/markdown": [
       "\n",
       "A tibble: 6 × 7\n",
       "\n",
       "| Store &lt;dbl&gt; | Dept &lt;dbl&gt; | Date &lt;chr&gt; | Weekly_Sales &lt;dbl&gt; | IsHoliday &lt;lgl&gt; | Type &lt;chr&gt; | Size &lt;dbl&gt; |\n",
       "|---|---|---|---|---|---|---|\n",
       "| 1 | 1 | 05/02/2010 | 24924.50 | FALSE | A | 151315 |\n",
       "| 1 | 1 | 12/02/2010 | 46039.49 |  TRUE | A | 151315 |\n",
       "| 1 | 1 | 19/02/2010 | 41595.55 | FALSE | A | 151315 |\n",
       "| 1 | 1 | 26/02/2010 | 19403.54 | FALSE | A | 151315 |\n",
       "| 1 | 1 | 05/03/2010 | 21827.90 | FALSE | A | 151315 |\n",
       "| 1 | 1 | 12/03/2010 | 21043.39 | FALSE | A | 151315 |\n",
       "\n"
      ],
      "text/plain": [
       "  Store Dept Date       Weekly_Sales IsHoliday Type Size  \n",
       "1 1     1    05/02/2010 24924.50     FALSE     A    151315\n",
       "2 1     1    12/02/2010 46039.49      TRUE     A    151315\n",
       "3 1     1    19/02/2010 41595.55     FALSE     A    151315\n",
       "4 1     1    26/02/2010 19403.54     FALSE     A    151315\n",
       "5 1     1    05/03/2010 21827.90     FALSE     A    151315\n",
       "6 1     1    12/03/2010 21043.39     FALSE     A    151315"
      ]
     },
     "metadata": {},
     "output_type": "display_data"
    }
   ],
   "source": [
    "sales_stores = inner_join(sales, stores, by=\"Store\")\n",
    "head(sales_stores)"
   ]
  },
  {
   "cell_type": "code",
   "execution_count": 13,
   "metadata": {},
   "outputs": [
    {
     "name": "stdout",
     "output_type": "stream",
     "text": [
      "\u001b[38;5;246m# A tibble: 421,570 x 5\u001b[39m\n",
      "   Store  Dept Date       Weekly_Sales IsHoliday\n",
      "   \u001b[3m\u001b[38;5;246m<dbl>\u001b[39m\u001b[23m \u001b[3m\u001b[38;5;246m<dbl>\u001b[39m\u001b[23m \u001b[3m\u001b[38;5;246m<chr>\u001b[39m\u001b[23m             \u001b[3m\u001b[38;5;246m<dbl>\u001b[39m\u001b[23m \u001b[3m\u001b[38;5;246m<lgl>\u001b[39m\u001b[23m    \n",
      "\u001b[38;5;250m 1\u001b[39m     1     1 05/02/2010       \u001b[4m2\u001b[24m\u001b[4m4\u001b[24m924. FALSE    \n",
      "\u001b[38;5;250m 2\u001b[39m     1     1 12/02/2010       \u001b[4m4\u001b[24m\u001b[4m6\u001b[24m039. TRUE     \n",
      "\u001b[38;5;250m 3\u001b[39m     1     1 19/02/2010       \u001b[4m4\u001b[24m\u001b[4m1\u001b[24m596. FALSE    \n",
      "\u001b[38;5;250m 4\u001b[39m     1     1 26/02/2010       \u001b[4m1\u001b[24m\u001b[4m9\u001b[24m404. FALSE    \n",
      "\u001b[38;5;250m 5\u001b[39m     1     1 05/03/2010       \u001b[4m2\u001b[24m\u001b[4m1\u001b[24m828. FALSE    \n",
      "\u001b[38;5;250m 6\u001b[39m     1     1 12/03/2010       \u001b[4m2\u001b[24m\u001b[4m1\u001b[24m043. FALSE    \n",
      "\u001b[38;5;250m 7\u001b[39m     1     1 19/03/2010       \u001b[4m2\u001b[24m\u001b[4m2\u001b[24m137. FALSE    \n",
      "\u001b[38;5;250m 8\u001b[39m     1     1 26/03/2010       \u001b[4m2\u001b[24m\u001b[4m6\u001b[24m229. FALSE    \n",
      "\u001b[38;5;250m 9\u001b[39m     1     1 02/04/2010       \u001b[4m5\u001b[24m\u001b[4m7\u001b[24m258. FALSE    \n",
      "\u001b[38;5;250m10\u001b[39m     1     1 09/04/2010       \u001b[4m4\u001b[24m\u001b[4m2\u001b[24m961. FALSE    \n",
      "\u001b[38;5;246m# … with 421,560 more rows\u001b[39m\n"
     ]
    },
    {
     "name": "stderr",
     "output_type": "stream",
     "text": [
      "\n",
      "Attaching package: ‘lubridate’\n",
      "\n",
      "\n",
      "The following objects are masked from ‘package:base’:\n",
      "\n",
      "    date, intersect, setdiff, union\n",
      "\n",
      "\n"
     ]
    },
    {
     "name": "stdout",
     "output_type": "stream",
     "text": [
      "\u001b[38;5;246m# A tibble: 421,570 x 5\u001b[39m\n",
      "   Store  Dept Date       Weekly_Sales IsHoliday\n",
      "   \u001b[3m\u001b[38;5;246m<dbl>\u001b[39m\u001b[23m \u001b[3m\u001b[38;5;246m<dbl>\u001b[39m\u001b[23m \u001b[3m\u001b[38;5;246m<date>\u001b[39m\u001b[23m            \u001b[3m\u001b[38;5;246m<dbl>\u001b[39m\u001b[23m \u001b[3m\u001b[38;5;246m<lgl>\u001b[39m\u001b[23m    \n",
      "\u001b[38;5;250m 1\u001b[39m     1     1 2010-02-05       \u001b[4m2\u001b[24m\u001b[4m4\u001b[24m924. FALSE    \n",
      "\u001b[38;5;250m 2\u001b[39m     1     1 2010-02-12       \u001b[4m4\u001b[24m\u001b[4m6\u001b[24m039. TRUE     \n",
      "\u001b[38;5;250m 3\u001b[39m     1     1 2010-02-19       \u001b[4m4\u001b[24m\u001b[4m1\u001b[24m596. FALSE    \n",
      "\u001b[38;5;250m 4\u001b[39m     1     1 2010-02-26       \u001b[4m1\u001b[24m\u001b[4m9\u001b[24m404. FALSE    \n",
      "\u001b[38;5;250m 5\u001b[39m     1     1 2010-03-05       \u001b[4m2\u001b[24m\u001b[4m1\u001b[24m828. FALSE    \n",
      "\u001b[38;5;250m 6\u001b[39m     1     1 2010-03-12       \u001b[4m2\u001b[24m\u001b[4m1\u001b[24m043. FALSE    \n",
      "\u001b[38;5;250m 7\u001b[39m     1     1 2010-03-19       \u001b[4m2\u001b[24m\u001b[4m2\u001b[24m137. FALSE    \n",
      "\u001b[38;5;250m 8\u001b[39m     1     1 2010-03-26       \u001b[4m2\u001b[24m\u001b[4m6\u001b[24m229. FALSE    \n",
      "\u001b[38;5;250m 9\u001b[39m     1     1 2010-04-02       \u001b[4m5\u001b[24m\u001b[4m7\u001b[24m258. FALSE    \n",
      "\u001b[38;5;250m10\u001b[39m     1     1 2010-04-09       \u001b[4m4\u001b[24m\u001b[4m2\u001b[24m961. FALSE    \n",
      "\u001b[38;5;246m# … with 421,560 more rows\u001b[39m\n"
     ]
    }
   ],
   "source": [
    "print(sales)\n",
    "library(lubridate)\n",
    "sales_date = mutate(sales, Date = dmy(Date))\n",
    "print(sales_date)"
   ]
  },
  {
   "cell_type": "code",
   "execution_count": 14,
   "metadata": {},
   "outputs": [],
   "source": [
    "?dmy"
   ]
  },
  {
   "cell_type": "code",
   "execution_count": 12,
   "metadata": {},
   "outputs": [
    {
     "name": "stdout",
     "output_type": "stream",
     "text": [
      "\u001b[38;5;246m# A tibble: 45 x 3\u001b[39m\n",
      "   Store Type    Size\n",
      "   \u001b[3m\u001b[38;5;246m<dbl>\u001b[39m\u001b[23m \u001b[3m\u001b[38;5;246m<chr>\u001b[39m\u001b[23m  \u001b[3m\u001b[38;5;246m<dbl>\u001b[39m\u001b[23m\n",
      "\u001b[38;5;250m 1\u001b[39m     1 A     \u001b[4m1\u001b[24m\u001b[4m5\u001b[24m\u001b[4m1\u001b[24m315\n",
      "\u001b[38;5;250m 2\u001b[39m     2 A     \u001b[4m2\u001b[24m\u001b[4m0\u001b[24m\u001b[4m2\u001b[24m307\n",
      "\u001b[38;5;250m 3\u001b[39m     3 B      \u001b[4m3\u001b[24m\u001b[4m7\u001b[24m392\n",
      "\u001b[38;5;250m 4\u001b[39m     4 A     \u001b[4m2\u001b[24m\u001b[4m0\u001b[24m\u001b[4m5\u001b[24m863\n",
      "\u001b[38;5;250m 5\u001b[39m     5 B      \u001b[4m3\u001b[24m\u001b[4m4\u001b[24m875\n",
      "\u001b[38;5;250m 6\u001b[39m     6 A     \u001b[4m2\u001b[24m\u001b[4m0\u001b[24m\u001b[4m2\u001b[24m505\n",
      "\u001b[38;5;250m 7\u001b[39m     7 B      \u001b[4m7\u001b[24m\u001b[4m0\u001b[24m713\n",
      "\u001b[38;5;250m 8\u001b[39m     8 A     \u001b[4m1\u001b[24m\u001b[4m5\u001b[24m\u001b[4m5\u001b[24m078\n",
      "\u001b[38;5;250m 9\u001b[39m     9 B     \u001b[4m1\u001b[24m\u001b[4m2\u001b[24m\u001b[4m5\u001b[24m833\n",
      "\u001b[38;5;250m10\u001b[39m    10 B     \u001b[4m1\u001b[24m\u001b[4m2\u001b[24m\u001b[4m6\u001b[24m512\n",
      "\u001b[38;5;246m# … with 35 more rows\u001b[39m\n"
     ]
    }
   ],
   "source": [
    "print(stores)"
   ]
  },
  {
   "cell_type": "code",
   "execution_count": 15,
   "metadata": {},
   "outputs": [
    {
     "name": "stdout",
     "output_type": "stream",
     "text": [
      "\u001b[38;5;246m# A tibble: 8,190 x 12\u001b[39m\n",
      "   Store Date  Temperature Fuel_Price MarkDown1 MarkDown2 MarkDown3 MarkDown4\n",
      "   \u001b[3m\u001b[38;5;246m<dbl>\u001b[39m\u001b[23m \u001b[3m\u001b[38;5;246m<chr>\u001b[39m\u001b[23m       \u001b[3m\u001b[38;5;246m<dbl>\u001b[39m\u001b[23m      \u001b[3m\u001b[38;5;246m<dbl>\u001b[39m\u001b[23m     \u001b[3m\u001b[38;5;246m<dbl>\u001b[39m\u001b[23m     \u001b[3m\u001b[38;5;246m<dbl>\u001b[39m\u001b[23m     \u001b[3m\u001b[38;5;246m<dbl>\u001b[39m\u001b[23m     \u001b[3m\u001b[38;5;246m<dbl>\u001b[39m\u001b[23m\n",
      "\u001b[38;5;250m 1\u001b[39m     1 05/0…        42.3       2.57        \u001b[31mNA\u001b[39m        \u001b[31mNA\u001b[39m        \u001b[31mNA\u001b[39m        \u001b[31mNA\u001b[39m\n",
      "\u001b[38;5;250m 2\u001b[39m     1 12/0…        38.5       2.55        \u001b[31mNA\u001b[39m        \u001b[31mNA\u001b[39m        \u001b[31mNA\u001b[39m        \u001b[31mNA\u001b[39m\n",
      "\u001b[38;5;250m 3\u001b[39m     1 19/0…        39.9       2.51        \u001b[31mNA\u001b[39m        \u001b[31mNA\u001b[39m        \u001b[31mNA\u001b[39m        \u001b[31mNA\u001b[39m\n",
      "\u001b[38;5;250m 4\u001b[39m     1 26/0…        46.6       2.56        \u001b[31mNA\u001b[39m        \u001b[31mNA\u001b[39m        \u001b[31mNA\u001b[39m        \u001b[31mNA\u001b[39m\n",
      "\u001b[38;5;250m 5\u001b[39m     1 05/0…        46.5       2.62        \u001b[31mNA\u001b[39m        \u001b[31mNA\u001b[39m        \u001b[31mNA\u001b[39m        \u001b[31mNA\u001b[39m\n",
      "\u001b[38;5;250m 6\u001b[39m     1 12/0…        57.8       2.67        \u001b[31mNA\u001b[39m        \u001b[31mNA\u001b[39m        \u001b[31mNA\u001b[39m        \u001b[31mNA\u001b[39m\n",
      "\u001b[38;5;250m 7\u001b[39m     1 19/0…        54.6       2.72        \u001b[31mNA\u001b[39m        \u001b[31mNA\u001b[39m        \u001b[31mNA\u001b[39m        \u001b[31mNA\u001b[39m\n",
      "\u001b[38;5;250m 8\u001b[39m     1 26/0…        51.4       2.73        \u001b[31mNA\u001b[39m        \u001b[31mNA\u001b[39m        \u001b[31mNA\u001b[39m        \u001b[31mNA\u001b[39m\n",
      "\u001b[38;5;250m 9\u001b[39m     1 02/0…        62.3       2.72        \u001b[31mNA\u001b[39m        \u001b[31mNA\u001b[39m        \u001b[31mNA\u001b[39m        \u001b[31mNA\u001b[39m\n",
      "\u001b[38;5;250m10\u001b[39m     1 09/0…        65.9       2.77        \u001b[31mNA\u001b[39m        \u001b[31mNA\u001b[39m        \u001b[31mNA\u001b[39m        \u001b[31mNA\u001b[39m\n",
      "\u001b[38;5;246m# … with 8,180 more rows, and 4 more variables: MarkDown5 \u001b[3m\u001b[38;5;246m<dbl>\u001b[38;5;246m\u001b[23m, CPI \u001b[3m\u001b[38;5;246m<dbl>\u001b[38;5;246m\u001b[23m,\u001b[39m\n",
      "\u001b[38;5;246m#   Unemployment \u001b[3m\u001b[38;5;246m<dbl>\u001b[38;5;246m\u001b[23m, IsHoliday \u001b[3m\u001b[38;5;246m<lgl>\u001b[38;5;246m\u001b[23m\u001b[39m\n"
     ]
    }
   ],
   "source": [
    "print(features)"
   ]
  },
  {
   "cell_type": "code",
   "execution_count": 20,
   "metadata": {
    "slideshow": {
     "slide_type": "slide"
    }
   },
   "outputs": [],
   "source": [
    "full_data = left_join(sales_stores, features, by=c(\"Store\", \"Date\"))"
   ]
  },
  {
   "cell_type": "code",
   "execution_count": 21,
   "metadata": {
    "scrolled": true,
    "slideshow": {
     "slide_type": "-"
    }
   },
   "outputs": [
    {
     "name": "stdout",
     "output_type": "stream",
     "text": [
      "\u001b[38;5;246m# A tibble: 421,570 x 17\u001b[39m\n",
      "   Store  Dept Date  Weekly_Sales IsHoliday.x Type    Size Temperature\n",
      "   \u001b[3m\u001b[38;5;246m<dbl>\u001b[39m\u001b[23m \u001b[3m\u001b[38;5;246m<dbl>\u001b[39m\u001b[23m \u001b[3m\u001b[38;5;246m<chr>\u001b[39m\u001b[23m        \u001b[3m\u001b[38;5;246m<dbl>\u001b[39m\u001b[23m \u001b[3m\u001b[38;5;246m<lgl>\u001b[39m\u001b[23m       \u001b[3m\u001b[38;5;246m<chr>\u001b[39m\u001b[23m  \u001b[3m\u001b[38;5;246m<dbl>\u001b[39m\u001b[23m       \u001b[3m\u001b[38;5;246m<dbl>\u001b[39m\u001b[23m\n",
      "\u001b[38;5;250m 1\u001b[39m     1     1 05/0…       \u001b[4m2\u001b[24m\u001b[4m4\u001b[24m924. FALSE       A     \u001b[4m1\u001b[24m\u001b[4m5\u001b[24m\u001b[4m1\u001b[24m315        42.3\n",
      "\u001b[38;5;250m 2\u001b[39m     1     1 12/0…       \u001b[4m4\u001b[24m\u001b[4m6\u001b[24m039. TRUE        A     \u001b[4m1\u001b[24m\u001b[4m5\u001b[24m\u001b[4m1\u001b[24m315        38.5\n",
      "\u001b[38;5;250m 3\u001b[39m     1     1 19/0…       \u001b[4m4\u001b[24m\u001b[4m1\u001b[24m596. FALSE       A     \u001b[4m1\u001b[24m\u001b[4m5\u001b[24m\u001b[4m1\u001b[24m315        39.9\n",
      "\u001b[38;5;250m 4\u001b[39m     1     1 26/0…       \u001b[4m1\u001b[24m\u001b[4m9\u001b[24m404. FALSE       A     \u001b[4m1\u001b[24m\u001b[4m5\u001b[24m\u001b[4m1\u001b[24m315        46.6\n",
      "\u001b[38;5;250m 5\u001b[39m     1     1 05/0…       \u001b[4m2\u001b[24m\u001b[4m1\u001b[24m828. FALSE       A     \u001b[4m1\u001b[24m\u001b[4m5\u001b[24m\u001b[4m1\u001b[24m315        46.5\n",
      "\u001b[38;5;250m 6\u001b[39m     1     1 12/0…       \u001b[4m2\u001b[24m\u001b[4m1\u001b[24m043. FALSE       A     \u001b[4m1\u001b[24m\u001b[4m5\u001b[24m\u001b[4m1\u001b[24m315        57.8\n",
      "\u001b[38;5;250m 7\u001b[39m     1     1 19/0…       \u001b[4m2\u001b[24m\u001b[4m2\u001b[24m137. FALSE       A     \u001b[4m1\u001b[24m\u001b[4m5\u001b[24m\u001b[4m1\u001b[24m315        54.6\n",
      "\u001b[38;5;250m 8\u001b[39m     1     1 26/0…       \u001b[4m2\u001b[24m\u001b[4m6\u001b[24m229. FALSE       A     \u001b[4m1\u001b[24m\u001b[4m5\u001b[24m\u001b[4m1\u001b[24m315        51.4\n",
      "\u001b[38;5;250m 9\u001b[39m     1     1 02/0…       \u001b[4m5\u001b[24m\u001b[4m7\u001b[24m258. FALSE       A     \u001b[4m1\u001b[24m\u001b[4m5\u001b[24m\u001b[4m1\u001b[24m315        62.3\n",
      "\u001b[38;5;250m10\u001b[39m     1     1 09/0…       \u001b[4m4\u001b[24m\u001b[4m2\u001b[24m961. FALSE       A     \u001b[4m1\u001b[24m\u001b[4m5\u001b[24m\u001b[4m1\u001b[24m315        65.9\n",
      "\u001b[38;5;246m# … with 421,560 more rows, and 9 more variables: Fuel_Price \u001b[3m\u001b[38;5;246m<dbl>\u001b[38;5;246m\u001b[23m,\u001b[39m\n",
      "\u001b[38;5;246m#   MarkDown1 \u001b[3m\u001b[38;5;246m<dbl>\u001b[38;5;246m\u001b[23m, MarkDown2 \u001b[3m\u001b[38;5;246m<dbl>\u001b[38;5;246m\u001b[23m, MarkDown3 \u001b[3m\u001b[38;5;246m<dbl>\u001b[38;5;246m\u001b[23m, MarkDown4 \u001b[3m\u001b[38;5;246m<dbl>\u001b[38;5;246m\u001b[23m,\u001b[39m\n",
      "\u001b[38;5;246m#   MarkDown5 \u001b[3m\u001b[38;5;246m<dbl>\u001b[38;5;246m\u001b[23m, CPI \u001b[3m\u001b[38;5;246m<dbl>\u001b[38;5;246m\u001b[23m, Unemployment \u001b[3m\u001b[38;5;246m<dbl>\u001b[38;5;246m\u001b[23m, IsHoliday.y \u001b[3m\u001b[38;5;246m<lgl>\u001b[38;5;246m\u001b[23m\u001b[39m\n"
     ]
    }
   ],
   "source": [
    "print(full_data)"
   ]
  },
  {
   "cell_type": "code",
   "execution_count": 7,
   "metadata": {
    "slideshow": {
     "slide_type": "-"
    }
   },
   "outputs": [
    {
     "data": {
      "text/plain": [
       "     Store           Dept           Date            Weekly_Sales   \n",
       " Min.   : 1.0   Min.   : 1.00   Length:421570      Min.   : -4989  \n",
       " 1st Qu.:11.0   1st Qu.:18.00   Class :character   1st Qu.:  2080  \n",
       " Median :22.0   Median :37.00   Mode  :character   Median :  7612  \n",
       " Mean   :22.2   Mean   :44.26                      Mean   : 15981  \n",
       " 3rd Qu.:33.0   3rd Qu.:74.00                      3rd Qu.: 20206  \n",
       " Max.   :45.0   Max.   :99.00                      Max.   :693099  \n",
       "                                                                   \n",
       " IsHoliday           Type                Size         Temperature    \n",
       " Mode :logical   Length:421570      Min.   : 34875   Min.   : -2.06  \n",
       " FALSE:391909    Class :character   1st Qu.: 93638   1st Qu.: 46.68  \n",
       " TRUE :29661     Mode  :character   Median :140167   Median : 62.09  \n",
       "                                    Mean   :136728   Mean   : 60.09  \n",
       "                                    3rd Qu.:202505   3rd Qu.: 74.28  \n",
       "                                    Max.   :219622   Max.   :100.14  \n",
       "                                                                     \n",
       "   Fuel_Price      MarkDown1          MarkDown2          MarkDown3        \n",
       " Min.   :2.472   Min.   :    0.27   Min.   :  -265.8   Min.   :   -29.10  \n",
       " 1st Qu.:2.933   1st Qu.: 2240.27   1st Qu.:    41.6   1st Qu.:     5.08  \n",
       " Median :3.452   Median : 5347.45   Median :   192.0   Median :    24.60  \n",
       " Mean   :3.361   Mean   : 7246.42   Mean   :  3334.6   Mean   :  1439.42  \n",
       " 3rd Qu.:3.738   3rd Qu.: 9210.90   3rd Qu.:  1926.9   3rd Qu.:   103.99  \n",
       " Max.   :4.468   Max.   :88646.76   Max.   :104519.5   Max.   :141630.61  \n",
       "                 NA's   :270889     NA's   :310322     NA's   :284479     \n",
       "   MarkDown4          MarkDown5             CPI         Unemployment   \n",
       " Min.   :    0.22   Min.   :   135.2   Min.   :126.1   Min.   : 3.879  \n",
       " 1st Qu.:  504.22   1st Qu.:  1878.4   1st Qu.:132.0   1st Qu.: 6.891  \n",
       " Median : 1481.31   Median :  3359.4   Median :182.3   Median : 7.866  \n",
       " Mean   : 3383.17   Mean   :  4629.0   Mean   :171.2   Mean   : 7.960  \n",
       " 3rd Qu.: 3595.04   3rd Qu.:  5563.8   3rd Qu.:212.4   3rd Qu.: 8.572  \n",
       " Max.   :67474.85   Max.   :108519.3   Max.   :227.2   Max.   :14.313  \n",
       " NA's   :286603     NA's   :270138                                     "
      ]
     },
     "metadata": {},
     "output_type": "display_data"
    }
   ],
   "source": [
    "summary(full_data)"
   ]
  },
  {
   "cell_type": "code",
   "execution_count": null,
   "metadata": {
    "slideshow": {
     "slide_type": "slide"
    }
   },
   "outputs": [],
   "source": [
    "We need to adjust some of the variable types"
   ]
  },
  {
   "cell_type": "code",
   "execution_count": 9,
   "metadata": {
    "slideshow": {
     "slide_type": "-"
    }
   },
   "outputs": [],
   "source": [
    "full_data$Store = as.factor(full_data$Store)\n",
    "full_data$Dept = as.factor(full_data$Dept)\n",
    "full_data$Type = as.factor(full_data$Type)"
   ]
  },
  {
   "cell_type": "markdown",
   "metadata": {
    "slideshow": {
     "slide_type": "-"
    }
   },
   "source": [
    "We also need to adjust the date - how should we do that? "
   ]
  },
  {
   "cell_type": "code",
   "execution_count": 10,
   "metadata": {
    "slideshow": {
     "slide_type": "-"
    }
   },
   "outputs": [],
   "source": [
    "full_data$Date = as.Date(full_data$Date, format = \"%d / %m / %Y\")"
   ]
  },
  {
   "cell_type": "code",
   "execution_count": 11,
   "metadata": {
    "slideshow": {
     "slide_type": "-"
    }
   },
   "outputs": [
    {
     "data": {
      "text/plain": [
       "     Store             Dept             Date             Weekly_Sales   \n",
       " 13     : 10474   1      :  6435   Min.   :2010-02-05   Min.   : -4989  \n",
       " 10     : 10315   2      :  6435   1st Qu.:2010-10-08   1st Qu.:  2080  \n",
       " 4      : 10272   3      :  6435   Median :2011-06-17   Median :  7612  \n",
       " 1      : 10244   4      :  6435   Mean   :2011-06-18   Mean   : 15981  \n",
       " 2      : 10238   7      :  6435   3rd Qu.:2012-02-24   3rd Qu.: 20206  \n",
       " 24     : 10228   8      :  6435   Max.   :2012-10-26   Max.   :693099  \n",
       " (Other):359799   (Other):382960                                        \n",
       " IsHoliday       Type            Size         Temperature       Fuel_Price   \n",
       " Mode :logical   A:215478   Min.   : 34875   Min.   : -2.06   Min.   :2.472  \n",
       " FALSE:391909    B:163495   1st Qu.: 93638   1st Qu.: 46.68   1st Qu.:2.933  \n",
       " TRUE :29661     C: 42597   Median :140167   Median : 62.09   Median :3.452  \n",
       "                            Mean   :136728   Mean   : 60.09   Mean   :3.361  \n",
       "                            3rd Qu.:202505   3rd Qu.: 74.28   3rd Qu.:3.738  \n",
       "                            Max.   :219622   Max.   :100.14   Max.   :4.468  \n",
       "                                                                             \n",
       "   MarkDown1          MarkDown2          MarkDown3           MarkDown4       \n",
       " Min.   :    0.27   Min.   :  -265.8   Min.   :   -29.10   Min.   :    0.22  \n",
       " 1st Qu.: 2240.27   1st Qu.:    41.6   1st Qu.:     5.08   1st Qu.:  504.22  \n",
       " Median : 5347.45   Median :   192.0   Median :    24.60   Median : 1481.31  \n",
       " Mean   : 7246.42   Mean   :  3334.6   Mean   :  1439.42   Mean   : 3383.17  \n",
       " 3rd Qu.: 9210.90   3rd Qu.:  1926.9   3rd Qu.:   103.99   3rd Qu.: 3595.04  \n",
       " Max.   :88646.76   Max.   :104519.5   Max.   :141630.61   Max.   :67474.85  \n",
       " NA's   :270889     NA's   :310322     NA's   :284479      NA's   :286603    \n",
       "   MarkDown5             CPI         Unemployment   \n",
       " Min.   :   135.2   Min.   :126.1   Min.   : 3.879  \n",
       " 1st Qu.:  1878.4   1st Qu.:132.0   1st Qu.: 6.891  \n",
       " Median :  3359.4   Median :182.3   Median : 7.866  \n",
       " Mean   :  4629.0   Mean   :171.2   Mean   : 7.960  \n",
       " 3rd Qu.:  5563.8   3rd Qu.:212.4   3rd Qu.: 8.572  \n",
       " Max.   :108519.3   Max.   :227.2   Max.   :14.313  \n",
       " NA's   :270138                                     "
      ]
     },
     "metadata": {},
     "output_type": "display_data"
    }
   ],
   "source": [
    "summary(full_data) # everything looks good now"
   ]
  },
  {
   "cell_type": "markdown",
   "metadata": {
    "slideshow": {
     "slide_type": "slide"
    }
   },
   "source": [
    "**Exercise:** Perform the same join using SQL"
   ]
  },
  {
   "cell_type": "markdown",
   "metadata": {
    "slideshow": {
     "slide_type": "-"
    }
   },
   "source": [
    "Hint: use this syntax with the ```sqltbl()``` function: "
   ]
  },
  {
   "cell_type": "raw",
   "metadata": {
    "slideshow": {
     "slide_type": "-"
    }
   },
   "source": [
    "{sql}\n",
    "SELECT * FROM <table> LEFT JOIN <other_table> ON <left_key_col> = <right_key_col>"
   ]
  },
  {
   "cell_type": "code",
   "execution_count": 12,
   "metadata": {
    "slideshow": {
     "slide_type": "-"
    }
   },
   "outputs": [],
   "source": [
    "sqltbl <- function(...) sqldf(...) "
   ]
  },
  {
   "cell_type": "raw",
   "metadata": {
    "slideshow": {
     "slide_type": "slide"
    }
   },
   "source": [
    "sqltbl(\"SELECT * FROM sales_stores \n",
    "        LEFT JOIN features \n",
    "        ON sales_stores.Store = features.Store AND \n",
    "        sales_stores.Date = features.Date AND\n",
    "        sales_stores.IsHoliday = features.IsHoliday\") %>% head()"
   ]
  },
  {
   "cell_type": "markdown",
   "metadata": {
    "slideshow": {
     "slide_type": "slide"
    }
   },
   "source": [
    "Other types of joins covered in lecture include the semi join and the anti join. We'll briefly look at some examples here."
   ]
  },
  {
   "cell_type": "markdown",
   "metadata": {
    "slideshow": {
     "slide_type": "-"
    }
   },
   "source": [
    "If you are really afraid of flying, you might not want to fly on old planes. How can you use anti join to find the flights that took place on planes <5 years old?"
   ]
  },
  {
   "cell_type": "code",
   "execution_count": 13,
   "metadata": {
    "slideshow": {
     "slide_type": "-"
    }
   },
   "outputs": [
    {
     "data": {
      "text/html": [
       "<table>\n",
       "<caption>A tibble: 3 × 19</caption>\n",
       "<thead>\n",
       "\t<tr><th scope=col>year</th><th scope=col>month</th><th scope=col>day</th><th scope=col>dep_time</th><th scope=col>sched_dep_time</th><th scope=col>dep_delay</th><th scope=col>arr_time</th><th scope=col>sched_arr_time</th><th scope=col>arr_delay</th><th scope=col>carrier</th><th scope=col>flight</th><th scope=col>tailnum</th><th scope=col>origin</th><th scope=col>dest</th><th scope=col>air_time</th><th scope=col>distance</th><th scope=col>hour</th><th scope=col>minute</th><th scope=col>time_hour</th></tr>\n",
       "\t<tr><th scope=col>&lt;int&gt;</th><th scope=col>&lt;int&gt;</th><th scope=col>&lt;int&gt;</th><th scope=col>&lt;int&gt;</th><th scope=col>&lt;int&gt;</th><th scope=col>&lt;dbl&gt;</th><th scope=col>&lt;int&gt;</th><th scope=col>&lt;int&gt;</th><th scope=col>&lt;dbl&gt;</th><th scope=col>&lt;chr&gt;</th><th scope=col>&lt;int&gt;</th><th scope=col>&lt;chr&gt;</th><th scope=col>&lt;chr&gt;</th><th scope=col>&lt;chr&gt;</th><th scope=col>&lt;dbl&gt;</th><th scope=col>&lt;dbl&gt;</th><th scope=col>&lt;dbl&gt;</th><th scope=col>&lt;dbl&gt;</th><th scope=col>&lt;dttm&gt;</th></tr>\n",
       "</thead>\n",
       "<tbody>\n",
       "\t<tr><td>2013</td><td>1</td><td>1</td><td>544</td><td>545</td><td>-1</td><td>1004</td><td>1022</td><td>-18</td><td>B6</td><td> 725</td><td>N804JB</td><td>JFK</td><td>BQN</td><td>183</td><td>1576</td><td>5</td><td>45</td><td>2013-01-01 05:00:00</td></tr>\n",
       "\t<tr><td>2013</td><td>1</td><td>1</td><td>554</td><td>558</td><td>-4</td><td> 740</td><td> 728</td><td> 12</td><td>UA</td><td>1696</td><td>N39463</td><td>EWR</td><td>ORD</td><td>150</td><td> 719</td><td>5</td><td>58</td><td>2013-01-01 05:00:00</td></tr>\n",
       "\t<tr><td>2013</td><td>1</td><td>1</td><td>558</td><td>600</td><td>-2</td><td> 753</td><td> 745</td><td>  8</td><td>AA</td><td> 301</td><td>N3ALAA</td><td>LGA</td><td>ORD</td><td>138</td><td> 733</td><td>6</td><td> 0</td><td>2013-01-01 06:00:00</td></tr>\n",
       "</tbody>\n",
       "</table>\n"
      ],
      "text/latex": [
       "A tibble: 3 × 19\n",
       "\\begin{tabular}{lllllllllllllllllll}\n",
       " year & month & day & dep\\_time & sched\\_dep\\_time & dep\\_delay & arr\\_time & sched\\_arr\\_time & arr\\_delay & carrier & flight & tailnum & origin & dest & air\\_time & distance & hour & minute & time\\_hour\\\\\n",
       " <int> & <int> & <int> & <int> & <int> & <dbl> & <int> & <int> & <dbl> & <chr> & <int> & <chr> & <chr> & <chr> & <dbl> & <dbl> & <dbl> & <dbl> & <dttm>\\\\\n",
       "\\hline\n",
       "\t 2013 & 1 & 1 & 544 & 545 & -1 & 1004 & 1022 & -18 & B6 &  725 & N804JB & JFK & BQN & 183 & 1576 & 5 & 45 & 2013-01-01 05:00:00\\\\\n",
       "\t 2013 & 1 & 1 & 554 & 558 & -4 &  740 &  728 &  12 & UA & 1696 & N39463 & EWR & ORD & 150 &  719 & 5 & 58 & 2013-01-01 05:00:00\\\\\n",
       "\t 2013 & 1 & 1 & 558 & 600 & -2 &  753 &  745 &   8 & AA &  301 & N3ALAA & LGA & ORD & 138 &  733 & 6 &  0 & 2013-01-01 06:00:00\\\\\n",
       "\\end{tabular}\n"
      ],
      "text/markdown": [
       "\n",
       "A tibble: 3 × 19\n",
       "\n",
       "| year &lt;int&gt; | month &lt;int&gt; | day &lt;int&gt; | dep_time &lt;int&gt; | sched_dep_time &lt;int&gt; | dep_delay &lt;dbl&gt; | arr_time &lt;int&gt; | sched_arr_time &lt;int&gt; | arr_delay &lt;dbl&gt; | carrier &lt;chr&gt; | flight &lt;int&gt; | tailnum &lt;chr&gt; | origin &lt;chr&gt; | dest &lt;chr&gt; | air_time &lt;dbl&gt; | distance &lt;dbl&gt; | hour &lt;dbl&gt; | minute &lt;dbl&gt; | time_hour &lt;dttm&gt; |\n",
       "|---|---|---|---|---|---|---|---|---|---|---|---|---|---|---|---|---|---|---|\n",
       "| 2013 | 1 | 1 | 544 | 545 | -1 | 1004 | 1022 | -18 | B6 |  725 | N804JB | JFK | BQN | 183 | 1576 | 5 | 45 | 2013-01-01 05:00:00 |\n",
       "| 2013 | 1 | 1 | 554 | 558 | -4 |  740 |  728 |  12 | UA | 1696 | N39463 | EWR | ORD | 150 |  719 | 5 | 58 | 2013-01-01 05:00:00 |\n",
       "| 2013 | 1 | 1 | 558 | 600 | -2 |  753 |  745 |   8 | AA |  301 | N3ALAA | LGA | ORD | 138 |  733 | 6 |  0 | 2013-01-01 06:00:00 |\n",
       "\n"
      ],
      "text/plain": [
       "  year month day dep_time sched_dep_time dep_delay arr_time sched_arr_time\n",
       "1 2013 1     1   544      545            -1        1004     1022          \n",
       "2 2013 1     1   554      558            -4         740      728          \n",
       "3 2013 1     1   558      600            -2         753      745          \n",
       "  arr_delay carrier flight tailnum origin dest air_time distance hour minute\n",
       "1 -18       B6       725   N804JB  JFK    BQN  183      1576     5    45    \n",
       "2  12       UA      1696   N39463  EWR    ORD  150       719     5    58    \n",
       "3   8       AA       301   N3ALAA  LGA    ORD  138       733     6     0    \n",
       "  time_hour          \n",
       "1 2013-01-01 05:00:00\n",
       "2 2013-01-01 05:00:00\n",
       "3 2013-01-01 06:00:00"
      ]
     },
     "metadata": {},
     "output_type": "display_data"
    },
    {
     "data": {
      "text/html": [
       "<table>\n",
       "<caption>A tibble: 1 × 9</caption>\n",
       "<thead>\n",
       "\t<tr><th scope=col>tailnum</th><th scope=col>year</th><th scope=col>type</th><th scope=col>manufacturer</th><th scope=col>model</th><th scope=col>engines</th><th scope=col>seats</th><th scope=col>speed</th><th scope=col>engine</th></tr>\n",
       "\t<tr><th scope=col>&lt;chr&gt;</th><th scope=col>&lt;int&gt;</th><th scope=col>&lt;chr&gt;</th><th scope=col>&lt;chr&gt;</th><th scope=col>&lt;chr&gt;</th><th scope=col>&lt;int&gt;</th><th scope=col>&lt;int&gt;</th><th scope=col>&lt;int&gt;</th><th scope=col>&lt;chr&gt;</th></tr>\n",
       "</thead>\n",
       "<tbody>\n",
       "\t<tr><td>N39463</td><td>2012</td><td>Fixed wing multi engine</td><td>BOEING</td><td>737-924ER</td><td>2</td><td>191</td><td>NA</td><td>Turbo-fan</td></tr>\n",
       "</tbody>\n",
       "</table>\n"
      ],
      "text/latex": [
       "A tibble: 1 × 9\n",
       "\\begin{tabular}{lllllllll}\n",
       " tailnum & year & type & manufacturer & model & engines & seats & speed & engine\\\\\n",
       " <chr> & <int> & <chr> & <chr> & <chr> & <int> & <int> & <int> & <chr>\\\\\n",
       "\\hline\n",
       "\t N39463 & 2012 & Fixed wing multi engine & BOEING & 737-924ER & 2 & 191 & NA & Turbo-fan\\\\\n",
       "\\end{tabular}\n"
      ],
      "text/markdown": [
       "\n",
       "A tibble: 1 × 9\n",
       "\n",
       "| tailnum &lt;chr&gt; | year &lt;int&gt; | type &lt;chr&gt; | manufacturer &lt;chr&gt; | model &lt;chr&gt; | engines &lt;int&gt; | seats &lt;int&gt; | speed &lt;int&gt; | engine &lt;chr&gt; |\n",
       "|---|---|---|---|---|---|---|---|---|\n",
       "| N39463 | 2012 | Fixed wing multi engine | BOEING | 737-924ER | 2 | 191 | NA | Turbo-fan |\n",
       "\n"
      ],
      "text/plain": [
       "  tailnum year type                    manufacturer model     engines seats\n",
       "1 N39463  2012 Fixed wing multi engine BOEING       737-924ER 2       191  \n",
       "  speed engine   \n",
       "1 NA    Turbo-fan"
      ]
     },
     "metadata": {},
     "output_type": "display_data"
    }
   ],
   "source": [
    "wplane_ages = mutate(planes, age = 2013 - year)\n",
    "old_planes = plane_ages %>% filter(age >=5)\n",
    "safe_flights = anti_join(flights, old_planes, by=\"tailnum\") \n",
    "head(safe_flights, 3) \n",
    "planes[which(planes$tailnum==\"N39463\"),]"
   ]
  },
  {
   "cell_type": "code",
   "execution_count": 14,
   "metadata": {
    "slideshow": {
     "slide_type": "-"
    }
   },
   "outputs": [
    {
     "data": {
      "text/html": [
       "250507"
      ],
      "text/latex": [
       "250507"
      ],
      "text/markdown": [
       "250507"
      ],
      "text/plain": [
       "[1] 250507"
      ]
     },
     "metadata": {},
     "output_type": "display_data"
    },
    {
     "data": {
      "text/html": [
       "86269"
      ],
      "text/latex": [
       "86269"
      ],
      "text/markdown": [
       "86269"
      ],
      "text/plain": [
       "[1] 86269"
      ]
     },
     "metadata": {},
     "output_type": "display_data"
    },
    {
     "data": {
      "text/html": [
       "336776"
      ],
      "text/latex": [
       "336776"
      ],
      "text/markdown": [
       "336776"
      ],
      "text/plain": [
       "[1] 336776"
      ]
     },
     "metadata": {},
     "output_type": "display_data"
    },
    {
     "data": {
      "text/html": [
       "336776"
      ],
      "text/latex": [
       "336776"
      ],
      "text/markdown": [
       "336776"
      ],
      "text/plain": [
       "[1] 336776"
      ]
     },
     "metadata": {},
     "output_type": "display_data"
    }
   ],
   "source": [
    "old_flights = semi_join(flights, old_planes, by=\"tailnum\")\n",
    "dim(old_flights)[1]\n",
    "dim(safe_flights)[1]\n",
    "dim(flights)[1]\n",
    "dim(old_flights)[1] + dim(safe_flights)[1]"
   ]
  },
  {
   "cell_type": "markdown",
   "metadata": {
    "slideshow": {
     "slide_type": "-"
    }
   },
   "source": [
    "We can see above that the anti join is the opposite of the semi join"
   ]
  },
  {
   "cell_type": "markdown",
   "metadata": {
    "slideshow": {
     "slide_type": "slide"
    }
   },
   "source": [
    "### SQL commands and `dplyr`"
   ]
  },
  {
   "cell_type": "markdown",
   "metadata": {
    "slideshow": {
     "slide_type": "-"
    }
   },
   "source": [
    "Note: we will not cover this in class but you may find [`dbplyr`](https://dbplyr.tidyverse.org/) useful. This package converts `dplyr` code (e.g., `filter` and `summarise`) to SQL commands. "
   ]
  },
  {
   "cell_type": "markdown",
   "metadata": {
    "slideshow": {
     "slide_type": "-"
    }
   },
   "source": [
    "A simple question to ask is which store has the highest average weekly sales during holidays. We can use `dplyr` commands for this"
   ]
  },
  {
   "cell_type": "code",
   "execution_count": 15,
   "metadata": {
    "slideshow": {
     "slide_type": "-"
    }
   },
   "outputs": [
    {
     "name": "stderr",
     "output_type": "stream",
     "text": [
      "`summarise()` ungrouping output (override with `.groups` argument)\n",
      "\n"
     ]
    },
    {
     "data": {
      "text/html": [
       "<table>\n",
       "<caption>A tibble: 5 × 3</caption>\n",
       "<thead>\n",
       "\t<tr><th scope=col>Store</th><th scope=col>avg_sales</th><th scope=col>count</th></tr>\n",
       "\t<tr><th scope=col>&lt;fct&gt;</th><th scope=col>&lt;dbl&gt;</th><th scope=col>&lt;int&gt;</th></tr>\n",
       "</thead>\n",
       "<tbody>\n",
       "\t<tr><td>20</td><td>31106.99</td><td>723</td></tr>\n",
       "\t<tr><td>4 </td><td>30854.23</td><td>727</td></tr>\n",
       "\t<tr><td>14</td><td>30164.77</td><td>703</td></tr>\n",
       "\t<tr><td>10</td><td>29195.52</td><td>724</td></tr>\n",
       "\t<tr><td>2 </td><td>28798.71</td><td>722</td></tr>\n",
       "</tbody>\n",
       "</table>\n"
      ],
      "text/latex": [
       "A tibble: 5 × 3\n",
       "\\begin{tabular}{lll}\n",
       " Store & avg\\_sales & count\\\\\n",
       " <fct> & <dbl> & <int>\\\\\n",
       "\\hline\n",
       "\t 20 & 31106.99 & 723\\\\\n",
       "\t 4  & 30854.23 & 727\\\\\n",
       "\t 14 & 30164.77 & 703\\\\\n",
       "\t 10 & 29195.52 & 724\\\\\n",
       "\t 2  & 28798.71 & 722\\\\\n",
       "\\end{tabular}\n"
      ],
      "text/markdown": [
       "\n",
       "A tibble: 5 × 3\n",
       "\n",
       "| Store &lt;fct&gt; | avg_sales &lt;dbl&gt; | count &lt;int&gt; |\n",
       "|---|---|---|\n",
       "| 20 | 31106.99 | 723 |\n",
       "| 4  | 30854.23 | 727 |\n",
       "| 14 | 30164.77 | 703 |\n",
       "| 10 | 29195.52 | 724 |\n",
       "| 2  | 28798.71 | 722 |\n",
       "\n"
      ],
      "text/plain": [
       "  Store avg_sales count\n",
       "1 20    31106.99  723  \n",
       "2 4     30854.23  727  \n",
       "3 14    30164.77  703  \n",
       "4 10    29195.52  724  \n",
       "5 2     28798.71  722  "
      ]
     },
     "metadata": {},
     "output_type": "display_data"
    }
   ],
   "source": [
    "full_data %>% \n",
    "    filter(IsHoliday==TRUE) %>% \n",
    "    group_by(Store) %>% \n",
    "    summarise(avg_sales = mean(Weekly_Sales), count=n()) %>% \n",
    "    arrange(desc(avg_sales)) %>% \n",
    "    head(5)"
   ]
  },
  {
   "cell_type": "markdown",
   "metadata": {
    "slideshow": {
     "slide_type": "-"
    }
   },
   "source": [
    "**Exercise:** create the same table using SQL commands"
   ]
  },
  {
   "cell_type": "code",
   "execution_count": 16,
   "metadata": {
    "slideshow": {
     "slide_type": "slide"
    }
   },
   "outputs": [
    {
     "data": {
      "text/html": [
       "<table>\n",
       "<caption>A data.frame: 5 × 3</caption>\n",
       "<thead>\n",
       "\t<tr><th scope=col>Store</th><th scope=col>avg_sales</th><th scope=col>count</th></tr>\n",
       "\t<tr><th scope=col>&lt;fct&gt;</th><th scope=col>&lt;dbl&gt;</th><th scope=col>&lt;int&gt;</th></tr>\n",
       "</thead>\n",
       "<tbody>\n",
       "\t<tr><td>20</td><td>31106.99</td><td>723</td></tr>\n",
       "\t<tr><td>4 </td><td>30854.23</td><td>727</td></tr>\n",
       "\t<tr><td>14</td><td>30164.77</td><td>703</td></tr>\n",
       "\t<tr><td>10</td><td>29195.52</td><td>724</td></tr>\n",
       "\t<tr><td>2 </td><td>28798.71</td><td>722</td></tr>\n",
       "</tbody>\n",
       "</table>\n"
      ],
      "text/latex": [
       "A data.frame: 5 × 3\n",
       "\\begin{tabular}{lll}\n",
       " Store & avg\\_sales & count\\\\\n",
       " <fct> & <dbl> & <int>\\\\\n",
       "\\hline\n",
       "\t 20 & 31106.99 & 723\\\\\n",
       "\t 4  & 30854.23 & 727\\\\\n",
       "\t 14 & 30164.77 & 703\\\\\n",
       "\t 10 & 29195.52 & 724\\\\\n",
       "\t 2  & 28798.71 & 722\\\\\n",
       "\\end{tabular}\n"
      ],
      "text/markdown": [
       "\n",
       "A data.frame: 5 × 3\n",
       "\n",
       "| Store &lt;fct&gt; | avg_sales &lt;dbl&gt; | count &lt;int&gt; |\n",
       "|---|---|---|\n",
       "| 20 | 31106.99 | 723 |\n",
       "| 4  | 30854.23 | 727 |\n",
       "| 14 | 30164.77 | 703 |\n",
       "| 10 | 29195.52 | 724 |\n",
       "| 2  | 28798.71 | 722 |\n",
       "\n"
      ],
      "text/plain": [
       "  Store avg_sales count\n",
       "1 20    31106.99  723  \n",
       "2 4     30854.23  727  \n",
       "3 14    30164.77  703  \n",
       "4 10    29195.52  724  \n",
       "5 2     28798.71  722  "
      ]
     },
     "metadata": {},
     "output_type": "display_data"
    }
   ],
   "source": [
    "sqltbl(\"\n",
    "    SELECT Store, AVG(Weekly_Sales) AS avg_sales, COUNT() as count\n",
    "    FROM full_data \n",
    "    WHERE IsHoliday is TRUE\n",
    "    GROUP BY Store\n",
    "    ORDER BY avg_sales DESC\n",
    "    LIMIT 5\n",
    "\")"
   ]
  },
  {
   "cell_type": "markdown",
   "metadata": {
    "slideshow": {
     "slide_type": "slide"
    }
   },
   "source": [
    "## Text analysis with Animal Crossing reviews"
   ]
  },
  {
   "cell_type": "markdown",
   "metadata": {
    "slideshow": {
     "slide_type": "slide"
    }
   },
   "source": [
    "We'll try to learn some things about Animal Crossing by looking at user reviews. ([source](https://www.kaggle.com/jessemostipak/animal-crossing))"
   ]
  },
  {
   "cell_type": "code",
   "execution_count": 28,
   "metadata": {
    "slideshow": {
     "slide_type": "slide"
    }
   },
   "outputs": [
    {
     "name": "stderr",
     "output_type": "stream",
     "text": [
      "\n",
      "\u001b[36m──\u001b[39m \u001b[1m\u001b[1mColumn specification\u001b[1m\u001b[22m \u001b[36m────────────────────────────────────────────────────────\u001b[39m\n",
      "cols(\n",
      "  grade = \u001b[32mcol_double()\u001b[39m,\n",
      "  user_name = \u001b[31mcol_character()\u001b[39m,\n",
      "  text = \u001b[31mcol_character()\u001b[39m,\n",
      "  date = \u001b[31mcol_character()\u001b[39m\n",
      ")\n",
      "\n",
      "\n"
     ]
    },
    {
     "data": {
      "text/html": [
       "<table>\n",
       "<caption>A tibble: 6 × 4</caption>\n",
       "<thead>\n",
       "\t<tr><th scope=col>grade</th><th scope=col>user_name</th><th scope=col>text</th><th scope=col>date</th></tr>\n",
       "\t<tr><th scope=col>&lt;dbl&gt;</th><th scope=col>&lt;chr&gt;</th><th scope=col>&lt;chr&gt;</th><th scope=col>&lt;chr&gt;</th></tr>\n",
       "</thead>\n",
       "<tbody>\n",
       "\t<tr><td>4</td><td>mds27272    </td><td>My gf started playing before me. No option to create my own island and guys, being the 2nd player to start on a console SUCKS!!!! You miss out on so much that only the 1st player gets in terms of activities, resources, etc. It's absolutely terrible. You have to buy a 2nd console if more than one person in your household wants to get the full game experience. That's unacceptable.                                                                                                                                                                                                                                                                                                                                                                                                                                                                                                                                                                                                                                                                                                         </td><td>3/20/20</td></tr>\n",
       "\t<tr><td>5</td><td>lolo2178    </td><td>While the game itself is great, really relaxing and gorgeous, i can't ignore one thing that ruins the whole experience for me and a lot of other people as seen by the different user reviews.That thing is that you only have 1 island per console. This decision limits to one person being able to enjoy the full experience. It also nukes any creative control of the island, since you haveWhile the game itself is great, really relaxing and gorgeous, i can't ignore one thing that ruins the whole experience for me and a lot of other people as seen by the different user reviews.That thing is that you only have 1 island per console. This decision limits to one person being able to enjoy the full experience. It also nukes any creative control of the island, since you have the other usershouse and furniture. I hope nintendo can soon fix this big issue, because for now, this killed any intentions i had to play the game.… Expand                                                                                                                                       </td><td>3/20/20</td></tr>\n",
       "\t<tr><td>0</td><td>Roachant    </td><td>My wife and I were looking forward to playing this game when it released. I bought it, I let her play first she made an island and played for a bit. Then I decided to play only to discover that Nintendo only allows one island per switch! Not only that, the second player cannot build anything on the island and tool building is considerably harder to do. So, if you have more than one personMy wife and I were looking forward to playing this game when it released. I bought it, I let her play first she made an island and played for a bit. Then I decided to play only to discover that Nintendo only allows one island per switch! Not only that, the second player cannot build anything on the island and tool building is considerably harder to do. So, if you have more than one person in your home that wants to play the game, you need two switches. Worst decision I have ever seen, this even beats EA.Congratulations Nintendo, you have officially become the worst video game company this year!… Expand                                                              </td><td>3/20/20</td></tr>\n",
       "\t<tr><td>0</td><td>Houndf      </td><td>We need equal values and opportunities for all players on the island! My wife is the first player, which is great but I do not want to wait for her progress. At the same time, I do not want her to have a a second class player experience if I am the founder. Fix this Nintendo!!                                                                                                                                                                                                                                                                                                                                                                                                                                                                                                                                                                                                                                                                                                                                                                                                                 </td><td>3/20/20</td></tr>\n",
       "\t<tr><td>0</td><td>ProfessorFox</td><td>BEWARE!  If you have multiple people in your house that want to play this game they can not each have their own account (island).  ONLY ONE customizable island can be played per Switch.  Even if you buy two copies of the game you will still only be able to customize ONE island.  I have 3 kids that want to play this game and they each want to customize their own island - AND THEY CANT!BEWARE!  If you have multiple people in your house that want to play this game they can not each have their own account (island).  ONLY ONE customizable island can be played per Switch.  Even if you buy two copies of the game you will still only be able to customize ONE island.  I have 3 kids that want to play this game and they each want to customize their own island - AND THEY CANT!   This is absolutely unacceptable.  Maybe the dumbest thing Nintendo has ever done.  I have owned every Nintendo console since the original NES and I can not think of a worse decision by Nintendo.… Expand                                                                                   </td><td>3/20/20</td></tr>\n",
       "\t<tr><td>0</td><td>tb726       </td><td>The limitation of one island per Switch (not per cartridge, per Switch) is nonsensical. It‘s obvious Nintendo is just trying to sell more Switch consoles. This means only one person in your family can enjoy the game to its fullest extent. Player 2 can barely do anything, and their progression is blocked until player 1 progresses further. Player 2 can’t make any administrative decisions.The limitation of one island per Switch (not per cartridge, per Switch) is nonsensical. It‘s obvious Nintendo is just trying to sell more Switch consoles. This means only one person in your family can enjoy the game to its fullest extent. Player 2 can barely do anything, and their progression is blocked until player 1 progresses further. Player 2 can’t make any administrative decisions. Players 1 and 2 have to share limited daily resources. I had to delete my save so my brother could enjoy the game.Sorry but this is an instant 0/10. The Switch is a family-oriented console and this is not a family-oriented game. This is a colossal failure on Nintendo’s part.… Expand</td><td>3/20/20</td></tr>\n",
       "</tbody>\n",
       "</table>\n"
      ],
      "text/latex": [
       "A tibble: 6 × 4\n",
       "\\begin{tabular}{llll}\n",
       " grade & user\\_name & text & date\\\\\n",
       " <dbl> & <chr> & <chr> & <chr>\\\\\n",
       "\\hline\n",
       "\t 4 & mds27272     & My gf started playing before me. No option to create my own island and guys, being the 2nd player to start on a console SUCKS!!!! You miss out on so much that only the 1st player gets in terms of activities, resources, etc. It's absolutely terrible. You have to buy a 2nd console if more than one person in your household wants to get the full game experience. That's unacceptable.                                                                                                                                                                                                                                                                                                                                                                                                                                                                                                                                                                                                                                                                                                          & 3/20/20\\\\\n",
       "\t 5 & lolo2178     & While the game itself is great, really relaxing and gorgeous, i can't ignore one thing that ruins the whole experience for me and a lot of other people as seen by the different user reviews.That thing is that you only have 1 island per console. This decision limits to one person being able to enjoy the full experience. It also nukes any creative control of the island, since you haveWhile the game itself is great, really relaxing and gorgeous, i can't ignore one thing that ruins the whole experience for me and a lot of other people as seen by the different user reviews.That thing is that you only have 1 island per console. This decision limits to one person being able to enjoy the full experience. It also nukes any creative control of the island, since you have the other usershouse and furniture. I hope nintendo can soon fix this big issue, because for now, this killed any intentions i had to play the game.… Expand                                                                                                                                        & 3/20/20\\\\\n",
       "\t 0 & Roachant     & My wife and I were looking forward to playing this game when it released. I bought it, I let her play first she made an island and played for a bit. Then I decided to play only to discover that Nintendo only allows one island per switch! Not only that, the second player cannot build anything on the island and tool building is considerably harder to do. So, if you have more than one personMy wife and I were looking forward to playing this game when it released. I bought it, I let her play first she made an island and played for a bit. Then I decided to play only to discover that Nintendo only allows one island per switch! Not only that, the second player cannot build anything on the island and tool building is considerably harder to do. So, if you have more than one person in your home that wants to play the game, you need two switches. Worst decision I have ever seen, this even beats EA.Congratulations Nintendo, you have officially become the worst video game company this year!… Expand                                                               & 3/20/20\\\\\n",
       "\t 0 & Houndf       & We need equal values and opportunities for all players on the island! My wife is the first player, which is great but I do not want to wait for her progress. At the same time, I do not want her to have a a second class player experience if I am the founder. Fix this Nintendo!!                                                                                                                                                                                                                                                                                                                                                                                                                                                                                                                                                                                                                                                                                                                                                                                                                  & 3/20/20\\\\\n",
       "\t 0 & ProfessorFox & BEWARE!  If you have multiple people in your house that want to play this game they can not each have their own account (island).  ONLY ONE customizable island can be played per Switch.  Even if you buy two copies of the game you will still only be able to customize ONE island.  I have 3 kids that want to play this game and they each want to customize their own island - AND THEY CANT!BEWARE!  If you have multiple people in your house that want to play this game they can not each have their own account (island).  ONLY ONE customizable island can be played per Switch.  Even if you buy two copies of the game you will still only be able to customize ONE island.  I have 3 kids that want to play this game and they each want to customize their own island - AND THEY CANT!   This is absolutely unacceptable.  Maybe the dumbest thing Nintendo has ever done.  I have owned every Nintendo console since the original NES and I can not think of a worse decision by Nintendo.… Expand                                                                                    & 3/20/20\\\\\n",
       "\t 0 & tb726        & The limitation of one island per Switch (not per cartridge, per Switch) is nonsensical. It‘s obvious Nintendo is just trying to sell more Switch consoles. This means only one person in your family can enjoy the game to its fullest extent. Player 2 can barely do anything, and their progression is blocked until player 1 progresses further. Player 2 can’t make any administrative decisions.The limitation of one island per Switch (not per cartridge, per Switch) is nonsensical. It‘s obvious Nintendo is just trying to sell more Switch consoles. This means only one person in your family can enjoy the game to its fullest extent. Player 2 can barely do anything, and their progression is blocked until player 1 progresses further. Player 2 can’t make any administrative decisions. Players 1 and 2 have to share limited daily resources. I had to delete my save so my brother could enjoy the game.Sorry but this is an instant 0/10. The Switch is a family-oriented console and this is not a family-oriented game. This is a colossal failure on Nintendo’s part.… Expand & 3/20/20\\\\\n",
       "\\end{tabular}\n"
      ],
      "text/markdown": [
       "\n",
       "A tibble: 6 × 4\n",
       "\n",
       "| grade &lt;dbl&gt; | user_name &lt;chr&gt; | text &lt;chr&gt; | date &lt;chr&gt; |\n",
       "|---|---|---|---|\n",
       "| 4 | mds27272     | My gf started playing before me. No option to create my own island and guys, being the 2nd player to start on a console SUCKS!!!! You miss out on so much that only the 1st player gets in terms of activities, resources, etc. It's absolutely terrible. You have to buy a 2nd console if more than one person in your household wants to get the full game experience. That's unacceptable.                                                                                                                                                                                                                                                                                                                                                                                                                                                                                                                                                                                                                                                                                                          | 3/20/20 |\n",
       "| 5 | lolo2178     | While the game itself is great, really relaxing and gorgeous, i can't ignore one thing that ruins the whole experience for me and a lot of other people as seen by the different user reviews.That thing is that you only have 1 island per console. This decision limits to one person being able to enjoy the full experience. It also nukes any creative control of the island, since you haveWhile the game itself is great, really relaxing and gorgeous, i can't ignore one thing that ruins the whole experience for me and a lot of other people as seen by the different user reviews.That thing is that you only have 1 island per console. This decision limits to one person being able to enjoy the full experience. It also nukes any creative control of the island, since you have the other usershouse and furniture. I hope nintendo can soon fix this big issue, because for now, this killed any intentions i had to play the game.… Expand                                                                                                                                        | 3/20/20 |\n",
       "| 0 | Roachant     | My wife and I were looking forward to playing this game when it released. I bought it, I let her play first she made an island and played for a bit. Then I decided to play only to discover that Nintendo only allows one island per switch! Not only that, the second player cannot build anything on the island and tool building is considerably harder to do. So, if you have more than one personMy wife and I were looking forward to playing this game when it released. I bought it, I let her play first she made an island and played for a bit. Then I decided to play only to discover that Nintendo only allows one island per switch! Not only that, the second player cannot build anything on the island and tool building is considerably harder to do. So, if you have more than one person in your home that wants to play the game, you need two switches. Worst decision I have ever seen, this even beats EA.Congratulations Nintendo, you have officially become the worst video game company this year!… Expand                                                               | 3/20/20 |\n",
       "| 0 | Houndf       | We need equal values and opportunities for all players on the island! My wife is the first player, which is great but I do not want to wait for her progress. At the same time, I do not want her to have a a second class player experience if I am the founder. Fix this Nintendo!!                                                                                                                                                                                                                                                                                                                                                                                                                                                                                                                                                                                                                                                                                                                                                                                                                  | 3/20/20 |\n",
       "| 0 | ProfessorFox | BEWARE!  If you have multiple people in your house that want to play this game they can not each have their own account (island).  ONLY ONE customizable island can be played per Switch.  Even if you buy two copies of the game you will still only be able to customize ONE island.  I have 3 kids that want to play this game and they each want to customize their own island - AND THEY CANT!BEWARE!  If you have multiple people in your house that want to play this game they can not each have their own account (island).  ONLY ONE customizable island can be played per Switch.  Even if you buy two copies of the game you will still only be able to customize ONE island.  I have 3 kids that want to play this game and they each want to customize their own island - AND THEY CANT!   This is absolutely unacceptable.  Maybe the dumbest thing Nintendo has ever done.  I have owned every Nintendo console since the original NES and I can not think of a worse decision by Nintendo.… Expand                                                                                    | 3/20/20 |\n",
       "| 0 | tb726        | The limitation of one island per Switch (not per cartridge, per Switch) is nonsensical. It‘s obvious Nintendo is just trying to sell more Switch consoles. This means only one person in your family can enjoy the game to its fullest extent. Player 2 can barely do anything, and their progression is blocked until player 1 progresses further. Player 2 can’t make any administrative decisions.The limitation of one island per Switch (not per cartridge, per Switch) is nonsensical. It‘s obvious Nintendo is just trying to sell more Switch consoles. This means only one person in your family can enjoy the game to its fullest extent. Player 2 can barely do anything, and their progression is blocked until player 1 progresses further. Player 2 can’t make any administrative decisions. Players 1 and 2 have to share limited daily resources. I had to delete my save so my brother could enjoy the game.Sorry but this is an instant 0/10. The Switch is a family-oriented console and this is not a family-oriented game. This is a colossal failure on Nintendo’s part.… Expand | 3/20/20 |\n",
       "\n"
      ],
      "text/plain": [
       "  grade user_name   \n",
       "1 4     mds27272    \n",
       "2 5     lolo2178    \n",
       "3 0     Roachant    \n",
       "4 0     Houndf      \n",
       "5 0     ProfessorFox\n",
       "6 0     tb726       \n",
       "  text                                                                                                                                                                                                                                                                                                                                                                                                                                                                                                                                                                                                                                                                                                                                                                                                                                                                                                                                                                                                                                                                                                  \n",
       "1 My gf started playing before me. No option to create my own island and guys, being the 2nd player to start on a console SUCKS!!!! You miss out on so much that only the 1st player gets in terms of activities, resources, etc. It's absolutely terrible. You have to buy a 2nd console if more than one person in your household wants to get the full game experience. That's unacceptable.                                                                                                                                                                                                                                                                                                                                                                                                                                                                                                                                                                                                                                                                                                         \n",
       "2 While the game itself is great, really relaxing and gorgeous, i can't ignore one thing that ruins the whole experience for me and a lot of other people as seen by the different user reviews.That thing is that you only have 1 island per console. This decision limits to one person being able to enjoy the full experience. It also nukes any creative control of the island, since you haveWhile the game itself is great, really relaxing and gorgeous, i can't ignore one thing that ruins the whole experience for me and a lot of other people as seen by the different user reviews.That thing is that you only have 1 island per console. This decision limits to one person being able to enjoy the full experience. It also nukes any creative control of the island, since you have the other usershouse and furniture. I hope nintendo can soon fix this big issue, because for now, this killed any intentions i had to play the game.… Expand                                                                                                                                       \n",
       "3 My wife and I were looking forward to playing this game when it released. I bought it, I let her play first she made an island and played for a bit. Then I decided to play only to discover that Nintendo only allows one island per switch! Not only that, the second player cannot build anything on the island and tool building is considerably harder to do. So, if you have more than one personMy wife and I were looking forward to playing this game when it released. I bought it, I let her play first she made an island and played for a bit. Then I decided to play only to discover that Nintendo only allows one island per switch! Not only that, the second player cannot build anything on the island and tool building is considerably harder to do. So, if you have more than one person in your home that wants to play the game, you need two switches. Worst decision I have ever seen, this even beats EA.Congratulations Nintendo, you have officially become the worst video game company this year!… Expand                                                              \n",
       "4 We need equal values and opportunities for all players on the island! My wife is the first player, which is great but I do not want to wait for her progress. At the same time, I do not want her to have a a second class player experience if I am the founder. Fix this Nintendo!!                                                                                                                                                                                                                                                                                                                                                                                                                                                                                                                                                                                                                                                                                                                                                                                                                 \n",
       "5 BEWARE!  If you have multiple people in your house that want to play this game they can not each have their own account (island).  ONLY ONE customizable island can be played per Switch.  Even if you buy two copies of the game you will still only be able to customize ONE island.  I have 3 kids that want to play this game and they each want to customize their own island - AND THEY CANT!BEWARE!  If you have multiple people in your house that want to play this game they can not each have their own account (island).  ONLY ONE customizable island can be played per Switch.  Even if you buy two copies of the game you will still only be able to customize ONE island.  I have 3 kids that want to play this game and they each want to customize their own island - AND THEY CANT!   This is absolutely unacceptable.  Maybe the dumbest thing Nintendo has ever done.  I have owned every Nintendo console since the original NES and I can not think of a worse decision by Nintendo.… Expand                                                                                   \n",
       "6 The limitation of one island per Switch (not per cartridge, per Switch) is nonsensical. It‘s obvious Nintendo is just trying to sell more Switch consoles. This means only one person in your family can enjoy the game to its fullest extent. Player 2 can barely do anything, and their progression is blocked until player 1 progresses further. Player 2 can’t make any administrative decisions.The limitation of one island per Switch (not per cartridge, per Switch) is nonsensical. It‘s obvious Nintendo is just trying to sell more Switch consoles. This means only one person in your family can enjoy the game to its fullest extent. Player 2 can barely do anything, and their progression is blocked until player 1 progresses further. Player 2 can’t make any administrative decisions. Players 1 and 2 have to share limited daily resources. I had to delete my save so my brother could enjoy the game.Sorry but this is an instant 0/10. The Switch is a family-oriented console and this is not a family-oriented game. This is a colossal failure on Nintendo’s part.… Expand\n",
       "  date   \n",
       "1 3/20/20\n",
       "2 3/20/20\n",
       "3 3/20/20\n",
       "4 3/20/20\n",
       "5 3/20/20\n",
       "6 3/20/20"
      ]
     },
     "metadata": {},
     "output_type": "display_data"
    }
   ],
   "source": [
    "reviews = read_csv(\"https://raw.githubusercontent.com/bmanzo/stats306_labs/master/lab07/user_reviews.csv\")\n",
    "head(reviews)"
   ]
  },
  {
   "cell_type": "markdown",
   "metadata": {
    "slideshow": {
     "slide_type": "slide"
    }
   },
   "source": [
    "We'll ignore 0 star reviews as these are probably not as informative"
   ]
  },
  {
   "cell_type": "code",
   "execution_count": 29,
   "metadata": {
    "slideshow": {
     "slide_type": "slide"
    }
   },
   "outputs": [
    {
     "data": {
      "text/html": [
       "<table>\n",
       "<caption>A tibble: 6 × 4</caption>\n",
       "<thead>\n",
       "\t<tr><th scope=col>grade</th><th scope=col>user_name</th><th scope=col>text</th><th scope=col>date</th></tr>\n",
       "\t<tr><th scope=col>&lt;dbl&gt;</th><th scope=col>&lt;chr&gt;</th><th scope=col>&lt;chr&gt;</th><th scope=col>&lt;chr&gt;</th></tr>\n",
       "</thead>\n",
       "<tbody>\n",
       "\t<tr><td>4</td><td>mds27272      </td><td>My gf started playing before me. No option to create my own island and guys, being the 2nd player to start on a console SUCKS!!!! You miss out on so much that only the 1st player gets in terms of activities, resources, etc. It's absolutely terrible. You have to buy a 2nd console if more than one person in your household wants to get the full game experience. That's unacceptable.                                                                                                                                                                                                                                                                                                                                                                                                                                                                                                                                                                                                                                                                                                                                                                                                                                                                                                                                                                                                                                                                                                                                                          </td><td>3/20/20</td></tr>\n",
       "\t<tr><td>5</td><td>lolo2178      </td><td>While the game itself is great, really relaxing and gorgeous, i can't ignore one thing that ruins the whole experience for me and a lot of other people as seen by the different user reviews.That thing is that you only have 1 island per console. This decision limits to one person being able to enjoy the full experience. It also nukes any creative control of the island, since you haveWhile the game itself is great, really relaxing and gorgeous, i can't ignore one thing that ruins the whole experience for me and a lot of other people as seen by the different user reviews.That thing is that you only have 1 island per console. This decision limits to one person being able to enjoy the full experience. It also nukes any creative control of the island, since you have the other usershouse and furniture. I hope nintendo can soon fix this big issue, because for now, this killed any intentions i had to play the game.… Expand                                                                                                                                                                                                                                                                                                                                                                                                                                                                                                                                                                                        </td><td>3/20/20</td></tr>\n",
       "\t<tr><td>1</td><td>rafilks182    </td><td>they heavily marketed this game as a social experience. a game to share with your friends and family. but heres the catch, you will need 1 nintendo switch for each player to get the full experience. I bought the game to share it with my girlfriend but the first player is considered as the FOUNDER of the island, and he is the one that will progress the story, that will unlock stuff and dothey heavily marketed this game as a social experience. a game to share with your friends and family. but heres the catch, you will need 1 nintendo switch for each player to get the full experience. I bought the game to share it with my girlfriend but the first player is considered as the FOUNDER of the island, and he is the one that will progress the story, that will unlock stuff and do all the cool things. The second nintendo switch profile will act merely as a villager, with little to no impact on the game and not able to progress without the founders progress. Game ruined by greed, want to have the full experience? BUY 2 PHYSICAL COPIES AND 2 NINTENDO SWITCHES, yeah thats what nintendo requires of you to play a social game if you want to be social.… Expand                                                                                                                                                                                                                                                                                                                                               </td><td>3/20/20</td></tr>\n",
       "\t<tr><td>1</td><td>favouritecommi</td><td>Alright, so first things first the game itself is alright, HOWEVER, if you have more than one person in your household only the FOUNDER will be able to enjoy it as supposed to. Not only you can not have multiple islands (not even sure how to react on that in 2020), but also the first player gets all proper interactions, quests etc. If you share a console other players will be limited toAlright, so first things first the game itself is alright, HOWEVER, if you have more than one person in your household only the FOUNDER will be able to enjoy it as supposed to. Not only you can not have multiple islands (not even sure how to react on that in 2020), but also the first player gets all proper interactions, quests etc. If you share a console other players will be limited to the progress of player 1.But what's worse is a local coop, the second player is basically a slave of the main one without inventory and even being able to proper pick-up stuff (so you have to jump around the main player for usual exchange). Not to mention the second player animation every time it picks sth up from the ground (like hey I found this) especially annoying when you have those quests like collect 200 sth. Also, the second player is unable to do anything while the first one is in the inventory menu.Also, small things like not being able to rotate the camera or change the location of the tent are annoying.IDK to it seems like Nintendo tried to make ppl buy more consols or sth. Disappointed.… Expand</td><td>3/20/20</td></tr>\n",
       "\t<tr><td>4</td><td>Phantafun     </td><td>A good game, for sure, but only 1 Island. With this limitation, to keep the interest longer, only my wife play.Half the payer, half the rating. I Hope a change soon                                                                                                                                                                                                                                                                                                                                                                                                                                                                                                                                                                                                                                                                                                                                                                                                                                                                                                                                                                                                                                                                                                                                                                                                                                                                                                                                                                                   </td><td>3/20/20</td></tr>\n",
       "\t<tr><td>1</td><td>FunkyVerb     </td><td>Same-console multiplayer is severely limited. The game was designed so that only one person per family can actually get the full experience. Do NOT buy this game if you want to play with multiple people.                                                                                                                                                                                                                                                                                                                                                                                                                                                                                                                                                                                                                                                                                                                                                                                                                                                                                                                                                                                                                                                                                                                                                                                                                                                                                                                                            </td><td>3/20/20</td></tr>\n",
       "</tbody>\n",
       "</table>\n"
      ],
      "text/latex": [
       "A tibble: 6 × 4\n",
       "\\begin{tabular}{llll}\n",
       " grade & user\\_name & text & date\\\\\n",
       " <dbl> & <chr> & <chr> & <chr>\\\\\n",
       "\\hline\n",
       "\t 4 & mds27272       & My gf started playing before me. No option to create my own island and guys, being the 2nd player to start on a console SUCKS!!!! You miss out on so much that only the 1st player gets in terms of activities, resources, etc. It's absolutely terrible. You have to buy a 2nd console if more than one person in your household wants to get the full game experience. That's unacceptable.                                                                                                                                                                                                                                                                                                                                                                                                                                                                                                                                                                                                                                                                                                                                                                                                                                                                                                                                                                                                                                                                                                                                                           & 3/20/20\\\\\n",
       "\t 5 & lolo2178       & While the game itself is great, really relaxing and gorgeous, i can't ignore one thing that ruins the whole experience for me and a lot of other people as seen by the different user reviews.That thing is that you only have 1 island per console. This decision limits to one person being able to enjoy the full experience. It also nukes any creative control of the island, since you haveWhile the game itself is great, really relaxing and gorgeous, i can't ignore one thing that ruins the whole experience for me and a lot of other people as seen by the different user reviews.That thing is that you only have 1 island per console. This decision limits to one person being able to enjoy the full experience. It also nukes any creative control of the island, since you have the other usershouse and furniture. I hope nintendo can soon fix this big issue, because for now, this killed any intentions i had to play the game.… Expand                                                                                                                                                                                                                                                                                                                                                                                                                                                                                                                                                                                         & 3/20/20\\\\\n",
       "\t 1 & rafilks182     & they heavily marketed this game as a social experience. a game to share with your friends and family. but heres the catch, you will need 1 nintendo switch for each player to get the full experience. I bought the game to share it with my girlfriend but the first player is considered as the FOUNDER of the island, and he is the one that will progress the story, that will unlock stuff and dothey heavily marketed this game as a social experience. a game to share with your friends and family. but heres the catch, you will need 1 nintendo switch for each player to get the full experience. I bought the game to share it with my girlfriend but the first player is considered as the FOUNDER of the island, and he is the one that will progress the story, that will unlock stuff and do all the cool things. The second nintendo switch profile will act merely as a villager, with little to no impact on the game and not able to progress without the founders progress. Game ruined by greed, want to have the full experience? BUY 2 PHYSICAL COPIES AND 2 NINTENDO SWITCHES, yeah thats what nintendo requires of you to play a social game if you want to be social.… Expand                                                                                                                                                                                                                                                                                                                                                & 3/20/20\\\\\n",
       "\t 1 & favouritecommi & Alright, so first things first the game itself is alright, HOWEVER, if you have more than one person in your household only the FOUNDER will be able to enjoy it as supposed to. Not only you can not have multiple islands (not even sure how to react on that in 2020), but also the first player gets all proper interactions, quests etc. If you share a console other players will be limited toAlright, so first things first the game itself is alright, HOWEVER, if you have more than one person in your household only the FOUNDER will be able to enjoy it as supposed to. Not only you can not have multiple islands (not even sure how to react on that in 2020), but also the first player gets all proper interactions, quests etc. If you share a console other players will be limited to the progress of player 1.But what's worse is a local coop, the second player is basically a slave of the main one without inventory and even being able to proper pick-up stuff (so you have to jump around the main player for usual exchange). Not to mention the second player animation every time it picks sth up from the ground (like hey I found this) especially annoying when you have those quests like collect 200 sth. Also, the second player is unable to do anything while the first one is in the inventory menu.Also, small things like not being able to rotate the camera or change the location of the tent are annoying.IDK to it seems like Nintendo tried to make ppl buy more consols or sth. Disappointed.… Expand & 3/20/20\\\\\n",
       "\t 4 & Phantafun      & A good game, for sure, but only 1 Island. With this limitation, to keep the interest longer, only my wife play.Half the payer, half the rating. I Hope a change soon                                                                                                                                                                                                                                                                                                                                                                                                                                                                                                                                                                                                                                                                                                                                                                                                                                                                                                                                                                                                                                                                                                                                                                                                                                                                                                                                                                                    & 3/20/20\\\\\n",
       "\t 1 & FunkyVerb      & Same-console multiplayer is severely limited. The game was designed so that only one person per family can actually get the full experience. Do NOT buy this game if you want to play with multiple people.                                                                                                                                                                                                                                                                                                                                                                                                                                                                                                                                                                                                                                                                                                                                                                                                                                                                                                                                                                                                                                                                                                                                                                                                                                                                                                                                             & 3/20/20\\\\\n",
       "\\end{tabular}\n"
      ],
      "text/markdown": [
       "\n",
       "A tibble: 6 × 4\n",
       "\n",
       "| grade &lt;dbl&gt; | user_name &lt;chr&gt; | text &lt;chr&gt; | date &lt;chr&gt; |\n",
       "|---|---|---|---|\n",
       "| 4 | mds27272       | My gf started playing before me. No option to create my own island and guys, being the 2nd player to start on a console SUCKS!!!! You miss out on so much that only the 1st player gets in terms of activities, resources, etc. It's absolutely terrible. You have to buy a 2nd console if more than one person in your household wants to get the full game experience. That's unacceptable.                                                                                                                                                                                                                                                                                                                                                                                                                                                                                                                                                                                                                                                                                                                                                                                                                                                                                                                                                                                                                                                                                                                                                           | 3/20/20 |\n",
       "| 5 | lolo2178       | While the game itself is great, really relaxing and gorgeous, i can't ignore one thing that ruins the whole experience for me and a lot of other people as seen by the different user reviews.That thing is that you only have 1 island per console. This decision limits to one person being able to enjoy the full experience. It also nukes any creative control of the island, since you haveWhile the game itself is great, really relaxing and gorgeous, i can't ignore one thing that ruins the whole experience for me and a lot of other people as seen by the different user reviews.That thing is that you only have 1 island per console. This decision limits to one person being able to enjoy the full experience. It also nukes any creative control of the island, since you have the other usershouse and furniture. I hope nintendo can soon fix this big issue, because for now, this killed any intentions i had to play the game.… Expand                                                                                                                                                                                                                                                                                                                                                                                                                                                                                                                                                                                         | 3/20/20 |\n",
       "| 1 | rafilks182     | they heavily marketed this game as a social experience. a game to share with your friends and family. but heres the catch, you will need 1 nintendo switch for each player to get the full experience. I bought the game to share it with my girlfriend but the first player is considered as the FOUNDER of the island, and he is the one that will progress the story, that will unlock stuff and dothey heavily marketed this game as a social experience. a game to share with your friends and family. but heres the catch, you will need 1 nintendo switch for each player to get the full experience. I bought the game to share it with my girlfriend but the first player is considered as the FOUNDER of the island, and he is the one that will progress the story, that will unlock stuff and do all the cool things. The second nintendo switch profile will act merely as a villager, with little to no impact on the game and not able to progress without the founders progress. Game ruined by greed, want to have the full experience? BUY 2 PHYSICAL COPIES AND 2 NINTENDO SWITCHES, yeah thats what nintendo requires of you to play a social game if you want to be social.… Expand                                                                                                                                                                                                                                                                                                                                                | 3/20/20 |\n",
       "| 1 | favouritecommi | Alright, so first things first the game itself is alright, HOWEVER, if you have more than one person in your household only the FOUNDER will be able to enjoy it as supposed to. Not only you can not have multiple islands (not even sure how to react on that in 2020), but also the first player gets all proper interactions, quests etc. If you share a console other players will be limited toAlright, so first things first the game itself is alright, HOWEVER, if you have more than one person in your household only the FOUNDER will be able to enjoy it as supposed to. Not only you can not have multiple islands (not even sure how to react on that in 2020), but also the first player gets all proper interactions, quests etc. If you share a console other players will be limited to the progress of player 1.But what's worse is a local coop, the second player is basically a slave of the main one without inventory and even being able to proper pick-up stuff (so you have to jump around the main player for usual exchange). Not to mention the second player animation every time it picks sth up from the ground (like hey I found this) especially annoying when you have those quests like collect 200 sth. Also, the second player is unable to do anything while the first one is in the inventory menu.Also, small things like not being able to rotate the camera or change the location of the tent are annoying.IDK to it seems like Nintendo tried to make ppl buy more consols or sth. Disappointed.… Expand | 3/20/20 |\n",
       "| 4 | Phantafun      | A good game, for sure, but only 1 Island. With this limitation, to keep the interest longer, only my wife play.Half the payer, half the rating. I Hope a change soon                                                                                                                                                                                                                                                                                                                                                                                                                                                                                                                                                                                                                                                                                                                                                                                                                                                                                                                                                                                                                                                                                                                                                                                                                                                                                                                                                                                    | 3/20/20 |\n",
       "| 1 | FunkyVerb      | Same-console multiplayer is severely limited. The game was designed so that only one person per family can actually get the full experience. Do NOT buy this game if you want to play with multiple people.                                                                                                                                                                                                                                                                                                                                                                                                                                                                                                                                                                                                                                                                                                                                                                                                                                                                                                                                                                                                                                                                                                                                                                                                                                                                                                                                             | 3/20/20 |\n",
       "\n"
      ],
      "text/plain": [
       "  grade user_name     \n",
       "1 4     mds27272      \n",
       "2 5     lolo2178      \n",
       "3 1     rafilks182    \n",
       "4 1     favouritecommi\n",
       "5 4     Phantafun     \n",
       "6 1     FunkyVerb     \n",
       "  text                                                                                                                                                                                                                                                                                                                                                                                                                                                                                                                                                                                                                                                                                                                                                                                                                                                                                                                                                                                                                                                                                                                                                                                                                                                                                                                                                                                                                                                                                                                                                   \n",
       "1 My gf started playing before me. No option to create my own island and guys, being the 2nd player to start on a console SUCKS!!!! You miss out on so much that only the 1st player gets in terms of activities, resources, etc. It's absolutely terrible. You have to buy a 2nd console if more than one person in your household wants to get the full game experience. That's unacceptable.                                                                                                                                                                                                                                                                                                                                                                                                                                                                                                                                                                                                                                                                                                                                                                                                                                                                                                                                                                                                                                                                                                                                                          \n",
       "2 While the game itself is great, really relaxing and gorgeous, i can't ignore one thing that ruins the whole experience for me and a lot of other people as seen by the different user reviews.That thing is that you only have 1 island per console. This decision limits to one person being able to enjoy the full experience. It also nukes any creative control of the island, since you haveWhile the game itself is great, really relaxing and gorgeous, i can't ignore one thing that ruins the whole experience for me and a lot of other people as seen by the different user reviews.That thing is that you only have 1 island per console. This decision limits to one person being able to enjoy the full experience. It also nukes any creative control of the island, since you have the other usershouse and furniture. I hope nintendo can soon fix this big issue, because for now, this killed any intentions i had to play the game.… Expand                                                                                                                                                                                                                                                                                                                                                                                                                                                                                                                                                                                        \n",
       "3 they heavily marketed this game as a social experience. a game to share with your friends and family. but heres the catch, you will need 1 nintendo switch for each player to get the full experience. I bought the game to share it with my girlfriend but the first player is considered as the FOUNDER of the island, and he is the one that will progress the story, that will unlock stuff and dothey heavily marketed this game as a social experience. a game to share with your friends and family. but heres the catch, you will need 1 nintendo switch for each player to get the full experience. I bought the game to share it with my girlfriend but the first player is considered as the FOUNDER of the island, and he is the one that will progress the story, that will unlock stuff and do all the cool things. The second nintendo switch profile will act merely as a villager, with little to no impact on the game and not able to progress without the founders progress. Game ruined by greed, want to have the full experience? BUY 2 PHYSICAL COPIES AND 2 NINTENDO SWITCHES, yeah thats what nintendo requires of you to play a social game if you want to be social.… Expand                                                                                                                                                                                                                                                                                                                                               \n",
       "4 Alright, so first things first the game itself is alright, HOWEVER, if you have more than one person in your household only the FOUNDER will be able to enjoy it as supposed to. Not only you can not have multiple islands (not even sure how to react on that in 2020), but also the first player gets all proper interactions, quests etc. If you share a console other players will be limited toAlright, so first things first the game itself is alright, HOWEVER, if you have more than one person in your household only the FOUNDER will be able to enjoy it as supposed to. Not only you can not have multiple islands (not even sure how to react on that in 2020), but also the first player gets all proper interactions, quests etc. If you share a console other players will be limited to the progress of player 1.But what's worse is a local coop, the second player is basically a slave of the main one without inventory and even being able to proper pick-up stuff (so you have to jump around the main player for usual exchange). Not to mention the second player animation every time it picks sth up from the ground (like hey I found this) especially annoying when you have those quests like collect 200 sth. Also, the second player is unable to do anything while the first one is in the inventory menu.Also, small things like not being able to rotate the camera or change the location of the tent are annoying.IDK to it seems like Nintendo tried to make ppl buy more consols or sth. Disappointed.… Expand\n",
       "5 A good game, for sure, but only 1 Island. With this limitation, to keep the interest longer, only my wife play.Half the payer, half the rating. I Hope a change soon                                                                                                                                                                                                                                                                                                                                                                                                                                                                                                                                                                                                                                                                                                                                                                                                                                                                                                                                                                                                                                                                                                                                                                                                                                                                                                                                                                                   \n",
       "6 Same-console multiplayer is severely limited. The game was designed so that only one person per family can actually get the full experience. Do NOT buy this game if you want to play with multiple people.                                                                                                                                                                                                                                                                                                                                                                                                                                                                                                                                                                                                                                                                                                                                                                                                                                                                                                                                                                                                                                                                                                                                                                                                                                                                                                                                            \n",
       "  date   \n",
       "1 3/20/20\n",
       "2 3/20/20\n",
       "3 3/20/20\n",
       "4 3/20/20\n",
       "5 3/20/20\n",
       "6 3/20/20"
      ]
     },
     "metadata": {},
     "output_type": "display_data"
    }
   ],
   "source": [
    "reviews_clean = reviews %>% filter(grade > 0)\n",
    "head(reviews_clean)"
   ]
  },
  {
   "cell_type": "markdown",
   "metadata": {
    "slideshow": {
     "slide_type": "slide"
    }
   },
   "source": [
    "A lot of people are complaining about the inability of more than one person to play on the same console. What are some ways to quantify this?"
   ]
  },
  {
   "cell_type": "code",
   "execution_count": 31,
   "metadata": {
    "slideshow": {
     "slide_type": "slide"
    }
   },
   "outputs": [
    {
     "data": {
      "text/html": [
       "<style>\n",
       ".list-inline {list-style: none; margin:0; padding: 0}\n",
       ".list-inline>li {display: inline-block}\n",
       ".list-inline>li:not(:last-child)::after {content: \"\\00b7\"; padding: 0 .5ex}\n",
       "</style>\n",
       "<ol class=list-inline><li>2</li><li>0</li><li>2</li><li>5</li><li>0</li><li>0</li></ol>\n"
      ],
      "text/latex": [
       "\\begin{enumerate*}\n",
       "\\item 2\n",
       "\\item 0\n",
       "\\item 2\n",
       "\\item 5\n",
       "\\item 0\n",
       "\\item 0\n",
       "\\end{enumerate*}\n"
      ],
      "text/markdown": [
       "1. 2\n",
       "2. 0\n",
       "3. 2\n",
       "4. 5\n",
       "5. 0\n",
       "6. 0\n",
       "\n",
       "\n"
      ],
      "text/plain": [
       "[1] 2 0 2 5 0 0"
      ]
     },
     "metadata": {},
     "output_type": "display_data"
    },
    {
     "data": {
      "text/html": [
       "0.142857142857143"
      ],
      "text/latex": [
       "0.142857142857143"
      ],
      "text/markdown": [
       "0.142857142857143"
      ],
      "text/plain": [
       "[1] 0.1428571"
      ]
     },
     "metadata": {},
     "output_type": "display_data"
    },
    {
     "data": {
      "text/html": [
       "<style>\n",
       ".list-inline {list-style: none; margin:0; padding: 0}\n",
       ".list-inline>li {display: inline-block}\n",
       ".list-inline>li:not(:last-child)::after {content: \"\\00b7\"; padding: 0 .5ex}\n",
       "</style>\n",
       "<ol class=list-inline><li>0</li><li>0</li><li>1</li><li>3</li><li>0</li><li>0</li></ol>\n"
      ],
      "text/latex": [
       "\\begin{enumerate*}\n",
       "\\item 0\n",
       "\\item 0\n",
       "\\item 1\n",
       "\\item 3\n",
       "\\item 0\n",
       "\\item 0\n",
       "\\end{enumerate*}\n"
      ],
      "text/markdown": [
       "1. 0\n",
       "2. 0\n",
       "3. 1\n",
       "4. 3\n",
       "5. 0\n",
       "6. 0\n",
       "\n",
       "\n"
      ],
      "text/plain": [
       "[1] 0 0 1 3 0 0"
      ]
     },
     "metadata": {},
     "output_type": "display_data"
    },
    {
     "data": {
      "text/html": [
       "0.0779220779220779"
      ],
      "text/latex": [
       "0.0779220779220779"
      ],
      "text/markdown": [
       "0.0779220779220779"
      ],
      "text/plain": [
       "[1] 0.07792208"
      ]
     },
     "metadata": {},
     "output_type": "display_data"
    }
   ],
   "source": [
    "str_count(reviews_clean$text, \"2\") %>% head()\n",
    "mean(str_count(reviews_clean$text, \"2\") >0)\n",
    "\n",
    "str_count(str_to_lower(reviews_clean$text), \"second\") %>% head()\n",
    "mean(str_count(str_to_lower(reviews_clean$text), \"second\") >0)"
   ]
  },
  {
   "cell_type": "code",
   "execution_count": 26,
   "metadata": {},
   "outputs": [
    {
     "data": {
      "text/html": [
       "<pre class=language-r><code>function (string, locale = \"en\") \n",
       "{\n",
       "<span style=white-space:pre-wrap>    stri_trans_tolower(string, locale = locale)</span>\n",
       "}</code></pre>"
      ],
      "text/latex": [
       "\\begin{minted}{r}\n",
       "function (string, locale = \"en\") \n",
       "\\{\n",
       "    stri\\_trans\\_tolower(string, locale = locale)\n",
       "\\}\n",
       "\\end{minted}"
      ],
      "text/markdown": [
       "```r\n",
       "function (string, locale = \"en\") \n",
       "{\n",
       "    stri_trans_tolower(string, locale = locale)\n",
       "}\n",
       "```"
      ],
      "text/plain": [
       "function (string, locale = \"en\") \n",
       "{\n",
       "    stri_trans_tolower(string, locale = locale)\n",
       "}\n",
       "<bytecode: 0x55ca59d8fc98>\n",
       "<environment: namespace:stringr>"
      ]
     },
     "metadata": {},
     "output_type": "display_data"
    }
   ],
   "source": [
    "str_to_lower"
   ]
  },
  {
   "cell_type": "markdown",
   "metadata": {
    "slideshow": {
     "slide_type": "slide"
    }
   },
   "source": [
    "What do people who really like the game say about it? "
   ]
  },
  {
   "cell_type": "code",
   "execution_count": 18,
   "metadata": {
    "slideshow": {
     "slide_type": "slide"
    }
   },
   "outputs": [
    {
     "data": {
      "text/html": [
       "<table>\n",
       "<thead><tr><th scope=col>grade</th><th scope=col>user_name</th><th scope=col>text</th><th scope=col>date</th></tr></thead>\n",
       "<tbody>\n",
       "\t<tr><td> 8                                                                                                                                                                                                                                                                                                                                                                                                                                                                                                                                                                                                                                                                                                                                                                                                                                                                                                                                                                                                                                                                                                                                                                                                                                                                                                                                                                                                                                                                                                                                                                                                                                                                                                                                                                                                                                                                                                                                                                                                                                                                                                                                                                                                                                                                                                                                </td><td>Jjdm11                                                                                                                                                                                                                                                                                                                                                                                                                                                                                                                                                                                                                                                                                                                                                                                                                                                                                                                                                                                                                                                                                                                                                                                                                                                                                                                                                                                                                                                                                                                                                                                                                                                                                                                                                                                                                                                                                                                                                                                                                                                                                                                                                                                                                                                                                                                            </td><td>This review contains spoilers, click expand to view.                                                                                            Animal crossing new horizons is a brilliant return after the disappointment that was amiibo festival.This game has you start on a desert island where you live your life.Nook miles are a new addition that makes and breaks the game at the same time,the game has things to work towards something previous entries lacked this is fun however it can get grindy and greatly limit freedom with things locked behind nook walls that ought to be unlocked.This game has it’s polishing issues and bafflingly poor implementation of some ideas life travelling to new islands.The loading times are some of the worst in a video game 1-2 minutes the standard this is to load some of the best visuals in a switch game it looks like ps5 or even pc how this runs on a switch I’m unsure .This game has the foundation of an excellent game but falls short due to a lack of polish despite this ,this is still the best one in the series topping new leaf.… Expand                                                                                                                                                                                                                                                                                                                                                                                                                                                                                                                                                                                                                                                                                                                                                                                                                                                                                                                                                                                                                                                                                                                                                                                                          </td><td>3/22/20                                                                                                                                                                                                                                                                                                                                                                                                                                                                                                                                                                                                                                                                                                                                                                                                                                                                                                                                                                                                                                                                                                                                                                                                                                                                                                                                                                                                                                                                                                                                                                                                                                                                                                                                                                                                                                                                                                                                                                                                                                                                                                                                                                                                                                                                                                                           </td></tr>\n",
       "\t<tr><td>10                                                                                                                                                                                                                                                                                                                                                                                                                                                                                                                                                                                                                                                                                                                                                                                                                                                                                                                                                                                                                                                                                                                                                                                                                                                                                                                                                                                                                                                                                                                                                                                                                                                                                                                                                                                                                                                                                                                                                                                                                                                                                                                                                                                                                                                                                                                                </td><td>lunareclipse122                                                                                                                                                                                                                                                                                                                                                                                                                                                                                                                                                                                                                                                                                                                                                                                                                                                                                                                                                                                                                                                                                                                                                                                                                                                                                                                                                                                                                                                                                                                                                                                                                                                                                                                                                                                                                                                                                                                                                                                                                                                                                                                                                                                                                                                                                                                   </td><td>This game is probably my favorite game and I’ve only had it for 2 days.  I could not recommend this game enough, please if you have a switch go out and buy this game it is amazing!                                                                                                                                                                                                                                                                                                                                                                                                                                                                                                                                                                                                                                                                                                                                                                                                                                                                                                                                                                                                                                                                                                                                                                                                                                                                                                                                                                                                                                                                                                                                                                                                                                                                                                                                                                                                                                                                                                                                                                                                                                                                                                                                              </td><td>3/22/20                                                                                                                                                                                                                                                                                                                                                                                                                                                                                                                                                                                                                                                                                                                                                                                                                                                                                                                                                                                                                                                                                                                                                                                                                                                                                                                                                                                                                                                                                                                                                                                                                                                                                                                                                                                                                                                                                                                                                                                                                                                                                                                                                                                                                                                                                                                           </td></tr>\n",
       "\t<tr><td> 9                                                                                                                                                                                                                                                                                                                                                                                                                                                                                                                                                                                                                                                                                                                                                                                                                                                                                                                                                                                                                                                                                                                                                                                                                                                                                                                                                                                                                                                                                                                                                                                                                                                                                                                                                                                                                                                                                                                                                                                                                                                                                                                                                                                                                                                                                                                                </td><td>Sage_the_Husky                                                                                                                                                                                                                                                                                                                                                                                                                                                                                                                                                                                                                                                                                                                                                                                                                                                                                                                                                                                                                                                                                                                                                                                                                                                                                                                                                                                                                                                                                                                                                                                                                                                                                                                                                                                                                                                                                                                                                                                                                                                                                                                                                                                                                                                                                                                    </td><td>First off let me say that the 1 Island per Switch argument is completely invalid. All the previous entries have had this limitation and people are only just getting upset about it now. Population: Growing had only one town per memory card. Wild World only had one town per cartridge. City Folk had only one town per system. And New Leaf had only one town per cartridge. Out of all theFirst off let me say that the 1 Island per Switch argument is completely invalid. All the previous entries have had this limitation and people are only just getting upset about it now. Population: Growing had only one town per memory card. Wild World only had one town per cartridge. City Folk had only one town per system. And New Leaf had only one town per cartridge. Out of all the negative reviews on this site (142 at the time of this review), only about 20-30 of them have actual valid criticisms about the game.Now enough of that.This game is honestly a wonder to play, its truly amazing how unique and fun it is and is definitely a step up from its predecessors. The graphics and sound are phenomenal. The game play is amazing. The way the game just manages to just completely soothe you and take you away from your surroundings is completely mind boggling. It's almost like the game hypnotizes you, keeping you completely focused on whats going on in the game.The only reason I don't rate this a 10 is because some of the loading times do get rather excessive (40 seconds to load up the mailbox, however this was on only one occasion and I believe it was an isolated incident). Some of the progression is really weird and it took me a second to actually figure out what to do and unlock all the tools and whatnot. I am mildly disappointed that they don't let you explore the entirety of the island right away but I actually believe its necessary to help teach new players how to play the game before completely letting go of their hands and leaving them free to their devices. Also I do agree that the couch co-op does kinda suck in that its incredibly limiting for player 2. Don't listen to the 1 Island per Switch people, imo it isn't really a valid reason for rating the game a 0 out of 10 since its always been this way. Hope this helps!… Expand</td><td>3/22/20                                                                                                                                                                                                                                                                                                                                                                                                                                                                                                                                                                                                                                                                                                                                                                                                                                                                                                                                                                                                                                                                                                                                                                                                                                                                                                                                                                                                                                                                                                                                                                                                                                                                                                                                                                                                                                                                                                                                                                                                                                                                                                                                                                                                                                                                                                                           </td></tr>\n",
       "\t<tr><td> 8                                                                                                                                                                                                                                                                                                                                                                                                                                                                                                                                                                                                                                                                                                                                                                                                                                                                                                                                                                                                                                                                                                                                                                                                                                                                                                                                                                                                                                                                                                                                                                                                                                                                                                                                                                                                                                                                                                                                                                                                                                                                                                                                                                                                                                                                                                                                </td><td>alpharin                                                                                                                                                                                                                                                                                                                                                                                                                                                                                                                                                                                                                                                                                                                                                                                                                                                                                                                                                                                                                                                                                                                                                                                                                                                                                                                                                                                                                                                                                                                                                                                                                                                                                                                                                                                                                                                                                                                                                                                                                                                                                                                                                                                                                                                                                                                          </td><td>why one island? and why not a speaker doesn't make any things? but i love timmy's paws!! and the game is very addictive                                                                                                                                                                                                                                                                                                                                                                                                                                                                                                                                                                                                                                                                                                                                                                                                                                                                                                                                                                                                                                                                                                                                                                                                                                                                                                                                                                                                                                                                                                                                                                                                                                                                                                                                                                                                                                                                                                                                                                                                                                                                                                                                                                                                           </td><td>3/22/20                                                                                                                                                                                                                                                                                                                                                                                                                                                                                                                                                                                                                                                                                                                                                                                                                                                                                                                                                                                                                                                                                                                                                                                                                                                                                                                                                                                                                                                                                                                                                                                                                                                                                                                                                                                                                                                                                                                                                                                                                                                                                                                                                                                                                                                                                                                           </td></tr>\n",
       "</tbody>\n",
       "</table>\n"
      ],
      "text/latex": [
       "\\begin{tabular}{r|llll}\n",
       " grade & user\\_name & text & date\\\\\n",
       "\\hline\n",
       "\t  8                                                                                                                                                                                                                                                                                                                                                                                                                                                                                                                                                                                                                                                                                                                                                                                                                                                                                                                                                                                                                                                                                                                                                                                                                                                                                                                                                                                                                                                                                                                                                                                                                                                                                                                                                                                                                                                                                                                                                                                                                                                                                                                                                                                                                                                                                                                                 & Jjdm11                                                                                                                                                                                                                                                                                                                                                                                                                                                                                                                                                                                                                                                                                                                                                                                                                                                                                                                                                                                                                                                                                                                                                                                                                                                                                                                                                                                                                                                                                                                                                                                                                                                                                                                                                                                                                                                                                                                                                                                                                                                                                                                                                                                                                                                                                                                             & This review contains spoilers, click expand to view.                                                                                            Animal crossing new horizons is a brilliant return after the disappointment that was amiibo festival.This game has you start on a desert island where you live your life.Nook miles are a new addition that makes and breaks the game at the same time,the game has things to work towards something previous entries lacked this is fun however it can get grindy and greatly limit freedom with things locked behind nook walls that ought to be unlocked.This game has it’s polishing issues and bafflingly poor implementation of some ideas life travelling to new islands.The loading times are some of the worst in a video game 1-2 minutes the standard this is to load some of the best visuals in a switch game it looks like ps5 or even pc how this runs on a switch I’m unsure .This game has the foundation of an excellent game but falls short due to a lack of polish despite this ,this is still the best one in the series topping new leaf.… Expand                                                                                                                                                                                                                                                                                                                                                                                                                                                                                                                                                                                                                                                                                                                                                                                                                                                                                                                                                                                                                                                                                                                                                                                                           & 3/22/20                                                                                                                                                                                                                                                                                                                                                                                                                                                                                                                                                                                                                                                                                                                                                                                                                                                                                                                                                                                                                                                                                                                                                                                                                                                                                                                                                                                                                                                                                                                                                                                                                                                                                                                                                                                                                                                                                                                                                                                                                                                                                                                                                                                                                                                                                                                           \\\\\n",
       "\t 10                                                                                                                                                                                                                                                                                                                                                                                                                                                                                                                                                                                                                                                                                                                                                                                                                                                                                                                                                                                                                                                                                                                                                                                                                                                                                                                                                                                                                                                                                                                                                                                                                                                                                                                                                                                                                                                                                                                                                                                                                                                                                                                                                                                                                                                                                                                                 & lunareclipse122                                                                                                                                                                                                                                                                                                                                                                                                                                                                                                                                                                                                                                                                                                                                                                                                                                                                                                                                                                                                                                                                                                                                                                                                                                                                                                                                                                                                                                                                                                                                                                                                                                                                                                                                                                                                                                                                                                                                                                                                                                                                                                                                                                                                                                                                                                                    & This game is probably my favorite game and I’ve only had it for 2 days.  I could not recommend this game enough, please if you have a switch go out and buy this game it is amazing!                                                                                                                                                                                                                                                                                                                                                                                                                                                                                                                                                                                                                                                                                                                                                                                                                                                                                                                                                                                                                                                                                                                                                                                                                                                                                                                                                                                                                                                                                                                                                                                                                                                                                                                                                                                                                                                                                                                                                                                                                                                                                                                                               & 3/22/20                                                                                                                                                                                                                                                                                                                                                                                                                                                                                                                                                                                                                                                                                                                                                                                                                                                                                                                                                                                                                                                                                                                                                                                                                                                                                                                                                                                                                                                                                                                                                                                                                                                                                                                                                                                                                                                                                                                                                                                                                                                                                                                                                                                                                                                                                                                           \\\\\n",
       "\t  9                                                                                                                                                                                                                                                                                                                                                                                                                                                                                                                                                                                                                                                                                                                                                                                                                                                                                                                                                                                                                                                                                                                                                                                                                                                                                                                                                                                                                                                                                                                                                                                                                                                                                                                                                                                                                                                                                                                                                                                                                                                                                                                                                                                                                                                                                                                                 & Sage\\_the\\_Husky                                                                                                                                                                                                                                                                                                                                                                                                                                                                                                                                                                                                                                                                                                                                                                                                                                                                                                                                                                                                                                                                                                                                                                                                                                                                                                                                                                                                                                                                                                                                                                                                                                                                                                                                                                                                                                                                                                                                                                                                                                                                                                                                                                                                                                                                                                                 & First off let me say that the 1 Island per Switch argument is completely invalid. All the previous entries have had this limitation and people are only just getting upset about it now. Population: Growing had only one town per memory card. Wild World only had one town per cartridge. City Folk had only one town per system. And New Leaf had only one town per cartridge. Out of all theFirst off let me say that the 1 Island per Switch argument is completely invalid. All the previous entries have had this limitation and people are only just getting upset about it now. Population: Growing had only one town per memory card. Wild World only had one town per cartridge. City Folk had only one town per system. And New Leaf had only one town per cartridge. Out of all the negative reviews on this site (142 at the time of this review), only about 20-30 of them have actual valid criticisms about the game.Now enough of that.This game is honestly a wonder to play, its truly amazing how unique and fun it is and is definitely a step up from its predecessors. The graphics and sound are phenomenal. The game play is amazing. The way the game just manages to just completely soothe you and take you away from your surroundings is completely mind boggling. It's almost like the game hypnotizes you, keeping you completely focused on whats going on in the game.The only reason I don't rate this a 10 is because some of the loading times do get rather excessive (40 seconds to load up the mailbox, however this was on only one occasion and I believe it was an isolated incident). Some of the progression is really weird and it took me a second to actually figure out what to do and unlock all the tools and whatnot. I am mildly disappointed that they don't let you explore the entirety of the island right away but I actually believe its necessary to help teach new players how to play the game before completely letting go of their hands and leaving them free to their devices. Also I do agree that the couch co-op does kinda suck in that its incredibly limiting for player 2. Don't listen to the 1 Island per Switch people, imo it isn't really a valid reason for rating the game a 0 out of 10 since its always been this way. Hope this helps!… Expand & 3/22/20                                                                                                                                                                                                                                                                                                                                                                                                                                                                                                                                                                                                                                                                                                                                                                                                                                                                                                                                                                                                                                                                                                                                                                                                                                                                                                                                                                                                                                                                                                                                                                                                                                                                                                                                                                                                                                                                                                                                                                                                                                                                                                                                                                                                                                                                                                                           \\\\\n",
       "\t  8                                                                                                                                                                                                                                                                                                                                                                                                                                                                                                                                                                                                                                                                                                                                                                                                                                                                                                                                                                                                                                                                                                                                                                                                                                                                                                                                                                                                                                                                                                                                                                                                                                                                                                                                                                                                                                                                                                                                                                                                                                                                                                                                                                                                                                                                                                                                 & alpharin                                                                                                                                                                                                                                                                                                                                                                                                                                                                                                                                                                                                                                                                                                                                                                                                                                                                                                                                                                                                                                                                                                                                                                                                                                                                                                                                                                                                                                                                                                                                                                                                                                                                                                                                                                                                                                                                                                                                                                                                                                                                                                                                                                                                                                                                                                                           & why one island? and why not a speaker doesn't make any things? but i love timmy's paws!! and the game is very addictive                                                                                                                                                                                                                                                                                                                                                                                                                                                                                                                                                                                                                                                                                                                                                                                                                                                                                                                                                                                                                                                                                                                                                                                                                                                                                                                                                                                                                                                                                                                                                                                                                                                                                                                                                                                                                                                                                                                                                                                                                                                                                                                                                                                                            & 3/22/20                                                                                                                                                                                                                                                                                                                                                                                                                                                                                                                                                                                                                                                                                                                                                                                                                                                                                                                                                                                                                                                                                                                                                                                                                                                                                                                                                                                                                                                                                                                                                                                                                                                                                                                                                                                                                                                                                                                                                                                                                                                                                                                                                                                                                                                                                                                           \\\\\n",
       "\\end{tabular}\n"
      ],
      "text/markdown": [
       "\n",
       "| grade | user_name | text | date |\n",
       "|---|---|---|---|\n",
       "|  8                                                                                                                                                                                                                                                                                                                                                                                                                                                                                                                                                                                                                                                                                                                                                                                                                                                                                                                                                                                                                                                                                                                                                                                                                                                                                                                                                                                                                                                                                                                                                                                                                                                                                                                                                                                                                                                                                                                                                                                                                                                                                                                                                                                                                                                                                                                                 | Jjdm11                                                                                                                                                                                                                                                                                                                                                                                                                                                                                                                                                                                                                                                                                                                                                                                                                                                                                                                                                                                                                                                                                                                                                                                                                                                                                                                                                                                                                                                                                                                                                                                                                                                                                                                                                                                                                                                                                                                                                                                                                                                                                                                                                                                                                                                                                                                             | This review contains spoilers, click expand to view.                                                                                            Animal crossing new horizons is a brilliant return after the disappointment that was amiibo festival.This game has you start on a desert island where you live your life.Nook miles are a new addition that makes and breaks the game at the same time,the game has things to work towards something previous entries lacked this is fun however it can get grindy and greatly limit freedom with things locked behind nook walls that ought to be unlocked.This game has it’s polishing issues and bafflingly poor implementation of some ideas life travelling to new islands.The loading times are some of the worst in a video game 1-2 minutes the standard this is to load some of the best visuals in a switch game it looks like ps5 or even pc how this runs on a switch I’m unsure .This game has the foundation of an excellent game but falls short due to a lack of polish despite this ,this is still the best one in the series topping new leaf.… Expand                                                                                                                                                                                                                                                                                                                                                                                                                                                                                                                                                                                                                                                                                                                                                                                                                                                                                                                                                                                                                                                                                                                                                                                                           | 3/22/20                                                                                                                                                                                                                                                                                                                                                                                                                                                                                                                                                                                                                                                                                                                                                                                                                                                                                                                                                                                                                                                                                                                                                                                                                                                                                                                                                                                                                                                                                                                                                                                                                                                                                                                                                                                                                                                                                                                                                                                                                                                                                                                                                                                                                                                                                                                            |\n",
       "| 10                                                                                                                                                                                                                                                                                                                                                                                                                                                                                                                                                                                                                                                                                                                                                                                                                                                                                                                                                                                                                                                                                                                                                                                                                                                                                                                                                                                                                                                                                                                                                                                                                                                                                                                                                                                                                                                                                                                                                                                                                                                                                                                                                                                                                                                                                                                                 | lunareclipse122                                                                                                                                                                                                                                                                                                                                                                                                                                                                                                                                                                                                                                                                                                                                                                                                                                                                                                                                                                                                                                                                                                                                                                                                                                                                                                                                                                                                                                                                                                                                                                                                                                                                                                                                                                                                                                                                                                                                                                                                                                                                                                                                                                                                                                                                                                                    | This game is probably my favorite game and I’ve only had it for 2 days.  I could not recommend this game enough, please if you have a switch go out and buy this game it is amazing!                                                                                                                                                                                                                                                                                                                                                                                                                                                                                                                                                                                                                                                                                                                                                                                                                                                                                                                                                                                                                                                                                                                                                                                                                                                                                                                                                                                                                                                                                                                                                                                                                                                                                                                                                                                                                                                                                                                                                                                                                                                                                                                                               | 3/22/20                                                                                                                                                                                                                                                                                                                                                                                                                                                                                                                                                                                                                                                                                                                                                                                                                                                                                                                                                                                                                                                                                                                                                                                                                                                                                                                                                                                                                                                                                                                                                                                                                                                                                                                                                                                                                                                                                                                                                                                                                                                                                                                                                                                                                                                                                                                            |\n",
       "|  9                                                                                                                                                                                                                                                                                                                                                                                                                                                                                                                                                                                                                                                                                                                                                                                                                                                                                                                                                                                                                                                                                                                                                                                                                                                                                                                                                                                                                                                                                                                                                                                                                                                                                                                                                                                                                                                                                                                                                                                                                                                                                                                                                                                                                                                                                                                                 | Sage_the_Husky                                                                                                                                                                                                                                                                                                                                                                                                                                                                                                                                                                                                                                                                                                                                                                                                                                                                                                                                                                                                                                                                                                                                                                                                                                                                                                                                                                                                                                                                                                                                                                                                                                                                                                                                                                                                                                                                                                                                                                                                                                                                                                                                                                                                                                                                                                                     | First off let me say that the 1 Island per Switch argument is completely invalid. All the previous entries have had this limitation and people are only just getting upset about it now. Population: Growing had only one town per memory card. Wild World only had one town per cartridge. City Folk had only one town per system. And New Leaf had only one town per cartridge. Out of all theFirst off let me say that the 1 Island per Switch argument is completely invalid. All the previous entries have had this limitation and people are only just getting upset about it now. Population: Growing had only one town per memory card. Wild World only had one town per cartridge. City Folk had only one town per system. And New Leaf had only one town per cartridge. Out of all the negative reviews on this site (142 at the time of this review), only about 20-30 of them have actual valid criticisms about the game.Now enough of that.This game is honestly a wonder to play, its truly amazing how unique and fun it is and is definitely a step up from its predecessors. The graphics and sound are phenomenal. The game play is amazing. The way the game just manages to just completely soothe you and take you away from your surroundings is completely mind boggling. It's almost like the game hypnotizes you, keeping you completely focused on whats going on in the game.The only reason I don't rate this a 10 is because some of the loading times do get rather excessive (40 seconds to load up the mailbox, however this was on only one occasion and I believe it was an isolated incident). Some of the progression is really weird and it took me a second to actually figure out what to do and unlock all the tools and whatnot. I am mildly disappointed that they don't let you explore the entirety of the island right away but I actually believe its necessary to help teach new players how to play the game before completely letting go of their hands and leaving them free to their devices. Also I do agree that the couch co-op does kinda suck in that its incredibly limiting for player 2. Don't listen to the 1 Island per Switch people, imo it isn't really a valid reason for rating the game a 0 out of 10 since its always been this way. Hope this helps!… Expand | 3/22/20                                                                                                                                                                                                                                                                                                                                                                                                                                                                                                                                                                                                                                                                                                                                                                                                                                                                                                                                                                                                                                                                                                                                                                                                                                                                                                                                                                                                                                                                                                                                                                                                                                                                                                                                                                                                                                                                                                                                                                                                                                                                                                                                                                                                                                                                                                                            |\n",
       "|  8                                                                                                                                                                                                                                                                                                                                                                                                                                                                                                                                                                                                                                                                                                                                                                                                                                                                                                                                                                                                                                                                                                                                                                                                                                                                                                                                                                                                                                                                                                                                                                                                                                                                                                                                                                                                                                                                                                                                                                                                                                                                                                                                                                                                                                                                                                                                 | alpharin                                                                                                                                                                                                                                                                                                                                                                                                                                                                                                                                                                                                                                                                                                                                                                                                                                                                                                                                                                                                                                                                                                                                                                                                                                                                                                                                                                                                                                                                                                                                                                                                                                                                                                                                                                                                                                                                                                                                                                                                                                                                                                                                                                                                                                                                                                                           | why one island? and why not a speaker doesn't make any things? but i love timmy's paws!! and the game is very addictive                                                                                                                                                                                                                                                                                                                                                                                                                                                                                                                                                                                                                                                                                                                                                                                                                                                                                                                                                                                                                                                                                                                                                                                                                                                                                                                                                                                                                                                                                                                                                                                                                                                                                                                                                                                                                                                                                                                                                                                                                                                                                                                                                                                                            | 3/22/20                                                                                                                                                                                                                                                                                                                                                                                                                                                                                                                                                                                                                                                                                                                                                                                                                                                                                                                                                                                                                                                                                                                                                                                                                                                                                                                                                                                                                                                                                                                                                                                                                                                                                                                                                                                                                                                                                                                                                                                                                                                                                                                                                                                                                                                                                                                            |\n",
       "\n"
      ],
      "text/plain": [
       "  grade user_name      \n",
       "1  8    Jjdm11         \n",
       "2 10    lunareclipse122\n",
       "3  9    Sage_the_Husky \n",
       "4  8    alpharin       \n",
       "  text                                                                                                                                                                                                                                                                                                                                                                                                                                                                                                                                                                                                                                                                                                                                                                                                                                                                                                                                                                                                                                                                                                                                                                                                                                                                                                                                                                                                                                                                                                                                                                                                                                                                                                                                                                                                                                                                                                                                                                                                                                                                                                                                                                                                                                                                                                                              \n",
       "1 This review contains spoilers, click expand to view.                                                                                            Animal crossing new horizons is a brilliant return after the disappointment that was amiibo festival.This game has you start on a desert island where you live your life.Nook miles are a new addition that makes and breaks the game at the same time,the game has things to work towards something previous entries lacked this is fun however it can get grindy and greatly limit freedom with things locked behind nook walls that ought to be unlocked.This game has it’s polishing issues and bafflingly poor implementation of some ideas life travelling to new islands.The loading times are some of the worst in a video game 1-2 minutes the standard this is to load some of the best visuals in a switch game it looks like ps5 or even pc how this runs on a switch I’m unsure .This game has the foundation of an excellent game but falls short due to a lack of polish despite this ,this is still the best one in the series topping new leaf.… Expand                                                                                                                                                                                                                                                                                                                                                                                                                                                                                                                                                                                                                                                                                                                                                                                                                                                                                                                                                                                                                                                                                                                                                                                                          \n",
       "2 This game is probably my favorite game and I’ve only had it for 2 days.  I could not recommend this game enough, please if you have a switch go out and buy this game it is amazing!                                                                                                                                                                                                                                                                                                                                                                                                                                                                                                                                                                                                                                                                                                                                                                                                                                                                                                                                                                                                                                                                                                                                                                                                                                                                                                                                                                                                                                                                                                                                                                                                                                                                                                                                                                                                                                                                                                                                                                                                                                                                                                                                              \n",
       "3 First off let me say that the 1 Island per Switch argument is completely invalid. All the previous entries have had this limitation and people are only just getting upset about it now. Population: Growing had only one town per memory card. Wild World only had one town per cartridge. City Folk had only one town per system. And New Leaf had only one town per cartridge. Out of all theFirst off let me say that the 1 Island per Switch argument is completely invalid. All the previous entries have had this limitation and people are only just getting upset about it now. Population: Growing had only one town per memory card. Wild World only had one town per cartridge. City Folk had only one town per system. And New Leaf had only one town per cartridge. Out of all the negative reviews on this site (142 at the time of this review), only about 20-30 of them have actual valid criticisms about the game.Now enough of that.This game is honestly a wonder to play, its truly amazing how unique and fun it is and is definitely a step up from its predecessors. The graphics and sound are phenomenal. The game play is amazing. The way the game just manages to just completely soothe you and take you away from your surroundings is completely mind boggling. It's almost like the game hypnotizes you, keeping you completely focused on whats going on in the game.The only reason I don't rate this a 10 is because some of the loading times do get rather excessive (40 seconds to load up the mailbox, however this was on only one occasion and I believe it was an isolated incident). Some of the progression is really weird and it took me a second to actually figure out what to do and unlock all the tools and whatnot. I am mildly disappointed that they don't let you explore the entirety of the island right away but I actually believe its necessary to help teach new players how to play the game before completely letting go of their hands and leaving them free to their devices. Also I do agree that the couch co-op does kinda suck in that its incredibly limiting for player 2. Don't listen to the 1 Island per Switch people, imo it isn't really a valid reason for rating the game a 0 out of 10 since its always been this way. Hope this helps!… Expand\n",
       "4 why one island? and why not a speaker doesn't make any things? but i love timmy's paws!! and the game is very addictive                                                                                                                                                                                                                                                                                                                                                                                                                                                                                                                                                                                                                                                                                                                                                                                                                                                                                                                                                                                                                                                                                                                                                                                                                                                                                                                                                                                                                                                                                                                                                                                                                                                                                                                                                                                                                                                                                                                                                                                                                                                                                                                                                                                                           \n",
       "  date   \n",
       "1 3/22/20\n",
       "2 3/22/20\n",
       "3 3/22/20\n",
       "4 3/22/20"
      ]
     },
     "metadata": {},
     "output_type": "display_data"
    }
   ],
   "source": [
    "big_fans = filter(reviews_clean, between(grade, 8, 10))\n",
    "tail(big_fans, 4)"
   ]
  },
  {
   "cell_type": "code",
   "execution_count": 19,
   "metadata": {
    "slideshow": {
     "slide_type": "slide"
    }
   },
   "outputs": [
    {
     "data": {
      "text/html": [
       "<table>\n",
       "<thead><tr><th scope=col>grade</th><th scope=col>user_name</th><th scope=col>text</th><th scope=col>date</th></tr></thead>\n",
       "<tbody>\n",
       "\t<tr><td> 9                                                                                                                                                                                                                                                                                                                                                                                                                                                                                                                                                                                                                                                                                                                                                                                                                                                                                                                </td><td>septimal                                                                                                                                                                                                                                                                                                                                                                                                                                                                                                                                                                                                                                                                                                                                                                                                                                                                                                          </td><td>I absolutely love this game; however, both me and my brother would like to have our own islands but this is not possible without the purchase of another switch. This is extremely disappointing as Nintendo intentionally did this; they could have just done the save files similar to games like BOTW or SMO, but they didn't. So, despite this being one of my favorite games this year; I feelI absolutely love this game; however, both me and my brother would like to have our own islands but this is not possible without the purchase of another switch. This is extremely disappointing as Nintendo intentionally did this; they could have just done the save files similar to games like BOTW or SMO, but they didn't. So, despite this being one of my favorite games this year; I feel Nintendo made a poor decision in forcing players to buy multiple switches to have multiple islands.… Expand</td><td>3/20/20                                                                                                                                                                                                                                                                                                                                                                                                                                                                                                                                                                                                                                                                                                                                                                                                                                                                                                           </td></tr>\n",
       "\t<tr><td>10                                                                                                                                                                                                                                                                                                                                                                                                                                                                                                                                                                                                                                                                                                                                                                                                                                                                                                                </td><td>AnkIMonkey                                                                                                                                                                                                                                                                                                                                                                                                                                                                                                                                                                                                                                                                                                                                                                                                                                                                                                        </td><td>As this was my first Animal Crossing, I had my hopes high. Perhaps even higher than reasonable. But thankfully, months of hype and a pre-order didn't go to waste, as this is already one of my favorite switch games. Thanks, Nintendo, for another great game!                                                                                                                                                                                                                                                                                                                                                                                                                                                                                                                                                                                                                                                  </td><td>3/20/20                                                                                                                                                                                                                                                                                                                                                                                                                                                                                                                                                                                                                                                                                                                                                                                                                                                                                                           </td></tr>\n",
       "\t<tr><td>10                                                                                                                                                                                                                                                                                                                                                                                                                                                                                                                                                                                                                                                                                                                                                                                                                                                                                                                </td><td>lunareclipse122                                                                                                                                                                                                                                                                                                                                                                                                                                                                                                                                                                                                                                                                                                                                                                                                                                                                                                   </td><td>This game is probably my favorite game and I’ve only had it for 2 days.  I could not recommend this game enough, please if you have a switch go out and buy this game it is amazing!                                                                                                                                                                                                                                                                                                                                                                                                                                                                                                                                                                                                                                                                                                                              </td><td>3/22/20                                                                                                                                                                                                                                                                                                                                                                                                                                                                                                                                                                                                                                                                                                                                                                                                                                                                                                           </td></tr>\n",
       "</tbody>\n",
       "</table>\n"
      ],
      "text/latex": [
       "\\begin{tabular}{r|llll}\n",
       " grade & user\\_name & text & date\\\\\n",
       "\\hline\n",
       "\t  9                                                                                                                                                                                                                                                                                                                                                                                                                                                                                                                                                                                                                                                                                                                                                                                                                                                                                                                 & septimal                                                                                                                                                                                                                                                                                                                                                                                                                                                                                                                                                                                                                                                                                                                                                                                                                                                                                                           & I absolutely love this game; however, both me and my brother would like to have our own islands but this is not possible without the purchase of another switch. This is extremely disappointing as Nintendo intentionally did this; they could have just done the save files similar to games like BOTW or SMO, but they didn't. So, despite this being one of my favorite games this year; I feelI absolutely love this game; however, both me and my brother would like to have our own islands but this is not possible without the purchase of another switch. This is extremely disappointing as Nintendo intentionally did this; they could have just done the save files similar to games like BOTW or SMO, but they didn't. So, despite this being one of my favorite games this year; I feel Nintendo made a poor decision in forcing players to buy multiple switches to have multiple islands.… Expand & 3/20/20                                                                                                                                                                                                                                                                                                                                                                                                                                                                                                                                                                                                                                                                                                                                                                                                                                                                                                           \\\\\n",
       "\t 10                                                                                                                                                                                                                                                                                                                                                                                                                                                                                                                                                                                                                                                                                                                                                                                                                                                                                                                 & AnkIMonkey                                                                                                                                                                                                                                                                                                                                                                                                                                                                                                                                                                                                                                                                                                                                                                                                                                                                                                         & As this was my first Animal Crossing, I had my hopes high. Perhaps even higher than reasonable. But thankfully, months of hype and a pre-order didn't go to waste, as this is already one of my favorite switch games. Thanks, Nintendo, for another great game!                                                                                                                                                                                                                                                                                                                                                                                                                                                                                                                                                                                                                                                   & 3/20/20                                                                                                                                                                                                                                                                                                                                                                                                                                                                                                                                                                                                                                                                                                                                                                                                                                                                                                           \\\\\n",
       "\t 10                                                                                                                                                                                                                                                                                                                                                                                                                                                                                                                                                                                                                                                                                                                                                                                                                                                                                                                 & lunareclipse122                                                                                                                                                                                                                                                                                                                                                                                                                                                                                                                                                                                                                                                                                                                                                                                                                                                                                                    & This game is probably my favorite game and I’ve only had it for 2 days.  I could not recommend this game enough, please if you have a switch go out and buy this game it is amazing!                                                                                                                                                                                                                                                                                                                                                                                                                                                                                                                                                                                                                                                                                                                               & 3/22/20                                                                                                                                                                                                                                                                                                                                                                                                                                                                                                                                                                                                                                                                                                                                                                                                                                                                                                           \\\\\n",
       "\\end{tabular}\n"
      ],
      "text/markdown": [
       "\n",
       "| grade | user_name | text | date |\n",
       "|---|---|---|---|\n",
       "|  9                                                                                                                                                                                                                                                                                                                                                                                                                                                                                                                                                                                                                                                                                                                                                                                                                                                                                                                 | septimal                                                                                                                                                                                                                                                                                                                                                                                                                                                                                                                                                                                                                                                                                                                                                                                                                                                                                                           | I absolutely love this game; however, both me and my brother would like to have our own islands but this is not possible without the purchase of another switch. This is extremely disappointing as Nintendo intentionally did this; they could have just done the save files similar to games like BOTW or SMO, but they didn't. So, despite this being one of my favorite games this year; I feelI absolutely love this game; however, both me and my brother would like to have our own islands but this is not possible without the purchase of another switch. This is extremely disappointing as Nintendo intentionally did this; they could have just done the save files similar to games like BOTW or SMO, but they didn't. So, despite this being one of my favorite games this year; I feel Nintendo made a poor decision in forcing players to buy multiple switches to have multiple islands.… Expand | 3/20/20                                                                                                                                                                                                                                                                                                                                                                                                                                                                                                                                                                                                                                                                                                                                                                                                                                                                                                            |\n",
       "| 10                                                                                                                                                                                                                                                                                                                                                                                                                                                                                                                                                                                                                                                                                                                                                                                                                                                                                                                 | AnkIMonkey                                                                                                                                                                                                                                                                                                                                                                                                                                                                                                                                                                                                                                                                                                                                                                                                                                                                                                         | As this was my first Animal Crossing, I had my hopes high. Perhaps even higher than reasonable. But thankfully, months of hype and a pre-order didn't go to waste, as this is already one of my favorite switch games. Thanks, Nintendo, for another great game!                                                                                                                                                                                                                                                                                                                                                                                                                                                                                                                                                                                                                                                   | 3/20/20                                                                                                                                                                                                                                                                                                                                                                                                                                                                                                                                                                                                                                                                                                                                                                                                                                                                                                            |\n",
       "| 10                                                                                                                                                                                                                                                                                                                                                                                                                                                                                                                                                                                                                                                                                                                                                                                                                                                                                                                 | lunareclipse122                                                                                                                                                                                                                                                                                                                                                                                                                                                                                                                                                                                                                                                                                                                                                                                                                                                                                                    | This game is probably my favorite game and I’ve only had it for 2 days.  I could not recommend this game enough, please if you have a switch go out and buy this game it is amazing!                                                                                                                                                                                                                                                                                                                                                                                                                                                                                                                                                                                                                                                                                                                               | 3/22/20                                                                                                                                                                                                                                                                                                                                                                                                                                                                                                                                                                                                                                                                                                                                                                                                                                                                                                            |\n",
       "\n"
      ],
      "text/plain": [
       "  grade user_name      \n",
       "1  9    septimal       \n",
       "2 10    AnkIMonkey     \n",
       "3 10    lunareclipse122\n",
       "  text                                                                                                                                                                                                                                                                                                                                                                                                                                                                                                                                                                                                                                                                                                                                                                                                                                                                                                              \n",
       "1 I absolutely love this game; however, both me and my brother would like to have our own islands but this is not possible without the purchase of another switch. This is extremely disappointing as Nintendo intentionally did this; they could have just done the save files similar to games like BOTW or SMO, but they didn't. So, despite this being one of my favorite games this year; I feelI absolutely love this game; however, both me and my brother would like to have our own islands but this is not possible without the purchase of another switch. This is extremely disappointing as Nintendo intentionally did this; they could have just done the save files similar to games like BOTW or SMO, but they didn't. So, despite this being one of my favorite games this year; I feel Nintendo made a poor decision in forcing players to buy multiple switches to have multiple islands.… Expand\n",
       "2 As this was my first Animal Crossing, I had my hopes high. Perhaps even higher than reasonable. But thankfully, months of hype and a pre-order didn't go to waste, as this is already one of my favorite switch games. Thanks, Nintendo, for another great game!                                                                                                                                                                                                                                                                                                                                                                                                                                                                                                                                                                                                                                                  \n",
       "3 This game is probably my favorite game and I’ve only had it for 2 days.  I could not recommend this game enough, please if you have a switch go out and buy this game it is amazing!                                                                                                                                                                                                                                                                                                                                                                                                                                                                                                                                                                                                                                                                                                                              \n",
       "  date   \n",
       "1 3/20/20\n",
       "2 3/20/20\n",
       "3 3/22/20"
      ]
     },
     "metadata": {},
     "output_type": "display_data"
    }
   ],
   "source": [
    "big_fans[which(str_count(big_fans$text, \"favorite\")>0),]"
   ]
  },
  {
   "cell_type": "markdown",
   "metadata": {
    "slideshow": {
     "slide_type": "slide"
    }
   },
   "source": [
    "**Exercise:** Some reviews in the dataset are incomplete (i.e., they end with \"Expand\"). How many of those are there?"
   ]
  },
  {
   "cell_type": "code",
   "execution_count": 20,
   "metadata": {
    "scrolled": true,
    "slideshow": {
     "slide_type": "slide"
    }
   },
   "outputs": [
    {
     "data": {
      "text/html": [
       "70"
      ],
      "text/latex": [
       "70"
      ],
      "text/markdown": [
       "70"
      ],
      "text/plain": [
       "[1] 70"
      ]
     },
     "metadata": {},
     "output_type": "display_data"
    }
   ],
   "source": [
    "which(str_sub(reviews$text, -6, -1)==\"Expand\") %>% length()"
   ]
  },
  {
   "cell_type": "markdown",
   "metadata": {
    "slideshow": {
     "slide_type": "slide"
    }
   },
   "source": [
    "**Exercise:** Is there a correlation between the length of a review and the grade the reviewer gives? Justify your answer with some kind of plot."
   ]
  },
  {
   "cell_type": "code",
   "execution_count": 32,
   "metadata": {
    "slideshow": {
     "slide_type": "slide"
    }
   },
   "outputs": [
    {
     "data": {
      "text/html": [
       "<table>\n",
       "<caption>A tibble: 3 × 5</caption>\n",
       "<thead>\n",
       "\t<tr><th scope=col>grade</th><th scope=col>user_name</th><th scope=col>text</th><th scope=col>date</th><th scope=col>length</th></tr>\n",
       "\t<tr><th scope=col>&lt;dbl&gt;</th><th scope=col>&lt;chr&gt;</th><th scope=col>&lt;chr&gt;</th><th scope=col>&lt;chr&gt;</th><th scope=col>&lt;dbl&gt;</th></tr>\n",
       "</thead>\n",
       "<tbody>\n",
       "\t<tr><td>4</td><td>mds27272</td><td>My gf started playing before me. No option to create my own island and guys, being the 2nd player to start on a console SUCKS!!!! You miss out on so much that only the 1st player gets in terms of activities, resources, etc. It's absolutely terrible. You have to buy a 2nd console if more than one person in your household wants to get the full game experience. That's unacceptable.                                                                                                                                                                                                                                                                                                                                                                                                                                                                                                                                                                                                                                           </td><td>3/20/20</td><td> 70</td></tr>\n",
       "\t<tr><td>5</td><td>lolo2178</td><td>While the game itself is great, really relaxing and gorgeous, i can't ignore one thing that ruins the whole experience for me and a lot of other people as seen by the different user reviews.That thing is that you only have 1 island per console. This decision limits to one person being able to enjoy the full experience. It also nukes any creative control of the island, since you haveWhile the game itself is great, really relaxing and gorgeous, i can't ignore one thing that ruins the whole experience for me and a lot of other people as seen by the different user reviews.That thing is that you only have 1 island per console. This decision limits to one person being able to enjoy the full experience. It also nukes any creative control of the island, since you have the other usershouse and furniture. I hope nintendo can soon fix this big issue, because for now, this killed any intentions i had to play the game.… Expand                                                                         </td><td>3/20/20</td><td>167</td></tr>\n",
       "\t<tr><td>0</td><td>Roachant</td><td>My wife and I were looking forward to playing this game when it released. I bought it, I let her play first she made an island and played for a bit. Then I decided to play only to discover that Nintendo only allows one island per switch! Not only that, the second player cannot build anything on the island and tool building is considerably harder to do. So, if you have more than one personMy wife and I were looking forward to playing this game when it released. I bought it, I let her play first she made an island and played for a bit. Then I decided to play only to discover that Nintendo only allows one island per switch! Not only that, the second player cannot build anything on the island and tool building is considerably harder to do. So, if you have more than one person in your home that wants to play the game, you need two switches. Worst decision I have ever seen, this even beats EA.Congratulations Nintendo, you have officially become the worst video game company this year!… Expand</td><td>3/20/20</td><td>185</td></tr>\n",
       "</tbody>\n",
       "</table>\n"
      ],
      "text/latex": [
       "A tibble: 3 × 5\n",
       "\\begin{tabular}{lllll}\n",
       " grade & user\\_name & text & date & length\\\\\n",
       " <dbl> & <chr> & <chr> & <chr> & <dbl>\\\\\n",
       "\\hline\n",
       "\t 4 & mds27272 & My gf started playing before me. No option to create my own island and guys, being the 2nd player to start on a console SUCKS!!!! You miss out on so much that only the 1st player gets in terms of activities, resources, etc. It's absolutely terrible. You have to buy a 2nd console if more than one person in your household wants to get the full game experience. That's unacceptable.                                                                                                                                                                                                                                                                                                                                                                                                                                                                                                                                                                                                                                            & 3/20/20 &  70\\\\\n",
       "\t 5 & lolo2178 & While the game itself is great, really relaxing and gorgeous, i can't ignore one thing that ruins the whole experience for me and a lot of other people as seen by the different user reviews.That thing is that you only have 1 island per console. This decision limits to one person being able to enjoy the full experience. It also nukes any creative control of the island, since you haveWhile the game itself is great, really relaxing and gorgeous, i can't ignore one thing that ruins the whole experience for me and a lot of other people as seen by the different user reviews.That thing is that you only have 1 island per console. This decision limits to one person being able to enjoy the full experience. It also nukes any creative control of the island, since you have the other usershouse and furniture. I hope nintendo can soon fix this big issue, because for now, this killed any intentions i had to play the game.… Expand                                                                          & 3/20/20 & 167\\\\\n",
       "\t 0 & Roachant & My wife and I were looking forward to playing this game when it released. I bought it, I let her play first she made an island and played for a bit. Then I decided to play only to discover that Nintendo only allows one island per switch! Not only that, the second player cannot build anything on the island and tool building is considerably harder to do. So, if you have more than one personMy wife and I were looking forward to playing this game when it released. I bought it, I let her play first she made an island and played for a bit. Then I decided to play only to discover that Nintendo only allows one island per switch! Not only that, the second player cannot build anything on the island and tool building is considerably harder to do. So, if you have more than one person in your home that wants to play the game, you need two switches. Worst decision I have ever seen, this even beats EA.Congratulations Nintendo, you have officially become the worst video game company this year!… Expand & 3/20/20 & 185\\\\\n",
       "\\end{tabular}\n"
      ],
      "text/markdown": [
       "\n",
       "A tibble: 3 × 5\n",
       "\n",
       "| grade &lt;dbl&gt; | user_name &lt;chr&gt; | text &lt;chr&gt; | date &lt;chr&gt; | length &lt;dbl&gt; |\n",
       "|---|---|---|---|---|\n",
       "| 4 | mds27272 | My gf started playing before me. No option to create my own island and guys, being the 2nd player to start on a console SUCKS!!!! You miss out on so much that only the 1st player gets in terms of activities, resources, etc. It's absolutely terrible. You have to buy a 2nd console if more than one person in your household wants to get the full game experience. That's unacceptable.                                                                                                                                                                                                                                                                                                                                                                                                                                                                                                                                                                                                                                            | 3/20/20 |  70 |\n",
       "| 5 | lolo2178 | While the game itself is great, really relaxing and gorgeous, i can't ignore one thing that ruins the whole experience for me and a lot of other people as seen by the different user reviews.That thing is that you only have 1 island per console. This decision limits to one person being able to enjoy the full experience. It also nukes any creative control of the island, since you haveWhile the game itself is great, really relaxing and gorgeous, i can't ignore one thing that ruins the whole experience for me and a lot of other people as seen by the different user reviews.That thing is that you only have 1 island per console. This decision limits to one person being able to enjoy the full experience. It also nukes any creative control of the island, since you have the other usershouse and furniture. I hope nintendo can soon fix this big issue, because for now, this killed any intentions i had to play the game.… Expand                                                                          | 3/20/20 | 167 |\n",
       "| 0 | Roachant | My wife and I were looking forward to playing this game when it released. I bought it, I let her play first she made an island and played for a bit. Then I decided to play only to discover that Nintendo only allows one island per switch! Not only that, the second player cannot build anything on the island and tool building is considerably harder to do. So, if you have more than one personMy wife and I were looking forward to playing this game when it released. I bought it, I let her play first she made an island and played for a bit. Then I decided to play only to discover that Nintendo only allows one island per switch! Not only that, the second player cannot build anything on the island and tool building is considerably harder to do. So, if you have more than one person in your home that wants to play the game, you need two switches. Worst decision I have ever seen, this even beats EA.Congratulations Nintendo, you have officially become the worst video game company this year!… Expand | 3/20/20 | 185 |\n",
       "\n"
      ],
      "text/plain": [
       "  grade user_name\n",
       "1 4     mds27272 \n",
       "2 5     lolo2178 \n",
       "3 0     Roachant \n",
       "  text                                                                                                                                                                                                                                                                                                                                                                                                                                                                                                                                                                                                                                                                                                                                                                                                                                                                                                                                                                                                                                    \n",
       "1 My gf started playing before me. No option to create my own island and guys, being the 2nd player to start on a console SUCKS!!!! You miss out on so much that only the 1st player gets in terms of activities, resources, etc. It's absolutely terrible. You have to buy a 2nd console if more than one person in your household wants to get the full game experience. That's unacceptable.                                                                                                                                                                                                                                                                                                                                                                                                                                                                                                                                                                                                                                           \n",
       "2 While the game itself is great, really relaxing and gorgeous, i can't ignore one thing that ruins the whole experience for me and a lot of other people as seen by the different user reviews.That thing is that you only have 1 island per console. This decision limits to one person being able to enjoy the full experience. It also nukes any creative control of the island, since you haveWhile the game itself is great, really relaxing and gorgeous, i can't ignore one thing that ruins the whole experience for me and a lot of other people as seen by the different user reviews.That thing is that you only have 1 island per console. This decision limits to one person being able to enjoy the full experience. It also nukes any creative control of the island, since you have the other usershouse and furniture. I hope nintendo can soon fix this big issue, because for now, this killed any intentions i had to play the game.… Expand                                                                         \n",
       "3 My wife and I were looking forward to playing this game when it released. I bought it, I let her play first she made an island and played for a bit. Then I decided to play only to discover that Nintendo only allows one island per switch! Not only that, the second player cannot build anything on the island and tool building is considerably harder to do. So, if you have more than one personMy wife and I were looking forward to playing this game when it released. I bought it, I let her play first she made an island and played for a bit. Then I decided to play only to discover that Nintendo only allows one island per switch! Not only that, the second player cannot build anything on the island and tool building is considerably harder to do. So, if you have more than one person in your home that wants to play the game, you need two switches. Worst decision I have ever seen, this even beats EA.Congratulations Nintendo, you have officially become the worst video game company this year!… Expand\n",
       "  date    length\n",
       "1 3/20/20  70   \n",
       "2 3/20/20 167   \n",
       "3 3/20/20 185   "
      ]
     },
     "metadata": {},
     "output_type": "display_data"
    }
   ],
   "source": [
    "# we'll use the # of spaces as a proxy for # of words\n",
    "counts = reviews %>% mutate(length = str_count(reviews$text, \" \")+1)\n",
    "counts %>% head(3)"
   ]
  },
  {
   "cell_type": "code",
   "execution_count": 33,
   "metadata": {
    "slideshow": {
     "slide_type": "slide"
    }
   },
   "outputs": [
    {
     "name": "stderr",
     "output_type": "stream",
     "text": [
      "Warning message:\n",
      "“Removed 2799 rows containing non-finite values (stat_boxplot).”\n"
     ]
    },
    {
     "data": {
      "image/png": "[encoded data removed]",
      "text/plain": [
       "plot without title"
      ]
     },
     "metadata": {
      "image/png": {
       "height": 420,
       "width": 420
      }
     },
     "output_type": "display_data"
    }
   ],
   "source": [
    "ggplot(counts) + geom_boxplot(aes(x=as.factor(grade), y=length))"
   ]
  },
  {
   "cell_type": "code",
   "execution_count": null,
   "metadata": {},
   "outputs": [],
   "source": []
  }
 ],
 "metadata": {
  "celltoolbar": "Slideshow",
  "kernelspec": {
   "display_name": "R",
   "language": "R",
   "name": "ir"
  },
  "language_info": {
   "codemirror_mode": "r",
   "file_extension": ".r",
   "mimetype": "text/x-r-source",
   "name": "R",
   "pygments_lexer": "r",
   "version": "4.0.3"
  }
 },
 "nbformat": 4,
 "nbformat_minor": 2
}
