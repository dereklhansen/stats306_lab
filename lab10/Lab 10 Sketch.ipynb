{
 "cells": [
  {
   "cell_type": "markdown",
   "metadata": {},
   "source": [
    "# Lifecycle of a data-analysis"
   ]
  },
  {
   "cell_type": "markdown",
   "metadata": {},
   "source": [
    "         \n",
    "## Wrangle\n",
    "![](https://raw.githubusercontent.com/dereklhansen/stats306_lab/master/lab10/diagrams/data-science-wrangle.png)\n",
    "\n",
    "-  **Import:** Download the data you will be using, along with any materials such as data dictionaries.\n",
    "    -  Keep it in a folder called ```input/``` which is only read and never modified.\n",
    "    -  For your project, we handle most of this for you, but you should do some groundowrk to figure out where the data come from.\n",
    "-  **Tidy:** Manipulate the data so it is tabular and has a coherent structure (c.f. R4DS Ch. 12). \n",
    "-  **Transform:** Filter, select, and join different datasets in the right form for a particular visual and/or model."
   ]
  },
  {
   "cell_type": "markdown",
   "metadata": {},
   "source": [
    "**Exercise**: What is the difference between **tidying** and **transforming**?"
   ]
  },
  {
   "cell_type": "markdown",
   "metadata": {},
   "source": [
    "**Answer**: \n",
    "-  Tidying data does not add or destroy information. The goal is to get data into tibbles that are amenable to data analysis. Data should be tidied once in the beginning of a data analysis, and it should be done independently of your particular research question.\n",
    "-  Transforming data is done once you have a particular question in mind. You may remove irrelevant columns and rows in this step, join together tables that have variables of interest, and create new variables of interest\n",
    "\n",
    "-  In general, functions related to \"tidying\" data are in the \"tidyr\" package, and functions related to \"transforming\" data are in the dplyr package. However, there are cases where you will use dplyr functions when tidying and tidyr functions when transforming"
   ]
  },
  {
   "cell_type": "markdown",
   "metadata": {},
   "source": [
    "   \n",
    "## Exploratory Data Anaylsis\n",
    "\n",
    "![](https://raw.githubusercontent.com/dereklhansen/stats306_lab/master/lab10/diagrams/data-science-explore.png)\n",
    "\n",
    "\n",
    "- Exploratory Data Analysis (EDA) is the process of generating questions, investigating them, and using what we learn to refine questions or ask new ones\n",
    "\n",
    "- In the beginning, the goal is to ask a large number of questions and narrow it down as we learn more about our data.\n",
    "\n",
    "- There isn't a one-size-fits-all solution. EDA requires a bit of creativity and confidence to explore."
   ]
  },
  {
   "cell_type": "markdown",
   "metadata": {},
   "source": [
    "![](https://raw.githubusercontent.com/dereklhansen/stats306_lab/master/lab10/diagrams/data-science.png)\n",
    "\n",
    "\n",
    "-  **Transform:** Filter, select, and join different datasets in the right form for a particular visual and/or model.\n",
    "-  **Visualize:** See relationships in the transformed dataset and decide if it's worth modelling\n",
    "- **Model:** Run a statistical model on the data to perform inference and confirmatory analysis"
   ]
  },
  {
   "cell_type": "markdown",
   "metadata": {},
   "source": [
    "## Basic Questions\n",
    "-  While every dataset is different, basic questions about data come in two forms (R4DS):\n",
    "1.  What type of **variation** occurs within my variables?\n",
    "2.  What type of **covariation** occurs between my two variables?\n",
    "\n",
    "- These guiding principles can keep you on track, but won't be too useful on their own.\n"
   ]
  },
  {
   "cell_type": "markdown",
   "metadata": {},
   "source": [
    "## Communicate\n",
    "\n",
    "![](https://raw.githubusercontent.com/dereklhansen/stats306_lab/master/lab10/diagrams/data-science-communicate.png)\n",
    "\n",
    "- **Communicate:** Publish the successful Transform-Visualize-Model cycles"
   ]
  },
  {
   "cell_type": "markdown",
   "metadata": {},
   "source": [
    "# Final Project"
   ]
  },
  {
   "cell_type": "code",
   "execution_count": 3,
   "metadata": {},
   "outputs": [],
   "source": [
    "## GO OVER PROJECT DESCRIPTION AND RUBRIC WITH CLASS AND ANSWER ANY QUESTIONS"
   ]
  },
  {
   "cell_type": "markdown",
   "metadata": {},
   "source": [
    "-  Being aware of this process on your final project will help keep you organized and efficient\n",
    "-  Moreover, the rubric will evaluate your ability to perform each of these steps."
   ]
  },
  {
   "cell_type": "markdown",
   "metadata": {},
   "source": [
    "# Example Response\n"
   ]
  },
  {
   "cell_type": "markdown",
   "metadata": {},
   "source": [
    "## 1. Introduction"
   ]
  },
  {
   "cell_type": "code",
   "execution_count": 8,
   "metadata": {},
   "outputs": [],
   "source": [
    "# Talk about the dataset, motivate Question 1 below"
   ]
  },
  {
   "cell_type": "markdown",
   "metadata": {},
   "source": [
    "## 2. Package loading, import, and tidying"
   ]
  },
  {
   "cell_type": "markdown",
   "metadata": {},
   "source": [
    "### Packages"
   ]
  },
  {
   "cell_type": "code",
   "execution_count": null,
   "metadata": {},
   "outputs": [],
   "source": [
    "library(tidyverse)\n",
    "library(ggrepel)"
   ]
  },
  {
   "cell_type": "markdown",
   "metadata": {},
   "source": [
    "We use the \"ggrepel\" package to do nice-looking labels on our plots."
   ]
  },
  {
   "cell_type": "markdown",
   "metadata": {},
   "source": [
    "### Import"
   ]
  },
  {
   "cell_type": "code",
   "execution_count": null,
   "metadata": {},
   "outputs": [],
   "source": [
    "# Do the import here"
   ]
  },
  {
   "cell_type": "markdown",
   "metadata": {},
   "source": [
    "### Tidy"
   ]
  },
  {
   "cell_type": "code",
   "execution_count": null,
   "metadata": {},
   "outputs": [],
   "source": [
    "# Do the tidy here"
   ]
  },
  {
   "cell_type": "markdown",
   "metadata": {},
   "source": [
    "## 3. Data Analysis"
   ]
  },
  {
   "cell_type": "markdown",
   "metadata": {},
   "source": [
    "## Question 1: ...\n",
    "\n",
    "Describe the specific question and steps taken here"
   ]
  },
  {
   "cell_type": "code",
   "execution_count": null,
   "metadata": {},
   "outputs": [],
   "source": [
    "## Do some transformation here"
   ]
  },
  {
   "cell_type": "code",
   "execution_count": null,
   "metadata": {},
   "outputs": [],
   "source": [
    "## Do some visualization here"
   ]
  },
  {
   "cell_type": "code",
   "execution_count": null,
   "metadata": {},
   "outputs": [],
   "source": [
    "Explain the visuals "
   ]
  },
  {
   "cell_type": "code",
   "execution_count": 7,
   "metadata": {},
   "outputs": [],
   "source": [
    "## Do a linear regression here (model)"
   ]
  },
  {
   "cell_type": "code",
   "execution_count": null,
   "metadata": {},
   "outputs": [],
   "source": [
    "Explain the model and answers to this question"
   ]
  },
  {
   "cell_type": "markdown",
   "metadata": {},
   "source": [
    "### 4. Conclusion"
   ]
  },
  {
   "cell_type": "code",
   "execution_count": 9,
   "metadata": {},
   "outputs": [],
   "source": [
    "# Give an answer to the question, reflect, give some ideas of future work to be done."
   ]
  }
 ],
 "metadata": {
  "kernelspec": {
   "display_name": "R",
   "language": "R",
   "name": "ir"
  },
  "language_info": {
   "codemirror_mode": "r",
   "file_extension": ".r",
   "mimetype": "text/x-r-source",
   "name": "R",
   "pygments_lexer": "r",
   "version": "4.0.3"
  }
 },
 "nbformat": 4,
 "nbformat_minor": 4
}
